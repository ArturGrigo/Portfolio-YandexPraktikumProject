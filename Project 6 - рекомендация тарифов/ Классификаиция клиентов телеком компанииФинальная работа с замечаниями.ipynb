{
 "cells": [
  {
   "cell_type": "markdown",
   "metadata": {},
   "source": [
    "# Рекомендация тарифов"
   ]
  },
  {
   "cell_type": "markdown",
   "metadata": {},
   "source": [
    "В моем распоряжении данные о поведении клиентов, которые уже перешли на эти тарифы. Нужно построить модель для задачи классификации, которая выберет подходящий тариф. Предобработка данных не понадобится — она уже сделана.\n",
    "\n",
    "**Примечание:** Постройте модель с максимально большим значением *accuracy*. Чтобы сдать проект успешно, нужно довести долю правильных ответов по крайней мере до 0.75. Проверьте *accuracy* на тестовой выборке самостоятельно."
   ]
  },
  {
   "cell_type": "markdown",
   "metadata": {},
   "source": [
    "## Откроем и изучим файл"
   ]
  },
  {
   "cell_type": "code",
   "execution_count": 1,
   "metadata": {},
   "outputs": [],
   "source": [
    "import pandas as pd\n",
    "from sklearn.metrics import accuracy_score # проверяет качество\n",
    "from sklearn.tree import DecisionTreeRegressor # модель дерево решений, это можно было удалить \n",
    "from sklearn.ensemble import RandomForestClassifier # модель лес\n",
    "from sklearn.linear_model import LinearRegression # \n",
    "from sklearn.model_selection import train_test_split # разбивает на выборки\n",
    "from sklearn.dummy import DummyClassifier\n",
    "from sklearn.tree import DecisionTreeClassifier # модель дерево решений\n",
    "from matplotlib import pyplot as plt # для графиков\n",
    "import seaborn as sns # для графиков\n",
    "\n",
    "\n",
    "\n",
    "import warnings\n",
    "warnings.filterwarnings(\"ignore\")"
   ]
  },
  {
   "cell_type": "code",
   "execution_count": 2,
   "metadata": {},
   "outputs": [],
   "source": [
    "try:\n",
    "    df = pd.read_csv('/datasets/users_behavior.csv')\n",
    "except:\n",
    "    df = pd.read_csv('users_behavior.csv')"
   ]
  },
  {
   "cell_type": "markdown",
   "metadata": {},
   "source": [
    "## Описание данных\n",
    "Каждый объект в наборе данных — это информация о поведении одного пользователя за месяц. \n",
    "\n",
    "Известно:\n",
    "-\tсalls — количество звонков,\n",
    "-\tminutes — суммарная длительность звонков в минутах,\n",
    "-\tmessages — количество sms-сообщений,\n",
    "-\tmb_used — израсходованный интернет-трафик в Мб,\n",
    "-\tis_ultra — каким тарифом пользовался в течение месяца («Ультра» — 1, «Смарт» — 0).\n"
   ]
  },
  {
   "cell_type": "code",
   "execution_count": 3,
   "metadata": {},
   "outputs": [
    {
     "data": {
      "text/html": [
       "<div>\n",
       "<style scoped>\n",
       "    .dataframe tbody tr th:only-of-type {\n",
       "        vertical-align: middle;\n",
       "    }\n",
       "\n",
       "    .dataframe tbody tr th {\n",
       "        vertical-align: top;\n",
       "    }\n",
       "\n",
       "    .dataframe thead th {\n",
       "        text-align: right;\n",
       "    }\n",
       "</style>\n",
       "<table border=\"1\" class=\"dataframe\">\n",
       "  <thead>\n",
       "    <tr style=\"text-align: right;\">\n",
       "      <th></th>\n",
       "      <th>calls</th>\n",
       "      <th>minutes</th>\n",
       "      <th>messages</th>\n",
       "      <th>mb_used</th>\n",
       "      <th>is_ultra</th>\n",
       "    </tr>\n",
       "  </thead>\n",
       "  <tbody>\n",
       "    <tr>\n",
       "      <th>0</th>\n",
       "      <td>40.0</td>\n",
       "      <td>311.90</td>\n",
       "      <td>83.0</td>\n",
       "      <td>19915.42</td>\n",
       "      <td>0</td>\n",
       "    </tr>\n",
       "    <tr>\n",
       "      <th>1</th>\n",
       "      <td>85.0</td>\n",
       "      <td>516.75</td>\n",
       "      <td>56.0</td>\n",
       "      <td>22696.96</td>\n",
       "      <td>0</td>\n",
       "    </tr>\n",
       "    <tr>\n",
       "      <th>2</th>\n",
       "      <td>77.0</td>\n",
       "      <td>467.66</td>\n",
       "      <td>86.0</td>\n",
       "      <td>21060.45</td>\n",
       "      <td>0</td>\n",
       "    </tr>\n",
       "    <tr>\n",
       "      <th>3</th>\n",
       "      <td>106.0</td>\n",
       "      <td>745.53</td>\n",
       "      <td>81.0</td>\n",
       "      <td>8437.39</td>\n",
       "      <td>1</td>\n",
       "    </tr>\n",
       "    <tr>\n",
       "      <th>4</th>\n",
       "      <td>66.0</td>\n",
       "      <td>418.74</td>\n",
       "      <td>1.0</td>\n",
       "      <td>14502.75</td>\n",
       "      <td>0</td>\n",
       "    </tr>\n",
       "    <tr>\n",
       "      <th>...</th>\n",
       "      <td>...</td>\n",
       "      <td>...</td>\n",
       "      <td>...</td>\n",
       "      <td>...</td>\n",
       "      <td>...</td>\n",
       "    </tr>\n",
       "    <tr>\n",
       "      <th>3209</th>\n",
       "      <td>122.0</td>\n",
       "      <td>910.98</td>\n",
       "      <td>20.0</td>\n",
       "      <td>35124.90</td>\n",
       "      <td>1</td>\n",
       "    </tr>\n",
       "    <tr>\n",
       "      <th>3210</th>\n",
       "      <td>25.0</td>\n",
       "      <td>190.36</td>\n",
       "      <td>0.0</td>\n",
       "      <td>3275.61</td>\n",
       "      <td>0</td>\n",
       "    </tr>\n",
       "    <tr>\n",
       "      <th>3211</th>\n",
       "      <td>97.0</td>\n",
       "      <td>634.44</td>\n",
       "      <td>70.0</td>\n",
       "      <td>13974.06</td>\n",
       "      <td>0</td>\n",
       "    </tr>\n",
       "    <tr>\n",
       "      <th>3212</th>\n",
       "      <td>64.0</td>\n",
       "      <td>462.32</td>\n",
       "      <td>90.0</td>\n",
       "      <td>31239.78</td>\n",
       "      <td>0</td>\n",
       "    </tr>\n",
       "    <tr>\n",
       "      <th>3213</th>\n",
       "      <td>80.0</td>\n",
       "      <td>566.09</td>\n",
       "      <td>6.0</td>\n",
       "      <td>29480.52</td>\n",
       "      <td>1</td>\n",
       "    </tr>\n",
       "  </tbody>\n",
       "</table>\n",
       "<p>3214 rows × 5 columns</p>\n",
       "</div>"
      ],
      "text/plain": [
       "      calls  minutes  messages   mb_used  is_ultra\n",
       "0      40.0   311.90      83.0  19915.42         0\n",
       "1      85.0   516.75      56.0  22696.96         0\n",
       "2      77.0   467.66      86.0  21060.45         0\n",
       "3     106.0   745.53      81.0   8437.39         1\n",
       "4      66.0   418.74       1.0  14502.75         0\n",
       "...     ...      ...       ...       ...       ...\n",
       "3209  122.0   910.98      20.0  35124.90         1\n",
       "3210   25.0   190.36       0.0   3275.61         0\n",
       "3211   97.0   634.44      70.0  13974.06         0\n",
       "3212   64.0   462.32      90.0  31239.78         0\n",
       "3213   80.0   566.09       6.0  29480.52         1\n",
       "\n",
       "[3214 rows x 5 columns]"
      ]
     },
     "metadata": {},
     "output_type": "display_data"
    },
    {
     "name": "stdout",
     "output_type": "stream",
     "text": [
      "<class 'pandas.core.frame.DataFrame'>\n",
      "RangeIndex: 3214 entries, 0 to 3213\n",
      "Data columns (total 5 columns):\n",
      " #   Column    Non-Null Count  Dtype  \n",
      "---  ------    --------------  -----  \n",
      " 0   calls     3214 non-null   float64\n",
      " 1   minutes   3214 non-null   float64\n",
      " 2   messages  3214 non-null   float64\n",
      " 3   mb_used   3214 non-null   float64\n",
      " 4   is_ultra  3214 non-null   int64  \n",
      "dtypes: float64(4), int64(1)\n",
      "memory usage: 125.7 KB\n"
     ]
    }
   ],
   "source": [
    "display(df)\n",
    "df.info()\n"
   ]
  },
  {
   "cell_type": "code",
   "execution_count": 4,
   "metadata": {},
   "outputs": [
    {
     "data": {
      "text/html": [
       "<div>\n",
       "<style scoped>\n",
       "    .dataframe tbody tr th:only-of-type {\n",
       "        vertical-align: middle;\n",
       "    }\n",
       "\n",
       "    .dataframe tbody tr th {\n",
       "        vertical-align: top;\n",
       "    }\n",
       "\n",
       "    .dataframe thead th {\n",
       "        text-align: right;\n",
       "    }\n",
       "</style>\n",
       "<table border=\"1\" class=\"dataframe\">\n",
       "  <thead>\n",
       "    <tr style=\"text-align: right;\">\n",
       "      <th></th>\n",
       "      <th>calls</th>\n",
       "      <th>minutes</th>\n",
       "      <th>messages</th>\n",
       "      <th>mb_used</th>\n",
       "      <th>is_ultra</th>\n",
       "    </tr>\n",
       "  </thead>\n",
       "  <tbody>\n",
       "    <tr>\n",
       "      <th>count</th>\n",
       "      <td>3214.000000</td>\n",
       "      <td>3214.000000</td>\n",
       "      <td>3214.000000</td>\n",
       "      <td>3214.000000</td>\n",
       "      <td>3214.000000</td>\n",
       "    </tr>\n",
       "    <tr>\n",
       "      <th>mean</th>\n",
       "      <td>63.038892</td>\n",
       "      <td>438.208787</td>\n",
       "      <td>38.281269</td>\n",
       "      <td>17207.673836</td>\n",
       "      <td>0.306472</td>\n",
       "    </tr>\n",
       "    <tr>\n",
       "      <th>std</th>\n",
       "      <td>33.236368</td>\n",
       "      <td>234.569872</td>\n",
       "      <td>36.148326</td>\n",
       "      <td>7570.968246</td>\n",
       "      <td>0.461100</td>\n",
       "    </tr>\n",
       "    <tr>\n",
       "      <th>min</th>\n",
       "      <td>0.000000</td>\n",
       "      <td>0.000000</td>\n",
       "      <td>0.000000</td>\n",
       "      <td>0.000000</td>\n",
       "      <td>0.000000</td>\n",
       "    </tr>\n",
       "    <tr>\n",
       "      <th>25%</th>\n",
       "      <td>40.000000</td>\n",
       "      <td>274.575000</td>\n",
       "      <td>9.000000</td>\n",
       "      <td>12491.902500</td>\n",
       "      <td>0.000000</td>\n",
       "    </tr>\n",
       "    <tr>\n",
       "      <th>50%</th>\n",
       "      <td>62.000000</td>\n",
       "      <td>430.600000</td>\n",
       "      <td>30.000000</td>\n",
       "      <td>16943.235000</td>\n",
       "      <td>0.000000</td>\n",
       "    </tr>\n",
       "    <tr>\n",
       "      <th>75%</th>\n",
       "      <td>82.000000</td>\n",
       "      <td>571.927500</td>\n",
       "      <td>57.000000</td>\n",
       "      <td>21424.700000</td>\n",
       "      <td>1.000000</td>\n",
       "    </tr>\n",
       "    <tr>\n",
       "      <th>max</th>\n",
       "      <td>244.000000</td>\n",
       "      <td>1632.060000</td>\n",
       "      <td>224.000000</td>\n",
       "      <td>49745.730000</td>\n",
       "      <td>1.000000</td>\n",
       "    </tr>\n",
       "  </tbody>\n",
       "</table>\n",
       "</div>"
      ],
      "text/plain": [
       "             calls      minutes     messages       mb_used     is_ultra\n",
       "count  3214.000000  3214.000000  3214.000000   3214.000000  3214.000000\n",
       "mean     63.038892   438.208787    38.281269  17207.673836     0.306472\n",
       "std      33.236368   234.569872    36.148326   7570.968246     0.461100\n",
       "min       0.000000     0.000000     0.000000      0.000000     0.000000\n",
       "25%      40.000000   274.575000     9.000000  12491.902500     0.000000\n",
       "50%      62.000000   430.600000    30.000000  16943.235000     0.000000\n",
       "75%      82.000000   571.927500    57.000000  21424.700000     1.000000\n",
       "max     244.000000  1632.060000   224.000000  49745.730000     1.000000"
      ]
     },
     "execution_count": 4,
     "metadata": {},
     "output_type": "execute_result"
    }
   ],
   "source": [
    "df.describe()"
   ]
  },
  {
   "cell_type": "markdown",
   "metadata": {},
   "source": [
    "**Итог:**\n",
    "Данные готовы к использованию. Пропусков не наблюдается."
   ]
  },
  {
   "cell_type": "markdown",
   "metadata": {},
   "source": [
    "## Разбейте данные на выборки"
   ]
  },
  {
   "cell_type": "markdown",
   "metadata": {},
   "source": [
    "***Спрятанной тестовой выборки нет. Значит, данные нужно разбить на три части: обучающую, валидационную и тестовую. Размеры тестового и валидационного наборов должны быть равны. Исходные данные разобьем в соотношении 3:1:1. (60% : 20% : 20%)***"
   ]
  },
  {
   "cell_type": "code",
   "execution_count": 5,
   "metadata": {},
   "outputs": [],
   "source": [
    "#df.loc[df['is_ultra'] == 1, 'is_ultra']= \"Ультра\"\n",
    "#df.loc[df['is_ultra'] == 0, 'is_ultra']= \"Смарт\"\n"
   ]
  },
  {
   "cell_type": "code",
   "execution_count": 6,
   "metadata": {},
   "outputs": [
    {
     "data": {
      "text/plain": [
       "0    2229\n",
       "1     985\n",
       "Name: is_ultra, dtype: int64"
      ]
     },
     "execution_count": 6,
     "metadata": {},
     "output_type": "execute_result"
    }
   ],
   "source": [
    "features = df.loc[:,'minutes':'mb_used'] # Отберем НЕ ЦЕЛЕВЫЕ признаки\n",
    "target = df['is_ultra'] # ЦЕЛЕВОЙ ПРИЗНАК\n",
    "target.value_counts()\n",
    "\n",
    "           \n"
   ]
  },
  {
   "cell_type": "markdown",
   "metadata": {},
   "source": [
    "- создаем тренировочную выборку с 60% и 40% пока отвоодим на тестовую;"
   ]
  },
  {
   "cell_type": "code",
   "execution_count": 7,
   "metadata": {},
   "outputs": [
    {
     "name": "stdout",
     "output_type": "stream",
     "text": [
      "(3214, 3)\n",
      "(3214,)\n",
      "(1928, 3)\n",
      "(1928,)\n",
      "(1286, 3)\n",
      "(1286,)\n"
     ]
    }
   ],
   "source": [
    "features_train,features_test, target_train, target_test = train_test_split(\\\n",
    "                        features, target, test_size=0.40, stratify = target , random_state=12345) \n",
    "print(features.shape)\n",
    "print(target.shape)\n",
    "print(features_train.shape)  # 60%\n",
    "print(target_train.shape)    # 60%\n",
    "print(features_test.shape)   # 40%\n",
    "print(target_test.shape)     # 40%"
   ]
  },
  {
   "cell_type": "markdown",
   "metadata": {},
   "source": [
    "### Благодаря stratify = target , сохраняет пропорцию, ниже факт, он сохранил пропорцию 0 и 1\n",
    "•\tОбрати внимание на аргумент stratify, он позволит сохранить изначальное распределение таргетов во всех новых датасетах. \n",
    "То есть имеется ввиду, что если изначальное распределение было 60 на 40, даже в малой выборке он это распределение сохранить – это нужно проверить\n"
   ]
  },
  {
   "cell_type": "code",
   "execution_count": 8,
   "metadata": {},
   "outputs": [
    {
     "data": {
      "text/plain": [
       "0    892\n",
       "1    394\n",
       "Name: is_ultra, dtype: int64"
      ]
     },
     "execution_count": 8,
     "metadata": {},
     "output_type": "execute_result"
    }
   ],
   "source": [
    "target_test.value_counts() "
   ]
  },
  {
   "cell_type": "code",
   "execution_count": 9,
   "metadata": {},
   "outputs": [
    {
     "data": {
      "text/plain": [
       "0    1337\n",
       "1     591\n",
       "Name: is_ultra, dtype: int64"
      ]
     },
     "execution_count": 9,
     "metadata": {},
     "output_type": "execute_result"
    }
   ],
   "source": [
    "target_train.value_counts()"
   ]
  },
  {
   "cell_type": "markdown",
   "metadata": {},
   "source": [
    "- делим тестовую выборку на 2 части , итого из 40% получаем 2 по 20%;"
   ]
  },
  {
   "cell_type": "code",
   "execution_count": 10,
   "metadata": {},
   "outputs": [
    {
     "name": "stdout",
     "output_type": "stream",
     "text": [
      "(3214, 3)\n",
      "(3214,)\n",
      "(1928, 3)\n",
      "(1928,)\n",
      "(643, 3)\n",
      "(643,)\n",
      "(643, 3)\n",
      "(643,)\n"
     ]
    }
   ],
   "source": [
    "features_valid, features_test, target_valid, target_test  = train_test_split(\\\n",
    "                        features_test, target_test, test_size=0.50, random_state=12345) \n",
    "\n",
    "print(features.shape)\n",
    "print(target.shape)\n",
    "print(features_train.shape)   # 60%\n",
    "print(target_train.shape)     # 60%\n",
    "print(features_test.shape)    # 20%\n",
    "print(target_test.shape)      # 20%\n",
    "print(features_valid.shape)   # 20%\n",
    "print(target_valid.shape)     # 20%"
   ]
  },
  {
   "cell_type": "code",
   "execution_count": 11,
   "metadata": {},
   "outputs": [
    {
     "data": {
      "image/png": "[encoded data removed]",
      "text/plain": [
       "<Figure size 640x480 with 1 Axes>"
      ]
     },
     "metadata": {},
     "output_type": "display_data"
    }
   ],
   "source": [
    "sns.scatterplot(data=df, x='minutes',y='mb_used', hue=target)\n",
    "plt.show()"
   ]
  },
  {
   "cell_type": "markdown",
   "metadata": {},
   "source": [
    "**Подитог к графику:** Как можно заметить основная часть тарифов \"Смарт\" = 0 находится в центральной зоне , в интервале от 0 до 700 минут по затраченному времени разговоров по телефону. \n",
    "\n",
    "А по затратам интернет трафика основная часть людей использующих тариф \"Смарт\" находится в диапазоне от 0 до 28 000 мб.\n",
    "\n",
    "За пределами скопления пользователей использующих тариф \"Смарт\" находятся пользователи использующие тариф \"Ультра\". \n",
    "\n",
    "По данному графику можно сделать 2 главных вывода:\n",
    "- Клиентам использующих тариф \"Ультра\" и находящиеся в диапазонах тарифа \"Смарт\" больше подойдет тариф \"Смарт\"\n",
    "- Клиентам использующих тариф \"Смарт\" находящихся за пределами основной части скопления синих кружков, подойдет больше тариф \"Ультра\"\n"
   ]
  },
  {
   "cell_type": "markdown",
   "metadata": {},
   "source": [
    "## Исследуйте модели"
   ]
  },
  {
   "cell_type": "markdown",
   "metadata": {},
   "source": [
    "•\t**Дерево решений**\n",
    "\n"
   ]
  },
  {
   "cell_type": "code",
   "execution_count": 12,
   "metadata": {},
   "outputs": [
    {
     "name": "stderr",
     "output_type": "stream",
     "text": [
      "UsageError: Can't use statement directly after '%%time'!\n"
     ]
    }
   ],
   "source": [
    "%%time # 1-ый вариант подсчета кода\n",
    "from tqdm import tqdm # 2-ой вариант подсчета выполнения кода\n",
    "\n",
    "best_model = None\n",
    "best_result = 0\n",
    "best_depth = 0\n",
    "for depth in tqdm(range(1, 6)):\n",
    "    model = DecisionTreeClassifier(random_state=12345, max_depth= depth) \n",
    "    model.fit(features_train, target_train) # обучите модель\n",
    "    predictions_valid = model.predict(features_valid) # получите предсказания модели\n",
    "    result = accuracy_score(target_valid, predictions_valid)\n",
    "    #result = model.score(features_valid, target_valid ) можно и так и без двух строк выше\n",
    "    if result > best_result:\n",
    "            best_model = model # сохраните наилучшую модель\n",
    "            best_result = result #  сохраните наилучшее значение метрики accuracy на валидационных данных\n",
    "            best_depth = depth\n",
    "print(\"Accuracy наилучшей модели на валидационной выборке:\", best_result)\n",
    "print(\"Глубина наилучшей модели на валидационной выборке:\", best_depth)      \n",
    "\n",
    "\n",
    "\n"
   ]
  },
  {
   "cell_type": "markdown",
   "metadata": {},
   "source": [
    "**Вывод**\n",
    "Accuracy лучшей модели из десяти равно  0.7884914463452566, с гиперпараметром max_depth равным - 4."
   ]
  },
  {
   "cell_type": "code",
   "execution_count": 13,
   "metadata": {},
   "outputs": [
    {
     "data": {
      "image/png": "[encoded data removed]",
      "text/plain": [
       "<Figure size 1000x700 with 1 Axes>"
      ]
     },
     "metadata": {},
     "output_type": "display_data"
    }
   ],
   "source": [
    "# код ревьюера\n",
    "\n",
    "import numpy as np\n",
    "from sklearn.metrics import accuracy_score\n",
    "\n",
    "acc_valid = [] # сюда записывается accuracy по валидационной\n",
    "acc_train = [] # сюда записывается accuracy по обучающей\n",
    "\n",
    "depth_ = 20\n",
    "\n",
    "for depth in range(1, depth_):\n",
    "    model_tree = DecisionTreeClassifier(random_state=12345, max_depth=depth)\n",
    "    model_tree.fit(features_train, target_train) # здесь провел обучение на обучающей (не тестовой)\n",
    "    \n",
    "    predictions_valid = model_tree.predict(features_valid)# здесь загрузил данные по валидационной\n",
    "    predictions_train = model_tree.predict(features_train)# здесь загрузил данные по обучающей\n",
    "    \n",
    "#     собираем результаты в списки\n",
    "    acc_valid.append(accuracy_score(target_valid, predictions_valid))   \n",
    "    acc_train.append(accuracy_score(target_train, predictions_train))   \n",
    "    \n",
    "    \n",
    "fig, ax = plt.subplots(figsize = (10, 7))\n",
    "fig.suptitle('') # здесь можно указать названия графика сверху\n",
    "\n",
    "# строим по спискам графики\n",
    "ax.plot(np.arange(1, depth_), acc_valid )\n",
    "ax.plot(np.arange(1, depth_), acc_train)\n",
    "\n",
    "ax.set_xlabel('Глубина дерева')\n",
    "ax.set_ylabel('Accuracy')\n",
    "\n",
    "ax.legend(['Точность предсказаний на валидационной выборке', 'Точность предсказаний на обучающей выборке'])\n",
    "\n",
    "plt.ylim(0.7, 1);  "
   ]
  },
  {
   "cell_type": "markdown",
   "metadata": {},
   "source": [
    "•\t**Случайный лес**"
   ]
  },
  {
   "cell_type": "code",
   "execution_count": 14,
   "metadata": {},
   "outputs": [
    {
     "name": "stdout",
     "output_type": "stream",
     "text": [
      "Accuracy наилучшей модели на валидационной выборке: 0.8304821150855366\n",
      "Глубина наилучшей модели на валидационной выборке: 8\n",
      "Количество деревье наилучшей модели на валидационной выборке: 50\n",
      "Wall time: 3.35 s\n"
     ]
    }
   ],
   "source": [
    "%%time\n",
    "best_model_1 = None\n",
    "best_result_1 = 0\n",
    "best_est_1 = 0\n",
    "best_depth_1 = 0\n",
    "for est in range(10, 51, 10): # кол-во деревьев с шагом 10\n",
    "    for depth in range (1, 11): # количество вопросов (глубина)\n",
    "        model_1 = RandomForestClassifier(random_state=12345, n_estimators=est, max_depth = depth) # обучите модель с заданным количеством деревьев\n",
    "        model_1.fit(features_train,target_train ) # обучите модель на тренировочной выборке\n",
    "        predictions_valid_1 = model_1.predict(features_valid)\n",
    "        result_1 = accuracy_score(target_valid, predictions_valid_1) # посчитайте качество модели на валидационной выборке\n",
    "        if result_1 > best_result_1:\n",
    "            best_model_1 = model_1 # сохраните наилучшую модель\n",
    "            best_result_1 = result_1 #  сохраните наилучшее значение метрики accuracy на валидационных данных\n",
    "            best_depth_1 = depth\n",
    "            best_est_1 = est\n",
    "print(\"Accuracy наилучшей модели на валидационной выборке:\", best_result_1)\n",
    "print(\"Глубина наилучшей модели на валидационной выборке:\", best_depth_1)\n",
    "print(\"Количество деревье наилучшей модели на валидационной выборке:\", best_est_1)\n"
   ]
  },
  {
   "cell_type": "markdown",
   "metadata": {},
   "source": [
    "- **Логистическая регрессия**"
   ]
  },
  {
   "cell_type": "code",
   "execution_count": 15,
   "metadata": {},
   "outputs": [
    {
     "name": "stdout",
     "output_type": "stream",
     "text": [
      "Accuracy LogisticRegression: 0.7216174183514774\n"
     ]
    }
   ],
   "source": [
    "from sklearn.linear_model import LogisticRegression \n",
    "model_2 = LogisticRegression(random_state=12345, solver='lbfgs', max_iter=1000)     \n",
    " \n",
    "model_2.fit(features_train,target_train)\n",
    "\n",
    "predictions_valid_2 = model_2.predict(features_valid)\n",
    "result_2 = accuracy_score(predictions_valid_2, target_valid)\n",
    "print('Accuracy LogisticRegression:', result_2)\n"
   ]
  },
  {
   "cell_type": "markdown",
   "metadata": {},
   "source": [
    "## Вывод\n",
    "1) Наилучший результат Accuracy у модели случайный лес - RandomForestClassifier. Accuracy равен 0.7993779160186625.\n",
    "\n",
    "2) Следующий результат у решающего дерева - DecisionTreeClassifier. Accuracy у данной модели равен 0.7884914463452566\n",
    "\n",
    "3) И самое слабое качество у логистической регрессии. Accuracy LogisticRegression: 0.7076205287713841"
   ]
  },
  {
   "cell_type": "markdown",
   "metadata": {},
   "source": [
    "## Проверьте модель на тестовой выборке"
   ]
  },
  {
   "cell_type": "markdown",
   "metadata": {},
   "source": [
    "***Из трех моделей лучший результат показала модель - RandomForestClassifier. На ней и проверим тестовую выборку:***"
   ]
  },
  {
   "cell_type": "code",
   "execution_count": 16,
   "metadata": {},
   "outputs": [
    {
     "name": "stdout",
     "output_type": "stream",
     "text": [
      "Accuracy наилучшей модели на тестовой выборке: 0.8273716951788491\n"
     ]
    }
   ],
   "source": [
    "best_model_1 = None\n",
    "best_result_1 = 0\n",
    "best_est_1 = 0\n",
    "best_depth_1 = 0\n",
    "feature_all = pd.concat([features_train, features_valid], ignore_index=True) # объединили и индексы занова пронумировали\n",
    "target_all = pd.concat([target_train, target_valid], ignore_index=True) # объединили по таргетам\n",
    "model_test = RandomForestClassifier(random_state=12345, n_estimators=20, max_depth = 8)\n",
    "model_test.fit(feature_all,target_all)\n",
    "result_3 = model_test.score( features_test, target_test)\n",
    "\n",
    "\n",
    "print(\"Accuracy наилучшей модели на тестовой выборке:\", result_3)\n"
   ]
  },
  {
   "cell_type": "markdown",
   "metadata": {},
   "source": [
    "### Вывод: \n",
    "Accuracy у модели случайного леса - RandomForestClassifier на тестовой выборке равна 0.80248833592535"
   ]
  },
  {
   "cell_type": "markdown",
   "metadata": {},
   "source": [
    "## (бонус) Проверьте модели на адекватность"
   ]
  },
  {
   "cell_type": "markdown",
   "metadata": {},
   "source": [
    "Для проверки используем модель DummyClassifier."
   ]
  },
  {
   "cell_type": "code",
   "execution_count": null,
   "metadata": {},
   "outputs": [],
   "source": [
    "model_ = DummyClassifier(strategy='most_frequent', random_state=1)\n",
    "model_.fit(features_train, target_train)\n",
    "result_4 = model_.score(features_valid, target_valid)\n",
    "print('Accuracy DummyClassifier:', result_4)\n",
    "\n",
    "print('Accuracy RandomForestClassifier:', result_3)"
   ]
  },
  {
   "cell_type": "markdown",
   "metadata": {},
   "source": [
    "**Вывод:**\n",
    "Accuracy модели DummyClassifier ниже, чем у модели RandomForestClassifier - модель адекватна и эффективна."
   ]
  }
 ],
 "metadata": {
  "ExecuteTimeLog": [
   {
    "duration": 3102,
    "start_time": "2023-03-30T11:11:02.491Z"
   },
   {
    "duration": 124,
    "start_time": "2023-03-30T11:11:05.596Z"
   },
   {
    "duration": 20,
    "start_time": "2023-03-30T11:11:05.722Z"
   },
   {
    "duration": 59,
    "start_time": "2023-03-30T11:11:05.744Z"
   },
   {
    "duration": 2,
    "start_time": "2023-03-30T11:11:05.805Z"
   },
   {
    "duration": 28,
    "start_time": "2023-03-30T11:11:05.808Z"
   },
   {
    "duration": 31,
    "start_time": "2023-03-30T11:11:05.838Z"
   },
   {
    "duration": 15,
    "start_time": "2023-03-30T11:11:05.871Z"
   },
   {
    "duration": 360,
    "start_time": "2023-03-30T11:11:05.887Z"
   },
   {
    "duration": 118,
    "start_time": "2023-03-30T11:11:06.250Z"
   },
   {
    "duration": 0,
    "start_time": "2023-03-30T11:11:06.370Z"
   },
   {
    "duration": 0,
    "start_time": "2023-03-30T11:11:06.371Z"
   },
   {
    "duration": 0,
    "start_time": "2023-03-30T11:11:06.372Z"
   },
   {
    "duration": 0,
    "start_time": "2023-03-30T11:11:06.373Z"
   },
   {
    "duration": 0,
    "start_time": "2023-03-30T11:11:06.375Z"
   },
   {
    "duration": 13,
    "start_time": "2023-03-30T11:12:16.793Z"
   },
   {
    "duration": 28,
    "start_time": "2023-03-30T11:12:19.282Z"
   },
   {
    "duration": 73,
    "start_time": "2023-03-30T11:26:34.946Z"
   },
   {
    "duration": 10,
    "start_time": "2023-03-30T11:26:39.680Z"
   },
   {
    "duration": 1555,
    "start_time": "2023-03-30T11:26:42.697Z"
   },
   {
    "duration": 169,
    "start_time": "2023-03-30T11:26:44.254Z"
   },
   {
    "duration": 33,
    "start_time": "2023-03-30T11:26:45.945Z"
   },
   {
    "duration": 81,
    "start_time": "2023-03-30T11:29:13.219Z"
   },
   {
    "duration": 3,
    "start_time": "2023-03-30T11:30:40.401Z"
   },
   {
    "duration": 2580,
    "start_time": "2023-03-31T12:35:47.078Z"
   },
   {
    "duration": 31,
    "start_time": "2023-03-31T12:35:49.663Z"
   },
   {
    "duration": 21,
    "start_time": "2023-03-31T12:35:49.695Z"
   },
   {
    "duration": 29,
    "start_time": "2023-03-31T12:35:49.717Z"
   },
   {
    "duration": 2,
    "start_time": "2023-03-31T12:35:49.748Z"
   },
   {
    "duration": 26,
    "start_time": "2023-03-31T12:35:49.757Z"
   },
   {
    "duration": 16,
    "start_time": "2023-03-31T12:35:49.785Z"
   },
   {
    "duration": 7,
    "start_time": "2023-03-31T12:35:49.802Z"
   },
   {
    "duration": 290,
    "start_time": "2023-03-31T12:35:49.811Z"
   },
   {
    "duration": 43,
    "start_time": "2023-03-31T12:35:50.103Z"
   },
   {
    "duration": 221,
    "start_time": "2023-03-31T12:35:50.147Z"
   },
   {
    "duration": 17,
    "start_time": "2023-03-31T12:35:50.370Z"
   },
   {
    "duration": 14,
    "start_time": "2023-03-31T12:35:50.388Z"
   },
   {
    "duration": 7,
    "start_time": "2023-03-31T12:35:50.403Z"
   },
   {
    "duration": 150,
    "start_time": "2023-03-31T12:39:42.825Z"
   },
   {
    "duration": 17,
    "start_time": "2023-03-31T12:41:25.145Z"
   },
   {
    "duration": 8,
    "start_time": "2023-03-31T12:41:58.961Z"
   },
   {
    "duration": 1607,
    "start_time": "2023-03-31T15:55:48.174Z"
   },
   {
    "duration": 65,
    "start_time": "2023-03-31T15:55:49.784Z"
   },
   {
    "duration": 27,
    "start_time": "2023-03-31T15:55:49.851Z"
   },
   {
    "duration": 24,
    "start_time": "2023-03-31T15:55:49.881Z"
   },
   {
    "duration": 2,
    "start_time": "2023-03-31T15:55:49.907Z"
   },
   {
    "duration": 9,
    "start_time": "2023-03-31T15:55:49.911Z"
   },
   {
    "duration": 17,
    "start_time": "2023-03-31T15:55:49.921Z"
   },
   {
    "duration": 26,
    "start_time": "2023-03-31T15:55:49.939Z"
   },
   {
    "duration": 355,
    "start_time": "2023-03-31T15:55:49.967Z"
   },
   {
    "duration": 34,
    "start_time": "2023-03-31T15:55:50.325Z"
   },
   {
    "duration": 204,
    "start_time": "2023-03-31T15:55:50.360Z"
   },
   {
    "duration": 19,
    "start_time": "2023-03-31T15:55:50.566Z"
   },
   {
    "duration": 8,
    "start_time": "2023-03-31T15:55:50.587Z"
   },
   {
    "duration": 7,
    "start_time": "2023-03-31T15:55:50.596Z"
   },
   {
    "duration": 2878,
    "start_time": "2023-03-31T15:57:36.395Z"
   },
   {
    "duration": 2879,
    "start_time": "2023-03-31T15:57:53.989Z"
   },
   {
    "duration": 16,
    "start_time": "2023-03-31T15:58:23.659Z"
   },
   {
    "duration": 4,
    "start_time": "2023-03-31T15:58:54.871Z"
   },
   {
    "duration": 35,
    "start_time": "2023-03-31T15:58:54.877Z"
   },
   {
    "duration": 21,
    "start_time": "2023-03-31T15:58:54.914Z"
   },
   {
    "duration": 24,
    "start_time": "2023-03-31T15:58:54.938Z"
   },
   {
    "duration": 3,
    "start_time": "2023-03-31T15:58:54.964Z"
   },
   {
    "duration": 9,
    "start_time": "2023-03-31T15:58:54.969Z"
   },
   {
    "duration": 7,
    "start_time": "2023-03-31T15:58:54.979Z"
   },
   {
    "duration": 8,
    "start_time": "2023-03-31T15:58:54.988Z"
   },
   {
    "duration": 338,
    "start_time": "2023-03-31T15:58:54.997Z"
   },
   {
    "duration": 54,
    "start_time": "2023-03-31T15:58:55.338Z"
   },
   {
    "duration": 3001,
    "start_time": "2023-03-31T15:58:55.395Z"
   },
   {
    "duration": 19,
    "start_time": "2023-03-31T15:58:58.398Z"
   },
   {
    "duration": 24,
    "start_time": "2023-03-31T15:58:58.419Z"
   },
   {
    "duration": 18,
    "start_time": "2023-03-31T15:58:58.445Z"
   },
   {
    "duration": 11,
    "start_time": "2023-03-31T16:00:09.462Z"
   },
   {
    "duration": 18,
    "start_time": "2023-03-31T16:00:19.326Z"
   },
   {
    "duration": 15,
    "start_time": "2023-03-31T16:00:38.126Z"
   },
   {
    "duration": 16,
    "start_time": "2023-03-31T16:01:00.267Z"
   },
   {
    "duration": 18,
    "start_time": "2023-03-31T16:07:21.042Z"
   },
   {
    "duration": 73,
    "start_time": "2023-03-31T16:12:02.016Z"
   },
   {
    "duration": 70,
    "start_time": "2023-03-31T16:12:08.234Z"
   },
   {
    "duration": 76,
    "start_time": "2023-03-31T16:12:13.530Z"
   },
   {
    "duration": 378,
    "start_time": "2023-03-31T16:12:38.878Z"
   },
   {
    "duration": 389,
    "start_time": "2023-03-31T16:14:11.138Z"
   },
   {
    "duration": 71,
    "start_time": "2023-03-31T16:16:21.387Z"
   },
   {
    "duration": 109,
    "start_time": "2023-03-31T16:16:27.980Z"
   },
   {
    "duration": 76,
    "start_time": "2023-03-31T16:16:40.245Z"
   },
   {
    "duration": 79,
    "start_time": "2023-03-31T16:16:50.953Z"
   },
   {
    "duration": 98,
    "start_time": "2023-03-31T16:16:58.709Z"
   },
   {
    "duration": 3233,
    "start_time": "2023-04-01T05:41:55.490Z"
   },
   {
    "duration": 29,
    "start_time": "2023-04-01T05:41:58.726Z"
   },
   {
    "duration": 49,
    "start_time": "2023-04-01T05:41:58.756Z"
   },
   {
    "duration": 27,
    "start_time": "2023-04-01T05:41:58.812Z"
   },
   {
    "duration": 3,
    "start_time": "2023-04-01T05:41:58.841Z"
   },
   {
    "duration": 15,
    "start_time": "2023-04-01T05:41:58.846Z"
   },
   {
    "duration": 56,
    "start_time": "2023-04-01T05:41:58.863Z"
   },
   {
    "duration": 9,
    "start_time": "2023-04-01T05:41:58.921Z"
   },
   {
    "duration": 332,
    "start_time": "2023-04-01T05:41:58.932Z"
   },
   {
    "duration": 43,
    "start_time": "2023-04-01T05:41:59.281Z"
   },
   {
    "duration": 380,
    "start_time": "2023-04-01T05:41:59.325Z"
   },
   {
    "duration": 3104,
    "start_time": "2023-04-01T05:41:59.714Z"
   },
   {
    "duration": 24,
    "start_time": "2023-04-01T05:42:02.819Z"
   },
   {
    "duration": 16,
    "start_time": "2023-04-01T05:42:02.844Z"
   },
   {
    "duration": 82,
    "start_time": "2023-04-01T05:42:02.863Z"
   },
   {
    "duration": 3049,
    "start_time": "2023-04-01T05:43:02.809Z"
   },
   {
    "duration": 62,
    "start_time": "2023-04-01T05:43:05.860Z"
   },
   {
    "duration": 38,
    "start_time": "2023-04-01T05:43:05.924Z"
   },
   {
    "duration": 45,
    "start_time": "2023-04-01T05:43:05.964Z"
   },
   {
    "duration": 24,
    "start_time": "2023-04-01T05:43:06.017Z"
   },
   {
    "duration": 23,
    "start_time": "2023-04-01T05:43:06.044Z"
   },
   {
    "duration": 69,
    "start_time": "2023-04-01T05:43:06.069Z"
   },
   {
    "duration": 25,
    "start_time": "2023-04-01T05:43:06.140Z"
   },
   {
    "duration": 372,
    "start_time": "2023-04-01T05:43:06.167Z"
   },
   {
    "duration": 37,
    "start_time": "2023-04-01T05:43:06.540Z"
   },
   {
    "duration": 365,
    "start_time": "2023-04-01T05:43:06.578Z"
   },
   {
    "duration": 3178,
    "start_time": "2023-04-01T05:43:06.944Z"
   },
   {
    "duration": 15,
    "start_time": "2023-04-01T05:43:10.124Z"
   },
   {
    "duration": 16,
    "start_time": "2023-04-01T05:43:10.141Z"
   },
   {
    "duration": 91,
    "start_time": "2023-04-01T05:43:10.159Z"
   },
   {
    "duration": 401,
    "start_time": "2023-04-01T05:44:46.726Z"
   },
   {
    "duration": 3364,
    "start_time": "2023-04-01T05:44:51.529Z"
   },
   {
    "duration": 6,
    "start_time": "2023-04-01T05:46:30.561Z"
   },
   {
    "duration": 8,
    "start_time": "2023-04-01T05:46:46.651Z"
   },
   {
    "duration": 52,
    "start_time": "2023-04-01T06:12:41.411Z"
   },
   {
    "duration": 1580,
    "start_time": "2023-04-01T06:12:44.952Z"
   },
   {
    "duration": 140,
    "start_time": "2023-04-01T06:12:46.535Z"
   },
   {
    "duration": 23,
    "start_time": "2023-04-01T06:12:46.676Z"
   },
   {
    "duration": 24,
    "start_time": "2023-04-01T06:12:46.701Z"
   },
   {
    "duration": 2,
    "start_time": "2023-04-01T06:12:46.727Z"
   },
   {
    "duration": 23,
    "start_time": "2023-04-01T06:12:46.730Z"
   },
   {
    "duration": 22,
    "start_time": "2023-04-01T06:12:46.754Z"
   },
   {
    "duration": 7,
    "start_time": "2023-04-01T06:12:46.778Z"
   },
   {
    "duration": 305,
    "start_time": "2023-04-01T06:12:46.786Z"
   },
   {
    "duration": 28,
    "start_time": "2023-04-01T06:12:47.093Z"
   },
   {
    "duration": 318,
    "start_time": "2023-04-01T06:12:47.123Z"
   },
   {
    "duration": 2768,
    "start_time": "2023-04-01T06:12:47.442Z"
   },
   {
    "duration": 31,
    "start_time": "2023-04-01T06:12:50.211Z"
   },
   {
    "duration": 23,
    "start_time": "2023-04-01T06:12:50.248Z"
   },
   {
    "duration": 6,
    "start_time": "2023-04-01T06:12:50.273Z"
   },
   {
    "duration": 4,
    "start_time": "2023-04-01T06:15:26.909Z"
   },
   {
    "duration": 33,
    "start_time": "2023-04-01T06:15:26.915Z"
   },
   {
    "duration": 22,
    "start_time": "2023-04-01T06:15:26.949Z"
   },
   {
    "duration": 24,
    "start_time": "2023-04-01T06:15:26.972Z"
   },
   {
    "duration": 2,
    "start_time": "2023-04-01T06:15:26.998Z"
   },
   {
    "duration": 10,
    "start_time": "2023-04-01T06:15:27.001Z"
   },
   {
    "duration": 7,
    "start_time": "2023-04-01T06:15:27.012Z"
   },
   {
    "duration": 5,
    "start_time": "2023-04-01T06:15:27.034Z"
   },
   {
    "duration": 264,
    "start_time": "2023-04-01T06:15:27.041Z"
   },
   {
    "duration": 45,
    "start_time": "2023-04-01T06:15:27.306Z"
   },
   {
    "duration": 421,
    "start_time": "2023-04-01T06:15:27.353Z"
   },
   {
    "duration": 3091,
    "start_time": "2023-04-01T06:15:27.776Z"
   },
   {
    "duration": 16,
    "start_time": "2023-04-01T06:15:30.869Z"
   },
   {
    "duration": 59,
    "start_time": "2023-04-01T06:15:30.887Z"
   },
   {
    "duration": 10,
    "start_time": "2023-04-01T06:15:30.948Z"
   },
   {
    "duration": 52,
    "start_time": "2023-04-01T06:16:03.811Z"
   },
   {
    "duration": 74,
    "start_time": "2023-04-01T06:16:51.784Z"
   },
   {
    "duration": 54,
    "start_time": "2023-04-01T06:17:34.810Z"
   }
  ],
  "kernelspec": {
   "display_name": "Python 3 (ipykernel)",
   "language": "python",
   "name": "python3"
  },
  "language_info": {
   "codemirror_mode": {
    "name": "ipython",
    "version": 3
   },
   "file_extension": ".py",
   "mimetype": "text/x-python",
   "name": "python",
   "nbconvert_exporter": "python",
   "pygments_lexer": "ipython3",
   "version": "3.9.13"
  },
  "toc": {
   "base_numbering": 1,
   "nav_menu": {},
   "number_sections": true,
   "sideBar": true,
   "skip_h1_title": true,
   "title_cell": "Table of Contents",
   "title_sidebar": "Contents",
   "toc_cell": false,
   "toc_position": {},
   "toc_section_display": true,
   "toc_window_display": false
  }
 },
 "nbformat": 4,
 "nbformat_minor": 2
}
