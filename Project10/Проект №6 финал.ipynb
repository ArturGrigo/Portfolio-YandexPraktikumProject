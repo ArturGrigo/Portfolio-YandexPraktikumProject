{
 "cells": [
  {
   "cell_type": "markdown",
   "id": "3d8f07e7",
   "metadata": {},
   "source": [
    "# Защита персональных данных клиентов"
   ]
  },
  {
   "cell_type": "markdown",
   "id": "410861c2",
   "metadata": {},
   "source": [
    "Нужно защитить данные клиентов страховой компании «Хоть потоп». \n",
    "Чтобы при преобразовании качество моделей машинного обучения не ухудшилось.\n",
    "\n",
    "- Разработать такой метод преобразования данных, чтобы по ним было сложно восстановить персональную информацию. \n",
    "\n",
    "- Обосновать корректность его работы.\n"
   ]
  },
  {
   "cell_type": "markdown",
   "id": "3e639e5d",
   "metadata": {},
   "source": [
    "**Разделим исследование на несколько частей.**\n",
    "\n",
    "**Часть 1. Изучение общей информации:**\n",
    "* [1. Изучение файлов с данными, получение общей информации, загрузка библиотек.](#1-bullet)\n",
    "* [2. Предобработка данных. Изменение типов данных.](#2-bullet)\n",
    "\n",
    "**Часть 2. Умножение матриц**\n",
    "* [1. Признаки умножают на обратимую матрицу.\n",
    "Изменится ли качество линейной регрессии?.](#3-bullet)\n",
    "\n",
    "**Часть 3. Алгоритм преобразования**\n",
    "* [1.Создадем обратимую матрицу;](#4-bullet)\n",
    "* [2.Применим формулу без умножения 𝑋 — матрицы на обратимую;](#5-bullet)\n",
    "* [3. После чего умножим 𝑋 — матрицу признаков на обратимую, тем самым зашифровав ее;](#6-bullet)\n",
    "\n",
    "\n",
    "**Часть 4. Проверка алгоритма**\n",
    "* [1.Равенство матриц и метрики качества R2;](#7-bullet)\n",
    "\n",
    "**Часть 5. Заключение = Вывод**"
   ]
  },
  {
   "cell_type": "markdown",
   "id": "8ae8ce3b",
   "metadata": {},
   "source": [
    "## Загрузка данных"
   ]
  },
  {
   "cell_type": "code",
   "execution_count": 1,
   "id": "5080e554",
   "metadata": {},
   "outputs": [],
   "source": [
    "import pandas as pd\n",
    "import numpy as np \n",
    "import matplotlib.pyplot as plt\n",
    "\n",
    "\n",
    "from sklearn.dummy import DummyRegressor\n",
    "from sklearn.metrics import mean_squared_error\n",
    "from sklearn.linear_model import LinearRegression\n",
    "from sklearn.model_selection import train_test_split\n",
    "from sklearn.metrics import  r2_score \n",
    "\n",
    "import warnings\n",
    "warnings.filterwarnings(\"ignore\")"
   ]
  },
  {
   "cell_type": "code",
   "execution_count": 2,
   "id": "e471c7fd",
   "metadata": {},
   "outputs": [
    {
     "name": "stdout",
     "output_type": "stream",
     "text": [
      "<class 'pandas.core.frame.DataFrame'>\n",
      "RangeIndex: 5000 entries, 0 to 4999\n",
      "Data columns (total 5 columns):\n",
      " #   Column             Non-Null Count  Dtype  \n",
      "---  ------             --------------  -----  \n",
      " 0   Пол                5000 non-null   int64  \n",
      " 1   Возраст            5000 non-null   float64\n",
      " 2   Зарплата           5000 non-null   float64\n",
      " 3   Члены семьи        5000 non-null   int64  \n",
      " 4   Страховые выплаты  5000 non-null   int64  \n",
      "dtypes: float64(2), int64(3)\n",
      "memory usage: 195.4 KB\n"
     ]
    }
   ],
   "source": [
    "try:\n",
    "    df = pd.read_csv('/datasets/insurance.csv')\n",
    "except:\n",
    "    df = pd.read_csv('insurance.csv')\n",
    "df.info() \n",
    "\n"
   ]
  },
  {
   "cell_type": "code",
   "execution_count": 3,
   "id": "ad7e7734",
   "metadata": {},
   "outputs": [
    {
     "data": {
      "text/html": [
       "<div>\n",
       "<style scoped>\n",
       "    .dataframe tbody tr th:only-of-type {\n",
       "        vertical-align: middle;\n",
       "    }\n",
       "\n",
       "    .dataframe tbody tr th {\n",
       "        vertical-align: top;\n",
       "    }\n",
       "\n",
       "    .dataframe thead th {\n",
       "        text-align: right;\n",
       "    }\n",
       "</style>\n",
       "<table border=\"1\" class=\"dataframe\">\n",
       "  <thead>\n",
       "    <tr style=\"text-align: right;\">\n",
       "      <th></th>\n",
       "      <th>Пол</th>\n",
       "      <th>Возраст</th>\n",
       "      <th>Зарплата</th>\n",
       "      <th>Члены семьи</th>\n",
       "      <th>Страховые выплаты</th>\n",
       "    </tr>\n",
       "  </thead>\n",
       "  <tbody>\n",
       "    <tr>\n",
       "      <th>0</th>\n",
       "      <td>1</td>\n",
       "      <td>41.0</td>\n",
       "      <td>49600.0</td>\n",
       "      <td>1</td>\n",
       "      <td>0</td>\n",
       "    </tr>\n",
       "    <tr>\n",
       "      <th>1</th>\n",
       "      <td>0</td>\n",
       "      <td>46.0</td>\n",
       "      <td>38000.0</td>\n",
       "      <td>1</td>\n",
       "      <td>1</td>\n",
       "    </tr>\n",
       "    <tr>\n",
       "      <th>2</th>\n",
       "      <td>0</td>\n",
       "      <td>29.0</td>\n",
       "      <td>21000.0</td>\n",
       "      <td>0</td>\n",
       "      <td>0</td>\n",
       "    </tr>\n",
       "    <tr>\n",
       "      <th>3</th>\n",
       "      <td>0</td>\n",
       "      <td>21.0</td>\n",
       "      <td>41700.0</td>\n",
       "      <td>2</td>\n",
       "      <td>0</td>\n",
       "    </tr>\n",
       "    <tr>\n",
       "      <th>4</th>\n",
       "      <td>1</td>\n",
       "      <td>28.0</td>\n",
       "      <td>26100.0</td>\n",
       "      <td>0</td>\n",
       "      <td>0</td>\n",
       "    </tr>\n",
       "    <tr>\n",
       "      <th>...</th>\n",
       "      <td>...</td>\n",
       "      <td>...</td>\n",
       "      <td>...</td>\n",
       "      <td>...</td>\n",
       "      <td>...</td>\n",
       "    </tr>\n",
       "    <tr>\n",
       "      <th>4995</th>\n",
       "      <td>0</td>\n",
       "      <td>28.0</td>\n",
       "      <td>35700.0</td>\n",
       "      <td>2</td>\n",
       "      <td>0</td>\n",
       "    </tr>\n",
       "    <tr>\n",
       "      <th>4996</th>\n",
       "      <td>0</td>\n",
       "      <td>34.0</td>\n",
       "      <td>52400.0</td>\n",
       "      <td>1</td>\n",
       "      <td>0</td>\n",
       "    </tr>\n",
       "    <tr>\n",
       "      <th>4997</th>\n",
       "      <td>0</td>\n",
       "      <td>20.0</td>\n",
       "      <td>33900.0</td>\n",
       "      <td>2</td>\n",
       "      <td>0</td>\n",
       "    </tr>\n",
       "    <tr>\n",
       "      <th>4998</th>\n",
       "      <td>1</td>\n",
       "      <td>22.0</td>\n",
       "      <td>32700.0</td>\n",
       "      <td>3</td>\n",
       "      <td>0</td>\n",
       "    </tr>\n",
       "    <tr>\n",
       "      <th>4999</th>\n",
       "      <td>1</td>\n",
       "      <td>28.0</td>\n",
       "      <td>40600.0</td>\n",
       "      <td>1</td>\n",
       "      <td>0</td>\n",
       "    </tr>\n",
       "  </tbody>\n",
       "</table>\n",
       "<p>5000 rows × 5 columns</p>\n",
       "</div>"
      ],
      "text/plain": [
       "      Пол  Возраст  Зарплата  Члены семьи  Страховые выплаты\n",
       "0       1     41.0   49600.0            1                  0\n",
       "1       0     46.0   38000.0            1                  1\n",
       "2       0     29.0   21000.0            0                  0\n",
       "3       0     21.0   41700.0            2                  0\n",
       "4       1     28.0   26100.0            0                  0\n",
       "...   ...      ...       ...          ...                ...\n",
       "4995    0     28.0   35700.0            2                  0\n",
       "4996    0     34.0   52400.0            1                  0\n",
       "4997    0     20.0   33900.0            2                  0\n",
       "4998    1     22.0   32700.0            3                  0\n",
       "4999    1     28.0   40600.0            1                  0\n",
       "\n",
       "[5000 rows x 5 columns]"
      ]
     },
     "metadata": {},
     "output_type": "display_data"
    },
    {
     "data": {
      "text/html": [
       "<div>\n",
       "<style scoped>\n",
       "    .dataframe tbody tr th:only-of-type {\n",
       "        vertical-align: middle;\n",
       "    }\n",
       "\n",
       "    .dataframe tbody tr th {\n",
       "        vertical-align: top;\n",
       "    }\n",
       "\n",
       "    .dataframe thead th {\n",
       "        text-align: right;\n",
       "    }\n",
       "</style>\n",
       "<table border=\"1\" class=\"dataframe\">\n",
       "  <thead>\n",
       "    <tr style=\"text-align: right;\">\n",
       "      <th></th>\n",
       "      <th>Пол</th>\n",
       "      <th>Возраст</th>\n",
       "      <th>Зарплата</th>\n",
       "      <th>Члены семьи</th>\n",
       "      <th>Страховые выплаты</th>\n",
       "    </tr>\n",
       "  </thead>\n",
       "  <tbody>\n",
       "    <tr>\n",
       "      <th>count</th>\n",
       "      <td>5000.000000</td>\n",
       "      <td>5000.000000</td>\n",
       "      <td>5000.000000</td>\n",
       "      <td>5000.000000</td>\n",
       "      <td>5000.000000</td>\n",
       "    </tr>\n",
       "    <tr>\n",
       "      <th>mean</th>\n",
       "      <td>0.499000</td>\n",
       "      <td>30.952800</td>\n",
       "      <td>39916.360000</td>\n",
       "      <td>1.194200</td>\n",
       "      <td>0.148000</td>\n",
       "    </tr>\n",
       "    <tr>\n",
       "      <th>std</th>\n",
       "      <td>0.500049</td>\n",
       "      <td>8.440807</td>\n",
       "      <td>9900.083569</td>\n",
       "      <td>1.091387</td>\n",
       "      <td>0.463183</td>\n",
       "    </tr>\n",
       "    <tr>\n",
       "      <th>min</th>\n",
       "      <td>0.000000</td>\n",
       "      <td>18.000000</td>\n",
       "      <td>5300.000000</td>\n",
       "      <td>0.000000</td>\n",
       "      <td>0.000000</td>\n",
       "    </tr>\n",
       "    <tr>\n",
       "      <th>25%</th>\n",
       "      <td>0.000000</td>\n",
       "      <td>24.000000</td>\n",
       "      <td>33300.000000</td>\n",
       "      <td>0.000000</td>\n",
       "      <td>0.000000</td>\n",
       "    </tr>\n",
       "    <tr>\n",
       "      <th>50%</th>\n",
       "      <td>0.000000</td>\n",
       "      <td>30.000000</td>\n",
       "      <td>40200.000000</td>\n",
       "      <td>1.000000</td>\n",
       "      <td>0.000000</td>\n",
       "    </tr>\n",
       "    <tr>\n",
       "      <th>75%</th>\n",
       "      <td>1.000000</td>\n",
       "      <td>37.000000</td>\n",
       "      <td>46600.000000</td>\n",
       "      <td>2.000000</td>\n",
       "      <td>0.000000</td>\n",
       "    </tr>\n",
       "    <tr>\n",
       "      <th>max</th>\n",
       "      <td>1.000000</td>\n",
       "      <td>65.000000</td>\n",
       "      <td>79000.000000</td>\n",
       "      <td>6.000000</td>\n",
       "      <td>5.000000</td>\n",
       "    </tr>\n",
       "  </tbody>\n",
       "</table>\n",
       "</div>"
      ],
      "text/plain": [
       "               Пол      Возраст      Зарплата  Члены семьи  Страховые выплаты\n",
       "count  5000.000000  5000.000000   5000.000000  5000.000000        5000.000000\n",
       "mean      0.499000    30.952800  39916.360000     1.194200           0.148000\n",
       "std       0.500049     8.440807   9900.083569     1.091387           0.463183\n",
       "min       0.000000    18.000000   5300.000000     0.000000           0.000000\n",
       "25%       0.000000    24.000000  33300.000000     0.000000           0.000000\n",
       "50%       0.000000    30.000000  40200.000000     1.000000           0.000000\n",
       "75%       1.000000    37.000000  46600.000000     2.000000           0.000000\n",
       "max       1.000000    65.000000  79000.000000     6.000000           5.000000"
      ]
     },
     "metadata": {},
     "output_type": "display_data"
    }
   ],
   "source": [
    "display(df)\n",
    "display(df.describe())"
   ]
  },
  {
   "cell_type": "code",
   "execution_count": 4,
   "id": "2bb311e3",
   "metadata": {},
   "outputs": [
    {
     "data": {
      "text/plain": [
       "0    4436\n",
       "1     423\n",
       "2     115\n",
       "3      18\n",
       "4       7\n",
       "5       1\n",
       "Name: Страховые выплаты, dtype: int64"
      ]
     },
     "execution_count": 4,
     "metadata": {},
     "output_type": "execute_result"
    }
   ],
   "source": [
    "df['Страховые выплаты'].value_counts()"
   ]
  },
  {
   "cell_type": "code",
   "execution_count": 5,
   "id": "c732e140",
   "metadata": {},
   "outputs": [
    {
     "data": {
      "image/png": "[encoded data removed]",
      "text/plain": [
       "<Figure size 1000x1500 with 6 Axes>"
      ]
     },
     "metadata": {},
     "output_type": "display_data"
    }
   ],
   "source": [
    "df.hist(figsize=(10, 15));"
   ]
  },
  {
   "cell_type": "code",
   "execution_count": 6,
   "id": "2a1a3d31",
   "metadata": {},
   "outputs": [
    {
     "data": {
      "text/plain": [
       "153"
      ]
     },
     "metadata": {},
     "output_type": "display_data"
    }
   ],
   "source": [
    "display(df.duplicated().sum())"
   ]
  },
  {
   "cell_type": "markdown",
   "id": "a5ef2220",
   "metadata": {},
   "source": [
    "### Вывод по первому блоку:\n",
    "\n",
    "- всего в датафрейме 5000 строк и 5 столбцов;\n",
    "- пустых строк не наблюдается;\n",
    "- в выборке участвует 50% женщин и 50% мужчин, идеальный баланс);\n",
    "- аномальных значений в признаках датафрейма не наблюдается;\n",
    "- есть наличие полных дубликатов в количестве 153 строк, но среди 5000 людей это не вызывает тревожности и кажется нормальным.\n"
   ]
  },
  {
   "cell_type": "markdown",
   "id": "b2c99c10",
   "metadata": {},
   "source": [
    "### Предобработка данных"
   ]
  },
  {
   "cell_type": "markdown",
   "id": "7b920145",
   "metadata": {},
   "source": [
    "**Приведем все столбцы к типу int64**"
   ]
  },
  {
   "cell_type": "code",
   "execution_count": 7,
   "id": "fb314034",
   "metadata": {},
   "outputs": [],
   "source": [
    "df['Возраст'] = df['Возраст'].astype('int64')\n",
    "df['Зарплата'] = df['Зарплата'].astype('int64')"
   ]
  },
  {
   "cell_type": "code",
   "execution_count": 8,
   "id": "a741c789",
   "metadata": {},
   "outputs": [
    {
     "name": "stdout",
     "output_type": "stream",
     "text": [
      "<class 'pandas.core.frame.DataFrame'>\n",
      "RangeIndex: 5000 entries, 0 to 4999\n",
      "Data columns (total 5 columns):\n",
      " #   Column             Non-Null Count  Dtype\n",
      "---  ------             --------------  -----\n",
      " 0   Пол                5000 non-null   int64\n",
      " 1   Возраст            5000 non-null   int64\n",
      " 2   Зарплата           5000 non-null   int64\n",
      " 3   Члены семьи        5000 non-null   int64\n",
      " 4   Страховые выплаты  5000 non-null   int64\n",
      "dtypes: int64(5)\n",
      "memory usage: 195.4 KB\n"
     ]
    }
   ],
   "source": [
    "df.info()"
   ]
  },
  {
   "cell_type": "markdown",
   "id": "4130d83d",
   "metadata": {},
   "source": [
    "### Разделим данные на тренировочную выборку и целевой признак"
   ]
  },
  {
   "cell_type": "code",
   "execution_count": 9,
   "id": "a86b37d1",
   "metadata": {},
   "outputs": [],
   "source": [
    "# features=df.drop(['Страховые выплаты'],axis=1)\n",
    "# target=df['Страховые выплаты']"
   ]
  },
  {
   "cell_type": "code",
   "execution_count": 10,
   "id": "bbfececa",
   "metadata": {},
   "outputs": [],
   "source": [
    "# train_features, test_features, train_target, test_target = train_test_split(features, \n",
    "#                                                                                   target, \n",
    "#                                                                                   test_size=0.25, \n",
    "#                                                                                   random_state=12345)"
   ]
  },
  {
   "cell_type": "markdown",
   "id": "2cd57581",
   "metadata": {},
   "source": [
    "## 2. Умножение матриц"
   ]
  },
  {
   "cell_type": "markdown",
   "id": "50d8e18e",
   "metadata": {},
   "source": [
    "В этом задании вы можете записывать формулы в *Jupyter Notebook.*\n",
    "\n",
    "Чтобы записать формулу внутри текста, окружите её символами доллара \\\\$;\n",
    "\n",
    "если снаружи —  двойными символами \\\\$\\\\$. Эти формулы записываются на языке вёрстки *LaTeX.* \n",
    "\n",
    "Для примера мы записали формулы линейной регрессии. Можете их скопировать и отредактировать, чтобы решить задачу.\n"
   ]
  },
  {
   "cell_type": "markdown",
   "id": "f813db61",
   "metadata": {},
   "source": [
    "Обозначения:\n",
    "​\n",
    "- $X$ — матрица признаков (нулевой столбец состоит из единиц)\n",
    "​\n",
    "- $y$ — вектор целевого признака\n",
    "​\n",
    "- $P$ — матрица, на которую умножаются признаки\n",
    "​\n",
    "- $w$ — вектор весов линейной регрессии (нулевой элемент равен сдвигу)"
   ]
  },
  {
   "cell_type": "markdown",
   "id": "19d80a0a",
   "metadata": {},
   "source": [
    "Предсказания:\n",
    "\n",
    "$$\n",
    "a = Xw\n",
    "$$\n",
    "\n",
    "Задача обучения:\n",
    "\n",
    "$$\n",
    "w = \\arg\\min_w MSE(Xw, y)\n",
    "$$\n",
    "\n",
    "Формула обучения:\n",
    "\n",
    "$$\n",
    "w = (X^T X)^{-1} X^T y\n",
    "$$"
   ]
  },
  {
   "cell_type": "markdown",
   "id": "fb512579",
   "metadata": {},
   "source": [
    "Признаки умножают на обратимую матрицу.\n",
    "\n",
    "Изменится ли качество линейной регрессии? (Её можно обучить заново.)"
   ]
  },
  {
   "cell_type": "markdown",
   "id": "9d505a01",
   "metadata": {},
   "source": [
    "- $X$ — матрица признаков\n",
    "- $А$ - обратимая матрица"
   ]
  },
  {
   "attachments": {
    "image.png": {
     "image/png": "[encoded data removed]"
    }
   },
   "cell_type": "markdown",
   "id": "c908d365",
   "metadata": {},
   "source": [
    "![image.png](attachment:image.png)"
   ]
  },
  {
   "cell_type": "markdown",
   "id": "14540ac1",
   "metadata": {},
   "source": [
    "Задача обучения с признаками умноженными на обратимую матрицу:"
   ]
  },
  {
   "cell_type": "markdown",
   "id": "a7235860",
   "metadata": {},
   "source": [
    "$$\n",
    "w = (X^T A^T XA)^{-1} X^T A^T y\n",
    "$$\n",
    "\n",
    "$$\n",
    "w = ((XA)^T XA)^{-1} X^T A^T y\n",
    "$$\n",
    "\n",
    "$$\n",
    "w = A^{-1}(A^T X^T X)^{-1} (A)^T X^T y\n",
    "$$\n",
    "\n",
    "$$\n",
    "w = A^{-1}(X^T X)^{-1} (A^T)^{-1} A^T X^T y\n",
    "$$"
   ]
  },
  {
   "cell_type": "markdown",
   "id": "6130150f",
   "metadata": {},
   "source": [
    "При перемножении\n",
    "$$\n",
    "(A^T)^{-1} A^T\n",
    "$$"
   ]
  },
  {
   "cell_type": "markdown",
   "id": "679d83f7",
   "metadata": {},
   "source": [
    "выходит единичная матрица E, сократим уравнение:\n",
    "\n",
    "Правило**: Если любую матрицу X умножить на единичную (или наоборот), получится эта же матрица X:"
   ]
  },
  {
   "cell_type": "markdown",
   "id": "ca7f8b7b",
   "metadata": {},
   "source": [
    "$$\n",
    "w = A^{-1}(X^T X)^{-1} X^T y\n",
    "$$"
   ]
  },
  {
   "cell_type": "markdown",
   "id": "4d5e6e36",
   "metadata": {},
   "source": [
    "теперь у нас получается практически прежняя формула только умноженная на обратимую матрицу \n",
    "\n",
    "$$\n",
    "w = (X^T X)^{-1} X^T y\n",
    "$$"
   ]
  },
  {
   "cell_type": "markdown",
   "id": "d89f21ad",
   "metadata": {},
   "source": [
    "$$\n",
    "w = А^{-1} w\n",
    "$$"
   ]
  },
  {
   "cell_type": "markdown",
   "id": "a87dd2e0",
   "metadata": {},
   "source": [
    "а предсказание у нас:\n",
    "\n",
    "$$\n",
    "a = Xw\n",
    "$$"
   ]
  },
  {
   "cell_type": "markdown",
   "id": "ce7eccd7",
   "metadata": {},
   "source": [
    "подставим наше уравнение в предсказание с матрицей перемноженой на обратимную"
   ]
  },
  {
   "cell_type": "markdown",
   "id": "05672218",
   "metadata": {},
   "source": [
    "$$\n",
    "a = XAA^{-1}w\n",
    "$$"
   ]
  },
  {
   "cell_type": "markdown",
   "id": "ebe2e5b6",
   "metadata": {},
   "source": [
    "Опять вспоминаем про правило\n",
    "\n",
    "Обратная для квадратной матрицы A (англ. inverse matrix) это матрица A с верхним индексом -1, произведение которой на А равно единичной матрице. \n",
    "\n",
    " Если любую матрицу Х умножить на единичную (или наоборот), получится эта же матрица Х"
   ]
  },
  {
   "cell_type": "markdown",
   "id": "2a3ea6c8",
   "metadata": {},
   "source": [
    "\n",
    "$$\n",
    "a = Xw\n",
    "$$"
   ]
  },
  {
   "cell_type": "markdown",
   "id": "bf184e73",
   "metadata": {},
   "source": [
    "**Ответ:** Качество линейной регрессии не изменится.\n",
    "\n",
    "**Обоснование:** После сокращения формулы обучения, предсказания по признакам умноженным на обратимую матрицу будут равны предсказаниям по признакам.\n",
    "\n",
    "$$\n",
    "a = XAA^{-1}w == Xw\n",
    "$$"
   ]
  },
  {
   "cell_type": "markdown",
   "id": "c09512cf",
   "metadata": {},
   "source": [
    "## 3.Алгоритм преобразования"
   ]
  },
  {
   "cell_type": "markdown",
   "id": "65aaf2e3",
   "metadata": {},
   "source": [
    "**Алгоритм**\n",
    "\n",
    "Исходя из формулы умножения на обратную матрицу, чтобы зашифровать данные будем использовать обратную матрицу.\n",
    "\n",
    "1) Напишем формулу обучения; \n",
    "\n",
    "2) Затем создадим обратимую матрицу;\n",
    "\n",
    "3) Применим формулу без умножения 𝑋 — матрицы на обратимую;\n",
    "\n",
    "3) После чего умножим 𝑋 — матрицу признаков на обратимую, тем самым зашифровав ее;\n",
    "\n",
    "4) Сравним метрики R2."
   ]
  },
  {
   "cell_type": "markdown",
   "id": "46f5a6b2",
   "metadata": {},
   "source": [
    "**Обоснование**\n",
    "\n",
    "Так как предсказания равны , при умножении матрицы признаков на обратимую матрицу, метрики качества не изменятся."
   ]
  },
  {
   "cell_type": "markdown",
   "id": "43e7a92b",
   "metadata": {},
   "source": [
    "•\tВычисляется обратная к результату матрица: np.linalg.inv(...)"
   ]
  },
  {
   "cell_type": "markdown",
   "id": "938c7a24",
   "metadata": {},
   "source": [
    "Напишем функцию, которая создаст обратимую матрицу, и зашифрует признаки умножив их на обратимую матрицу"
   ]
  },
  {
   "cell_type": "code",
   "execution_count": 11,
   "id": "88a04c84",
   "metadata": {},
   "outputs": [],
   "source": [
    "def matrix(features):\n",
    "    # Создание случайную матрицу размером по количеству признаков 4х4\n",
    "    random_matrix = np.random.rand(len(features.columns),len(features.columns))\n",
    "    # Проверяем, что определитель матрицы не равен нулю \n",
    "    # linalg.det(а) Вычисляет определитель массива.\n",
    "    if np.linalg.det(random_matrix) != 0:\n",
    "        # Если определитель не равен нулю, то матрица обратима\n",
    "        # Если матрица обратима, то находим ее обратную\n",
    "        inverse_matrix = np.linalg.inv(random_matrix)\n",
    "        print(\"Обратимая матрица:\\n\", inverse_matrix)\n",
    "        # умножаем матрицу признаков на обратную матрицу - создаем шифр\n",
    "        encrypted_features = features@inverse_matrix\n",
    "        return encrypted_features, inverse_matrix\n",
    "    else:\n",
    "        print(\"Матрица не обратима\")\n",
    "        \n"
   ]
  },
  {
   "cell_type": "code",
   "execution_count": 12,
   "id": "c9f104f1",
   "metadata": {},
   "outputs": [],
   "source": [
    "# def encrypt_features(features):\n",
    "#     # создаем случайную матрицу размером с матрицу признаков\n",
    "#     random_matrix = np.random.rand(*features.shape)\n",
    "#     # вычисляем обратную матрицу для случайной матрицы\n",
    "#     inverse_matrix = np.linalg.inv(random_matrix)\n",
    "#     # умножаем матрицу признаков на обратную матрицу\n",
    "#     encrypted_features = features.dot(inverse_matrix)\n",
    "#     return encrypted_features, inverse_matrix\n"
   ]
  },
  {
   "cell_type": "markdown",
   "id": "de73549c",
   "metadata": {},
   "source": [
    "Создадим функцию для обучения модели линейной регресии, которая вернет значение метрики R2"
   ]
  },
  {
   "cell_type": "code",
   "execution_count": 13,
   "id": "2fe99809",
   "metadata": {},
   "outputs": [],
   "source": [
    "def train_linear_regression(features, target):\n",
    "    # разделяем данные на обучающую и тестовую выборки\n",
    "    features_train, features_test, target_train, target_test = train_test_split(features, target,\\\n",
    "                                                                    test_size=0.25, random_state=12345)\n",
    "    # создаем объект модели линейной регрессии\n",
    "    model = LinearRegression()\n",
    "    # обучаем модель на обучающей выборке\n",
    "    model.fit(features_train, target_train)\n",
    "    # делаем предсказания на тестовой выборке\n",
    "    y_pred = model.predict(features_test)\n",
    "    # вычисляем метрику R2 для предсказаний\n",
    "    r2 = r2_score(target_test, y_pred)\n",
    "    return  print(r2)\n",
    "\n"
   ]
  },
  {
   "cell_type": "markdown",
   "id": "9a9da957",
   "metadata": {},
   "source": [
    "## 4. Проверка алгоритма"
   ]
  },
  {
   "cell_type": "markdown",
   "id": "731dc0d4",
   "metadata": {},
   "source": [
    "Определим нецелевые признаки и целевой признак"
   ]
  },
  {
   "cell_type": "code",
   "execution_count": 14,
   "id": "9042ee3d",
   "metadata": {},
   "outputs": [],
   "source": [
    "features=df.drop(['Страховые выплаты'],axis=1)\n",
    "\n",
    "target=df['Страховые выплаты']"
   ]
  },
  {
   "cell_type": "markdown",
   "id": "9d34ca20",
   "metadata": {},
   "source": [
    "Создадим обратимую матрицу и зашифрованые признаки"
   ]
  },
  {
   "cell_type": "code",
   "execution_count": 15,
   "id": "a151ec1e",
   "metadata": {},
   "outputs": [
    {
     "name": "stdout",
     "output_type": "stream",
     "text": [
      "Обратимая матрица:\n",
      " [[ 1.71500001 -0.38010335  0.49433185 -1.56298248]\n",
      " [-1.51992852  2.09925843  1.60812368 -2.23190519]\n",
      " [-0.2568348   1.82390927 -0.6892647  -0.62983793]\n",
      " [-0.51296972 -1.82430011 -0.49300366  3.86369531]]\n"
     ]
    }
   ],
   "source": [
    "features_A,A = matrix(features)"
   ]
  },
  {
   "cell_type": "markdown",
   "id": "221939ce",
   "metadata": {},
   "source": [
    "**R2** на исходных данных"
   ]
  },
  {
   "cell_type": "code",
   "execution_count": 16,
   "id": "6f05e7ec",
   "metadata": {},
   "outputs": [
    {
     "name": "stdout",
     "output_type": "stream",
     "text": [
      "0.435227568408335\n"
     ]
    }
   ],
   "source": [
    "r2_data = train_linear_regression(features, target)"
   ]
  },
  {
   "cell_type": "markdown",
   "id": "d5c9a31d",
   "metadata": {},
   "source": [
    "**R2** на зашифрованных данных"
   ]
  },
  {
   "cell_type": "code",
   "execution_count": 17,
   "id": "270ff077",
   "metadata": {},
   "outputs": [
    {
     "name": "stdout",
     "output_type": "stream",
     "text": [
      "0.43522756840832033\n"
     ]
    }
   ],
   "source": [
    "r2_A = train_linear_regression(features_A, target)"
   ]
  },
  {
   "cell_type": "markdown",
   "id": "92c16f2d",
   "metadata": {},
   "source": [
    "Метрика R2 одинакова для исходных данных и для зашифрованных."
   ]
  },
  {
   "cell_type": "markdown",
   "id": "6283cb99",
   "metadata": {},
   "source": [
    "Вернем зашифрованную матрицу к исходной путем умножения на обратную матрицу. Сравним с исходными данными."
   ]
  },
  {
   "cell_type": "code",
   "execution_count": 18,
   "id": "1d0f4fd9",
   "metadata": {},
   "outputs": [
    {
     "data": {
      "text/html": [
       "<div>\n",
       "<style scoped>\n",
       "    .dataframe tbody tr th:only-of-type {\n",
       "        vertical-align: middle;\n",
       "    }\n",
       "\n",
       "    .dataframe tbody tr th {\n",
       "        vertical-align: top;\n",
       "    }\n",
       "\n",
       "    .dataframe thead th {\n",
       "        text-align: right;\n",
       "    }\n",
       "</style>\n",
       "<table border=\"1\" class=\"dataframe\">\n",
       "  <thead>\n",
       "    <tr style=\"text-align: right;\">\n",
       "      <th></th>\n",
       "      <th>0</th>\n",
       "      <th>1</th>\n",
       "      <th>2</th>\n",
       "      <th>3</th>\n",
       "    </tr>\n",
       "  </thead>\n",
       "  <tbody>\n",
       "    <tr>\n",
       "      <th>0</th>\n",
       "      <td>1.000000e+00</td>\n",
       "      <td>41.0</td>\n",
       "      <td>49600.0</td>\n",
       "      <td>1.000000e+00</td>\n",
       "    </tr>\n",
       "    <tr>\n",
       "      <th>1</th>\n",
       "      <td>5.456968e-12</td>\n",
       "      <td>46.0</td>\n",
       "      <td>38000.0</td>\n",
       "      <td>1.000000e+00</td>\n",
       "    </tr>\n",
       "    <tr>\n",
       "      <th>2</th>\n",
       "      <td>-9.094947e-13</td>\n",
       "      <td>29.0</td>\n",
       "      <td>21000.0</td>\n",
       "      <td>-1.818989e-12</td>\n",
       "    </tr>\n",
       "    <tr>\n",
       "      <th>3</th>\n",
       "      <td>-7.275958e-12</td>\n",
       "      <td>21.0</td>\n",
       "      <td>41700.0</td>\n",
       "      <td>2.000000e+00</td>\n",
       "    </tr>\n",
       "    <tr>\n",
       "      <th>4</th>\n",
       "      <td>1.000000e+00</td>\n",
       "      <td>28.0</td>\n",
       "      <td>26100.0</td>\n",
       "      <td>0.000000e+00</td>\n",
       "    </tr>\n",
       "  </tbody>\n",
       "</table>\n",
       "</div>"
      ],
      "text/plain": [
       "              0     1        2             3\n",
       "0  1.000000e+00  41.0  49600.0  1.000000e+00\n",
       "1  5.456968e-12  46.0  38000.0  1.000000e+00\n",
       "2 -9.094947e-13  29.0  21000.0 -1.818989e-12\n",
       "3 -7.275958e-12  21.0  41700.0  2.000000e+00\n",
       "4  1.000000e+00  28.0  26100.0  0.000000e+00"
      ]
     },
     "execution_count": 18,
     "metadata": {},
     "output_type": "execute_result"
    }
   ],
   "source": [
    "features_return= features_A @  np.linalg.inv(A)\n",
    "features_return.head(5)"
   ]
  },
  {
   "cell_type": "markdown",
   "id": "9442da9e",
   "metadata": {},
   "source": [
    "Проверим равенство исходных данных и зашифрованных после преобразования обратно в исходные."
   ]
  },
  {
   "cell_type": "code",
   "execution_count": 19,
   "id": "0f45e738",
   "metadata": {},
   "outputs": [
    {
     "name": "stdout",
     "output_type": "stream",
     "text": [
      "Матрицы равны\n"
     ]
    }
   ],
   "source": [
    "if np.allclose(features.astype(np.float64), features_return.astype(np.float64), rtol=1e-3):\n",
    "    print(\"Матрицы равны\")\n",
    "else:\n",
    "    print(\"Матрицы различны\")"
   ]
  },
  {
   "cell_type": "markdown",
   "id": "3a9d61b2",
   "metadata": {},
   "source": [
    "### ВЫВОД\n",
    "\n",
    "\n",
    "- Согласно задаче данные были зашифрованы путем умножения матрицы признаков на обратимую матрицу равную по размерам количеству признаков в датафрейме;\n",
    "- Проверка на качество после умножения обратимой матрицы на признаки не изменилось;\n",
    "- Метрика R2 равна 0.4352275684083 как на исходных данных, так и на зашифрованных;\n",
    "- Проверка на возвращение к исходным данным удалась. Защифрованные данные умноженные на обратную матрицу вернули к прежним результатам."
   ]
  },
  {
   "cell_type": "code",
   "execution_count": null,
   "id": "cf8622ae",
   "metadata": {},
   "outputs": [],
   "source": []
  }
 ],
 "metadata": {
  "kernelspec": {
   "display_name": "Python 3 (ipykernel)",
   "language": "python",
   "name": "python3"
  },
  "language_info": {
   "codemirror_mode": {
    "name": "ipython",
    "version": 3
   },
   "file_extension": ".py",
   "mimetype": "text/x-python",
   "name": "python",
   "nbconvert_exporter": "python",
   "pygments_lexer": "ipython3",
   "version": "3.9.13"
  },
  "toc": {
   "base_numbering": 1,
   "nav_menu": {},
   "number_sections": true,
   "sideBar": true,
   "skip_h1_title": true,
   "title_cell": "Table of Contents",
   "title_sidebar": "Contents",
   "toc_cell": false,
   "toc_position": {},
   "toc_section_display": true,
   "toc_window_display": false
  }
 },
 "nbformat": 4,
 "nbformat_minor": 5
}
