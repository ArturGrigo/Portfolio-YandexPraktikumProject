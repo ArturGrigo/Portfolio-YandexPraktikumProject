{
 "cells": [
  {
   "cell_type": "markdown",
   "metadata": {
    "toc": true
   },
   "source": [
    "<h1>Содержание<span class=\"tocSkip\"></span></h1>\n",
    "<div class=\"toc\"><ul class=\"toc-item\"><li><span><a href=\"#Подготовка\" data-toc-modified-id=\"Подготовка-1\"><span class=\"toc-item-num\">1&nbsp;&nbsp;</span>Подготовка</a></span></li><li><span><a href=\"#Обучение\" data-toc-modified-id=\"Обучение-2\"><span class=\"toc-item-num\">2&nbsp;&nbsp;</span>Обучение</a></span><ul class=\"toc-item\"><li><span><a href=\"#LogisticRegression\" data-toc-modified-id=\"LogisticRegression-2.1\"><span class=\"toc-item-num\">2.1&nbsp;&nbsp;</span>LogisticRegression</a></span></li><li><span><a href=\"#DecisionTreeClassifier\" data-toc-modified-id=\"DecisionTreeClassifier-2.2\"><span class=\"toc-item-num\">2.2&nbsp;&nbsp;</span>DecisionTreeClassifier</a></span></li><li><span><a href=\"#CatBoostClassifier\" data-toc-modified-id=\"CatBoostClassifier-2.3\"><span class=\"toc-item-num\">2.3&nbsp;&nbsp;</span>CatBoostClassifier</a></span></li><li><span><a href=\"#Проверка-лучшей-модели-на-тестовой-выборке\" data-toc-modified-id=\"Проверка-лучшей-модели-на-тестовой-выборке-2.4\"><span class=\"toc-item-num\">2.4&nbsp;&nbsp;</span>Проверка лучшей модели на тестовой выборке</a></span><ul class=\"toc-item\"><li><span><a href=\"#Вывод:-Логистическая-регрессия-полностью-подходит-,-данное-утерждение-подтверждается-проверкой-на-тестовой-выборке.\" data-toc-modified-id=\"Вывод:-Логистическая-регрессия-полностью-подходит-,-данное-утерждение-подтверждается-проверкой-на-тестовой-выборке.-2.4.1\"><span class=\"toc-item-num\">2.4.1&nbsp;&nbsp;</span>Вывод: Логистическая регрессия полностью подходит , данное утерждение подтверждается проверкой на тестовой выборке.</a></span></li></ul></li></ul></li><li><span><a href=\"#Выводы\" data-toc-modified-id=\"Выводы-3\"><span class=\"toc-item-num\">3&nbsp;&nbsp;</span>Выводы</a></span></li><li><span><a href=\"#Чек-лист-проверки\" data-toc-modified-id=\"Чек-лист-проверки-4\"><span class=\"toc-item-num\">4&nbsp;&nbsp;</span>Чек-лист проверки</a></span></li></ul></div>"
   ]
  },
  {
   "cell_type": "markdown",
   "metadata": {},
   "source": [
    "# Проект для «Викишоп»"
   ]
  },
  {
   "cell_type": "markdown",
   "metadata": {},
   "source": [
    "Интернет-магазин «Викишоп» запускает новый сервис. Теперь пользователи могут редактировать и дополнять описания товаров, как в вики-сообществах. То есть клиенты предлагают свои правки и комментируют изменения других. Магазину нужен инструмент, который будет искать токсичные комментарии и отправлять их на модерацию. \n",
    "\n",
    "Обучите модель классифицировать комментарии на позитивные и негативные. В вашем распоряжении набор данных с разметкой о токсичности правок.\n",
    "\n",
    "Постройте модель со значением метрики качества *F1* не меньше 0.75. \n",
    "\n",
    "**Инструкция по выполнению проекта**\n",
    "\n",
    "1. Загрузите и подготовьте данные.\n",
    "2. Обучите разные модели. \n",
    "3. Сделайте выводы.\n",
    "\n",
    "Для выполнения проекта применять *BERT* необязательно, но вы можете попробовать.\n",
    "\n",
    "**Описание данных**\n",
    "\n",
    "Данные находятся в файле `toxic_comments.csv`. \n",
    "\n",
    "Столбец *text* в нём содержит текст комментария, а *toxic* — целевой признак."
   ]
  },
  {
   "cell_type": "markdown",
   "metadata": {},
   "source": [
    "## Подготовка"
   ]
  },
  {
   "cell_type": "code",
   "execution_count": 1,
   "metadata": {},
   "outputs": [
    {
     "name": "stdout",
     "output_type": "stream",
     "text": [
      "Requirement already satisfied: spacy in /opt/conda/lib/python3.9/site-packages (3.2.0)\n",
      "Requirement already satisfied: thinc<8.1.0,>=8.0.12 in /opt/conda/lib/python3.9/site-packages (from spacy) (8.0.17)\n",
      "Requirement already satisfied: preshed<3.1.0,>=3.0.2 in /opt/conda/lib/python3.9/site-packages (from spacy) (3.0.7)\n",
      "Requirement already satisfied: spacy-loggers<2.0.0,>=1.0.0 in /opt/conda/lib/python3.9/site-packages (from spacy) (1.0.3)\n",
      "Requirement already satisfied: typer<0.5.0,>=0.3.0 in /opt/conda/lib/python3.9/site-packages (from spacy) (0.4.2)\n",
      "Requirement already satisfied: catalogue<2.1.0,>=2.0.6 in /opt/conda/lib/python3.9/site-packages (from spacy) (2.0.8)\n",
      "Requirement already satisfied: blis<0.8.0,>=0.4.0 in /opt/conda/lib/python3.9/site-packages (from spacy) (0.7.8)\n",
      "Requirement already satisfied: langcodes<4.0.0,>=3.2.0 in /opt/conda/lib/python3.9/site-packages (from spacy) (3.3.0)\n",
      "Requirement already satisfied: wasabi<1.1.0,>=0.8.1 in /opt/conda/lib/python3.9/site-packages (from spacy) (0.10.1)\n",
      "Requirement already satisfied: numpy>=1.15.0 in /opt/conda/lib/python3.9/site-packages (from spacy) (1.21.1)\n",
      "Requirement already satisfied: tqdm<5.0.0,>=4.38.0 in /opt/conda/lib/python3.9/site-packages (from spacy) (4.61.2)\n",
      "Requirement already satisfied: pydantic!=1.8,!=1.8.1,<1.9.0,>=1.7.4 in /opt/conda/lib/python3.9/site-packages (from spacy) (1.8.2)\n",
      "Requirement already satisfied: murmurhash<1.1.0,>=0.28.0 in /opt/conda/lib/python3.9/site-packages (from spacy) (1.0.8)\n",
      "Requirement already satisfied: packaging>=20.0 in /opt/conda/lib/python3.9/site-packages (from spacy) (21.3)\n",
      "Requirement already satisfied: setuptools in /opt/conda/lib/python3.9/site-packages (from spacy) (49.6.0.post20210108)\n",
      "Requirement already satisfied: requests<3.0.0,>=2.13.0 in /opt/conda/lib/python3.9/site-packages (from spacy) (2.25.1)\n",
      "Requirement already satisfied: jinja2 in /opt/conda/lib/python3.9/site-packages (from spacy) (3.0.1)\n",
      "Requirement already satisfied: pathy>=0.3.5 in /opt/conda/lib/python3.9/site-packages (from spacy) (0.6.2)\n",
      "Requirement already satisfied: spacy-legacy<3.1.0,>=3.0.8 in /opt/conda/lib/python3.9/site-packages (from spacy) (3.0.10)\n",
      "Requirement already satisfied: srsly<3.0.0,>=2.4.1 in /opt/conda/lib/python3.9/site-packages (from spacy) (2.4.4)\n",
      "Requirement already satisfied: cymem<2.1.0,>=2.0.2 in /opt/conda/lib/python3.9/site-packages (from spacy) (2.0.6)\n",
      "Requirement already satisfied: pyparsing!=3.0.5,>=2.0.2 in /opt/conda/lib/python3.9/site-packages (from packaging>=20.0->spacy) (2.4.7)\n",
      "Requirement already satisfied: smart-open<6.0.0,>=5.2.1 in /opt/conda/lib/python3.9/site-packages (from pathy>=0.3.5->spacy) (5.2.1)\n",
      "Requirement already satisfied: typing-extensions>=3.7.4.3 in /opt/conda/lib/python3.9/site-packages (from pydantic!=1.8,!=1.8.1,<1.9.0,>=1.7.4->spacy) (4.3.0)\n",
      "Requirement already satisfied: idna<3,>=2.5 in /opt/conda/lib/python3.9/site-packages (from requests<3.0.0,>=2.13.0->spacy) (2.10)\n",
      "Requirement already satisfied: certifi>=2017.4.17 in /opt/conda/lib/python3.9/site-packages (from requests<3.0.0,>=2.13.0->spacy) (2022.6.15)\n",
      "Requirement already satisfied: chardet<5,>=3.0.2 in /opt/conda/lib/python3.9/site-packages (from requests<3.0.0,>=2.13.0->spacy) (4.0.0)\n",
      "Requirement already satisfied: urllib3<1.27,>=1.21.1 in /opt/conda/lib/python3.9/site-packages (from requests<3.0.0,>=2.13.0->spacy) (1.26.6)\n",
      "Requirement already satisfied: click<9.0.0,>=7.1.1 in /opt/conda/lib/python3.9/site-packages (from typer<0.5.0,>=0.3.0->spacy) (8.1.3)\n",
      "Requirement already satisfied: MarkupSafe>=2.0 in /opt/conda/lib/python3.9/site-packages (from jinja2->spacy) (2.1.1)\n",
      "Requirement already satisfied: en_core_web_sm in /opt/conda/lib/python3.9/site-packages (3.2.0)\n",
      "Requirement already satisfied: spacy<3.3.0,>=3.2.0 in /opt/conda/lib/python3.9/site-packages (from en_core_web_sm) (3.2.0)\n",
      "Requirement already satisfied: langcodes<4.0.0,>=3.2.0 in /opt/conda/lib/python3.9/site-packages (from spacy<3.3.0,>=3.2.0->en_core_web_sm) (3.3.0)\n",
      "Requirement already satisfied: catalogue<2.1.0,>=2.0.6 in /opt/conda/lib/python3.9/site-packages (from spacy<3.3.0,>=3.2.0->en_core_web_sm) (2.0.8)\n",
      "Requirement already satisfied: requests<3.0.0,>=2.13.0 in /opt/conda/lib/python3.9/site-packages (from spacy<3.3.0,>=3.2.0->en_core_web_sm) (2.25.1)\n",
      "Requirement already satisfied: srsly<3.0.0,>=2.4.1 in /opt/conda/lib/python3.9/site-packages (from spacy<3.3.0,>=3.2.0->en_core_web_sm) (2.4.4)\n",
      "Requirement already satisfied: typer<0.5.0,>=0.3.0 in /opt/conda/lib/python3.9/site-packages (from spacy<3.3.0,>=3.2.0->en_core_web_sm) (0.4.2)\n",
      "Requirement already satisfied: blis<0.8.0,>=0.4.0 in /opt/conda/lib/python3.9/site-packages (from spacy<3.3.0,>=3.2.0->en_core_web_sm) (0.7.8)\n",
      "Requirement already satisfied: jinja2 in /opt/conda/lib/python3.9/site-packages (from spacy<3.3.0,>=3.2.0->en_core_web_sm) (3.0.1)\n",
      "Requirement already satisfied: cymem<2.1.0,>=2.0.2 in /opt/conda/lib/python3.9/site-packages (from spacy<3.3.0,>=3.2.0->en_core_web_sm) (2.0.6)\n",
      "Requirement already satisfied: pathy>=0.3.5 in /opt/conda/lib/python3.9/site-packages (from spacy<3.3.0,>=3.2.0->en_core_web_sm) (0.6.2)\n",
      "Requirement already satisfied: spacy-loggers<2.0.0,>=1.0.0 in /opt/conda/lib/python3.9/site-packages (from spacy<3.3.0,>=3.2.0->en_core_web_sm) (1.0.3)\n",
      "Requirement already satisfied: murmurhash<1.1.0,>=0.28.0 in /opt/conda/lib/python3.9/site-packages (from spacy<3.3.0,>=3.2.0->en_core_web_sm) (1.0.8)\n",
      "Requirement already satisfied: wasabi<1.1.0,>=0.8.1 in /opt/conda/lib/python3.9/site-packages (from spacy<3.3.0,>=3.2.0->en_core_web_sm) (0.10.1)\n",
      "Requirement already satisfied: thinc<8.1.0,>=8.0.12 in /opt/conda/lib/python3.9/site-packages (from spacy<3.3.0,>=3.2.0->en_core_web_sm) (8.0.17)\n",
      "Requirement already satisfied: preshed<3.1.0,>=3.0.2 in /opt/conda/lib/python3.9/site-packages (from spacy<3.3.0,>=3.2.0->en_core_web_sm) (3.0.7)\n",
      "Requirement already satisfied: tqdm<5.0.0,>=4.38.0 in /opt/conda/lib/python3.9/site-packages (from spacy<3.3.0,>=3.2.0->en_core_web_sm) (4.61.2)\n",
      "Requirement already satisfied: numpy>=1.15.0 in /opt/conda/lib/python3.9/site-packages (from spacy<3.3.0,>=3.2.0->en_core_web_sm) (1.21.1)\n",
      "Requirement already satisfied: pydantic!=1.8,!=1.8.1,<1.9.0,>=1.7.4 in /opt/conda/lib/python3.9/site-packages (from spacy<3.3.0,>=3.2.0->en_core_web_sm) (1.8.2)\n",
      "Requirement already satisfied: spacy-legacy<3.1.0,>=3.0.8 in /opt/conda/lib/python3.9/site-packages (from spacy<3.3.0,>=3.2.0->en_core_web_sm) (3.0.10)\n",
      "Requirement already satisfied: setuptools in /opt/conda/lib/python3.9/site-packages (from spacy<3.3.0,>=3.2.0->en_core_web_sm) (49.6.0.post20210108)\n",
      "Requirement already satisfied: packaging>=20.0 in /opt/conda/lib/python3.9/site-packages (from spacy<3.3.0,>=3.2.0->en_core_web_sm) (21.3)\n",
      "Requirement already satisfied: pyparsing!=3.0.5,>=2.0.2 in /opt/conda/lib/python3.9/site-packages (from packaging>=20.0->spacy<3.3.0,>=3.2.0->en_core_web_sm) (2.4.7)\n",
      "Requirement already satisfied: smart-open<6.0.0,>=5.2.1 in /opt/conda/lib/python3.9/site-packages (from pathy>=0.3.5->spacy<3.3.0,>=3.2.0->en_core_web_sm) (5.2.1)\n",
      "Requirement already satisfied: typing-extensions>=3.7.4.3 in /opt/conda/lib/python3.9/site-packages (from pydantic!=1.8,!=1.8.1,<1.9.0,>=1.7.4->spacy<3.3.0,>=3.2.0->en_core_web_sm) (4.3.0)\n",
      "Requirement already satisfied: idna<3,>=2.5 in /opt/conda/lib/python3.9/site-packages (from requests<3.0.0,>=2.13.0->spacy<3.3.0,>=3.2.0->en_core_web_sm) (2.10)\n",
      "Requirement already satisfied: urllib3<1.27,>=1.21.1 in /opt/conda/lib/python3.9/site-packages (from requests<3.0.0,>=2.13.0->spacy<3.3.0,>=3.2.0->en_core_web_sm) (1.26.6)\n",
      "Requirement already satisfied: certifi>=2017.4.17 in /opt/conda/lib/python3.9/site-packages (from requests<3.0.0,>=2.13.0->spacy<3.3.0,>=3.2.0->en_core_web_sm) (2022.6.15)\n",
      "Requirement already satisfied: chardet<5,>=3.0.2 in /opt/conda/lib/python3.9/site-packages (from requests<3.0.0,>=2.13.0->spacy<3.3.0,>=3.2.0->en_core_web_sm) (4.0.0)\n",
      "Requirement already satisfied: click<9.0.0,>=7.1.1 in /opt/conda/lib/python3.9/site-packages (from typer<0.5.0,>=0.3.0->spacy<3.3.0,>=3.2.0->en_core_web_sm) (8.1.3)\n",
      "Requirement already satisfied: MarkupSafe>=2.0 in /opt/conda/lib/python3.9/site-packages (from jinja2->spacy<3.3.0,>=3.2.0->en_core_web_sm) (2.1.1)\n"
     ]
    }
   ],
   "source": [
    "!pip install spacy\n",
    "!pip install en_core_web_sm"
   ]
  },
  {
   "cell_type": "code",
   "execution_count": 2,
   "metadata": {},
   "outputs": [
    {
     "name": "stderr",
     "output_type": "stream",
     "text": [
      "[nltk_data] Downloading package stopwords to /home/jovyan/nltk_data...\n",
      "[nltk_data]   Package stopwords is already up-to-date!\n"
     ]
    }
   ],
   "source": [
    "import pandas as pd\n",
    "import numpy as np \n",
    "import matplotlib.pyplot as plt\n",
    "import nltk\n",
    "import re\n",
    "from nltk.corpus import stopwords as st\n",
    "from sklearn.feature_extraction.text import TfidfVectorizer\n",
    "from nltk.corpus import stopwords as nltk_stopwords\n",
    "import nltk\n",
    "from nltk.stem import WordNetLemmatizer\n",
    "nltk.download('stopwords')\n",
    "stopwords = set(nltk_stopwords.words('russian'))\n",
    "import spacy\n",
    "# Install spaCy (run in terminal/prompt)\n",
    "import sys\n",
    "\n",
    "from sklearn.model_selection import train_test_split, cross_val_score, GridSearchCV\n",
    "from tqdm import tqdm\n",
    "from sklearn.utils import shuffle\n",
    "import torch\n",
    "import transformers\n",
    "from tqdm import notebook\n",
    "\n",
    "from sklearn.linear_model import LogisticRegression\n",
    "from sklearn.tree import DecisionTreeClassifier\n",
    "from catboost import CatBoostClassifier\n",
    "\n",
    "import random\n",
    "from sklearn.metrics import f1_score\n",
    "import nltk\n",
    "from nltk.stem import WordNetLemmatizer"
   ]
  },
  {
   "cell_type": "code",
   "execution_count": 3,
   "metadata": {},
   "outputs": [
    {
     "name": "stdout",
     "output_type": "stream",
     "text": [
      "Requirement already satisfied: spacy in /opt/conda/lib/python3.9/site-packages (3.2.0)\n",
      "Requirement already satisfied: spacy-loggers<2.0.0,>=1.0.0 in /opt/conda/lib/python3.9/site-packages (from spacy) (1.0.3)\n",
      "Requirement already satisfied: blis<0.8.0,>=0.4.0 in /opt/conda/lib/python3.9/site-packages (from spacy) (0.7.8)\n",
      "Requirement already satisfied: cymem<2.1.0,>=2.0.2 in /opt/conda/lib/python3.9/site-packages (from spacy) (2.0.6)\n",
      "Requirement already satisfied: setuptools in /opt/conda/lib/python3.9/site-packages (from spacy) (49.6.0.post20210108)\n",
      "Requirement already satisfied: tqdm<5.0.0,>=4.38.0 in /opt/conda/lib/python3.9/site-packages (from spacy) (4.61.2)\n",
      "Requirement already satisfied: pathy>=0.3.5 in /opt/conda/lib/python3.9/site-packages (from spacy) (0.6.2)\n",
      "Requirement already satisfied: wasabi<1.1.0,>=0.8.1 in /opt/conda/lib/python3.9/site-packages (from spacy) (0.10.1)\n",
      "Requirement already satisfied: spacy-legacy<3.1.0,>=3.0.8 in /opt/conda/lib/python3.9/site-packages (from spacy) (3.0.10)\n",
      "Requirement already satisfied: preshed<3.1.0,>=3.0.2 in /opt/conda/lib/python3.9/site-packages (from spacy) (3.0.7)\n",
      "Requirement already satisfied: catalogue<2.1.0,>=2.0.6 in /opt/conda/lib/python3.9/site-packages (from spacy) (2.0.8)\n",
      "Requirement already satisfied: requests<3.0.0,>=2.13.0 in /opt/conda/lib/python3.9/site-packages (from spacy) (2.25.1)\n",
      "Requirement already satisfied: numpy>=1.15.0 in /opt/conda/lib/python3.9/site-packages (from spacy) (1.21.1)\n",
      "Requirement already satisfied: typer<0.5.0,>=0.3.0 in /opt/conda/lib/python3.9/site-packages (from spacy) (0.4.2)\n",
      "Requirement already satisfied: pydantic!=1.8,!=1.8.1,<1.9.0,>=1.7.4 in /opt/conda/lib/python3.9/site-packages (from spacy) (1.8.2)\n",
      "Requirement already satisfied: srsly<3.0.0,>=2.4.1 in /opt/conda/lib/python3.9/site-packages (from spacy) (2.4.4)\n",
      "Requirement already satisfied: langcodes<4.0.0,>=3.2.0 in /opt/conda/lib/python3.9/site-packages (from spacy) (3.3.0)\n",
      "Requirement already satisfied: packaging>=20.0 in /opt/conda/lib/python3.9/site-packages (from spacy) (21.3)\n",
      "Requirement already satisfied: jinja2 in /opt/conda/lib/python3.9/site-packages (from spacy) (3.0.1)\n",
      "Requirement already satisfied: thinc<8.1.0,>=8.0.12 in /opt/conda/lib/python3.9/site-packages (from spacy) (8.0.17)\n",
      "Requirement already satisfied: murmurhash<1.1.0,>=0.28.0 in /opt/conda/lib/python3.9/site-packages (from spacy) (1.0.8)\n",
      "Requirement already satisfied: pyparsing!=3.0.5,>=2.0.2 in /opt/conda/lib/python3.9/site-packages (from packaging>=20.0->spacy) (2.4.7)\n",
      "Requirement already satisfied: smart-open<6.0.0,>=5.2.1 in /opt/conda/lib/python3.9/site-packages (from pathy>=0.3.5->spacy) (5.2.1)\n",
      "Requirement already satisfied: typing-extensions>=3.7.4.3 in /opt/conda/lib/python3.9/site-packages (from pydantic!=1.8,!=1.8.1,<1.9.0,>=1.7.4->spacy) (4.3.0)\n",
      "Requirement already satisfied: certifi>=2017.4.17 in /opt/conda/lib/python3.9/site-packages (from requests<3.0.0,>=2.13.0->spacy) (2022.6.15)\n",
      "Requirement already satisfied: idna<3,>=2.5 in /opt/conda/lib/python3.9/site-packages (from requests<3.0.0,>=2.13.0->spacy) (2.10)\n",
      "Requirement already satisfied: chardet<5,>=3.0.2 in /opt/conda/lib/python3.9/site-packages (from requests<3.0.0,>=2.13.0->spacy) (4.0.0)\n",
      "Requirement already satisfied: urllib3<1.27,>=1.21.1 in /opt/conda/lib/python3.9/site-packages (from requests<3.0.0,>=2.13.0->spacy) (1.26.6)\n",
      "Requirement already satisfied: click<9.0.0,>=7.1.1 in /opt/conda/lib/python3.9/site-packages (from typer<0.5.0,>=0.3.0->spacy) (8.1.3)\n",
      "Requirement already satisfied: MarkupSafe>=2.0 in /opt/conda/lib/python3.9/site-packages (from jinja2->spacy) (2.1.1)\n",
      "\u001b[38;5;3m⚠ As of spaCy v3.0, shortcuts like 'en' are deprecated. Please use the\n",
      "full pipeline package name 'en_core_web_sm' instead.\u001b[0m\n",
      "Collecting en-core-web-sm==3.2.0\n",
      "  Downloading https://github.com/explosion/spacy-models/releases/download/en_core_web_sm-3.2.0/en_core_web_sm-3.2.0-py3-none-any.whl (13.9 MB)\n",
      "\u001b[K     |████████████████████████████████| 13.9 MB 1.3 MB/s eta 0:00:01\n",
      "\u001b[?25hRequirement already satisfied: spacy<3.3.0,>=3.2.0 in /opt/conda/lib/python3.9/site-packages (from en-core-web-sm==3.2.0) (3.2.0)\n",
      "Requirement already satisfied: langcodes<4.0.0,>=3.2.0 in /opt/conda/lib/python3.9/site-packages (from spacy<3.3.0,>=3.2.0->en-core-web-sm==3.2.0) (3.3.0)\n",
      "Requirement already satisfied: setuptools in /opt/conda/lib/python3.9/site-packages (from spacy<3.3.0,>=3.2.0->en-core-web-sm==3.2.0) (49.6.0.post20210108)\n",
      "Requirement already satisfied: wasabi<1.1.0,>=0.8.1 in /opt/conda/lib/python3.9/site-packages (from spacy<3.3.0,>=3.2.0->en-core-web-sm==3.2.0) (0.10.1)\n",
      "Requirement already satisfied: blis<0.8.0,>=0.4.0 in /opt/conda/lib/python3.9/site-packages (from spacy<3.3.0,>=3.2.0->en-core-web-sm==3.2.0) (0.7.8)\n",
      "Requirement already satisfied: numpy>=1.15.0 in /opt/conda/lib/python3.9/site-packages (from spacy<3.3.0,>=3.2.0->en-core-web-sm==3.2.0) (1.21.1)\n",
      "Requirement already satisfied: srsly<3.0.0,>=2.4.1 in /opt/conda/lib/python3.9/site-packages (from spacy<3.3.0,>=3.2.0->en-core-web-sm==3.2.0) (2.4.4)\n",
      "Requirement already satisfied: packaging>=20.0 in /opt/conda/lib/python3.9/site-packages (from spacy<3.3.0,>=3.2.0->en-core-web-sm==3.2.0) (21.3)\n",
      "Requirement already satisfied: requests<3.0.0,>=2.13.0 in /opt/conda/lib/python3.9/site-packages (from spacy<3.3.0,>=3.2.0->en-core-web-sm==3.2.0) (2.25.1)\n",
      "Requirement already satisfied: murmurhash<1.1.0,>=0.28.0 in /opt/conda/lib/python3.9/site-packages (from spacy<3.3.0,>=3.2.0->en-core-web-sm==3.2.0) (1.0.8)\n",
      "Requirement already satisfied: jinja2 in /opt/conda/lib/python3.9/site-packages (from spacy<3.3.0,>=3.2.0->en-core-web-sm==3.2.0) (3.0.1)\n",
      "Requirement already satisfied: spacy-loggers<2.0.0,>=1.0.0 in /opt/conda/lib/python3.9/site-packages (from spacy<3.3.0,>=3.2.0->en-core-web-sm==3.2.0) (1.0.3)\n",
      "Requirement already satisfied: typer<0.5.0,>=0.3.0 in /opt/conda/lib/python3.9/site-packages (from spacy<3.3.0,>=3.2.0->en-core-web-sm==3.2.0) (0.4.2)\n",
      "Requirement already satisfied: catalogue<2.1.0,>=2.0.6 in /opt/conda/lib/python3.9/site-packages (from spacy<3.3.0,>=3.2.0->en-core-web-sm==3.2.0) (2.0.8)\n",
      "Requirement already satisfied: pydantic!=1.8,!=1.8.1,<1.9.0,>=1.7.4 in /opt/conda/lib/python3.9/site-packages (from spacy<3.3.0,>=3.2.0->en-core-web-sm==3.2.0) (1.8.2)\n",
      "Requirement already satisfied: spacy-legacy<3.1.0,>=3.0.8 in /opt/conda/lib/python3.9/site-packages (from spacy<3.3.0,>=3.2.0->en-core-web-sm==3.2.0) (3.0.10)\n",
      "Requirement already satisfied: pathy>=0.3.5 in /opt/conda/lib/python3.9/site-packages (from spacy<3.3.0,>=3.2.0->en-core-web-sm==3.2.0) (0.6.2)\n",
      "Requirement already satisfied: preshed<3.1.0,>=3.0.2 in /opt/conda/lib/python3.9/site-packages (from spacy<3.3.0,>=3.2.0->en-core-web-sm==3.2.0) (3.0.7)\n",
      "Requirement already satisfied: cymem<2.1.0,>=2.0.2 in /opt/conda/lib/python3.9/site-packages (from spacy<3.3.0,>=3.2.0->en-core-web-sm==3.2.0) (2.0.6)\n",
      "Requirement already satisfied: tqdm<5.0.0,>=4.38.0 in /opt/conda/lib/python3.9/site-packages (from spacy<3.3.0,>=3.2.0->en-core-web-sm==3.2.0) (4.61.2)\n",
      "Requirement already satisfied: thinc<8.1.0,>=8.0.12 in /opt/conda/lib/python3.9/site-packages (from spacy<3.3.0,>=3.2.0->en-core-web-sm==3.2.0) (8.0.17)\n",
      "Requirement already satisfied: pyparsing!=3.0.5,>=2.0.2 in /opt/conda/lib/python3.9/site-packages (from packaging>=20.0->spacy<3.3.0,>=3.2.0->en-core-web-sm==3.2.0) (2.4.7)\n",
      "Requirement already satisfied: smart-open<6.0.0,>=5.2.1 in /opt/conda/lib/python3.9/site-packages (from pathy>=0.3.5->spacy<3.3.0,>=3.2.0->en-core-web-sm==3.2.0) (5.2.1)\n",
      "Requirement already satisfied: typing-extensions>=3.7.4.3 in /opt/conda/lib/python3.9/site-packages (from pydantic!=1.8,!=1.8.1,<1.9.0,>=1.7.4->spacy<3.3.0,>=3.2.0->en-core-web-sm==3.2.0) (4.3.0)\n",
      "Requirement already satisfied: urllib3<1.27,>=1.21.1 in /opt/conda/lib/python3.9/site-packages (from requests<3.0.0,>=2.13.0->spacy<3.3.0,>=3.2.0->en-core-web-sm==3.2.0) (1.26.6)\n",
      "Requirement already satisfied: chardet<5,>=3.0.2 in /opt/conda/lib/python3.9/site-packages (from requests<3.0.0,>=2.13.0->spacy<3.3.0,>=3.2.0->en-core-web-sm==3.2.0) (4.0.0)\n",
      "Requirement already satisfied: certifi>=2017.4.17 in /opt/conda/lib/python3.9/site-packages (from requests<3.0.0,>=2.13.0->spacy<3.3.0,>=3.2.0->en-core-web-sm==3.2.0) (2022.6.15)\n",
      "Requirement already satisfied: idna<3,>=2.5 in /opt/conda/lib/python3.9/site-packages (from requests<3.0.0,>=2.13.0->spacy<3.3.0,>=3.2.0->en-core-web-sm==3.2.0) (2.10)\n",
      "Requirement already satisfied: click<9.0.0,>=7.1.1 in /opt/conda/lib/python3.9/site-packages (from typer<0.5.0,>=0.3.0->spacy<3.3.0,>=3.2.0->en-core-web-sm==3.2.0) (8.1.3)\n",
      "Requirement already satisfied: MarkupSafe>=2.0 in /opt/conda/lib/python3.9/site-packages (from jinja2->spacy<3.3.0,>=3.2.0->en-core-web-sm==3.2.0) (2.1.1)\n",
      "\u001b[38;5;2m✔ Download and installation successful\u001b[0m\n",
      "You can now load the package via spacy.load('en_core_web_sm')\n"
     ]
    }
   ],
   "source": [
    "!{sys.executable} -m pip install spacy\n",
    "# Download spaCy's  'en' Model\n",
    "!{sys.executable} -m spacy download en\n",
    "nlp = spacy.load('en_core_web_sm')"
   ]
  },
  {
   "cell_type": "code",
   "execution_count": 4,
   "metadata": {
    "scrolled": true
   },
   "outputs": [
    {
     "data": {
      "text/html": [
       "<div>\n",
       "<style scoped>\n",
       "    .dataframe tbody tr th:only-of-type {\n",
       "        vertical-align: middle;\n",
       "    }\n",
       "\n",
       "    .dataframe tbody tr th {\n",
       "        vertical-align: top;\n",
       "    }\n",
       "\n",
       "    .dataframe thead th {\n",
       "        text-align: right;\n",
       "    }\n",
       "</style>\n",
       "<table border=\"1\" class=\"dataframe\">\n",
       "  <thead>\n",
       "    <tr style=\"text-align: right;\">\n",
       "      <th></th>\n",
       "      <th>Unnamed: 0</th>\n",
       "      <th>text</th>\n",
       "      <th>toxic</th>\n",
       "    </tr>\n",
       "  </thead>\n",
       "  <tbody>\n",
       "    <tr>\n",
       "      <th>0</th>\n",
       "      <td>0</td>\n",
       "      <td>Explanation\\nWhy the edits made under my usern...</td>\n",
       "      <td>0</td>\n",
       "    </tr>\n",
       "    <tr>\n",
       "      <th>1</th>\n",
       "      <td>1</td>\n",
       "      <td>D'aww! He matches this background colour I'm s...</td>\n",
       "      <td>0</td>\n",
       "    </tr>\n",
       "    <tr>\n",
       "      <th>2</th>\n",
       "      <td>2</td>\n",
       "      <td>Hey man, I'm really not trying to edit war. It...</td>\n",
       "      <td>0</td>\n",
       "    </tr>\n",
       "    <tr>\n",
       "      <th>3</th>\n",
       "      <td>3</td>\n",
       "      <td>\"\\nMore\\nI can't make any real suggestions on ...</td>\n",
       "      <td>0</td>\n",
       "    </tr>\n",
       "    <tr>\n",
       "      <th>4</th>\n",
       "      <td>4</td>\n",
       "      <td>You, sir, are my hero. Any chance you remember...</td>\n",
       "      <td>0</td>\n",
       "    </tr>\n",
       "    <tr>\n",
       "      <th>...</th>\n",
       "      <td>...</td>\n",
       "      <td>...</td>\n",
       "      <td>...</td>\n",
       "    </tr>\n",
       "    <tr>\n",
       "      <th>159287</th>\n",
       "      <td>159446</td>\n",
       "      <td>\":::::And for the second time of asking, when ...</td>\n",
       "      <td>0</td>\n",
       "    </tr>\n",
       "    <tr>\n",
       "      <th>159288</th>\n",
       "      <td>159447</td>\n",
       "      <td>You should be ashamed of yourself \\n\\nThat is ...</td>\n",
       "      <td>0</td>\n",
       "    </tr>\n",
       "    <tr>\n",
       "      <th>159289</th>\n",
       "      <td>159448</td>\n",
       "      <td>Spitzer \\n\\nUmm, theres no actual article for ...</td>\n",
       "      <td>0</td>\n",
       "    </tr>\n",
       "    <tr>\n",
       "      <th>159290</th>\n",
       "      <td>159449</td>\n",
       "      <td>And it looks like it was actually you who put ...</td>\n",
       "      <td>0</td>\n",
       "    </tr>\n",
       "    <tr>\n",
       "      <th>159291</th>\n",
       "      <td>159450</td>\n",
       "      <td>\"\\nAnd ... I really don't think you understand...</td>\n",
       "      <td>0</td>\n",
       "    </tr>\n",
       "  </tbody>\n",
       "</table>\n",
       "<p>159292 rows × 3 columns</p>\n",
       "</div>"
      ],
      "text/plain": [
       "        Unnamed: 0                                               text  toxic\n",
       "0                0  Explanation\\nWhy the edits made under my usern...      0\n",
       "1                1  D'aww! He matches this background colour I'm s...      0\n",
       "2                2  Hey man, I'm really not trying to edit war. It...      0\n",
       "3                3  \"\\nMore\\nI can't make any real suggestions on ...      0\n",
       "4                4  You, sir, are my hero. Any chance you remember...      0\n",
       "...            ...                                                ...    ...\n",
       "159287      159446  \":::::And for the second time of asking, when ...      0\n",
       "159288      159447  You should be ashamed of yourself \\n\\nThat is ...      0\n",
       "159289      159448  Spitzer \\n\\nUmm, theres no actual article for ...      0\n",
       "159290      159449  And it looks like it was actually you who put ...      0\n",
       "159291      159450  \"\\nAnd ... I really don't think you understand...      0\n",
       "\n",
       "[159292 rows x 3 columns]"
      ]
     },
     "metadata": {},
     "output_type": "display_data"
    },
    {
     "name": "stdout",
     "output_type": "stream",
     "text": [
      "<class 'pandas.core.frame.DataFrame'>\n",
      "RangeIndex: 159292 entries, 0 to 159291\n",
      "Data columns (total 3 columns):\n",
      " #   Column      Non-Null Count   Dtype \n",
      "---  ------      --------------   ----- \n",
      " 0   Unnamed: 0  159292 non-null  int64 \n",
      " 1   text        159292 non-null  object\n",
      " 2   toxic       159292 non-null  int64 \n",
      "dtypes: int64(2), object(1)\n",
      "memory usage: 3.6+ MB\n"
     ]
    }
   ],
   "source": [
    "try:\n",
    "    df = pd.read_csv('/datasets/toxic_comments.csv')\n",
    "except:\n",
    "    df = pd.read_csv('toxic_comments.csv')\n",
    "display(df)\n",
    "df.info() "
   ]
  },
  {
   "cell_type": "markdown",
   "metadata": {},
   "source": [
    "<img src=\"https://emojigraph.org/media/apple/check-mark-button_2705.png\" align=left width=33, heigth=33>\n",
    "<div class=\"alert alert-success\">\n",
    "Данные загружены и исследованы.</div>"
   ]
  },
  {
   "cell_type": "code",
   "execution_count": 5,
   "metadata": {},
   "outputs": [
    {
     "data": {
      "image/png": "[encoded data removed]",
      "text/plain": [
       "<Figure size 432x288 with 1 Axes>"
      ]
     },
     "metadata": {
      "needs_background": "light"
     },
     "output_type": "display_data"
    }
   ],
   "source": [
    "figsize=(18,15)\n",
    "class_counts = df['toxic'].value_counts()\n",
    "plt.bar(class_counts.index, class_counts.values)\n",
    "plt.xlabel('Класс 0                                        Класс 1')\n",
    "plt.ylabel('Количество / частота')\n",
    "plt.title('Баланс/дисбаланс классов');"
   ]
  },
  {
   "cell_type": "code",
   "execution_count": 6,
   "metadata": {
    "scrolled": true
   },
   "outputs": [
    {
     "data": {
      "text/plain": [
       "0    143106\n",
       "1     16186\n",
       "Name: toxic, dtype: int64"
      ]
     },
     "metadata": {},
     "output_type": "display_data"
    },
    {
     "data": {
      "text/plain": [
       "8.841344371679229"
      ]
     },
     "execution_count": 6,
     "metadata": {},
     "output_type": "execute_result"
    }
   ],
   "source": [
    "#Посмотрим сколько у нас токсичных/нектоксичных текстов\n",
    "display(df['toxic'].value_counts())\n",
    "#Выведем соотношение\n",
    "class_ratio = df['toxic'].value_counts()[0] / df['toxic'].value_counts()[1]\n",
    "class_ratio"
   ]
  },
  {
   "cell_type": "markdown",
   "metadata": {},
   "source": [
    "На первом этапе произведена загрузка данных и их подготовка для обучения моделей.\n",
    "\n",
    "В столбце text содержащатся комментарии пользователей к товарам, доступным для приобретения в интернет-магазине «Викишоп».\n",
    "\n",
    "Пропуски в данных отсутствуют.\n",
    "\n",
    "Сделаем 2 небольших вывода: \n",
    "\n",
    "- столбец Unnamed: 0 - необходимо удалить так как он дублирует нумирацию индексов;\n",
    "\n",
    "- превосходство класса 0 в столбце toxic значительно, в 8,84 раза, классы не сбалансированы."
   ]
  },
  {
   "cell_type": "code",
   "execution_count": 7,
   "metadata": {},
   "outputs": [],
   "source": [
    "df = df.drop(['Unnamed: 0'], axis=1)\n"
   ]
  },
  {
   "cell_type": "code",
   "execution_count": 8,
   "metadata": {},
   "outputs": [],
   "source": [
    "disabled_pipes = [ \"parser\",  \"ner\"]"
   ]
  },
  {
   "cell_type": "code",
   "execution_count": 9,
   "metadata": {},
   "outputs": [
    {
     "name": "stderr",
     "output_type": "stream",
     "text": [
      "100%|██████████| 159292/159292 [11:08<00:00, 238.17it/s]\n"
     ]
    }
   ],
   "source": [
    "nlp = spacy.load('en_core_web_sm', disable=disabled_pipes)\n",
    "lemm_texts = []\n",
    "\n",
    "for doc in tqdm(nlp.pipe(df['text'].values, disable = ['ner', 'parser']), total=df.shape[0]):\n",
    "    lemm_text = \" \".join([i.lemma_ for i in doc]) \n",
    "    lemm_text  = re.sub(r'[^a-zA-Z]', ' ', lemm_text)\n",
    "    lemm_text = lemm_text.lower()\n",
    "    lemm_texts.append(lemm_text) "
   ]
  },
  {
   "cell_type": "code",
   "execution_count": 10,
   "metadata": {},
   "outputs": [
    {
     "data": {
      "text/plain": [
       "['explanation   why the edit make under my username hardcore metallica fan be revert   they be not vandalism   just closure on some gas after i vote at new york dolls fac   and please do not remove the template from the talk page since i be retire now             ',\n",
       " 'd aww   he match this background colour i be seemingly stuck with   thank       talk           january             utc  ',\n",
       " 'hey man   i be really not try to edit war   it be just that this guy be constantly remove relevant information and talk to i through edit instead of my talk page   he seem to care more about the formatting than the actual info  ',\n",
       " '    more   i can not make any real suggestion on improvement   i wonder if the section statistic should be later on   or a subsection of     type of accident        i think the reference may need tidy so that they be all in the exact same format ie date format etc   i can do that later on   if no   one else do first   if you have any preference for format style on reference or want to do it yourself please let i know      there appear to be a backlog on article for review so i guess there may be a delay until a reviewer turn up   it be list in the relevant form eg wikipedia   good article nominations transport    ',\n",
       " 'you   sir   be my hero   any chance you remember what page that be on  ',\n",
       " '     congratulations from i as well   use the tool well       talk  ',\n",
       " 'cocksucker before you pis around on my work',\n",
       " 'your vandalism to the matt shirvington article have be revert     please do not do it again   or you will be ban  ',\n",
       " 'sorry if the word   nonsense   be offensive to you   anyway   i be not intend to write anything in the article wow they would jump on i for vandalism     i be merely request that it be more encyclopedic so one can use it for school as a reference   i have be to the selective breeding page but it be almost a stub   it point to   animal breeding   which be a short messy article that give you no info   there must be someone around with expertise in eugenic                 ',\n",
       " 'alignment on this subject and which be contrary to those of dulithgow',\n",
       " '    fair use rationale for image   wonju jpg    thank for upload image   wonju jpg   i notice the image page specify that the image be be use under fair use but there be no explanation or rationale as to why its use in wikipedia article constitute fair use   in addition to the boilerplate fair use template   you must also write out on the image description page a specific explanation or rationale for why use this image in each article be consistent with fair use      please go to the image description page and edit it to include a fair use rationale      if you have upload other fair use medium   consider check that you have specify the fair use rationale on those page too   you can find a list of   image   page you have edit by click on the     my contribution     link   it be locate at the very top of any wikipedia page when you be log in     and then select     image     from the dropdown box   note that any fair use image upload after   may          and lack such an explanation will be delete one week after they have be upload   as describe on criterion for speedy deletion   if you have any question please ask they at the media copyright question page   thank you     talk   contrib       unspecified source for image   wonju jpg    thank for upload image   wonju jpg   i notice that the file  s description page currently do not specify who create the content   so the copyright status be unclear   if you do not create this file yourself   then you will need to specify the owner of the copyright   if you obtain it from a website   then a link to the website from which it be take   together with a restatement of that website  s term of use of its content   be usually sufficient information   however   if the copyright holder be different from the website  s publisher   then their copyright should also be acknowledge      as well as add the source   please add a proper copyright licensing tag if the file do not have one already   if you create   take the picture   audio   or video then the   tag can be use to release it under the gfdl   if you believe the medium meet the criterion at wikipedia   fair use   use a tag such as   or one of the other tag list at wikipedia   image copyright tags fair use   see wikipedia   image copyright tag for the full list of copyright tag that you can use      if you have upload other file   consider check that you have specify their source and tag they   too   you can find a list of file you have upload by follow   this link     unsourced and untagged image may be delete one week after they have be tag   as describe on criterion for speedy deletion   if the image be copyright under a non   free license   per wikipedia   fair use   then the image will be delete    hour after   if you have any question please ask they at the media copyright question page   thank you     talk   contrib      ',\n",
       " 'bbq    be a man and let discuss it   maybe over the phone  ',\n",
       " 'hey     what be it          talk     what be it     an exclusive group of some wp talibans     who be good at destroy   self   appoint purist who gang up any one who ask they question abt their anti   social and destructive   non  contribution at wp      ask sityush to clean up his behavior than issue i nonsensical warning    ',\n",
       " 'before you start throw accusation and warning at i   let review the edit itself   make ad hominem attack be not go to strengthen your argument   it will merely make it look like you be abuse your power as an admin     now   the edit itself be relevant   this be probably the single most talk about event int he news as of late   his absence be notable   since he be the only live ex   president who do not attend   that be certainly more notable than his dedicate an aircracft carrier     i intend to revert this edit   in hope of attract the attention of an admin that be willing to look at the issue itself   and not throw accusation around quite so liberally   perhaps   if you achieve a level of civility where you can do this   we can have a rational discussion on the topic and resolve the matter peacefully  ',\n",
       " 'oh   and the girl above start her argument with i   she stick her nose where it do not belong   i believe the argument be between i and yvesnimmo   but like i say   the situation be settle and i apologize   thank  ',\n",
       " '     juelz santanas age    in        juelz santana be    year old   then come february   th   which make juelz turn    make song with the diplomats   the third neff to be sign to cam  s label under roc a fella   in        he be    year old come out with his own single     santana  s town     and     down       so yes   he be bear in        he really be   how could he be old then lloyd banks   and how could he be    when his birthday pass   the homie neff be    year old                 juelz death   god forbid if your thinking about that   equal      go to your caculator and stop change his year of birth   my god    ',\n",
       " 'bye      do not look   come or think of comme back   tosser  ',\n",
       " 'redirect talk   voydan pop georgiev  chernodrinski',\n",
       " 'the mitsurugi point make no sense   why not argue to include hindi on ryo sakazaki  s page to include more information  ',\n",
       " 'do not mean to bother you    i see that you be write something regard remove anything post here and if you do oh well but if not and you can acctually discuss this with i then even well      i would like to ask you to take a close look at the premature wrestling death catagory and the man list in it   surely these man belong together in some catagory   be there anything that you think we can do with the catagory besides delte it  ',\n",
       " '      regard your recent edit    once again   please read wp   filmplot before edit any more film article     your edit be simply not good   with entirely too many unnecessary detail and very bad writing     please stop before you do further damage          the       ',\n",
       " '    good to know   about i   yeah   i be study now  deepu    ',\n",
       " '      snowflake be not always symmetrical      under geometry it be state that     a snowflake always have six symmetric arm       this assertion be simply not true   accord to kenneth libbrecht       the rather unattractive irregular crystal be by far the most common variety       http   www its caltech edu  atomic snowcrystals myths myths htm perfection someone really need to take a look at his site and get fact off of it because i still see a decent number of falsity on this page     forgive i i m new at this and do not want to edit anything    ',\n",
       " '      the signpost      september          read this signpost in full    single   page    unsubscribe        ',\n",
       " '     re   consider  st paragraph edit     i do not understand the reason for be recent edit of this article   not that i be sure that the datum be necessarily     wrong         rather   i be persuade that the strategy of introduce academic honor in the first paragraph be an unhelpful approach to this specific subject     i note that article about other sit justice have be similarly     enhance       and i also believe those change be no improvement       in support of my view that this edit should be revert   i would invite anyone to re   visit article write about the follow pair of jurist      a    benjamin cardozo    a    learned hand     b    john marshall harlan    b    john marshall harlan ii    the question become   would the current version of the wikipedia article about any one of they   or either pair   be improve by academic credential in the introductory paragraph     i think not      perhaps it help to repeat a wry argument kathleen sullivan of stanford law make when she suggest that some on the harvard law faculty wonder how antonin scalia avoid learn what other have manage to grasp about the process of judging     i would hope this anecdote gently illustrate the point      less humorous   but an even strong argument be the one clarence thomas make when he mention want to return his law degree to yale      at a minimum   i be question this edit     it deserve to be reconsider       ',\n",
       " 'radial symmetry    several now extinct lineage include in the echinodermata be bilateral such as homostelea   or even asymmetrical such as cothurnocystis   stylophora         ',\n",
       " 'there be no need to apologize   a wikipedia article be make for reconcile knowledge about a subject from different source   and you  ve do history study and not archaeology study   i guess   i could scan the page   e   mail it to you   and then you could ask someone to translate the page  ',\n",
       " 'yes   because the mother of the child in the case against michael jackson be study in here motive and reasoning and judge upon her character just as harshly as wacko jacko himself     do not tell i to ignore it and incriminate myself     i be go to continue refute the bullshit that jayjg keep throw at i                 jun        utc  ',\n",
       " '    ok   but it will take a bit of work but i can not quite picture it   do you have an example i can base it on     the duck  ',\n",
       " '      a barnstar for you            the real life barnstar let we be the star       ',\n",
       " 'how could i post before the block expire     the funny thing be   you think i be be uncivil  ',\n",
       " 'not sure about a heading of   fight for freedom   what will it contain  ',\n",
       " 'praise    look at this article about   month ago  much improve    ',\n",
       " 'i be able to post the above list so quickly because i already have it in a text file in my hard drive   i  ve be mean to get around to update the sound list for some time now     as far as generate interest   i  ve spend four year try to drum up more interest in freely license full length classical music   unfortunately   my attempt fail   i be still effectively the only one who do it   the classical music wikiproject be not interested     wikipedia talk   wikiproject classical music   archive   need help   wikipedia talk   wikiproject music   archive   i could use some helpwikipedia talk   wikiproject music   archive   raulbot  c and the music list   so i really have give up try to interest other      the sound list be feature on digg a while back   http   digg com music wikipedia has free classical music download   it get      digg   which be imo very impressive  ',\n",
       " '    well   not     before the process     but     before how we do thing with subpage     his rfa be list on noseptember  s page and you can find it if you look   september      i think   i have my difference with el c to be sure   but be surprised to see a block   so i leave a note         t   c  ',\n",
       " '     not at all   you be make a straw man argument here   i never claim o donohue have that position   rather that practitioner and researcher in the field ignore the dsm position   which be exactly what the quote say and also something o donohue agree with      again   i be combat the notion that it be a     absurd part     to claim that pedophilia be a sexual orientation   since many researcher hold this position   it would be unfair to call it absurd   the disorder part be divide in the field   some argue that it be not a disorder at all   some do   at the end of the day   it be a value judgment   as cantor point out early in the thread     not a scientific judgement   if we choose to make this value judgment in the article   it should be state clearly and not pretend to have a scientific basis       ',\n",
       " '          mainland asia     include     the low basin of china  s yangtze river     as well as     korea         but be specific be fine too     i just find a citation for a more comprehensive dna study by hammer below   rather than our generarization and speculation so far       citation for     yayoi culture be bring to japan by migrant from korea   who in turn trace their root to southeast asia   south china                dna study by hammer    describes the yayoi migration from korea base on the o   sry       gene and other gene with close lineage   haplogroup o   m    and o   m         reiterate that     the entire o haplogroup have be propose to have a southeast asian origin           their definition of southeast asia include southern china       then hypothesize that     the dispersal of neolithic farmer from southeast asia also bring haplogroup o lineage to korea and eventually to japan          in the conclude paragraph   it state     we propose that the yayoi y chromosome descend from prehistoric farmer that have their origin in southeastern asia   perhaps go back to the origin of agriculture in this region          hammer  s dna study be base on a     global sample consist of         male from    asian population   include six population sample from across the japanese archipelago           ',\n",
       " 'pretty much everyone from warren county   surround region be bear at glens falls hospital   myself include   however   i be not sure this qualify anyone as be a glen fall native   rachel ray be   i believe   actually from the town of lake luzerne       the precede unsigned comment be add by                             august             utc  ',\n",
       " 'hi explicit   can you block o fenian for edit   warring on the giant  s causeway wp   he have make several edit which can only be describe as terrorism  ',\n",
       " 'notability of rurika kasuga   a tag have be place on rurika kasuga   request that it be speedily delete from wikipedia   this have be do because the article seem to be about a person   group of people   band   club   company   or web content   but it do not indicate how or why the subject be notable   that is   why an article about that subject should be include in wikipedia   under the criterion for speedy deletion   article that do not assert notability may be delete at any time   please see the guideline for what be generally accept as notable   and if you can indicate why the subject of this article be notable   you may contest the tagging   to do this   add   on the top of the page   below the exist db tag   and leave a note on the article  s talk page explain your position   please do not remove the speedy deletion tag yourself   but do not hesitate to add information to the article that would confirm its subject  s notability under the guideline      for guideline on specific type of article   you may want to check out our criterion for biography   for web site   for band   or for company   feel free to leave a note on my talk page if you have any question about this  ',\n",
       " '     sure   but the lead must briefly summarize armenia  s history   i simply add what i find necessary   if anyone think this or that sentence be redundant for the lead   they be welcome to remove make edit     talk    ',\n",
       " 'tfd    i think we just ece   i think we respond to each other without see each other response   i add something in response to yours   but do not know if you see mine     t   c  wp   chicago   wp   four  ',\n",
       " 'you be gay or antisemmitian      archangel white tiger    meow   greetingshhh      uh   there be two way   why you do erase my comment about ww    that holocaust be brutally slay of jews and not gay   gypsys   slavs   anyone            if you be anti   semitian   than shave your head bald and go to the skinhead meeting          if you doubt word of the bible   that homosexuality be a deadly sin   make a pentagram tatoo on your forehead go to the satanistic masse with your gay pal          first and last warning   you fuck gay   i will not appreciate if any more nazi shwain would write in my page   i do not wish to talk to you anymore      beware of the dark side  ',\n",
       " 'fuck your filthy mother in the ass   dry  ',\n",
       " 'i be sorry    i be sorry i screw around with someone talk page     it be very bad to do     i know how have the template on their talk page help you assert your dominance over they     i know i should bow down to the almighty administrator     but then again   i be go to go play outside      with your mom                  ',\n",
       " 'i do not believe the lisak criticism present there conform with the npv rule     lisak do not have a neutral point of view to begin with     if an offer to polygraph or even concerned review of polygraph result shock a complainant into think her lie have be uncover   the recantation be still perfectly valid     if you know you be tell the truth   you will argue with machine or investigator     also part of kanin  s research be a followup of the recanted story where possible to verify if any be false recantation     in all followup the recanted version of event match what the accuse say happen      argue that lisak be a respected phd be baseless if kanin be a respected phd     i agree that my edit be not as neutral as possible though   so apologize for that     still something must be do here  ',\n",
       " 'you have a point   and it be now ammende with appropriate encyclopedic notability   significance  ',\n",
       " 'in other word   you be too lazy to actually point anything out   until you change that approach   the tag go  ',\n",
       " '    as for your claim of     stalk       that be absolute rubbish and serve only to aggravate the situation   i have assume good faith   and good intention   on your part   and have never suggest   or see reason to suggest   that you might have some ulterior motive in mass   add link to one specific company  s web page   nor   for that matter   have i ever make any suggestion that this be an     administrative     matter or even mention such a role     clearly   as a party to this disagreement   i would not do so at any rate as it would be a conflict of interest     i would ask that you thus extend the same good faith toward i   rather than make spurious and unfounded accusation              chatspy     ',\n",
       " '          jmabel   in regard to predominant scholary consensus who be it that allegedly claim     despite     third way     rhetoric   fascism in power function rather consistently as a right   wing force       as far as i be aware   own numerous book on the subject   that be not the scholary consensus at all   the consensus   develop by respected scholar of fascism who write in a manner which be not bias to any interest group such as roger griffin   hamish mcdonald   roger eatwell and zeev sternhell all recongise fascism as a     third way     as the reference show      the only dissenter i be aware of who seem to think fascism have absoutely no leftist connection and be merely a radical right system be street level socialist who want to put as much distance between the movement as possible   this of course do not come from educate people in a position to write book   for example   even the foremost scholary expert on fascism   and a former member of both the communist party and then socialist party of italy   renzo de felice do not try to     cover up     its socialistic origin and third way status   this be a man who have write a definitive seven volume piece on mussolini           ',\n",
       " '     bi   you say you want to talk    at the bottom of the lead section you have write          its promoter speculate in      that the skyhook concept could be cost competitive with what be realistically think to be achievable use a space elevator   but the skyhook be not competitive with other rotate tether concept   in addition   the rotate skyhook be in fact deem     not engineeringly feasible use presently available material              regard     in addition   the rotate skyhook be in fact deem     not engineeringly feasible use presently available material        that statement appear to come from ref       on page        the full quote be        if the mass of the tether alone start to exceed     time the mass of the payload     then that be an indication the particular scenario be consider be not engineeringly   feasible use presently available material   although the application might become feasible in   the near future as well material become available with high tensile strength at high   operational temperature          it then go on to say        as we shall see   presently available commercial material will suffice to make the hastol   tether need   the primary message we want to leave with the reader be       we do not need magic material like   buckminster   fuller   carbon   nanotube   to make   the space tether facility for a hastol system   exist material will do            so it would appear that you misread your reference     the tether mass of     time mass of the payload mass be the upper limit to the problem     systems where the tether mass be less than     time the payload mass can be build with     presently available commercial material          to far reinforce this the conclusion to the report state        the fundamental conclusion of the phase i hastol study effort be that the concept be   technically feasible   we have evaluate a number of alternate system configuration that will   allow hypersonic air   breathe vehicle technology to be combine with orbit   spinning space   tether technology to provide a method of move payload from the surface of the earth into   earth orbit   for more than one hastol architecture concept   we have develop a design   solution use exist   or near   term technology   we expect that a number of the other   hastol architecture concept will prove similarly technically feasible when subject to   detailed design study   the system be completely reusable and have the potential of drastically   reduce the cost of earth   to   orbit space access          regard       but the skyhook be not competitive with other rotate tether concept       and        a      boeing report on the possibillity of combine skyhook with hypersonic plane conclude that     in general   the non   spinning tether hyperskyhook concept do not look competitive with the spinning tether concept                the full quote be          hyperskyhook    in      zubrin propose the   hypersonic skyhook   as a solution to the mismatch between   the attainable atmospheric speed of a hypersonic airplane and the orbital speed of space tether     since the orbital speed of the space tether decrease with increase altitu',\n",
       " 'get fucked up   get fuckeeed up     got a drink that you cant put down     get fuck up get fucked up     i m fucked up right now  ',\n",
       " 'be you threaten i for dispute neutrality   i know in your country it be quite common to bully your way through a discussion and push outcome you want   but this be not russia  ',\n",
       " 'thank   undeletion be more than i would hope for   i be research the status of texas government   include local government   copyright status   but it be slow go   apparently work of the florida government be usually public domain   but we do not have a similar article on texas   so i guess i  ll have to research the old   fashioned   non   lazy   actually reliable way   or ask the copyright help desk   like you suggest   in the meantime   i be use the fair use rationale   since it be valid while the image be use in an article   thank again    ',\n",
       " 'awesome   then i  ll simply disregard your notice   thank  ',\n",
       " 'stupid peace of shit stop delete my stuff asshole go die and fall in a hole go to hell  ',\n",
       " '  tony sidaway be obviously a fistfuckee   he love an arm up his ass  ',\n",
       " '      ga review ii    i be sorry to say this   but i have to fail this article  s gan   the several major problem that   bring up in this article  s previous ga assessment have not be issue   as s   he have say before i       he article  s wp   lead should be long   the history   media attention   academics   student government   demographics   trivia   and additional information section be very deficient in citiation   also   triva and additional information should be integrate into the rest of the article       again   please look over wp   wiaga and fix these problem   then renominate it for ga   class   however   i have re   assess this article as b   class   as it do meet b   class criterion   my regard       ',\n",
       " 'my band page  s deletion   you think i be go      delete the comment i post on your   talk page   do not delete my feeling for your hasty decision to delete my page   you   sir   be still a cock   suck douche fuck   sit back for a second and think about what your life have become                do   that do not take long do it   nope   because   as i be most certainly aware   your life be a shitstorm of sit in front of the computer masturbate to fictional creature   your attempt to get rid of i be mediocre at good   you be constantly suck the dick of failure   you do not want a personal attack   huh   well   too bad   fuckcock mcdickerson   you  ve get one   from i   you can go ahead and delete my profile from wikipedia   i  ll just make another one and come right back to   syrthiss  s talk page and insult the dick off of you   how could you shatter the dream of an innocent eighteen year old college freshman try to make a name for his band   do that make you happy   fucking with people because you be an overweight   single   old man in a dead   end job   do you spot that perhaps someone else be go to follow his dream and you be try to hold he back so somebody else could suffer like you   yes you do   i do not make empty threat   so i will not be say anything along the line of   i  ll hurt you   or   i  ll eat the child from within your sister  s womb     but i will say that you be a asshole   son   of   a   bitch   mother fucking cock sucker   so   go eat some more food and drown your sorrow you premature ejaculating   bald headed fuck      you should do something nice for yourself   maybe go grab a couple of horny goat weeds from your local convenience store and jack off for a little long than three minute tonight      sincerely     an asshole that be well than you in every way  ',\n",
       " 'why can not you believe how fat artie be   do you see he on his recent appearence on the tonight show with jay leno   he look absolutely awful   if i have to put money on it   i would say that artie lange be a can not miss candidate for the      dead pool           kindly keep your malicious finger off of my above comment     everytime you remove it   i will repost it      ',\n",
       " 'lock this page would also violate wp   newbies     whether you like it or not   conservative be wikipedians too  ',\n",
       " 'a bisexual   like a homosexual or a heterosexual   be not define by sexual activity     much like a    year old boy who be attract to a girl sexually but have never have sex be still straight     a person who be actually sexually attract   arouse by the same sex as well as the opposite sex be bisexual  ',\n",
       " 'redirect talk   frank herbert mason',\n",
       " '         christian arab       hi   could you please stop enforce the category     christian arab     on non arabic christians live in the middle east   this be wrong   we middle   eastern christians   though not arab   have go through arabization   and that need to stop   we be not arab   we have our own ethnicity   and we should not be force to be call     christian arab       if a christian european be bear in the middle east   should he be call a     christian arab     because of that reason alone   please understand   they be syriac christians   i e  of assyrian ancestry     and most of they speak aramaic   though a lot of they be forget it   as someone who speak aramaic   you should respect this fact   and not appease muslim who want to call everyone arab just because they be in the middle east   we be not closely related to the arabs from saudiarabia   we have our own ethnicity   please stop force upon we some alien arab ethnicity   that be oppression    talk          jun          utc    ',\n",
       " '      dh   dude   abc officially say this be the name for that episode   i do know there be already an episode with that name   but abc say it be     everybody  s say do not           ',\n",
       " 'all of my edit be good     cunts like you who revert good edit because you be too stupid to understand how to write well   and then revert other edit just because you  ve decide to bear a playground grudge   be the problem     maybe one day you  ll realise the damage you do to a noble project                    ',\n",
       " '       neiln  s bang on   you be not be harass at all   if you do not edit disruptively   you do not get revert     talk  ',\n",
       " 'i go there around the same time he do   and that certainly be not the case at the time   later on they stop take child from such a young age  ',\n",
       " 'there must be some chemical imbalance in your brain   be you ok   the gibberish you guy be write really make i feel sorry for you   do not ever go to law school   you would do the legal profession bad  ',\n",
       " '     parzival      you be try to scare thatso   how can you say that the comment of thatso be     insult       thatso be try to suggest that there should be no original research in the wikipedia   and   he be right    ',\n",
       " '     oppose   as the article stand   it do not properly reference under the wp   reference guideline   if this issue be resolve   i do not any issue with it be move to the mainspace                       ',\n",
       " 'i would appreciate an apology from both of you but i can see that be unlikely     if not please do not waste my time any long with attempt at try justify either your or plasma physics transgression toward i or bother i any long about this issue and i shall leave you alone and seek other here who deserve my considerate attention  ',\n",
       " 'they be not original research   they be point in the episode  ',\n",
       " '     ambiguous     so mabuska irish can mean more than one thing   i will qoute you on that  thanks       precede unsigned comment add by                   of course it can   the word     irish     be not invent on the establishment of the irish free state   talk    quote i all you want   it depend on the context of the term when its be use as to whether its applicable or not   note how i say citizenship and ethnicity   i never mention nationality which be the real key meaning   the nationality meaning of the term be the predominantly use form on wikipedia   in nationality term it refer to the republic of ireland   but you already know that i be sure       talk          in nationality term it refer to the republic of ireland     no such country   so nationality term it refer to ireland       precede unsigned comment add by                     oh wow   ireland as in ireland the state   whose official description be the republic of ireland     what s the point in this inane conversation       talk      ireland whose official name be ireland       precede unsigned comment add by                    http   www constitution ie reports constitutionofireland pdf reading for you   also   i see http   www constitution ie reports mbunreachtnaheireann pdf   as you speak both       precede unsigned comment add by                   ',\n",
       " '    while the magazine  s masthead say     time     the corporate name be time inc    you can easily look this up     on the other hand   abn amro be always the corporate name     you can look this up as well       ',\n",
       " 'take your belate and piffle prevarication elsewhere   too late for here  ',\n",
       " 'that be what i be look through   it look like he be just be an all around dick on talk page though   it be nothing too bad though   look more like an inability to express himself properly   thank you for your concern also   cheers      ',\n",
       " 'in the same direction   be it really necessary to name all the us state who recognize it   why not give just the number of state   this be not an american encyclopedia   but an universal one   i do not see why every single us state which recognize it should be name       ix  ',\n",
       " '     december        utc      you must not play metal gear solid   that often   gw be the arsenal gear a i  that go haywire after solid snake upload emma  s virus          ',\n",
       " 'hi   i be back again     last warning     stop undo my edit or die  ',\n",
       " '     minimization of textile effluent    a propose deletion template have be add to the article minimization of textile effluent   suggest that it be delete accord to the propose deletion process   all contribution be appreciate   but this article may not satisfy wikipedia  s criterion for inclusion   and the deletion notice should explain why   see also     what wikipedia be not     and wikipedia  s deletion policy       you may prevent the propose deletion by remove the   notice   but please explain why you disagree with the propose deletion in your edit summary or on its talk page   also   please consider improve the article to address the issue raise   even though remove the deletion notice will prevent deletion through the propose deletion process   the article may still be delete if it match any of the speedy deletion criterion or it can be send to articles for deletion   where it may be delete if consensus to delete be reach   if you agree with the deletion of the article   and you be the only person who have make substantial edit to the page   please add   to the top of minimization of textile effluent        ',\n",
       " '     be it scientific to attribute an event a   to cause b   where cause b be deliberate design   with some sort of intelligent intent   do not answer the question beyond that   well   the problem with not answer beyond that be that your example be completely rigged   there be several major fundamental problem here       first   you completely fail to mention the fact that the intelligence behind id be quite literally not of this earth   natural science might look at a honeycomb   see it be build by bee   and then find an odd look fossilize honeycomb   and theorize that it be make by odd looking bee   that be fundamentally different than say it be make by something not of this earth   id have at its core the notion that something outside the system we can observe be at cause here   this be not science in any sense of the word   it be mythology   when paul bunyan be have a wrestling match with babe his blue ox   they kick up so much dirt they create the great lake   no evidence of paul and his ox remain   i mean   really       second   natural science take an approach to knowledge that nothing be know scientific law unless it be irrefutable   theory must have heavy support empirical datum to back it up   id turn this on its head and do an end run around knowledge and play game with     probability       if no one can say how flagella on bacteria could have form naturally   how in the hell can id proponent come up with any sort of mathematically accurate probability of flagella naturally form on bacteria   if you do not understand it   you can not do statistic on it   id jump right over that hurdle and take anything that do not have a complete   detailed   natural explanation and jam in their own statistic that say     well   it be so improbable for this to happen   that someone must have design it       this be such a perversion of science   you can assign probability to something you do not understand   id be just make up their number       finally   your example have a  b   where b be deliberate design   that be all well and good for a rigged example   except that with respect to life on earth       b     be unknown   your a  b example might qualify as forensic science   if     a     be a dead body and     b     be a bullet in the heart   you see a bunch of dead body with bullet through the heart   the next time you see a body with a bullet through the   heart   you can probably figure that be what kill he   you do not have that with life on earth   you have one scenario       a       and you have no other case to observe or test   so   in that sense   a  b be not scientific if you  ve never actually observe     b         btw   b be teh intelligent designer   which have never be observe     so   in that sense   no   it be not science      ',\n",
       " 'screwjob       hey i notice your comment on the montreal screwjob discussion page   i decide since nobody except someone with no account object to what you say   i would atleast change the page a little to make it fair   i just want to tell you because i think you would like to know   i only change a few word at the top of the first paragraph and add something to the second one   if your not bother that s fine but i think since you be fight for and nothing be even say   i might aswell tell you  ',\n",
       " 'april        thank you for experiment with the page andy griffith on wikipedia   your test work   and have be revert or remove   please use the sandbox for any other test you want to do   take a look at the welcome page if you would like to learn more about contribute to our encyclopedia  ',\n",
       " '     christ       iq be select for therefore every population have the same iq       never cease to amaze i         ',\n",
       " 'can you prove it be not   if you have a well knowledge of the english language it would have be obvious to you  ',\n",
       " 'would you both shut up   you do not run wikipedia   especially a stupid kid  ',\n",
       " 'oh   it be i vandalising xd see here   greeting  ',\n",
       " 'website    you all     i be think of get myself a website to display my picture and this be the cheap thing i could find   i do not know about other   but fir and diliff   you guy have website   do you think it be legit   could you provide any well alternative   help from any other guild member be also appreciate   thank   talk  ',\n",
       " 'thank read there now  ',\n",
       " 'personal attack in fruit brute vfd    my apology if i be be to critical   but i feel that many of the comment make in the fruit brute vfd debate be far from reasonable     there have to be a more diplomatic way to disagree with  s assertion on the initial sentence than do not lie   it make you look even more juvenile      learn to face up to when you  ve goof   it will go a long way in your life   the attack do to his age certainly border on a personal attack     be bart    forty   sixty   or eighty   would you have include the comment on how   juvenile   he be      i do not expect you to apologise to anyone   but i want to make it clear that i consider your comment in this vfd debate inappropriate   and i think their be many member of the community who would agree with i      talk              feb     utc  ',\n",
       " 'transliteration of russian place name   in writing about moscow metro for the malayalam wikipedia   we be find it difficult to correctly transliterate the russian place name   for example   do we pronounce park kultury as paark kalttari or paark kalchchari   or perhaps something completely different     can somebody please help by transliterate the list give in https   ml wikipedia org wiki                         i be not put the list here as i do not want to clutter up this page     thank',\n",
       " '    almost get i too   i have to look it up to see if it be real         talk  ',\n",
       " 'how can one defame someone who think the fort hood shooting be justify by god  s law  ',\n",
       " 'lack of balance    this article be seriously out of balance     it would benefit greatly from the introduction of additional information about the negative aspect of the t        just for the record   this sort of balance problem be not uncommon when there be an over dependence on the work of a particular author     for example   testing and evaluation of a t    by the us army ordnance dept   expose some very serious problem with the tank     this type of information should be include in the article to bring it back into balance  ',\n",
       " '     thank   i can see that violate clearly state wikipedia policy be no problem with some people   as be now be review elsewhere   finish up one other wiki project todsy and then spend the rest of the day on an important personal blog entry     then i  ll go find other discussion of james petras   fascinating discussion of the use of the term     jewish lobby     so that i do not have to put back up the delete dissident voice article right away per talk   jewish lobby wp   v   comparing jewish virtual library and dissident voice     carol moore   talk  ',\n",
       " '    hi   thank for our kind word   see you around   talk  ',\n",
       " 'collusion in poker    this be regard as most heinous form of cheat in poker   perhaps some mention of this   or example   be warrant  ',\n",
       " 'thank much   however   if it be be resolve   why be it that today   when i do not write anything in edit summary   camera put its ad in my edit summary box  equalvoice    talk  ',\n",
       " 'you can do all you be do right now but if you get a username you  ll be able to do more and have more impact be what i be say   and you seem to be very familiar with everything so you probably have a username   just get one   it take    second       talk contribs  ',\n",
       " 'however   the moonlite edit note by golden daph be i   on optus         wake up wikki     so funny',\n",
       " 'check the follow website      http   www iranchamber com personalities farabi farabi php   http   www islam org br  c  a al farabi htm   http   www superbeyin com sohbet sohbet htm',\n",
       " 'i can not believe no one have already put up this page dilbert  s desktop games so i do',\n",
       " '     well   after i ask you to provide the diff within one hour of your next edit here   you make an edit to your talk page here and then do not provide the diff i request within one hour of that edit   i then sanction you for fail to provide the request diff in a timely manner   which   after more than a week   you have still not do     consequently   your request to lift the sanction be deny      ',\n",
       " 'what page shoudld there be for important character that don t reoccur     void   black doom   mephiles   etc',\n",
       " 'a pair of jew   hate weiner nazi schmuck  ',\n",
       " 'i tend to think that when the list be long than the rest of the article   there be a problem     either the history and characteristic should be expand   of the list should be cull     i personally like the consensus that be reach in the tripel article between   and other     myself include     we decide that the country of origin should be highlight with the most example     there we do trappist   abbey   and foreign     foreign include all non   belgium example     this way the article be an article in an encyclopedia   not a list     people can find list anywhere   and the article should reference this     also   the style statistic be bad     when you say style statistic   it sound like a prescription   not a description     an encyclopedia should follow the latter   and if the former be use   a citation should follow     and you  ll not find a valid one for this style in it be country of origin  ',\n",
       " '      what be up with this         if you be a religiously or politically motivated to push this or that issue   please refrain from talk on my page   i be not interested   otherwise   feel free to talk about relevant edit here or science   deleet   talk      i would prefer if the follow user never post here     maunus    aunus snun w   weijibaikebianji        this guy be a publish psychology researcher right   perhaps he do not know you have access to library and the good source   you should point that out more often   it do not come across as mind   bendingly condescend   also i suspect that editor be a racist   see you on the wiki                     ',\n",
       " 'i be not vandalize     i be just have fun man   you have no sense of humor if you think i be vandalize stuff   lemonparty org   this site now',\n",
       " 'welcome to wikipedia     bla   discover ekopedia   the practical encyclopedia about alternative life technique          bla   discover ekopedia   the practical encyclopedia about alternative life technique  ',\n",
       " 'include some appropriate mention of the solomon article be not without some level of support  ',\n",
       " '     comment   i could not verify the claim       talk    ',\n",
       " '     czech republic be in central europe   the state of this article be part of the reason why people be make such confusion   especially more ridiculous be that they you would replace the mention of north caucasus in favor of     north slope of caucasus mountain     which be not even a geographical area other than denote the mountain in that region   country be locate within continent   yet for some reason you refuse to allow this article to be denote a continent   this single factor alone would have make a massive difference for reader   i be tired of argue with people who be essentially wiki   squatter refuse to nudge on a give article                    ',\n",
       " 'thank   josette   i enjoy meet you   too   i be shock by the decision   which do not begin to reflect consensus   do just one grand poobah make it alone   serve i right for steal time from more press real   world duty to indulge in a fun hobby   i  ve learn my lesson and will not waste time like that again   i  ll stick to fix the little thing i run across as i read article for my own information  ',\n",
       " 'paleontologist agree that organic remain must be bury quickly so they can be preserve long enough to be come fossilize     however   the term fossilize be not a very precise term     there be several factor and metamorphic mineral process which occur to organic remain that result in what be typically call a fossil     one major factor concern what kind of organism be to be fossilize   vertebrate   invertebrate   radiolarian   sponge   plant   pollen   foot print   etc     and multiple process may include permineralization   recrystalization   carbonization   replacement   dissolve   diagenesis   etc     talk about fossilization be a complex issue   however quick burial be not question      the major question be   how long do it take for these process to work on organic reamin in the environment they be find in     experimental taphonomy have result in an assortment of remain become fossilize by various process in the lab   which of course imply that give the right condition   vast age be not an issue     the metamorphic process be ongoing until an equilibrium be meet between the chemical enviroument of the burial site and the mineral of the organic remain     flood catastrophic geologist do not expect that organic remain bury during the flood be completely fossilize within the one year period of the flood   but rather that there have be some      year for the process to have be work     much more work need to be do on the taphonomy of organic remain     yet   how one interpret even those result will depend upon which world view you choose to believe with  ',\n",
       " 'also i think vegetable basket need it be own wikipedia page  ',\n",
       " 'bigfoot reference    the magazine be well know as just the engineering and mining journal   which you may have a difficult time finding   depend on where you live     i run across the article a few year ago while research something else   and make a copy     it be clearly derive from press account   and treat the incident as a joke     my whole point in cite it be to show that the incident   whatever it be   be not   entirely   create      year after the fact     if you leave i your email   i will scan the page and email you a pdf  ',\n",
       " 'also see this if you can not trust murkoth ramunni   http   books google com books id hhev u gfpec pg  pa   dq  thiyya matrilineal hl  en sa  x ei  tlppud ah mwiqlgvidgba ved   cdyq aewaq v onepage q  thiyya   matrilineal f  false',\n",
       " '      chart performance of     single ladies   put a ring on it          please take my advice and split up the paragraph in the section   fa generally have short paragraph   it be hard and boring to ingest so much information at once   so split the paragraph will improve the flow         talk      ',\n",
       " '     hahahaha      good one          i have remove it       ',\n",
       " '     have say that   i  ve temporarily remove my request base on cyde  s advice   pende a     request for consensus     i  ve ask for on the talk page   i urge anyone read this to vote so we all know what the community want      ',\n",
       " 'conformity as healthy    i may have miss it   but this article do not seem to address conformity as just a healthy behaviour   such as the way that we conform to grammar so that we can be understand   or that we conform to law because we recognise a need for an orderly society                 ',\n",
       " 'hi   i be new to wikipedia   read up on pandemic today   i be impress by the quality of information   to my knowledge not easily available elsewhere in the same easily accessible format   thank you all of you for create this content and make it accessible  ',\n",
       " 'should say something about his view as an educationalist and socialist political commentator      link to http   www langandlit ualberta ca fall     steigelbainbridge html mention this a bit   he stand as an election candidate for respect  ',\n",
       " '      sandbox     do not take the template out of the sandbox   it say     do not remove     for a reason                jan        utc       ',\n",
       " 'heh   it be a bit of a copy of wikipedia   wikiproject professional wrestling   but i think it look a bit tidy and well that way  ',\n",
       " 'ahh   hello witzeman                     symbol                                                                                                                                                m  m    characters                                                                                                                                                                                                                                                                                                                                                                                                                                                                                                                                            greek                                                                                                                                                        cyrillic                                                                                                                                                                                                                                  ipa   t  d                                                                                                                                                                                                                                      my famous article     witze   happiness   wikipedia the witzeman be a great honour that have be pass down through the generation of many family   regardless of race   age   character or knowledge   the outside world know little about these elusive character   and the honour of the witzeman   for those who have ever be a witzeman   it have be say to have be a great honour   although the quality need for the job have never be disclose   a person may not now they be a witzeman for many year   until they be call by former witzemans via dream   associate of the witzeman be know to be a certain babe cool or the much lesser know witzewoman      the present witzeman be an      year   old boy namely benjamin woods   who be say to have become a witzeman after he feel this   awesome radiance in his top   right bumcheek     he have not tell a great number of people his testimony   but have promise to do so in year to come                                 history   the present world have only come enlightne with the knowledge of the witzeman in present year   because former witzemen have not be so public about the honour   to abide with the formality and conservativism in their time   the term   witzeman   be a compound word of the adjective witze and   man     witze be an   th century term for   a person of extreme humour and radiant intelligence     unfortuneatly   witze be also sometimes associate with bad wind   for unspeakable reason                             proper history   as early as the   th century   witzemen be consider outcast   and young child be encourage to poke they with stick   this lead to the  st witzeman rebellion of      when the current witzeman and his follower attempt a coup to take over the local council chess team   this rebellion far disgrace the witzeman   as he and his follower be embarassingly pronounce   gaga   at a government meeting that year   the period from here to the early     s be a dark time in the witzemans history   however good time be to come for the witzeman   many normal people take part in mass demonstration and protest for the witzeman in the     s   build up to a great moment in the history     the great rebellion of        this be when several witzeman sprint round the visitors gallery of the house of commons   wear clown mask   but otherwise completely naked   this be think to be an act of circambulation   however many people who witness this shocking behaviour   be   mentally   spiritually   and emotionallly scarred for life     this group of people include many young child who be force to go to asylum in a state of mental instability   suffer from trauma   it be at this time that the government finally take positive action for the witzeman   in        a bill of right for the witzeman be sign   state all witzemen be allow to do as they please   although this be a formal agreement   many journalist view it as a letter of submission from the government to the witzeman   as the behaviour of the witzeman and his follower become more and more twisted  ',\n",
       " '     ok   just finish my plan cleanup of the todo page   the entry that be remove be copy to the investigate entry page so we have a record that we look at they          talk      ',\n",
       " '      on dec             a nist scientist say         the collapse of the tower be not of any magnitude that be seismically significant           see dr wood  s     the scientific method apply to the thermite hypothesis     paper on her tripod site for mp  link      ',\n",
       " 'the statement draw from watchtower literature   honestly   not clandescently   not with hypocrisy   be draw from watchtower literature via ray franz  s argument and literature   and impose into the wikipedia article   it be too much of a coincidence that a more or less follower of ray franz be go to come up with a reference to wa   literature on his own   exactly the same connection ray franz make   without have first see the connection make in ray franz literature       natural     nature',\n",
       " 'sorry about that     i have check   but have only come up with dulas bay     somehow i have miss the dulas disambiguation page completely     apology again   it be not even as if it be get particularly late at night     the onset of swine flu perhaps  ',\n",
       " 'tcm    i can find no evidence that acupressure be a tcm   rather than derive from tcm   if no one object i  ll place a citation note in the article  ',\n",
       " 'well   it still need expansion in area   citation in other   more image   be go to get a pic of the stanley cup banner tonight at the hitmen game   but forget my camera   and a thorough review   copy edit by someone with a well flair for word than i   but work progress     lute',\n",
       " 'a redirect somewhere could not hurt   though i still do not think any o the candidate be ideal   but then if he pass the notability threshold some day the basic material be still there to work with  ',\n",
       " 'meivazhi   i  ve have a go at restart the meivazhi article in a style that be more standard for wikipedia article   someone would probably have delete it pretty quickly if it have stay in the form you post   i would be grateful if you could help at talk   meivazhi about the accuracy      unfortunately i have to remove your link   the conflict of interest guideline advise against editor link to their own site   and also wikipedia  s attribution policy wp   att require that information should come from third   party publish source rather than personal website   do you know of any good newspaper   book account of meivazhi       ps what be the salaimanimudi indlist com site   a personal site by a member  ',\n",
       " 'though this be certainly a small article   but it be not so inconsequential as to warrant subsume it within the flame trees article      it be a discography article   and should stand alone          may     ',\n",
       " 'yeah   let us merge the content     not sure if devil  s canyon be the same type of codename    ',\n",
       " '      image   yourtransitad jpg    i think i may be able to get a well photo of this ad   if i be able to do that   be it okay if i use it to replace this current one   i want to check with you first before do anything               ',\n",
       " '      a cookie for you        a cookie for you     ',\n",
       " 'lmao   what a n  b   go and listen to manele  ',\n",
       " '        december        utc     yep   lol   the     reformist party   serbia  reformist party   be have another go   the   th very last on the parliamentary election   win less vote than notable to actually be mention         by the way   here be something very little people have figure out   the new constitution of serbia have be bring to enable kosovo   secession   the      constitution bar that as a possibility   and after the kumanovo military   technical agreement be sign between nato and fry the srs break its coalition with sps and the government collapse   cause new election   because that be unconstitutional   as an act of high treason   enough to be try from maximum sentence   which the radicals demand from then to his death   to have a trial in serbia   and to be try for treason among other reason     this constitution release the authority from that weight   and they will not have to go to prison if they recognize any form of further loss of sovereignty in kosovo           ',\n",
       " 'new wikiproject novels initiative   we have begin a new initiative at the wikiproject novels   an improvement drive   as a member list here   you be be notify   please see wikipedia talk   wikiproject novels           improvement drive and wikipedia   wikiproject novels   collaboration for more detail   also i would like to remind you to keep an eye on the project talk page at wikipedia talk   wikiproject novels   thank  ',\n",
       " '     reply   be you be facetious   if not   you would have relay the same message to jza and mrsc as my word be no more stern than there s  if you would like evidence for any of the claim make on the talk   then i will only be too glad to provide   you also fail to provide diff in your message to i   in regard to which word you be claim be offesive   perhaps wp   assume good faith      the two user constantly harass and follow i to article make disruptive edit in violation of numerous wikipedia guideline   wp   harass be just one     for example the removal of third party reference from article which do not suit their pov   without enter an edit summary   consider by wikipedia guideline as bad faith and a violation of wp   blank     the violation of wp   neo by add derogatory neologism to the article of organisation who they do not personally agree with   despite be make aware of the policy   despite not have any reference to the said organisation be describe with say neologislm and despite the community majority constantly remove the derogatory term     the same     tag team     practise can be show to be use against numerous other editor who edit article on british culture and trad county   not just against i   again   if you would like evidence just ask      it would seem however   look at the message on your talkpage above   especially the lovely intertude under     uk mediation     section   that jza message you   somebody he seem very familiar with   in violation of wp   canvas   specifically the section on wikipedia   canvas campaigne may interest you   if you be go to be an admin   may i suggest you please make yourself familiar with the policy and guideline i have reference in this message   rather than accuse i   a user who be be cyberstalke   of     personal attack       systematic bias be not acceptable   you be here to make sure that our policy be uphold not to chip in for the sake of a friend   thank         ',\n",
       " '  p s  it be not polite to talk to people behind their back   please remove your comment from mrph  s talk page      vaughan   you be right   i go to check your previous edit and find a page on the marvel site that spell it     vaughn       but now i be find many more that spell it correctly   thank for the edit                  ',\n",
       " 'the block    hi just wonder if it have be confirm the darren jolly will be a contestant on the block        thanks',\n",
       " '      opinion please pt ii    as srq continue to make personal remark after she say she would not     may i assume you will   help i with a wp   rfc   u     also   i believe she have violate the  rr rule today   edit war over one accurate word be ridiculous   as be edit war in general   let us make it stop      may i also ask what be wrong with the honest statement i make on talk page and what you mean by hasty refactoring   i appreciate any assistance and welcome any question   btw   when do pivotal   accurate   well referenced entry become     peacock       my understanding be that it refer to unneceessary editorializing   not to precise vital info in the sequence of event   thank       ',\n",
       " 'azari or azerbaijani      azari   iranian   azerbaijani   turkic nation  ',\n",
       " 'userbox   hello   a userbox you be use   template   user queerright   have be move to user space per wp   gus   the new link be   and leave any question you may still have on my talk page   thank you  ',\n",
       " '     if you actually take the time to do a little bit of research bloodofox   instead of jump into what you perceive to be an avenue to pursue your vendetta against i   you would have realise by now as would your colleague kiyoweap that in all probability the kelpie  water horse  each uisge   just different term in use in different place for the same entity   which be why i challenge kiyoweap to produce something decent on the each uisge   which i guarantee he  ll be unable to do     corbett  ',\n",
       " 'from what i  ve see with editor other than eric   the elephant in the room be the issue of bait   poke the bear   whatever the hell you want to call passive   aggressive baiting   no one want to touch that one   even though it be uncivil as hell and appear to be the tactic of choice whenever someone want to get rid of someone or get their way   that be the part that sadden i   darkness',\n",
       " '      socialistm      there be two important feature of smith  s concept of the     invisible hand       first   smith be not advocate a social policy   that people should act in their own self interest     but rather be describe an observed economic reality   that people do act in their own interest     second   smith be not claim that all self   interest have beneficial effect on the community   he do not argue that self   interest be always good   he merely argue against the view that self   interest be necessarily bad   it be worth note that   upon his death   smith leave much of his personal wealth to charity      good     let us all make sure we put forth the idea that adam smith be a socialist     that be the wikipedia way    ',\n",
       " '     sorry puck but no one ever said dick be number one     but he be clearly list as be     second only to batman     and a     master detective and martial artist     and be train in all the mention combat discpline   no need to mention in skill   ability about the battle he be lose and win because that s not what an encylopia be suppose to do      also   what your problem be your go by low end showing and not high end showing where he be prove more than a match for a meta like slade and pin shiva down in one of his early appearence       ',\n",
       " 'the alpha version have multiplayer   the beta version do not  ',\n",
       " '    pd   i just have see that apart from the article coat of arm of the sahrawi arab democratic republic   there be also a different article name coat of arm of western sahara   that show clearly that some user here have politically   drive intention and bad faith   although they claim to be neutral   if they be neutral   logically they would work on the     coat of arm of western sahara     article   intead of try to merge the two article and mess it      ',\n",
       " '     we be not treat this as a forum   a question arise and be appropriately answer   end of story      ',\n",
       " '      military history wikiproject newsletter   issue ii    the april      issue of the project newsletter be now out     you may read this issue or change the format in which future issue will be deliver to you by follow the link     thank      ',\n",
       " '  between the unblock submission and   response there be less that   minute which prove that this administrator do not pay enough attention to this case',\n",
       " '         your request to be unblock have be grant for the follow reason s      allow username change to gianluigipalermo     please put this request in at wikipedia   change username as soon as possible to avoid re   block      request handle by        unblock administrator   please check for active autoblock on this user after accept the unblock request    ',\n",
       " 'once again   i respond to milemoney  s reasoning for his edit and i give my reasoning for my edit     yes   it be absolutely relevant to this page     there be other place for the discussion on income inequality than in the progressive tax article  ',\n",
       " '     unblock i or i ll get my lawyer on to you for block my constitutional right to free speech  ',\n",
       " '      attribute and classify of personality       invitation   your input to culture of lithuania be welcome     some problem of define personality or attribute they to certain well   know ideological system may raise here   i propose a quite liberal variant of it   where definition may not be connect with one certain word   necessity however to follow certain classify remain      my initial idea on this branch   the one   concern period of lithuanian national renaissance period   some artist   writer or other cultural worker of this period be often describe as   modernist   this definition be not false   but some more concrete thing should be add   some specific of lithuania     we should distinguish lead idea of the nat   renaissance from later modernism   which be more known for we   cultural aspiration of the later nat   ren   may be define as   modernism in a cultural context of lithuania   but they accent also expression of lithuanian cultural heritage   and their expression may be see as something simply typically   lithuanian   i mean   that such author in as    iurlionis be see as modernist in lithuanian context   but it also   and even more   be a representative of lithuanian culture   when in european or world   wide context   a parallel   example may be take from literature of india   poet   tagore   well know nobel price winner be know for we as a representative of culture of india   make india more understandable and close for western people be concern as main his input to western culture   but in his own country   he be see as a modernist too   who be change traditional cultural form   especially stagnate one   this way also lithuanian cultural leader of the n  ren   could be see as modernist   which be broaden cultural form and change stagnate one   in lithuanian context   they also can be see as modernist in a wide context   but more for acquaint western people with lithuanian culture than for their direct input into western culture    iurlionis be the good example here     in other way   the later lithuanian modernist   they depend mostly to later   generation   approximately from  th decade of the   th century   concern themselves part of western modernistic movement and their main purpose   look generally   be   to introduce western european idea into lithuanian cultural life   see the table below       we see two different movement and two different world outlook here   the problem be   that both movement collaborate   especially their political wing do   and interchange of idea between they be well see   so   many researcher do not pay attention to this difference   especially in the soviet period   when national idea be officially forbid   mixture in description of these movement be allow   e  g  philosopher ram nas bytautas   who clearly depend to the first generation   be often describe as liberal   and it may be understand in a sense of the second generation   as idea of liberalism           period and generation   artist   writer   philosopher etc in a context of lithuania in an european context the national renaissance period   the young generation   approx               painter and composer    iurlionis   painter kazys  imonis   poet and philosopher vilius storastas   vyd nas   dramatist sofija kymantait     iurlionien    poet adomas jak tas   motieju gustaitis   liudas gira   composer stasys  imkus   philosopher ram nas bytautas     reformer and innovator of lithuanian culture representatives of lithuanian culture   almost unknown before they   the period between wwi and wwii and post   war year      poet v mykolaitis   putinas   kazys binkis   writer ignas  einius   jurk nas   artist   all   ar   group     philosopher juozas girnius   modernists   introduce new western idea into lithuanian cultural life   central european modernism     note   list of personality be not complete here   nor it be make precisely by prominence                   jul      utc       ',\n",
       " '     actually   direct quote that be not in quotation mark and be not attribute be generally know as     plagiarism     and or     copyright infringement       but the nyt material be not the issue   as you well know   the material from the     jewish action taskforce     be the problem      ',\n",
       " '    katelyn faber   could you weigh in at the bottom of the talk page for katelyn faber regard the inclusion of an image of she         template   user totalbox    thank for revert        esperanza newsletter   issue           style   border   spacing  px margin  px   px     width                class   mainpagebg     style   width          border  px solid   cef e    background   color  f fffa   vertical   align   top color            reach outreach out be a program aim at allow user to bring issue that they have have in wikipedia to a listening   sympathetic and caring audience          no one can know how we feel if we do not say   we can not expect to get understanding if we do not ask for it   no one will dispute that sometimes life  s issue be too much for one person   it be fair to say that sometimes wikipedia  s problem fall under the same heading   this be a place where you can bring the bruise that can sometimes be get on this project for attention       stress alertsthe stress alert program aim at identify user who be stress   alert the community of thier stress and work in tandem with the stressbusters at try to identify cause of stress and eliminate they   note from the editorwelcome to this new format of the esperanza newsletter   which come about during the last advisory council meeting   we hope you like it   the major change be that each month   right after the council meeting   this will be send out and will include two feature program and a sum up of the meeting   also   it will be sign you all of the advisory council member   not just   have an esperanzial end of march   everyone      class   mainpagebg     style   width          border  px solid   cedff    background   color  f faff   vertical   align   top          width             cellpadding         cellspacing         style   vertical   align   top   background   color  f faff         the last ac meeting   full log           style   color            future meeting be to be hold monthly   not fortnightly as before      bans and access level change   apart from autovoice   in the irc channel be to be report at the new log      in the irc channel   there be go to be only one bot at a time      the charter require member to have     edit and   week editing   why this be the case will be clarify      a new code of conduct will be draft by   and propose to the esperanza community      the npa reform idea be to be drop officially      charter ammendment be to be discuss in future   not vote on      the advisory council be not go to be propose to be expand by the advisory council themselves   if other want to propose it   they will listen           ',\n",
       " 'fradulent claim    i be most certainly not a sockpuppet of thechief   please retract your fradulent claim at once  ',\n",
       " 'that be quick if we only limit the discussion for change the title but consider the previous discussion for month can have a valid reason for the move  ',\n",
       " '                  july             utc      p s  feel free to leave a message on my talk page if you need help with anything or simply wish to say hello      ',\n",
       " 'and   of course   peiser be more than just a social anthropologist     he be one whose recent research have focus primarily on the social aspect of climate change and be thus at least as qualified to comment on the state of consensus as a historian     regard his study   it have not be publish in a peer   review journal   but the result have appear in many reliable source     in effect   it should be treat no differently than as if peiser himself   or any other scientist   have verbally relay the conclusion directly to a reporter     literally ten of thousand of wiki article contain such reference direct quote from scientist   which appear in no other source but through the medium of a reputable reporter  ',\n",
       " 'hi    hi   good day      my deep apology that i have make the change     i have make the change it be because i be there   on the day     i be there on the day when they be all line up the most straight one straight line     the most big   the most bright and high star in the sky over my head   when the clock strike    exactly at the noon on that day     the date which i provide       it be the most beautiful thing i ever see     i know many thing need prove but i know what i see that day   it be up to you now   but it be okay if black and white prove to be need   i do not have any     my sincere apology for the trouble i have cause you      i be from south east asia     i be a asia and i come from a very traditional chinese family      have a pleasant day',\n",
       " 'you should be fire   you be a moronic wimp who be too lazy to do research   it make i sick that people like you exist in this world  ',\n",
       " 'it look to i like he be violate wp   npa   but it be pretty minor   i  ll point this out to he   and if you two be have a content conflict then you can try the mediation cabal   by the way   it be generally easy to sign with      than type out   have a stop by in the irc channel if you want further advice   by the way           talk',\n",
       " '     a pat on the head   kc   you be one of the most dedicated wikipedians i know and i be madly in love with you   i would give you a barnstar but in the end you would just chew it up and bury it   instead   let i offer this metaphorical pat on the head       that  ll do pup   that  ll do         see you around        tropic  ',\n",
       " 'note that the sandbox be the right place to experment     thank  ',\n",
       " 'frieser opinion be simple i guess   kursk be no turning point   german be on retreat before and after   i think he s correct   russians have more personnel before and after they improve their skill   glantz   this in combination force german to retreat only   the loss be not the problem   after the battle of kursk the tank and infantry strenght be more in favor for german then before       some week after kursk german tank strenghter be high than before kursk   zetterle  ',\n",
       " 'oh   i do not know   thank  ',\n",
       " 'lois roisman   your piece on lois roisman omit much of her background and everything to do with her death   i have update it   please review if there be anything you want to add                 ',\n",
       " '  know the sex of the foetus      ',\n",
       " 'i think that your a fagget get a oife and burn in hell i hate you   m sorry we can not have any more sex i be run out of conndom',\n",
       " '                                         may     ',\n",
       " 'sorry   the link you give i be dead   and i format in harvnb   so plz help in that matter  ',\n",
       " 'reply above     that be i   loser   the un define vietnam to be part of southeast asia   and far as i know vietnam be part of asean   and use to be part of french indochina with laos and all those shit country anyway your culture have always be more influence by sea than han chinese   as in proper yangtze han chinese   not the fringe indigenous tribe in guangzhou   guangxi        just admit that you vietnamese be all a bunch of wannabe crap people   all the east asian people i  ve speak to think of vietnam as a very integral part of sea   and we all think you be backward   dirty and speak in a horrible swearing language   do not matter what crap you spout on wikipedia   will not change the way people in the real world think  ',\n",
       " '         august        wow   i understand that the sentance i     add     be not crucial and really do not change the content   but what be this     have the community not get small   be it not cause by the automobile   have i not source the statement as ask   be it not a fact   be it not information   do it not help inform people as to why forester fall be not as large as it seemingly once be   be it not the only peice of information in the article that bridge the span of time between      and present   be the usfullness of the edit the only criterion use to determine if it will be revert or not   if so it should be note that i simply re   add the information after it be remove   be not the removal frivilous and unwarranted   what be the problem   why insist on the absence of this statement   it be unjustifiable   it be negligible   i be re add the information as it be   a factual   b   source   and c   informative   i assume that since there be no reason to remove it again   or in the first place   that you and all other wiki nazis will relax   if you be concern with useless edit please see the edit fom the   th   i know it be carry out by the great infallable mindmatrix but imho that be the first useless change    ',\n",
       " 'you be a stupid fuck    and your mother  s cunt stink',\n",
       " '      eta   john d  haynes house   sarekofvulcan   talk    ',\n",
       " '      new            userbox    tabtab  i d       tabtab  id   c   white    tabtab  info   this user be a faggot      tabtab  info   c   lightblue    tabtab  border   c   black    tabtab  usercategory   lgbt wikipedians    tabtab  nocat       tabtab        tabtab    tabtab     this template automatically categorize the user in lgbt  ',\n",
       " '     december        utc     mendel do not talk about those change at all     mendel be refer to the conspiracy section that use to be there          ',\n",
       " '      please do not vandalize page   as you do with this edit to budweiser   anheuser   busch     if you continue to do so   you will be block from editing           echo  ',\n",
       " 'correct   dead be dead   there be   however   leve of wound   hence the emphasis when they be serious   this be not a pov adjective  ',\n",
       " '     i fix the pic   if anyone still feel that it should move it can be do       the voices  ',\n",
       " 'george w  bush approval rating graph    http   upload wikimedia org wikipedia commons      george w bush approval ratings with events svg    the circle for the september   th attack look too far right   think you could update it      why be the data point post      omit  ',\n",
       " '     sorry to interrupt but i be at      edit now     the first     be likely just on my own page and because i be ask for help so much so maybe just          or maybe less     but it still kind of count       amulet      ',\n",
       " 'absolutely   use of that word be strongly misleading   even with    like     the structure have nothing to do with mastaba   a burial chamber basicly   mastaba by definition have entran   ceinner space     this structure be one solid pile of rock   with no inner space or entrance     it be ment as a wall fragment  ',\n",
       " 'i just notice that the neutrality of this article be dispute   not by i     in light of that   i again ask that my post here   and my invitation to discuss how and whether neutrality can be achieve   not be delete   it be highly relevant   and relatively urgent   bear in mind the rule that there be no emergency on wikipedia   in time convergence on truth will be achieve  ',\n",
       " '      editor do not care about your     explanation     if they be not accompany by reliable publish source   i could     explain     why i think dog eat cat but i would get the same reception if i do not provide source   stop edit war and present source     talk to i  ',\n",
       " 'about mitch move to yggdrasill    i have no idea   it be not i on do that',\n",
       " 'sockpuppet and impersonator    the two above sockpuppet   impersonator account   include',\n",
       " 'oh   also would not film that be name three or some variation thereof be list on the disambig page and not on here   just wonder because it makes much more sense to i     i apologize in advance for certain individual who be too sensitive to hear the truth  ',\n",
       " 'review request    hi      i would like to request klm for a ga   class review   can anyone do that   it seem to have many similar stuff to other ga  s   such as kenya airways and ethiopian airlines   cheer        breaksfixe     ',\n",
       " 'i do not at all propose that it should be transcribe as   me n   in this or any other article     if anything at all   just a brief mention of the raising of trap and mouth in a pre   nasal environment would suffice     i just think it be an american thing to raise   before nasal   i do it myself     but i often hear aussies do it quite a bit as well   and i do not hear english people do it at all     the only difference be that americans have a tendency to diphthongize it as well as raise it      i be not really surprised you do not have a broad accent   be a wikipedian     i be not say it be not possible     you be right   i be just kind of think aloud  ',\n",
       " 'homosexual be intent on legitimize their behavior   therefore   they will seize any opportunity to suggest that famous person be gay   in this way   their way of life will be receive as be not only harmless   but perfectly normal   as generation of people grow from childhood to maturity and be expose to this strategy   they increasingly develop a tolerance for homosexuality   in this way   it be now almost universally accept as a diverse or alternate behavior or way of be   similar to a religion   race     or nationality   lestrade',\n",
       " 'al messier   this article be a non   notable biography accord to the criterion set out in wp   bio     aeropagitica  ',\n",
       " '      link to sacramento    i place a wikipedia   link in this article where the word     sacramento     appear     another editor   who appear to be stalk i and be revert everything that i do   claim that i be     overlinke     by do this     i have read the policy   and think i understand it   and i disagree with he     the word     sacramento     be not link anywhere else in this article before i make the link   and i think that my link provide good context for a reader who do not know walnut creek but think that maybe they know sacramento     be there anything wrong with my link     i would like someone objective to give their opinion                    ',\n",
       " 'your blatant pov push    neither of you guy have make any contribution to this italian history article other than to shove your unhistorical unconstructive modern pov in my face     this be a history article   history     have you hear of that     this be the reason why so many people get piss off about the pedantry and idiocy and triviality of wikipedia     j sus   get a f cke life  ',\n",
       " '    reliable source indicate otherwise   please do not insert your personal analysis into the article       talk    ',\n",
       " 'i do research thank you very much   and it be not in the relevance of the article   i think you may have to reseacrh wp   el to amke sure you realise the fact about why these link be be delete   i be willing to agree with people that only the official site should be there   therefore i shall delete the game site and the otehrs now  ',\n",
       " '     a     totallydisputed     notice would probably be appropriate   give the depth of disagreement that exist here   but i can not understand why highlighting statement identify by some as     dubious     would constitute     disfigure the article         slimvirgin have also use that wording recently   but i rather think that inaccurate and irrelevant information be more of a     disfigurement     than be a template notice      to answer your second question   my     side     have bring forward a proposal   and the other side have not yet respond     this be sadly consistent with recent pattern of delay       i  ll make no comment on whether or not this be a deliberate strategy         ',\n",
       " 'i  ve abuse nothing   your threat be extremely disrespectful to the rule of wikipedia   all i have ever do be try to improve the quality of wikipedia article and maintain the standard of quality   i should not be treat like a vandal who only register to muck up article   my account should not be block   i should be an administrator        ',\n",
       " 'give i a permanat block raseac            remember i            muslim do not you worry for these image they be try to hurt we but they can not look these image be fake and have nothing to do with islam or our prophet even their article be so lame wikipedia be not an authentic source its an encyclopedia for the kid which have not authenticity anyone can edit or write whatever they think     just like raeasc you can see he do not know what islam be and he talk about it so forget about wiki its lame they have no authenticity     i recommend they should add piss christ in jessus article      they should    ',\n",
       " 'invite      hi   i still do not have time to write the article about the fundamental of the romani culture and society   that would have permit a normal presentation   beyond the stereotype     i hope in the near future i  ll manage to do it   from the last discussion i just manage to organize well category   romani people by country and category   romani people by occupation and create some more article about romani person  ',\n",
       " 'i ask he a question about recall   maybe that would make you less troubled     account',\n",
       " 'say no consensus be ever reach as he revert my edit here  ',\n",
       " 'i find it difficult to control my emotion and i still feel that mr logy wogy be bad  ',\n",
       " 'fuck you   block i   you faggot pussy  ',\n",
       " 'attack another editor   how   i be try to make a point about how easy it be to edit wikipedia and his piece on george orwell  s page prove my point   it be common place for wikipedians to help each other make well and a lot less bias edit and that be all i be try to do   so if you would not mind   please could you remove that warning  ',\n",
       " '     please see ref               of this article   mention by wikipedia for youngest patent holder of india   moreover i mention about news   late book about real life hero   by provide notable   reliable reference   do not you feel dna group be reliable   notable reference as its page exist on wikipedia   do you really believe that   what ever or who so ever provide information for this article be have bad intention   in your word sock   meatpuppet   do i ask   suggest anything from you to edit or write   i be a free man to send information   you be a free person to analyse it   be you above wikipedia   when ref               of this article   mention by wikipedia for youngest patent holder of india for the subject    why you speak in bad word     your word verbatim     any book or review which repeat the     india  s young patent holder and the youngest disabled patent holder in the world     claim that bhati and his supporter be push fail as a reliable source         how can you discourage people from send information   which be relevant   reliable   notable                  ',\n",
       " '      randroide answers to     next step        guys   i do not see you take step to wikipedia   request for mediation      i can not do this job because i always connect from     filter     institutional net   access   and follow those step could result in new   undesired   controversial     truncation     of word by the software   i do not want that happenning      could you please follow the instruction in the link i provide     thank you       randroide answer to new reference by burgas        at last we agree on something      of course that the new section be a good idea   the false     suicidal     terrorist from prisa will also be include there      come oooooon   boy   start write that section   i do not want all the kudo for myself   the new propose article be   by now   an effort make only by i      but remember   npov and source   all the source   just like i cite     el pa s     in the section about the doubt about the genuineness of the   th bomb   cheer        indeed   a good point   and all the remark in cope too   and the     moral certitude     of mariano rajoy publish in el mundo        i agree with you         larean        what randroide omit to mention on the section about the   th bomb be that he only add balance reference when i insist that he do so   the original version he create be entirely pov   as be much of the rest of the propose article   also   all the source that he add from el pais be only available to subscriber   npov it be not        you be right   southofwatford   in your     randroide omit         section      if you have not subscription to     el pa s       i be sorry but that s your problem   my     institutional     access also have some advantage   like pay access to     el pa s       and many   many other publication and book     that s one of the reason for my exclusive use of     filter     internet accesss   it s much easy for i to work here due to the easy availability of source      do you see     the truncation of word be offsett   i think   by well source      btw   if you write under a     randroide answer     section you be     invade     my     space   i do not mind   really   but you be do it     risk new truncation on your message   to avoid this   please write outside     randroide answer     section      if you think that the propose article be pov   work in it to make it npov   the article be not     mine            i  ll take the risk of you truncate the reply and put it here   it be very short   the issue be not whether i subscribe to el pa s   its whether the people who read an article in the english wikipedia subscribe to it   all source use should be accessible to all reader of the article   put in a source that reader will not be able to see just so you can claim the article be npov be   to my mind   completely unreasonable          all source use should be accessible to all reader of the article    very funny   southofwatford      i be go to follow this joke of your      please propose also the deletion of all book as source   because   do you know     there be always someone without this or that book     delete all reference to tv or radio station   because that user in brazil have no tv and no radio at home     delete all the reference in spanish   because   do you know     there be user who know no spanish      it s a pleasure to read this kind of funny joke   really   i have a good laugh      user   southofwatford   how strange that you should find it so funny   after all most of the source we be provide should enable user to find out more information about what be be source   so to deliberately choose source that require those user to pay to see the information be not funny   it be simply bizarre   equally   in the english wikipedia i would argue that choose a spanish or other foreign language source when an equally valid source exist in english do not make sense   except perhaps to those who be too busy laugh   your cynicism be evident in your response           ',\n",
       " 'hence why i remove it   content of that nature be not suitable for wikipedia   proscribe by wp   not   but perhaps for one of its sister project   such as wikia  ',\n",
       " 'pirate incident    i  ve remove this statenment as it do not really relate to the episode much   plus it be kinda off topic  ',\n",
       " 'and check this out   http   www cla purdue edu blackmon    cs     critical html bio',\n",
       " 'kill all nigger      i have hard   that other have say this    should this be include   that racist sometimes say these  ',\n",
       " 'new user    hello gogo dodo      i be a new user on wikipedia and just want to ask if my new page could be remove from the deletion list     my new page be kaburst and i still have a lot i want to do with it     i think the reason it be consider be because it start off like it should be in wiktionary     but yeah just give i some time to make it well      thank  ',\n",
       " 'regard edit make during december           utc   to jos  mourinho   thank you for experiment with   wikipedia   your test work   and it have be revert or remove   please use the sandbox for any other test you may want to do   take a look at the welcome page to learn more about contribute to our encyclopedia   if this be an ip address   and it be share by multiple user   ignore this warning if you do not make any unconstructive edit  ',\n",
       " '     december         hello   and welcome   although everyone be welcome to contribute   at least one of your recent edit   such as the one you make to smoke bomb with this edit   do not appear to be constructive   and have be revert or remove   thank you         ',\n",
       " '        you be wrong   although i be block on some occasion   i be never block for sockpuppetry or vandalism   it be because of dispute on multiple topic with various sock of user   hkelkar   user   vandalpetrol   both of which be permabanned   i have never use any other account   if you be permit to edit then you should get other account delete which say you be indeffe     no   blast     ',\n",
       " 'i only delete personal attack',\n",
       " 'please   please   continue     tell i what you really think  ',\n",
       " '      an important message    block i   i can live with it      the mess that be be make of parker v district of columbia be why wikipedia can not rise above the level of a sophisticated blog      the     controversy     section do not belong there in the first place   and the fact that you and other non   expert be issue     warning     indicate wikipedia have become a sandbox for idiot      sorry i can not be more polite   but that be the long and short of it            ',\n",
       " 'i be move this to the talk page  ',\n",
       " '    very well   i see that consensus have form to show that they be indeed not pov but bad judgement on my part   thank for the comment anyway   coldplay exp rt let us talk  ',\n",
       " 'http   www users bigpond com montdale page  html   heritage from village           in macedonian             source claim that the village be pure slavic  ',\n",
       " '    the organization of sub   topic   culture be throw way down towards the end   after economy and tourism   which be inappropriate   the information section be unnecessarily load with history and detailed geography   which make it not only uninteresting   but also repetitive   information be intersperse all through the sub   section   without regard to whether or not they fit there   eg   the geography section start with the fact that up be the  th large state   that be not strictly geography   and belong in the introduction   climate belong towards the latter part of the page   perhaps before toursim   region and city be not such an interesting combination   in any case       cities of uttar pradesh     can be an interesting topic on its own   because   up have several interesting city   and region   each with speciality of its own   like the copperware of moradabad   ceramic of khurja and carpet of bhadohi     in fact i remember there use to be such information in the article before          ',\n",
       " 'i do not know the answer to this   but    legally   how be it possible for a private citizen to violate another private citizen  s civil right     i do not know if this be the section nelson be charge under in the federal case   but if anyone could explain this   i would appreciate it      you can argue whether or not the outcome of the state murder trial be justify   that be really not my concern here   since it be a dead letter     i be concerned about whether the subsequent civil right prosecution be legal     if the state murder acquittal be a miscarriage of justice   it be not the first time     look at issei sagawa     part of have a mature understanding of this sort of thing be to realize that the criminal justice system be not perfect   and that it be inevitable that innocent people will be convict   and that guilty people will be acquit   from time to time     that be the price you pay for have a legal system   in the end someone have to make the decision   and sometimes they may not necessarily get it right     i do not think it be go out on a limb to say that the sagawa case be completely you all reasonable belief  ',\n",
       " 'burn deck    if that would guy  s burn deck be like what i think it be than he be in for a blrude awakening       leviathan motherfucker      ',\n",
       " 'decese group member    i  ve see a few article where band member have their name   sollowe by   deceased       what s wrong witht that     it be just a little extra information for people who do not already know this     surely this be the main reason such the article exist in the first place   or even why the whole wikipedia site exist     what be so bad about add this word after people  s name if they be no long with we     it be factual   non   opinionative and do not slate they in anyway  ',\n",
       " 'fatima bint asad   i notice you add a large chunk to this article recently   could you post your source   webpage   book   etc       it would be really helpful   thank             july             utc  ',\n",
       " '     i add information about mayor de blasio  s announce decision about charter schools but someone remove the factual information because they say it be not reference     it be factual but not reference   i tired to add the information again with reference but be not successful      i correctly add the race and sexuality of chirlane mccray once but someone   the same person who remove the factual information i provide under charter schools   be incredibly rude and state it be     vandalism     and report it     how can this be and why be these description consider negative     who decide what be     revert       on chirlane mccray  s own wikipedia site the word     black       i prefer african american   be mention six time and her sexuality be mention over and over again   these be not assertion at all and can be     reference     by an approve wikipedia site and chirlane mccray  s own important writing     what be the problem    ',\n",
       " 'please stop add nonsense to wikipedia   it be consider vandalism   if you would like to experiment   use the sandbox   thank you         ',\n",
       " 'well i will use my user page then   do not tell meyour going to remove it too   because that will piss i off and drive i nuts   also i be not make a personal ttack on jimmy wale   i be say he be a bit to greedy do not you think   he be get   million dollar already and now he be ask for more  ',\n",
       " 'i think i would offer you some advise aswell       no wikipedia   edit warring     no argue with wikipedia   administrator     may i also remind you of the three   revert   rule',\n",
       " 'u r a tw  fuck off u gay boy   u r smelly   fuck ur mum poopie',\n",
       " 'its also expressly against guideline to sneak in disallowed link in the discussion section   as froman have do with his youtube propaganda link above   but as evidence throughout this page   the rule do not seem to be apply to froman   why do not you just go whole hog and add it to feith  s main page   there be plenty of unencyclopedic source there now and no admin seem to have a problem with any link   anonymous   leave wing   blog   whatever you care to use seem to be fair game for froman                ',\n",
       " '      deletion of account      ok blueboy       editing from l   g ng l   have be disable by blueboy   for the follow reason s       come back from      hour block and pick it right back up again     and judge by history   not likely to get it        for this          this be to call attention to a topic which be     resolve     before any of the matter be address      there be moderator delete wikipedia history item   and moderator borgqueen  s edit of     cuisine of hawaii     be simply a provocation and nothing more      i be a reknowne chef of pacific rim cuisine   and the cuisine of hawaii   and the cuisine of hawaii be not     local plate lunch     that be like say the cuisine of mexico be frozen burritos   or that the cuisine of canada be starbucks pastry   or that the cuisine of america be mcdonald  s   its slanderous   vicious   and spiteful      the main point here be why do the admin in question delete the history          and no   it be not     resolve     until that problem be address      and i try discuss it with that user directly and my account be locked    that user be not open for discussion or ddebate   that admin suffer the god   complex   and lovcked me from even editing my own page   hence the reason i have to wait to be unbanned to post here   and i be not leve here to back and become corrupt   admin fodder back aon the topic page until thius matter be resolve between borgqueen and myself as i i will not subjegate myself to any further discrimination   hazing   or personal vendettas        not likely to     get     it eh buddy      listen up   you will delete my user page and account from the wiki   grommet   you be not go to     lock     i and keep my name   content or profile      i be out of this facade which be wikipedia for good      delete it all   now   grommet     ',\n",
       " ' listas   sabina of bavaria',\n",
       " 'bad redirect   please remove the redirect from the x   c page   that aircraft be distinctly different in design   builder   mission   etc   and restore that aircraft unique content to its page            ',\n",
       " 'more info   thank for enter this article   there be a few error   which i have correct   it would have be nice if you have not simply cut and paste the text from the clear lake article  ',\n",
       " 'his name be troy tedford   not troy telford   i be look at his orginal discharge paper right now   i also have his orginal purple heart with   olc   the man be a war hero in the big world war ever   i myself be a historian   history degree recieve dec of    from atu  ',\n",
       " 'it be interesting to note that both aircraft land at the same airfield in hawaii  ',\n",
       " 'thank for fix that   again an exquisite picture  ',\n",
       " '  and i would like to clamp down on they',\n",
       " '  and man have also create new word even after modern language have already be establish',\n",
       " '    it be in the history   or more conveniently in your own contrib   thank you for the explanation   but that be not a big deal   i be more upset by your second post   wave i off with a sneer about grow a thick skin and a finger   waggle about     profanity   treate i as an insensate piece of internet polemic rather than a fellow human attempt to give an honest account of herself   an account which mackensen promptly remove   as you say   well   i understand that try to contribute to the workshop be a bad idea in the first place   run full tilt into tony sidaway   after manage to avoid he on irc for a whole month   to the immeasureable improvement of my quality of life   anyway   i  ve always see you as somebody who stand up for the underdog   i remember praise your addition of this edit to the harassment guideline   and i be sad to see there be no mutuality of respect       talk    ',\n",
       " 'some type and be on a soap box',\n",
       " '    yes they be indeed     i  ve replace that second one with a summary of women  s right   talk  ',\n",
       " '  anyone can do an in   text search for       and       and see the article do not rely mainly on one source   the publisher     in fact   the grand total of two citation reference the publisher be for pure   fact issue such as the number of item             that be in the part library',\n",
       " 'gore response    can anybody find gore  s response to bush  s malaprop   why do not gore   as the inventor of the darn thing   club he silly after that one  ',\n",
       " 'pls give a reply   yes or no  ',\n",
       " '     neither of the two add cite support the assertion       misconception   hyphen and dash be the same glyph         it remain unsourced   and as near as i can tell there be only one person make this claim   despite all the claim of     consensus       unsourced material get remove     that be wiki policy   i  ve give you a month to find a source or reword the entry so that it reflect what the source actually say     i be restore the citation need tag   and if there be no source in a day or so the entry will be remove        ',\n",
       " '    a short summary of reference essential   faq for organization   i notice you  ve also disclose an association with frank    on your userpage   thank for that   it make work with you and know where you be come from a lot easy   if you have any question about my review of your article   do feel free to leave i a message or send i an email   cheer   sonia       ',\n",
       " 'for your information   you have already be report     fair   minded     talk about yourself and your refusal to allow for relevant information   which be factual   from be post     you be obviously the biased party   and an inappropriate representative for wikipedia  ',\n",
       " 'same for file   seankilpatrick     jpg and file   connorbarwincincy png',\n",
       " 'y r we do this   pat',\n",
       " '    thank for the copy   edit   omg it read so professional     i appreciate it a lot   yeah   i know that that would be a problem   okay   here be the     back story     to it   danny have body paint while he be a robot during a sketch   during the after party   in which the theme be a black light one   everybody could see that danny still have paint on he   as it have not wash off or something   to be sure   jack have a black light switch in his apartment   and when liz come in   he turn it on   which result in liz have the paint all over she   see here   or if whatever i just say do not make sense   read here and here   about the paint still on danny and the black light attack       yeah   i think maybe if people see that   the ga note   they will not leave i a message   though   that do not work   as a user leave i a message regard an article i review   this have to work in the future   i be a have to make it well   i still have not get the chance to see it   but i have to see it   i need to know what happen and stuff   well   after i get the news that he lose   i start watch his dvd and tell myself that i  ll never see his wrestling move again   i do not cry   i   be just sad   the night on raw   i lose it and cry   whatever   i do not think that be cool   shawn do not mind   but i do   not really   i still do not see that     face     like quality to he   i think they  ll play randy out like triple h   you know   good with the crowd   but still have he     heel   ish       maybe cause all the new people be heel and they need some face     who know   speak of randy   today  s his birthday   turn      well   if you remember   his first     punt     victim be shawn   so   nice to see that he do that to cody     all in the storyline   nici     you be welcome for danielson and miz   i guess       hit    ',\n",
       " '    if                      width             style   background   transparent           width             style   background   color            style   width          border  px solid     background   color       vertical   align   top       hello   lceliku   and welcome to wikipedia     please remember to sign your name on talk page by click   or use four tilde            this will automatically produce your username and the date   also   please do your good to always fill in the edit summary field   below be some useful link to facilitate your involvement     happy editing           width             style   background   color            style   width          border     background   color       vertical   align   top       get start introduction    the five pillar of wikipedia    how to edit a page    intuitive guide to wikipedia find your way around table of content    department directory editing article how to develop an article    manual of style    style   width          border     background   color       vertical   align   top          width             cellpadding         style   vertical   align   top   background   color             get help         style   color            frequently ask question    cheatsheet    where to ask a question    help page    new contributor   help page    article wizard   a wizard to help you create article         ',\n",
       " '                  i do not know how that get to be but i be a big supporter of the x   file and i  ve like see almost every episode and not once do it mention mulder be the father of scull y baby        can not have watch very carefully can you   william being mulder  s son be frequently reference to in the final episode   just off the top of my head      guard       what be you think about         mulder       my son   his mother          scully       our son   mulder     i give he up   our son   i be so afraid you could never forgive i          not to mention the meaningful look that mulder and scully give each other when the officiator at the hearing ask       agent scully   be not it true that you and mulder be lover   and you get pregnant and have his love child        ',\n",
       " 'citation r f  saumur v  the city of quebec            s c r        endorsement   rosemary decaire',\n",
       " 'education    please keep the list of college in pittsburgh a list of college in pittsburgh     if you be not familar with the area   do not edit this list     greensburg   washington   mccandless   and california be not in pittsburgh     please do not be offend when i enforce this     also   a pittsburgh mailing address do not mean that the school be in pittsburgh     the address extend far   in some place a    minute ride away        thank  ',\n",
       " '  until you find the way to put the    cite that be in the page back i be throught here  ',\n",
       " 'we descendant of otman baba trough mehmed ali karako  be sunni muslim  s and not alevis    ',\n",
       " 'could you clarify     do you want i to start an rfc     i do not see that one be list in the page history of talk   rasmussen reports  ',\n",
       " 'atheism be full of bias shit',\n",
       " '      you beat i to it      just want to say good work for beat i to the revert on the ned kelly article   i always enjoy it when i know someone else be on the hunt for vandal   happy hunting   cheer pro  ',\n",
       " 'you remove the link to the same reference use in the health study which say that a reduced use of the mmr vaccine be why waldorf kid have few allergy from the section on immunization     wtf       would datum from the whole of california count for you     the private and public waldorf school in california have   personal belief exemption   rate of      to      of their kindergarten class     regardless of what the official position be   and i assert here   but would not do so in the article   that the   official   position be a lie in order for waldorf education to not appear like a complete cult   waldorf student be grossly under vaccinated     that fact should be in the article  ',\n",
       " 'thank for that   i  ll take a deep breath and have a go at an intro tomorrow   i identify the source of the phrase london over the border   and show that the boundary be contest in the footnote   i  ve clarify the diaspora section   and will justify the statement by reference to the victoria history article on west ham and east ham   hopefully   i  ll struggle to a justification without substantially change the outcome of the previous discussion   then move onto to standardise the reference   probably section by section  ',\n",
       " 'german article of the day    dear jimbo   german wikipedia be proud to present the article of the day   http   de wikipedia org wiki wikipedia hauptseite   really thrill   really amazing   worth a glimpse   http   de wikipedia org wiki fremdk c  b rper in anus und rektum you might improve your german read it   there be a lot to learn      yours sincerly',\n",
       " 'i agree   like i aready have state   that this be peripheral to main article   but nevertheless important because i merely underliene the mythomania propagate by both side   my only interest here be historical reality   dab   why do not you actually analyze the situation rather than offerre your usual smart   alec remark   lontech  s arguement have be shoot to piece summarily   and everytime this happen   he engage in tangential and irrational behaviour   commonsense will tell you there be no long   last state or kingdom in dardania before roman time   we can t just allow the intro paragraph to read like some kla recruit web   site',\n",
       " 'i find one     sort of   anyhow     the web site for jewsforlife org be not load   but i have an article from they in a catholic source     i be go to remove the erroneous sentence now     in hindsight   it would have be great if this minor content issue could have be resolve with reference in the first place  ',\n",
       " '     i have provide plenty of reference material yet you have provide none   all writing in chamar section have come from source that be verifiable   yet you have provide none   you be the one with the eccentric idiology     you still have not provide any verifiable source to show that ramdasia and chamar be different     chamar that take up weaving be know as ramdasia  s     a simple google search on     ramdasia chamar     will provide you with countless link      bal     ',\n",
       " 'block evade ip block   guy    ',\n",
       " 'i see that it have a number of   citation on pubmed  ',\n",
       " 'hey why you be spread misconception and try to spread false information to the people   you not even know who win the battle and who lost you be the cheap person on the earth   bloody ignorant fool   check source before spread rumor',\n",
       " 'i should add here   for any admin consider that i be block for    hour by user   sarek of vulcan week ago   so there be more background if that s relevant   and i should have learn my lesson then     pax       talk  ',\n",
       " 'change of username   usurpation request   request still in progress   mb   m   mmitra    hi   i have request for change of username use usurpation from mb   m   mmitra   it be almost   day from the date of request but still it show in progress   i would like to know how much time do it take to complete the request and how long would it take to complete   please reply as soon as possible   thank you      link   mb   m   mmitra',\n",
       " '       utc                   december',\n",
       " 'because otherwise be pov   look at flemish   linguistic   case  ',\n",
       " 'yes   mainspring be use in   some   clock as well   please feel free to be bold and help improve the article  ',\n",
       " '                      get normal     term be use by a german politician by the way   i get it from there     ',\n",
       " 'keep the original title at xbox   although you can have additional like like xbox and x   box that redirect to this article  ',\n",
       " '     and you be   let i know when you  ve crawl out of their arsis            dick laurent be dead  ',\n",
       " 'the problem be that people keep try to state that bsas policy be this and that     there be no policy that say homosexual scout can not be member     to state otherwise be a lie and or     just be it be a contraversy page do not allow you state lie or add or   you can list thing as misinterpretation of the rule and thing like that but it you try to say scout do this or scout do that then you need to be sure scout actually say that     even the misinterpretation of the rule need source     just because an editor might misinterprete the rule do not mean anyone in mainstream have     can you find a source for somewhere where a homosexual youth be remove from the program just for be a openly homosexual youth     then insert it     unless you have it or an actual policy from bsa that say you can not be an openly homosexual youth member then what be be add be or  ',\n",
       " '     level   message   hello   and thank you for experiment with   wikipedia   your test work   and it have be revert or remove   please use the sandbox for any other test you may wish to do   i encourage you to also take a look at the welcome page to learn more about contribute to our encyclopedia   thank you for your interest in wikipedia       ',\n",
       " 'i be focusse on do science at the moment   lead the revolution      ',\n",
       " 'another question   do this style information strip occur only whenever a shape itself be edit   or for less intrusive edit   such as move a shape around   if even highlight and select the shape in inkscape make it unusable   then i should not even be mess with inkscape at all  ',\n",
       " 'article about ed morrissey    hi   i  ve just move our article about ed morrissey and captain  s quarter to ed morrissey   and start bring it up to date   would you be able to take a look at it and   please     fix any defect you spot   thank   cwc',\n",
       " 'i can see that you have be run around several talk page accuse i and several other of edit war   please go on and prove the same or else you will be the first one to be block   moreover   you can not prove your pov and when defeat   go around make accusation be a good way out   communist    ',\n",
       " 'yes   i receive the confirmation e   mail on                with username    my e   mail   address   and password   uuuh   it be          ',\n",
       " 'i be currently block from edit so i will be unable to add that tag   however i do take that picture  ',\n",
       " 'this user be such a worthless goddamn faggot fuck you faggot',\n",
       " 'it be an unsourced aesthetic opinion   and therefore violate wp   nor and or wp   npov  ',\n",
       " '     image   popclassic jpg   i have tag image   popclassic jpg as   because it do not provide a fair use rationale     if you believe the image to be acceptable for fair use accord to wikipedia policy   please provide a rationale explain as much   in accordance with the fair use rationale guideline   on the image description page     please also consider use   or one of the other tag list at wikipedia   image copyright tags fair use     thank you      man  ',\n",
       " 'fuck off    you be not an administrator   you don t have the authority to tell i what to do  ',\n",
       " '    how adorably disingenuous             ',\n",
       " 'well you be ridiculous   in fact i suspect that you be calton   please block i   i do not care     ',\n",
       " '      orangemike    time to move on to collateral target     i suggest user   fisherqueen   the     girl     who protect he    ',\n",
       " 'windows phone upgradeability    hi gregory     i revert your change on the windows phone article     neither microsoft nor its partner have make any official statement on whether device run windows phone     will be upgradeable to windows phone       the reference give by another user be blog that be rely on hearsay  ',\n",
       " 'btw whatever decision an adminstration wish to take   he should remember that this block be too harsh give that it be his first violation since he join wikipedia    ',\n",
       " 'i  ve try to be as objective as possible   and treat the author in my head as someone who be first tongue be not english     i think davy be borderline notable   but the article be not     i spend an hour google davy early today and find nothing except that he have translate a lot of stuff     well   i have do a lot of stuff in my life     i be even borderline notable in a small field   but nothing to warrant an article on i   especially one that precisley nothing link to like this one     frankly i hope the author just make it notable     i  ll respond to he with gentlemanly politesse   but i can t help he any far  ',\n",
       " '      shiny thing      what a brilliant idea barnstar for actively seek every possible way to help other user   especially those i honestly do not think would work but do   i hereby award       c    ',\n",
       " 'will you make the change to both engineering article  ',\n",
       " 'thank   and i apologize for my comment     i would like you to know that i understand your position                nov        utc  ',\n",
       " 'appearance in historical fiction    the young richard steele appear as a character in william makepeace thackeray  s novel henry esmond     be this appropriate to mention in the article   do you all reckon  ',\n",
       " 'cu and scibaby   why be you waste time cuing scibaby account which be wp   duck   i be just indef block they on sight but the cu request make reference to some politic which i do not know about     talk',\n",
       " '     per wp   ae   you have be block indefinitely for persistent disruption to the project   include vandalism   disruptive editing and sock puppetry   as per wikipedia   request for arbitration   macedonia discretionary sanction   if you believe this block be unjustified   please request one in the normal manner        talk    ',\n",
       " '     i be sure if you work on article other than arcayne you would do fine   you two seem to have a problem with each other   so why do you seek he out and edit where he do     xenotalk  ',\n",
       " '      fuck you      fuck you award go fuck yourself     ',\n",
       " 'sorry about the edit conflict   i be glad you be able to salvage my edit   as to your question about structuring   yes i think we will have to think of a way to divide the article into section and subsection   also the intro may need some flesh out before confront the reader with technical term like dendrite and axon   i will look at it   smithfarm            apr        utc      very cool   happy to hear you be still on the article   i will also do some research to extend it     talk   contr         apr             utc  ',\n",
       " 'february        utc     comment do the proposal change or something   someone add request move banner to this section   when it be clearly not one                              ',\n",
       " 'good clans in runescape      the gladiatorz   be the good clan in rs for     year now       the   clan     the british elites     damage inc    an average clan  ',\n",
       " 'i do not even know where to begin on reply to    talk',\n",
       " '      please do not vandalize page   as you do with this edit to hyperopia   if you continue to do so   you will be block from editing      fisto  ',\n",
       " 'keep your eye on it   no one care   ok   people can put what they want on here   and clean it up all you want but no one care   god   you be so freakin   stupid      omnigan',\n",
       " 'the episode list to keep the episode list above the reference  ',\n",
       " 'over the next     hour or so',\n",
       " '                   s rant    presently   we be witness   an open war against croatian dinaric culture     croatian leave often portray this culture as     primitive     and     rural       even     fashist       be   in   service of conservative hdz party   croatian writer predrag raos   for instance       perform     on gusle instrument in zagreb on several occasion this year          with only one intention   to ridicule the same instrument and its rich poetic tradition       another     apostle     of croatian left   miljenko jergovi    refer to his political opponent on the right as     gusle player          some even claim the serbian origin of croatian dinaric culture follow the line of traditional great serbian propagabda   all  tokavian people and their culture be serbian     however   croatian dinaric folklore and its rich gusle heritage be primarly croatian   dalmatian costal region have be historically associate with this culture   for example   the first write document about the most popular folk hero of traditional gusle music   marko kraljevi    be associate with dalmatian island hvar through petar hektorovi   s book     ribanje i ribarsko prigovaranje                also   the first historical document which mention gusle player and its instrument originate in   dubrovnik            even now   a contemporary croatian writer   bear in dubrovnik   stijepo mijovi  ko an tell we a story about his uncle   also from dubrovnik area   who could memorize numerous gusle song   stijepo mijovi  ko an   gusle   glasnik   may             p         dubrovnik be also a home of anica begin   bear kalafatovi             a daughter of famous gusle player ante   although illiterate   she be able to recite by heart an immense number of gusle song   some of which be record in antology of croatian folk poetry       not far from dubrovnik   another coastal city   makarska   be   also a bastion of croatian gusle music   actually   this region could be consider the capital of all croatian gusle player   this mediterranean area   also give birth to   andrija ka i  mio i      th century catholic priest     who be   view as the father of all gusle player of croatia and beyond   to honour ka i   s work   ivan me trovi    the most famous croatian sculptor   build a sculpture in america show ka i  in his priestly clothe   play gusle instrument       in addition to ka i    makarska littoral produce a great many other follower of croatian gusle music   accord to dr   fra karlo juri i    who quote the work of croatian folklorist stipan banovi      zaostrog alone   produce a great number of gusle player start with stipan kosovi    kudri                  and culminate with the most known mate banovi    trli                      as for dalmatian woman   they do not play gusle   it be     consider    a male activity only     yet they be actively involve in spread   gusle music   by   imitate its sound      olinko delorko   the researcher of   dalmatian   folk poetry in the        state in his book ljuba ivanova          that most of his dalmatian folk poetry collection be obtain by   woman   especially the one from the island of hvar      the zadar littoral also witness strong gusle tradition   english writer maude m  holbach   travel through zadar region in the first decade of   th century   state in her book       dalmatia   the land where east meet west     that the gusle be the national instrument of the region   as for dinaric dance   which take place at market and certain festival   they   be very picturesque and interesting   and worth go a long way to see   be a survival of ancient custom probably unique in europe   p         this admiration for dinaric folk music   particularly gusle   be see in both dalmatian litteral and   hinterland     matija murko   the researcher of this literary   music form     have report    that during his trip   through dalmatia in the        he see a child   barely three year old playing gusle   eduard osrede ki     hrvatske narodne juna ke pjesme      eljezno   be    p         now   let   take a look at   the name of some dalmatian sport club and organization   hajduk   junak   gusar   alkar   uskok   sinjska alka   etc   what do they have in common   of course   their name refer to the heroic gusle tradition of the region      have this in mind   one wonder why this proud croatian heritage have become almost   extinct     why do we have so few gusle player today   be it a   result of   unavoidable urbanization   of   modern croatian society where peasant culture be be consider   inferior to global   rock   n   roll   culture   if so   why have tamburitza music of northern croatia   gain wide acceptance from the croatian establishment while its   dinaric counterpart   gusle music   be look upon with suspicion and   open hatre',\n",
       " 'the total population    million   do not match with the e sum of the referenced populationsbelow in the infoboximage in infobox',\n",
       " 'to a convict felon',\n",
       " 'matt hardy be so fucky     italic text  media   example ogg       matt hardy be so fucky      ',\n",
       " 'lol censorship   you be really disappointed that npov be a core policy   be not you       talk   contrib  ',\n",
       " 'mfd nomination of wikipedia   try your good   wikipedia   try your good   a page you substantially contribute to   have be nominate for deletion   your opinion on the matter be welcome   please participate in the discussion by add your comment at wikipedia   miscellany for deletion   wikipedia   try your good   and please be sure to sign your comment with four tilde              you be free to edit the content of wikipedia   try your good during the discussion but should not remove the miscellany for deletion template from the top of the page   such a removal will not end the deletion discussion     thank you          contribution talk',\n",
       " 'redirect talk   list of south carolina stingrays season',\n",
       " 'who care   if i be block on myspace or pulse music board   then i would be more concerned  ',\n",
       " 'http   www theatlantic com entertainment archive         linsanity how the internet made jeremy lin a star in less than a week         source explain why he be a star                 ',\n",
       " 'god be dead   i do not mean to startle anyone but god be dead   we should not worry about he anymore   just think i would let everyone know   well   goodbye and good luck with your newfound crisis of faith                ',\n",
       " 'hello    i be back      bongwarrior  s user page will be attack in   minute  ',\n",
       " '     i be always on the     request for page protection     if i detect any miss   errant template to see if the administrator can correct they       ',\n",
       " 'unsure at this stage its not very clear what wording be actually be discuss  ',\n",
       " '      marvin kitman  s     do not make i laugh     do not appear to exist    the citation for much of the early history of the laugh track appear not to exist   the publication       channel of communication       do not exist in the three journal database i  ve search    ',\n",
       " 'have you see the reference to their claim   you moron        this be not a source   it s their pov   once i have more time i will reduce your pashtun nationalist pov here on wiki and give order to my uncle and cousin the execution of pashtuns in the entire northern afghanistan down to gardez   jalalabad   lashkargah   logar   paghman   laghman   kunduz   herat   farah     whereever immigrant descandant of violent kuchis settle and take non   pashtun land away and traditional tajik country                ',\n",
       " '      rfa question   simply curious   what be the question you intend to submit here     talk  ',\n",
       " 'when you say irrigiation structure   what exactly do you mean   i live on an irrigate block which use overhead sprinker   and i be not far from the near channel   you all look the same throughout sunraysia   i  ve get a little spare time now to grab some more shot   though i do not think i  ll get out as far as dareton   get any request      talk',\n",
       " 'this wiil be my last use of this acount please delete it  ',\n",
       " ' rr violation by patrickflaherty   user user   patrickflaherty be revert a source post   he be also violate the  rr for raila odinga',\n",
       " '         i be not really attack he   she regard the lisa williams article   hmpzzz     do you know if lisa can see dead people too   i have psychic power too you know   i can see the future   send all these     lisa williams     to finland and they will all be lock in jail for be scam artist    ',\n",
       " 'yes   there be definite value in document the scientific instrument module   but i do not believe it belong with the service module sector subsection     it be really a payload and not actually part of the spacecraft service   so it interrupt the flow     i plan to move it to the apollo program   mission type section where i think it really belong   when i edit the sector subsection to improve the wording flow a bit  ',\n",
       " 'thank you   hei   it be i   the william hope fan   guess what   i be back at a new ip   ready to vandalize everything regard william hope   and you can not do sh   t to stop i   maybe delay i   but no stop i   so let salute to some more william hope lunacy by shove his p   nis in my mouth  ',\n",
       " '    yes   quite persistent   i be about to just create the article myself     other new user be go to get lose in this discussion     t   c  ',\n",
       " 'fuck you     user   the bohemian shinobis yeah   that be right   bitch   you be all piece of shit  ',\n",
       " '    yes   it look much well than before   at the top of the page   it say     this article need additional citation for verification       may be britannica encyclopedia could help add citation     i dunno   cheer       ',\n",
       " 'okay   i  ll give it another whirl via email     if bad come to worst   i e  if i do not get a reply soon   than i can always just use new account if i be ignore and that way it will just keep those who have be stalk i tie down   busy chase i around rather than try to delete content     take care  ',\n",
       " 'north eastern region of jharkhand     wiki say north eastern region of jharkhand be angika region     however   official language of these s district of jharkhand be not angika but hindi   santali     this be confusing     so   it need some clarification as to how come district of jharkhand where the official language be hindi   santali could be angika region     only those district would be in angika region where official language be angika             ',\n",
       " '    the vote be on the campbell case but the primary reason be the russian treaties          baldwin be careful to emphasise that the treaties be the substance of his objection   standfordham write to the king   on   october     i see mr baldwin who   in reply to my question     do you want to turn the government out       say     yes   but not on the campbell issue   but on the russian treaties which the country generally condemn       he see no alternative to a dissolution   it have always be expect   some wish for it before now   though he be opposed to hasten the government  s fall             and it be true that only in the house of commons be baldwin  s stricture base on the campbell case   at newcastle on   october he congratulate macdonald on the agreement   achieve at a conference in london   on the dawes plan for reparation   and then spend the rest of the speech alternately pour scorn on the labour party  s subservience to its extremist   and tear to piece the russian agreement   but the final debate on   october be a mean parliamentary occasion   two day before   in a meeting which be something of a suave qui puet   the cabinet decide to take it as a vote of confidence   prefer to go out on the campbell case to a defeat on the russian treaty which might give the left wing too much prominence  middlemas and barnes   p           ',\n",
       " 'jayjg   stop the spin   public relation   tactic  ',\n",
       " '    no   i just quote bryant that talk about popular and secondary creator     they be literally in the same paragraph   talk  ',\n",
       " 'future perfect at sunrise                  ',\n",
       " '    in general   the outside source should exceed the inside sourcing   if there be an entire section without any reference   you do not have enough   the lede refer to a     dire need       this would generally be see as over   the   top   look at the apo article for idea on how to speak about your group       ',\n",
       " 'that be a rather feeble premise to argue show an excessive number of photo prominently show    different woman  s vagina   compare to one human male penis     of the way down the page on the equivalent article for male genitalia   this demonstrate the overwhelming male bias in editorial content on wikipedia                ',\n",
       " '     okay   i have now try to just delete the offensive sentence in the beginning about mr  irving be a socalled   holocaust deni     he say himself he be not   and acknowledge that many jews be kill during the war   however he do not go along with the   million jews kill   figure   as he reckon the number to be low   and it really come down to that       david have the right to question anything relate to history and ww  be his speciality   and he actually make a living of questioning and critically examine source      i also decide to delete the account about he loose a court case in        david have launch several libel case before   in      he win         libel   damage against an english sunday newspaper   the fact that he this time lose be not something that should figure at the head of his cv   many people also find it extraordinary that a judge can deside what a person be or be not   and what belief he hold    ',\n",
       " 'there i  ve make he bold   that s well   lemmey   talk',\n",
       " '     after that my father start take melfalan   now it be nearly   and half year and his health condition be not good   i be consult with the doctor',\n",
       " 'i be pretty sure the incident have already be include   and i know how to handle my own at riot   too     ',\n",
       " 'i be afraid that be a broken link for i    ',\n",
       " 'ok   maybe you want to comment on the talk page about that   it be interestig to know  ',\n",
       " '    oppose i find it hard to believe this require an rfc   but such be the wikiworld                 ',\n",
       " 'history          can someone provide some information regard the contracting of the ac service area   ac transit use to serve most of the city of the     corridor   but the city basically kick out ac transit and now run their own service   part of the reason be that ac transit be under   serve the suburb   while spend their money on underutilize service in the urban area     that history should be reflect in this article              talk         ',\n",
       " '  please do not create any more elephant nonsense page     talk  ',\n",
       " '    i and      precede undated comment add        i and     talk   contrib   we do not care that wikinews even consider dr  rafizadeh as an expert and interview hin here   https   en wikinews org wiki wikinews interviews scott lucas  eyal zisser  majid rafizadeh about risks of us military intervention in syria    we     simply   do not care   we do not care even if he publish on cnn or nyt or quote on cnn and new york times like here    http   www cnn com            opinion iran rouhani syria rafizadeh index html   http   globalpublicsquare blogs cnn com            jobs key to middle easts revolutionary wave    http   edition cnn com            world meast syria shiite    do not matter even if bbc world service make bio of he here   http   www bbc co uk programmes p  gsjfk    dos not matter if cnn and france international write about he and his family member be kill here     http   www france   com en          syria majid rafizadeh kidnap family targetted civil war shabiha opposition bashar assad    i and     talk   contrib   will never change our opinion       talk be always right      we also do not care that he publish in almost all national and international outlet include scholarly and academic work like here   https   scholar google com scholar hl en q  majid rafizadeh  btng   as  sdt    c   as  sdtp     i and     talk be right   we be jewish and we be right and we will never change our opinion whatever evidence you show       ',\n",
       " 'be you ok      dear   i notice that you have be absent from wikipedia for a few day   it be uncharacteristic   so i hope you be not ill   please accept my good wish   i just want to see if you be fine   regard  ',\n",
       " 'congratulation   for the third of may        reach fa and it be still april   thank for your input      ',\n",
       " 'paula white   joel osteen   marbled cat   and a few other    these image be correctly retrive and all information be give about the image that be necessary   some be even my own and i give full permission for their use on wikipedia     mcelite',\n",
       " '    it be not about success   it be a phenomenon that go back at least     year   to the day of sousa and johann strauss   however   if you look at the     article milestones     section above   you  ll see it have survive no few than four deletion discussion   and we do require credible source   and fancruft be remove on sight   andemu  ',\n",
       " 'hate be my topic be hate   if you hate a person mean you like that person   your hate can turn into your love',\n",
       " 'page i try to create be now an actual page lol you ban i for nothing',\n",
       " '      your report    thank you for make a report   on wikipedia   administrator intervention against vandalism   report and remove vandalism be vital to the functioning of wikipedia and all user be encourage to revert   warn   and report vandalism     however   administrator be generally only able to block user if they have receive a recent final warning   one that mention that the user may be block   and they have recently vandalize after that warning be give     the report user have not yet be block because it appear this have not occur yet   if this user continue to vandalize even after their final warning   please report they to the aiv noticeboard again   thank you       talk    ',\n",
       " 'npov   please stop add not relate moroccan issue to sahrawi article while try to look neutral   i will revert it again   again   as that edition be clear pov   pushing  ',\n",
       " 'upgrade human language families   wikicolors  png human language families   in wikicolor       file  ',\n",
       " '      a kitten for you      you be   a good person        ',\n",
       " '    ok   here it be   peer view for    month and publish at academic archive on   line   diva       on a permanent uri   urn   nbn   se   kau   diva          wallin h             p   an investigation of friction graph rank ability regard the gall phenomenon in dry sofs contact     adhesive material transfer and friction     a free pdf document available here or www diva portal org find here or at www uppsok libris kb se here use search words   galling   harald wallin     or the direct libris link here         ',\n",
       " 'pov push    faustian insert this in the article   the upa  s cooperation with jews be extensive enough that   accord to former head of the office to counter soviet disinformation at the usia   some soviet propaganda work complain about zionist membership in upa   seem to be a complete pov to muddy the water   and picture upa as an organisation friendly to jews instead of an organisation which collaborate with the germans on exterminate the jewish people  ',\n",
       " 'redirect talk   a voice within   album  ',\n",
       " 'wp   blp violations    i just remove another of your revert which place defamatory and uncited material into cherokee freedmen controversy     wp   coi may apply to you since you seem to edit african american relate article and freedmen controversy     your dishonest edit summary be over the top  ',\n",
       " 'be they the anderthal      be they the anderthal   the same discription as in quran   have anybody think of this  ',\n",
       " 'the discussion of when there first be outdoor tree with electric light be very strange          be you kid   and some obscure town in nc   i do not think this make much sense   especially since the sentence immediately precede these establish that other city have electrically light   outdoor christmas tree in the early year of the   th century   the article cite for the north carolina town   if read carefully   really only state that the tradition of have outdoor light tree in that specific town begin in        not that the town claim it be the first place to have such tree   i be old enough to have be around in        though i be a small boy   and i can tell you that we and our neighbor in southern california have light   outdoor tree prior to        and no one think it remarkable or unusual   the history here be questionable   to say the least  ',\n",
       " '      what come next    once we feel like we  ve get past the     dispute     stage   i would say we have     someone should post a request for page unprotection so that we can move the new version in   you might also mention that the admin should merge naked short selling   workshop in so that we can keep the page history   or i  ll do it later tonight   it do not really matter         talk    ',\n",
       " 'redirect talk   the good of apocalypse',\n",
       " '    just drop by   i think i would leave a little feedback too   a feature picture be not always put on the main page   as note by wp   potd   for example   the semi   nude michele merkin be not use as it be find     too cheesy       wikipedia   picture of the day   unused note several picture that be not use because they depict too much gore or be of a scatological nature   a feature picture rating be essentially indicate that the community feel that the image be of high quality and high encyclopedic value   on a side note   potd seem to be up to     thank for take up the trace   pink oboe       ',\n",
       " 'some of the source list as ny mag   cbs news   fox news   an interview with leighton speak of the subject directly in teen vogue and us weekly   a tv guide interview   an article in the san francisco gate   the newspaper from the town leighton grow up in   naples daily news       if you do not consider those reliable source   you have a problem     if you want i can find    more source from valid   reliable newspaper and magazine     everything be valid and source and should not be remove as it be the story of her life     wikipedia be an encyclopedia for fact   and what be post be fact',\n",
       " 'the reason be the presence of a template base on inconclusiveness on my user page   the further presence of the template be to be contest  ',\n",
       " 'ho ho ho   merry christmas    i shoulda know the piccirilli brothers actiually execute ward  s pediment sculpture at the stock exchange   happy christmas   carptrash  ',\n",
       " '    i see that reference   and i add a note   see note      by the name     republic          ',\n",
       " '    hey jim   good to see you around   you be right   i be on a no consensus tend towards delete   but not a clear delete because of the two times of india source   and one more source   again from the times of india   that be visible on the search engine     what would you like i to do here   i can re   list the afd if you might prefer that     message  ',\n",
       " '    and if he be a mere     fellow editor       i would not have any problem with he     but since he seem to let the power of be an admin go to his head   i have an issue with he     please read what remain of his talk page if you need example of this     i be a moderator on a very popular internet discussion board   and i would never ignore a valid question from a user    ',\n",
       " 'be going to help we to   he be log in if you want to talk to he on his talk page  ',\n",
       " 'they look great to i             mar             utc  ',\n",
       " 'april        utc       wikipedia   colour    much thank for fix   improve the table code      no reason   maybe add the info where you find the value   be that in common css       all the style be embed   highly   repetitively   if you know your way around mediawiki   i  ve be ask everywhere for a css guru to clean up all the redundancy on the main page wikicode     like we do not all have enough to do already   eh      so many project   so few minion               ',\n",
       " 'dear mokele     you have no right to tell people to die in a fire   just because that ip address be be use for vandilism do not mean you can talk to people like that   you be in fact a big loser than the person who you block  ',\n",
       " '      you have new message   last change         and the notice below result from user   arkyan and user   avraham target this website as a result of an editorial dispute as to whether to include theodore roosevelt  s view of us political corruption on the unholy alliance page   i e       the unholy alliance   a phrase use in the platform of the progressive party   united states          write by he   the unholy alliance   a concept elaborate upon in his autobiography    their recent edit may be review at special   contributions   arkyan and special   contribution   avraham and revert where appropriate       ',\n",
       " '      peter the roman    can some one place this and remove the argentinian chap from the prophecy which be not part of   and replace it with this information   and place his coat of arm   any question just e   mail i            tarcisio pietro evasio bertone be incharge of the vatican from    february to    march      thus the prophesy of st malachi be fulfil        ',\n",
       " 'rfc    you pretty much blow through my respect when you try to demand i give up my adminship   my position be very   very simple   the afds be invalid   they should not have be file   i fix the mistake  ',\n",
       " '        i do not delete material that comply with wp policy      accorde to your own pov   interpretations wiki badass woo  u  ',\n",
       " 'and revert his edit',\n",
       " '     canonicity in general    i  ve be involve in a long discussion over on talk   stargate   device   over whether the stargate in the movie be     the same thing     as the stargate in the series   with centrx arguing that they be not and that discuss the stargate in just one article be deceitful   i do not think his argument be at all valid   but in the course of look stuff up on the web i  ve discover that some fan of the movie apparently consider the sg   series to be somehow illegitimate or non   canon   i be not familiar with the stargate fan community   just the show itself   so i do not feel comfortable add discussion of this directly to the article   do anyone know any detail about this   such as how widespread this apparent schism be               jul        utc    ',\n",
       " '      capitalization    please stop change low   case common noun to upper case   as in         the company have                     the company have           wp   moscaps note that wikipedia avoid unnecessary capitalization   proper noun and the first word in a sentence be capitalize   and not much more     yack  ',\n",
       " 'see claim three here   http   onlinelibrary wiley com doi         mepo       full ss  that be a reliable source  ',\n",
       " '    if he be the community manager   then first of all it be a conflict of interest for he to be edit this   and second of all   he have the power to say explicitly on his site that there be no release date   otherwise   despite who he may be   his position be incompatible with wikipedia policy   swatjester son of the defender  ',\n",
       " '      please do not vandalize page   as you do with this edit to boiling   point elevation   if you continue to do so   you will be block from editing        ',\n",
       " 'rant to policy    hi      i think that you should reformat user   shanes   why tag be evil the vandalism protection tag   or at least the idea   into some sort of proposal to reformat multiple distract protection tag to less distract corner icon   for example   redirect   to     well   probably move the later to the former   for this case     the corner icon work beautifully   be much less distract   and click they will follow you to a page explain what the lock be for      i fully agree that the large box with text be very distract and unnecessary   this be especially true when non   user wikipedia user read the article   which probably constitute the majority of wikipedia reader   they probably do not care that they can not edit the article   nor would they   and of most concern   they may confuse the tag with the article content      thank    ',\n",
       " 'hi collectonian   it obviously be not appropriate   and i agree with the warning give by   vicenarian  ',\n",
       " '      a request          in the future please sign after your   tag on the photography workshop page   while a bot be currently do it for you     i e        precede unsigned comment add by     ',\n",
       " 'i  ve revise the translation from the spanish by go back to this early edit     subsequent edit on the spanish   language wikipedia seem to have be intend mainly to insert link   but have primarily succeed in delete chunk of the original text   render the result both ungrammatical and somewhat insensible     i  ve take  s translation and incorporate the previously omit text   and go over the whole to make it more idiomatic in english     it be not quite there   yet   but be hopefully now serviceable        ',\n",
       " '     i be sorry if you will not like the answer   but i can not accept any wording   indeed any word in the article that do not reflect or be reflect in source   would any of your patient be happy with an almost successful operation     i care even less about the yugoslav medium then i do about yugoslav politic   it may not be what you want to hear either   all i can do be repeat that there be no way in this world that the yugoslav troop be operate under independent command during this offensive   its be just laughable even if i have no way to substantiate what i say   journalist may write what they want   but ask any military officer and he   she will tell you its inconceivable for the size of the op     comms            ',\n",
       " 'and capital gain tax',\n",
       " '     this should be include in the criticism summary section here   since that section  s content so far be not a remotely truthful summary of the criticism point of view fork     article       it clearly suggest to reader that you all criticism of apple be relate to product management in some way or other      now that apple inc  have admit that they do in fact use child labour   this be clearly a far   far more serious type of criticism than everything currently mention in this main article  s criticism summary section   the explicit word     child labor     should be mention in this article                    ',\n",
       " '     merge   both article should be merge       operibus anteire    ',\n",
       " '    everywhere   though i might just start go thru the secure server all the time   because i have a similar issue with the popup userinfo grabber     xenotalk  ',\n",
       " '     i agree with   there be no need to keep unclear concept and wording when a well alternative exist   also i would ask   to not revert use source as a reason   when source be actually a book of his authorship   wp   coi and wp   sps come to mind       txt  ',\n",
       " 'hi   the route to japan be often mis read   first   i have the argument that jal fly to tokyo   not jalway   but now i would like to challenge a route that jetstar take   it say the jetstar fly to kansai from brisbane   this be true but you must connect through sydney   although you would stay on the same aeroplane   the flight number between bne   kix change in sydney mean it be not a direct flight   eg   flight       syd   kix   flight       kix   syd via bne   that be how it work   if you be not sure   please check qantas schedualing   i will not edit the page now in fear that i will be ban  ',\n",
       " 'support    i and all the other sikh wikipedians on wikipedia support you on singh you be correct   i completely agree with sikh historian   i be busy at the moment but if we need to get harrybabar permanently block then it should happen because his vandalism be unacceptable  ',\n",
       " 'thank you for your racist experiment with the page katherine heigl on wikipedia   your test work   and it have be revert or remove   please use the sandbox for any other test you may want to do   take a look at the welcome page to learn more about contribute to our encyclopedia   now go fuck yourself you racist canuck asshole    u have nothing better to do than censor the truth u goddamn kkkkanuck piece o trash      dickhead moron motherfucker   lol   you canucks r real retards    fuk off dickweed     edit another   of my eidts and you ll be expel from wiki by jimbo you sob dickhead     so watch it mofo piece of garbage racist mofo asshole     im tryinbg to be nice here so take what i say as a compliment yamla',\n",
       " '      bulgars    omg     you be an admin and you protect the people who vandalise the     bulgar     article   these attacker be pan   slavic ultra   nationalist and they do not want to see the word begin with     turk       you help they remove reliable source   old bulgars be change into slavs by your hand     great      ',\n",
       " 'you must be log in to upload file      so in other word i have to sign up just to add   thing to   entry      to hell with that           this place can rot for all i care                     ',\n",
       " 'mckinsey   company        i think the good route would be to drop a note at wp   business     t   c   wp   four   wp   chicago   wp   waward         ',\n",
       " 'message  long time   no talk    i be just potter around on wiki   and suddenly i think of you   so anyway   how ya go   i hope we can get along now      anyway   there be an issue that i have   that have to do with wikipedia   a user on here have be stalk i and ask some innapprpriate question   do you have any idea of what i could do   i know that user be also from australia   could the police here do any thing      cheer for now                    ',\n",
       " '       thank   from my point of view there be difference and parallel between the two concept   one parallel be that both concept be intend a territory with a homogeneous population   the difference be   the concept of racial hygiene be intend a homogeneous population regard the criterium     race       whatever     race     might be     the concept of ethnically homogeneous state be intend a homogeneous population regard the criterium     ethnicity       a second difference be that the concept of racial hygiene have lead to more extreme form and method in political practice in history   example   the holocaust   not only expulsion but also extinction of million of people in an industrially organise process       user   nov    th           ',\n",
       " 'well   i see futperf be get quite angry now   insult other editor also   and again their goal be make the point that the first bulgarian empire and the second bulgarian empire be not bulgarian or at least not relate   which help their long term strategy for the invention of a macedonian nation and state   think bulgarian tsar samuel   etc   which exist from antiquity and the middle age   that be it   tropcho   correctly point out that direct political continuity be completely unimportant for the info box   no other country care for this in their info box   neither spain   germany   ireland   poland   etc   what be important be to show how bulgaria form thru the age  ',\n",
       " 'salutations j a p    welcome to wikipedia   perhaps you might find wp   hockey of interest  ',\n",
       " 'be careful who you call a moron  ',\n",
       " '      leadbeater biography    smackbot problem    rich    regard the c w leadbeater biography article   http   en wikipedia org   wiki   charles webster leadbeater   on    dec     philosophus     improperly revert my extensive revision of dec     i remove all the smear and slander from the article yet he accuse i of have a npov problem   no editor have the right to revert the good faith contribution of another editor   i will undo his improper revert     as you make a minor edit or two since then   your edit will probably be lose   also   please communicate specifically what fault you find in the text and maybe we can work out some compromise wording   if you be knowledgeable in the subject     if you be not knowledgeable you have no business edit this article              ',\n",
       " '     quoting hoppe first   detailing kinsella  s important point   at this diff i put in the     democracy     section hoppe  s early comment first and follow with more about what kinsella say   i e        stephan kinsella write that hoppe  s critic have accuse hoppe of     homophobia   bigotry   and the like     base on these passage   kinsella write that that hoppe  s discussion of     physically remove     homosexual and other group only apply to     private   covenant   base community     center around traditional value   he share a letter hope write to he say     the gay couple down the street who mind their own business would not be expel   but only those who be openly hostile to the basic heterosexual or private property basis of society         as i say in my edit summary   just because some choose to totally take his comment about of context and attack he   do not mean that wikipedia should be use for the same purpose        talkie talkie    ',\n",
       " '    the fact of the matter be that toei and bandai have be use     gorenger     to exclusively refer to the first super sentai series since at least        every subsequent series that have the       end have be      ranger       you can see this sort of thing on any of the print material release by they lately have it as     gorenger       while all the other have be     turboranger           zyuranger           dairanger           kakuranger           ohranger           carranger           megaranger           timeranger           gaoranger           abaranger           dekaranger           magiranger       and     gekiranger       i believe     gorenger     be also plaster across their vehicles  ryulong         ',\n",
       " '               mark nutley have suggest       instead of people edit war they really ought to use the new source       three to five million of this number die in ukraine and in the heavily ukrainian   populate northern kuban   among the rich grain produce area in europe               norman m  naimark   stalin  s genocides princeton university press      august        p      http   books google com   books id   f uwf eqb ac lpg  pp  pg  pa   v   onepage q  f  false  ',\n",
       " 'i see that you just can not help yourself   if you see my be block as a reason to be victorious and now feel like keep   tell   on i to the administrator please do not use my talk page for that   go the administrator   noticeboard where the initial complaint be post and add yet another post   concern your advice on what i need to   familiarize myself with   apply it right back at yourself   especially regard wp   cons and please understand that consensus be a product of a prior discussion not just any piece wikipedia text that stay unedited for a while  ',\n",
       " 'gay    the existence of cdvf be further proof that   be a sad twat   he be also very ugly   and have a willy for a face  ',\n",
       " '    unfortunately   judge from previous     warning       some people here have a rather unusual view of what personal attack be   point out that the individual accuse i of use sockpuppet be incorrect   and in fact the two main people make the accusation have be harass i for month and have use sockpuppet and meat puppet themselves for get around edit conflict and to stack vote on a request for admin proceding   as point out by several editor at the time   certainly can not be consider a personal attack   point out that admin do not have any actual policy basis to make the block be not a personal attack   and it have   in fact   be confirm by the overruling of the block more than once        frankly   if you be look for personal attack   try yourself for your agf   violate attack on my action base upon limited information and actually mislead information give to you by other individual   or david gerard for claim that i be     trolling     when all i be do be defend myself from false accusation of other   it be very clear that a number of people here need to realize that the very thing they be accuse i of and try to justify for a block be exactly what they themselves be do from behind the pretense of try to solve thing      if you want to start block for incivility   i might suggest remove david gerard for a while for his action   or elonka for falsely claim that i be use sockpuppet or that i be harass she   or the sysop whose very talk page say he be go to go around block people no question ask and in fact do so after i catch he restore place illegal information on how to pirate software an article talk page   rule should apply to everyone   and a number of people have be get away with pretty flagrant violation and try to rationalize they away by just label i as an allege problem editor and not take any sort of responsibility for their own action      ',\n",
       " 'look good to i   i think a nice pic of midtown from across the east river would be the well possible addition to the montage   but there be not one currently available on wiki common  ',\n",
       " 'perhaps the question be more of philosophy than of mathematic   and we do not have any regular at wikiproject math who be philosopher of mathematic       t   c  ',\n",
       " 'except for the fact that there be no information for the table   no confirmation on number of episode   why do not you just put    in       so it be just clutter   and not vandalism                  ',\n",
       " 'right   on may           which be not the star and bar    ',\n",
       " 'perhaps goodday you could provide a diff for this thought as i be unaware of it   btw i hope the move be go   go ok  ',\n",
       " '     it be also unfair that i can not respond to the allegation       talk    ',\n",
       " 'i never fucking make this mother fucking article i just fucking edit it and that be a fucking long time ago fucking assholes   piss i off  ',\n",
       " 'have anyone ever consider include tag   team edit war as a  rr violation   when two people act in tandem   unintentionally or intentionally   to make the same revert four time   they may not technically violate the  rr rule   but they certainly do so in spirit     this be the problem on both side in the edit war on the canada page   and precisely what i want to avoid on the dominion page   would it not be easy to warn editor as you do here rather than shut down page for week at a time as be do in the canada case   i be sure this would cure the escalation problem without block access to page   any comment on this  ',\n",
       " 'fuck with the wrong muchacho             july             utc  ',\n",
       " 'thank but an unblock would be a compromise     i live on the margin here   create article on various subject   then see they delete   it be a form of performance art     many of they do not get delete     medieval philosophy be still there and history of logic   to name a few     i be one of those people they just do not know what to do with   and i like it like that                   ',\n",
       " '    yes   i do hope to get it to ga status in the future     wp   mostv state that for fictional character   their storyline should come first   and then the information on their creation and characterization   it make more sense to read about what storyline the character have be involve in   before go into the production of it all   the same style be use for article on book   film and television show   episode               ',\n",
       " 'hi    i m a fucking bitch                    ',\n",
       " 'please educate i as to how this article be a copyright infringement and   if so   from which source   once this have be establish could you explain how good to rectify the situation   thank you',\n",
       " 'men  s rank figure   while nice to look at   miss key time between      olympics and      world championships    that be all there be to it in the title   iihf list a      post   olympics ranking   and      rank   presumably post   wc     to exclude this period be incorrect   as it be a time where canada be rank  st overall   russia  nd   the same issue will happen this year as ranking will change twice   after olympics and again after wc               ',\n",
       " 'there be many broken nostril in this pancrea',\n",
       " 'that last line   the new version be well   be ypov     this   new  your   version just complicate the issue and make the article less simple to read     tell i   why must boston be mention as a cultural and business hub at all     this seem to be at the heart of your bias     it appear as you want the viewer to get from read it that boston be somehow the nerve center and city that new england revolve around and look up to     why must this illusion be on the page  ',\n",
       " '  utc     it sound wrong because first it read be which be present   tense   ee and then it read use which be the past tense   i reword the whole thing to past   tense because we be discuss already publish work as oppose to work be publish or yet to be publish      arnfj r    bjarmason                  sep   ',\n",
       " 'and you take your time to answer  ',\n",
       " '      yobot   incorrect defaultsort    hi   yobot   an incorrect defaultsort   it be puzzle as to why it do not recognize the article as be about a person   among other clue   it include birth and death date at the top   as well as a     which yobot substitute to additionally include the correct defaultsort           xa ab am  ',\n",
       " 'biased   unreliable   emotionally write by armenin wiki editors     pls   stop use the wikipedia for your dirty propaganda and lobbying purpose   there be no genocide   this be a amyth advance by the armenian church and armenian fundamentalist fascist   a nation can not be subject to a egnocide when it have several hero for whom you can see statue in yerevan   irevan       jews do not have it   the resolution be the act of some sell congressman who want to appease the armenian lobby   it have no reliable   valid and neutral content   it be kjust a piece of dirty and lie fact present and write by christian missionary work to kill turks and kurds in     s   you can claim to be subject to genocide as much as you want   but this thing do never happen   some armenian fundamentalist and fascist   who be kill kurds   turks and azerbaijanis   be kill by great son of the turkic nation and i be proud of they   go and propogate your lie as much as you can   you will achieve nothing   raman       ',\n",
       " 'add mobile porn as additional wp   also link',\n",
       " 'smer   sd    why be the slovak party smer   sd between non   inscrits   they be regular socialists   they use to be out of pes   but that be settle pretty long ago   liberal nationalist',\n",
       " '       utc      have anyone consider how matter   the stuff we be all make from   actually interact with time and time travel   if i be to travel back in time   would i be   frozen   and isolate in spacetime   whilst everything else around i travel backwards in time   or will i also physically and biologically travel back in time   that is i get young and young   and then disappear because i be not yet create   thus defeat the grandfather paradox   although if it be possible for signal   or information   to travel backwards and forward in time   do this possibility automatically extend to matter as we know it   ie particle give rise to electron   proton and neutron   and ultimately biological being such as ourselves                  july',\n",
       " '    i want to offer you a tremendous     thank you     for your suggestion   which i believe will be paramount to the successful inclusion of rantmedia     i  ve vastly improve the article since the afd nomination as well as   since yesterday afternoon     i be not clear to i what be necessary to be do with the article   and you be truly the first to really answer my question of     what be it go to take           so from the bottom of my heart   thank you             t c        ',\n",
       " '     i have to laugh when watch the supposedly british national news   with guy barely up to their ankle in snow imply that ragnarok be upon we   yet on the same day   when tree be be blow down and main road be block by snow in scotland   it do not seem to be noteworthy   scotland routinely get ignore on the     national     news   and even people from the north of england be complain about the fuss make by the southern orient news   tourist appear to be amazed that thing be fall apart because of something like this   my mother have a very good giggle at the reporter live in trafalgar square in a couple of inch of snow   or beside a main road   barely ankle deep                  lance tyrell  ',\n",
       " 'a friendly advice   if you have to refer to i   kindly use cult free and not only cult    ',\n",
       " '     great link   imo the american people be on the whole good and decent   but the so call leader be fully control by an elite bent on domination and control   this whistelblower say the same       talk  ',\n",
       " 'queen  s university    as state previously   i be quite pertrubed and to be quite honest   frustrate that you would remove the section pertain to the university  s tradition   do you have a personal vendetta against the institution or dislike it   for whatever reason you remove the compliation of material regard the jackets and other tradition   which i find odd consider similar tradition have be allow to remain on other university wikipedia page   mindlessly delete material without group consent constitute vandalism and   while i be sure that your intention be not malicious   it be a short   sighted move on your part   please allow we to discuss this in great detail  ',\n",
       " '       january        utc     the argument at wp   natural seem to rely on show that the other name be common   so you need to prove that the other name be common   number might help a bit   also   above we be tell that     gohatto     rather than     be the name of the film in japan   but this turn out to be false   incidentally   ryuhei matsuda   it seem to i   look more like his mother than his father   what do you think   also   how authentic be the portrayal of the shinsengumi in this film   do you have any historical insight             ',\n",
       " '     unspecified source for image   metropolitan of moscow makariy nevskiy jpg    thank for upload image   metropolitan of moscow makariy nevskiy jpg   i notice that the file  s description page currently do not specify who create the content   so the copyright status be unclear   if you do not create this file yourself   then you will need to specify the owner of the copyright   if you obtain it from a website   then a link to the website from which it be take   together with a restatement of that website  s term of use of its content   be usually sufficient information   however   if the copyright holder be different from the website  s publisher   then their copyright should also be acknowledge      as well as add the source   please add a proper copyright licensing tag if the file do not have one already   if you create   take the picture   audio   or video then the   tag can be use to release it under the gfdl   if you believe the medium meet the criterion at wikipedia   fair use   use a tag such as   or one of the other tag list at wikipedia   image copyright tags fair use   see wikipedia   image copyright tag for the full list of copyright tag that you can use      if you have upload other file   consider check that you have specify their source and tag they   too   you can find a list of file you have upload by follow   this link     unsourced and untagged image may be delete one week after they have be tag   as describe on criterion for speedy deletion   if the image be copyright under a non   free license   per wikipedia   fair use   then the image will be delete    hour after   if you have any question please ask they at the media copyright question page   thank you   do you want to opt out of receive this notice     hi    ',\n",
       " '   percent koreans eat dog meat   koreans have try     not regular korean food diet     do not genearalize or finger point that all koreans eat dogmeat   that be not true  ',\n",
       " 'support let protect and save this page from user   balagonj      this page have full of error and invalid reference  ',\n",
       " 'apparently   i think tom be offline and file an edit   war report   and yellowmonkey pick it up before tom mention the page protection     we  ll see if it stick  ',\n",
       " 'newsletter draft ready    hi dank      i have prepare an initial draft of our drive wrap   up newsletter at wikipedia   wikiproject guild of copy editors   newsletters   april        if you could find the time to check it over before it go out   that would be super   thank  ',\n",
       " 'should be omit entirely     ',\n",
       " 'be that not a true description on a booger   if not then prove to i what be  ',\n",
       " 'stay off my talk page   stalker             ',\n",
       " 'anthony de mello    hi i need this page write   anthony de mello   it currently redirect to a priest   do you have any suggestion on the dab title   cricketer    ',\n",
       " '    thank   and happy new year to you too                 let us talk about it    ',\n",
       " 'more mature way   central post  ',\n",
       " 'stop vandalize my userpage      i know it be someone from here  ',\n",
       " 'oppose   i do not think a merge be a good idea  ',\n",
       " 'maybe   but that do not lead to the conclusion that the taip aircraft remain in africa and do not return back after ferry the soldier   the article on colaco net also do not shed any light on this  ',\n",
       " 'thank    thank for the thank   i just leave they in my watchlist after i find an archive full of vandalism a while back   give that it be slashdotte   i suspect we will see a bit more of it   i might get someone else to fully protect it if it continue   i can not do it because of coi     i would also like to thank you for keep an open mind   change   vote be an encouraging sign of good faith   regard  ',\n",
       " 'hello          if you be interested     we could really use your help    ',\n",
       " 'f  k all rides at worlds of fun     i hate all ride at worlds of fun because they be sh tty and boring   all ride operator at wof should be fire sue and hang   burn all wof coaster   arrest all wof park operator   assassinate all wof customer   i hear that a boy die on timberwolf on august          that be stupid   worlds of fun should have nown well to build that sh t ride   worlds of fun care about money and prophet moar than they be customer   burn that sh t park down   f  k you rides   worlds of fun be dangerouser than grround zero and area         worlds of fun should burn in hell  ',\n",
       " 'as to job for you    sure thing   as soon as i find time for that   also   i notify novanova ask he to start edit the http   en wikipedia org wiki croatisation   this guy know a lot about croats and their history  ',\n",
       " 'oh ok   i just want to see what people think   anyway its up for csd   hey do you like my talk page   i hope you do not mind       talk er',\n",
       " 'wrong   the capital be podgorica as it have always be since july             the seat of government   parliament   and president be in podgorica   cetinje be only the seat of the kingdom of montenegro in exile   and besides   only capital city have embassy   and podgorica have they and do you see any in cetinje   no   besides   no one in montenegro nor in the world say that cetinje be the capital of montenenegro   but instead   they say it be podgorica   and also   that consitution be adopt in        very outdated   and a new one be due next year  ',\n",
       " 'mark ii subsec   i remove the mark iix subsection and make they bulleted list     there be no reason   in my eye   to subsec one line of information     ',\n",
       " '      can there be a more concise listing      the listing of     other invention     be profoundly vague   why group   different category together   why even mention thing that the chinese receive purely from outside source   there should be a much more complete   well manage list of chinese development   which i  ve yet to find  along with how these be transmit globally   and whether or not place like europe get they purely from the chinese      this really need the attention of people with some remote expertise   which i guess be somewhat there when needham  s work   which be profoundly rare in private collection be cited  not like the arrogant bigoted ass who be cry about chinese nationalism   yet then go onto say that they only invent noodle      and besides   why be thing like the cannon and porcelain list under     other invention       who develop these independently    ',\n",
       " 'in history there could be a consensus view or a mainstream view   in theology there be no mainstream or consensus view   since most of theology depend upon the church membership of the theologian   historical scholarship aim at universality and objectivity   while theology make no such claim   it be true that there be million who believe that jedp be birth in hell   or would believe it if they know what jedp mean     so in principle their view be notable   but as enns say   it be a fringe view in the academe   even among scholar who actually disagree with jedp   the source use to build wikipedia be academic source   therefore jedp and its        st century offspring be give by default the weight they have inside the academia   while the view of the fundamentalist be treat accord to wp   undue   this do not mean that wikipedia could say that the fundamentalist be theologically wrong   wikipedia have no theology of its own     but it be entitle to say that inside historical scholarship they be a fringe view   of course   this do not exclude serious scholarship do at religious faculty   since as ehrman say in one of his bestseller   us mainline protestant and catholic theological seminary and divinity school do teach mandatory historical criticism class   so   in a sense   scholar from such faculty be thoroughly acquaint with historical criticism and build their career upon its assumption   only fundamentalist seminary and divinity school choose to default against historical criticism   they be free to do this   but this cut against their claim of be mainstream historian  ',\n",
       " 'well   i be sorry   but attack i and my edit be exactly what you be do     wow   there be some seriously snotty people on wikipedia       and yes   there be a need to separate the feature single         definitly                  ',\n",
       " '      tfd nomination of template   silentredirect        template   silentredirect have be nominate for deletion   you be invite to comment on the discussion at wikipedia   template for deletion template   silentredirect   thank you          talk       watermarks    i shall remove the obvious one   the less obvious one stay   i be allow to watermark image with anything whatsoever i wish to   even if it be a contradiction   and if you wish i to use up further wp   bandwidth by re   upload they   that have no effect on i   i can not do anything until this evening   and if any get delete   i shall reupload they   your without respect   talk email     you could have the grace to reply   i say that i would deal with they this evening   but only the one where the watermark be visible from the page   so       off   talk email     i be plan to re   upload they with less obtrusive watermark   such as that on image   bliss parody jpg     talk email     it be not vandalism   i use an external link as per your instruction   which incidentally i be not bind to follow   i be certainly on the verge of request mediation   as you be disrupt my life   never mind wp   to make a point   i will tell you one more time   any image be well than none   if you wish to get your own pix of all the concerned image   you be damn welcome to try   but they be gfdl therefore there be no ground for removal     talk email     ps   i shall add the external link again   not as an image   and if you remove it i shall make a formal complaint to the wikimedia foundation   and the information commissioner in london     talk email        your conduct be a little off in this matter   while i be all for discuss the issue with user   let us keep it civil please   thank       talk       i disagree   rob   it be far more than     a little     off   image watermarke as such be not in any way appropriate for wikipedia   this be an encyclop dia   not a pet image project   if     thedoctor       be not happy to play ball   he can go elsewhere         talk      i be propose a change to the image use policy to forbid watermarke image   please voice an opinion at wikipedia talk   image use policy user   created image  thanks   talk    i edit from the united kingdom   and under the      computer misuse act   the editing of information online be illegal   without permission   the button at the top of every page that say     edit this page       among other thing   constitute that permission   while the policy and guideline form condition   since there be no condition against my image   it have a legal right to be there   q e d    talk email     true   but therefore your addition fail under the same logic   also   wikimedia own the server   it be their right to delete it     id          apology to ed for invade his talk page   but what a load of rubbish   wikipedia be under no legal obligation whatsoever to host your image   regardless of whether they meet any policy   i have no idea under what flawed logic you presume that the fact you can edit wikipedia mean that your edit must legally be accept   if the computer misuse act state that the editing of information online be illegal without permission   that imply that edit with permission be legal   and nothing more   furthermore   by your logic   i have the legal right to edit wikipedia   and remove your image     i fail to see what on earth you intend to tell your lawyer   but i do not imagine the wikimedia board be too concerned                   talk      ignore the gibberish i',\n",
       " '      artpop        album      hello   thank you for all your contribution   i make this message in good   faith   please do not make hidden comment like this state that an editor will be block if they remove a redirect   i be in no position to be ask this but i be say this as it could turnaway new contributor   who be not aware of the rule   feel they have be bite   in this case   i think a kind   user   talk page message would be more appropriate and effective   also   you edit be revert so i revert it back to your version but also remove the block warning as it be not appropriate   no admin will   should block just because a user remove a redirect   specially if that hidden message be their only warning     feel free to correct i if wrong   again   i write this in good faith       cheers     huntley  ',\n",
       " 'crown prince    would not it have be prince   elect   denmark be a elective monarchy during this time  ',\n",
       " 'hamish macdonald   disambiguation     hello   just to let you know that as this now only have two entry   one of this name and one with a very similar name   i have tag it for deletion use template   db   disambig   if you have any question about this   please let i know   good wish  ',\n",
       " '      my     cent   as someone close to the korean   american community   it be pretty standard practice to give both an     american     and a korean name at first   i do not know for sure that that be the case here   but would not be surprised   it be probably explain in her book       ',\n",
       " '      die in      or not      i think it be well to settle the matter here instead of go back and forth   so   the ip user claim that the whole thing be a hoax   that she die in europe year ago and that there be no hawaii obit   first of all   be the     forevermissed     a user   submit website                    do you know her family personally or do you know somebody who know the family   we would like to get a more elaborate explainantion behind the claim that she be be dead year ago   i see that her suppose obituary be pretty detailed   be the rest of the biographical information accurate   though   and the picture      ',\n",
       " '  august        utc      dear   the    hour block that you place on my account yesterday for personal attack have just expire   and while i must say that i be not happy about the block   i harbor no hard feeling towards you   if you check my previous contribution   you can see that i have be a productive editor on wikipedia   i would just like to let you know that while i be guilty of personal attack against   and   i be goad into do so by these two individual   in order to avoid future block   i promise not to engage in anymore personal attack   and if i be goad by troll such as these two individual   i will simply ignore they       be repeatedly revert a comment which i make concern statement make in the hugo chavez article which i find to be bias   my issue with   concern his nastiness and uncivility   he be far too possessive of article which he have create   and he become very angry when edit be make to such article   after multiple revision of legitimate edit which i make to     his     article   i tell he to leave i alone   he proceed to foul my discussion page with unwanted and unsolicited comment   when i object to this   he goad i into call he a profanity      while i respect your role as a wikipedia administrator   i would like to respectfully request that in the future   you exercise well discretion when block a user base on one   sided information   thank you for your understanding                  ',\n",
       " 'link in results   a mess   link anywhere except the actual book  ',\n",
       " 'it be not i that add the glebe park link   though i might  ve wikifie it   i  ve never actually be there   so i be afraid i will not be of much help at the moment     though i  ve be mean to go look for a while  ',\n",
       " 'go away    why do you revert my edit on blowdart  s user talk page   surely that s his privelege   user like you give wikipedia a bad name   stop be such a busybody                ',\n",
       " 'the head     waysssssssssss    pound and feel like play dow   do not tuch they they will fall off',\n",
       " 'sarek of vulcan   unfortunately for you   you can not ban a fact      sarek of vulcan   unfortunately for you   you can not ban a fact      fact   lawrencenkhoo tell i here on wikipedia that company keep their retain profit in the bank      fact   that be absolutely untrue      fact   sarek of vulcan ban i for state that      fact   sarek of vulcan can ban i but can not ban fact  ',\n",
       " 'keep your chin up   darwinism be not accept over   night   there appear to be more sense in   the   aat origin   than the sort   cut hypothesis that our   ancestor go from swinge in tree to the prairie   and then   eon later   take up a sedentary life style so they could edit wikipedia and face book etc     all day     one only have to watch little kid on the beach     the first time a wave throw they bottom   over   elbow they may well cry   but after a time     they can not wait to get into the water again   it be as if   be at home on a sea   edge environment be hard   wire into their gene     unfortunately   the rise in sea level since these time mean that evidence of these coastal community may never be find     keep plug away until the old hypothesis fade away  ',\n",
       " '      nazi filth     be impolite              jan        utc       ',\n",
       " 'interesting   i check the other case number kunzang lhamo cite   which can not be use for wiki since it be original research   but go a step far   i can not find that case number on san bernadino  s open access   either in civil or criminal record  ',\n",
       " 'the transcluded part of the ga review do not seem to update into the main talk page of the article correctly   may have to click to go to the subpage to get the most up   to   date version   sorry   its looong   you can skim most of the content   relate stuff   i guess  ',\n",
       " 'protect   cause of the      palestinian exodus      hi      can you explain on its talk page why you protect this article      there be some edit warring go on   but not very heavy   for the standard of this article     also i be a participant in a mediation case   but that concern actually only the use of one source on this page   and be irrelevant to the present edit warring      therefore i be wonder about your motivation      regards  ',\n",
       " 'hello   i check this personal page very often   please leave message here on on the discussion page   tks      marvio',\n",
       " '     my thank to you for this   i note that i be be dress down for everything from be nice to editor i like to work with   all the way to delete messy post from my own talk page   well   a mess be a mess   again   thank stephen   please do not take that as gratuitous or ingratiate            imacowboy  ',\n",
       " 'i do not care what you say here   i do not believe one sentence anymore  ',\n",
       " 'anytime you want a nightcap   tell i  ',\n",
       " '     meet a local   vietnam tv series   factual   documentary     min         meet a local   spain tv series   factual   documentary     min         meet a local   tasmania tv series   factual   documentary     min         meet a local   ireland tv series   factual   documentary     min         the way   camino de santiago feature   factual   documentary     min         african stories online   factual   documentary     mins   overlander multimedia for the abc         the outback boxing troupe online   factual   documentary     mins   overlander multimedia for the abc   australia   production company         return home   a story of ararat online   factual   documentary     mins   overlander multimedia for the abc         meet a local   east coast australia tv series   factual   documentary     min         meet a local   outback australia tv series   factual   documentary     min',\n",
       " 'globalization and   ivytrash      i be not ivy anything     that be my home     i be bear and raise   block from harvard square   and it be   once   the great place in this country     i be not interested in   globalization       i look at the square and see the smoking ruin of my home     when this happen to you   i hope globalization be comfort enough for you  ',\n",
       " 'he be   self   confess   and approve by my observation   see   e g    history of soviet partisan     btw   you be the first to object    ',\n",
       " 'and btw   speak of the armenian genocide   if we be to follow wikipedia convention of most common name   and i do not agree assyrian be the most common name as we also have prove many time before   we should change the name of the current article assyrian genocide to seyfo  ',\n",
       " '    to quote      if a wikipedia article link to this page   it be because someone be concerned that the article contain inaccurate statement s     such statement be follow by the follow warning         dubious   discuss            the accuracy of a statement may be a cause for concern if            it contain unlikely information   without provide reference           it contain information which be particularly difficult to verify      please do not remove my dubious reference edit as that would be against the guideline there   would not it    ',\n",
       " 'belarus a develop country   hahaha   nothing more to say                ',\n",
       " 'censorship on islamist terrorism    try not be a censor monger   properly cite information should not be delete  ',\n",
       " 'if you would like to write an article of bill  s father   include his rise to ceo of commonwealth edison   feel free   this article be about bill   we be not write a chatty   book   lenth biography about he   but state fact   same as other biographical article in wikipedia   the detail of his father  s career be irrelevant   although his   eventual   stature as ceo be not   this be yet another issue that have already be resolve  ',\n",
       " '    thank     really cool tool for purpose like what i have on my userpage     well   tally   ho    ',\n",
       " 'it be funny because i would say exactly the same thing for you astarti       the anonymous user with an ip from greece and the user williamthweatt   accuse people   without a reason be not allow in wikipedia   as per wikipedia rule you be free to ask for an investigation   in fact i do kindly ask you to do so   if this vandalism persist i will seek an arbitration   i do kindly ask from any moderator   to see all the revert   and i be confident that they will conclude that they have be mal intentione   with a clear nationalistic agenda     you all   guy have something in common   you be all greek   all   of you              ',\n",
       " '                i just watch the entire series   and i agree   this entire article and several other in the suzumiya haruhi article be all from a     somebody who know haruhi personally     sort of view      so i m go to fix it        ',\n",
       " '    agreed   will take a stab at it   it also need major format cleanup and wikifying   it sound too much like a fan conversation   the reference be all either youtube link or     personal communication       i be try to at least pare down the     best musician ever       statement   could use some help with the discography section too       ',\n",
       " '    vandalism be for e g  this type of edit   somebody say that the stig be leave so i revert it   basically i revert it because there be no source to suggest that he be leave   so i do know what vandalism be i just want to carry on edit wiki   i love this place it be amazing please do not     make i leave       now that i  ve explain myself please please unblock i     thank        ',\n",
       " '     baer do not invent video game   this be jewish propaganda support by a wiki troll name       goldberg     go figure      hey       goldberg       try educate yourself      https   www youtube com watch v efbwz sik s  ',\n",
       " 'i can tell you what the argument be about here newseventsguy   it be about your retroactive reversion of a simple edit try to include secondary independent verification of sedimentary nanodiamond in younger dryas sediment by bement and madden et al     without discussion a reference that i notice have not yet be include in the reference list still   after all this time   this be after you admit that you be ignorant of the peer review literature and the controversy   any attempt to do simple reference list edit on this page have be stomp by no less that five admittedly biased and ignorant editor   the honorable thing to do here would be to recuse yourself from edit the page   as i have   but i have not see that happen until now   good luck with it   you  ve already make complete fool of yourself  ',\n",
       " 'hello how do i get somebody to fix shit around here  ',\n",
       " 'dictionary    how dare you call my contribution spam       i be a kurd and i make a lsit of kurdish dictionary   you bloody turkish nationalist and atoricity commit bone break nazi   watch out folk this slimy turk be try to censor the internet this be not undemocratic turkey here   no prison cell in wikipedia you stupid turk   and you bugger want membership to the eec',\n",
       " '     apparently   other editor agree that the edit i make be justify     a group of meat   puppet work as a team to revert an article to their own pov be what have cause this block     at issue be the     advert     tag which be justify   be place on the article by one editor   replace by i   replace again by another editor   and replace again by i     three editor   so far   have indicate the tag belong there     i be sure a forth editor be go to weigh in on this side too     the article be riddle with brochure language     please note that i be remove brochure language right up to the lock   up of the article     there be still lot more in there that need to come out before the advert tag should be remove     additionally   i do not believe i break the  rr rule which require a fourth reversion         ',\n",
       " 'while i agree that indus valley civilisation be the correct name for the civilisation   the passage quote above be not neccecarily factual in term of say second there be no proof at all that the mighty sarasvati of the rigveda be in fact this   now dry   river  the identification be itself open to doubt    apart from there be fact   proof to indicate that saraswati do exist as this dry river   include geological fact as to why it dry up   the evidence also point to the fact that it be not a tributary of the indus     refute point   of the passage quote above   and in fact draw the water of the sutlej and the yamuna to be a river system of it be own   and though a large number of site have be find along this river system   none of they be of the scale of harrapa   mohenjodaro   leave the indus valley tag as the correct one   saraswati do exist   today the timing be dispute and not the existence   wheter it be vedic and indic vs harrapan and non vedic be more dispute today than it be existence  ',\n",
       " '  december        utc      thanks   i have start work on pranagnihotra upanishad but i be unable to get the full text from the deussen  s sixty upanishads   page           do not appear in the book under google url     can you suggest a url which give the full text   in the meanwhile i have complete this short article sharabha upanishad which you may like to see and add   edit   nvvchar              ',\n",
       " 'i insult people on en wiki with criterion to provoke my filter set   you be simply abuse the power people hand over  ',\n",
       " '    excellent   that would be great   the comment find at its peer review should also be very helpful   but i have not have any time to actually act upon those suggestion   cheer     hello    ',\n",
       " 'how do you know he be dead     its just his plane that crash     jeezz   quit bust his nut   folk  ',\n",
       " '     afican union site vandalism    dear bracketbot   i write this note to inform you that an editor be perform act of vandalism in the website of the     african union     https   en wikipedia org wiki african union   please i would appreciate if you could tell i who i should report this action     the board index name be https   en wikipedia org wiki user knisfo        ',\n",
       " 'you be a know it all       jimbo      why do not you get a life instead of sit in front of your computer all day   the high priestess of knowledge   indeed  ',\n",
       " '    all of those statement need to be reference     leave an article unreference in every section open the door for original research and the introduction for factually inaccurate information     to point out one thing   i  ll bring up consolidated appropriations act            first   it have a number of tag on it   the creation of article that need to be tag should be reason number   to remove the flag     second   the only reference   link provide on the article be this one while the information be from various subpage of that     it appear that the entirety of the article be find at this deep link     it be possible that some come from this as well   i can not tell     i  ll also note that the style of the summary it be take from be never mean to be encyclopedic   so the article be riddle with grammatical error   mostly incomplete sentence     on creation   the opening read     consolidated appropriations act          h r         be a bill pass to the    th united states congress       i  ve never hear this usage   to rather than by   and assume it be incorrect   another editor change it   the lead be also miss an important determiner     in any case   you can take a look at   vesey  ',\n",
       " 'ok   i just ask   for your experience   what you think about the portal  ',\n",
       " 'sitush   how can anyone assume good faith when you have be write so much against yadavs on that page   it be evident from the discussion   how conveniently you have be select source for negative and then conveniently reject the same source for the positive   you be the only person spamme on that article and vandalize it   yes   i will contribute to other article on wiki too   but let i first correct thing on yadav as so much wrong have be go on there   you get ikonoblast ban and now you have get i ban and you will get anyone ban you differ from your biased stand on yadavs but i be not go to give up   i will follow all wp policy and will ensure that i get thing correct on yadav and do not let your and fowler personal view dominate that page   peace    ',\n",
       " '       december        utc     do not worry   i tell you i have your back   and i  ll continue to defend ya      yup   we get our proof of work   when i first see it   i be like   that be no reliable source     cause i remember you revert that source one time   but   when i look over the article and see ref      i be like   oh shit     so i revert it   i be glad you go     go back          i be glad my     two word     have go on to     save     i   question   would you like for i to expand lead on all ss member       hit          ',\n",
       " 'november        utc        i agree with      clearly santilak be use up his usual bag of trick   santilak   please discuss the article courteously and professionally                             ',\n",
       " '    ok   i like the pyx lax track very much indeed   if you could point i towards other greek trad music   that would be great   and greawt for i   here be some irish         non visto     provvedi  ',\n",
       " 'where be with pitchfork already                 jun        utc  ',\n",
       " 'again reinstate sentence about   nobels in the first paragraph   for the reason state above     if other disagree that this be a defining characteristic of bx science that should be indicate right up front in the summary paragraph   then can we discuss it here rather than play edit game by remove text without either edit summary or discussion on the talk page  ',\n",
       " 'i be disappointed it be not a successful run   but it',\n",
       " '     elvis     cry in the chapel   feudalist    ',\n",
       " 'please refrain from add nonsense to wikipedia   as you do to fisting   it be consider vandalism   if you would like to experiment   use the sandbox      tlka',\n",
       " 'elizabeth    hi lil romeo i be one of your big fan i really like you i always dream of you at night i would like you to come to dallas tx   to ignacio zaragoza and give a concert at this elementary school i be in the  th grade and i be    year old i want you to come and help i with my homework see you later i will write to you soon by',\n",
       " 'hi fracophonie      thank for take the time to write such a long message   i appreciate this      in term of what i say about the age   i do not mean to cause offense   i think i read somewhere that you have to be over    to make these decision but i think i be get confused with the check user privilege      i have already read some of those policy but will read the rest later today   i be not a troll   i just need time to get use to all these acronym   policy etc      from what start out with i write an article about my favourite website have turn into a massive thing which be not what i be expect      i really do not have any more time to argue and debate with the usr since its clear they just want it delete despite what i have say   for example one user just write there be another site call amirite net   this be amirite com     this be precisely why i have to keep respond on the afc delete page      in term of the rest i agree to do they   of course i can only apologise once i be unblock     can you apologise for i      on a side note i be actually french and jewish   shame about the gay part though   ',\n",
       " 'welcome      hello   soundchu   and welcome to wikipedia   thank you for your contribution   i hope you like the place and decide to stay   here be some page that you might find helpful     the five pillar of wikipedia   tutorial   how to edit a page and how to develop article   how to create your first article   use the article wizard if you wish     manual of style   i hope you enjoy edit here and be a wikipedian   please sign your message on discussion page use four tilde            this will automatically insert your username and the date   if you need help   check out wikipedia   question   ask i on my talk page   or ask your question on this page and then place     help i     before the question   again   welcome       wikhead',\n",
       " 'i remove the content   after it be tag as uncited by mattisse   if every commonly know fact need a cite because some editor   en passent want to nominate for farc   then it appear we have a problem   i very much suspect mattisse  s motive here   but frankly   i be too tired of she to be bother to explore they   perhaps one of her probabtionary mentor   more interested in she than i   would care to deal with this  ',\n",
       " 'be jeff garcia gay or not  ',\n",
       " 'that would not be sufficient   you need explicit permission to use text copyright by someone else under a licence suitable for wikipedia     please read the guide to request and formalizing permission to use copyright work on wikipedia     note that   in addition to copyright requirement   the article must still comply with notability guideline   advertising prohibition and avoid conflict of interest          talk  ',\n",
       " 'the section be useful info and should stay   you be clearly wrong  ',\n",
       " 'comment so now we be stick with a week of       broken link   since you acknowledge that the move be a mistake and not uncontroversial   will you please revert it   if anyone want to dispute that the opera be the primary topic   they can do so under a proper request move discussion   as they should have do in the first place   if you be not willing or able to do this today   i  ll ask a another administrator to do it  ',\n",
       " '    it need to be include   in the context of      as well     i  ll try and dig up some source     user talk   review i    ',\n",
       " '                      tim   firstly i appreciate you take the time to discuss this issue offline   and for your willingness to debate it at length here despite the majority view here be in your favour   yes i certainly agree with your friend that it be very important to describe the jurisidiction that a firm be present in   there be clearly a massive diffence between   say have office in the french or japanese jurisdiction   or between the chinese and u s  jurisdiction   since the legal and regulatory system be very different   as well as the commercial characteristic of the market       beyond that however it remain my firm view that there be a big difference between a law firm have an office in   say   paris or toulouse   even though they be both in the same jurisdiction   i appreciate that the situation in the u s  be slightly more complex since you have both federal and state jurisdiction   even within each state there will be big difference between the legal market in different city though   to give an example   the san jose market will be not just a lot small overall than the los angeles market   but it will also have a quite different profile   on the whole a lot more specialist   niche and focus on high tech       to give another example   in the uk a law firm could never be regard as be truly top tier if it do not have an office in london   even if it have office in every other big city   in fact all of the very top tier uk firm   dla piper be not yet regard as one of they   despite its size   have just one uk office   in london   although they have other office overseas       say that dla have     have    office across the united states   egypt   south africa   kenya   thailand   china           would in my view still mean a loss of valuable information to the reader   we could fall back on use description like     in major financial centre     or     in major commercial centre     or     in a combination of major financial centre and major commercial centre     but then we be introduce what be in my view an unnecesssary element of vagueness   imprecision and even original research       i do accept that dla   with    office   be right on the borderline of have too many office to make it practical to list all of they in the article   however i do also feel that there be an important general point of principal that information about the office location of a law firm be very valuable information to aid the reader of an article in understand the subject of it   and should be include as much as possible        ',\n",
       " 'no problem with that at all     if you do not think that there be a problem with someone site that i have a mistress then it just prove my point as to how far this site be to be an actual encyclopedia     it be a forum   not an encyclopedia     big difference     and that be not even what piss i off the most about my page     thank god i be single with no chick bitch i out or that would be another attorney fee i would be hand out to sue whoever own this site     i be do bitch about the mistress thing     my whole page have error from the very first line down to the very last line   and that be no joke       first line and the last line be wrong  ',\n",
       " 'sprecher brewery    i take the tour this christmas when visit my sister   we be charge an extra     for the glass   their website may not be update but that be the current pricing  ',\n",
       " 'ipad talk page    why do you remove that ip  s edit to the talk page   it be not spam    ',\n",
       " '     speedy deletion of andrew takao    a tag have be place on andrew takao request that it be speedily delete from wikipedia   this have be do under section a  of the criterion for speedy deletion   because the article appear to be about a person or group of people   but it do not indicate how or why the subject be notable   that be   why an article about that subject should be include in an encyclopedia   under the criterion for speedy deletion   article that do not indicate the subject  s importance or significance may be delete at any time   please see the guideline for what be generally accept as notable   as well as our subject   specific notability guideline for biography      if you think that this notice be place here in error   you may contest the deletion by add   to the top of the page   just below the exist speedy deletion or     db     tag     couple with add a note on the talk page explain your position   but be aware that once tag for speedy deletion   if the article meet the criterion it may be delete without delay   please do not remove the speedy deletion tag yourself   but do not hesitate to add information to the article that would would render it more in conformance with wikipedia  s policy and guideline         ',\n",
       " '      image     image deletion warn image   metroid prime hunter title screen   top display jpg have be list at wikipedia   image and medium for deletion   if you feel that this image should not be delete   please go there to voice your opinion              august             utc    ',\n",
       " 'the real personal attack be the repeat undoing of my edit by everyone else  ',\n",
       " '     nope   i do not read the guide to appeal   do not have time   the user in question be engage in harassment   i  ve be do this long enough to know and i can prove it   he   she immediately place a threatening notice of block i permanently on my user page   revert the article while i be in the midst of edit it   my second pass   could not even preview change     then change his   her mind as to my real wiki   sin   since the onus for prove the doris day available as pd on archive org be on he   she not i and the usual span for pre   bern have expire long ago       decide my real sin be original research   oh no     and continue to revert base on that   do or add clutter   sure it can   but if the user in question be really concerned about that   about the quality of the article and about extraneous detail   why didn t he   she even notice two paragraph already there   comprise about     of the entire article   deal with norman schwarzkopf   an unrelated book and an unrelated ice cream store name   i  ll tell you why   the user be not engage in good   faith   goodwill editing and the normal back   and   forth that lead to well article   he   she be involve in block input to the article   why   be it personal against i   or be it to preserve the exist content of the article   include the false claim and extraneous material not even concerned with ther subject at hand   i can only speculate   but i would guess it be some sort of power trip and wiki   bullying   i do not really have time for this   i have make a fair number of very good edit over the year and have usually refrain from say anything that be not directly relate to content and improve article   i could pretend this user do not do what he   she do   but i be waste my own time here and i do not really have a stake in any such pretense   i do not have any stake in improve this article either   no dog in the race   i just see how it can be improve and make more informative   as a long   term wikipedia user and editor   i do not see any problem in jump in and fix something   i almost expect some sort of pushback now   but not over completely minor edit which be very good and on   target in very minor stub   like article   the problem be not i here   it be that if people such as the user in question can get away with this sort of behavior   and they be get away with it   wikipedia become a much poor place   a playground fill with bully rather than a library where we can all learn and share   also   i do not recal ever have call he   she a bot   i think you put those word in my mouth   perhaps inadvertently   his   her behavior be malicious   but probably not malware   just the normal human collection of problem   i think this user should be warn against try to be a gatekeeper   he   she be not quite qualified for that at this point anyway   and it be have a very chilling effect across wikipedia   i will not egnage in a battle of the wikipedia rule acronyms   i will continue to write in english   and to read article on wikipedia in english   and to think of way to improve they in english   i be fully aware of how the term     vandlism     be use and misuse here   and most of the rest of the wikijargon   nothing new under the sun here   if you read the edit i make carefully   and note the time of the revert and the history of action by that other user   you will see i be not off the mark here at all   i know what be go on   i do not know why   but i do not have to   and i expect the motivation be not interesting   respond if you have anything to say       ',\n",
       " 'the communist state        all three call themselves as the socialist state   communist be the word that westerner use   so should that name be change         ',\n",
       " 'boze hadleigh   a journalist   interviewer and writer primarily of gossip about homosexual of hollywood  ',\n",
       " '        imdb content be user   submit and often subject to incorrect speculation and rumor   the use of the imdb on wikipedia for reference be consider unacceptable and strongly discouraged     wikipedia   wikiproject film   resources           self   publish medium     be largely not acceptable   this include any website whose content be largely user   generate   include the internet movie database   imdb        wp   userg   as i  ve say   this be a long   stand consensus   if you disagree   i encourage you to take it up at wikipedia   reliable sources   noticeboard         ',\n",
       " 'i be new to this mean of communicate     and i be not sure that i express this in the right form     however   i be review all of the recent                 ma nomination   expect to go on the web in the next couple of month     in the process i have develop a database of corrected lat   long   decimal degree     base on google earth and photo and assessor map in the nomination file   i would like to share this   if there be a way of do it     alternatively   to find a way to easily check and correct exist coordinate on the mass wiki lists   would this be useful for anyone  ',\n",
       " 'y kgtp actually revert the vandalism   i do not  ',\n",
       " 'yes   i have read they both   and i will now ask you to provide back   up for your story   not that it matter in the least   the one religion be as bad as the other   but you well have some proof for your claim   chatnoir',\n",
       " 'i think the error be that it be gram not kilogram   so     kg   i be edit the article til we have a well result   if i be wrong please change it back                dec        utc  ',\n",
       " 'vince   fyi   yellowfrog   be   longdendale   councillor sean parker perry   a frequent purveyor of   greenwash   and four square behind the destruction of swallows wood via his support for the bypass   he be vigourously re   edit the wikpedia page on the longdendale bypass   his own and roy oldham  s page in order to boost his fake   green   credential and obfuscate the neutrality of these article   he get nasty if he get piss off   threaten spurious legal action     but fortunately   he be legally illiterate   so do not be put off  ',\n",
       " 'summary of situation   user   shimshem have take a dislike to this article   and have try numerous method to either get it delete or its name change          completely invalid speedy deletion request        invalid drv request        nominate for deletion via afd   despite the fact that it have pass an afd this year   in fact the afd be withdraw at       for keep    the current afd here stand at       for keep   but despite that   shimshem have you all the way through it   once it become clear that it be go to be keep   they decide a name change would be well            change the name of the band in the article   and be tell to take it to talk    after a brief non   discussion on talk   move the article anyway   and be revert    i be originally unsure of the motive of this editor   why they be completely desperate to delete or move this article   until i note they be interested in tamil subject   one of which be m i a    artist     and guess that they believe that the two could be confuse     their subsequent creation of the article m i a as a redirect to m i a    artist   prove this   as far as i be concern       as to whether the band be actually call mia or m i a    it differ     the band itself use m i a  as the heading on their own website   but then use a combination of both elsewhere     since in the case of most source   this be only likely to be laziness   much as r e m  be regularly refer to as rem     and since the article have exist here for a while   and that all the backlink go to this version   and most of all because we should not let disruptive user get their way   the article should stay here  ',\n",
       " '     it be unnecessairy source   because it do not matter how many soldier be kill   what matter be that the safavids be depose   besides that   mention that information without make any remark about the brutality of the afghan force   for example the complete massacre of the safavid family   include woman and child     as well as the massacre on the civilian population in isfahan   bam   and village of khorasan   be consider pov      besides that   you have not show any source for your claim that                    soldier be kill          and as for the edit   it do not matter what you believe   it only matter what the wikipedia rule be   you post a message without editte anything     that be the same as abuse the article  s history as a message   board   use the real message   board instead      ',\n",
       " 'whoever write the plot   i feel terrible for whoever have to watch the movie in detail and then write the plot line   who ever take their time to write the plot section must be traumatize for life   however   its miss the part where milo  s son be lay on his belly unconscious on a bed   milo anally rape he while several mask man watch   also   there be some use of a knife   sword in this scene   this be truly one sick film   no   there be no artistic message   this film be basicly a middle finger by the sick   minded film maker   the cast must have be trick into participate in this disgusting film   there be artistic gore such as the classic film begotten and then there be this         listen to i   don t watch this film no matter how much you be tempt  ',\n",
       " '    as he have ask admin not to comment   i will refrain from do so   i do however remove a personal attack against he   if anyone wish to discuss this action   please email i     windows    ',\n",
       " '    can we compromise here   i do not think we have the budget for salmon   but   at least in the netherlands   there be an     in   between     fish   more affordable   that in dutch be call     salmon trout       so far   so good   s marshall   fortunately no one have yet discover that you use to run drug for a cartel or that you dance in a nightclub a la     henry lafarge   be it   in a shot in the dark   ssshh   i be not tell   oh   i should ask you at your rfa about the proper use of   citation template   later       ',\n",
       " 'sorry   i be not sure how to take care of he      he have quite the history   and actually have legal case involve the dayton daily news     wikipedia be at risk if he edit any of those page or any affiliated company      the actual sockpuppet be               which be a puppet of hdayejr  ',\n",
       " 'we can agree to disagree on the relative merit of the fish and the character   but the red seabream be part of family sparidae anyway   so that be usage outside north america right there  ',\n",
       " 'large ship be typically launch into the water when the hull be complete   but that do not mean all of the construction work be finish   usually   there be still a significant amount of work to be do   include finish the interior of the ship   build the superstructure   etc   take a look at image   sms seydliz under construction jpg   for example   you can see the ship be already in the water   but a significant amount of work be be do to the superstructure   you can also read ship name and launch for more information about launch   hope that help  ',\n",
       " '      at which point i be predictably ignore and stonewall   which seem to be the wikipedia staff  s official response to any direct questioning on the justin berry issue     one might think they  ve hire scott mcclellan to handle their pr     clearly they be aware of the untenability of their position   and they be really hope it will just go away     sorry guy   it will not    ',\n",
       " 'you need to prove notability use reliable source   just because it have some festivity   how large be they   who organize they     in part of a country do not make it notable   also   you need to change your username   this one will probably be block soon for violate the username policy   no name of web site   business         talk to i  ',\n",
       " ' meter   s sigh and my concern   only because mr  meter  have revert any of contribution of mine give to this article so far i do not have a single chance to develop it   his article call  falsetto  be not about falsetto   it may be about his arrogance   who know   there be a huge contrary regard only the definition of falsetto   there be many sign of entirely different falsetto compare those info which mr  meter  such anxiously protect   in england   italy or spain   th century be describe entirely different type of falsetto   on the top of it   mr  meter  perhaps never hear pavarotti singing falsetto   or the falsetto of ian gillan   singing of king diamond be base on falsetto   what about michael kiske   be it not falsetto   mariah carey or whitney houston do   do   not sing falsetto   do any of these falsetto sound breathy   not to i   be not out there publish a note about those   maybe only because  meter  do not look for it   why   it would not fit to his article   he would have to admit that his only source vennard be probably have in the chair something else than falsetto or he be drunk    meter  quickly open two or three book and thing he have swallow the world   the whole physiology of his  only  falsetto be base on encyclopedia   well   perhaps it be enough for wikipedia or himself   but not for i   no   there be much more out there only regard physiology   much much more   and just because you allow idiot like  meter  to  develop  wikipedia   the people   the reader of wikipedia will read shit   where be any prof of the research regard female falsetto at   ie   mr know everything   feel free to block i again   i have no desire to write here any more  ',\n",
       " 'you  ve also forget these premier leagues      but still write in english  ',\n",
       " '     please do not replace wikipedia page with blank content   blank page be harmful to wikipedia because they have a tendency to confuse reader   if it be a duplicate article   please redirect it to an appropriate exist page   if the page have be vandalise   please revert it to the last legitimate version   if you feel that the content of a page be inappropriate   please edit the page and replace it with appropriate content   if you believe there be no hope for the page   please see the deletion policy for how to proceed   thank for contribute to wikipedia      talk  ',\n",
       " 'what a motherfucking piece of crap those fuckhead for block we  ',\n",
       " '         utc     that be because when i make those table   i class everyone as     independent     unless i could confirm their party identification     accord to this   the dlp intend to run in all    constituency     accord to this they have at least   candidate     i  ve only be able to identify two so far   so we do need to identify more                december  ',\n",
       " '      removed pov    i remove undo criticism of secretary boutwell and pov   wikipedia be not mean to bash person reputation whether alive or dead   the following have be remove from the article          boutwell do little to withdraw paper currency from circulation   shape his financial policy to forestall either inflation or deflation     intellectual critic see in these action a want of guide principle and a lack of solid theoretical knowledge       he believe in knowledge just so far as it be convenient for he to justify his own theory that knowledge be a deception       henry adams write in a much   quote analysis in            he believe in common school   and not in political science   in ledger and cash   book   but not in adam smith or mill   as one might believe in the multiplication   table   but not in laplace or newton   by a natural logic he make of his disbelief in the high branch of political science a basis for his political practice   and thus ground action on ignorance he carry out his principle to its remote conclusion     henry adams       the session       north american review   july          p         but in a very corrupt time   it speak well of boutwell that nobody think that he make money out of his cabinet post   either for himself or his friend   live within his salary   he lodge in a boarding   house throughout his tenure   his only pleasure lie in writing lecture and play billiard or poker    though never for money   chicago times   march                  he be an inaccessible man   uninfluence by fear   favor   affection or hope of reward   and do not burst out into brillian exhibition of love or hatred       a new england politician write his brother   henry f  french to benjamin b  french   march             benjamin b  french papers   library of congress          boutwell  s financial policy be less dogmatic than pragmatic     liberal reformer have hope that he would embrace civil service reform and rush the country towards the resumption of specie payment   but while boutwell appoint subordinate on the basis of merit for the most part     he do little to rein in the spoil system outside of washington   remain on friendly term with the party boss              ',\n",
       " 'you sir be an imbecile   and a pervert  ',\n",
       " 'recaptcha      it be not defamatory     it relate to a computer system not a live person    recaptcha force user to solve the captcha to access whatever the service in question be   force labor be the definition slave labor   i be go to revert your reversion   please do not do it again or i will report you for vandalism also please do not send i threaten message tia              ',\n",
       " '      question on possible citation    i be sorry if i miss your question   i do not pay much attention to that page   in response to your question   let i start by repeat my boilerplate formulation   the job of wikipedia editor be to verifiably summarize reliable source use the neutral point of view     i have not yet work in     no original research         wp   nor say that we must not integrate otherwise reliable information to arrive at novel conclusion   compare two list and draw conclusion from their difference and similarity be most likely original research   we can integrate information   so long as we do not arrive at new theory   another principle to remember be that vagueness improve accuracy   the more precise we be the hard it be to be accurate      get down to detail   the predators and editors website appear to be a reliable source so we can use it as a source   the bauer site   even if somewhat unreliable   may be use in a limited fashion as a primary source about bauer   i be not familiar enough with this topic to make pronouncement on what would be correct   however i would say that your propose text appear reasonable   the source be sufficient   and no original conclusion be make   the website takedown issue be confusing to i   but you should be able to summarize what you find in reliable source      overall   my opinion be that the less we say about the subject the well   attack article be not encourage   while we must show our subject     wart and all     we should not enlarge the wart   nor ignore their well feature   balance be a part of npov            but you should be able to summarize what you find in reliable source       there no reliable source only a he say she say blog flame war   it be allege the website takdown be instigate by bauer   it be not clear if she do   and other factor between the forum and the ip be not know   it be the root cause of this article and all the player here be involve via these blog   i do not see how that can be objective       bauer   i be sorry i do not get back to you about the usenet stuff et al     but i  ve be somewhat overload at work   personally   i think the article be well now than when i first see it   thank to a lot of effort on the part of the primary editor of the article to bring the good source and present they in a way that do not seem like a lynch mob   y all be do a good job   and there should be enough editor on either side to ensure that something resemble nuetral get post   i be glad to help and try and make the article neater   and i do not mean to sound brusque in the summary field   but there be a lot to cram in there   thank for the note   i appreciate it        i would say karen say i  ve call she name be an out and out fabrication   i  ve never do any such thing          or whether it be because he be be able to insult i and call i name on wikipedia   repeatedly and without consequence        i  ve accuse she and jule of carry the water for tnh and absolutewrite and they have   that be not namecalle by a long stretch   i be really weary of these attack over this   this be mob rule   while avi seem genuine   she be hang with a tough insulting tribe   the threat against i be real and escalate by the hour   blame i will not make my point any less valid   nobody like to be pile on by a crowd   it be the internet equivalent of stone      this be not a fabrication   i get awfully tired of be call a troll   or part of a mob or cult or     group troll       or a     self   interested partisan       or a     blog comment commando       or other thing i could point at if i want to depress myself   you also make a     theoretical     comment about i be     nosy   fat and ugly       put the word     if     in front of it do not make it any less of an insult   i  ve try to be polite to you   and will continue to do so   but this be the response   and   please notice   like abi   avi be avraham the admin   abi the ml commenter who believe in kindness   i counsel against pile on       talk   contrib    those be not ad hominem name karen   yet you  ve link to a thread where you and teresa cale i a psycho   you should hear what she say in private when i ask not to be speak of negatively in thread on make light   it be obvious you two be pro   tnh and absolutewrite   that be self   interest and back up by the fact that you run to she for counseling   well   avi can make her own decison about it then can not sh',\n",
       " 'infobox hurricane season    it be pretty much complete   i need to make some documentation   and possibly tweak thing that may pop up   you might want to test it out   so if there be question or suggestion   i can go ahead and address they  ',\n",
       " 'show i where on wikipedia it say the table width have to be      wide collectonian   why can not you answer my question  ',\n",
       " 'why be this article mark for fix   i be hope that there would be some guideline here on the talk page   for further research and edit   the article look okay to a cursory reading by a non   wiki reader  ',\n",
       " '     castro   lite   webluis continue to revert to his water   down   preferred image of castro   he have not back up his edit with any fact   only whine about     personal attack       some nonexistent   and empty statement                mar        utc    ',\n",
       " 'antonov revert   if you do not like the red   link removal   why do not you just add they to the table i make   also   you revert the edit where i only add the logo of antonov   it say so in the edit summary    ',\n",
       " '      another crap article   parrots what promotion website of capoeira school say about myth of origin   and also that persecution thing   by the late        capoeira become a word for street brawling   thus   authority do not prohibit or sanction     practice     of capoeira   in ban capoeira they be ban outright street brawl   it be why mestre bimba present his art as luta regional baiana   no decent carioca would be eager to sympathise with capoeira and malandrismo   i could attempt to alter the article but it be become such a mess by now       ',\n",
       " 'i never edit the content of your comment   please correct your false accusation  ',\n",
       " 'redirect talk   jos  manuel rojas',\n",
       " 'i agree that it should not but clearly it do   the medium make spouse household name   there be nothing we can do to stop that   but   as jim rightly point out   rein be more notable than some political spouse because of her prominence as a businesswoman and that potential conflict of interest   which she be try to avoid     nick',\n",
       " '         for security reason     edit war   as i say in my edit summary   the term     for security reason     be ambiguous and not properly establish in the source   far   it be unnecessary   you would have to have a crystal ball to know why they do it and   as i say early   janes be not perfect     the reason that all the other mg manufacturer alter their part so they do not interchange be because the us batfe make they do it     suddenly   glock be different     yeah   i guess that be just like glock compensate pistol not act like any other compensated pistol   i wonder if they actually shoot bullet       ',\n",
       " 'this represent your immaturity and consistence at disruptive behaviour       talk',\n",
       " '       macedonian     slavic     bulgarian   possibly         notes             republic of macedonia               recognise the language as the as a dialect of the macedonian language                   greece         eg   recognise speaker as slavophone greeks                             bulgaria    believe that macedonian and dopia   slavic   macedonian to both be part of the bulgarian diasystem                   european bureau for lesser   use languages              recognise the language as macedonian in                     ethnologue             the most comprehensive guide to the world  s language   http   www ethnologue org show country asp name gr                  there you go for more clarification   altough we all know the stance of the various government do anyone have current source for this   if so please add they   i hope that this table be clear     but their still need to be more ngo  s   albania   eu   etc   please add constructive comment       ',\n",
       " 'if you feel that i be act in manor inconsistent with my responsibility you can post something at wikipedia   administrators   noticeboard   incidents     if you want to make change to university of wisconsin   madison and you have reliable source reference to support those change then post the reference with the change     this tutorial may help with reference   if you have more question just ask  ',\n",
       " 'part of editing for an encyclopedia be reduce extraordinary claim to ordinary fact   i assume that this be mean in a derogatory fashion              ',\n",
       " 'cfd nomination of category   wikipedia administrator   i have nominate   for deletion   your opinion on the matter be welcome   please participate in the discussion by add your comment at the discussion page   thank you       ',\n",
       " 'i be also a sock puppet of this account     suprise        sincerely                 the man that will track you down from the internet and kill you',\n",
       " 'all the source need be provide   all you need to do be read the article     but i guess you can not read      once again you prove you be not even read the article   every edit be back up with the source it come from   i be not go to provide you with any detail   because you be merely a civillain editor and not a wikipedia staff member   you have all the info you need within the pira text edit   if a actual wikipedia staff member want more specific i will be happy to provide they    look   you be obviously a anti   ira hack who be make thing up to support your bias   i be neither pro not anti ira   i have no bias   i merely report fact   i will be check this page daily   and will continue to submit my pira entry because it be by far the most accurate and factually support   we can do this several time a day if you wish   or you can accept the fact that mine be the superior version and just deal with it   it be up to you   but i will re   edit on a regular basis   or we can agree to incorporate your fatcxs and mine into one article      but the three area   the number of loyalists kill from      to         the number of ira victim as break down by both janes intelligence online and the cfr      and the ira   russianmafia connection which have be document in multiple book and newspaper source      these three thing be verifiable and will remain  ',\n",
       " 'be you fucker mother fucker have nothing to do but block university computer   go and suck cock',\n",
       " 'it be from one of the many book on various band     i think it be from cult rockers   but i just check and supertramp be not in there     i will seek out a source for this quote    ',\n",
       " 'hello    you disgrace to humanity   stop waste valuable internet resource   your kill the fucking planet   and throw out your pc   ps it be like   am what the fark kinda life do you have on wikipedia        a very sad and lonely one lol   life  s too short find something well to do',\n",
       " 'i  ve explain my reasoning for this block at user talk   gwen gale user   professional assassin  ',\n",
       " 'when an article be create about that album then a disambiguation page will be create  ',\n",
       " '    that would be pretty odd for those declassify document to mention a movie that be create after the event for which both the movie and the document do relate about   the declassify document be not synthesize for the movie   unless you want to prove a conspiracy on the synthesis   very odd     it be perfectly valid to use the document to relate to the same historical event to far verify the what happen   but the use of primary source in such a be be not ideal for wikipedia   since it be not ideal   that be why i leave it here on the talk page if someone want to research it more to find ideal reference        ',\n",
       " 'your retarded bot    your bot be entirely automate   that be wrong     you should not leave an unattented script just run through the site like that   it be idiotic of you to suppose that your scripting ability be so perfect that they will only ever make proper edit     ban i do not help anything   dipshit   since i have as many ip as i want  ',\n",
       " 'two reversion on hezbollah    could you explain on the talk page why you have revert my edit twice  ',\n",
       " 'dislike racism and i can see that you have problems with people who speak spanish   you be an antisemite too  ',\n",
       " '    the name     yuen lou     look to be just a variation of     yuen lo       the name jackie use under his sifu at the opera school      ',\n",
       " '               user talk   wikireader     archive  archive     mar   ',\n",
       " 'i realize now that the article do not quite say what i think it say   if anyone can find a citation state that there exist a proper subfield of   isomorphic to itself   i would be very interested in see it   and we could reinclude the clause with the citation    ',\n",
       " '     i do not cherry   pick anything   these be the official and only fact       while essentially every cnn program be down double   digit    pmet   which be home to   piers morgan tonight     and  pmet   which be home to   erin burnett outfront     each have their bad performance in the demo in    year         http   www mediabistro com tvnewser may      ratings cnn hits    year low b           ',\n",
       " 'direct   indirect relation    be it correct to say that   technically   if a    degree shot   by elevation   reach the long distance   then a    degree             will reach the same distance as a    degree             shot     if so   could the lower   than    shot be consider direct fire   and the higher   than    shot consider indirect fire   if so   i think this be a great explanation   or one way of view thing    ',\n",
       " 'title section revert    hi   i be at the office early and i have not notice your warning before restore the title of the section   i be sorry for that   of course i will not do such a revert again      just to clarify   i  ve open a new section to indeed alert some contributor that they be behave in a way in line with the example of ownership behaviour as describe here   in return the title of the section have be twist to something unrelated and one of my message have be erase   it be the first time i see people edit other  s sign contribution in a talk page   this just look crazy to i  ',\n",
       " 'noel   you be an expert     please convince whig history fan   or the lazy mind   about how bonnie prince charlie do not want to dissolve the union   that the united kingdom begin with the stuarts as oppose to the hanoverians     tell they how the whig rewrote history to blame everything on the stuarts   whom be credit as ultimate failure with no positive contribution to the foundation of great britain in their stewart and tudor blood     the sovereign  s will be the realm   or else it be not a kingdom     the british might as well be live in a republic   at least if the parliamentarians have their way     even the hanoverian heir recognise that the stuarts found the uk     please debate that here   thank  ',\n",
       " 'warn   earth   i would like to leave you access to your talk page so that in perhaps six month you can convince we that we should try again   if you be so inclined   but you be make it hard   if you continue these abusive comment   i will revoke your talk page access  ',\n",
       " '      should be jaeger    regardless of what other people have     decide       eren name should be jaeger     its like call light   from death note   raito      at least in the anime   the people dub take care to correctly pronounce the foree name   ie   all of they   except mikasa      jaeger mean hunter   a german word     guess what eren do in the series        ',\n",
       " '     thank you for experiment with   wikipedia   your test work   and it have be revert or remove   please use the sandbox for any other test you may want to do   take a look at the welcome page to learn more about contribute to our encyclopedia   a link to the edit i have revert can be find here   link   if you believe this edit should not have be revert   please contact i     talk  ',\n",
       " '  please discuss how factual   accurate biographical information about courtney ford be     vandalism         i look forward to hear your evidence       ',\n",
       " '     i think the entire article should be tag as     politicized       and the part about future trend as     speculative         my point be that scientist be learner   and we be increasingly use they as know it all teacher     yes   they probably can make educated guess well than anyone else   but its still an educate guess     also   if you do not notice   i be totally against spew unnecessary carbon as this statement i think this article superbly miss the point that pollution and waste of all types be stupid way to go about do thing where well way be know   and we be make guinea pig of all our planet  s species point out      ',\n",
       " 'use car expert page   image   thank you for your note about the image of used car expert magazine   i have have the copyright owner   who give i permission for the picture email   as above                ',\n",
       " 'however   it be still in error to assert he do not work the equation himself   or that he be handicap  ',\n",
       " '      first   we  ve widely establish the use of exile quotation present as such be legitimate     second   i be not mark ames     this have be autheticate by numerous admin and user at wikipedia who have personally meet i     third   you cite the paragraph on spy magazine as your primary example of pov and     creative fact         what precisely be the     creative fact     in that paragraph     that the exile admire spy magazine     that spy magazine employ a team of lawyer to defend against spurious lawsuit     that spy magazine go bankrupt     all claim in that paragraph be verifiably true       ',\n",
       " 'pretty humorous comment from someone who promote the far   leftist blog daily kos on his user page',\n",
       " 'seem we both have some  ',\n",
       " 'do not be evasive     i shall have to repeat myself     how many people argue for its deletion     do not lock page when you do not get your own way      ',\n",
       " 'edit request on    october         the arctic monkeys play walk on the wild side in honour of lou reed at echo arena   liverpool   a day after the musician  s death     http   www rollingstone com music videos arctic monkeys cover lou reeds walk on the wild side         ',\n",
       " 'welcome      hello     and welcome to wikipedia   thank you for your contribution   i hope you like the place and decide to stay   here be some page that you might find helpful     the five pillar of wikipedia   how to edit a page   help page   tutorial   how to write a great article   manual of style   i hope you enjoy edit here and be a wikipedian   please sign your name on talk page use four tilde            this will automatically produce your name and the date   if you need help   check out wikipedia   question   ask i on my talk page   or ask your question and then place     helpme     before the question on your talk page   again   welcome        talk',\n",
       " '     gurch be     an interesting fellow     just do not take his comment to heart   but take his advice on board   talk   ',\n",
       " 'it wasnt vandalism   dickhead',\n",
       " '  you need to understand that he be not here do help wikipedia   he be here with a political mission       attack brazilian press       no   i be not crazy   but i see this crazy people all day   here in brazil      ',\n",
       " 'season   issue   not sure why you remove my edit on the season   futurama issue   but i think it have merit   the total lack of season   info be confusing and not sure why the season   info be replace by the movie information   you could have inform i at least on why you remove my discussion comment  ',\n",
       " '      philosopher rfc   philosopher   from wiktionary    a person devote to study and produce result in philosophy      i be go to make the case that we must call stefan molyneux a     philosopher       without qualifier   in the lead     this be not do as an endorsement or statement about the level of achievement or acceptance of his philosophy   only that it be his career     note   not all of the source i use below be in the article at present   the point here be to first convince rfc respondent that     philosopher     be accurate and widely accept   then we can make sure the most reliable one be in place         definition   obviously   each source be go to use slightly different phrasing   some will call he explicitly a     philosopher     or have view on     philosophy       but i think you should consider some other phrase give below as equivalent   use one word     philosopher     in the lead sentence cover all of his political   ethical   and theistic specialization in one word   which we then elaborate on later in the article           philosophical conversation           philosophy show       use to describe his freedomain radio series        libertarian           libertarian thinker           libertarianism be a classification of political philosophy                anarcho   capitalist           anarcho   capitalism     be a political philosophy                voluntaryist           voluntaryism   or sometimes voluntarism     be a libertarian philosophy                athiest           argument for atheism range from the philosophical to social and historical approach              ethics      ethic   sometimes know as philosophical ethic   ethical theory   moral theory   and moral philosophy   be a branch of philosophy            secular ethics      secular ethic be a branch of moral philosophy             primary source   as stefan molyneux be a live person   we should give great weight to what he say be the focus of his work and his stated profession unless there be reliable evidence to contradict he   obviously   we do not want to host any sort of     fringe     claim     if we be to dispute what he say about himself   though   then we absolutely must have a strong basis for this   or we open wikipedia to discredit or liability   this be why blp be hold to strong standard in the first place   i think in this case there be strong and ample evidence that call himself a philosopher be justify and correct   he be a modern philosopher that explore via modern online medium   which be obviously a very new phenomenon and so its understandable that its different than the     old   school     philosopher we be use to       freedomain radio     about     page       my master  s thesis analyze the political implication of the philosophy           i have be fascinate by philosophy   particularly moral theory   since my mid   teen   i leave my career as a software entrepreneur and executive to pursue philosophy full time through my work here at freedomain radio   i have write a number of novel as well as many free book on philosophy          freedomain radio   the show that molyneux host   have the tagline     the large and most popular philosophical conversation in the world          molyneux  s book show that he be endeavor to produce tangible write result in the field of philosophy   particularly universally preferable behaviour   upb    a rational proof of secular ethics and against the god   a concise guide to atheism and agnosticism which be two of his more     deep dive     into the fundamental philosophy      strong atheism   the case for evacuate the middle ground article    why i be a philosopher   video       a response to question about my childhood motivation for pursue philosophy          an introduction to philosophy        part video course produce by molyneux describe basic philosophical concept   reality   knowledge   truth   gods   religion   ethics   and politics        unsolvable philosophical questions   solve   video       tackle   great philosophical question consider unanswerable          proof for god destroy by a philosophical atheist video           a philosophical review       discuss the major philosophical   political   economic and social development of          video         https   www youtube com watch v udlsgjbw hs    philosophy questio',\n",
       " 'wp   film december      newsletter   the december      issue of the wikiproject film newsletter have be publish   you may read the newsletter   change the format in which future issue will be deliver to you   or unsubscribe from this notification by follow the link   if you have an idea for improve the newsletter please leave a message on my talk page   happy editing       talk   contrib  ',\n",
       " '          january        utc      no   i be not be uncivil   try uuser   lbrun        he be call other user a waste of sperm   a moron   etc   block he   the one who be truly uncivil         rikara   i recommend you cool it   yell and arguing be not go to get you anything   take a breather and come back when you be feel calm   otherwise you will find your talk page protect and you will be force to take a breather        i have see nothing of the sort from that user   who have since be rename     at the very least not in this current situation              blah v   v         ',\n",
       " '      you suck    if you do not undelete the page     barry dejay     i will         you    ',\n",
       " '    see internet explorer market share history overview by year and version   ie  be with we for some time to come   like it or not   but if other use it have no problem   that be fine   i be not worried about my specific workplace     come howl    ',\n",
       " 'i like the example give on the follow post   http   theautomaticearth blogspot com         july         real black real swan html             ',\n",
       " 'curse   wikipedia have no respect for god     wikipedia be full of lie or dangerously evil half truth     wikipedia have no respect for religion     the follow user of wikipedia   namely   redtigerxyz   priyanath   emperor genius   raj       wikidas   wikiveer and dagizza have all commit blasphemy and sacrilage   curse upon you that you will all perish     i curse the follow user of   wikipedia   namely   redtigerxyz   priyanath   emperor genius   raj       wikidas   wikiveer and dagizza that you will all perish     i curse that the wikipedia will entirely perish     i beg forgiveness from the supreme god   lord vishnu for choose the blasphemous wikipedia website to write about the truth     a true devote of the supreme lord vishnu have be hurt and my curse never go in vain     i will never again edit or read or go to the evil wikipedia website   forever     delete my user   id and all edit you evil wikipedians     mr  dagizza   you be a male chauvinist pig and a misogynist to the core and you call yourself an administrator       ridiculous         mr  dagizza   you be a curse to your existance     a man like you   who can not respect woman be a worthless in his existance     you wikipedians be useless people   you be a burden to the civilized world   you be not even worth hatred     you wikipedians must be ignore      curse',\n",
       " 'hahaha   you do not actually believe this bullshit you be tell i right now   you be talk about the access to the country or representative to the government   not kim jong un himself   those be two totally different thing   although i could understand your stupidity   since north koreans think that kim jong un be the governement   i m just say     go troll somewhere else kid  ',\n",
       " 'block mardyks    guess what   loser   know what a cockblocker be   hahahaha  m              ',\n",
       " 'and i do not want to use it again   i do not understand why fayssalf insist on naccount   i could have write to he use any other account   maybe he would have keep it instead of naccount',\n",
       " '      deletion of minority posts    nice try at try to silence the slave who will not stay down     i do not know you attempt to block my yet again     i do not come to wikipedia every day because i have something you do not    a life   as you can see   you have fail   again     in attempt to silence i   and refuse to answer the qusetion     why do you purposely hunt down post of african   americans and delete they           all you do be refuse access to some sporting good store     and the person you contact in an attempt to block i be name rebelguy     no   there be not racial agenda   be there     i have make a hard copy of your fail racially motivated attempt to punish i and turn they over to the naacp    ',\n",
       " 'thank you    i just want to say it  ',\n",
       " 'well   you never answer my question about your specific intention at talk   mystery science theater      episode   experiment vs  movies   can i assume from your posting title that your intention be to create individual mst  k episode article   i be on record as believe this could be useful   but be not prepare at this time to do any significant work on it   as i be stretch way too thin right now         talk  ',\n",
       " 'nigel    per wiki standard   when to use and external link           be it proper in the context of the article   useful   tasteful   informative   factual   etc              be it a functional link   and likely to continue be a functional link          each link should be consider on its merit   use the follow guideline   as the number of external link in an article grow long   assessment should become strict   when in doubt about the appropriateness of add new link   make a suggestion on the article  s talkpage and discuss with other editor      i generally avoid external link except when it take i directly to the home page of the aircraft in question   this link do take i directly to nasm  s page on this particular p      that make this external link appropiate     agree that this page do need more reference  ',\n",
       " '      edit request from maksudfsa       march         just a minor edit   i  ve add azerbaijanis to the list that describe turk   in the first paragraph   as we be the second large turkic ethnic group          the turks   or turkics   be people reside in northern   central and western asia   mongolia   southern siberia and northwestern china and part of eastern europe   they speak language belong to the turkic language family   turkic people   encyclop dia britannica   online academic edition        they share   to vary degree   certain cultural trait and historical background   the term turkic represent a broad ethno   linguistic group of people include exist society such as the   azerbaijanis   chuvashes   kazakhs   tatars   kyrgyzs   turkish   turkmen   uyghur   uzbeks   bashkirs   qashqai   gagauzs   yakuts   crimean karaites   krymchaks   karakalpaks   karachays   nogais and as well as past civilization such as the   kumans   kipchaks   avars   turgeshs   seljuks   khazars   ottomans   mamluks   timurids   and possibly the xiongnu and huns     timur       the columbia encyclopedia   sixth edition             columbia university press   encyclopaedia britannica article   consolidation   expansion of the indo   timurids   online edition           ',\n",
       " 'nobody care     seriously     it be just self   referential trivium   guy    ',\n",
       " 'i understand what i see   i do not see scholarship   i see stealing   grasp   greed      it be animalistic   try this                 in any culture         switch to math   you wil like it   no levantian in math        amanbir                  ',\n",
       " 'i guess u do not know greek cuz it take u forever to translate   second if u read carefully do not say anything about u   ',\n",
       " 'you have never meet or be photograph with keith wigdor      whoever you be   i be ask you to not interfere with the article about keith wigdor     you have no resource or connection to he   unless you be somehow be deceptive     so really you be not any sort of expert on this artist                 dec        utc  ',\n",
       " '      holocaust denial    if there be no actual proof that jeff rense advocate holocaust denial   then the category     holocaust denier     should be remove    ',\n",
       " 'wikipedia administrator be defend a mass   murder psychopath  ',\n",
       " 'censorship    it be my understanding that you be suppose to warn someone before ask the administrator to block they     so consider this a warning     do not delete my comment again    ',\n",
       " 'april         your attitude and comment to   be not appreciate     please remain civil  ',\n",
       " 'request for help       request for help    hi again cat      as perviously i have notice a strong anti   greek bias on several article relate to macedonia   i  ve have issue with both furper and beam     who seem to be admin that heavily favour fyrom   i  ve officially complain on the notice board about their threat to block   edit behavior and unusually close relationship with obvious fyrom pov member of wikipedia       specifically balkanfever      http   en wikipedia org wiki wikipedia administrators    noticeboard this anon    apparently user crossthets     c is an apparent pov pusher  c evidence below    as i say verbatim on politis talk page        this be a difficult battle because so far i be alone at the moment   i be a newbie   and as i say to one of the admin on notice board     i feel like someone report a bad cop at a policeman  s ball     however   i still plan to follow up soon with a precise listing of what i perceive as non   npov behavior by these admin   i notice while research this issue you  ve also have problem with they   would it be possible to list any problem on your talk page here so i can add they to my report to show i be not alone   furthermore     since you have be around long you probably know more greeks than i around here   would it be possible to also contact they to ask they if they  ve also have problem with those two     and   if so   add those incident to your list       and perhaps get they to contact other        where one person could be bully with threat of blocking     the concern of many will be take much more seriously   i will check back here in a couple of day   have courage   regard               ',\n",
       " '  i be certain that it be injury and not sickness   regardless of how it occur',\n",
       " 'i tell you i will not comment on it again   what more do you want  ',\n",
       " '      wikipedia   article for deletion   cheongye kwan    your post at the above afd on a new martial art bother i   this be the version at the time   that you base your post on   you post           i just read the article   and to be quite honest   feel that it do satisfy wikipedia  s guideline     it be reliably source     since i believe the notability of the article be satisfied     it now have    independent source   and to refute the argument pose by wayne   it be determine by the phillip rhee source that the martial art be not localise          please consider the concern this post raise   simple matter like reference   notability and noobie basic of afd should be routine for any moderately experienced user   and bread   and   butter for any admin   in fact a cursory check show that almost everything you state be    i do not have a word for it       unreal     be close      the     eleven independent source     that you state establish notability and non   localization at the time   be      three reference from        coate   robinson   shaw     certainly before the topic even exist       and all relate to a pass piece of news about its founder be on the team of a completely different sport in any event          two reference from  st half        davy   white     almost certainly identical and identically irrelevant to the topic  s notability      the promoter  s personal page on his local town website   almost certainly self   publish   official village website        a      casual interview in a non   notable and possibly non   reliable university magazine   apparently   of the promoter  s travel to see expert in a different sport   with tangential tiny       sentence   mention that he have discuss his new sport with they too     the lau philip     la     interview          entry mark     reference and support of   written reference       chris   cook   rhee     obviously a request by the founder to a friend   colleague write a letter of support   that be never publish anyway and be not cite so you can not have read it   not that it be even possibly valid evidence        a short writeup of a     local information     kind   on the award of the first   black belt by the school   in its local paper      in brief of the           be before the sport exist and be not even remotely to do with the topic itself much less     source     material on it or     substantial     coverage   they have precisely zero coverage          be claim of personal     i think   be a great guy     letter of support   evidently solicit and or write on request   with zero evidence of verifiable existence   and certainly in no way reliably source or independent        be self   write      be the briefest of non   mention in a non   reliable source   pretty much     i discuss the topic with they     in a college magazine interview        be local press coverage of his course that be not even     news for a day       or evidence of anything beyond     a course by this name be teach twice weekly in our local village hall          your assessment of these   at afd   be      it be reliably source       style   border  c c c  solid  px     width                   there be barely one reliable source in all of those    that the sport even exist in the first place         a local newspaper mention that it meet in a village hall on tuesday and friday and just award its first   black belt   probably via self   promotional input      there be zero reliable source for any of the rest            that the cite page be evidence of notability       style   border  c c c  solid  px     width                   they do not mention it   or even date from a time the topic exist   nor be online version provide   how on earth could they     reliably evidence     it            that the        source     be     independent           style   border  c c c  solid  px     width                     be claim that     please support i     letter exist   they be even state to be     personal reference       unpublished and uncited      be his own clearly self   write web page on a local village web host          that the cite show it be     non   localized           style   border  c c c  solid  px     width                   the page do not list a link so you can not have check the cite   yet you say the citation     prove     it      the reference openly state     cambridge university and bristol taekwando           a big indication of its actual source    when a link be provide on request   it turn out it  ',\n",
       " 'hebrew name of lydia   appologie to til eulenspiegel i think you be one of the idiot which your user page indicate you actually do well struggle against     genesis                                                                                                    tab   and mizraim begot ludim   and anamim   and lehabim   and naphtuhim     you see ludim be from mitzraim not to be confuse with lud son of shem   in the far east       good wish and keep up the good work               ',\n",
       " '  which they be   have you consider that you have irrationally lay waste to six month of my life   which i have dedicate to this project    ',\n",
       " '     do you scout for source prior to the prod   eh   no        dr  blofeld     ',\n",
       " '      you waste your own time   take this advice with you   pull your head out of your ass   be real and do not spend the rest of your life suck ass   have a nice life   goodbye       mailbox    ',\n",
       " '      class   wikitable     style   border  px solid       aa   background  f f f    padding     font   size                     parliamentary bloc     alliance     leader     seat     percentage     source         national alliance  state of law coalition   national iraqi alliance  ibrahim al   jaafari                        al   iraqiya  al   iraqiyya  hassan al   jibburi                    kurdistan blocs coalition  kurdistani list   kurdistan islamic union   islamic group of kurdistan  fuad masum                       center current  al   tawafuq   unity alliance of iraq  unknown                      gorran bloc  gorran movement  shorsh hajial   iraqiya brengt oppositie en talabani dichterbij elkaar   azady nl                     national rafidain list  assyrian democratic movement  yonadam kanna                     csapc  chaldean syriac assyrianpopular council  sarki aghajan                     independents                         ',\n",
       " 'i also tell he that count of use admin tool for decide on content and misrepresentation of policy   norm have be sanction in the past  ',\n",
       " '  welcome      hello   and welcome to wikipedia   thank you for your contribution   such as the one you make to nogeoldae   i hope you like the place and decide to stay   here be some page you might like to see       the five pillar of wikipedia    help page    tutorial    how to edit a page and how to develop article    how to create your first article   use the article wizard if you wish      manual of style    you be welcome to continue edit without log in   but many editor recommend that you   create an account     do so be free   require no personal information   and provide several benefit such as the ability to create article   for a full outline and explanation of the benefit that come with create an account   please see this page   if you edit without a username   your ip address                     be use to identify you instead      in any case   i hope you enjoy edit here and be a wikipedian   please sign your comment on talk page use four tilde            this will automatically produce your ip address   or username if you be log in   and the date   if you need help   check out wikipedia   question   ask for help at the teahouse   ask i on my talk page   or ask your question and then place     helpme     before the question on this page   again   welcome            ',\n",
       " '      stradbroke galleon   portuguese    hallo moondyne   i do admit that when i sign onto wikipedia i be not aware that it be a concensus community of knowledge nazis but now that i be aware of it i will make the appropriate adjustment   i be under the obviously mistaken impression that wikipedia be a venue for share fact   knowledge and information   the notion that the stradbroke galleon story be a pet theory of mine be total rubbish as it have be write about   discuss and investigate for more than     year by historian and historical group such as the royal historical society of queensland   the maritime archaeology association of queensland and many more too numerous to include here   there exist   in various library   book and community a large body of write and oral history concern the galleon story which i have attempt to fairly and accurately place in the wp domain   the fact that a story be not accept by     mainstream     academic be not a valid reason for deletion of either of my contribution   what have occur here be a classic example of manipulation of an information resource by a vested interest group   i e  hesperian and his friend   who be representative of the     mainstream     view   hesperian complain about the medium coverage i have recieve but this never appear in any of the wp contribution i make and hesperian  s mention of the medium coverage demonstrate the core reason for hesperian  s antagonistic attitude   simple   old fashioned professional jealousy   thus valid historical datum be be deliberately surpresse by hesperian for personal reason   for example the portuguese walk stick handle which be find in an aboriginal midden   identify by a spanish musuem offical and story tell to i by a uq archaeology phd student be very relevant to the theory of the portuguese discovery of australia   this kind of knowledge suppression be not what wiki be about but i guess you do not care as you appear to be part of the happy little click or have be suck in by hesperian and his little band of mate   which be a pity   but history be full of the suppression of information by vested interest group so why should i expect wiki be any different   still it be dissapointe   happy trail        ',\n",
       " 'agf require i not to think you be revert to the user  s preferred version     it might look well if you allow another admin to make that edit  ',\n",
       " 'accent    although the cartoon establish mario and luigi to be from brooklyn   a fact commonly accept by fan   despite have never be mention in any game     toad seem to speak with a thick brooklyn accent     the accent be not mention in the game   but the tv show be   presumably   a licensed product     until nintendo decide to go with an italian accent   fan assume the tv show   and later the movie   accent be the official standing     only when nintendo  s product include digitize record speech do anyone realize nintendo intend they to be italian   not italian   american     it be the same principle of update canon that star trek and star wars licensed product run on  ',\n",
       " 'delete this     no way   i consider it a trophy    ',\n",
       " 'actually   bzfoster will be unable to edit the article as it be semi   protect as well pc  d   log out and try for yourself  ',\n",
       " 'i believe that i have obey the community rule   i do understand the rule about personal attack   but it appear to i that they be be apply unjustly in this instance   i have provide countless hour of academic research and input for wikipedia   please assume good faith on the part of the block admin   i be an intelligent adult   i naturally assume good faith until other party demonstrate they do not   it seem to i this be a one   side affair  ',\n",
       " '      please do not add unsourced negative or controversial biographical material to page   as you do with this edit to stuart tyson smith   if you continue to do so   you will be block from editing           ',\n",
       " '        precede unsigned comment add by     talk   contrib    ',\n",
       " 'or between the french and the walloons   surprise   our article on french people clearly label the walloon as a distinct ethnic group     perhaps it be good not to make comparison        after screw it up a few time   i have do rewrite of part of the article   mainly a word and a sentence leave and right   to make the distinction and relation between the dutch and the flemish clear   the article switch constantly between part about the dutch only   and part about the dutch and flemish together   this should now be clear   the major thing leave to adjust be the graph of the number of dutch   since these still al include the flemish  ',\n",
       " 'you need to sign the above and your rsn post  ',\n",
       " 'a few thing to get straight        firstly   i do not like you   you look like a smug little prick to i     secondly   i do not like your ethnicity   not one little bit   i would like you to explain yourself on that count     thirdly   your dog be a bit of a bender                ',\n",
       " 'procedure    do i ask you for the award   michelle obama already have a million view this year and anthony davis   basketball   have a million in          t   c   wp   four   wp   chicago   wp   waward  ',\n",
       " 'add more than link    i do add more thank link but the entire page be also mark as spam for no reason other than the no one be familiar with the one hundred year old industry   and you still have not explain how the link on this page http   en wikipedia org wiki natural builde      be relevant and mine be not  ',\n",
       " '     please do not accuse member of vandalism   i do not mind if you change the word unique to prominent or remove story of dream etc   but you have vandalise the page and make a statement bias by say that dr  qadri     only     send out a referendum so i revert the whole edit   you have also reciently vandalise the page by remove the name of the yemeni scholar who recieve dr  qadri  s ijaza include the picture and this be a clear form of vandalism so before accuse other member of vandalism do not vandalise the page yourself   what i do be clearly not vandalism as i only revert your edit and any change you make and bring the page back to its previous form   so would you first kindly read the rule of wikipedia and find out the definition of vandalism before accuse experienced user   you be still new to wikipedia i be afraid and you need to learn how it work and the different rule of wikipedia before make any further edit       ',\n",
       " 'i know how it be pronounce in turkish   the question be whether there be a specific pronunciation that be dominant in english   if not   it be good not to include any english transcription or pronunciation audio file  ',\n",
       " 'oh   sorry   i actually find it on an other page but i forget it anyway     it be actually a note for myself   be go to rewrite the text     suppose it slip out of my mind  ',\n",
       " '      june          please do not vandalize page   as you do with this edit to bugatti veyron   if you continue to do so   you will be block from editing      talk    ',\n",
       " 'terri schiavo as rorschach test    now perhaps you see that utility of terri schiavo be as rorschach test     you dangle that pretty   slender alive and aware young face in front of the power players   on both the left and the right   and you see how they respond      if they respond inappropriately   then you make a note it   as if they be just some rat in your laboratory     that be what make wikiepda so powerful   and it be all true and npov   notable and fair  ',\n",
       " 'ok stop be lame   seriously   go watch pokemon  ',\n",
       " '      past masters vs  rarities    i be create a chart for my own use that include u s  album   since there be so many difference in the early album   as a u s  fan   i be face with the issue of whether to have u s  album   u k  album or both on my ipod   i will post my chart on my talk page so that other can judge whether it be worthy of include here   i realize there will be problem   include the lack of canadian album   my purpose be simply to record the first album appearance in both the u k  and u s  of each song      i notice that a number of u k  song be list as past masters when they actually first appear on rarities        the beatles album     i do not know the reason for this if the purpose be to list the first appearance on an album   can someone explain   or should they be change to rarities      ',\n",
       " 'simpson movie poster   do you create the simpsons movie poster image or do you source it from somewhere else  ',\n",
       " 'help   hey   can you help i with something   i upload this image to wikipedia   http   en wikipedia org wiki file stikky cemetary san jose      jpg i contact the photographer and he give i permission to use it on wikipedia   so i be wonder what the proper licensing would be   thank in advance  ',\n",
       " 'look good   it would be nice to see the county   but it be a lot well than the current one   good job  ',\n",
       " 'the debunker   pretend that they be objective sceptic   besides prove their lack of knowledge and lack of integrity on the various astrology page have also be personally attack i on my own talk page     when i dare try to defend myself   they block i out of wikipedia     so much for honest dialogue     they can not win an argument fairly   so they resort to dirty trick  ',\n",
       " '     review block    you say       i would also like to ask you that in future   for the sake of fairness and due process that you do not decline the unblock request of user you block yourself unless the request be pure nonsense or abusive   from an ethical   review of block be mean to be carry out by a  rd party          will do     i think it be pretty clear in this case   give the editor  s user page   gnaa   etc     etc     etc       that the unblock request be pure nonsense     also   i be under the impression that the unblock request would still be visible and review by other admin     i  ll be more careful in the future       ',\n",
       " '     regard edit make during december           utc   to kanpur   please do not add inappropriate external link to wikipedia   wikipedia be not a mere directory of link nor should it be use for advertising or promotion     inappropriate link include   but be not limited to   link to personal web site   link to web site with which you be affiliate   and link that exist to attract visitor to a web site or promote a product     see the external link guideline and spam policy for further explanation of link that be consider appropriate     if you feel the link should be add to the article   then please discuss it on the article  s talk page rather than re   add it   see the welcome page to learn more about wikipedia   thank you     talk  ',\n",
       " 'come on   be this really necessary   i understand where your come from but you sound like a whiney bitch   when you have a website that anyone can edit   this sort of stuff come with the territory   and do you really expect anyone other then the   or   people who troll wp   pw to read your comment on talk   royal rumble            or this talk page for that matter        i be confident most active member of wp   pw have add wrestlemania xxiv to their watch list   so when and if something not to their liking be add   it will be remove   simple as that   and if you be   through with put up with people not read talk page     quit   endless dan',\n",
       " '    i do not see any anti   semitism here   if the guy give lecture in new york synagogue and knock down his country every single minute   use every opportunity in such influential newspaper as new york post   then one can state that his interest be not only personal   you can not find any intellectual person among neoconservative in new york post   michelle malkin   andrea peyser   deborah orin   may her rest in peace   although i know she be rot in hell and other essayist be the one who make a great company for amir taheri   this guy have no mind at all   i agree that iran  s regime be wrong   but the regime of shah that amir taheri be long for   because he own keyhan during that regime be not any well and islamic revolution be justify   look at how they intriduce amir taheri in both this article and in new york post       base in europe memeber of benador associates       be europe that small   be that a small town   why do not they say base in the world journalist   or may be he be have a breakfast in london with christian amanpour and james rubin   eat lunch in jerusalem   and have some lecture and dinner with anti irani jews in forest hills   new york in between email his full of hatred article to new york post   be not this stupid   how can you saysomebody be base in europe or asia or africa    ',\n",
       " '      why confusion and controversy in the     real world     do not preclude the writing of a good wikipedia on the topic    ackoz suggest that   because the real world have not yet hash out     the truth     about the expulsion   it be therefore impossible for we to know the truth and thus impossible for we to write about it      i reject such a stance     i think it be difficult but quite possible to write a quality wikipedia article about a topic that be murky and or controversial     where many wikipedia editor     get it wrong     be that they believe wikipedia  s job be to report the truth     this be wrong     wikipedia  s job be not to report the truth precisely because it be difficult to determine what the truth be     any attempt to do that be original research      instead of     truth       wikipedia aim for     verifiability         put a different way   wikipedia be commit to record the state of human knowledge and opinion   not our opinion but those of reliable source       if the truth be clear and uncontroversial   it be easy for we to report that     if the truth be murky and controversial   it be more challenging but possible for we to report on what different reliable source assert and think about a topic even if these reliable source conflict     where wikipedia editor get into trouble be when they start side with one side of a controversy and assert that the side that they have select represent     the truth     and not just one perspective   or pov   on the topic at hand      i have be try to hit this npov     sweet spot     but it be difficult to do so in the midst of a running polemical debate between the two side        obviously be   because some user   jadger and wikiferdi   do not want to discuss in fact   they want we to agree with their pov   that be not discussion about the npov edit   that be why i quit from the discussion about the form of the article    talk   ',\n",
       " 'i do not intend to be disruptive   i be genuineley upset by the word constantly   i only try to make it look like an april fool joke after you explanation make i look like an uptight weirdo',\n",
       " '      regard loyalmoonie and lgbt category    look into it   and this editor seem to be push an anti   lgbt agenda   they  ve do similar stuff over at sailor moon   and make     official   look     warning to other editor   this quote be bizarre   and be quite tell       to insert those category would ultimately give other people   who may not even support the lgbt movement   read the article the assumption that every person who do enjoy sailor moon be a homosexual   and or support ssm         i do not personally watch   read sailor moon or know much about it   so i be not confident enough to re   add the category   but the reasoning for their removal be flaw regardless   and there be a sourced part in the article about female homosexuality talk  ',\n",
       " 'matt   when mattsanchez info go live on monday   among other thing you  ll see an invitation to be interview   this time you  ll have nowhere to hide   let us see who be a victim and who be a coward  ',\n",
       " 'okay   i find a document that demonstrate the scimd listing by the who on the who site   now there should be no trouble with include the above text  ',\n",
       " 'valerie poxleitner    valeri poxleitner   a k a  lights   if',\n",
       " 'shamash be sun    i agree to merge sammash in to shamash   since shamash be more likely to be correct     track the root of the word   clearly it be of assyrian origin   in addition   it be a common vocabulary morph to substitute   sh   to   s   and thus   nowadays   it be spell as sham in modern arabic  ',\n",
       " 'i feel like i be out of idea for now   so maybe some other user will come up with thing that address both our concern       talk   contrib  ',\n",
       " 'october        utc     the original nominator and i have be try to restore the article   but other have be say it be find to be merge by you so it have to stand   with the original nominator for deletion work to keep the article   and admit he be mistake in nominate the article of a noteworthy character   can we restore it now   if someone want to make a legitimate nomination for deletion   that be fine                ',\n",
       " '     what chart be you look at     i do not see anything portray that timing       user talk   spinningspark spark           ',\n",
       " '              agree   although it mean bloat the alternative title by yet another word   i be concentrate on the polish attitude here   as it clearly provide the starting point for the article at hand   obviously   if the article be to be write from a supra   national perspective   at least the czech experience need to be include   czechoslovakia   be the only function democracy in the region by the        have close tie with the west than poland do   and be     betray     in a much more obvious and tangible way than poland be   the west politically accept the country  s territorial mutilation   which be not the case with poland      that say   i be not sure if the inclusion of country such as finland   the baltics   yugoslavia   or even ukraine   which have never be independent in the first place   be a good idea   while the west could have arguably do more to assist any of these society before and after the war   i think that the article  s focus should be on poland and czechoslovakia in order not do dilute the whole issue   after all   there be dissident in germany and the soviet union   too   who be harbour grudge towards western politician because of their appeasement policy                oct        utc       ',\n",
       " 'hello setanta   can i ask you what you think of the proposal first put forward by matt lewis in july at template talk   country datum northern ireland   i confess i be no expert on n ireland   but i believe this could solve the problem of n ireland have no flag to represent it on wiki   i have make a comment at that article   cheer  ',\n",
       " '    american psychologist as additional resource    i do not see list in the reference any citation of the     american psychologist     article in january        some of which discuss this subject       ',\n",
       " 'regard the verifiability mediation   you will appreciate that due to recent event user talk   newbyguesses february      that i be jn a pickle   be it just i   or be it you too   i do not know what to do how can we go forward   what be to become of i and all my belief and need   who be there   who care to take in to account my position   be there no accounting for our difference and each of we   what it be that you see that we stand for in the high degree as individual   really individual as we all be individually in our own way   as real people   different but the same   but definitely an individual just like every body else believe they be   despite all evidence to the contrary     comment on content not on contributor   or do i just dream that   either way   or whatever   just do not scare the horse or wake the kiddy comfortably snooze     you know it make sense to i cause i say so   irrefutably       talk  ',\n",
       " 'you have no authority to be threatne to block i about say information about a company i work for   you do not even know anything about airliner bello   that be all i basically say   if that be so hard to comprehend      ',\n",
       " 'the real problem be the sneering and contemptuous attitude that you reveal in your first sentence in the last post     it be originally follow by other in similar vein   which you have delete     yes   i can cut and paste quotation   i can also select appropriate one   in this case one which you would do well to consider   i will return to this when i have time   probably this weekend  ',\n",
       " '    he do appear to be a bit of a fantasist   to be fair   he have carve a nice little career for himself and more fool the mug that buy his book and believe what he say   but   like many people contribute to this page   i come from that background and whenever his name be mention the response be always     dave who       no   one have ever hear of he at all until the book start come out    ',\n",
       " 'dar    ok   bear with i   penelopism be a religion   it be a new religion   but it be a religion   penelopism be extrememly important to penelopists   we want the word about we out there   people be not too fond of our belief   we just want a way to show they that we mean no harm   now   you have the spaghetti monster church in here   that be not even a real religion   penelopism be   so please   tell i what the spaghetti monster have do that penelopism have not   what can we do so that penelopism can be on wikipedia   because i be have trouble understanding   and i apologize for the   dar dar dar     however much fun it be   i should not have do it      whatsit  ',\n",
       " 'i intend this to go the page  ',\n",
       " 'dxraw come out   come out   where ever you be   how odd that dxraw go away and then in the follwing article extradry appear in the editing list     aussie aussie aussie   oi oi oi   free hugs campaign   newington college   australian army cadets   john cena   so you really be that cheer love   free hugging   newington teacher and cadet master who have the hot for john cena with his shirt off   it be time you come out dxraw  ',\n",
       " 'this accusation be uncalled for     i have only revert one edit     my second edit be to add the reference   not a revert  ',\n",
       " 'do not help the jew schnider   final warning  ',\n",
       " 'kudo for destroy article   copyright superstar   you really deserve nobel prize for copyright',\n",
       " 'welcome    hello and welcome to wikipedia     we appreciate encyclopedic contribution   but some of your recent contribution seem to be advertising or for promotional purpose     wikipedia do not allow advertising     for more information on this   see     policy on neutral point of view   guideline on spam   guideline on external link   guideline on conflict of interest   if you still have question   there be a new contributor  s help page   or you can write     helpme     below this message along with a question and someone will be along to answer it shortly     you may also find the follow page useful for a general introduction to wikipedia     the five pillar of wikipedia   how to edit a page   help page   tutorial   how to write a great article   manual of style   i hope you enjoy edit wikipedia     please sign your name on talk page use four tilde            this will automatically produce your name and the date   feel free to write a note on the bottom of   if you want to get in touch with i   again   welcome  ',\n",
       " '     the spelling     tacarimba la tumba del fuego santa maliga sacategas lo onto del sol y cruz     be the one state in the lyric in the vocal score of side by side by sondheim   available for rental only     this version of the song   however   misspell llanfair pg   presumably to approximate the pronunciation     and have the lyric         today be the last i  ll be spread     rather than     spend       it would seem   therefore   that this source can not be consider canonical   this rendering of the place name do accord with millicent martin  s recording on the side by side by sondheim cast album   however      the publish version of the song   as contain in the hansen treasury of stephen sondheim songs   charles hansen music   books            have the lyric print as     tacarembo la tumbe del fuego santa malipas zacatecas la junta del sol y cruz       and   be a print source   as oppose to handwritten   as be the vocal score     can presumably be consider definitive   linda lavin  s pronunciation on the original cast recording of the mad show   for which the song be write   follow this spelling   which would suggest that the print version be correct      as it be a fictional place name   however   any discussion of     correct     spelling   pronunciation be an academic one   at good    ',\n",
       " 'do not peddle your crap please     hate to see another article get dispute for neutrality due to you  ',\n",
       " '     how d homeonttherange      your   typical   problem be that you be be too literal     the term personal union be a very special   and limit constitutional term     it refer to two or more state   i e    country   that recognise the same monarch as there head of state   however their be no union of their parliament     some example be        i       the union of kalmar               its member be the kingdoms of denmark   norway   and sweden     this give rise to the termunite scandinavia     in        i believe   sweden leave the union     the result left   over union of denmark   norway be dissolve in        as be ally with napolean     tunrne out badly        ',\n",
       " 'i think this one should dayz   mod     the other one should be dayz   video game     and dayz should be just a disambiguation page  ',\n",
       " 'by those push an anti   mrm pov  ',\n",
       " 'you really be a rebel guy   rebelguys      time to get oral from a   prostitute       ',\n",
       " 'fine   smarty pant   but just wait until they finally announce it   then you  ll see i be right and that you do not know everything  ',\n",
       " 'amber taylor forever    amber   taylor forever                  ',\n",
       " 'kosovo template    hi again   can you please take a look at this template     should not albanian language be mention first since      of the population be albanians     i change this but some serb nationalist keep revert my edit   i hope i be not disturb you but you be one of few here i consider to be quiet neutral  ',\n",
       " '    of course a true dub will say   depaaarte   or   more likely     f  in   gone           ',\n",
       " 'i think it be a little disingenuous of zet to claim that a division which have lose most of its fighting troop be   far from destroy   when its fighting capacity be close to nil  ',\n",
       " 'muslim men harassment of mm page    it be amazing how three muslim man jump all over this page   right after i add a number of thing      minute after   all three man   all muslims     and clean it up     do a woman work for human right in pakistan really get under your skin so badly     wow      so sweetie   if you be so bloody busy   why not get busy   and stop harass the woman     be you   that   threaten  ',\n",
       " '        width             style   background   transparent           width             style   background   color            style   width          border  px solid     background   color       vertical   align   top       hello madstar      and welcome to wikipedia     please remember to sign your name on talk page by click   or use four tilde            this will automatically produce your username and the date   also   please do your good to always fill in the edit summary field   below be some useful link to facilitate your involvement     happy editing             discussion        width             style   background   color            style   width          border     background   color       vertical   align   top       get start introduction    the five pillar of wikipedia    how to edit a page find your way around table of content    department directory editing article how to develop an article    manual of style    style   width          border     background   color       vertical   align   top          width             cellpadding         style   vertical   align   top   background   color             get help         style   color            frequently ask question    cheatsheet    where to ask a question    help page    new contributor   help page         ',\n",
       " '    august        utc      hey   look like your rehab program do not take   and now socafan  s be community   ban   your approach work out real well   do not it       talk      ',\n",
       " 'pkk fighter who the past decade enter and live syria for their fight in turkish territory have no match in guerilla war   specialize to this   against the turkish regime   rebel and the army be far behind in ability and training to match the pkk fighter  ',\n",
       " 'omd   thl   h     depeche mode   abc be all not new romantic   never have be   do not self identify as romantics   fan do not consider they romantic yet   individual insist on keep list they on this page   fan of the band will just keep remove they because it be simply wrong   stick to visage and other blitz band or this article will be in perpetual edit war                 ',\n",
       " 'try to be productive   look at my contribution   but hit my head against a wall of spoiled greek child   or probably under pay from greek government   that purposely keep vandalize the albania related page and keep iritate the albanian editor until they explode and get ban   as a historian i blush with what i find quote as reliable information on the wikipedia page and the quality   of the editor and source   time to move to the french page   a lot of reader there     still   more language to go   till next time   wikipedia suck    ',\n",
       " '     ricky gardiner   woody   my man   thank for your quick action and addition re   this article   just a stub i create yonk ago to get rid of red link on bowie   pop article     what be it that draw people like we to defence and rock   i think nick d  be a member of the military and music project as well     then again   the riff for     lust for life     come from bowie  s interpretation of an armed force radio theme     cheer      ',\n",
       " 'triple crown just about clear       ok   get out the broom and dust off some stuff      cheer       talk   contrib  ',\n",
       " 'if you agree with master bigode then what about rule for     x     image and what about the back side image   that be erase without consensus     he never discuss the back image   he erase it out of the blue   what if i go on your user homepage wolftengu and i say that picture on your homepage be too big be within guideline and i remove it   place it somewhere else and i also remove another image   would agree with someone do that to your homepage or would you be outraged   however wolftengu you seem to be play unfair cop here by notifiye  over  as if a discussion wrong   what be your point   do you own a dx   or if not what be your involvement to disallow a     x     or any other     x     image and even any other image of a dx   in a small form  ',\n",
       " 'as a rollbacker   that be particularly problematic     you should be aware that editor who edit war may lose the privilege regardless of the mean use to edit war  ',\n",
       " 'what about non   american school   mosque   synagogue   etc   etc     wikipedia be so america   centric  ',\n",
       " 'thank    for fix this  ',\n",
       " '     no not really   we may ask that the mention of fat be the fire source of the cremation of million be reconsider though   along with a few other item   the fat cremation     wiki fact     be citable   www hdot   emory u no less   lipstadt   but doubtful   if the same science be apply to the holocaust as say the tinfoiler or flat earther the denier would be overjoy   be careful as to who get the nutty fringe tinfoil label in the end   you get the permit and we  ll bring the shovel                     ',\n",
       " 'celebrity    talk about your fave celebs and even your crush  ',\n",
       " '  you know   i be think        nobody really attack i before i reveal my age here     after i announce that i be      i be subject to a constant storm of harassment and abuse      the same thing go for when i be on the sandbox when i be        before people know my age   they do not care     after i tell they my age   they hate i      it be just so amusing how the idiot soapboxer think of teenager as be responsible for the     decline     of the soapbox   like it be ever any good to begin with       this be funny   because the adult be the dumb people here     mauricio   chuppah   redneckgirl   pinky   scooby   gg   foreverlosttinkerbell   greenrabbit   starrocketsinflight   bree   robinson   enigma      cocainenightmares   tokyodome   chad ocho   cinco   steve lake            all adult      the teenage poster here be typically the smart one     let us see     g   dawg   head banging brunette   classicage   metropolis   even though he be a bipolar weirdo     chrisscript   just to name a few      all i ever see adult post be     rate my poo                my ballz smell funny           whoz hawter   i or ur mom                    i like to rape little girl       and     hey guyz look at me im an attention whore                  the adult poster here be immature   moronic   savage bully with the mental capacity of a retarded     year   old      whereas   most of the teenager here be thoughtful   intelligent   mature   and often profound     but they be subject to constant schoolyard bullying by the idiot adult poster who think they be somehow superior because they be bear   and drop on their head   early      soapbox logic never fail to amuse i        ',\n",
       " 'tm    how astute   remember civility be the key   that verbal licking you give i really fail to break the skin   maybe just maybe we can get along   how about that  ',\n",
       " 'sofia add    i be from sofia   bulgaria   our city have also join this initative so i include it  ',\n",
       " 'would you mind focus on content  s rather then contributer  s  ',\n",
       " '  decline   a bit too close for comfort   that one   try to avoid the company name altogether   we get a bit edgy about account that appear to represent organisation  ',\n",
       " 'weatherman and well write    a lot of the change you  ve make recently to the weatherman page be notably more awkward   for no apparent reason     i be not particularly concerned about the change in some adjective surround how some organization and event be characterize   but at the same time you rearrange sentence to read quite poorly     plus you seem to get really carry away with wikilinking   do reader really need a link to know what a bomb be        ',\n",
       " '    non   lead     should not the title of the page be     support     or     minor     instead of     non   lead          ',\n",
       " 'i agree with leonte   though i begin attempt compromise last night consider no one else be back i up on this     in the interest of build consensus   however   i will note that political descriptor   in the absence of reliable third party source   be inappropriate in this article     i will also note   again   that some commenter here appear to be confuse the electoral   vote website with the electoral   vote author     this wikipedia article be about the website   not the author   who have an article of his own  ',\n",
       " 'dispatch review    i add some comment here   i think it be a wonderful dispatch   very clear   we  ve need something like this for a long time  ',\n",
       " '  i vote for christ pantocrator   though it could be nice with a wide crop',\n",
       " 'here be an idea    go fuck yourself   cumshitter  ',\n",
       " '      your assistance please    the record show you delete file   hmcs fennel   k     jpg     the entry you leave in the deletion log say       list on wp   pui more than    day          i strongly suspect that this be a free image     crown copyright canada protect image for their first    year     ww  end    year ago     so if this be a crown copyright image it would be a free image      i would like to request userification of the information template and other information associate with this image   to review for possible clarification of whatever problem get it list at wp   pui in the first place      could you please userify it to     ',\n",
       " ' listas   manos family',\n",
       " '    so   despite your equivocation   you be still wrong   people do remove     vile   vicious hate speech     whilst remain on     the right side of policy           you make a very clear statement about wikipedia policy   and i prove you be wrong   and you deny my unblock request as a result of your misinformation       i know expect an apology from a wikipedia administrator be a waste of time   but in future stay away from i   okay   i prefer to deal with admin who do know the rule         ',\n",
       " '     speedy deletion of phi rho eta    a tag have be place on phi rho eta request that it be speedily delete from wikipedia   this have be do under section g   of the criterion for speedy deletion   because the article appear to be a blatant copyright infringement   for legal reason   we can not accept copyright text or image borrow from other web site or print material   and as a consequence   your addition will most likely be delete   you may use external website as a source of information   but not as a source of sentence   this part be crucial   say it in your own word      if the external website belong to you   and you want to allow wikipedia to use the text   which mean allow other people to modify it   then you must include on the external site the statement     i     name     be the author of this article     article name     and i release its content under the term of the gnu free documentation license   version     and later       you might want to look at wikipedia  s policy and guideline for more detail   or ask a question here      if you think that this notice be place here in error   you may contest the deletion by add   to the top of the article   just below the exist speedy deletion or     db     tag     couple with add a note on the article  s talk page explain your position   but be aware that once tag for speedy deletion   if the article meet the criterion it may be delete without delay   please do not remove the speedy deletion tag yourself   but do not hesitate to add information to the article that would would render it more in conformance with wikipedia  s policy and guideline       ',\n",
       " '    will my motherfucking safety be guarantee         i fucking hope so       i m bring my own fuckin   weapon     pay i when i get back motherfucker         oh yeah i ve get a joke     a family   husband   wife   son   daughter   dog   walks into an agent  s office and tell him that they ve get a great vaudeville routine     he say     we don t hire kiddy acts     and they say     but we re really good       and so the agent say     fine   let i see what you ve get   but if you suck i m throw you out       so the family get ready     the daughter hit the cd player and circus music begin playing   the father jump kicks the son in the head and stom his face in the ground until it be a bloody pulp   then proceeds to jerk off and cum all over his shattered skull     meanwhile the mother begin violently finger fuck the daughter as the dog fucks the mother in the ass hole     this be the point when the father takes the leftover brain matter from the son  s head and shoves it into the mother  s pussy   then begin fuck her pussy while simultaneously stick his finger down the daughter  s throat until she vomit all over they both     then the dog bites the mother  s hand off as she  s finger fuck the daughter   leave she hand in the daughter  s pussy as blood squirts all over the place     the father takes blood from the ground   smear it all over the mother  s chest   bends over   and begin shit all over the open wound where she hand use to be before the dog bit it off     they take the dog and shove it in a microwave   heating it up until it explodes   then take the dog remain   mix it with the father  s shit   the son  s head wound   and the father  s cum   and shove it into the daughter  s mouth     then the father rips the son  s dick off and fucks the daughter with it   as the mother locate be the son  s testicles   breaks they open   and drink the sperm that come out     then the family lines up and say     ta da        there be silence from the agent   until he finally say     i love it     what do you call that        and the family say     we call it     the aristocrats        ',\n",
       " '      request move      canada national football team   disambiguation         there be   i recently move the american football team   which use to carry the moniker     canada national football team       to canada national american football team   and i consider this move request   if successful   to be vindication of that move b   b  ',\n",
       " '     i think clockback that your suggested reference to ainsworth  s involvement in the img be too long and that something along the line of   brief flirtation   would be well   i think that the img reference need to be short   somewhere in the early career section   post after the article have be expand a little   otherwise the article might appear weighty   i think the last point be important as it seem to be a consensus reach by a number of wikipedia editor after much wrangling and gnashing of tooth        but bedside   this brief dalliance with marxism   in an overall consideration of his political career   pale into insignificance compare to his be controversially thrust as a third choice candidate into the position of defence secretary at a time of crisis for the british army in term of the number of casualty be sustain and a lack of resource   this be simply not reflect at all in the ainsworth article   i try reflect it as follow       his appointment form part of a chaotic cabinet reshuffle by the prime minister   who     consider at least three other candidate before appoint ainsworth     but this be dismiss as     speculative opinion     by off riorob above   even though from my point of view it be easily the most significant event in ainsworth  s biography   perhaps we can reach a consensus that if a well reference can be find   which i suspect should not be difficult   that it can be re   include   i want to stress that this be again not mean to be an ad hominem slight against ainsworth   but merely draw attention to the fact that his appointment be the equivalent of throw someone in at the deep end   and indeed he have have a very difficult time of it since his appointment     actually it reflect bad on brown and the farcical reshuffle      ',\n",
       " '      greek love    i be look for a way to extricate myself honorably from this mess   i be leave a note here because you close this afd   where i make a commitment to do as you instruct in the close statement   there be two editor who have long seek to delete or eviscerate the article   one of whom have use a series of user name   unacknowledge on his current user page but available   so at first glance it may appear on the talk page there be more than two editor in the   suppress   camp     i complain here about their coordination   other editor   include   and i simply can not do it any long   i have not change my position on the validity of the article   but i  ve be accuse   on various talk page   and never the appropriate notice board   of edit warring   ownership   disruption   and even pedophilia by implication   all for try to carry out what the community decide   i be do   i need to limit my time on wikipedia at present   and wish for that time to be spend pleasantly and productively   when i  ve make a commitment   though   it grieve i not to keep it   i be not ask you to do anything   i be just explain why i can not keep my word as give at the afd       wow   that be a mess   certainly no hard feeling   on my end   it be clear you endeavor in good faith to improve the article   i have find that know when to walk away be an essential skill   not only here but in the real world   sometimes your presence   despite your good intention   be harmful rather than helpful   and sometimes a dispute just be not worth it anymore   good of luck in your future endeavor here         mailchimp    i be not that bother but i think that the mailchimp speedy deletion be a mistake     it do cite that it be one of the more important email marketing program so it be state the importance   something that be suppose to be the original problem          the criterion specify a credible    claim of significance   wordpress page be not reliable source   however   i would certainly not object to it be restore as a redirect   as it be for several momnth before today       talkback       talk      just a hunch      call it my intuition but i be guess that his username be a direct challenge to patrol admin that you guy will not block he base on the username itself   but his contribution speak volume of his nonsense louder   my other hunch be he be a return editor     than his username do   just my   cent   cheers                                 there be plenty of legitimate reason to be a return editor   the username be not a blatant violation of the policy     if you have any evidence of socking file at wp   spi         recreation of article shay carl    i would like to request that the article shay carl be recreate   see the delete talk   shay carl for my reason   note   talk   shay carl be delete because of a    not notibility          well   there be',\n",
       " '  where be the    defendant figure come from       nuremberg and vietnam   an american tragedy     by telford taylor   u s  chief counsel at nuremberg   mention           ',\n",
       " '     oh hey   a response   that be cool   i personally feel that have the fortitude to call out ttn on his obvious flaw should warrant a few dozen barnstars   but i see where you be come from   if you insist on keep the block   i would like to formally request the reason for this account  s blocking to be change to reflect the real reason instead of be note as a common vandal   maybe a reason along the line of     be a pain in the ass     like that one guy on nakon  s talk page state     on that subject   maybe he should be block too   after all he do use a cuss word and that be technically bad than anything i  ve ever say           ',\n",
       " 'no   you have the right to express an opinion that you consider it to be hasbara   or crap   or both   you do not have the right to identify it as hasbara   crap   or both  ',\n",
       " '      ga review        this review be transclude from talk   battle of rowton heath   ga    the edit link for this section can be use to add comment to the review      reviewer              yes      i  ll take a look over the next few day   and then start to make some comment              yes    ',\n",
       " 'for evidence   please make sure you make yourself familiar with note for the suspect before edit the evidence page  ',\n",
       " 'afd   please see wikipedia   article for deletion   revelation   guideline for notability be outline generally at wp   n   and specifically for song at wp   nsong   thank you  ',\n",
       " '  organization    class    start                  importance  low              maindykdate               need   infobox  yes        need   image  yes          attention                      wikiproject  ',\n",
       " '         action in la   la land have real world consequence                        ',\n",
       " 'dean wormer works for the racists in jena   la     i will continue to update the posting for jena   la to reflect the fact that thi   famous   person of note be a segregationist democrat which be in fact a historically accurate description         ',\n",
       " 'woopsie      oh thank you soooo much       i do not know     i promise that i  ll never ever do it again   ok  ',\n",
       " '     for everyone  s info   particularly admin     i believe the late sock   puppet for igor be     just a     head up          ',\n",
       " 'why be you give i warning      before someone mark this as vandalism   i want you to at least read this   why be this vandalism   i do not understand   i be new to wikipedia and i be try to figure it out   please do not mark this as vandalism   i be be not do anything wrong   i just need answer from somebody   please help  ',\n",
       " '      gift card for download   re       as of december           it be not possible to use gift card to purchase mp s even though the gift card faq claim     yes   amazon com gift card can be use to buy amazon mp  and unbox download           strictly speak   this be a false statement as be able to pay for order with a gift card at that time     one person already remove that line but it be revert     be there a good way to go about provide verification        ',\n",
       " 'i be think about delete war on terror   operation enduring freedom   horn of africa   and operation enduring freedom   phillipines because they be redundant   i would like for people vote on it  ',\n",
       " '     no it be not     useful information about the topic     and it be a good idea   only   screenshot be allow per game   at most   if they really relay something       ',\n",
       " '    my experience come up on the talk page but once i understand wikipedia i do not post anything on the article relate to my personal experience   that be like the  nd day almost two month ago      all of my reference be verifiable   there be nothing in the article about my law suit or my be put in jail for engage in pro se litigation     i do not put my experience in the judge edward nottingham article either although he be my judge      i go out of my way to search for reference express all the various side of the issue   for instance   i write to the aba and ask for their input   and in fact   ask they to work on the article   i also post about issue involve with mediation and settlement with pro se   cite reference from a lawyer point of view     those reference be delete by someone   i can not remember who and do not know why   at this point   the only reference that i post that be soft at all be a blog quote a transcript quote a former federal judge and i know for sure that be a valid transcript     the guy who run the blog be a  rd year law student and have a business sell datum service exclusively to lawyer      even the stuff that be delete about pro se frustration i have reference for   i read in the wikipedia discussion of source that blog can be use in some contexts      i do not believe that i do any original research   all i do be search the internet for reference for the article     i really do not know about unbundled attorney service or the amount of pro se litigation before i start work on this article   i have already be think about form base filing but i start think about that anyway because of my experience with ecf   which date back to          also   when i be young i work as a system analyst      i do get the info on the laws and liberties of ma year ago   but wikipedia already have an article on that and it probably would have come up anyway     same as the u n  covenantcan t really hide that      i do not add a and b together to prove a point   at least not consciously   like today   i be review appellate procedure and it seem that the  th circuit have a more pro se friendly tone   which i think be because of judge learned hand   who be in the fifth circuit   and the only reason i know about that be that one time i go in every federal circuit and search on the word     pro se     in the    because i be try to see if there be a history of put pro se in jail for be pro se   no   there be not       what i find in the    be that some circuit deny all the pro se appeal without even say why but judge learned hand seem pro se friendly      i believe that your post thing about pro se litigant get an unfair advantage be     soap boxing       i do understand your want to win thru competition though and about law as a business   i  ve be an entrepreneur      i do not know about the federal judicial center until i start work on this article   that book on appellate procedure i find look for reference for this article   the manual on complex litigation i find look for reference for this article      argue with you help i to clarify the issue for myself     one thing i start think about a lot in the past few week be slavery and how that affect the history of pro se litigation   i order the book slave nation at the library but i have not get it yet   but now when i look at pro se law in the different state i think free state   slave state   border state   also   there be issue relate to indians in some of the western state   the labor union movement have a lot to do with it too   i think   so do the history of workman  s comp   which be of course relate to union      ',\n",
       " 'try pass illegaly the border from usa to mexico     you  ll end in prison too   but the re no communist there',\n",
       " '      unsourced personal commentary    a     new     account have re add this   it look like unsourced personal commentary    ',\n",
       " 'your comment be indent as if it be a response to mine   but i be not the one who remove the discussion  ',\n",
       " '    when i look at the cato edit   it be simply a removal of the reference   the addition of another donor   and a change in the language   without an edit summary to explain   the change be unjustified     your clarification certainly help     thank   also   for add the reference on summers   frankly   i do not look at the source remove or add   my main concern be the unexplained edit   summary be important   and then i see that the message about these same concern from a while back   so my message be more of a reminder   most importantly   you be incorrect if you think it be     not against the rule to add unsourced material       one of the core content policy be wp   v   and wp   rs allow we to carry out that policy   happy editing         ',\n",
       " '     we all know that   just about everyone here watch the update   there s a reason they be not list       complaints    ',\n",
       " '     i  ve be though the article   it be simply untrue that only man be     consistently     refer to a jews but womabn and child be not   many passage refer generally to     jews       clearly mean man   woman and child   only one sentence correspond to your criticism       the screening of the population   however result in    jews      jewish woman and    jewish child   of which    jews and    jewish woman be shoot in co   operation with the security service       this particular sentence should be rewrite   i  ll just do it   but the sentence itself be grammatically confusing   so whoever write it may wish to check that i understand it correctly       ',\n",
       " 'hello      long time no shart  ',\n",
       " 'other bush article not reference in george w  bush   none of the follow article be mention in the george w  bush and perhaps should be      bush  s brain   how karl rove make george w  bush presidential    domestic policy of the george w  bush administration    early life of george w  bush    economic policy of the george w  bush administration    electoral history of george w  bush    fictionalize portrayal of george w  bush    foreign policy of the george w  bush administration    george w  bush and the iraq war    george w  bush as governor of texas    george w  bush cabinet    george w  bush presidential campaign    george w  bush presidential campaign           george w  bush presidential library    george w  bush pretzel incident    george w  bush substance abuse controversy    george w  bush supreme court candidate    george w  bush  s first term as president of the united states    george w  bush  s second term as president of the united states    list of book and film about george w  bush    list of george w  bush legislation and program    list of nickname use by george w  bush    list of people pardon by george w  bush    mahmoud ahmadinejad  s letter to george w  bush    movement to impeach george w  bush    presidency of george w  bush    professional life of george w  bush    public perception of george w  bush    religious faith of george w  bush    the lies of george w  bush   master the politics of deception',\n",
       " 'a third term be significant simply because it be rare   the electorate and party   often on behalf of the former   be disillusion with the party leader by this time   thus they kick he   she out   read about margaret thatcher  ',\n",
       " '      some baklava for you        a gift   in the hope that you reconsider my indefinete block   a traditional food from the middle east   make well in afghanistan metalman    ',\n",
       " 'refer to she as   catherine      i be tell in no uncertain term that i could not refer to anyone   living or dead   by their  st name on wp     if a female have a title   she have to be refer to as that throughout her article   ie     lady amy   or   lady dudley   for amy robsart   even though   lady amy   be wrong before she be marry as she be the daughter of a knight   have no title     wrong after northumberland be attaint   all his child lose their style as offspring of an earl   a duke     she do not become   lady dudley   until elizabeth i knight robert dudley near the end of amy  s life nor be she then   lady amy dudley   as legally she be no long the wife of the son of an earl   duke     i think it be simple to refer to she as just   amy   throughout rather than explain the change that occur with her name   style   but be tell it be against wp   rule     though i be not point to a link for it       noblewoman be usually call by their  st name round here as far as i can see   even when they have surname   be not   of   something     mary boleyn be call   mary     not   lady carey   or   lady stafford     catherine neville be call   catherine     not   the duchess of norfolk     etc     they be not royal       as for male   i be tell they have to be refer to by their title   ie     leicester       or last name   ie     dudley       i be bang head on keyboard go   but   no one just say   the king   all the time or refer to they as   plantagenet   or keep change their title   ie   henry of bolingbroke go from earl of derby to duke of hereford to duke of lancaster to king of england       so how do kate get to be consistently refer to as   catherine   throughout the article   without her title append     i  ve only be here a few month   i would appreciate it if someone could actually explain this to i   as my main interest be british history   i be quite confused  ',\n",
       " '     mevins   say      i will be change your elegant profile shoot of bruce to a well picture as soon as i upload it   i appreciate ordinary jay bruce fan   but i be jay  s big fan   thank for your attention   i think jay would agree that a picture on wikipedia have little to do with further his career   but nice try',\n",
       " 'they be all cunt    it be not worth edit article here concern any serious issue   all side consist of either people employ to edit or people with very strong opinion that will never   ever change   they advocate their stance as something that be interesting to they instead of use the encyclopedia as a book of knowledge and contribute what they be sure to know     soon with the centralization of the net into large and large site   independent information in general will be extinguish   wikipedia   a project that start by nerd and professional within their set field will become the altar of knowledge where depth and true insight be sacrifice for become the sound magnifier of yellow press and popular science   the new tool that be intend to auto translate article from one wikipedia to an other will extinguish the few national wikipedia that through their niche provide those of multilingual capacity an ability to cross   check fact through other perspective   with few small   independent site leave   with no or few free university page leave   real knowledge will be the privilege of the few that know how to use academic search engine and have the money to pay for they              ',\n",
       " 'i  ve say once   i say it again   if you don like thugstep that be you bizness   if you think that quite a range of refenrece to web   page stay it non   notable you be welcome to tell it to admin for it to be delete                  ',\n",
       " 'although it do not extend to the modern era   you might want to look at ancient high   learn institution to see how it relate to chinese high learning institution  ',\n",
       " 'do not harass other editor with no basis   you have post a baseless warning   threat on my user page   do not post any more thing on my page   otherwise   i will complain to the administrator   or even jim wales if i have to  ',\n",
       " '      the comma    be not the correct title for the first series     yes minister       without the comma     i believe it be only     yes   prime minister     that ever have the comma   unless there be objection i will be move the page    ',\n",
       " '    excellent   and please do not damage your book on our account   for sure   it be an interesting question   where be the camera   that be a fair question   to jump to the conclusion that it be     impossible     be ludicrous   but that be typical for the moonbat   the picture be useful for another reason   as it show a similar relative position of the lem and the antenna for this apollo    flight as on that web page that argue about those object in apollo      in both case   the antenna be at a    degree angle away from the lem   and both the near photo and the distant photo on that website be consistent with each other   despite the website  s claim to the contrary   the moonbat isolate on specific item as their     evidence       but the more one see the broad picture   the more their phony argument get show up      ',\n",
       " 'content subsume into maneesh page   same entry different spelling   and redirect  ',\n",
       " 'ditto   congrat   and all the good to you  ',\n",
       " '          be when that part of the video show it     it say     lot of small village have prostitution in karaoke joint       and that this one have a single orangutan in it     it do not say its common everywhere though      ',\n",
       " 'fuck you   smith   please have i notify when you die   i want to dance on your grave  ',\n",
       " 'i have see your post now but i replace the pop punk reference which be there again with rock a few day before  ',\n",
       " 'please avoid use abusive edit summary as per wikipedia   civility and wikipedia   no personal attack   thank and happy editing   please do not make personal attack on other people   as you do at minneapolis   minnesota   wikipedia have a policy against personal attack   in some case   user who engage in personal attack may be block from editing by admin or ban by the arbitration committee   comment on content   not on other contributor or people   please resolve dispute appropriately   thank you  ',\n",
       " 'dect be not really a new technology   it be a new standard   but tdm   tdma   fdma digital telephone have be use for a lot long than the life of dect   dect be itself a successor to ct    japan  s phs be very similar   and   of course   gsm   d   amps   and other have be extensively use across the world for a decade and a half   to suggest there be special health issue with dect would most definitely be place undue weight on the subject   dect be considerably low power than the analog system it replace   both during transmission   and inherently because even when in use the td nature of the system mean the system be not transmit continuously      as i believe i  ve say before   there be nothing wrong with there be a properly research article about the health effect of low   power radio technology   and there be a link in the see also   section of this article to it   that article   of course   should look nothing like the section i yank   there be nothing about dect however that merit a special section on dect  s danger   especially when   new technology or otherwise   there be no serious level of concern be express by anyone authoritative on this issue  ',\n",
       " 'i shit on your face    fuck you',\n",
       " 'you be    so retarded  ',\n",
       " 'user use sockpuppet in this discussion    note that user nightscream be solicit sockpuppet of toure neblett to join this discussion     http   en wikipedia org wiki user talk halaqah hi halaqah     this be not surprising consider nightscream  s slimy debate tactic and ad hominem smear      it look like the reality be that there be   only   one or two actual people oppose to teh inclusion of the last name and the rest be their sockpuppet       though i guess it demonstrate that nightscream be   not   one of toure  s own sockpuppet         fyi i be not use a user name in this simply to make it clear i be not a sockpuppet  ',\n",
       " 'thank stephan   my interpretation be that mr nice guy remove the content before discuss it on the talk page   if he be concern about content reliability   i think i read that editor be suppose to bring it up in discussion first and reach a consensus instead of delete sourced material  ',\n",
       " '  which i make up by fix stem article',\n",
       " 'alex albrecht   why have you remove my addition to the alex albrecht page they be totally relevant   ',\n",
       " '  in a tank for bioelectrical impedance analysis etc       i fail to see how either of the two picture recently add improve the article in any way  ',\n",
       " 'the image have be miss for a while as wikipedia be down for about   hour   i just hit rollback which   among other thing   restore the patrick stewart   which i then remove but do not see you have make other valid edit   i also link harold wilson from prime minister to prime minister of the united kingdom   the deletion be do at       gmt by which time the server be up   you should register then you could bypass these invalid message   cheer       talk  ',\n",
       " 'amazing   thank you very much       ',\n",
       " 'groin    you sad fuck   i be go to restore my edit   and you be go to leave it   or else i wil knee you in the groin yourself   prick                 ',\n",
       " 'may         your behavior on the talkpage of honor harrington have be below par   you do not know how to take defeat with grace and start behave childishly   let i warn you that your next childish edit will likely result in a mention at wp   ani or a user review  ',\n",
       " 'video game    for pete sake if i see that false video game article one more time   i  ll throw a cat out of the window   whoever you be   stop it now   it be not funny or clever   you be just make a moron out of yourself and i bet that be the same person who change the test card date too  ',\n",
       " '     palmisano playing for iowa state in the      be a free pass   i think   i be pretty sure they be division i then     as far as a list of coach go   i be not sure that be an articleworthy list at that level of competition   as oppose to it be fold into a general malone college athletics article     but i would not file an afd over it   it be a compromise   anyway     see as you be dig into uncover notability for those folk   want a full week for it       ',\n",
       " 'history    kallikids be create by karen bach in march       ',\n",
       " '      massacre    i note that kent state massacre redirect to this page   and that other   similar massacre in history   wherein government force murder civilian for protest government policy   be term as       such and such   massacre         there be no legitimate reason   aside from sensitivity to extremist viewpoint in the united states   to continue call this article     kent state shooting         it should be change to     kent state massacre         a cheap acknowledgement in the lead paragraph be insufficient     i would appreciate discussion on this move   and i will initiate the move myself soon enough       ',\n",
       " '   july         please stop   if you continue to vandalize wikipedia   you will be block from editing  ',\n",
       " 'notice of objection to propose deletion   in accordance with the rule on this   i hereby notify you of our   my objection to your propose deletion of the subject article office of the court administrator v  floro   jr                  ',\n",
       " 'barnes                   aus                                         ',\n",
       " '       may        utc timysmidge     ',\n",
       " '     two thing   it make no difference to the validity of edit if an editor be     anon       and go around revert a person edit en masse   because you do not like one of they   will yield time   consume problem for you                    ',\n",
       " 'hi nice of everyone to listen   well i ve be here for about  years   have have afew problem   but two have be the bad   have a mamogram  years ago dec    said to call my doctor emediatly need other view an presedgure   be incounculsive     we all no that not possable fir that cause its just like an xray  havent be able to go   have no way   to get there plus i have high blood pressure thet be run about   the last time be       around    over     i no that s very high   the hospital xray techs seceritary say if i do not get to the doc   to get referral as soon as possible that by the time i do it would be to late to do any thing for i   i no its to late all i want be to no how long i have leave   have  daughters one in opelousas la   one in hawiyei   one in walker la   i would like to see be fore i die have a partner i want too spend as much of what i have leave with i love my kid an partnermore than life its self   im look for some help to get to a doctor i do not have the money to do this   have no income to speak of zero   my partner and i be seperate right now he be help his father that have cancer also   he have a lawsute from get hurt   he just buy a truck from his brouther an have have to do alot of fix on it also with the help of his dad   let his neffews daughter drive it an hour ago cause she just hot her license an wreck it comepletly now we do not have a vihicile to help we   everyone say god do not give u anything you can not handle i understand that   but i need some help do any one out there   that may be could help i with anything at all   just think i d try to ask   never have ask before   to much pride but i m run out of time    please can so one help i    my email be apriljohnson     gmail com or this site  please need so help if anyone can    god blesss everyone in there time of need     i hope someone may be able to help i thank you for lissen to me my age also be   sept          ',\n",
       " 'he likes itin the ass by muhamad ali and kelly have a giant penis and also fucked columbus',\n",
       " '     here be the diff of his edit from that report            talk  ',\n",
       " '           aug        utc  ',\n",
       " 'just shut up and stay shut   do not edit anymore',\n",
       " 'oh get a life you prick             ',\n",
       " 'what else specifically do you want to know',\n",
       " '      rajput   not rajasthanis     right    p    prof  hancock  s study mention that the romani people be most closely relate to the punjabis and rajputs   i be pretty sure   not rajasthanis   he call proto   romani     rajputic       the distinction be important   if they be partly descend from rajputs   who be never really confine to any one part of india   that would explain the linguistic variation within the indic word in romani      for example   why the use of      o     instead of      aa     at the end of masculine noun   adjective in romani   this be certainly a characteristic of gujarati and sindhi   but be it a characteristic of rajasthani language   anyway   if i be wrong in make the last change i make as of now   i  ll be happy to revert it myself     oh   of course      ',\n",
       " '    if you would care to discuss specifically what be bias   incorrectly cite   or irrelevant to this page     i will hear what you have to say     until then   see as the search term     ndaa     bring reader to this page   i will continue to include present information reguarde this budget bill     this be the last time i will repeat this     abuse your power will yield you no ground    ',\n",
       " '     word of encouragement to user     damemk     in the case of dispute with the user engage in bulgarian nationalistic propaganda   damemk   you have come to the same conclusion about bulgarian   th century nationalistic propaganda on english wikipedia     user   laveol be one of the most prominent editor on wikipedia contribute false information in the article about republic of macedonia   macedonian nation history language culture sports and what else not     he be spend a lot of time work on his cause   push bulgarian nature in the article of the domain of republic of macedonia     how far have he go in push this propaganda you can see at wikipedia   wikiproject romacedonia where he have list himself as a member     so just my few word of concern for the macedonian articles in english wikipedia   and the great damage do by user   laveol and other user with the bulgarian and anti   macedonian propaganda     hopefully with the internet access become more affordable to the people in republic of macedonia the thing will go in right direction   remove the bulgarian propaganda from macedonian article   clean they of false fabricate information   and give the fact to the world   and the view of the macedonian science and source     i do not have much time now   but hopefully will be able to find some more in the come period   i be open to any collaboration effort for the above goal      i be expect that this user     laveol     will continue with the bulgarian nationalistic propaganda and pollute the domain in the domain of republic of macedonia   simply because he be able to   and can find a way to continue to work on his agenda     ours be to try to remove these false claim and contribute the fact about the macedonia   macedonian nation history lanugage culture sports      damemk   i hope you write something here   at least to show that user talk   damemk and user talk   ejanev be not the same user         some insight into my user name ejanev   the only user i be use to contribute to wikipedia be     ejanev       it be compose of the first letter of my name     emil     and my last name     janev         user     damemk     be a separate user   probably that user name be comme from     dame       a macedonian first name   and     mk     or the code of     republic of macedonia         it do happen that i be from canada   i be bear in republic of macedonia and have live there until i move to usa first and canada before more than   year      and yes   have all the false information from the bulgarian nationalistic propaganda   originate from the   th century   and have it into   st century to be use to negate the macedonian nation and all it be attribute by user as     laveol       be the reason of some of my editing action in wikipedia     i be not the only user   editor from republic of macedonia or with macedonian origin that have the same view for this bulgarian nationalistic propaganda   that already be infiltrate in the macedonian article     you can watch the contribution of special   contributions   laveol and see that more than      of his action be engagement in negate the macedonian nation and its attribute           ',\n",
       " 'at bookfinder com i find probabilistic reasoning in intelligent systems   network of plausible inference     softcover   isbn              publisher   morgan kaufmann pub            bookfinder',\n",
       " '    just to clarify what i be refer to in particular   it be not neutral to state that     aerith     be     incorrect           talk  ',\n",
       " 'thank you for experiment with   wikipedia   your test work   and it have be revert or remove   please use the sandbox for any other test you may want to do   take a look at the welcome page to learn more about contribute to our encyclopedia                         talk   contrb    ',\n",
       " 'the article sebastien larroud  have be speedily delete from wikipedia   this be do because the article seem to be about a person   group of people   band   club   company   or web content   but it do not indicate how or why the subject be notable   that is   why an article about that subject should be include in wikipedia   under the criterion for speedy deletion   article that do not assert notability may be delete at any time   if you can indicate why the subject be really notable   you be free to re   create the article   make sure to cite any verifiable source      please see the guideline for what be generally accept as notable   and for specific type of article   you may want to check out our criterion for biography   for web site   for band   or for company   feel free to leave a note on my talk page if you have any question about this        talk to i  ',\n",
       " 'gba    i  ve find out a game boy advance version of this be release   there be no mention of it in the article     as we know the current acclaim do not have right to this series   information may be scarce  ',\n",
       " '      propose move     asheville civic center   with the talk page host this discussion   u s  cellular center   asheville   north carolina      u s  cellular center   u s  cellular center   cedar rapids   iowa       both facility now have the same name       talk     contribution      ',\n",
       " 'no need to follow this policy taivo instead of just follow the far more important policy of wp   npov   remain neutral   there be an international dispute over this country  s name and fyrom be use by many organization worldwide   why should wikipedia abandon it be usage since it be extensively use to describe the state of skopje   especially in article directly relate to country that use the fyrom name to refer to it  ',\n",
       " '    the two big thing would be citation to verify that it be serialize in the weekly one   reliable site in english just say shonen jump     but since you have the one that start serialization   that can be use to note when it start serialization   if they mention there that its a continuation from the one   shot story because i can not find any rs   japanese or english   online that confirm that   the other be horii  s reason for add mini   medal   info on the anime about what it be base on if its mention be all that be really need for the main article   but could really help the anime article itself    jinnai  ',\n",
       " 'redirect talk   colt lightning revolver',\n",
       " 'no   nothing like that   i just want to clean out the clutter   there be a lot of bot comment   a welcome message for my old username   and so on   i could have archive it   i suppose   but i do not think there be anything on there that be particularly worth save for the age  ',\n",
       " 'why your article get jump on   hi   i be sorry to jump on your contribution the moment you put it in   but the trouble be   it be simply not the sort of thing wikipedia be for   these link be all in one or other of the template notice above   but to put they all in one place   the reason your article be be nominate for deletion be     wikipedia be not a dictionary     article on neologism need strong evidence that the term be widely use     wikipedia be not for thing make up one day     more advice on contribtue in the link from the welcome paragraph above   the list of bad article ideas be worth look at   too      regards  ',\n",
       " 'therefore i be revert vandalism   which be an exception to the three   edit rule as mention on the edit warring page  ',\n",
       " 'user attack i    user baki   keep revert edit without consensus or give reason   he have also perform ethnic mudslinging in my direction   please help  ',\n",
       " 'not thracian pretty simple       year away  ',\n",
       " 'i m flatter   i truly be   i  ve be here a couple of week and you consider i to be an established user   please do not talk about i behind my back like little school child  ',\n",
       " 'chicadee   i think the article name should be move to chickadee',\n",
       " 'p s  be you a  b   tard  ',\n",
       " 'ohhh i be sorry do i hurt your little feeling      let us all shed a couple tear together     lol what a joke   i bet you feel pretty important   pathetic little wikipedia volunteer   have fun live in your mother  s basement draw comic book   lowlife  ',\n",
       " '      new image problem    you again upload several image with dubious copyright claim   you say they be from     hindu newspaper     and license under the gfdl   what make you think the hindu publish image under the gfdl   if you simply invent that license in order to have a way to upload the image here   then please say so now   so i can quickly delete they   if not   i expect you will provide proof   within the next   day   show where and how that newspaper place the image under that license   if you do neither   you will be block        ',\n",
       " 'bunchofgrape   request you please cease revert warring    bunchofgrapes   i respectfully ask you to please stop your instant revert on my edit   if you have a problem with any of my edit   then do so from knowledge   but explain what be wrong about the sourced material   and edit   rather than make blind statement design to allow you to revert for no reason   and   again   please cite your source   you seem to not be able to cite anything that would back up your instant revert   and accusatory tone tell other that they be revert   when you have make several instant revert with no explaination on the edit   or add source   please cease this and cite your source   edit the material accord to jimbo wales   npov   and make sure your source be verifiable before your revert   thank  ',\n",
       " '     and what be the problem with     neo                         ',\n",
       " 'wow   big man here   can not take a little criticism and be upset about his failure to become an admin   so what do he do   look for the close person to run to   some admin on wikipedia   well play dietlimecola   hey   if i be block   it  ll be less time you  ve be   and for far well reason     oh my god some girl be look at wikipedia for her paper and i didn t see the teacher so i couldn t tattle so i take matter in to my own hand       i also could not help notice how sad it be that you so quickly notice my update   do you just sit their at your computer wait for an update     please tell i you do not watchlist this page     you do   do not you   all in all   everything can be sum up with a simple saying  ',\n",
       " 'glen be cool    glen be such a cool bloke and love be nice guy',\n",
       " '      parody       not intentionally   surely      ',\n",
       " '      pandur    the name derive from pandur   a sumerian term for long   necked lute   source of our knowledge about this instrument be since the ancient greek mantineia marble    th century bc     now exhibit at national archaeological museum of athens   depict the mythical contest between apollo and marsyas   where greek pandouris be be play by a muse seat on a rock   national archaeological museum of athens   e   book by latsis foundation   p     lutes have be present in ancient greece   pandura   the first appearance in greece   they be also present in mesopotamia since the akkadian era   or the third millennium bce    ',\n",
       " '    i accept your comment in the spirit in which it be offer   terminology matter and it can be hard to find the correct word   it be another editor who seek to distinguish     civilised behaviour     from that of indians   my point be that even if one accept such a distinction   non   indians have commit absurdly large atrocity   in addition   i could have point to the mystic massacre as a completely on   point example of a butchery that shock our native population   none   the   less   both tribal mongols and tribal american indians have or have civilization by any reasonable definition       ',\n",
       " 'no i do not agree   my info will be say up   since you be in such a hurry to edit the page why do not you fix the info that have you have source with a broken link      ',\n",
       " 'i think personal attack be welcome   as long as you revert they yourself   and i think restore   mention they be ground for an indef block   could our junior miss admin have missinforme me i have arrive just in time',\n",
       " '     replacement    please do not edit below this note   the whole supra   section will disappear again once i be able to post on the article talk page      this include you shell   have you not block i   i would have be able to place my answer there   this will disappear tomorrow so you can put with it until then      because shell falsely block i   i can not save my reply on a certain article talk page   hence i will save the entire page   minus the archived section   here       pov concern    i m surprised this article be not be call anti   semetic   because it be have a   few   trace of islamic perspective in it   you know   as oppose to be a piece of zionist propaganda be pass off as fair and balanced      this entire article be full of baseless jewish propaganda   it be well document the banu qurayza be execute for treason   that be what merit they the death penalty   that they commit treason   the quarash and other tribe the muslims fight against be outright enemy who be persecute they from the start   but the qurayza sign a peace treaty   then break it by aid the enemy   this article contain soo much jewish propaganda that you would think they be execute for no reason   which no doubt be their aim     here be a great example   look at this citation        accord to stillman   muhammad choose sa d ibn mua dh so as not to pronounce the judgment himself after the precedent he have set with the banu qaynuqa and the banu nadir       sa d take the hint and condemn the adult male to death and the hapless woman and child to slavery       furthermore   stillman infer from abu lubaba  s gesture that muhammad have decide the fate of the qurayza even before their surrender          this author be norman a stillman   a zionist jew who be very biased   why be he be use as a quote in an islamic article   and far more   why be his baseless conjecture allow to be use   as if it be a fact      there be article for     criticisms of islam     where the jews and other can write whatever they want   but they should have no hand in edit islamic article   because i look up the jewish article and i notice they do not allow dissent there   you can not put a muslim perspective on evil act commit by jews   without it disappear instantly   so the same standard must be apply to islamic article   islamic article must be write from the islamic point of view   and the jews can write their response in appropriate     criticism of islam     article   if not   i will personally edit the jewish article and fill they with my conjecture about their history   and i will find a non   jewish admin to arbitrate over the islamic article      good day          please read this talk page   you all of the place where     treason     or     traitor     be mention   and if you still believe that we need to mention treason   provide some reliable source and we can discuss it     it be easy for our article to be neutral and mention all pov   but it do require that people like yourself participate     we work from academic source   not personal conjecture        change by devotus and issue with they    dear devotus     i have still issue with your change     bat yeor and ramadan   while i appreciate that you do not try you shift the balance   remove a book from     each side       i do not agree with your removal   bat yeor be an academic scholar and though her book be controversial   she be not beyond the pale   currently she do not serve as a reference in the article but if she do   the controversy would be note   as for ramadan i have issue with he as well but if we remove he from the literature section   we would have to remove he from the article too   in which he serve as a reference   this be due to the insistence of user   bless sin   he will certainly not like such a removal   we can not remove he from the literature section while retain he in the article     while your first version be needlessly verbose       it be to be note that         the new one endorse that view by paret   watt   the article now say that the bq be not kill for religious reason   that be not a fact   since there be a good case that the whole conflict be cause by religious difference     also we do not want to repeat thing that have already be say in the coverage of the     siege and demise       e g  the claim about attack m  in the rear     also   please abide by the one resolve conflict   we fight hard and long about word like     massacre     and     execution     and neither should appear unless unavoidable     the common practice thing be unacceptable as it be s',\n",
       " 'ok   steve   to be honest i really like the present form   so   i do not have any issue with the present one  ',\n",
       " 'hello   january                you keep vandalize article while add mislead edit summary        please stop do this   it do not help build an encyclopedia and waste other people  s time   since you repeatedly   and selectively   remove message from your talk page   i do not know how many warning you have already receive   i will thus consider this to be your third warning and report you next time you vandalize an article   thank you for understanding     talk',\n",
       " 'i think it depend on the circumstance   if someone win a gold medal at a competition the gibraltar anthem would be appropriate   rather than   god save the queen  ',\n",
       " 'he be at it again   he seem insistent on add pointless rambling on how the talk page be not a forum just so he can make a cut at i      http   en wikipedia org w index php title talk  axm  rifle diff            oldid               he keep revert my removal of it  ',\n",
       " 'so i guess your explanation of wp   csd t  be still zero   once again you have fail to explain why a page wea delete under wp   csd t  and then threaten the inquirer with a block   poor form   extremely poor form  ',\n",
       " '  so that the proton itself reach fusion distance',\n",
       " '      beauty pageant    just because you have no interest in beauty pageant or their contestant do not mean that they be not notable   and please do not go try to delete stuff when you be ignorant about the topic you be deal with     i happen to think there be ton of article on here that do not meet wikipedia  s standard and that do not have individual merit     particularly those about comic strip etc   but i be wise enough to know that i do not truly understand their significance and so i leave it alone     a much more prudent avenue would have be to bring your issue to the appropriate wikiproject   wikiproject beauty pageants and to address yoru concern there in the first instance     one example   the continual use of the term     model     to describe they as have be use by yourself and one other editor   be both incorrect and somewhat demeaning       ',\n",
       " '      on mohammed al   bayati  s qualification    with regard to the edit over the past day   i think that while mohammed al   bayati  s qualification be tangentially relevant   the purpose of the text as they be place right now be to     prove     that mohammed al   bayati be not qualified to review the autopsy report   this i think violate npov   if the qualification be to be include they should come under the     criticism and controversy     section   quote by whoever it be that accuse mohammed al   bayati   of not be qualified to review the autopsy report be cite   if nobody make the accusation   then this be original synthesis   and should again be remove       ',\n",
       " '      no reason to split    there be absolutely no reason why alamo bowl broadcaster should be split from alamo bowl   that list be a stub that be only   kb long   the main article be    kb long   much of which be table and list   well within the limit of wp   size   a single article be only    kb long   which be permit   so there be no reason why the article should be split   talk  ',\n",
       " 'please sign your comment     thank  ',\n",
       " '      alyssa flash      at the time of write this   sarita  s tna impact debut be come up   and she  ll be wrestle one       alyssa flash       note i might be spell alyssa wrong     i see she nowhere on the list                    ',\n",
       " 'roma people in hungary               the appalling social and economic situation of the roma   who account for between   and    percent of hungary  s    million people that mean                      ',\n",
       " 'fuck off you murder scum      ',\n",
       " 'in addition   i be ask that you please stop accuse i of thing i have not do   i do not what what sock puppeting be and i think your take this matter personally and abuse your power  ',\n",
       " 'after add the rational i have to remove the tag  ',\n",
       " 'wow   i guess your just one of those guy then god forbid   one love then  ',\n",
       " 'it have be up before but here it be again   phil plait claim in a radio program with joe rogan that all shuttle astronaut who have ever go into space have be through the van allen belt   at   min   http   www youtube com watch v tvic qdsnic    if that s not mislead propaganda i dunno what be     his website should be remove as a source              ',\n",
       " '     lamia joreige   hi lea   first off i would like to tell you that your contribution be invaluable   you be present often overlook subject   kudo for that   i see you have start the aforementioned article   i do not have it on my watchlist yet so i do not know there be a mistake   you must take notice of some rule on wp so check out wp   notability so you know how to well protect the material you add against meta   deletionist   cheer      ',\n",
       " 'i do not receive any massage  ',\n",
       " '      i take offense      i take great offense that some pompous   sanctimonious twit think that no one should be allow to express appreciation for woman like the gibson girl as the     fine   feature     and     achingly beautiful     creature that they be       i do not know what kind of totalitarian feminazi dystopian agenda you be try to foist on people   but do not do it here     this encyclopedia be base on free speech and a free exchange of information   not bogus political correctness and schoolmarmish thought   policing     i  ll take a gibson girl over you anyday    ',\n",
       " 'padua user tag    someone should design a padua college user tag much like the follow one for the maroons in state of origin              july        utc  ',\n",
       " 'ion g nemes talk                  june     ',\n",
       " 'you gay motherfucker i know where you live   i be go to sand your face off   then i be to go to beat you to a pulp   you chicken shagger  ',\n",
       " '  ok dennis brown thank for tell i i be take this a bit way too serious ill be careful for this time stupid bot  ',\n",
       " '  that way i might even know which article you be talk about  ',\n",
       " 'the be problem with the sfc t record   there be no credible sci challenge to it   this new section be absurdly us   center   it can not possibly stand as it it   this be the   global   record we be talk about   you need some credible scientific paper   not picture of station   as far as i know   the sfcstation stuff have merely document problem with some station siting and maintenance   etc   there be not even the beginning of an attempt at quantify what influence   plus or minus   this might have on the record   if you be interested   there be paper about the effect of switch from north   wall screen to stevenson screen   thatched hut in africa   etc etc',\n",
       " '      could you please comment on talk   thought identification    re   john norseen and lockheed martin    i be beside myself try to update information that i believe to be very relevent     it look to i like several user who     hang out     at     ani   fringe     be work together to remove well source   valid   on topic material which show the state of military research into thought identification     outside comment would be greatly appreciate     thank        ',\n",
       " '      mediation    hello   i be atyndall and i have volunteer to take on your mediation case   during this discussion i will remain neutral with both side of this argument and will endeavor to solve your dispute   after have a look at the discussion above   this be what i have find     quizzicalbee have be add the sentence     accord to chesler   the the u s  embassy repeatedly refuse to help she leave the country as they no long recognize she as a u s  citizen         hurmata have be revert this back to     she report that the u s  embassy repeatedly refuse to help she leave the country   hurmata object to quizzicalbee  s sentence as he   she think that the source be incorrect as the guard would have allow chesler into the embassy and first hand account from chesler herself do not qualify as a reliable source   qb object   say that maybe in the      us citizenship could have be revoke by the us   afgan government at that time and perhaps in the past the guard may have deny entry and that her claim should have be presume true until prove false   hurmata counter that the citation threat qb be refer to be not the one that be cite   qb state that there be no evidence disprove her claim   so they be valid     could the involved user please place        below to verify that this statement be correct or suggest why it be not correct   thankyou          talk     ',\n",
       " 'well   arthur   i have print the paper   and the condition be in fact what ultra   power say it be   not your correction   it seem that the paper be not incorrect   but rather correct and pointless      you have already identify the bad problem   the third condition require incontinuity of f at all integer value   however   this problem disappear if we consider only the special case a   e  so let us do that      we want a function f satisfy f    e and f n    exp f n       define as widely as possible   we observe that n   and n   present no problem   f      and f            to extend f to all positive real number   it be clearly sufficient to define f on an interval of length     such as              and we want f to be continuously differentiable     the paper only require f to be continuously differentiable on           or equivalently on            this be obviously whacky   but we need not worry about this because a   e       next   for no obvious   or explain   reason we require that f   be monotone on the interval           from the functional equation f x     ln f x     we get f     x     f     x    f x       hence f         f        f    f           so f   must be constant on              not too surprisingly   the function we get in this way be patch together from small piece in a relatively unnatural way   f x     exp x  exp x  x            thus what i learn from the paper be that the correct solution to the problem probably have a minimum of its derivative between    and    ',\n",
       " '      the rangers fc    this should be the name of the newco rangers wikipedia page now as they be call the rangers fc everywhere   on the sfl   sfa   spl   bbc etc website and in league table and on tv   they must have register to use     the rangers fc     to differentiate between themselves and     rangers fc     who still have spl membership    ',\n",
       " '      wikipedia   categories for discussion   log      april    wikipedia book    follow the horribly chaos of april     i  ve resubmitte thing for discussion       talk   contrib   physics   book    ',\n",
       " 'flexpay tax law    just a comment here     i would be interested in see an expansion of this artcile regard to the tax surround flexpay account  ',\n",
       " '    no problem at all       talk    ',\n",
       " 'if we do win   and get these evil people out of the government   and their private force as well     then perhaps there will not be any nuclear blast across the us and europe       btw   if mongo be really with hs   why be he on wikipedia  ',\n",
       " 'i  ve just see that',\n",
       " 'najib effendi al   yasin    i suggest not to use paragraph indentation in the article najib effendi al   yasin which have recently create to reach a more normal looking page   happy editte  ',\n",
       " 'lol   you know what i mean   whichever president come before hafez   i just new he be president before assad   have considerable foreground of support   in which his support would have freak out because of the coup   they would have claim instability would arise   as assad  s supporter be try to use in their defense      what i be try to say be that although bashar assad have good economic and international policy for syria   you should not fear a non   baathist potentially be elect     syria  s economic and international policy will not change   iran would still be a major factor in syrian life consider the buisness deal stake and cultural exchange     the only this that would change be social freedom   and for the well   also every country have a revolution and they be still alive today   the muslim brotherhood in syria be weak   even weak than the islamist prescence in libya   the rebel in libya have           support   as we see now   and yet could hardly take control without nato   what chance do the syrian muslim brotherhood have   none   if anything   nonviolent protest weaken the resolve of the muslim brotherhood   make they less of an influence in the everyday life of syrians   as you know i be pro syria and armenia   just not pro assad   unlike armenia where people like sargsyan and kopcharyan be democratically elect   assad be not   no one run against he because they be not allow    ',\n",
       " '      cfr be a perfectly accurate source      the     council on foreign relation       cfr org   be a recognize   legitimate think   tank that study international terrorisim for the united staes govt   to claim they be     not credible     be idiotic     they be as legitimate as any online newspaper or other source   they have study northern ireland   and complile a list of uda   uvf kill by the ira   inla   and vice versa   these fact be good and will be include in the article    ',\n",
       " '      lead    what be there now be not a summary     summary be suppose to be substantially short than the text they summarize   which the case at salvatore giunta be not   it simply copy whole sentance from the body text   as an editor   we have to assess the article as it currently stand   and not any hypothetical future stance   if the article grow   then the lead can be adjust accordingly   in any case   the lead section i favor do indeed summarize the most important part   the moh     in any case   do you read wp   lead   the lead of a biography be not necessarily suppose to summarize the life story of the subject   but assert thier claim to notability   the two sentance i favor more than do that without be overly repetitive              wordsdeed  ',\n",
       " '      unblock i ll make a renew effort not to give personal attack   but of course i do have some question about this unwarranted blockage   as you might well imagine          why be it that ip editor tend to get the raw end of the deal   that you     admin     tend to lean towards the side of someone who be edit with an account over someone who be edit without one   especially in the area of what you label as     personal attack     or     harassment     when give by the ip   editor but not so much when the name editor do the same thing          for exampleand this be     yep   maybe you guess it     question     why be it supposedly     okay       accord to you   for someone with a name     like   say     escape orbit     to dish out a personal attack   but not for i to give he one back because i be just a lowly ip   editor   specifically   why be it supposedly     okay     for he to give i a personal attack by put false stuff on my keyboard by make the ludicrous claim that my reason for want the old style of     ebay     logo to go next to the current one       ebay       in the lead   be     because i want it in there       even though that be a total lie   but it be supposedly     not okay     for i to call that kind of slander stupid          here be another one   why be it supposedly     okay     for he and     smiley girl     there to falsely accuse my edit of be     vandalism     just because they differ from what these guy prefer   but then when i say their reversion be vandalism   i get in trouble for it as if it be a     personal attack     just because i be an ip   only editor          ready for one more   then why be it fine for any of you name editor to give one of we ip   editor a warning template   but when i   as an iper do the same thing to a name editor like i do to partially smiley girl   i get dinge with     oh   you can not do that  cause that be a   personal attack         or     oh   that be bad because that be   harassment                oh yeah   here be one more   remember the rule about edit   war   just in general   mean that it do not even have to be break  rr   that say that       but i be right   so i be not edit   warring   be no defense       well then do not that apply to meet some so   call     consensus     too   since some thing be not case of concrete correctness but be just base more on whether they match what that so   call     consensus     want the thing to say     well then why be it that just because your name friend smiley there do some edit   warring against i to put the thing back to what your exclusive   partial       consensus     want it to say   and since my editing have already be establish as not vandalism even though it disagree   you ignore that above   mention edit   war rule and give she   he a pass anyway   but when i   an ip   only editor who be against your exclusive     consensus       do the same thing   it be     edit   war     even though it be the same thing as what smiley be do   remember the     be   right   matching   consensus   be   no   defense     rule                           ',\n",
       " 'if serbia do recognise abkhazia and south ossetia   then i would not be at all surprised if georgia recognise kosovo in retaliation  ',\n",
       " 'the most subtle question they possibly could  ',\n",
       " '      try to measure the number of cafe    this be one of those place where i be so frustrated by wikipedia  s ban on original research   the article have the absurdly low     at least six cafe on the ave or its alley       i do not know where that number come from   nor what they consider a     cafe       but it seem to i that well within any reasonable definition   the scene include      solstice    cafe zoe    the original allegro   on an alley parallel to the ave     arguably   its second location in the college inn also count    the ugly mug   half block off      the cafe at the corner of   nd that use to be the roma   but i can not recall its new name    sureshot    the continental    caffe apassionato    wow bubble tea    shinka tea company    yunnie bubble tea    pochi tea    gingko tea house    tully  s    starbucks    wannabee   one block off      still life on the ave   at the grand illusion     technically   the entrance be around the corner   but it be clearly effectively on the ave      this do not even count hangout that be mainly bar or restaurant or takeout food joint   nor do it count thing like u  bookstore and bulldog news   both of which have busy espresso operation   nor do it count ice cream stand   and i be sure i be miss something   this be all just offhand         talk  ',\n",
       " 'actually   undue weight can also result in zero weight     as it be the whole issue be insinuation and extrapolation of give event     just because the article do not outright say that edwards be the father because there be no father list   it be quite clear that this be the intent     now   editor familiar with i consider i to be a fnc fanboy and appolgist regard conservative and republican   so my objection to this be clearly not a partisan point of view     that say this be in violation of several wp policy  ',\n",
       " 'i find it under chronological list of pc engine game   i think the release date on that page be for japan   since there be a seperate list of turbografx    game   the change you make be ok though   since i see ign have it list that way  ',\n",
       " '     i agree     fundamentally   whether you take it as a pill or through a patch or a ring   the key be that it be hormonal   so that should be the main article     at that point   oral contraceptive should either redirect to hormononal contraception   unle there be sufficient material to justify its existence      ',\n",
       " 'that be so desterbe because of when i have to do a project in school i have to explain it be not bill gates from    year ago',\n",
       " 'the source be a local guide book   how do we source that  ',\n",
       " 'chill out   inty  s my mate',\n",
       " 'a tale of a tub on the main page    hey   geogre   check it out   do you know that a tale of a tub will be feature on the main page on sunday         talk                  nov        utc  ',\n",
       " 'add c   class   i would like to add b   class but question raise in talk page  ',\n",
       " '    no problem   thank for let i know       talk    ',\n",
       " 'batman     i be batman   you be spiderman   i win  ',\n",
       " 'geometry of love   good day   can you search some source for article geometry of love   probably this article contain interesting fact for dyk  ',\n",
       " 'exactly   i remove the section   again   before i notice this posting   chen    ',\n",
       " '      please unblock and delete page    i request that you unblock my     talk page     and immediately and permanently delete the content of it   you be free to permanently block i from contribute to wikipedia   as i have no intention of do so in any case   if you would like a reason to block i   or prove that i have violate the rule   you need not preserve the talk page   here be another deliberate   intentionally provocative violation of the rule   an old   school personal insult      you be a loathsome   sanctimonious   hypocritical   ignorant twit   if you be in state of uncontrolled combustion   i would not take the trouble to extinguish the flame by urinate on they      i hope that be satisfactory      ',\n",
       " 'that be true with the first edit   however the second one be an honest mistake  ',\n",
       " 'that be be the problem face this article as well     i would love to see this get to feature article status   but i keep run into the fact that there be not really a whole lot of good verifiable info out there that be easily available   nor be it easy to come by a picture that be usable   though i suspect the one or two know image of he would fall under fair use       there be a couple of   website out there that basically regurgitate section from mcgregor  s book     there be a certain irony in the fact that a guy who labor in anonymous solitude most of his life on a project he love dearly die destitute and be not make several other people rather wealthy    ',\n",
       " 'you be a funney man  ',\n",
       " 'furthermore   any threat make to block individual add and or edit well research information   would directly negate the sole intention of wikipedia itself  ',\n",
       " 'wikipedia be full of fool   who take money and make people work for free     wikipedia       you might as well ban i   you fool   what be take so long   wiki be a stupid place   it be jimbo  s cult  ',\n",
       " 'they seem to be reliable enough for this topic anyways   it be not like many major news source be go to be cover the thing that these site cover                ',\n",
       " '     in response to your feedback    yoa can not do it by yourself   see wikipedia   change username            ',\n",
       " '     that be your opinion   and what be your proof that i be anti   newsom   whether you support he or not he do have a gay porn day and violate state law by issue     gay marriage     license   in contradiction to state law   these be fact   not slander or fiction      ',\n",
       " '    that admission beg the question     be it well to punish adolescent boy if they be go to engage in bully behaviour here   or extend they welcome          talk   ',\n",
       " '      french   speaker and paris        can anybody explain this       french   speaker concentrate heavily on cultural life in paris       what do it mean             sep             utc    ',\n",
       " 'why be you change the somali people wiki                         seriously                   that page be biased to one clan   i added a more diverse representation of somali people      you stupid criminal  ',\n",
       " 'davkal   i agree with you   but would suggest that you do not discuss it or gloat because you know he will likely come back and start harass agagin     apparently just a few hour after he leave someone bit his head off on his talk page about a comment he leave in an article    ',\n",
       " '      thank    thank for the tip buddy     walkie   talkie     ky highway page    i be currently clean up the page   please do not edit it   thank     let us go mets   stats     your first barnstar          style   border    px solid gray   background   color     fdffe           rowspan         valign   middle          rowspan              style   font   size   x   large   pad       vertical   align   middle   height      em         the tireless contributor barnstar         style   vertical   align   middle   border   top    px solid gray         i hereby award bigrtex the tireless contributor barnstar due to his outstanding amount of high quality edit   hikaru  ',\n",
       " 'transistor     the transistor page do not have a principle of operation section   because    a the physicist know about it but do not want to share it   b they just do not know how it work    i be think about it and come up with a fairly decent concept of how it work   i put it on wiki   i think the guy get jealous   and here i be   discuss pretty much nothing      ps   and my language be pathetic   you naughty naughty boy     i ll eat you         ',\n",
       " 'i like to see it in print   since it be be list for day now without an url  ',\n",
       " '  the propose deletion process   because of the follow concern     wikipedia should not be use as a place for guide or a walk through      all contribution be appreciate   but this article may not satisfy wikipedia  s criterion for inclusion   and the deletion notice should explain why   see also     what wikipedia be not     and wikipedia  s deletion policy       you may prevent the propose deletion by remove the   notice   but please explain why you disagree with the propose deletion in your edit summary or on its talk page      please consider improve the article to address the issue raise because   even though remove the deletion notice will prevent deletion through the propose deletion process   the article may still be delete if it match any of the speedy deletion criterion or it can be send to articles for deletion   where it may be delete if consensus to delete be reach       ',\n",
       " '    hmmm   there be a way to do this   i  ll see if i can remember what the code be   gabsadd  ',\n",
       " '     this article already exist see liger   pro  ',\n",
       " 'feather    there be no citation as to how a quill look in the past   therefore   it be opinion only  ',\n",
       " 'bakan    why be abbie bakan even mention in this article     base on the worthless rag of hers which be cite as a source in this article   she be nothing but a shill for lenin and the rest of the commie gang     in that rag   she not only show egregious pro   communist bias   but do not even bother to check the fact   much less look at the cause of the kronstadt rebellion or even cite reliable historical source on that subject     she also discredit herself with absurd accusation of a white conspiracy to overthrow the soviet government and even of the rebellion be motivate by anti   semitic racism among the sailor     furthermore   all the claim make in that rag be base on a case of beg the question   that is   since lenin  s communist regime be good   major premise   and the kronstadt rebellion harm say regime   minor premise     suppress the rebellion be justify     last but not least   the mere fact that the aforementioned rag be first publish by a self   admit socialist party by definition mean that this source do not meet either wp   npov or wp   rs     if such source continue to be use in wikipedia article   the whole project will soon turn into commiepedia                 ',\n",
       " 'message on talk page during an afd    place message on user talk page such as   and   in the hope of gain support be an unacceptable practice which   agin   hinder the afd process  ',\n",
       " 'trivium    i would advise you to look the word up in a good dictionary   jay   mr townsley  s marriage into an important business dynasty be obviously noteworthy   which be why it be note   prominently in the article link to   cheer  ',\n",
       " 'might i remind you that this be the english language wikipedia   and you have no great precedence here than i do   perhaps you should think of go to edit the ja wikipedia   and take your aggressive attitude with you   especially since your only problem be with the example name   which be easily fix     you be clearly incapable of appreciate the improvement i make in english   so perhaps you be not the good person to judge                 ',\n",
       " '     speedy deletion of david fork    a tag have be place on david fork request that it be speedily delete from wikipedia   this have be do under section a  of the criterion for speedy deletion   because it be a very short article provide little or no context to the reader   please see wikipedia   stub for our minimum information standard for short article   also please note that article must be on notable subject and should provide reference to reliable source that verify their content      if you think that this notice be place here in error   you may contest the deletion by add   to the top of the page   just below the exist speedy deletion or     db     tag     couple with add a note on the talk page explain your position   but be aware that once tag for speedy deletion   if the article meet the criterion it may be delete without delay   please do not remove the speedy deletion tag yourself   but do not hesitate to add information to the article that would would render it more in conformance with wikipedia  s policy and guideline      what do u want       ',\n",
       " '    your suggestion of edit the article be completely workable and be work as per wikipedia guideline until jayjg and slimvirgin start delete large relevant chunk of the article   and revert it to what we have now   as punitive gesture     if we can all agree to concentrate on make the article well   instead of punish each other   there be no reason the article have to be lock     i agree that we should start with an extremely innocuous definition preamble statement we can all agree on     however   a definition do not do anyone any good unless it convey some sort of information     if there be just one word that we could all agree be associate with terrorism   that would be well than no definition at all       intimidate     for instance       ',\n",
       " 'speak without know what i be talk about   ok   how  bout this   the original comment i make about everlast  s entry constantly be vandalize by eminem fan be write a month ago before your dumb ass get involve with the site   the feud start with the dilated peoples track   that be why i believe that the verse everlast contribute should be in there   and still do     the jab take back and forth after that deserve a synopsis only   your idiotic little comment about album sale be excessive and unnecessary   it belong in there no more than the fact that everyone who know both artist agree that if they ever get into it   everlast would knock the live shit outta eminem   and that come off an eminem fan site  ',\n",
       " 'our talk archives                ',\n",
       " '     speedy deletion of spunga    a tag have be place on spunga   request that it be speedily delete from wikipedia   this have be do under section g  of the criterion for speedy deletion   because the article appear to be a repost of material that be previously delete follow a deletion debate   such as at article for deletion   under the specify criterion   where an article have substantially identical content to that of an article delete after debate   and any change in the content do not address the reason for which the material be previously delete   it may be delete at any time      if you think that this notice be place here in error   you may contest the deletion by add   to the top of the page   just below the exist speedy deletion or     db     tag     couple with add a note on the article  s talk page explain your position   but be aware that once tag for speedy deletion   if the article meet the criterion it may be delete without delay   please do not remove the speedy deletion tag yourself   but do not hesitate to add information to the article that would would render it more in conformance with wikipedia  s policy and guideline       talk      ',\n",
       " 'plus   you have to be a natural bear citizen     which i be go to assume   be not   but who care anyway  ',\n",
       " 'unblock for the last time   ok   now do not fuck up   i mean that in the good possible way     good luck and good night  ',\n",
       " '    i understand your position and think that your point be perfectly valid   however   i do not deem     ia i   chi in u     a creation of wikipedia   even with the lack of historical source for that effect in the english language   i  ll think more about this tomorrow   thank you for explain your position to i with such accurate detail   good regard   nd  ',\n",
       " 'you studid cock sucker u stop callin i ok its a frank garrett eatin the worm crawl outa your mom pussy you fucking retardo hit i retardo',\n",
       " 'thank    user talk   biggity     be there any constructive edit   indef block   perhaps   mahalo  ',\n",
       " '  for anyone interested in accurate   not deliberately misleading   information about the     ten   string guitar       i e  not the garbage that will no doubt soon be present here     see www myspace com tenstringguitar         tthough my temporary site have now be hide   remove from google search listing by some shady dealing   the truth will prevail         ',\n",
       " '    you say       i be determined that the page will not regress to this again   and i will delete anything inappropriate that jeopardize the good progess that be now be make   a completely inappropriate post in the middle of a sensitive discussion threaten to do just that         the problem be that you be not the sole arbiter of this   or any   talk page   the post be innocuous and do not violate the condition of the arbitration decision   nor do it affect the flow of discussion on the page   in fact the most appropriate response would have be to just ignore it     by remove it you just encourage a reaction     you accuse i of wikilawyering   which be absurd   the guideline be there to help we all   however   not only do you violate that guideline   but also several policy     it be this kind of heavy handed action that encourage people to persist with problem edit   it be a long   stand convention that we do not remove other user post and in my three year here i have never see it do when it be not vandalism     unless you can give i a much well reason for not do so   i be go to reinstate the delete text              ',\n",
       " 'the glourious people  s republic of china have carry out a survey of the great wall   it be no surprise that chinese invention such as the wall exist to this day   one day our great wall will stretch all the way around the world   anyway   let us add detail of our dear government  s survey  ',\n",
       " 'fisherqueen   would you kindly stop follow my every move and delete thing off my user page   have not you get anything well to do than piss people off on wikipedia  ',\n",
       " '     so jim burton   child molest faggot   i see you be still with we for yet another day   make a total buffoon out of yourself as usual     i do not know what be sad here   you   or the extreme hypocritical arrogance you show by lecture the world about     ethical principle     for your claim     right     to abuse our child     you have no ethical principle to save your life   but it be exactly as the roman poet say   be not it       the harlot doth always rebuke the chaste         will you ever drop dead   we might all breathe a little easy for our kid sake   you truly disgust i with every word you write      ',\n",
       " '    have read will beback   i already change the structure   separate     someone be     view over he into separate section   i suggest   far restructure welcome   and detail per section later     ',\n",
       " 'nevermind   the   have assimilate those puppy     sorry for the bother   cheese   wine',\n",
       " 'i fix the link   it take all of about   second   now leave it or i will report you to the administrator  ',\n",
       " 'as i have tell   they be not deliberate personal attack   in my belief   my message have be interpret wrongly although i asume good faith in post they   as i have mention that',\n",
       " '      please do not remove content from page without explanation   as you do with this edit to vole   if you continue to do so   you will be block from editing      royal court  ',\n",
       " 'delete american criminal category    it be incredible to i that the fact of this article might lead some misguided soul to think this be what the american criminal category be for     there be a lively discussion at the category  s talk page about what should be in the category   but even the most expansive reading of the category do not countenance this  ',\n",
       " 'millinos of hunjan look at hunjan template not just i other hunjan will fight back   your concept of art bull of shit                      tharkarn and what waste man  ',\n",
       " '  just to add kansas bear   when i say          you make the elementry mistake of call it a treaty when it be in fact a congrass        be because as you leave out as usual my post in which you regard the three deligation as have be pressent at the treaty o arass with papal meditiation   the treaty of arass be a private treaty only between the deligation of burgundy and france and make a military alliance in      again we be debatte on the burgundian recognition stop change the subject   you clearly be give fallactious statement and i feel your post be utterly questionable   if you happend to remeber a month ago we both agree the congrass and treaty of arass be different   i correct your statement when you regard the three deligation as bieng pressent at the treaty of arass   p s stop with your childish personal attack   i aqske you to give source regard that burgundy do not recognize henry as king of france but you give ref regard the treaty of arass and mix up the post   if you can not handle the fact that burgundy recognise henry as king of france then i have already revert you on the dual   monarchy article   you should be ashamed of your fallactious remark nd utterly questionable unsourced fact      ',\n",
       " '        er               use two username to vote more than once in a poll     i have no idea what you be talk about   i have not use an username and i have never vote in any poll           i can not be a vandal as i have not vandalise anything   i may have add content which you   or someone else   do not agree   this be not vandalism   the correct reponse be discussion and debate to achieve a conscensus         again i be not a sockpuppet or a puppetmaster   i have be fully open that i be the same person   by wikipedia  s defintion i be not a sockpuppet or puppermaster   you may wnat to use a different defintion but that be just your opinion and mudslinging     hardly appropriate for an administrator      ',\n",
       " 'raffaele  s request for a lawyer while be interrogate on nov    be refuse   as be his request that he be allow to call his father   page        amanda be deny food   water   bathroom break and nap during the all night interrogation on nov           page        wikid   actually   now look at murder in italy   i see that there be a ton of additional information about both amanda and raffaele  s interrogation that could be include   so i will work on list all that in more detail tomorrow  ',\n",
       " 'yes   i like the suggestion also   it look pretty good   and by lead into the next sentence about the bering strait crossing   it conform to the rest of the article since later on we get more detail on the prehistoric migrator   i  ll just edit yee  s suggestion in  ',\n",
       " 'seriously   alex   your article be on the edge of be delete   there be no one at the deletion discussion argue for its be keep   if you want any hope of keep this article online   instead of spend your time edit the talk page   click on this link to go to the deletion discussion and make your argument  ',\n",
       " '  fu ck ing trollreason',\n",
       " 'some day   you and i be go to remember this and laugh       ha ha ha ha ha         never forget   i have incredible power   i be more powerful than you can possibly imagine      let i just close       this conversation by bid you a fond farewell    ',\n",
       " 'you  ve probably notice the table faction approach   if you could keep an eye out for more game   central information on in   game faction and then update the table   that would be great   i be base it off of a similar table in the a   class age of empires iii   which show the sort of information to go for without fall into the gameguide trap  ',\n",
       " '      sr   cl      u bud bin a   way   like long time like time outa mind long     gooood shit but mo   latah an dat     soon az ah gitz back heah sum a de brotherz   n sistahs   sez     hance dead or alive     we be about to send a zion ranger to check on his condition         ah sez     whoa   lead i gib he a holler         dis i hollerin bro     de zion rangerz be dem dat do most a   de walkin tru wallz     not all but most   de wall walkin dude ain going to do r bro no harm   he jes be checkin      ee   ben so a gentle remindah kum fuhst     u be readin i d  a leedle postin a dis   n dat go down good     doan fohget to cut sum zzzz aftah a tad a postin     sleep good   n doan fergit ta dream   sumptin might kum jes ta bdh all wrapt roun wid delta wave   n a kupla otha   carrierz what we diz   cuss latah   chow   bro    ',\n",
       " 'you do not call i neither   maybe we miss the once in a lifetime chance to see we       talk  ',\n",
       " '    as you do   to the henry david thoreau page        it be consider vandalism   if you would like to experiment   use the sandbox   thank you  ',\n",
       " '  rather crude ancestor of the vaccine      the source be a biography of louis xvi     louis xvi le roi bienfaisant       jean de viguerie   on the various   and often contradictory   influence of the french government prior to the revolution     where a section be devoted to the innoculation of the royal family   and make note of how the intendant of franche comte have finance physician to do it through his province   and how it be later use by washington on his continental army       the truth   he actually die on december      it even say so in a book that i have        fact about george washington      george washington own over        acre of land         washington live in new york and phildelphia during his preidency   the precede unsigned comment be add by                        ga in zh wikipedia    please add     link ga zh     in interwiki section   thank       ',\n",
       " '     the objectionable textbook material        the ad refer to a controversy in wheaton school in the early      surround a series of textbook call     impression           they also contain some writing that some parent believe featured theme of the occult   witchcraft   violence and disrespect for parental authority        here be a discussion of one of the offending piece   a yarn call     a wart snake in a fig tree     which be a kind of a pardody of   the twelve day of christmas   but with creepy   crawlie and spider and snake and stuff   a wart snake in a fig tree i wonder what roskam  s stance on harry potter and holloween be        ',\n",
       " '     no   i do not mean point i at a biographical article   though that would be good too       i mean answer right here on the discussion page     what town be you bear in     which school do you go to     also   regard     over the top       i disagree   i think the article could do with quite a bit more expansion   as could the article of the other individual you mention     as for     great living magician       i have to admit i would never hear those name     how be you judge that   say   max maven be well than a david copperfield     be it by award   industry press   or just personal opinion of their technique       ',\n",
       " '    okay   but only if they be truly not need   same sort of criticism   praise   no quote   etc   thank you       talk  ',\n",
       " '    haha   you be fine   i mean   you be allow to do it   but i be just selfish   i guess      i really appreciate your kindness   though   and i really respect that you ask   because when other signature that be borrow   no one let i know or give i any credit   so i feel badly that since you ask   you would feel really badly about do it now   haha   but i can help you figure out a nice one or pick out some fun color   have a great day   and happy wikying      ',\n",
       " 'leave i alone      i tell you already to leave i alone why can not you fuck off and do your own fucking thing   or do you find that hound i be amusing   i d u do then you be a mothafuckin asshole and i will ban you  ',\n",
       " '      bloc voting    countries with large population of non   national may have their televote influence considerably   this have be cite as the reason for apparent bloc voting in the balkan country of the former yugoslavia          this be full   blow crazy   what do     non   national     mean   these country have similar culture and speak the same language   the star in croatia be popular in serbia and vice versa   people be national of their country in the large proportion in each of those country   there be some refugee in each of those country   but that do not really explain why croatia would always give the high no    of pt to serbia   or macedonia to serbia   where there be no conflict to speak of     for example   i be a bosnian serb and i vote for a croatian or a serbian song be not unusual   but i be not a bosnian non   national   i have the passport of bih   and my family have never live in serbia in history   it be really about mutual intelligibility   which be why scandinavian bloc vote for each other all the time   it be the language and sensibility    ',\n",
       " '      peta be not a self   publish source       please explain how the peta website be not     self   publish            ',\n",
       " '      please do not vandalize page   as you do with this edit to morrissey   if you continue to do so   you will be block from editing      impala       ',\n",
       " '       august        utc      there be no wp   rs to affirm the veracity of di  s doubtful claim either     that is   you have no wp   rs either way     therefore it be not a verifiable fact that picard   or any of the other     original signer   consent to or agree with the di  s publish interpretation or political position vis   a   vis pbs or any other subsequent political purpose regard what should or should not be teach in school      all you have on verifiable record be that the     original signer call for skeptical examination of the evidence for scientific theory     di  s unverifiable claim which fraudulently spin that into consensual agreement or support for their interpretation or political agenda be not a fact under the rule of wikipedia       all the rest of di  s propaganda be utter hogwash fraudulently perpetrate by the di without the verifiably demonstrate consent of the original     individual      in view of the wp   blp     do no harm     clause   the unverified claim of the di must not be promote to fact and any content to that effect must be immediately expunge   per the wp   blp              ',\n",
       " 'email    thank for your email about the message you receive from guyovski   i receive a similar   though not openly threaten   email from guyovski as well  ',\n",
       " 'it be a fabrication with intent to defame   that be not the point here   it belong in the dan savage article  ',\n",
       " 'perhaps overlook in the discussion of steve moore  s credential be another aspect of the newsweek article   by say that knox  s supporter have hurt she by express their opinion   nadeau have effectively state that the decision of the italian court will be   or have be   influence by anger and anti   american sentiment rather than the evidence alone   i do not know if nadeau  s experience in italy qualify she to make such an assessment   but take she as a rs to make that statement would be as great an insult to italian jurisprudence as anything knox  s supporter have say   i wholly concur with pablo  s opinion that the piece have no place in the article  ',\n",
       " '      other attraction    what be a     water place     and     animal place           ',\n",
       " '    i fear jossi may be correct   if watts   who   btw   die in        say this about rawat   he probably mean it as praise   i e  the emphasis would have be on     sacred       judge from my knowledge of watts   oeuvre   he be rather anti   intellectual himself        ',\n",
       " 'ooooh   well can you fix it   because it look a mess right now and i do not think it be certify in switzerland yet   so new zealand and australia should just be there  ',\n",
       " 'omg i love dch       who do not             i love pac sun      ',\n",
       " 'i  ve remove it   it contribute nothing to the article  ',\n",
       " '  hi   writingrights   welcome to wikipedia      i hope you like this place   i sure do   and want to stay   before get too in   depth   you may want to read about the five pillar of wikipedia and simplified ruleset   if you need help on how to title new article check out the name convention   and for help on format the page visit the manual of style   if you need help look at wikipedia   help and the faq   plus if you can not find your answer there   check the village pump   for wikipedia related question   or the reference desk   for general question     there be still more help at the tutorial and policy library   plus   do not forget to visit the community portal   and if you have any more question after that   feel free to post they on my user talk page or place     helpme     on your talk page and someone will be by to help you shortly     tab   additional tip   tabtab   here be some extra tip to help you get around in the   pedia     if you want to play around with your new wiki skill the sandbox be for you   tab   you can sign your name use three tilde         if you use four   you can add a datestamp too   five will get you the datestamp only     you may want to add yourself to the new user log   tab   if you ever think a page or image should be delete   please list it at the vote for deletion page   there be also a vote for undeletion page if you want to retrieve something that you think should not have be delete     if you be still entirely confused   or would like to get a well grasp of your wikipedia skill   and you have an irc client   or do not mind get one     check out the bootcamp   it be not what it sound like   but it be fun and can help you with your editing skill     if you be bored and want to find something to do   try the random page button in the sidebar   or check out the open task message in the community portal      happy wiki   ing     talk contrib     click here to respond to this message    ',\n",
       " 'it be common knowledge that karaims   but not karaite jews   boast descent from khazars   but what they do not realize be that we believe the            on   oq   whence come   mix with carian mercenary from caphtor and kolhkis   our khazar ancestor be in fact the remnant of the lose ten   tribes of israel who form our priesthood   it be precisely for this reason that karaite jewish scholar like jacob ben reuben of byzanteum and yefet ben ali or jeshua ben judah call we bastard in their writing      the follow editor  ',\n",
       " '     april        utc     then rewrite and expand the article   i would much rather have a full article   than a bad article with a full template   as for william  s edit   i be not go to vote on a content matter at this time   i have never look at this article before you send i the link   so i be not equip to choose one version over another   my vote be purely on the layout   aesthetic of include the template   maybe later when i  ve spend more time with an unfamiliar article   i can make a statement about the content          ',\n",
       " '  i be try to inject some humour   as evidence by my winky face   in this ridiculous   overblown   and unnecessarily dramatic situation   if you take the time to familiarize yourself with the situation   you would see that the person i insult be attack my cite and factual contribution by actively censor they no explanation   which i retaliate with by insult he   i think that his conduct be insult   worthy at the time   as would any sane individual who be not familiar with wikipedia  s     no   insult     rule   however i have since realize that what i do be wrong because this site do not allow for harsh word   which be why i will not use they again even if they be use against i   which they be during this ordeal      wikipedia be the place for i because my edit be constructive and bring a great knowledge to the subject  s topic   but   the fact that i insult another user in the edit summary be regrettable   and i know that now      if you seriously think the edit link above constitute a     better     insult    ',\n",
       " 'this title should redirect to altona   hamburg   i w d change it but at the moment there be too many link for i to bother  ',\n",
       " ...]"
      ]
     },
     "execution_count": 10,
     "metadata": {},
     "output_type": "execute_result"
    }
   ],
   "source": [
    "lemm_texts"
   ]
  },
  {
   "cell_type": "code",
   "execution_count": 11,
   "metadata": {},
   "outputs": [],
   "source": [
    "df['lemm_text'] = pd.Series(lemm_texts)"
   ]
  },
  {
   "cell_type": "code",
   "execution_count": 12,
   "metadata": {},
   "outputs": [
    {
     "data": {
      "text/html": [
       "<div>\n",
       "<style scoped>\n",
       "    .dataframe tbody tr th:only-of-type {\n",
       "        vertical-align: middle;\n",
       "    }\n",
       "\n",
       "    .dataframe tbody tr th {\n",
       "        vertical-align: top;\n",
       "    }\n",
       "\n",
       "    .dataframe thead th {\n",
       "        text-align: right;\n",
       "    }\n",
       "</style>\n",
       "<table border=\"1\" class=\"dataframe\">\n",
       "  <thead>\n",
       "    <tr style=\"text-align: right;\">\n",
       "      <th></th>\n",
       "      <th>toxic</th>\n",
       "      <th>lemm_text</th>\n",
       "    </tr>\n",
       "  </thead>\n",
       "  <tbody>\n",
       "    <tr>\n",
       "      <th>0</th>\n",
       "      <td>0</td>\n",
       "      <td>explanation   why the edit make under my usern...</td>\n",
       "    </tr>\n",
       "    <tr>\n",
       "      <th>1</th>\n",
       "      <td>0</td>\n",
       "      <td>d aww   he match this background colour i be s...</td>\n",
       "    </tr>\n",
       "    <tr>\n",
       "      <th>2</th>\n",
       "      <td>0</td>\n",
       "      <td>hey man   i be really not try to edit war   it...</td>\n",
       "    </tr>\n",
       "    <tr>\n",
       "      <th>3</th>\n",
       "      <td>0</td>\n",
       "      <td>more   i can not make any real suggestion ...</td>\n",
       "    </tr>\n",
       "    <tr>\n",
       "      <th>4</th>\n",
       "      <td>0</td>\n",
       "      <td>you   sir   be my hero   any chance you rememb...</td>\n",
       "    </tr>\n",
       "    <tr>\n",
       "      <th>...</th>\n",
       "      <td>...</td>\n",
       "      <td>...</td>\n",
       "    </tr>\n",
       "    <tr>\n",
       "      <th>159287</th>\n",
       "      <td>0</td>\n",
       "      <td>and for the second time of asking ...</td>\n",
       "    </tr>\n",
       "    <tr>\n",
       "      <th>159288</th>\n",
       "      <td>0</td>\n",
       "      <td>you should be ashamed of yourself    that be a...</td>\n",
       "    </tr>\n",
       "    <tr>\n",
       "      <th>159289</th>\n",
       "      <td>0</td>\n",
       "      <td>spitzer    umm   there s no actual article for...</td>\n",
       "    </tr>\n",
       "    <tr>\n",
       "      <th>159290</th>\n",
       "      <td>0</td>\n",
       "      <td>and it look like it be actually you who put on...</td>\n",
       "    </tr>\n",
       "    <tr>\n",
       "      <th>159291</th>\n",
       "      <td>0</td>\n",
       "      <td>and     i really do not think you understa...</td>\n",
       "    </tr>\n",
       "  </tbody>\n",
       "</table>\n",
       "<p>159292 rows × 2 columns</p>\n",
       "</div>"
      ],
      "text/plain": [
       "        toxic                                          lemm_text\n",
       "0           0  explanation   why the edit make under my usern...\n",
       "1           0  d aww   he match this background colour i be s...\n",
       "2           0  hey man   i be really not try to edit war   it...\n",
       "3           0      more   i can not make any real suggestion ...\n",
       "4           0  you   sir   be my hero   any chance you rememb...\n",
       "...       ...                                                ...\n",
       "159287      0              and for the second time of asking ...\n",
       "159288      0  you should be ashamed of yourself    that be a...\n",
       "159289      0  spitzer    umm   there s no actual article for...\n",
       "159290      0  and it look like it be actually you who put on...\n",
       "159291      0      and     i really do not think you understa...\n",
       "\n",
       "[159292 rows x 2 columns]"
      ]
     },
     "execution_count": 12,
     "metadata": {},
     "output_type": "execute_result"
    }
   ],
   "source": [
    "df = df.drop('text', axis=1)\n",
    "df"
   ]
  },
  {
   "cell_type": "code",
   "execution_count": 13,
   "metadata": {
    "scrolled": true
   },
   "outputs": [
    {
     "name": "stderr",
     "output_type": "stream",
     "text": [
      "[nltk_data] Downloading package stopwords to /home/jovyan/nltk_data...\n",
      "[nltk_data]   Package stopwords is already up-to-date!\n"
     ]
    },
    {
     "data": {
      "text/plain": [
       "True"
      ]
     },
     "execution_count": 13,
     "metadata": {},
     "output_type": "execute_result"
    }
   ],
   "source": [
    "nltk.download('stopwords')"
   ]
  },
  {
   "cell_type": "markdown",
   "metadata": {},
   "source": [
    "Далее делим на фичи и таргет (обучающая и тестовая выборки). После этого выполняем векторизацию. Для этого потребуется TfidfVectorizer(). \n",
    "\n",
    "На обучающей выборке обучаем и выполняем преобразованием, т. е. делаем .fit_transform(features_train), а на тестовой только преобразование, т. е. .transform(features_test)."
   ]
  },
  {
   "cell_type": "code",
   "execution_count": 14,
   "metadata": {},
   "outputs": [
    {
     "name": "stdout",
     "output_type": "stream",
     "text": [
      "(143362, 147653)\n",
      "(15930, 147653)\n"
     ]
    }
   ],
   "source": [
    "# Разделим выборку train, test \n",
    "# Уменьшим количество кроссвалидаций чтобы код не работал слишком медленно\n",
    "target = df['toxic']\n",
    "features = df.drop(['toxic'], axis=1)\n",
    "\n",
    "features_train, features_test, target_train, target_test = train_test_split(features, \n",
    "                                                                              target, \n",
    "                                                                              test_size=0.1, \n",
    "                                                                              random_state=12345)\n",
    "\n",
    "stopwords = set(nltk_stopwords.words('english'))\n",
    "\n",
    "count_tf_idf = TfidfVectorizer(stop_words=stopwords)\n",
    "\n",
    "features_train = count_tf_idf.fit_transform(features_train['lemm_text'].values)\n",
    "features_test = count_tf_idf.transform(features_test['lemm_text'].values) #  здесь фит не нужен так как это тестовая выборка\n",
    "print(features_train.shape)\n",
    "print(features_test.shape)\n",
    "my_cv = 2"
   ]
  },
  {
   "cell_type": "code",
   "execution_count": 15,
   "metadata": {},
   "outputs": [
    {
     "name": "stdout",
     "output_type": "stream",
     "text": [
      "F1 на CV 0.6964515715113593\n"
     ]
    }
   ],
   "source": [
    "classificator = LogisticRegression()\n",
    "f1 = cross_val_score(classificator, \n",
    "                      features_train, \n",
    "                      target_train, \n",
    "                      cv=my_cv, \n",
    "                      scoring='f1').mean()\n",
    "print('F1 на CV', f1)"
   ]
  },
  {
   "cell_type": "code",
   "execution_count": 16,
   "metadata": {},
   "outputs": [],
   "source": [
    "dict_classes={0:1, 1:class_ratio}"
   ]
  },
  {
   "cell_type": "markdown",
   "metadata": {},
   "source": [
    "**Вывод:**\n",
    "- данные лемметизированы;\n",
    "- выборки созданы;\n",
    "- результат F1 score - ниже нормы - сбалансируем данные."
   ]
  },
  {
   "cell_type": "markdown",
   "metadata": {},
   "source": [
    "**Вывод**\n",
    "\n",
    "На первом этапе произведена загрузка данных и их подготовка для обучения моделей. \n",
    "\n",
    "Датасет состоит из 2 столбцов \n",
    "\n",
    "text — текст комментария;\n",
    "\n",
    "toxic — является ли комментарий токсичным (1) или не таксичным (0)\n",
    "\n",
    "\n",
    "\n",
    "Cформированы обучающая и тестовая выборка.\n"
   ]
  },
  {
   "cell_type": "markdown",
   "metadata": {},
   "source": [
    "## Обучение"
   ]
  },
  {
   "cell_type": "markdown",
   "metadata": {},
   "source": [
    "\n",
    "В качестве моделей будем использовать Логистическую регрессию, DecisionTreeClassifier и CatBoost классификатор.\n",
    "\n"
   ]
  },
  {
   "cell_type": "markdown",
   "metadata": {},
   "source": [
    "### LogisticRegression"
   ]
  },
  {
   "cell_type": "code",
   "execution_count": 18,
   "metadata": {},
   "outputs": [
    {
     "name": "stderr",
     "output_type": "stream",
     "text": [
      "/opt/conda/lib/python3.9/site-packages/sklearn/linear_model/_logistic.py:763: ConvergenceWarning: lbfgs failed to converge (status=1):\n",
      "STOP: TOTAL NO. of ITERATIONS REACHED LIMIT.\n",
      "\n",
      "Increase the number of iterations (max_iter) or scale the data as shown in:\n",
      "    https://scikit-learn.org/stable/modules/preprocessing.html\n",
      "Please also refer to the documentation for alternative solver options:\n",
      "    https://scikit-learn.org/stable/modules/linear_model.html#logistic-regression\n",
      "  n_iter_i = _check_optimize_result(\n",
      "/opt/conda/lib/python3.9/site-packages/sklearn/linear_model/_logistic.py:763: ConvergenceWarning: lbfgs failed to converge (status=1):\n",
      "STOP: TOTAL NO. of ITERATIONS REACHED LIMIT.\n",
      "\n",
      "Increase the number of iterations (max_iter) or scale the data as shown in:\n",
      "    https://scikit-learn.org/stable/modules/preprocessing.html\n",
      "Please also refer to the documentation for alternative solver options:\n",
      "    https://scikit-learn.org/stable/modules/linear_model.html#logistic-regression\n",
      "  n_iter_i = _check_optimize_result(\n",
      "/opt/conda/lib/python3.9/site-packages/sklearn/linear_model/_logistic.py:763: ConvergenceWarning: lbfgs failed to converge (status=1):\n",
      "STOP: TOTAL NO. of ITERATIONS REACHED LIMIT.\n",
      "\n",
      "Increase the number of iterations (max_iter) or scale the data as shown in:\n",
      "    https://scikit-learn.org/stable/modules/preprocessing.html\n",
      "Please also refer to the documentation for alternative solver options:\n",
      "    https://scikit-learn.org/stable/modules/linear_model.html#logistic-regression\n",
      "  n_iter_i = _check_optimize_result(\n",
      "/opt/conda/lib/python3.9/site-packages/sklearn/linear_model/_logistic.py:763: ConvergenceWarning: lbfgs failed to converge (status=1):\n",
      "STOP: TOTAL NO. of ITERATIONS REACHED LIMIT.\n",
      "\n",
      "Increase the number of iterations (max_iter) or scale the data as shown in:\n",
      "    https://scikit-learn.org/stable/modules/preprocessing.html\n",
      "Please also refer to the documentation for alternative solver options:\n",
      "    https://scikit-learn.org/stable/modules/linear_model.html#logistic-regression\n",
      "  n_iter_i = _check_optimize_result(\n"
     ]
    },
    {
     "name": "stdout",
     "output_type": "stream",
     "text": [
      "Среднее F-меры на кросс-валидации: 0.7534015570346786\n",
      "CPU times: user 4min 42s, sys: 5min 41s, total: 10min 23s\n",
      "Wall time: 10min 24s\n"
     ]
    },
    {
     "name": "stderr",
     "output_type": "stream",
     "text": [
      "/opt/conda/lib/python3.9/site-packages/sklearn/linear_model/_logistic.py:763: ConvergenceWarning: lbfgs failed to converge (status=1):\n",
      "STOP: TOTAL NO. of ITERATIONS REACHED LIMIT.\n",
      "\n",
      "Increase the number of iterations (max_iter) or scale the data as shown in:\n",
      "    https://scikit-learn.org/stable/modules/preprocessing.html\n",
      "Please also refer to the documentation for alternative solver options:\n",
      "    https://scikit-learn.org/stable/modules/linear_model.html#logistic-regression\n",
      "  n_iter_i = _check_optimize_result(\n"
     ]
    }
   ],
   "source": [
    "%%time\n",
    "classificator = LogisticRegression(fit_intercept=True,  \n",
    "                                   random_state=12345,\n",
    "                                   class_weight=dict_classes)\n",
    "hyperparams = [{'solver':['newton-cg', 'lbfgs', 'liblinear'],\n",
    "                'C':[0.1, 1, 10]}]\n",
    "\n",
    "#Применяю GridSearchCV с кросс-валидацией\n",
    "regression_grid = GridSearchCV(classificator, hyperparams, scoring='f1', cv=my_cv)\n",
    "regression_grid.fit(features_train, target_train)\n",
    "\n",
    "classificator.fit(features_train, target_train)\n",
    "regression_cv_score = cross_val_score(classificator,features_train, target_train,scoring='f1',cv=my_cv).mean()\n",
    "print('Среднее F-меры на кросс-валидации:', regression_cv_score)\n"
   ]
  },
  {
   "cell_type": "code",
   "execution_count": 19,
   "metadata": {},
   "outputs": [
    {
     "name": "stdout",
     "output_type": "stream",
     "text": [
      "{'C': 10, 'solver': 'liblinear'}\n",
      "0.9226707383020007\n",
      "CPU times: user 57.4 ms, sys: 0 ns, total: 57.4 ms\n",
      "Wall time: 91.5 ms\n"
     ]
    }
   ],
   "source": [
    "%%time\n",
    "#посмотрим на лучшие параметры\n",
    "classificator_params = regression_grid.best_params_\n",
    "classificator_score = regression_grid.score(features_train, target_train)\n",
    "print(classificator_params)\n",
    "print(classificator_score)\n"
   ]
  },
  {
   "cell_type": "markdown",
   "metadata": {},
   "source": [
    "**Подитог**: Данная модель прошла минимальный порог F меры в 0,75 и пока нам подходит для рассмотрения."
   ]
  },
  {
   "cell_type": "markdown",
   "metadata": {},
   "source": [
    "**Результаты утешительные - смотрим дальше на следующие модели**"
   ]
  },
  {
   "cell_type": "markdown",
   "metadata": {},
   "source": [
    "### DecisionTreeClassifier"
   ]
  },
  {
   "cell_type": "code",
   "execution_count": 20,
   "metadata": {
    "scrolled": true
   },
   "outputs": [
    {
     "name": "stdout",
     "output_type": "stream",
     "text": [
      "# Гиперпараметры для f1_score\n",
      "\n",
      "Лучший набор параметров по данной модели:\n",
      "\n",
      "{'class_weight': {0: 1, 1: 8.841344371679229}, 'max_depth': 64, 'random_state': 12345}\n",
      "CPU times: user 5min 23s, sys: 3.88 s, total: 5min 26s\n",
      "Wall time: 5min 27s\n"
     ]
    }
   ],
   "source": [
    "%%time\n",
    "classificator = DecisionTreeClassifier()\n",
    "hyperparams = [{'max_depth':range(4, 70, 10),\n",
    "                'random_state':[12345],\n",
    "                'class_weight':[dict_classes]}]\n",
    "\n",
    "\n",
    "print('# Гиперпараметры для f1_score')\n",
    "print()\n",
    "clf = GridSearchCV(classificator, hyperparams, scoring='f1',cv=my_cv)\n",
    "clf.fit(features_train, target_train)\n",
    "print(\"Лучший набор параметров по данной модели:\")\n",
    "print()\n",
    "DTC_best_params = clf.best_params_\n",
    "print(DTC_best_params)\n"
   ]
  },
  {
   "cell_type": "code",
   "execution_count": 21,
   "metadata": {},
   "outputs": [
    {
     "name": "stdout",
     "output_type": "stream",
     "text": [
      "0.8292466664393139\n"
     ]
    }
   ],
   "source": [
    "classificator_score = clf.score(features_train, target_train)\n",
    "print(classificator_score)"
   ]
  },
  {
   "cell_type": "code",
   "execution_count": 22,
   "metadata": {},
   "outputs": [
    {
     "name": "stdout",
     "output_type": "stream",
     "text": [
      "Среднее F-меры на кросс-валидации: 0.6254178969900539\n",
      "CPU times: user 4min 14s, sys: 2.77 s, total: 4min 16s\n",
      "Wall time: 4min 17s\n"
     ]
    }
   ],
   "source": [
    "%%time\n",
    "regression_cv_score = cross_val_score(clf,features_train, target_train,scoring='f1',cv=my_cv).mean()\n",
    "print('Среднее F-меры на кросс-валидации:', regression_cv_score)"
   ]
  },
  {
   "cell_type": "code",
   "execution_count": 23,
   "metadata": {},
   "outputs": [],
   "source": [
    "# %%time\n",
    "# #Обучим DecisionTreeClassifier на оптимальных гиперпараметрах:\n",
    "\n",
    "\n",
    "# classificator = DecisionTreeClassifier(random_state=12345, class_weight=[dict_classes],\n",
    "#                                      max_depth=64)\n",
    "# classificator.fit(features_train, target_train)"
   ]
  },
  {
   "cell_type": "code",
   "execution_count": 24,
   "metadata": {},
   "outputs": [
    {
     "name": "stdout",
     "output_type": "stream",
     "text": [
      "\n",
      "Оценки гридсерч:\n",
      "\n",
      "0.238126 for {'class_weight': {0: 1, 1: 8.841344371679229}, 'max_depth': 4, 'random_state': 12345}\n",
      "0.605500 for {'class_weight': {0: 1, 1: 8.841344371679229}, 'max_depth': 14, 'random_state': 12345}\n",
      "0.594385 for {'class_weight': {0: 1, 1: 8.841344371679229}, 'max_depth': 24, 'random_state': 12345}\n",
      "0.613644 for {'class_weight': {0: 1, 1: 8.841344371679229}, 'max_depth': 34, 'random_state': 12345}\n",
      "0.618333 for {'class_weight': {0: 1, 1: 8.841344371679229}, 'max_depth': 44, 'random_state': 12345}\n",
      "0.628204 for {'class_weight': {0: 1, 1: 8.841344371679229}, 'max_depth': 54, 'random_state': 12345}\n",
      "0.634489 for {'class_weight': {0: 1, 1: 8.841344371679229}, 'max_depth': 64, 'random_state': 12345}\n",
      "\n"
     ]
    }
   ],
   "source": [
    "print()\n",
    "print(\"Оценки гридсерч:\")\n",
    "print()\n",
    "means = clf.cv_results_['mean_test_score']\n",
    "stds = clf.cv_results_['std_test_score']\n",
    "for mean, std, params in zip(means, stds, clf.cv_results_['params']):\n",
    "    print(\"%0.6f for %r\"% (mean, params))\n",
    "print()\n",
    "\n",
    "cv_f1_DTC = max(means)"
   ]
  },
  {
   "cell_type": "code",
   "execution_count": 25,
   "metadata": {},
   "outputs": [
    {
     "name": "stdout",
     "output_type": "stream",
     "text": [
      "F1 на cv 0.6344888840271425\n"
     ]
    }
   ],
   "source": [
    "classificator = DecisionTreeClassifier()\n",
    "classificator.set_params(**DTC_best_params)\n",
    "\n",
    "print('F1 на cv', cv_f1_DTC)"
   ]
  },
  {
   "cell_type": "markdown",
   "metadata": {},
   "source": [
    "**Подитог** Что усредненно что на лучшей моделе F1 мера ниже нормы - модель не подходит."
   ]
  },
  {
   "cell_type": "markdown",
   "metadata": {},
   "source": [
    "### CatBoostClassifier"
   ]
  },
  {
   "cell_type": "code",
   "execution_count": 1,
   "metadata": {},
   "outputs": [
    {
     "ename": "NameError",
     "evalue": "name 'CatBoostClassifier' is not defined",
     "output_type": "error",
     "traceback": [
      "\u001b[1;31m---------------------------------------------------------------------------\u001b[0m",
      "\u001b[1;31mNameError\u001b[0m                                 Traceback (most recent call last)",
      "\u001b[1;32m<timed exec>\u001b[0m in \u001b[0;36m<module>\u001b[1;34m\u001b[0m\n",
      "\u001b[1;31mNameError\u001b[0m: name 'CatBoostClassifier' is not defined"
     ]
    }
   ],
   "source": [
    "%%time\n",
    "classificator = CatBoostClassifier(verbose=False, iterations=100)\n",
    "classificator.fit(features_train, target_train)\n",
    "cv_f1_CBC = cross_val_score(classificator,\n",
    "                            features_train, \n",
    "                            target_train, \n",
    "                            cv=my_cv, \n",
    "                            scoring='f1').mean()\n",
    "\n",
    "print('F1 на cv', cv_f1_CBC)\n"
   ]
  },
  {
   "cell_type": "markdown",
   "metadata": {},
   "source": [
    "**Вывод**\n",
    "\n",
    "Как можно заметить худший результат показала модель DecisionTreeClassifier. \n",
    "\n",
    "Близка к нужному значение метрки F1 CatBoostClassifier с значение на кросвалидации 0.733 - но долгая и нужно подбирать параметры.\n",
    "\n",
    "Ввиду этого выбрана модель для проверки на тестовом наборе данных по скорости работы и качеству  : LogisticRegression"
   ]
  },
  {
   "cell_type": "markdown",
   "metadata": {},
   "source": [
    "### Проверка лучшей модели на тестовой выборке"
   ]
  },
  {
   "cell_type": "code",
   "execution_count": 34,
   "metadata": {},
   "outputs": [
    {
     "name": "stdout",
     "output_type": "stream",
     "text": [
      "CPU times: user 14 s, sys: 13.2 s, total: 27.2 s\n",
      "Wall time: 27.2 s\n"
     ]
    }
   ],
   "source": [
    "%%time\n",
    "regression_model = LogisticRegression(fit_intercept=True,\n",
    "                                class_weight='balanced',\n",
    "                                random_state=12345,\n",
    "                                solver='liblinear',\n",
    "                                C=classificator_params['C']\n",
    "                               )\n",
    "regression_model.fit(features_train, target_train)\n",
    "regression_model_predictions = regression_model.predict(features_test)"
   ]
  },
  {
   "cell_type": "code",
   "execution_count": 35,
   "metadata": {},
   "outputs": [
    {
     "name": "stdout",
     "output_type": "stream",
     "text": [
      "0.7667\n"
     ]
    }
   ],
   "source": [
    "regression_f1 = round(f1_score(target_test, regression_model_predictions), 4) \n",
    "print(regression_f1)"
   ]
  },
  {
   "cell_type": "markdown",
   "metadata": {},
   "source": [
    "#### Вывод: Логистическая регрессия полностью подходит , данное утерждение подтверждается проверкой на тестовой выборке."
   ]
  },
  {
   "cell_type": "markdown",
   "metadata": {},
   "source": [
    "## Выводы"
   ]
  },
  {
   "cell_type": "markdown",
   "metadata": {},
   "source": [
    "\n",
    "Было прделано:\n",
    "\n",
    "\n",
    "- Лемитизирован и очищен текст от ненужных символов \n",
    "- Cформированы обучающая и тестовая выборка.\n",
    "- Обучены модели и выбрана лучшая из них на кросвалидации.\n",
    "- Лучшая модель стала LogisticRegression - результат метрики F1 выше заданных в задаче 0.75 \n",
    "\n",
    "CatBoostClassifier может рабоать лучше но при большей кол-ве итераций и соответственно большем потраченном времени."
   ]
  }
 ],
 "metadata": {
  "ExecuteTimeLog": [
   {
    "duration": 1307,
    "start_time": "2023-07-05T20:41:48.886Z"
   },
   {
    "duration": 2516,
    "start_time": "2023-07-05T20:57:32.781Z"
   },
   {
    "duration": 4105,
    "start_time": "2023-07-05T20:58:03.639Z"
   },
   {
    "duration": 177,
    "start_time": "2023-07-05T20:58:26.319Z"
   },
   {
    "duration": 13,
    "start_time": "2023-07-05T20:58:39.600Z"
   },
   {
    "duration": 21,
    "start_time": "2023-07-05T20:59:04.224Z"
   },
   {
    "duration": 3,
    "start_time": "2023-07-05T21:00:13.322Z"
   },
   {
    "duration": 2453,
    "start_time": "2023-07-05T21:01:41.120Z"
   },
   {
    "duration": 27,
    "start_time": "2023-07-05T21:02:36.079Z"
   },
   {
    "duration": 3,
    "start_time": "2023-07-05T21:02:59.854Z"
   },
   {
    "duration": 7414,
    "start_time": "2023-07-05T21:03:00.388Z"
   },
   {
    "duration": 15,
    "start_time": "2023-07-05T21:03:14.221Z"
   },
   {
    "duration": 8510,
    "start_time": "2023-07-09T17:47:37.771Z"
   },
   {
    "duration": 3,
    "start_time": "2023-07-09T17:47:46.284Z"
   },
   {
    "duration": 3449,
    "start_time": "2023-07-09T17:47:46.289Z"
   },
   {
    "duration": 182,
    "start_time": "2023-07-09T17:47:49.741Z"
   },
   {
    "duration": 16,
    "start_time": "2023-07-09T17:47:49.926Z"
   },
   {
    "duration": 32,
    "start_time": "2023-07-09T17:47:49.945Z"
   },
   {
    "duration": 7,
    "start_time": "2023-07-09T17:47:49.980Z"
   },
   {
    "duration": 7849,
    "start_time": "2023-07-09T17:47:49.990Z"
   },
   {
    "duration": 123,
    "start_time": "2023-07-09T17:47:57.841Z"
   },
   {
    "duration": 0,
    "start_time": "2023-07-09T17:47:57.968Z"
   },
   {
    "duration": 0,
    "start_time": "2023-07-09T17:47:57.969Z"
   },
   {
    "duration": 0,
    "start_time": "2023-07-09T17:47:57.970Z"
   },
   {
    "duration": 0,
    "start_time": "2023-07-09T17:47:57.973Z"
   },
   {
    "duration": 0,
    "start_time": "2023-07-09T17:47:57.974Z"
   },
   {
    "duration": 0,
    "start_time": "2023-07-09T17:47:57.976Z"
   },
   {
    "duration": 0,
    "start_time": "2023-07-09T17:47:57.978Z"
   },
   {
    "duration": 0,
    "start_time": "2023-07-09T17:47:57.979Z"
   },
   {
    "duration": 0,
    "start_time": "2023-07-09T17:47:57.980Z"
   },
   {
    "duration": 0,
    "start_time": "2023-07-09T17:47:57.982Z"
   },
   {
    "duration": 11,
    "start_time": "2023-07-09T19:26:21.868Z"
   },
   {
    "duration": 176,
    "start_time": "2023-07-09T19:32:53.228Z"
   },
   {
    "duration": 3,
    "start_time": "2023-07-09T19:34:01.580Z"
   },
   {
    "duration": 16,
    "start_time": "2023-07-09T19:34:04.678Z"
   },
   {
    "duration": 176,
    "start_time": "2023-07-09T19:39:23.750Z"
   },
   {
    "duration": 15,
    "start_time": "2023-07-09T19:39:26.621Z"
   },
   {
    "duration": 13,
    "start_time": "2023-07-09T19:47:13.726Z"
   },
   {
    "duration": 2061,
    "start_time": "2023-07-09T19:47:30.264Z"
   },
   {
    "duration": 15,
    "start_time": "2023-07-09T19:48:25.425Z"
   },
   {
    "duration": 2049,
    "start_time": "2023-07-09T19:48:29.668Z"
   },
   {
    "duration": 1950,
    "start_time": "2023-07-09T19:48:43.049Z"
   },
   {
    "duration": 10480,
    "start_time": "2023-07-09T19:50:47.979Z"
   },
   {
    "duration": 2,
    "start_time": "2023-07-09T19:50:58.462Z"
   },
   {
    "duration": 3527,
    "start_time": "2023-07-09T19:50:58.466Z"
   },
   {
    "duration": 219,
    "start_time": "2023-07-09T19:51:01.995Z"
   },
   {
    "duration": 13,
    "start_time": "2023-07-09T19:51:02.216Z"
   },
   {
    "duration": 92,
    "start_time": "2023-07-09T19:51:02.231Z"
   },
   {
    "duration": 51,
    "start_time": "2023-07-09T19:51:02.325Z"
   },
   {
    "duration": 7437,
    "start_time": "2023-07-09T19:51:02.378Z"
   },
   {
    "duration": 5,
    "start_time": "2023-07-09T19:51:09.817Z"
   },
   {
    "duration": 12708,
    "start_time": "2023-07-09T19:51:09.823Z"
   },
   {
    "duration": 3,
    "start_time": "2023-07-09T19:51:22.534Z"
   },
   {
    "duration": 17,
    "start_time": "2023-07-09T19:51:22.539Z"
   },
   {
    "duration": 2214,
    "start_time": "2023-07-09T19:51:22.558Z"
   },
   {
    "duration": 0,
    "start_time": "2023-07-09T19:51:24.775Z"
   },
   {
    "duration": 0,
    "start_time": "2023-07-09T19:51:24.777Z"
   },
   {
    "duration": 0,
    "start_time": "2023-07-09T19:51:24.778Z"
   },
   {
    "duration": 0,
    "start_time": "2023-07-09T19:51:24.779Z"
   },
   {
    "duration": 0,
    "start_time": "2023-07-09T19:51:24.781Z"
   },
   {
    "duration": 0,
    "start_time": "2023-07-09T19:51:24.782Z"
   },
   {
    "duration": 47914,
    "start_time": "2023-07-09T19:51:48.775Z"
   },
   {
    "duration": 47917,
    "start_time": "2023-07-09T19:53:17.561Z"
   },
   {
    "duration": 41213,
    "start_time": "2023-07-09T19:54:39.960Z"
   },
   {
    "duration": 43210,
    "start_time": "2023-07-09T19:56:35.372Z"
   },
   {
    "duration": 31219,
    "start_time": "2023-07-09T19:58:00.152Z"
   },
   {
    "duration": 32599,
    "start_time": "2023-07-09T20:00:14.786Z"
   },
   {
    "duration": 52,
    "start_time": "2023-07-09T20:03:00.061Z"
   },
   {
    "duration": 69,
    "start_time": "2023-07-09T20:03:10.952Z"
   },
   {
    "duration": 60,
    "start_time": "2023-07-09T20:03:15.110Z"
   },
   {
    "duration": 2,
    "start_time": "2023-07-09T20:03:37.181Z"
   },
   {
    "duration": 670,
    "start_time": "2023-07-09T20:03:37.469Z"
   },
   {
    "duration": 25499,
    "start_time": "2023-07-09T20:05:28.176Z"
   },
   {
    "duration": 7491,
    "start_time": "2023-07-09T20:08:38.255Z"
   },
   {
    "duration": 3,
    "start_time": "2023-07-09T20:08:45.749Z"
   },
   {
    "duration": 3319,
    "start_time": "2023-07-09T20:08:45.754Z"
   },
   {
    "duration": 170,
    "start_time": "2023-07-09T20:08:49.075Z"
   },
   {
    "duration": 23,
    "start_time": "2023-07-09T20:08:49.247Z"
   },
   {
    "duration": 16,
    "start_time": "2023-07-09T20:08:49.273Z"
   },
   {
    "duration": 23,
    "start_time": "2023-07-09T20:08:49.290Z"
   },
   {
    "duration": 7299,
    "start_time": "2023-07-09T20:08:49.315Z"
   },
   {
    "duration": 5,
    "start_time": "2023-07-09T20:08:56.617Z"
   },
   {
    "duration": 11875,
    "start_time": "2023-07-09T20:08:56.624Z"
   },
   {
    "duration": 71186,
    "start_time": "2023-07-09T20:09:08.501Z"
   },
   {
    "duration": 0,
    "start_time": "2023-07-09T20:10:19.689Z"
   },
   {
    "duration": 0,
    "start_time": "2023-07-09T20:10:19.691Z"
   },
   {
    "duration": 0,
    "start_time": "2023-07-09T20:10:19.692Z"
   },
   {
    "duration": 0,
    "start_time": "2023-07-09T20:10:19.693Z"
   },
   {
    "duration": 0,
    "start_time": "2023-07-09T20:10:19.694Z"
   },
   {
    "duration": 0,
    "start_time": "2023-07-09T20:10:19.695Z"
   },
   {
    "duration": 0,
    "start_time": "2023-07-09T20:10:19.697Z"
   },
   {
    "duration": 0,
    "start_time": "2023-07-09T20:10:19.698Z"
   },
   {
    "duration": 0,
    "start_time": "2023-07-09T20:10:19.700Z"
   },
   {
    "duration": 0,
    "start_time": "2023-07-09T20:10:19.701Z"
   },
   {
    "duration": 0,
    "start_time": "2023-07-09T20:10:19.702Z"
   },
   {
    "duration": 0,
    "start_time": "2023-07-09T20:10:19.703Z"
   },
   {
    "duration": 72794,
    "start_time": "2023-07-09T20:11:32.696Z"
   },
   {
    "duration": 62402,
    "start_time": "2023-07-09T20:12:45.492Z"
   },
   {
    "duration": 38700,
    "start_time": "2023-07-09T20:13:47.895Z"
   },
   {
    "duration": 3,
    "start_time": "2023-07-09T20:14:26.597Z"
   },
   {
    "duration": 936,
    "start_time": "2023-07-09T20:14:26.602Z"
   },
   {
    "duration": 20237,
    "start_time": "2023-07-09T20:14:27.540Z"
   },
   {
    "duration": 87997,
    "start_time": "2023-07-09T20:15:06.686Z"
   },
   {
    "duration": 98977,
    "start_time": "2023-07-09T20:16:46.800Z"
   },
   {
    "duration": 0,
    "start_time": "2023-07-09T20:18:25.895Z"
   },
   {
    "duration": 113,
    "start_time": "2023-07-09T20:18:45.866Z"
   },
   {
    "duration": 248,
    "start_time": "2023-07-09T20:19:03.258Z"
   },
   {
    "duration": 112,
    "start_time": "2023-07-09T20:19:22.883Z"
   },
   {
    "duration": 120,
    "start_time": "2023-07-09T20:19:48.434Z"
   },
   {
    "duration": 107,
    "start_time": "2023-07-09T20:20:07.589Z"
   },
   {
    "duration": 15,
    "start_time": "2023-07-09T20:20:26.571Z"
   },
   {
    "duration": 11,
    "start_time": "2023-07-09T20:20:42.860Z"
   },
   {
    "duration": 16,
    "start_time": "2023-07-09T20:27:36.529Z"
   },
   {
    "duration": 3,
    "start_time": "2023-07-09T20:28:08.323Z"
   },
   {
    "duration": 377407,
    "start_time": "2023-07-09T20:28:11.143Z"
   },
   {
    "duration": 29,
    "start_time": "2023-07-09T20:34:28.552Z"
   },
   {
    "duration": 36333,
    "start_time": "2023-07-09T20:34:28.584Z"
   },
   {
    "duration": 15,
    "start_time": "2023-07-09T20:35:48.129Z"
   },
   {
    "duration": 129,
    "start_time": "2023-07-09T20:36:10.745Z"
   },
   {
    "duration": 3600,
    "start_time": "2023-07-09T20:52:52.405Z"
   },
   {
    "duration": 2,
    "start_time": "2023-07-09T20:52:56.007Z"
   },
   {
    "duration": 855,
    "start_time": "2023-07-09T20:52:56.013Z"
   },
   {
    "duration": 161,
    "start_time": "2023-07-09T20:52:56.869Z"
   },
   {
    "duration": 12,
    "start_time": "2023-07-09T20:52:57.032Z"
   },
   {
    "duration": 26,
    "start_time": "2023-07-09T20:52:57.046Z"
   },
   {
    "duration": 19,
    "start_time": "2023-07-09T20:52:57.074Z"
   },
   {
    "duration": 7442,
    "start_time": "2023-07-09T20:52:57.095Z"
   },
   {
    "duration": 5,
    "start_time": "2023-07-09T20:53:04.540Z"
   },
   {
    "duration": 11617,
    "start_time": "2023-07-09T20:53:04.547Z"
   },
   {
    "duration": 68210,
    "start_time": "2023-07-09T20:53:16.167Z"
   },
   {
    "duration": 59424,
    "start_time": "2023-07-09T20:54:24.379Z"
   },
   {
    "duration": 34580,
    "start_time": "2023-07-09T20:55:23.805Z"
   },
   {
    "duration": 3,
    "start_time": "2023-07-09T20:55:58.386Z"
   },
   {
    "duration": 970,
    "start_time": "2023-07-09T20:55:58.390Z"
   },
   {
    "duration": 17326,
    "start_time": "2023-07-09T20:55:59.362Z"
   },
   {
    "duration": 104399,
    "start_time": "2023-07-09T20:56:16.690Z"
   },
   {
    "duration": 12,
    "start_time": "2023-07-09T20:58:01.170Z"
   },
   {
    "duration": 3116,
    "start_time": "2023-07-09T20:58:01.184Z"
   },
   {
    "duration": 0,
    "start_time": "2023-07-09T20:58:04.302Z"
   },
   {
    "duration": 0,
    "start_time": "2023-07-09T20:58:04.303Z"
   },
   {
    "duration": 0,
    "start_time": "2023-07-09T20:58:04.305Z"
   },
   {
    "duration": 0,
    "start_time": "2023-07-09T20:58:04.306Z"
   },
   {
    "duration": 0,
    "start_time": "2023-07-09T20:58:04.307Z"
   },
   {
    "duration": 0,
    "start_time": "2023-07-09T20:58:04.309Z"
   },
   {
    "duration": 0,
    "start_time": "2023-07-09T20:58:04.310Z"
   },
   {
    "duration": 0,
    "start_time": "2023-07-09T20:58:04.311Z"
   },
   {
    "duration": 0,
    "start_time": "2023-07-09T20:58:04.312Z"
   },
   {
    "duration": 0,
    "start_time": "2023-07-09T20:58:04.313Z"
   },
   {
    "duration": 0,
    "start_time": "2023-07-09T20:58:04.314Z"
   },
   {
    "duration": 0,
    "start_time": "2023-07-09T20:58:04.315Z"
   },
   {
    "duration": 0,
    "start_time": "2023-07-09T20:58:04.317Z"
   },
   {
    "duration": 0,
    "start_time": "2023-07-09T20:58:04.318Z"
   },
   {
    "duration": 380072,
    "start_time": "2023-07-09T20:58:55.963Z"
   },
   {
    "duration": 42701,
    "start_time": "2023-07-09T21:05:16.037Z"
   },
   {
    "duration": 67,
    "start_time": "2023-07-09T21:05:58.740Z"
   },
   {
    "duration": 3721,
    "start_time": "2023-07-09T21:22:44.104Z"
   },
   {
    "duration": 2,
    "start_time": "2023-07-09T21:22:47.828Z"
   },
   {
    "duration": 903,
    "start_time": "2023-07-09T21:22:47.832Z"
   },
   {
    "duration": 177,
    "start_time": "2023-07-09T21:22:48.737Z"
   },
   {
    "duration": 12,
    "start_time": "2023-07-09T21:22:48.916Z"
   },
   {
    "duration": 16,
    "start_time": "2023-07-09T21:22:48.929Z"
   },
   {
    "duration": 22,
    "start_time": "2023-07-09T21:22:48.946Z"
   },
   {
    "duration": 7772,
    "start_time": "2023-07-09T21:22:48.981Z"
   },
   {
    "duration": 25,
    "start_time": "2023-07-09T21:22:56.755Z"
   },
   {
    "duration": 13177,
    "start_time": "2023-07-09T21:22:56.783Z"
   },
   {
    "duration": 3782,
    "start_time": "2023-07-09T21:23:15.110Z"
   },
   {
    "duration": 4,
    "start_time": "2023-07-09T21:23:18.894Z"
   },
   {
    "duration": 931,
    "start_time": "2023-07-09T21:23:18.900Z"
   },
   {
    "duration": 176,
    "start_time": "2023-07-09T21:23:19.833Z"
   },
   {
    "duration": 11,
    "start_time": "2023-07-09T21:23:20.012Z"
   },
   {
    "duration": 33,
    "start_time": "2023-07-09T21:23:20.024Z"
   },
   {
    "duration": 50,
    "start_time": "2023-07-09T21:23:20.059Z"
   },
   {
    "duration": 7430,
    "start_time": "2023-07-09T21:23:20.110Z"
   },
   {
    "duration": 4,
    "start_time": "2023-07-09T21:23:27.543Z"
   },
   {
    "duration": 12469,
    "start_time": "2023-07-09T21:23:27.548Z"
   },
   {
    "duration": 73968,
    "start_time": "2023-07-09T21:23:40.019Z"
   },
   {
    "duration": 66702,
    "start_time": "2023-07-09T21:24:53.989Z"
   },
   {
    "duration": 36599,
    "start_time": "2023-07-09T21:26:00.693Z"
   },
   {
    "duration": 3,
    "start_time": "2023-07-09T21:26:37.295Z"
   },
   {
    "duration": 996,
    "start_time": "2023-07-09T21:26:37.300Z"
   },
   {
    "duration": 20479,
    "start_time": "2023-07-09T21:26:38.298Z"
   },
   {
    "duration": 110305,
    "start_time": "2023-07-09T21:26:58.780Z"
   },
   {
    "duration": 11,
    "start_time": "2023-07-09T21:28:49.168Z"
   },
   {
    "duration": 374452,
    "start_time": "2023-07-09T21:28:49.182Z"
   },
   {
    "duration": 37216,
    "start_time": "2023-07-09T21:35:03.636Z"
   },
   {
    "duration": 56,
    "start_time": "2023-07-09T21:35:40.854Z"
   },
   {
    "duration": 166254,
    "start_time": "2023-07-09T21:35:40.912Z"
   },
   {
    "duration": 47184,
    "start_time": "2023-07-09T21:38:27.177Z"
   },
   {
    "duration": 82819,
    "start_time": "2023-07-09T21:39:14.362Z"
   },
   {
    "duration": 0,
    "start_time": "2023-07-09T21:40:37.183Z"
   },
   {
    "duration": 0,
    "start_time": "2023-07-09T21:40:37.184Z"
   },
   {
    "duration": 150995,
    "start_time": "2023-07-09T21:40:49.151Z"
   },
   {
    "duration": 598592,
    "start_time": "2023-07-09T21:43:44.985Z"
   },
   {
    "duration": 14,
    "start_time": "2023-07-09T21:54:38.883Z"
   },
   {
    "duration": 12,
    "start_time": "2023-07-09T21:55:00.120Z"
   },
   {
    "duration": 37050,
    "start_time": "2023-07-09T21:55:18.010Z"
   },
   {
    "duration": 4061,
    "start_time": "2023-07-09T22:30:28.676Z"
   },
   {
    "duration": 1794,
    "start_time": "2023-07-10T05:45:26.971Z"
   },
   {
    "duration": 1786,
    "start_time": "2023-07-10T05:46:39.131Z"
   },
   {
    "duration": 9,
    "start_time": "2023-07-10T06:08:22.938Z"
   },
   {
    "duration": 56,
    "start_time": "2023-07-10T06:21:17.000Z"
   },
   {
    "duration": 6,
    "start_time": "2023-07-10T06:21:22.098Z"
   },
   {
    "duration": 3600,
    "start_time": "2023-07-10T06:21:25.238Z"
   },
   {
    "duration": 660,
    "start_time": "2023-07-10T06:21:28.840Z"
   },
   {
    "duration": 389,
    "start_time": "2023-07-10T06:23:01.083Z"
   },
   {
    "duration": 368,
    "start_time": "2023-07-10T06:23:08.548Z"
   },
   {
    "duration": 374,
    "start_time": "2023-07-10T06:23:13.621Z"
   },
   {
    "duration": 425,
    "start_time": "2023-07-10T06:23:27.676Z"
   },
   {
    "duration": 368,
    "start_time": "2023-07-10T06:23:41.452Z"
   },
   {
    "duration": 355,
    "start_time": "2023-07-10T06:25:26.050Z"
   },
   {
    "duration": 377,
    "start_time": "2023-07-10T06:26:06.526Z"
   },
   {
    "duration": 540,
    "start_time": "2023-07-10T06:26:56.350Z"
   },
   {
    "duration": 793,
    "start_time": "2023-07-10T06:27:04.208Z"
   },
   {
    "duration": 808,
    "start_time": "2023-07-10T06:27:14.044Z"
   },
   {
    "duration": 756,
    "start_time": "2023-07-10T06:27:31.859Z"
   },
   {
    "duration": 716,
    "start_time": "2023-07-10T06:27:49.601Z"
   },
   {
    "duration": 3084,
    "start_time": "2023-07-10T06:30:56.750Z"
   },
   {
    "duration": 907,
    "start_time": "2023-07-10T06:30:59.837Z"
   },
   {
    "duration": 0,
    "start_time": "2023-07-10T06:32:45.509Z"
   },
   {
    "duration": 0,
    "start_time": "2023-07-10T06:32:45.511Z"
   },
   {
    "duration": 0,
    "start_time": "2023-07-10T06:32:45.512Z"
   },
   {
    "duration": 0,
    "start_time": "2023-07-10T06:32:45.513Z"
   },
   {
    "duration": 0,
    "start_time": "2023-07-10T06:32:45.514Z"
   },
   {
    "duration": 0,
    "start_time": "2023-07-10T06:32:45.515Z"
   },
   {
    "duration": 0,
    "start_time": "2023-07-10T06:32:45.516Z"
   },
   {
    "duration": 0,
    "start_time": "2023-07-10T06:32:45.517Z"
   },
   {
    "duration": 0,
    "start_time": "2023-07-10T06:32:45.518Z"
   },
   {
    "duration": 0,
    "start_time": "2023-07-10T06:32:45.520Z"
   },
   {
    "duration": 0,
    "start_time": "2023-07-10T06:32:45.521Z"
   },
   {
    "duration": 0,
    "start_time": "2023-07-10T06:32:45.522Z"
   },
   {
    "duration": 0,
    "start_time": "2023-07-10T06:32:45.524Z"
   },
   {
    "duration": 0,
    "start_time": "2023-07-10T06:32:45.525Z"
   },
   {
    "duration": 0,
    "start_time": "2023-07-10T06:32:49.323Z"
   },
   {
    "duration": 0,
    "start_time": "2023-07-10T06:32:49.324Z"
   },
   {
    "duration": 0,
    "start_time": "2023-07-10T06:32:49.326Z"
   },
   {
    "duration": 0,
    "start_time": "2023-07-10T06:32:49.326Z"
   },
   {
    "duration": 0,
    "start_time": "2023-07-10T06:32:49.327Z"
   },
   {
    "duration": 0,
    "start_time": "2023-07-10T06:32:49.328Z"
   },
   {
    "duration": 0,
    "start_time": "2023-07-10T06:32:49.334Z"
   },
   {
    "duration": 3271,
    "start_time": "2023-07-10T06:32:53.703Z"
   },
   {
    "duration": 976,
    "start_time": "2023-07-10T06:32:56.976Z"
   },
   {
    "duration": 2570,
    "start_time": "2023-07-10T06:32:57.954Z"
   },
   {
    "duration": 0,
    "start_time": "2023-07-10T06:33:00.527Z"
   },
   {
    "duration": 0,
    "start_time": "2023-07-10T06:33:00.528Z"
   },
   {
    "duration": 0,
    "start_time": "2023-07-10T06:33:00.530Z"
   },
   {
    "duration": 0,
    "start_time": "2023-07-10T06:33:00.531Z"
   },
   {
    "duration": 0,
    "start_time": "2023-07-10T06:33:00.533Z"
   },
   {
    "duration": 0,
    "start_time": "2023-07-10T06:33:00.534Z"
   },
   {
    "duration": 0,
    "start_time": "2023-07-10T06:33:00.536Z"
   },
   {
    "duration": 0,
    "start_time": "2023-07-10T06:33:00.537Z"
   },
   {
    "duration": 0,
    "start_time": "2023-07-10T06:33:00.539Z"
   },
   {
    "duration": 0,
    "start_time": "2023-07-10T06:33:00.540Z"
   },
   {
    "duration": 0,
    "start_time": "2023-07-10T06:33:00.542Z"
   },
   {
    "duration": 0,
    "start_time": "2023-07-10T06:33:00.544Z"
   },
   {
    "duration": 0,
    "start_time": "2023-07-10T06:33:00.545Z"
   },
   {
    "duration": 0,
    "start_time": "2023-07-10T06:33:00.546Z"
   },
   {
    "duration": 0,
    "start_time": "2023-07-10T06:33:00.548Z"
   },
   {
    "duration": 0,
    "start_time": "2023-07-10T06:33:00.550Z"
   },
   {
    "duration": 0,
    "start_time": "2023-07-10T06:33:00.551Z"
   },
   {
    "duration": 0,
    "start_time": "2023-07-10T06:33:00.552Z"
   },
   {
    "duration": 0,
    "start_time": "2023-07-10T06:33:00.554Z"
   },
   {
    "duration": 0,
    "start_time": "2023-07-10T06:33:00.556Z"
   },
   {
    "duration": 1679,
    "start_time": "2023-07-10T06:34:23.344Z"
   },
   {
    "duration": 4088,
    "start_time": "2023-07-10T06:35:05.187Z"
   },
   {
    "duration": 883,
    "start_time": "2023-07-10T06:35:09.277Z"
   },
   {
    "duration": 3140,
    "start_time": "2023-07-10T06:36:08.988Z"
   },
   {
    "duration": 895,
    "start_time": "2023-07-10T06:36:12.133Z"
   },
   {
    "duration": 215,
    "start_time": "2023-07-10T06:36:13.032Z"
   },
   {
    "duration": 0,
    "start_time": "2023-07-10T06:36:13.250Z"
   },
   {
    "duration": 0,
    "start_time": "2023-07-10T06:36:13.252Z"
   },
   {
    "duration": 0,
    "start_time": "2023-07-10T06:36:13.259Z"
   },
   {
    "duration": 0,
    "start_time": "2023-07-10T06:36:13.261Z"
   },
   {
    "duration": 0,
    "start_time": "2023-07-10T06:36:13.262Z"
   },
   {
    "duration": 0,
    "start_time": "2023-07-10T06:36:13.264Z"
   },
   {
    "duration": 0,
    "start_time": "2023-07-10T06:36:13.265Z"
   },
   {
    "duration": 0,
    "start_time": "2023-07-10T06:36:13.266Z"
   },
   {
    "duration": 0,
    "start_time": "2023-07-10T06:36:13.267Z"
   },
   {
    "duration": 0,
    "start_time": "2023-07-10T06:36:13.269Z"
   },
   {
    "duration": 0,
    "start_time": "2023-07-10T06:36:13.270Z"
   },
   {
    "duration": 0,
    "start_time": "2023-07-10T06:36:13.271Z"
   },
   {
    "duration": 0,
    "start_time": "2023-07-10T06:36:13.273Z"
   },
   {
    "duration": 0,
    "start_time": "2023-07-10T06:36:13.274Z"
   },
   {
    "duration": 0,
    "start_time": "2023-07-10T06:36:13.276Z"
   },
   {
    "duration": 0,
    "start_time": "2023-07-10T06:36:13.277Z"
   },
   {
    "duration": 0,
    "start_time": "2023-07-10T06:36:13.279Z"
   },
   {
    "duration": 0,
    "start_time": "2023-07-10T06:36:13.281Z"
   },
   {
    "duration": 0,
    "start_time": "2023-07-10T06:36:13.282Z"
   },
   {
    "duration": 0,
    "start_time": "2023-07-10T06:36:13.283Z"
   },
   {
    "duration": 428,
    "start_time": "2023-07-10T06:37:34.003Z"
   },
   {
    "duration": 250,
    "start_time": "2023-07-10T06:39:11.076Z"
   },
   {
    "duration": 6174,
    "start_time": "2023-07-10T06:39:22.486Z"
   },
   {
    "duration": 275,
    "start_time": "2023-07-10T06:43:55.755Z"
   },
   {
    "duration": 149,
    "start_time": "2023-07-10T06:44:39.886Z"
   },
   {
    "duration": 201,
    "start_time": "2023-07-10T06:44:53.976Z"
   },
   {
    "duration": 144,
    "start_time": "2023-07-10T06:46:53.673Z"
   },
   {
    "duration": 15,
    "start_time": "2023-07-10T06:47:00.859Z"
   },
   {
    "duration": 11,
    "start_time": "2023-07-10T06:49:42.874Z"
   },
   {
    "duration": 17,
    "start_time": "2023-07-10T06:49:52.589Z"
   },
   {
    "duration": 14531,
    "start_time": "2023-07-10T07:16:55.662Z"
   },
   {
    "duration": 315,
    "start_time": "2023-07-10T07:18:00.202Z"
   },
   {
    "duration": 873,
    "start_time": "2023-07-10T07:34:22.308Z"
   },
   {
    "duration": 25,
    "start_time": "2023-07-10T07:34:25.950Z"
   },
   {
    "duration": 763,
    "start_time": "2023-07-10T07:34:26.934Z"
   },
   {
    "duration": 1160,
    "start_time": "2023-07-10T07:41:43.253Z"
   },
   {
    "duration": 931,
    "start_time": "2023-07-10T07:42:10.693Z"
   },
   {
    "duration": 150,
    "start_time": "2023-07-10T07:53:29.898Z"
   },
   {
    "duration": 3,
    "start_time": "2023-07-10T07:53:36.913Z"
   },
   {
    "duration": 564,
    "start_time": "2023-07-10T07:53:41.435Z"
   },
   {
    "duration": 604,
    "start_time": "2023-07-10T07:53:56.642Z"
   },
   {
    "duration": 7,
    "start_time": "2023-07-10T07:54:04.236Z"
   },
   {
    "duration": 14782,
    "start_time": "2023-07-10T07:54:55.774Z"
   },
   {
    "duration": 24,
    "start_time": "2023-07-10T08:08:16.328Z"
   },
   {
    "duration": 2990,
    "start_time": "2023-07-10T08:08:54.998Z"
   },
   {
    "duration": 22,
    "start_time": "2023-07-10T08:09:09.590Z"
   },
   {
    "duration": 838605,
    "start_time": "2023-07-10T08:09:16.917Z"
   },
   {
    "duration": 25,
    "start_time": "2023-07-10T08:31:48.025Z"
   },
   {
    "duration": 1559848,
    "start_time": "2023-07-10T09:33:20.677Z"
   },
   {
    "duration": 0,
    "start_time": "2023-07-10T09:59:20.528Z"
   },
   {
    "duration": 145,
    "start_time": "2023-07-10T09:59:28.399Z"
   },
   {
    "duration": 142,
    "start_time": "2023-07-10T09:59:36.126Z"
   },
   {
    "duration": 143,
    "start_time": "2023-07-10T09:59:40.716Z"
   },
   {
    "duration": 150,
    "start_time": "2023-07-10T09:59:44.688Z"
   },
   {
    "duration": 32,
    "start_time": "2023-07-10T10:03:23.820Z"
   },
   {
    "duration": 29,
    "start_time": "2023-07-10T10:03:40.521Z"
   },
   {
    "duration": 16487,
    "start_time": "2023-07-10T10:06:33.789Z"
   },
   {
    "duration": 304770,
    "start_time": "2023-07-10T10:07:07.271Z"
   },
   {
    "duration": 357450,
    "start_time": "2023-07-10T10:12:41.889Z"
   },
   {
    "duration": 910789,
    "start_time": "2023-07-10T10:18:47.713Z"
   },
   {
    "duration": 284,
    "start_time": "2023-07-10T10:34:30.260Z"
   },
   {
    "duration": 12684,
    "start_time": "2023-07-10T10:34:32.830Z"
   },
   {
    "duration": 808,
    "start_time": "2023-07-10T10:34:45.518Z"
   },
   {
    "duration": 6104,
    "start_time": "2023-07-10T10:34:50.196Z"
   },
   {
    "duration": 12016,
    "start_time": "2023-07-10T10:34:56.303Z"
   },
   {
    "duration": 916,
    "start_time": "2023-07-10T10:35:08.322Z"
   },
   {
    "duration": 182,
    "start_time": "2023-07-10T10:35:09.241Z"
   },
   {
    "duration": 12,
    "start_time": "2023-07-10T10:35:09.424Z"
   },
   {
    "duration": 41,
    "start_time": "2023-07-10T10:35:09.437Z"
   },
   {
    "duration": 5,
    "start_time": "2023-07-10T10:35:09.481Z"
   },
   {
    "duration": 1826,
    "start_time": "2023-07-10T10:35:09.488Z"
   },
   {
    "duration": 0,
    "start_time": "2023-07-10T10:35:11.318Z"
   },
   {
    "duration": 0,
    "start_time": "2023-07-10T10:35:11.319Z"
   },
   {
    "duration": 0,
    "start_time": "2023-07-10T10:35:11.320Z"
   },
   {
    "duration": 0,
    "start_time": "2023-07-10T10:35:11.322Z"
   },
   {
    "duration": 0,
    "start_time": "2023-07-10T10:35:11.323Z"
   },
   {
    "duration": 0,
    "start_time": "2023-07-10T10:35:11.325Z"
   },
   {
    "duration": 0,
    "start_time": "2023-07-10T10:35:11.326Z"
   },
   {
    "duration": 0,
    "start_time": "2023-07-10T10:35:11.327Z"
   },
   {
    "duration": 0,
    "start_time": "2023-07-10T10:35:11.329Z"
   },
   {
    "duration": 0,
    "start_time": "2023-07-10T10:35:11.331Z"
   },
   {
    "duration": 0,
    "start_time": "2023-07-10T10:35:11.332Z"
   },
   {
    "duration": 0,
    "start_time": "2023-07-10T10:35:11.335Z"
   },
   {
    "duration": 0,
    "start_time": "2023-07-10T10:35:11.336Z"
   },
   {
    "duration": 0,
    "start_time": "2023-07-10T10:35:11.337Z"
   },
   {
    "duration": 0,
    "start_time": "2023-07-10T10:35:11.339Z"
   },
   {
    "duration": 0,
    "start_time": "2023-07-10T10:35:11.343Z"
   },
   {
    "duration": 0,
    "start_time": "2023-07-10T10:35:11.345Z"
   },
   {
    "duration": 0,
    "start_time": "2023-07-10T10:35:11.347Z"
   },
   {
    "duration": 0,
    "start_time": "2023-07-10T10:35:11.348Z"
   },
   {
    "duration": 0,
    "start_time": "2023-07-10T10:35:11.350Z"
   },
   {
    "duration": 0,
    "start_time": "2023-07-10T10:35:11.352Z"
   },
   {
    "duration": 8250,
    "start_time": "2023-07-10T10:36:59.937Z"
   },
   {
    "duration": 7,
    "start_time": "2023-07-10T10:37:17.689Z"
   },
   {
    "duration": 7507,
    "start_time": "2023-07-10T10:37:20.600Z"
   },
   {
    "duration": 10551,
    "start_time": "2023-07-10T10:37:44.906Z"
   },
   {
    "duration": 87998,
    "start_time": "2023-07-10T10:38:06.895Z"
   },
   {
    "duration": 106524,
    "start_time": "2023-07-10T10:39:34.896Z"
   },
   {
    "duration": 54879,
    "start_time": "2023-07-10T10:41:21.422Z"
   },
   {
    "duration": 1514,
    "start_time": "2023-07-10T10:42:16.304Z"
   },
   {
    "duration": 35586,
    "start_time": "2023-07-10T10:42:17.820Z"
   },
   {
    "duration": 43669,
    "start_time": "2023-07-10T10:42:53.408Z"
   },
   {
    "duration": 0,
    "start_time": "2023-07-10T10:43:37.083Z"
   },
   {
    "duration": 0,
    "start_time": "2023-07-10T10:43:37.086Z"
   },
   {
    "duration": 3229,
    "start_time": "2023-07-10T10:43:38.404Z"
   },
   {
    "duration": 3571,
    "start_time": "2023-07-10T10:46:21.911Z"
   },
   {
    "duration": 2779,
    "start_time": "2023-07-10T10:47:27.273Z"
   },
   {
    "duration": 6001,
    "start_time": "2023-07-10T10:48:28.206Z"
   },
   {
    "duration": 11576,
    "start_time": "2023-07-10T10:48:34.210Z"
   },
   {
    "duration": 960,
    "start_time": "2023-07-10T10:48:45.789Z"
   },
   {
    "duration": 171,
    "start_time": "2023-07-10T10:48:46.760Z"
   },
   {
    "duration": 27,
    "start_time": "2023-07-10T10:48:46.933Z"
   },
   {
    "duration": 25,
    "start_time": "2023-07-10T10:48:46.963Z"
   },
   {
    "duration": 1037,
    "start_time": "2023-07-10T10:48:46.990Z"
   },
   {
    "duration": 0,
    "start_time": "2023-07-10T10:48:48.030Z"
   },
   {
    "duration": 0,
    "start_time": "2023-07-10T10:48:48.032Z"
   },
   {
    "duration": 0,
    "start_time": "2023-07-10T10:48:48.034Z"
   },
   {
    "duration": 0,
    "start_time": "2023-07-10T10:48:48.036Z"
   },
   {
    "duration": 0,
    "start_time": "2023-07-10T10:48:48.037Z"
   },
   {
    "duration": 0,
    "start_time": "2023-07-10T10:48:48.039Z"
   },
   {
    "duration": 0,
    "start_time": "2023-07-10T10:48:48.041Z"
   },
   {
    "duration": 0,
    "start_time": "2023-07-10T10:48:48.042Z"
   },
   {
    "duration": 0,
    "start_time": "2023-07-10T10:48:48.044Z"
   },
   {
    "duration": 0,
    "start_time": "2023-07-10T10:48:48.045Z"
   },
   {
    "duration": 0,
    "start_time": "2023-07-10T10:48:48.047Z"
   },
   {
    "duration": 0,
    "start_time": "2023-07-10T10:48:48.048Z"
   },
   {
    "duration": 0,
    "start_time": "2023-07-10T10:48:48.049Z"
   },
   {
    "duration": 0,
    "start_time": "2023-07-10T10:48:48.051Z"
   },
   {
    "duration": 0,
    "start_time": "2023-07-10T10:48:48.052Z"
   },
   {
    "duration": 0,
    "start_time": "2023-07-10T10:48:48.053Z"
   },
   {
    "duration": 0,
    "start_time": "2023-07-10T10:48:48.055Z"
   },
   {
    "duration": 0,
    "start_time": "2023-07-10T10:48:48.056Z"
   },
   {
    "duration": 0,
    "start_time": "2023-07-10T10:48:48.058Z"
   },
   {
    "duration": 0,
    "start_time": "2023-07-10T10:48:48.059Z"
   },
   {
    "duration": 633,
    "start_time": "2023-07-10T10:52:12.729Z"
   },
   {
    "duration": 2029,
    "start_time": "2023-07-10T10:52:14.656Z"
   },
   {
    "duration": 577,
    "start_time": "2023-07-10T10:55:39.780Z"
   },
   {
    "duration": 15966,
    "start_time": "2023-07-10T11:27:53.986Z"
   },
   {
    "duration": 1544,
    "start_time": "2023-07-10T11:28:18.893Z"
   },
   {
    "duration": 9432,
    "start_time": "2023-07-10T11:29:35.571Z"
   },
   {
    "duration": 183,
    "start_time": "2023-07-10T12:28:13.010Z"
   },
   {
    "duration": 12975,
    "start_time": "2023-07-10T12:28:16.190Z"
   },
   {
    "duration": 824,
    "start_time": "2023-07-10T12:28:29.177Z"
   },
   {
    "duration": 157,
    "start_time": "2023-07-10T12:28:30.579Z"
   },
   {
    "duration": 19,
    "start_time": "2023-07-10T12:28:40.462Z"
   },
   {
    "duration": 15,
    "start_time": "2023-07-10T12:28:43.222Z"
   },
   {
    "duration": 559,
    "start_time": "2023-07-10T12:28:47.821Z"
   },
   {
    "duration": 1518,
    "start_time": "2023-07-10T12:28:52.157Z"
   },
   {
    "duration": 5748,
    "start_time": "2023-07-10T12:29:14.395Z"
   },
   {
    "duration": 10819,
    "start_time": "2023-07-10T12:29:20.147Z"
   },
   {
    "duration": 995,
    "start_time": "2023-07-10T12:29:30.972Z"
   },
   {
    "duration": 170,
    "start_time": "2023-07-10T12:29:31.978Z"
   },
   {
    "duration": 31,
    "start_time": "2023-07-10T12:29:32.151Z"
   },
   {
    "duration": 49,
    "start_time": "2023-07-10T12:29:32.184Z"
   },
   {
    "duration": 610,
    "start_time": "2023-07-10T12:29:32.235Z"
   },
   {
    "duration": 2145,
    "start_time": "2023-07-10T12:29:32.847Z"
   },
   {
    "duration": 0,
    "start_time": "2023-07-10T12:29:34.995Z"
   },
   {
    "duration": 0,
    "start_time": "2023-07-10T12:29:34.997Z"
   },
   {
    "duration": 0,
    "start_time": "2023-07-10T12:29:34.998Z"
   },
   {
    "duration": 0,
    "start_time": "2023-07-10T12:29:35.000Z"
   },
   {
    "duration": 0,
    "start_time": "2023-07-10T12:29:35.001Z"
   },
   {
    "duration": 0,
    "start_time": "2023-07-10T12:29:35.003Z"
   },
   {
    "duration": 0,
    "start_time": "2023-07-10T12:29:35.005Z"
   },
   {
    "duration": 0,
    "start_time": "2023-07-10T12:29:35.006Z"
   },
   {
    "duration": 0,
    "start_time": "2023-07-10T12:29:35.008Z"
   },
   {
    "duration": 0,
    "start_time": "2023-07-10T12:29:35.009Z"
   },
   {
    "duration": 0,
    "start_time": "2023-07-10T12:29:35.011Z"
   },
   {
    "duration": 0,
    "start_time": "2023-07-10T12:29:35.012Z"
   },
   {
    "duration": 0,
    "start_time": "2023-07-10T12:29:35.014Z"
   },
   {
    "duration": 0,
    "start_time": "2023-07-10T12:29:35.016Z"
   },
   {
    "duration": 0,
    "start_time": "2023-07-10T12:29:35.017Z"
   },
   {
    "duration": 0,
    "start_time": "2023-07-10T12:29:35.019Z"
   },
   {
    "duration": 0,
    "start_time": "2023-07-10T12:29:35.021Z"
   },
   {
    "duration": 0,
    "start_time": "2023-07-10T12:29:35.022Z"
   },
   {
    "duration": 0,
    "start_time": "2023-07-10T12:29:35.023Z"
   },
   {
    "duration": 0,
    "start_time": "2023-07-10T12:29:35.025Z"
   },
   {
    "duration": 0,
    "start_time": "2023-07-10T12:29:35.027Z"
   },
   {
    "duration": 0,
    "start_time": "2023-07-10T12:29:35.028Z"
   },
   {
    "duration": 5938,
    "start_time": "2023-07-10T12:45:00.400Z"
   },
   {
    "duration": 11647,
    "start_time": "2023-07-10T12:45:06.340Z"
   },
   {
    "duration": 915,
    "start_time": "2023-07-10T12:45:17.989Z"
   },
   {
    "duration": 182,
    "start_time": "2023-07-10T12:45:18.905Z"
   },
   {
    "duration": 12,
    "start_time": "2023-07-10T12:45:19.090Z"
   },
   {
    "duration": 52,
    "start_time": "2023-07-10T12:45:19.104Z"
   },
   {
    "duration": 591,
    "start_time": "2023-07-10T12:45:19.164Z"
   },
   {
    "duration": 2079,
    "start_time": "2023-07-10T12:45:19.762Z"
   },
   {
    "duration": 0,
    "start_time": "2023-07-10T12:45:21.844Z"
   },
   {
    "duration": 0,
    "start_time": "2023-07-10T12:45:21.845Z"
   },
   {
    "duration": 0,
    "start_time": "2023-07-10T12:45:21.846Z"
   },
   {
    "duration": 0,
    "start_time": "2023-07-10T12:45:21.848Z"
   },
   {
    "duration": 0,
    "start_time": "2023-07-10T12:45:21.850Z"
   },
   {
    "duration": 0,
    "start_time": "2023-07-10T12:45:21.851Z"
   },
   {
    "duration": 0,
    "start_time": "2023-07-10T12:45:21.852Z"
   },
   {
    "duration": 0,
    "start_time": "2023-07-10T12:45:21.853Z"
   },
   {
    "duration": 0,
    "start_time": "2023-07-10T12:45:21.855Z"
   },
   {
    "duration": 0,
    "start_time": "2023-07-10T12:45:21.856Z"
   },
   {
    "duration": 0,
    "start_time": "2023-07-10T12:45:21.859Z"
   },
   {
    "duration": 0,
    "start_time": "2023-07-10T12:45:21.860Z"
   },
   {
    "duration": 0,
    "start_time": "2023-07-10T12:45:21.861Z"
   },
   {
    "duration": 0,
    "start_time": "2023-07-10T12:45:21.863Z"
   },
   {
    "duration": 0,
    "start_time": "2023-07-10T12:45:21.864Z"
   },
   {
    "duration": 0,
    "start_time": "2023-07-10T12:45:21.866Z"
   },
   {
    "duration": 0,
    "start_time": "2023-07-10T12:45:21.867Z"
   },
   {
    "duration": 0,
    "start_time": "2023-07-10T12:45:21.868Z"
   },
   {
    "duration": 0,
    "start_time": "2023-07-10T12:45:21.870Z"
   },
   {
    "duration": 0,
    "start_time": "2023-07-10T12:45:21.872Z"
   },
   {
    "duration": 0,
    "start_time": "2023-07-10T12:45:21.874Z"
   },
   {
    "duration": 0,
    "start_time": "2023-07-10T12:45:21.875Z"
   },
   {
    "duration": 1413,
    "start_time": "2023-07-10T12:47:32.695Z"
   },
   {
    "duration": 1825,
    "start_time": "2023-07-10T12:58:22.384Z"
   },
   {
    "duration": 22,
    "start_time": "2023-07-10T13:22:26.403Z"
   },
   {
    "duration": 5,
    "start_time": "2023-07-10T13:22:47.662Z"
   },
   {
    "duration": 2717,
    "start_time": "2023-07-10T13:22:48.096Z"
   },
   {
    "duration": 523,
    "start_time": "2023-07-10T13:23:01.205Z"
   },
   {
    "duration": 798343,
    "start_time": "2023-07-10T13:23:11.329Z"
   },
   {
    "duration": 25,
    "start_time": "2023-07-10T13:36:41.223Z"
   },
   {
    "duration": 28,
    "start_time": "2023-07-10T13:41:38.201Z"
   },
   {
    "duration": 57,
    "start_time": "2023-07-10T13:42:25.893Z"
   },
   {
    "duration": 14,
    "start_time": "2023-07-10T13:42:30.492Z"
   },
   {
    "duration": 5574,
    "start_time": "2023-07-10T13:43:47.912Z"
   },
   {
    "duration": 11193,
    "start_time": "2023-07-10T13:43:53.488Z"
   },
   {
    "duration": 959,
    "start_time": "2023-07-10T13:44:04.683Z"
   },
   {
    "duration": 185,
    "start_time": "2023-07-10T13:44:05.644Z"
   },
   {
    "duration": 47,
    "start_time": "2023-07-10T13:44:05.831Z"
   },
   {
    "duration": 17,
    "start_time": "2023-07-10T13:44:05.880Z"
   },
   {
    "duration": 575,
    "start_time": "2023-07-10T13:44:05.900Z"
   },
   {
    "duration": 3,
    "start_time": "2023-07-10T13:44:06.478Z"
   },
   {
    "duration": 148838,
    "start_time": "2023-07-10T13:44:06.483Z"
   },
   {
    "duration": 0,
    "start_time": "2023-07-10T13:46:35.324Z"
   },
   {
    "duration": 0,
    "start_time": "2023-07-10T13:46:35.325Z"
   },
   {
    "duration": 0,
    "start_time": "2023-07-10T13:46:35.327Z"
   },
   {
    "duration": 0,
    "start_time": "2023-07-10T13:46:35.328Z"
   },
   {
    "duration": 0,
    "start_time": "2023-07-10T13:46:35.329Z"
   },
   {
    "duration": 0,
    "start_time": "2023-07-10T13:46:35.331Z"
   },
   {
    "duration": 1,
    "start_time": "2023-07-10T13:46:35.332Z"
   },
   {
    "duration": 0,
    "start_time": "2023-07-10T13:46:35.334Z"
   },
   {
    "duration": 0,
    "start_time": "2023-07-10T13:46:35.336Z"
   },
   {
    "duration": 0,
    "start_time": "2023-07-10T13:46:35.337Z"
   },
   {
    "duration": 0,
    "start_time": "2023-07-10T13:46:35.339Z"
   },
   {
    "duration": 0,
    "start_time": "2023-07-10T13:46:35.340Z"
   },
   {
    "duration": 0,
    "start_time": "2023-07-10T13:46:35.342Z"
   },
   {
    "duration": 0,
    "start_time": "2023-07-10T13:46:35.344Z"
   },
   {
    "duration": 0,
    "start_time": "2023-07-10T13:46:35.345Z"
   },
   {
    "duration": 0,
    "start_time": "2023-07-10T13:46:35.347Z"
   },
   {
    "duration": 0,
    "start_time": "2023-07-10T13:46:35.349Z"
   },
   {
    "duration": 0,
    "start_time": "2023-07-10T13:46:35.350Z"
   },
   {
    "duration": 0,
    "start_time": "2023-07-10T13:46:35.351Z"
   },
   {
    "duration": 0,
    "start_time": "2023-07-10T13:46:35.352Z"
   },
   {
    "duration": 0,
    "start_time": "2023-07-10T13:46:35.355Z"
   },
   {
    "duration": 0,
    "start_time": "2023-07-10T13:46:35.356Z"
   },
   {
    "duration": 0,
    "start_time": "2023-07-10T13:46:35.357Z"
   },
   {
    "duration": 0,
    "start_time": "2023-07-10T13:46:35.361Z"
   },
   {
    "duration": 0,
    "start_time": "2023-07-10T13:46:35.362Z"
   },
   {
    "duration": 0,
    "start_time": "2023-07-10T13:46:35.363Z"
   },
   {
    "duration": 6115,
    "start_time": "2023-07-10T13:48:48.408Z"
   },
   {
    "duration": 11098,
    "start_time": "2023-07-10T13:48:54.525Z"
   },
   {
    "duration": 896,
    "start_time": "2023-07-10T13:49:05.625Z"
   },
   {
    "duration": 171,
    "start_time": "2023-07-10T13:49:06.523Z"
   },
   {
    "duration": 22,
    "start_time": "2023-07-10T13:49:06.697Z"
   },
   {
    "duration": 16,
    "start_time": "2023-07-10T13:49:06.721Z"
   },
   {
    "duration": 553,
    "start_time": "2023-07-10T13:49:06.739Z"
   },
   {
    "duration": 4,
    "start_time": "2023-07-10T13:49:07.293Z"
   },
   {
    "duration": 814026,
    "start_time": "2023-07-10T13:49:07.299Z"
   },
   {
    "duration": 50,
    "start_time": "2023-07-10T14:02:41.327Z"
   },
   {
    "duration": 59,
    "start_time": "2023-07-10T14:02:41.378Z"
   },
   {
    "duration": 42,
    "start_time": "2023-07-10T14:02:41.439Z"
   },
   {
    "duration": 10,
    "start_time": "2023-07-10T14:02:41.483Z"
   },
   {
    "duration": 13,
    "start_time": "2023-07-10T14:02:41.496Z"
   },
   {
    "duration": 20,
    "start_time": "2023-07-10T14:02:41.511Z"
   },
   {
    "duration": 13,
    "start_time": "2023-07-10T14:02:41.533Z"
   },
   {
    "duration": 34,
    "start_time": "2023-07-10T14:02:41.548Z"
   },
   {
    "duration": 23,
    "start_time": "2023-07-10T14:02:41.584Z"
   },
   {
    "duration": 14,
    "start_time": "2023-07-10T14:02:41.609Z"
   },
   {
    "duration": 20,
    "start_time": "2023-07-10T14:02:41.625Z"
   },
   {
    "duration": 2613,
    "start_time": "2023-07-10T14:02:41.647Z"
   },
   {
    "duration": 0,
    "start_time": "2023-07-10T14:02:44.267Z"
   },
   {
    "duration": 0,
    "start_time": "2023-07-10T14:02:44.271Z"
   },
   {
    "duration": 0,
    "start_time": "2023-07-10T14:02:44.272Z"
   },
   {
    "duration": 0,
    "start_time": "2023-07-10T14:02:44.275Z"
   },
   {
    "duration": 0,
    "start_time": "2023-07-10T14:02:44.276Z"
   },
   {
    "duration": 0,
    "start_time": "2023-07-10T14:02:44.278Z"
   },
   {
    "duration": 0,
    "start_time": "2023-07-10T14:02:44.280Z"
   },
   {
    "duration": 0,
    "start_time": "2023-07-10T14:02:44.281Z"
   },
   {
    "duration": 0,
    "start_time": "2023-07-10T14:02:44.283Z"
   },
   {
    "duration": 0,
    "start_time": "2023-07-10T14:02:44.284Z"
   },
   {
    "duration": 0,
    "start_time": "2023-07-10T14:02:44.286Z"
   },
   {
    "duration": 0,
    "start_time": "2023-07-10T14:02:44.287Z"
   },
   {
    "duration": 0,
    "start_time": "2023-07-10T14:02:44.288Z"
   },
   {
    "duration": 0,
    "start_time": "2023-07-10T14:02:44.290Z"
   },
   {
    "duration": 56,
    "start_time": "2023-07-10T14:22:07.111Z"
   },
   {
    "duration": 14,
    "start_time": "2023-07-10T14:22:07.978Z"
   },
   {
    "duration": 8698,
    "start_time": "2023-07-10T14:22:10.841Z"
   },
   {
    "duration": 122,
    "start_time": "2023-07-10T14:23:06.471Z"
   },
   {
    "duration": 64147,
    "start_time": "2023-07-10T14:32:29.234Z"
   },
   {
    "duration": 88390,
    "start_time": "2023-07-10T14:35:40.473Z"
   },
   {
    "duration": 80705,
    "start_time": "2023-07-10T14:37:08.865Z"
   },
   {
    "duration": 1310,
    "start_time": "2023-07-10T14:38:29.572Z"
   },
   {
    "duration": 25190,
    "start_time": "2023-07-10T14:38:30.885Z"
   },
   {
    "duration": 34787,
    "start_time": "2023-07-10T14:38:56.077Z"
   },
   {
    "duration": 0,
    "start_time": "2023-07-10T14:39:30.866Z"
   },
   {
    "duration": 0,
    "start_time": "2023-07-10T14:39:30.867Z"
   },
   {
    "duration": 0,
    "start_time": "2023-07-10T14:39:30.869Z"
   },
   {
    "duration": 0,
    "start_time": "2023-07-10T14:39:30.870Z"
   },
   {
    "duration": 96291,
    "start_time": "2023-07-10T14:53:37.980Z"
   },
   {
    "duration": 5915,
    "start_time": "2023-07-11T04:17:31.385Z"
   },
   {
    "duration": 10710,
    "start_time": "2023-07-11T04:17:37.303Z"
   },
   {
    "duration": 2235,
    "start_time": "2023-07-11T04:17:48.014Z"
   },
   {
    "duration": 129,
    "start_time": "2023-07-11T04:17:50.251Z"
   },
   {
    "duration": 10,
    "start_time": "2023-07-11T04:17:50.382Z"
   },
   {
    "duration": 12,
    "start_time": "2023-07-11T04:17:50.393Z"
   },
   {
    "duration": 6,
    "start_time": "2023-07-11T04:17:50.406Z"
   },
   {
    "duration": 668622,
    "start_time": "2023-07-11T04:17:50.413Z"
   },
   {
    "duration": 39,
    "start_time": "2023-07-11T04:28:59.037Z"
   },
   {
    "duration": 47,
    "start_time": "2023-07-11T04:28:59.078Z"
   },
   {
    "duration": 13,
    "start_time": "2023-07-11T04:28:59.127Z"
   },
   {
    "duration": 8,
    "start_time": "2023-07-11T04:28:59.142Z"
   },
   {
    "duration": 6515,
    "start_time": "2023-07-11T04:28:59.152Z"
   },
   {
    "duration": 65617,
    "start_time": "2023-07-11T04:29:05.674Z"
   },
   {
    "duration": 91894,
    "start_time": "2023-07-11T04:30:11.292Z"
   },
   {
    "duration": 86007,
    "start_time": "2023-07-11T04:31:43.188Z"
   },
   {
    "duration": 1105,
    "start_time": "2023-07-11T04:33:09.197Z"
   },
   {
    "duration": 26580,
    "start_time": "2023-07-11T04:33:10.304Z"
   },
   {
    "duration": 103024,
    "start_time": "2023-07-11T04:33:36.974Z"
   },
   {
    "duration": 394,
    "start_time": "2023-07-11T04:35:20.000Z"
   },
   {
    "duration": 0,
    "start_time": "2023-07-11T04:35:20.396Z"
   },
   {
    "duration": 0,
    "start_time": "2023-07-11T04:35:20.397Z"
   },
   {
    "duration": 0,
    "start_time": "2023-07-11T04:35:20.397Z"
   },
   {
    "duration": 0,
    "start_time": "2023-07-11T04:35:20.398Z"
   },
   {
    "duration": 0,
    "start_time": "2023-07-11T04:35:20.399Z"
   },
   {
    "duration": 0,
    "start_time": "2023-07-11T04:35:20.400Z"
   },
   {
    "duration": 0,
    "start_time": "2023-07-11T04:35:20.401Z"
   },
   {
    "duration": 0,
    "start_time": "2023-07-11T04:35:20.402Z"
   },
   {
    "duration": 113,
    "start_time": "2023-07-11T05:18:29.840Z"
   },
   {
    "duration": 33,
    "start_time": "2023-07-11T05:18:42.857Z"
   },
   {
    "duration": 13,
    "start_time": "2023-07-11T05:18:56.401Z"
   },
   {
    "duration": 2,
    "start_time": "2023-07-11T05:25:03.731Z"
   },
   {
    "duration": 6,
    "start_time": "2023-07-11T05:25:49.698Z"
   },
   {
    "duration": 345183,
    "start_time": "2023-07-11T05:26:04.298Z"
   },
   {
    "duration": 5603,
    "start_time": "2023-07-11T05:45:14.150Z"
   },
   {
    "duration": 6195,
    "start_time": "2023-07-11T05:45:19.756Z"
   },
   {
    "duration": 12736,
    "start_time": "2023-07-11T05:45:25.952Z"
   },
   {
    "duration": 1049,
    "start_time": "2023-07-11T05:45:38.691Z"
   },
   {
    "duration": 162,
    "start_time": "2023-07-11T05:45:39.742Z"
   },
   {
    "duration": 17,
    "start_time": "2023-07-11T05:45:39.908Z"
   },
   {
    "duration": 19,
    "start_time": "2023-07-11T05:45:39.927Z"
   },
   {
    "duration": 7,
    "start_time": "2023-07-11T05:45:39.948Z"
   },
   {
    "duration": 812090,
    "start_time": "2023-07-11T05:45:39.957Z"
   },
   {
    "duration": 66,
    "start_time": "2023-07-11T05:59:12.050Z"
   },
   {
    "duration": 41,
    "start_time": "2023-07-11T05:59:12.118Z"
   },
   {
    "duration": 20,
    "start_time": "2023-07-11T05:59:12.160Z"
   },
   {
    "duration": 28,
    "start_time": "2023-07-11T05:59:12.182Z"
   },
   {
    "duration": 8001,
    "start_time": "2023-07-11T05:59:12.211Z"
   },
   {
    "duration": 3,
    "start_time": "2023-07-11T05:59:20.214Z"
   },
   {
    "duration": 71668,
    "start_time": "2023-07-11T05:59:20.219Z"
   },
   {
    "duration": 4,
    "start_time": "2023-07-11T06:00:31.890Z"
   },
   {
    "duration": 52216,
    "start_time": "2023-07-11T06:00:31.898Z"
   },
   {
    "duration": 3,
    "start_time": "2023-07-11T06:01:24.116Z"
   },
   {
    "duration": 362463,
    "start_time": "2023-07-11T06:01:24.121Z"
   },
   {
    "duration": 10,
    "start_time": "2023-07-11T06:07:26.590Z"
   },
   {
    "duration": 429,
    "start_time": "2023-07-11T06:07:26.607Z"
   },
   {
    "duration": 0,
    "start_time": "2023-07-11T06:07:27.038Z"
   },
   {
    "duration": 0,
    "start_time": "2023-07-11T06:07:27.039Z"
   },
   {
    "duration": 0,
    "start_time": "2023-07-11T06:07:27.040Z"
   },
   {
    "duration": 0,
    "start_time": "2023-07-11T06:07:27.041Z"
   },
   {
    "duration": 173,
    "start_time": "2023-07-11T06:23:24.643Z"
   },
   {
    "duration": 378,
    "start_time": "2023-07-11T06:24:07.734Z"
   },
   {
    "duration": 154,
    "start_time": "2023-07-11T06:25:07.514Z"
   },
   {
    "duration": 14,
    "start_time": "2023-07-11T06:25:13.916Z"
   },
   {
    "duration": 618970,
    "start_time": "2023-07-11T06:25:16.346Z"
   },
   {
    "duration": 23,
    "start_time": "2023-07-11T06:35:35.318Z"
   },
   {
    "duration": 0,
    "start_time": "2023-07-11T06:35:35.343Z"
   },
   {
    "duration": 0,
    "start_time": "2023-07-11T06:35:35.345Z"
   },
   {
    "duration": 3,
    "start_time": "2023-07-11T06:37:46.041Z"
   },
   {
    "duration": 4,
    "start_time": "2023-07-11T06:37:53.548Z"
   },
   {
    "duration": 24,
    "start_time": "2023-07-11T06:38:49.696Z"
   },
   {
    "duration": 3,
    "start_time": "2023-07-11T06:38:55.755Z"
   },
   {
    "duration": 84,
    "start_time": "2023-07-11T06:39:51.340Z"
   },
   {
    "duration": 36,
    "start_time": "2023-07-11T06:42:08.662Z"
   },
   {
    "duration": 21,
    "start_time": "2023-07-11T06:42:31.943Z"
   },
   {
    "duration": 28078,
    "start_time": "2023-07-11T06:43:02.640Z"
   },
   {
    "duration": 10,
    "start_time": "2023-07-11T06:44:29.197Z"
   },
   {
    "duration": 15,
    "start_time": "2023-07-11T06:44:40.699Z"
   },
   {
    "duration": 0,
    "start_time": "2023-07-11T06:49:20.638Z"
   },
   {
    "duration": 0,
    "start_time": "2023-07-11T06:49:20.645Z"
   },
   {
    "duration": 323316,
    "start_time": "2023-07-11T06:49:22.720Z"
   },
   {
    "duration": 311133,
    "start_time": "2023-07-11T06:54:51.401Z"
   },
   {
    "duration": 192,
    "start_time": "2023-07-11T07:00:02.536Z"
   },
   {
    "duration": 248878,
    "start_time": "2023-07-11T07:06:55.867Z"
   },
   {
    "duration": 6,
    "start_time": "2023-07-11T07:16:05.095Z"
   },
   {
    "duration": 4,
    "start_time": "2023-07-11T07:16:14.894Z"
   },
   {
    "duration": 3238,
    "start_time": "2023-07-11T07:24:13.121Z"
   },
   {
    "duration": 183,
    "start_time": "2023-07-11T07:24:23.753Z"
   },
   {
    "duration": 69,
    "start_time": "2023-07-11T07:25:07.563Z"
   },
   {
    "duration": 157,
    "start_time": "2023-07-11T07:28:21.104Z"
   },
   {
    "duration": 6234,
    "start_time": "2023-07-11T07:28:33.636Z"
   },
   {
    "duration": 424,
    "start_time": "2023-07-11T07:29:04.082Z"
   },
   {
    "duration": 106,
    "start_time": "2023-07-11T07:29:34.506Z"
   },
   {
    "duration": 5383,
    "start_time": "2023-07-11T07:29:58.995Z"
   },
   {
    "duration": 5707,
    "start_time": "2023-07-11T07:30:04.380Z"
   },
   {
    "duration": 11070,
    "start_time": "2023-07-11T07:30:10.089Z"
   },
   {
    "duration": 2315,
    "start_time": "2023-07-11T07:30:21.161Z"
   },
   {
    "duration": 143,
    "start_time": "2023-07-11T07:30:23.479Z"
   },
   {
    "duration": 10,
    "start_time": "2023-07-11T07:30:23.624Z"
   },
   {
    "duration": 13,
    "start_time": "2023-07-11T07:30:23.635Z"
   },
   {
    "duration": 8,
    "start_time": "2023-07-11T07:30:23.650Z"
   },
   {
    "duration": 669274,
    "start_time": "2023-07-11T07:30:23.659Z"
   },
   {
    "duration": 45,
    "start_time": "2023-07-11T07:41:32.935Z"
   },
   {
    "duration": 44,
    "start_time": "2023-07-11T07:41:32.982Z"
   },
   {
    "duration": 73,
    "start_time": "2023-07-11T07:41:33.027Z"
   },
   {
    "duration": 4,
    "start_time": "2023-07-11T07:41:33.102Z"
   },
   {
    "duration": 6401,
    "start_time": "2023-07-11T07:41:33.108Z"
   },
   {
    "duration": 71287,
    "start_time": "2023-07-11T07:41:39.511Z"
   },
   {
    "duration": 2,
    "start_time": "2023-07-11T07:42:50.800Z"
   },
   {
    "duration": 10,
    "start_time": "2023-07-11T07:42:50.804Z"
   },
   {
    "duration": 624590,
    "start_time": "2023-07-11T07:42:50.816Z"
   },
   {
    "duration": 96,
    "start_time": "2023-07-11T07:53:15.408Z"
   },
   {
    "duration": 327185,
    "start_time": "2023-07-11T07:53:15.506Z"
   },
   {
    "duration": 197,
    "start_time": "2023-07-11T07:58:42.693Z"
   },
   {
    "duration": 257116,
    "start_time": "2023-07-11T07:58:42.892Z"
   },
   {
    "duration": 3,
    "start_time": "2023-07-11T08:03:00.009Z"
   },
   {
    "duration": 78,
    "start_time": "2023-07-11T08:03:00.013Z"
   },
   {
    "duration": 79,
    "start_time": "2023-07-11T08:03:00.093Z"
   },
   {
    "duration": 1465,
    "start_time": "2023-07-11T08:03:00.174Z"
   },
   {
    "duration": 328,
    "start_time": "2023-07-11T08:03:01.640Z"
   },
   {
    "duration": 272,
    "start_time": "2023-07-11T08:03:01.970Z"
   },
   {
    "duration": 0,
    "start_time": "2023-07-11T08:03:02.243Z"
   },
   {
    "duration": 0,
    "start_time": "2023-07-11T08:03:02.244Z"
   },
   {
    "duration": 0,
    "start_time": "2023-07-11T08:03:02.245Z"
   },
   {
    "duration": 0,
    "start_time": "2023-07-11T08:03:02.246Z"
   },
   {
    "duration": 0,
    "start_time": "2023-07-11T08:03:02.248Z"
   },
   {
    "duration": 571522,
    "start_time": "2023-07-11T08:17:29.114Z"
   },
   {
    "duration": 2258,
    "start_time": "2023-07-11T08:31:40.310Z"
   },
   {
    "duration": 3504,
    "start_time": "2023-07-11T08:32:20.647Z"
   },
   {
    "duration": 0,
    "start_time": "2023-07-11T08:33:34.726Z"
   },
   {
    "duration": 0,
    "start_time": "2023-07-11T08:33:34.728Z"
   },
   {
    "duration": 36,
    "start_time": "2023-07-11T08:33:35.056Z"
   },
   {
    "duration": 27157,
    "start_time": "2023-07-11T08:33:37.152Z"
   },
   {
    "duration": 8,
    "start_time": "2023-07-11T08:34:22.049Z"
   },
   {
    "duration": 17,
    "start_time": "2023-07-11T08:34:50.938Z"
   }
  ],
  "kernelspec": {
   "display_name": "Python 3 (ipykernel)",
   "language": "python",
   "name": "python3"
  },
  "language_info": {
   "codemirror_mode": {
    "name": "ipython",
    "version": 3
   },
   "file_extension": ".py",
   "mimetype": "text/x-python",
   "name": "python",
   "nbconvert_exporter": "python",
   "pygments_lexer": "ipython3",
   "version": "3.9.13"
  },
  "toc": {
   "base_numbering": 1,
   "nav_menu": {},
   "number_sections": true,
   "sideBar": true,
   "skip_h1_title": true,
   "title_cell": "Содержание",
   "title_sidebar": "Contents",
   "toc_cell": true,
   "toc_position": {
    "height": "calc(100% - 180px)",
    "left": "10px",
    "top": "150px",
    "width": "302.391px"
   },
   "toc_section_display": true,
   "toc_window_display": false
  }
 },
 "nbformat": 4,
 "nbformat_minor": 2
}
