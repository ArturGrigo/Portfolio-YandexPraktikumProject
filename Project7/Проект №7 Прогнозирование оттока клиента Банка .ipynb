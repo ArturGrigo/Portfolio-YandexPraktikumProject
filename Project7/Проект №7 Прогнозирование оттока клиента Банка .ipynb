{
 "cells": [
  {
   "cell_type": "markdown",
   "id": "9037be02",
   "metadata": {},
   "source": [
    "# Описание проекта"
   ]
  },
  {
   "cell_type": "markdown",
   "id": "60cf157f",
   "metadata": {},
   "source": [
    "Из «Бета-Банка» стали уходить клиенты. Каждый месяц. Немного, но заметно. \n",
    "\n",
    "Банковские маркетологи посчитали: сохранять текущих клиентов дешевле, чем привлекать новых.\n",
    "### Задачи:\n",
    "- Нужно спрогнозировать, уйдёт клиент из банка в ближайшее время или нет. \n",
    "Предоставлены исторические данные о поведении клиентов и расторжении договоров с банком. \n",
    "\n",
    "- Проходным значением, чтобы считать проект успешным, будет значением F1-меры больше 0.59. \n",
    "\n",
    "\n"
   ]
  },
  {
   "cell_type": "code",
   "execution_count": 133,
   "id": "4bc04193",
   "metadata": {},
   "outputs": [],
   "source": [
    "import pandas as pd\n",
    "import seaborn as sns # для графиков\n",
    "from matplotlib import pyplot as plt # для графиков\n",
    "\n",
    "\n",
    "from sklearn.tree import DecisionTreeClassifier # модель классификации\n",
    "from sklearn.ensemble import RandomForestClassifier # модель классификации\n",
    "from sklearn.linear_model import LogisticRegression # модель классификации\n",
    "\n",
    "from sklearn.model_selection import train_test_split # разбивает на выборки\n",
    "\n",
    "\n",
    "from sklearn.preprocessing import StandardScaler # для приведение к одному масштабу (масштабирование)\n",
    "from sklearn.preprocessing import OrdinalEncoder #\n",
    "from sklearn.metrics import (mean_absolute_error, \n",
    "                             precision_score ,\n",
    "                             recall_score,\n",
    "                             f1_score,\n",
    "                             accuracy_score,\n",
    "                             roc_curve,\n",
    "                             roc_auc_score)\n",
    "\n",
    "\n",
    "from sklearn.utils import shuffle # для перемешевания данных\n",
    "\n",
    "\n",
    "import warnings\n",
    "warnings.filterwarnings(\"ignore\")"
   ]
  },
  {
   "cell_type": "code",
   "execution_count": 134,
   "id": "101567ac",
   "metadata": {},
   "outputs": [],
   "source": [
    "try:\n",
    "    df = pd.read_csv('/datasets/Churn.csv')\n",
    "except:\n",
    "    df = pd.read_csv('Churn.csv')"
   ]
  },
  {
   "cell_type": "markdown",
   "id": "5dcdfea1",
   "metadata": {},
   "source": [
    "## Описание данных\n",
    "\n",
    "**Признаки**\n",
    "-\tRowNumber — индекс строки в данных\n",
    "-\tCustomerId — уникальный идентификатор клиента\n",
    "-\tSurname — фамилия\n",
    "-\tCreditScore — кредитный рейтинг\n",
    "-\tGeography — страна проживания\n",
    "-\tGender — пол\n",
    "-\tAge — возраст\n",
    "-\tTenure — сколько лет человек является клиентом банка\n",
    "-\tBalance — баланс на счёте\n",
    "-\tNumOfProducts — количество продуктов банка, используемых клиентом\n",
    "-\tHasCrCard — наличие кредитной карты\n",
    "-\tIsActiveMember — активность клиента\n",
    "-\tEstimatedSalary — предполагаемая зарплата\n",
    "\n",
    "**Целевой признак**\n",
    "-\tExited — **факт ухода клиента**\n"
   ]
  },
  {
   "cell_type": "code",
   "execution_count": 135,
   "id": "a655167b",
   "metadata": {},
   "outputs": [
    {
     "data": {
      "text/html": [
       "<div>\n",
       "<style scoped>\n",
       "    .dataframe tbody tr th:only-of-type {\n",
       "        vertical-align: middle;\n",
       "    }\n",
       "\n",
       "    .dataframe tbody tr th {\n",
       "        vertical-align: top;\n",
       "    }\n",
       "\n",
       "    .dataframe thead th {\n",
       "        text-align: right;\n",
       "    }\n",
       "</style>\n",
       "<table border=\"1\" class=\"dataframe\">\n",
       "  <thead>\n",
       "    <tr style=\"text-align: right;\">\n",
       "      <th></th>\n",
       "      <th>RowNumber</th>\n",
       "      <th>CustomerId</th>\n",
       "      <th>Surname</th>\n",
       "      <th>CreditScore</th>\n",
       "      <th>Geography</th>\n",
       "      <th>Gender</th>\n",
       "      <th>Age</th>\n",
       "      <th>Tenure</th>\n",
       "      <th>Balance</th>\n",
       "      <th>NumOfProducts</th>\n",
       "      <th>HasCrCard</th>\n",
       "      <th>IsActiveMember</th>\n",
       "      <th>EstimatedSalary</th>\n",
       "      <th>Exited</th>\n",
       "    </tr>\n",
       "  </thead>\n",
       "  <tbody>\n",
       "    <tr>\n",
       "      <th>0</th>\n",
       "      <td>1</td>\n",
       "      <td>15634602</td>\n",
       "      <td>Hargrave</td>\n",
       "      <td>619</td>\n",
       "      <td>France</td>\n",
       "      <td>Female</td>\n",
       "      <td>42</td>\n",
       "      <td>2.0</td>\n",
       "      <td>0.00</td>\n",
       "      <td>1</td>\n",
       "      <td>1</td>\n",
       "      <td>1</td>\n",
       "      <td>101348.88</td>\n",
       "      <td>1</td>\n",
       "    </tr>\n",
       "    <tr>\n",
       "      <th>1</th>\n",
       "      <td>2</td>\n",
       "      <td>15647311</td>\n",
       "      <td>Hill</td>\n",
       "      <td>608</td>\n",
       "      <td>Spain</td>\n",
       "      <td>Female</td>\n",
       "      <td>41</td>\n",
       "      <td>1.0</td>\n",
       "      <td>83807.86</td>\n",
       "      <td>1</td>\n",
       "      <td>0</td>\n",
       "      <td>1</td>\n",
       "      <td>112542.58</td>\n",
       "      <td>0</td>\n",
       "    </tr>\n",
       "    <tr>\n",
       "      <th>2</th>\n",
       "      <td>3</td>\n",
       "      <td>15619304</td>\n",
       "      <td>Onio</td>\n",
       "      <td>502</td>\n",
       "      <td>France</td>\n",
       "      <td>Female</td>\n",
       "      <td>42</td>\n",
       "      <td>8.0</td>\n",
       "      <td>159660.80</td>\n",
       "      <td>3</td>\n",
       "      <td>1</td>\n",
       "      <td>0</td>\n",
       "      <td>113931.57</td>\n",
       "      <td>1</td>\n",
       "    </tr>\n",
       "    <tr>\n",
       "      <th>3</th>\n",
       "      <td>4</td>\n",
       "      <td>15701354</td>\n",
       "      <td>Boni</td>\n",
       "      <td>699</td>\n",
       "      <td>France</td>\n",
       "      <td>Female</td>\n",
       "      <td>39</td>\n",
       "      <td>1.0</td>\n",
       "      <td>0.00</td>\n",
       "      <td>2</td>\n",
       "      <td>0</td>\n",
       "      <td>0</td>\n",
       "      <td>93826.63</td>\n",
       "      <td>0</td>\n",
       "    </tr>\n",
       "    <tr>\n",
       "      <th>4</th>\n",
       "      <td>5</td>\n",
       "      <td>15737888</td>\n",
       "      <td>Mitchell</td>\n",
       "      <td>850</td>\n",
       "      <td>Spain</td>\n",
       "      <td>Female</td>\n",
       "      <td>43</td>\n",
       "      <td>2.0</td>\n",
       "      <td>125510.82</td>\n",
       "      <td>1</td>\n",
       "      <td>1</td>\n",
       "      <td>1</td>\n",
       "      <td>79084.10</td>\n",
       "      <td>0</td>\n",
       "    </tr>\n",
       "    <tr>\n",
       "      <th>...</th>\n",
       "      <td>...</td>\n",
       "      <td>...</td>\n",
       "      <td>...</td>\n",
       "      <td>...</td>\n",
       "      <td>...</td>\n",
       "      <td>...</td>\n",
       "      <td>...</td>\n",
       "      <td>...</td>\n",
       "      <td>...</td>\n",
       "      <td>...</td>\n",
       "      <td>...</td>\n",
       "      <td>...</td>\n",
       "      <td>...</td>\n",
       "      <td>...</td>\n",
       "    </tr>\n",
       "    <tr>\n",
       "      <th>9995</th>\n",
       "      <td>9996</td>\n",
       "      <td>15606229</td>\n",
       "      <td>Obijiaku</td>\n",
       "      <td>771</td>\n",
       "      <td>France</td>\n",
       "      <td>Male</td>\n",
       "      <td>39</td>\n",
       "      <td>5.0</td>\n",
       "      <td>0.00</td>\n",
       "      <td>2</td>\n",
       "      <td>1</td>\n",
       "      <td>0</td>\n",
       "      <td>96270.64</td>\n",
       "      <td>0</td>\n",
       "    </tr>\n",
       "    <tr>\n",
       "      <th>9996</th>\n",
       "      <td>9997</td>\n",
       "      <td>15569892</td>\n",
       "      <td>Johnstone</td>\n",
       "      <td>516</td>\n",
       "      <td>France</td>\n",
       "      <td>Male</td>\n",
       "      <td>35</td>\n",
       "      <td>10.0</td>\n",
       "      <td>57369.61</td>\n",
       "      <td>1</td>\n",
       "      <td>1</td>\n",
       "      <td>1</td>\n",
       "      <td>101699.77</td>\n",
       "      <td>0</td>\n",
       "    </tr>\n",
       "    <tr>\n",
       "      <th>9997</th>\n",
       "      <td>9998</td>\n",
       "      <td>15584532</td>\n",
       "      <td>Liu</td>\n",
       "      <td>709</td>\n",
       "      <td>France</td>\n",
       "      <td>Female</td>\n",
       "      <td>36</td>\n",
       "      <td>7.0</td>\n",
       "      <td>0.00</td>\n",
       "      <td>1</td>\n",
       "      <td>0</td>\n",
       "      <td>1</td>\n",
       "      <td>42085.58</td>\n",
       "      <td>1</td>\n",
       "    </tr>\n",
       "    <tr>\n",
       "      <th>9998</th>\n",
       "      <td>9999</td>\n",
       "      <td>15682355</td>\n",
       "      <td>Sabbatini</td>\n",
       "      <td>772</td>\n",
       "      <td>Germany</td>\n",
       "      <td>Male</td>\n",
       "      <td>42</td>\n",
       "      <td>3.0</td>\n",
       "      <td>75075.31</td>\n",
       "      <td>2</td>\n",
       "      <td>1</td>\n",
       "      <td>0</td>\n",
       "      <td>92888.52</td>\n",
       "      <td>1</td>\n",
       "    </tr>\n",
       "    <tr>\n",
       "      <th>9999</th>\n",
       "      <td>10000</td>\n",
       "      <td>15628319</td>\n",
       "      <td>Walker</td>\n",
       "      <td>792</td>\n",
       "      <td>France</td>\n",
       "      <td>Female</td>\n",
       "      <td>28</td>\n",
       "      <td>NaN</td>\n",
       "      <td>130142.79</td>\n",
       "      <td>1</td>\n",
       "      <td>1</td>\n",
       "      <td>0</td>\n",
       "      <td>38190.78</td>\n",
       "      <td>0</td>\n",
       "    </tr>\n",
       "  </tbody>\n",
       "</table>\n",
       "<p>10000 rows × 14 columns</p>\n",
       "</div>"
      ],
      "text/plain": [
       "      RowNumber  CustomerId    Surname  CreditScore Geography  Gender  Age  \\\n",
       "0             1    15634602   Hargrave          619    France  Female   42   \n",
       "1             2    15647311       Hill          608     Spain  Female   41   \n",
       "2             3    15619304       Onio          502    France  Female   42   \n",
       "3             4    15701354       Boni          699    France  Female   39   \n",
       "4             5    15737888   Mitchell          850     Spain  Female   43   \n",
       "...         ...         ...        ...          ...       ...     ...  ...   \n",
       "9995       9996    15606229   Obijiaku          771    France    Male   39   \n",
       "9996       9997    15569892  Johnstone          516    France    Male   35   \n",
       "9997       9998    15584532        Liu          709    France  Female   36   \n",
       "9998       9999    15682355  Sabbatini          772   Germany    Male   42   \n",
       "9999      10000    15628319     Walker          792    France  Female   28   \n",
       "\n",
       "      Tenure    Balance  NumOfProducts  HasCrCard  IsActiveMember  \\\n",
       "0        2.0       0.00              1          1               1   \n",
       "1        1.0   83807.86              1          0               1   \n",
       "2        8.0  159660.80              3          1               0   \n",
       "3        1.0       0.00              2          0               0   \n",
       "4        2.0  125510.82              1          1               1   \n",
       "...      ...        ...            ...        ...             ...   \n",
       "9995     5.0       0.00              2          1               0   \n",
       "9996    10.0   57369.61              1          1               1   \n",
       "9997     7.0       0.00              1          0               1   \n",
       "9998     3.0   75075.31              2          1               0   \n",
       "9999     NaN  130142.79              1          1               0   \n",
       "\n",
       "      EstimatedSalary  Exited  \n",
       "0           101348.88       1  \n",
       "1           112542.58       0  \n",
       "2           113931.57       1  \n",
       "3            93826.63       0  \n",
       "4            79084.10       0  \n",
       "...               ...     ...  \n",
       "9995         96270.64       0  \n",
       "9996        101699.77       0  \n",
       "9997         42085.58       1  \n",
       "9998         92888.52       1  \n",
       "9999         38190.78       0  \n",
       "\n",
       "[10000 rows x 14 columns]"
      ]
     },
     "metadata": {},
     "output_type": "display_data"
    },
    {
     "name": "stdout",
     "output_type": "stream",
     "text": [
      "<class 'pandas.core.frame.DataFrame'>\n",
      "RangeIndex: 10000 entries, 0 to 9999\n",
      "Data columns (total 14 columns):\n",
      " #   Column           Non-Null Count  Dtype  \n",
      "---  ------           --------------  -----  \n",
      " 0   RowNumber        10000 non-null  int64  \n",
      " 1   CustomerId       10000 non-null  int64  \n",
      " 2   Surname          10000 non-null  object \n",
      " 3   CreditScore      10000 non-null  int64  \n",
      " 4   Geography        10000 non-null  object \n",
      " 5   Gender           10000 non-null  object \n",
      " 6   Age              10000 non-null  int64  \n",
      " 7   Tenure           9091 non-null   float64\n",
      " 8   Balance          10000 non-null  float64\n",
      " 9   NumOfProducts    10000 non-null  int64  \n",
      " 10  HasCrCard        10000 non-null  int64  \n",
      " 11  IsActiveMember   10000 non-null  int64  \n",
      " 12  EstimatedSalary  10000 non-null  float64\n",
      " 13  Exited           10000 non-null  int64  \n",
      "dtypes: float64(3), int64(8), object(3)\n",
      "memory usage: 1.1+ MB\n"
     ]
    }
   ],
   "source": [
    "display(df)\n",
    "df.info()"
   ]
  },
  {
   "cell_type": "code",
   "execution_count": 136,
   "id": "d3f387a9",
   "metadata": {},
   "outputs": [
    {
     "data": {
      "text/plain": [
       "array(['France', 'Spain', 'Germany'], dtype=object)"
      ]
     },
     "execution_count": 136,
     "metadata": {},
     "output_type": "execute_result"
    }
   ],
   "source": [
    "df['Geography'].unique()"
   ]
  },
  {
   "cell_type": "code",
   "execution_count": 137,
   "id": "cd585226",
   "metadata": {},
   "outputs": [
    {
     "data": {
      "text/plain": [
       "10000"
      ]
     },
     "execution_count": 137,
     "metadata": {},
     "output_type": "execute_result"
    }
   ],
   "source": [
    "df['CustomerId'].nunique()"
   ]
  },
  {
   "cell_type": "markdown",
   "id": "0569d7a4",
   "metadata": {},
   "source": [
    "### Выводы:\n",
    "- Столбец с признаком RowNumber отвечает за индекс строки в данных, что не имеет за собой смысла, просто дублирует, в дальнейшем скорее всего будем удалять;\n",
    "- CustomerId — является идентификатором пользователя , все значения уникальны и не имеют дубликатов — стоблец также можно удалить;\n",
    "- Surname —  не несет ценности для будущей модели — столбец можно удалять;\n",
    "- В столбце признака 'Tenure' наблюдаются пропуски в размере 9% от общего количества строк в датасете;\n",
    "- Сразу обратим внимание на **не** числовые признаки, Surname - фамилия клиента, Geography - страна проживания, Gender - пол;\n",
    "- Из всех не числовых признаков будем приобразовывать в дальнейшем в числовой именно признак Gender и возможно Geography, так как 3 имеет всего три значения.\n"
   ]
  },
  {
   "cell_type": "code",
   "execution_count": 138,
   "id": "983efc60",
   "metadata": {},
   "outputs": [
    {
     "data": {
      "text/html": [
       "<div>\n",
       "<style scoped>\n",
       "    .dataframe tbody tr th:only-of-type {\n",
       "        vertical-align: middle;\n",
       "    }\n",
       "\n",
       "    .dataframe tbody tr th {\n",
       "        vertical-align: top;\n",
       "    }\n",
       "\n",
       "    .dataframe thead th {\n",
       "        text-align: right;\n",
       "    }\n",
       "</style>\n",
       "<table border=\"1\" class=\"dataframe\">\n",
       "  <thead>\n",
       "    <tr style=\"text-align: right;\">\n",
       "      <th></th>\n",
       "      <th>RowNumber</th>\n",
       "      <th>CustomerId</th>\n",
       "      <th>Surname</th>\n",
       "      <th>CreditScore</th>\n",
       "      <th>Geography</th>\n",
       "      <th>Gender</th>\n",
       "      <th>Age</th>\n",
       "      <th>Tenure</th>\n",
       "      <th>Balance</th>\n",
       "      <th>NumOfProducts</th>\n",
       "      <th>HasCrCard</th>\n",
       "      <th>IsActiveMember</th>\n",
       "      <th>EstimatedSalary</th>\n",
       "      <th>Exited</th>\n",
       "    </tr>\n",
       "  </thead>\n",
       "  <tbody>\n",
       "    <tr>\n",
       "      <th>count</th>\n",
       "      <td>10000.00000</td>\n",
       "      <td>1.000000e+04</td>\n",
       "      <td>10000</td>\n",
       "      <td>10000.000000</td>\n",
       "      <td>10000</td>\n",
       "      <td>10000</td>\n",
       "      <td>10000.000000</td>\n",
       "      <td>9091.000000</td>\n",
       "      <td>10000.000000</td>\n",
       "      <td>10000.000000</td>\n",
       "      <td>10000.00000</td>\n",
       "      <td>10000.000000</td>\n",
       "      <td>10000.000000</td>\n",
       "      <td>10000.000000</td>\n",
       "    </tr>\n",
       "    <tr>\n",
       "      <th>unique</th>\n",
       "      <td>NaN</td>\n",
       "      <td>NaN</td>\n",
       "      <td>2932</td>\n",
       "      <td>NaN</td>\n",
       "      <td>3</td>\n",
       "      <td>2</td>\n",
       "      <td>NaN</td>\n",
       "      <td>NaN</td>\n",
       "      <td>NaN</td>\n",
       "      <td>NaN</td>\n",
       "      <td>NaN</td>\n",
       "      <td>NaN</td>\n",
       "      <td>NaN</td>\n",
       "      <td>NaN</td>\n",
       "    </tr>\n",
       "    <tr>\n",
       "      <th>top</th>\n",
       "      <td>NaN</td>\n",
       "      <td>NaN</td>\n",
       "      <td>Smith</td>\n",
       "      <td>NaN</td>\n",
       "      <td>France</td>\n",
       "      <td>Male</td>\n",
       "      <td>NaN</td>\n",
       "      <td>NaN</td>\n",
       "      <td>NaN</td>\n",
       "      <td>NaN</td>\n",
       "      <td>NaN</td>\n",
       "      <td>NaN</td>\n",
       "      <td>NaN</td>\n",
       "      <td>NaN</td>\n",
       "    </tr>\n",
       "    <tr>\n",
       "      <th>freq</th>\n",
       "      <td>NaN</td>\n",
       "      <td>NaN</td>\n",
       "      <td>32</td>\n",
       "      <td>NaN</td>\n",
       "      <td>5014</td>\n",
       "      <td>5457</td>\n",
       "      <td>NaN</td>\n",
       "      <td>NaN</td>\n",
       "      <td>NaN</td>\n",
       "      <td>NaN</td>\n",
       "      <td>NaN</td>\n",
       "      <td>NaN</td>\n",
       "      <td>NaN</td>\n",
       "      <td>NaN</td>\n",
       "    </tr>\n",
       "    <tr>\n",
       "      <th>mean</th>\n",
       "      <td>5000.50000</td>\n",
       "      <td>1.569094e+07</td>\n",
       "      <td>NaN</td>\n",
       "      <td>650.528800</td>\n",
       "      <td>NaN</td>\n",
       "      <td>NaN</td>\n",
       "      <td>38.921800</td>\n",
       "      <td>4.997690</td>\n",
       "      <td>76485.889288</td>\n",
       "      <td>1.530200</td>\n",
       "      <td>0.70550</td>\n",
       "      <td>0.515100</td>\n",
       "      <td>100090.239881</td>\n",
       "      <td>0.203700</td>\n",
       "    </tr>\n",
       "    <tr>\n",
       "      <th>std</th>\n",
       "      <td>2886.89568</td>\n",
       "      <td>7.193619e+04</td>\n",
       "      <td>NaN</td>\n",
       "      <td>96.653299</td>\n",
       "      <td>NaN</td>\n",
       "      <td>NaN</td>\n",
       "      <td>10.487806</td>\n",
       "      <td>2.894723</td>\n",
       "      <td>62397.405202</td>\n",
       "      <td>0.581654</td>\n",
       "      <td>0.45584</td>\n",
       "      <td>0.499797</td>\n",
       "      <td>57510.492818</td>\n",
       "      <td>0.402769</td>\n",
       "    </tr>\n",
       "    <tr>\n",
       "      <th>min</th>\n",
       "      <td>1.00000</td>\n",
       "      <td>1.556570e+07</td>\n",
       "      <td>NaN</td>\n",
       "      <td>350.000000</td>\n",
       "      <td>NaN</td>\n",
       "      <td>NaN</td>\n",
       "      <td>18.000000</td>\n",
       "      <td>0.000000</td>\n",
       "      <td>0.000000</td>\n",
       "      <td>1.000000</td>\n",
       "      <td>0.00000</td>\n",
       "      <td>0.000000</td>\n",
       "      <td>11.580000</td>\n",
       "      <td>0.000000</td>\n",
       "    </tr>\n",
       "    <tr>\n",
       "      <th>25%</th>\n",
       "      <td>2500.75000</td>\n",
       "      <td>1.562853e+07</td>\n",
       "      <td>NaN</td>\n",
       "      <td>584.000000</td>\n",
       "      <td>NaN</td>\n",
       "      <td>NaN</td>\n",
       "      <td>32.000000</td>\n",
       "      <td>2.000000</td>\n",
       "      <td>0.000000</td>\n",
       "      <td>1.000000</td>\n",
       "      <td>0.00000</td>\n",
       "      <td>0.000000</td>\n",
       "      <td>51002.110000</td>\n",
       "      <td>0.000000</td>\n",
       "    </tr>\n",
       "    <tr>\n",
       "      <th>50%</th>\n",
       "      <td>5000.50000</td>\n",
       "      <td>1.569074e+07</td>\n",
       "      <td>NaN</td>\n",
       "      <td>652.000000</td>\n",
       "      <td>NaN</td>\n",
       "      <td>NaN</td>\n",
       "      <td>37.000000</td>\n",
       "      <td>5.000000</td>\n",
       "      <td>97198.540000</td>\n",
       "      <td>1.000000</td>\n",
       "      <td>1.00000</td>\n",
       "      <td>1.000000</td>\n",
       "      <td>100193.915000</td>\n",
       "      <td>0.000000</td>\n",
       "    </tr>\n",
       "    <tr>\n",
       "      <th>75%</th>\n",
       "      <td>7500.25000</td>\n",
       "      <td>1.575323e+07</td>\n",
       "      <td>NaN</td>\n",
       "      <td>718.000000</td>\n",
       "      <td>NaN</td>\n",
       "      <td>NaN</td>\n",
       "      <td>44.000000</td>\n",
       "      <td>7.000000</td>\n",
       "      <td>127644.240000</td>\n",
       "      <td>2.000000</td>\n",
       "      <td>1.00000</td>\n",
       "      <td>1.000000</td>\n",
       "      <td>149388.247500</td>\n",
       "      <td>0.000000</td>\n",
       "    </tr>\n",
       "    <tr>\n",
       "      <th>max</th>\n",
       "      <td>10000.00000</td>\n",
       "      <td>1.581569e+07</td>\n",
       "      <td>NaN</td>\n",
       "      <td>850.000000</td>\n",
       "      <td>NaN</td>\n",
       "      <td>NaN</td>\n",
       "      <td>92.000000</td>\n",
       "      <td>10.000000</td>\n",
       "      <td>250898.090000</td>\n",
       "      <td>4.000000</td>\n",
       "      <td>1.00000</td>\n",
       "      <td>1.000000</td>\n",
       "      <td>199992.480000</td>\n",
       "      <td>1.000000</td>\n",
       "    </tr>\n",
       "  </tbody>\n",
       "</table>\n",
       "</div>"
      ],
      "text/plain": [
       "          RowNumber    CustomerId Surname   CreditScore Geography Gender  \\\n",
       "count   10000.00000  1.000000e+04   10000  10000.000000     10000  10000   \n",
       "unique          NaN           NaN    2932           NaN         3      2   \n",
       "top             NaN           NaN   Smith           NaN    France   Male   \n",
       "freq            NaN           NaN      32           NaN      5014   5457   \n",
       "mean     5000.50000  1.569094e+07     NaN    650.528800       NaN    NaN   \n",
       "std      2886.89568  7.193619e+04     NaN     96.653299       NaN    NaN   \n",
       "min         1.00000  1.556570e+07     NaN    350.000000       NaN    NaN   \n",
       "25%      2500.75000  1.562853e+07     NaN    584.000000       NaN    NaN   \n",
       "50%      5000.50000  1.569074e+07     NaN    652.000000       NaN    NaN   \n",
       "75%      7500.25000  1.575323e+07     NaN    718.000000       NaN    NaN   \n",
       "max     10000.00000  1.581569e+07     NaN    850.000000       NaN    NaN   \n",
       "\n",
       "                 Age       Tenure        Balance  NumOfProducts    HasCrCard  \\\n",
       "count   10000.000000  9091.000000   10000.000000   10000.000000  10000.00000   \n",
       "unique           NaN          NaN            NaN            NaN          NaN   \n",
       "top              NaN          NaN            NaN            NaN          NaN   \n",
       "freq             NaN          NaN            NaN            NaN          NaN   \n",
       "mean       38.921800     4.997690   76485.889288       1.530200      0.70550   \n",
       "std        10.487806     2.894723   62397.405202       0.581654      0.45584   \n",
       "min        18.000000     0.000000       0.000000       1.000000      0.00000   \n",
       "25%        32.000000     2.000000       0.000000       1.000000      0.00000   \n",
       "50%        37.000000     5.000000   97198.540000       1.000000      1.00000   \n",
       "75%        44.000000     7.000000  127644.240000       2.000000      1.00000   \n",
       "max        92.000000    10.000000  250898.090000       4.000000      1.00000   \n",
       "\n",
       "        IsActiveMember  EstimatedSalary        Exited  \n",
       "count     10000.000000     10000.000000  10000.000000  \n",
       "unique             NaN              NaN           NaN  \n",
       "top                NaN              NaN           NaN  \n",
       "freq               NaN              NaN           NaN  \n",
       "mean          0.515100    100090.239881      0.203700  \n",
       "std           0.499797     57510.492818      0.402769  \n",
       "min           0.000000        11.580000      0.000000  \n",
       "25%           0.000000     51002.110000      0.000000  \n",
       "50%           1.000000    100193.915000      0.000000  \n",
       "75%           1.000000    149388.247500      0.000000  \n",
       "max           1.000000    199992.480000      1.000000  "
      ]
     },
     "execution_count": 138,
     "metadata": {},
     "output_type": "execute_result"
    }
   ],
   "source": [
    "df.describe(include='all')"
   ]
  },
  {
   "cell_type": "markdown",
   "id": "3f8dc915",
   "metadata": {},
   "source": [
    "**Подитог:**\n",
    "\n",
    "- кредитный рейтинг варьируется от 350 до 850;\n",
    "- количество продуктов банка у одного клиента от 1 до 4;\n",
    "- также есть признаки с булевым значением 0 или 1, это HasCrCard(наличие кредитной краты) и IsActiveMember(активность клиента).\n"
   ]
  },
  {
   "cell_type": "code",
   "execution_count": 139,
   "id": "f848f033",
   "metadata": {},
   "outputs": [
    {
     "data": {
      "text/html": [
       "<div>\n",
       "<style scoped>\n",
       "    .dataframe tbody tr th:only-of-type {\n",
       "        vertical-align: middle;\n",
       "    }\n",
       "\n",
       "    .dataframe tbody tr th {\n",
       "        vertical-align: top;\n",
       "    }\n",
       "\n",
       "    .dataframe thead th {\n",
       "        text-align: right;\n",
       "    }\n",
       "</style>\n",
       "<table border=\"1\" class=\"dataframe\">\n",
       "  <thead>\n",
       "    <tr style=\"text-align: right;\">\n",
       "      <th></th>\n",
       "      <th>CreditScore</th>\n",
       "      <th>Age</th>\n",
       "      <th>Tenure</th>\n",
       "      <th>Balance</th>\n",
       "      <th>NumOfProducts</th>\n",
       "      <th>HasCrCard</th>\n",
       "      <th>IsActiveMember</th>\n",
       "      <th>EstimatedSalary</th>\n",
       "      <th>Exited</th>\n",
       "    </tr>\n",
       "  </thead>\n",
       "  <tbody>\n",
       "    <tr>\n",
       "      <th>CreditScore</th>\n",
       "      <td>1.000000</td>\n",
       "      <td>-0.003965</td>\n",
       "      <td>-0.000062</td>\n",
       "      <td>0.006268</td>\n",
       "      <td>0.012238</td>\n",
       "      <td>-0.005458</td>\n",
       "      <td>0.025651</td>\n",
       "      <td>-0.001384</td>\n",
       "      <td>-0.027094</td>\n",
       "    </tr>\n",
       "    <tr>\n",
       "      <th>Age</th>\n",
       "      <td>-0.003965</td>\n",
       "      <td>1.000000</td>\n",
       "      <td>-0.013134</td>\n",
       "      <td>0.028308</td>\n",
       "      <td>-0.030680</td>\n",
       "      <td>-0.011721</td>\n",
       "      <td>0.085472</td>\n",
       "      <td>-0.007201</td>\n",
       "      <td>0.285323</td>\n",
       "    </tr>\n",
       "    <tr>\n",
       "      <th>Tenure</th>\n",
       "      <td>-0.000062</td>\n",
       "      <td>-0.013134</td>\n",
       "      <td>1.000000</td>\n",
       "      <td>-0.007911</td>\n",
       "      <td>0.011979</td>\n",
       "      <td>0.027232</td>\n",
       "      <td>-0.032178</td>\n",
       "      <td>0.010520</td>\n",
       "      <td>-0.016761</td>\n",
       "    </tr>\n",
       "    <tr>\n",
       "      <th>Balance</th>\n",
       "      <td>0.006268</td>\n",
       "      <td>0.028308</td>\n",
       "      <td>-0.007911</td>\n",
       "      <td>1.000000</td>\n",
       "      <td>-0.304180</td>\n",
       "      <td>-0.014858</td>\n",
       "      <td>-0.010084</td>\n",
       "      <td>0.012797</td>\n",
       "      <td>0.118533</td>\n",
       "    </tr>\n",
       "    <tr>\n",
       "      <th>NumOfProducts</th>\n",
       "      <td>0.012238</td>\n",
       "      <td>-0.030680</td>\n",
       "      <td>0.011979</td>\n",
       "      <td>-0.304180</td>\n",
       "      <td>1.000000</td>\n",
       "      <td>0.003183</td>\n",
       "      <td>0.009612</td>\n",
       "      <td>0.014204</td>\n",
       "      <td>-0.047820</td>\n",
       "    </tr>\n",
       "    <tr>\n",
       "      <th>HasCrCard</th>\n",
       "      <td>-0.005458</td>\n",
       "      <td>-0.011721</td>\n",
       "      <td>0.027232</td>\n",
       "      <td>-0.014858</td>\n",
       "      <td>0.003183</td>\n",
       "      <td>1.000000</td>\n",
       "      <td>-0.011866</td>\n",
       "      <td>-0.009933</td>\n",
       "      <td>-0.007138</td>\n",
       "    </tr>\n",
       "    <tr>\n",
       "      <th>IsActiveMember</th>\n",
       "      <td>0.025651</td>\n",
       "      <td>0.085472</td>\n",
       "      <td>-0.032178</td>\n",
       "      <td>-0.010084</td>\n",
       "      <td>0.009612</td>\n",
       "      <td>-0.011866</td>\n",
       "      <td>1.000000</td>\n",
       "      <td>-0.011421</td>\n",
       "      <td>-0.156128</td>\n",
       "    </tr>\n",
       "    <tr>\n",
       "      <th>EstimatedSalary</th>\n",
       "      <td>-0.001384</td>\n",
       "      <td>-0.007201</td>\n",
       "      <td>0.010520</td>\n",
       "      <td>0.012797</td>\n",
       "      <td>0.014204</td>\n",
       "      <td>-0.009933</td>\n",
       "      <td>-0.011421</td>\n",
       "      <td>1.000000</td>\n",
       "      <td>0.012097</td>\n",
       "    </tr>\n",
       "    <tr>\n",
       "      <th>Exited</th>\n",
       "      <td>-0.027094</td>\n",
       "      <td>0.285323</td>\n",
       "      <td>-0.016761</td>\n",
       "      <td>0.118533</td>\n",
       "      <td>-0.047820</td>\n",
       "      <td>-0.007138</td>\n",
       "      <td>-0.156128</td>\n",
       "      <td>0.012097</td>\n",
       "      <td>1.000000</td>\n",
       "    </tr>\n",
       "  </tbody>\n",
       "</table>\n",
       "</div>"
      ],
      "text/plain": [
       "                 CreditScore       Age    Tenure   Balance  NumOfProducts  \\\n",
       "CreditScore         1.000000 -0.003965 -0.000062  0.006268       0.012238   \n",
       "Age                -0.003965  1.000000 -0.013134  0.028308      -0.030680   \n",
       "Tenure             -0.000062 -0.013134  1.000000 -0.007911       0.011979   \n",
       "Balance             0.006268  0.028308 -0.007911  1.000000      -0.304180   \n",
       "NumOfProducts       0.012238 -0.030680  0.011979 -0.304180       1.000000   \n",
       "HasCrCard          -0.005458 -0.011721  0.027232 -0.014858       0.003183   \n",
       "IsActiveMember      0.025651  0.085472 -0.032178 -0.010084       0.009612   \n",
       "EstimatedSalary    -0.001384 -0.007201  0.010520  0.012797       0.014204   \n",
       "Exited             -0.027094  0.285323 -0.016761  0.118533      -0.047820   \n",
       "\n",
       "                 HasCrCard  IsActiveMember  EstimatedSalary    Exited  \n",
       "CreditScore      -0.005458        0.025651        -0.001384 -0.027094  \n",
       "Age              -0.011721        0.085472        -0.007201  0.285323  \n",
       "Tenure            0.027232       -0.032178         0.010520 -0.016761  \n",
       "Balance          -0.014858       -0.010084         0.012797  0.118533  \n",
       "NumOfProducts     0.003183        0.009612         0.014204 -0.047820  \n",
       "HasCrCard         1.000000       -0.011866        -0.009933 -0.007138  \n",
       "IsActiveMember   -0.011866        1.000000        -0.011421 -0.156128  \n",
       "EstimatedSalary  -0.009933       -0.011421         1.000000  0.012097  \n",
       "Exited           -0.007138       -0.156128         0.012097  1.000000  "
      ]
     },
     "execution_count": 139,
     "metadata": {},
     "output_type": "execute_result"
    }
   ],
   "source": [
    "df[['CreditScore','Age','Tenure',\\\n",
    "    'Balance','NumOfProducts','HasCrCard','IsActiveMember','EstimatedSalary','Exited']].corr()"
   ]
  },
  {
   "cell_type": "markdown",
   "id": "7b97130a",
   "metadata": {},
   "source": [
    "**Подитог:** Прямой или обратной зависимости между признаками не наблюдается."
   ]
  },
  {
   "cell_type": "markdown",
   "id": "2bb26ff9",
   "metadata": {},
   "source": [
    "## Предобработка данных"
   ]
  },
  {
   "cell_type": "code",
   "execution_count": 140,
   "id": "99fab044",
   "metadata": {},
   "outputs": [
    {
     "data": {
      "text/html": [
       "<div>\n",
       "<style scoped>\n",
       "    .dataframe tbody tr th:only-of-type {\n",
       "        vertical-align: middle;\n",
       "    }\n",
       "\n",
       "    .dataframe tbody tr th {\n",
       "        vertical-align: top;\n",
       "    }\n",
       "\n",
       "    .dataframe thead th {\n",
       "        text-align: right;\n",
       "    }\n",
       "</style>\n",
       "<table border=\"1\" class=\"dataframe\">\n",
       "  <thead>\n",
       "    <tr style=\"text-align: right;\">\n",
       "      <th></th>\n",
       "      <th>row_number</th>\n",
       "      <th>customer_id</th>\n",
       "      <th>surname</th>\n",
       "      <th>credit_score</th>\n",
       "      <th>geography</th>\n",
       "      <th>gender</th>\n",
       "      <th>age</th>\n",
       "      <th>tenure</th>\n",
       "      <th>balance</th>\n",
       "      <th>num_of_products</th>\n",
       "      <th>has_cr_card</th>\n",
       "      <th>is_active_member</th>\n",
       "      <th>estimated_salary</th>\n",
       "      <th>exited</th>\n",
       "    </tr>\n",
       "  </thead>\n",
       "  <tbody>\n",
       "    <tr>\n",
       "      <th>0</th>\n",
       "      <td>1</td>\n",
       "      <td>15634602</td>\n",
       "      <td>Hargrave</td>\n",
       "      <td>619</td>\n",
       "      <td>France</td>\n",
       "      <td>Female</td>\n",
       "      <td>42</td>\n",
       "      <td>2.0</td>\n",
       "      <td>0.00</td>\n",
       "      <td>1</td>\n",
       "      <td>1</td>\n",
       "      <td>1</td>\n",
       "      <td>101348.88</td>\n",
       "      <td>1</td>\n",
       "    </tr>\n",
       "    <tr>\n",
       "      <th>1</th>\n",
       "      <td>2</td>\n",
       "      <td>15647311</td>\n",
       "      <td>Hill</td>\n",
       "      <td>608</td>\n",
       "      <td>Spain</td>\n",
       "      <td>Female</td>\n",
       "      <td>41</td>\n",
       "      <td>1.0</td>\n",
       "      <td>83807.86</td>\n",
       "      <td>1</td>\n",
       "      <td>0</td>\n",
       "      <td>1</td>\n",
       "      <td>112542.58</td>\n",
       "      <td>0</td>\n",
       "    </tr>\n",
       "    <tr>\n",
       "      <th>2</th>\n",
       "      <td>3</td>\n",
       "      <td>15619304</td>\n",
       "      <td>Onio</td>\n",
       "      <td>502</td>\n",
       "      <td>France</td>\n",
       "      <td>Female</td>\n",
       "      <td>42</td>\n",
       "      <td>8.0</td>\n",
       "      <td>159660.80</td>\n",
       "      <td>3</td>\n",
       "      <td>1</td>\n",
       "      <td>0</td>\n",
       "      <td>113931.57</td>\n",
       "      <td>1</td>\n",
       "    </tr>\n",
       "    <tr>\n",
       "      <th>3</th>\n",
       "      <td>4</td>\n",
       "      <td>15701354</td>\n",
       "      <td>Boni</td>\n",
       "      <td>699</td>\n",
       "      <td>France</td>\n",
       "      <td>Female</td>\n",
       "      <td>39</td>\n",
       "      <td>1.0</td>\n",
       "      <td>0.00</td>\n",
       "      <td>2</td>\n",
       "      <td>0</td>\n",
       "      <td>0</td>\n",
       "      <td>93826.63</td>\n",
       "      <td>0</td>\n",
       "    </tr>\n",
       "    <tr>\n",
       "      <th>4</th>\n",
       "      <td>5</td>\n",
       "      <td>15737888</td>\n",
       "      <td>Mitchell</td>\n",
       "      <td>850</td>\n",
       "      <td>Spain</td>\n",
       "      <td>Female</td>\n",
       "      <td>43</td>\n",
       "      <td>2.0</td>\n",
       "      <td>125510.82</td>\n",
       "      <td>1</td>\n",
       "      <td>1</td>\n",
       "      <td>1</td>\n",
       "      <td>79084.10</td>\n",
       "      <td>0</td>\n",
       "    </tr>\n",
       "    <tr>\n",
       "      <th>...</th>\n",
       "      <td>...</td>\n",
       "      <td>...</td>\n",
       "      <td>...</td>\n",
       "      <td>...</td>\n",
       "      <td>...</td>\n",
       "      <td>...</td>\n",
       "      <td>...</td>\n",
       "      <td>...</td>\n",
       "      <td>...</td>\n",
       "      <td>...</td>\n",
       "      <td>...</td>\n",
       "      <td>...</td>\n",
       "      <td>...</td>\n",
       "      <td>...</td>\n",
       "    </tr>\n",
       "    <tr>\n",
       "      <th>9995</th>\n",
       "      <td>9996</td>\n",
       "      <td>15606229</td>\n",
       "      <td>Obijiaku</td>\n",
       "      <td>771</td>\n",
       "      <td>France</td>\n",
       "      <td>Male</td>\n",
       "      <td>39</td>\n",
       "      <td>5.0</td>\n",
       "      <td>0.00</td>\n",
       "      <td>2</td>\n",
       "      <td>1</td>\n",
       "      <td>0</td>\n",
       "      <td>96270.64</td>\n",
       "      <td>0</td>\n",
       "    </tr>\n",
       "    <tr>\n",
       "      <th>9996</th>\n",
       "      <td>9997</td>\n",
       "      <td>15569892</td>\n",
       "      <td>Johnstone</td>\n",
       "      <td>516</td>\n",
       "      <td>France</td>\n",
       "      <td>Male</td>\n",
       "      <td>35</td>\n",
       "      <td>10.0</td>\n",
       "      <td>57369.61</td>\n",
       "      <td>1</td>\n",
       "      <td>1</td>\n",
       "      <td>1</td>\n",
       "      <td>101699.77</td>\n",
       "      <td>0</td>\n",
       "    </tr>\n",
       "    <tr>\n",
       "      <th>9997</th>\n",
       "      <td>9998</td>\n",
       "      <td>15584532</td>\n",
       "      <td>Liu</td>\n",
       "      <td>709</td>\n",
       "      <td>France</td>\n",
       "      <td>Female</td>\n",
       "      <td>36</td>\n",
       "      <td>7.0</td>\n",
       "      <td>0.00</td>\n",
       "      <td>1</td>\n",
       "      <td>0</td>\n",
       "      <td>1</td>\n",
       "      <td>42085.58</td>\n",
       "      <td>1</td>\n",
       "    </tr>\n",
       "    <tr>\n",
       "      <th>9998</th>\n",
       "      <td>9999</td>\n",
       "      <td>15682355</td>\n",
       "      <td>Sabbatini</td>\n",
       "      <td>772</td>\n",
       "      <td>Germany</td>\n",
       "      <td>Male</td>\n",
       "      <td>42</td>\n",
       "      <td>3.0</td>\n",
       "      <td>75075.31</td>\n",
       "      <td>2</td>\n",
       "      <td>1</td>\n",
       "      <td>0</td>\n",
       "      <td>92888.52</td>\n",
       "      <td>1</td>\n",
       "    </tr>\n",
       "    <tr>\n",
       "      <th>9999</th>\n",
       "      <td>10000</td>\n",
       "      <td>15628319</td>\n",
       "      <td>Walker</td>\n",
       "      <td>792</td>\n",
       "      <td>France</td>\n",
       "      <td>Female</td>\n",
       "      <td>28</td>\n",
       "      <td>NaN</td>\n",
       "      <td>130142.79</td>\n",
       "      <td>1</td>\n",
       "      <td>1</td>\n",
       "      <td>0</td>\n",
       "      <td>38190.78</td>\n",
       "      <td>0</td>\n",
       "    </tr>\n",
       "  </tbody>\n",
       "</table>\n",
       "<p>10000 rows × 14 columns</p>\n",
       "</div>"
      ],
      "text/plain": [
       "      row_number  customer_id    surname  credit_score geography  gender  age  \\\n",
       "0              1     15634602   Hargrave           619    France  Female   42   \n",
       "1              2     15647311       Hill           608     Spain  Female   41   \n",
       "2              3     15619304       Onio           502    France  Female   42   \n",
       "3              4     15701354       Boni           699    France  Female   39   \n",
       "4              5     15737888   Mitchell           850     Spain  Female   43   \n",
       "...          ...          ...        ...           ...       ...     ...  ...   \n",
       "9995        9996     15606229   Obijiaku           771    France    Male   39   \n",
       "9996        9997     15569892  Johnstone           516    France    Male   35   \n",
       "9997        9998     15584532        Liu           709    France  Female   36   \n",
       "9998        9999     15682355  Sabbatini           772   Germany    Male   42   \n",
       "9999       10000     15628319     Walker           792    France  Female   28   \n",
       "\n",
       "      tenure    balance  num_of_products  has_cr_card  is_active_member  \\\n",
       "0        2.0       0.00                1            1                 1   \n",
       "1        1.0   83807.86                1            0                 1   \n",
       "2        8.0  159660.80                3            1                 0   \n",
       "3        1.0       0.00                2            0                 0   \n",
       "4        2.0  125510.82                1            1                 1   \n",
       "...      ...        ...              ...          ...               ...   \n",
       "9995     5.0       0.00                2            1                 0   \n",
       "9996    10.0   57369.61                1            1                 1   \n",
       "9997     7.0       0.00                1            0                 1   \n",
       "9998     3.0   75075.31                2            1                 0   \n",
       "9999     NaN  130142.79                1            1                 0   \n",
       "\n",
       "      estimated_salary  exited  \n",
       "0            101348.88       1  \n",
       "1            112542.58       0  \n",
       "2            113931.57       1  \n",
       "3             93826.63       0  \n",
       "4             79084.10       0  \n",
       "...                ...     ...  \n",
       "9995          96270.64       0  \n",
       "9996         101699.77       0  \n",
       "9997          42085.58       1  \n",
       "9998          92888.52       1  \n",
       "9999          38190.78       0  \n",
       "\n",
       "[10000 rows x 14 columns]"
      ]
     },
     "execution_count": 140,
     "metadata": {},
     "output_type": "execute_result"
    }
   ],
   "source": [
    "# переведем названия колонок в нижний регистр и разделим слова знаком \"_\"\n",
    "df.columns = df.columns.str.lower()\n",
    "df = df.rename(columns={'rownumber':'row_number','customerid':'customer_id',\\\n",
    "                        'creditscore':'credit_score','numofproducts':'num_of_products',\\\n",
    "                        'hascrcard':'has_cr_card', 'isactivemember':'is_active_member',\\\n",
    "                        'estimatedsalary':'estimated_salary'})\n",
    "df"
   ]
  },
  {
   "cell_type": "code",
   "execution_count": 141,
   "id": "9845300e",
   "metadata": {},
   "outputs": [
    {
     "data": {
      "text/html": [
       "<div>\n",
       "<style scoped>\n",
       "    .dataframe tbody tr th:only-of-type {\n",
       "        vertical-align: middle;\n",
       "    }\n",
       "\n",
       "    .dataframe tbody tr th {\n",
       "        vertical-align: top;\n",
       "    }\n",
       "\n",
       "    .dataframe thead th {\n",
       "        text-align: right;\n",
       "    }\n",
       "</style>\n",
       "<table border=\"1\" class=\"dataframe\">\n",
       "  <thead>\n",
       "    <tr style=\"text-align: right;\">\n",
       "      <th></th>\n",
       "      <th>credit_score</th>\n",
       "      <th>geography</th>\n",
       "      <th>gender</th>\n",
       "      <th>age</th>\n",
       "      <th>tenure</th>\n",
       "      <th>balance</th>\n",
       "      <th>num_of_products</th>\n",
       "      <th>has_cr_card</th>\n",
       "      <th>is_active_member</th>\n",
       "      <th>estimated_salary</th>\n",
       "      <th>exited</th>\n",
       "    </tr>\n",
       "  </thead>\n",
       "  <tbody>\n",
       "    <tr>\n",
       "      <th>0</th>\n",
       "      <td>619</td>\n",
       "      <td>France</td>\n",
       "      <td>Female</td>\n",
       "      <td>42</td>\n",
       "      <td>2.0</td>\n",
       "      <td>0.00</td>\n",
       "      <td>1</td>\n",
       "      <td>1</td>\n",
       "      <td>1</td>\n",
       "      <td>101348.88</td>\n",
       "      <td>1</td>\n",
       "    </tr>\n",
       "    <tr>\n",
       "      <th>1</th>\n",
       "      <td>608</td>\n",
       "      <td>Spain</td>\n",
       "      <td>Female</td>\n",
       "      <td>41</td>\n",
       "      <td>1.0</td>\n",
       "      <td>83807.86</td>\n",
       "      <td>1</td>\n",
       "      <td>0</td>\n",
       "      <td>1</td>\n",
       "      <td>112542.58</td>\n",
       "      <td>0</td>\n",
       "    </tr>\n",
       "    <tr>\n",
       "      <th>2</th>\n",
       "      <td>502</td>\n",
       "      <td>France</td>\n",
       "      <td>Female</td>\n",
       "      <td>42</td>\n",
       "      <td>8.0</td>\n",
       "      <td>159660.80</td>\n",
       "      <td>3</td>\n",
       "      <td>1</td>\n",
       "      <td>0</td>\n",
       "      <td>113931.57</td>\n",
       "      <td>1</td>\n",
       "    </tr>\n",
       "    <tr>\n",
       "      <th>3</th>\n",
       "      <td>699</td>\n",
       "      <td>France</td>\n",
       "      <td>Female</td>\n",
       "      <td>39</td>\n",
       "      <td>1.0</td>\n",
       "      <td>0.00</td>\n",
       "      <td>2</td>\n",
       "      <td>0</td>\n",
       "      <td>0</td>\n",
       "      <td>93826.63</td>\n",
       "      <td>0</td>\n",
       "    </tr>\n",
       "    <tr>\n",
       "      <th>4</th>\n",
       "      <td>850</td>\n",
       "      <td>Spain</td>\n",
       "      <td>Female</td>\n",
       "      <td>43</td>\n",
       "      <td>2.0</td>\n",
       "      <td>125510.82</td>\n",
       "      <td>1</td>\n",
       "      <td>1</td>\n",
       "      <td>1</td>\n",
       "      <td>79084.10</td>\n",
       "      <td>0</td>\n",
       "    </tr>\n",
       "    <tr>\n",
       "      <th>...</th>\n",
       "      <td>...</td>\n",
       "      <td>...</td>\n",
       "      <td>...</td>\n",
       "      <td>...</td>\n",
       "      <td>...</td>\n",
       "      <td>...</td>\n",
       "      <td>...</td>\n",
       "      <td>...</td>\n",
       "      <td>...</td>\n",
       "      <td>...</td>\n",
       "      <td>...</td>\n",
       "    </tr>\n",
       "    <tr>\n",
       "      <th>9995</th>\n",
       "      <td>771</td>\n",
       "      <td>France</td>\n",
       "      <td>Male</td>\n",
       "      <td>39</td>\n",
       "      <td>5.0</td>\n",
       "      <td>0.00</td>\n",
       "      <td>2</td>\n",
       "      <td>1</td>\n",
       "      <td>0</td>\n",
       "      <td>96270.64</td>\n",
       "      <td>0</td>\n",
       "    </tr>\n",
       "    <tr>\n",
       "      <th>9996</th>\n",
       "      <td>516</td>\n",
       "      <td>France</td>\n",
       "      <td>Male</td>\n",
       "      <td>35</td>\n",
       "      <td>10.0</td>\n",
       "      <td>57369.61</td>\n",
       "      <td>1</td>\n",
       "      <td>1</td>\n",
       "      <td>1</td>\n",
       "      <td>101699.77</td>\n",
       "      <td>0</td>\n",
       "    </tr>\n",
       "    <tr>\n",
       "      <th>9997</th>\n",
       "      <td>709</td>\n",
       "      <td>France</td>\n",
       "      <td>Female</td>\n",
       "      <td>36</td>\n",
       "      <td>7.0</td>\n",
       "      <td>0.00</td>\n",
       "      <td>1</td>\n",
       "      <td>0</td>\n",
       "      <td>1</td>\n",
       "      <td>42085.58</td>\n",
       "      <td>1</td>\n",
       "    </tr>\n",
       "    <tr>\n",
       "      <th>9998</th>\n",
       "      <td>772</td>\n",
       "      <td>Germany</td>\n",
       "      <td>Male</td>\n",
       "      <td>42</td>\n",
       "      <td>3.0</td>\n",
       "      <td>75075.31</td>\n",
       "      <td>2</td>\n",
       "      <td>1</td>\n",
       "      <td>0</td>\n",
       "      <td>92888.52</td>\n",
       "      <td>1</td>\n",
       "    </tr>\n",
       "    <tr>\n",
       "      <th>9999</th>\n",
       "      <td>792</td>\n",
       "      <td>France</td>\n",
       "      <td>Female</td>\n",
       "      <td>28</td>\n",
       "      <td>NaN</td>\n",
       "      <td>130142.79</td>\n",
       "      <td>1</td>\n",
       "      <td>1</td>\n",
       "      <td>0</td>\n",
       "      <td>38190.78</td>\n",
       "      <td>0</td>\n",
       "    </tr>\n",
       "  </tbody>\n",
       "</table>\n",
       "<p>10000 rows × 11 columns</p>\n",
       "</div>"
      ],
      "text/plain": [
       "      credit_score geography  gender  age  tenure    balance  num_of_products  \\\n",
       "0              619    France  Female   42     2.0       0.00                1   \n",
       "1              608     Spain  Female   41     1.0   83807.86                1   \n",
       "2              502    France  Female   42     8.0  159660.80                3   \n",
       "3              699    France  Female   39     1.0       0.00                2   \n",
       "4              850     Spain  Female   43     2.0  125510.82                1   \n",
       "...            ...       ...     ...  ...     ...        ...              ...   \n",
       "9995           771    France    Male   39     5.0       0.00                2   \n",
       "9996           516    France    Male   35    10.0   57369.61                1   \n",
       "9997           709    France  Female   36     7.0       0.00                1   \n",
       "9998           772   Germany    Male   42     3.0   75075.31                2   \n",
       "9999           792    France  Female   28     NaN  130142.79                1   \n",
       "\n",
       "      has_cr_card  is_active_member  estimated_salary  exited  \n",
       "0               1                 1         101348.88       1  \n",
       "1               0                 1         112542.58       0  \n",
       "2               1                 0         113931.57       1  \n",
       "3               0                 0          93826.63       0  \n",
       "4               1                 1          79084.10       0  \n",
       "...           ...               ...               ...     ...  \n",
       "9995            1                 0          96270.64       0  \n",
       "9996            1                 1         101699.77       0  \n",
       "9997            0                 1          42085.58       1  \n",
       "9998            1                 0          92888.52       1  \n",
       "9999            1                 0          38190.78       0  \n",
       "\n",
       "[10000 rows x 11 columns]"
      ]
     },
     "execution_count": 141,
     "metadata": {},
     "output_type": "execute_result"
    }
   ],
   "source": [
    "# удалим столбец обозначающий индекс\n",
    "del df['row_number']\n",
    "del df['customer_id']\n",
    "del df['surname']\n",
    "df"
   ]
  },
  {
   "cell_type": "markdown",
   "id": "81165ccb",
   "metadata": {},
   "source": [
    "<div class=\"alert alert-success\">\n",
    "\n",
    "\n",
    "    \n",
    "Способ короче:\n",
    "    \n",
    "`data_ohe = df.drop(\n",
    "    ['RowNumber', 'CustomerId', 'Surname'], axis=1\n",
    ")`\n",
    "</div> "
   ]
  },
  {
   "cell_type": "markdown",
   "id": "09813b19",
   "metadata": {},
   "source": [
    "### Заполним пропуски \n"
   ]
  },
  {
   "cell_type": "code",
   "execution_count": 142,
   "id": "647260a1",
   "metadata": {},
   "outputs": [
    {
     "data": {
      "text/plain": [
       "count    9091.000000\n",
       "mean        4.997690\n",
       "std         2.894723\n",
       "min         0.000000\n",
       "25%         2.000000\n",
       "50%         5.000000\n",
       "75%         7.000000\n",
       "max        10.000000\n",
       "Name: tenure, dtype: float64"
      ]
     },
     "execution_count": 142,
     "metadata": {},
     "output_type": "execute_result"
    }
   ],
   "source": [
    "df['tenure'].describe()"
   ]
  },
  {
   "cell_type": "code",
   "execution_count": 143,
   "id": "f2ecf439",
   "metadata": {},
   "outputs": [
    {
     "data": {
      "text/plain": [
       "1.0     952\n",
       "2.0     950\n",
       "8.0     933\n",
       "3.0     928\n",
       "5.0     927\n",
       "7.0     925\n",
       "4.0     885\n",
       "9.0     882\n",
       "6.0     881\n",
       "10.0    446\n",
       "0.0     382\n",
       "Name: tenure, dtype: int64"
      ]
     },
     "execution_count": 143,
     "metadata": {},
     "output_type": "execute_result"
    }
   ],
   "source": [
    "df['tenure'].value_counts()"
   ]
  },
  {
   "cell_type": "markdown",
   "id": "d6e31843",
   "metadata": {},
   "source": [
    "### Вывод\n",
    "- как можно увидеть среднее и медиана = **5**;\n",
    "- значение 0 встречается реже остальных в 2 и более раза, кроме 10, предположение, что незаполненные поля = 0, не вижу логичным;\n",
    "- корелляции с другими признаками также не наблюдается;\n",
    "- логического решения данного вопроса не вижу\n",
    "\n",
    "По той причине, что очевидной взаимосвязи пропусков в Tenure не наблюдается, удалим данные строки."
   ]
  },
  {
   "cell_type": "code",
   "execution_count": 144,
   "id": "d54f3760",
   "metadata": {},
   "outputs": [],
   "source": [
    "df = df.dropna()"
   ]
  },
  {
   "cell_type": "code",
   "execution_count": 145,
   "id": "490ed253",
   "metadata": {},
   "outputs": [
    {
     "data": {
      "text/plain": [
       "1.0     952\n",
       "2.0     950\n",
       "8.0     933\n",
       "3.0     928\n",
       "5.0     927\n",
       "7.0     925\n",
       "4.0     885\n",
       "9.0     882\n",
       "6.0     881\n",
       "10.0    446\n",
       "0.0     382\n",
       "Name: tenure, dtype: int64"
      ]
     },
     "execution_count": 145,
     "metadata": {},
     "output_type": "execute_result"
    }
   ],
   "source": [
    "df['tenure'].value_counts()"
   ]
  },
  {
   "cell_type": "markdown",
   "id": "3c897255",
   "metadata": {},
   "source": [
    "***Подитог***:  количества людей являющихся клиентами банка распределена от 1 до 9 лет сбалансированно. \n",
    "\n",
    "В 2 раза меньше людей являющихся клиентов банка 10 лет и 0 лет. "
   ]
  },
  {
   "cell_type": "code",
   "execution_count": 146,
   "id": "28fd9d98",
   "metadata": {},
   "outputs": [
    {
     "data": {
      "text/plain": [
       "Male      4974\n",
       "Female    4117\n",
       "Name: gender, dtype: int64"
      ]
     },
     "execution_count": 146,
     "metadata": {},
     "output_type": "execute_result"
    }
   ],
   "source": [
    "df['gender'].value_counts()"
   ]
  },
  {
   "cell_type": "code",
   "execution_count": 147,
   "id": "e6756d8e",
   "metadata": {},
   "outputs": [
    {
     "data": {
      "text/html": [
       "<div>\n",
       "<style scoped>\n",
       "    .dataframe tbody tr th:only-of-type {\n",
       "        vertical-align: middle;\n",
       "    }\n",
       "\n",
       "    .dataframe tbody tr th {\n",
       "        vertical-align: top;\n",
       "    }\n",
       "\n",
       "    .dataframe thead th {\n",
       "        text-align: right;\n",
       "    }\n",
       "</style>\n",
       "<table border=\"1\" class=\"dataframe\">\n",
       "  <thead>\n",
       "    <tr style=\"text-align: right;\">\n",
       "      <th></th>\n",
       "      <th>Female</th>\n",
       "      <th>Male</th>\n",
       "    </tr>\n",
       "  </thead>\n",
       "  <tbody>\n",
       "    <tr>\n",
       "      <th>0</th>\n",
       "      <td>1</td>\n",
       "      <td>0</td>\n",
       "    </tr>\n",
       "    <tr>\n",
       "      <th>1</th>\n",
       "      <td>1</td>\n",
       "      <td>0</td>\n",
       "    </tr>\n",
       "    <tr>\n",
       "      <th>2</th>\n",
       "      <td>1</td>\n",
       "      <td>0</td>\n",
       "    </tr>\n",
       "    <tr>\n",
       "      <th>3</th>\n",
       "      <td>1</td>\n",
       "      <td>0</td>\n",
       "    </tr>\n",
       "    <tr>\n",
       "      <th>4</th>\n",
       "      <td>1</td>\n",
       "      <td>0</td>\n",
       "    </tr>\n",
       "    <tr>\n",
       "      <th>5</th>\n",
       "      <td>0</td>\n",
       "      <td>1</td>\n",
       "    </tr>\n",
       "    <tr>\n",
       "      <th>6</th>\n",
       "      <td>0</td>\n",
       "      <td>1</td>\n",
       "    </tr>\n",
       "    <tr>\n",
       "      <th>7</th>\n",
       "      <td>1</td>\n",
       "      <td>0</td>\n",
       "    </tr>\n",
       "    <tr>\n",
       "      <th>8</th>\n",
       "      <td>0</td>\n",
       "      <td>1</td>\n",
       "    </tr>\n",
       "    <tr>\n",
       "      <th>9</th>\n",
       "      <td>0</td>\n",
       "      <td>1</td>\n",
       "    </tr>\n",
       "  </tbody>\n",
       "</table>\n",
       "</div>"
      ],
      "text/plain": [
       "   Female  Male\n",
       "0       1     0\n",
       "1       1     0\n",
       "2       1     0\n",
       "3       1     0\n",
       "4       1     0\n",
       "5       0     1\n",
       "6       0     1\n",
       "7       1     0\n",
       "8       0     1\n",
       "9       0     1"
      ]
     },
     "execution_count": 147,
     "metadata": {},
     "output_type": "execute_result"
    }
   ],
   "source": [
    "# разобьем столбец gender на 2 численных, в одном будут мужчины в другом мужчины\n",
    "data_ohe = pd.get_dummies(df['gender'],columns=['Gender_F', 'Gender_M'])\n",
    "data_ohe.head(10)"
   ]
  },
  {
   "cell_type": "code",
   "execution_count": 148,
   "id": "e694cb76",
   "metadata": {},
   "outputs": [
    {
     "data": {
      "text/html": [
       "<div>\n",
       "<style scoped>\n",
       "    .dataframe tbody tr th:only-of-type {\n",
       "        vertical-align: middle;\n",
       "    }\n",
       "\n",
       "    .dataframe tbody tr th {\n",
       "        vertical-align: top;\n",
       "    }\n",
       "\n",
       "    .dataframe thead th {\n",
       "        text-align: right;\n",
       "    }\n",
       "</style>\n",
       "<table border=\"1\" class=\"dataframe\">\n",
       "  <thead>\n",
       "    <tr style=\"text-align: right;\">\n",
       "      <th></th>\n",
       "      <th>credit_score</th>\n",
       "      <th>age</th>\n",
       "      <th>tenure</th>\n",
       "      <th>balance</th>\n",
       "      <th>num_of_products</th>\n",
       "      <th>has_cr_card</th>\n",
       "      <th>is_active_member</th>\n",
       "      <th>estimated_salary</th>\n",
       "      <th>exited</th>\n",
       "      <th>geography_Germany</th>\n",
       "      <th>geography_Spain</th>\n",
       "      <th>gender_Male</th>\n",
       "    </tr>\n",
       "  </thead>\n",
       "  <tbody>\n",
       "    <tr>\n",
       "      <th>0</th>\n",
       "      <td>619</td>\n",
       "      <td>42</td>\n",
       "      <td>2.0</td>\n",
       "      <td>0.00</td>\n",
       "      <td>1</td>\n",
       "      <td>1</td>\n",
       "      <td>1</td>\n",
       "      <td>101348.88</td>\n",
       "      <td>1</td>\n",
       "      <td>0</td>\n",
       "      <td>0</td>\n",
       "      <td>0</td>\n",
       "    </tr>\n",
       "    <tr>\n",
       "      <th>1</th>\n",
       "      <td>608</td>\n",
       "      <td>41</td>\n",
       "      <td>1.0</td>\n",
       "      <td>83807.86</td>\n",
       "      <td>1</td>\n",
       "      <td>0</td>\n",
       "      <td>1</td>\n",
       "      <td>112542.58</td>\n",
       "      <td>0</td>\n",
       "      <td>0</td>\n",
       "      <td>1</td>\n",
       "      <td>0</td>\n",
       "    </tr>\n",
       "    <tr>\n",
       "      <th>2</th>\n",
       "      <td>502</td>\n",
       "      <td>42</td>\n",
       "      <td>8.0</td>\n",
       "      <td>159660.80</td>\n",
       "      <td>3</td>\n",
       "      <td>1</td>\n",
       "      <td>0</td>\n",
       "      <td>113931.57</td>\n",
       "      <td>1</td>\n",
       "      <td>0</td>\n",
       "      <td>0</td>\n",
       "      <td>0</td>\n",
       "    </tr>\n",
       "    <tr>\n",
       "      <th>3</th>\n",
       "      <td>699</td>\n",
       "      <td>39</td>\n",
       "      <td>1.0</td>\n",
       "      <td>0.00</td>\n",
       "      <td>2</td>\n",
       "      <td>0</td>\n",
       "      <td>0</td>\n",
       "      <td>93826.63</td>\n",
       "      <td>0</td>\n",
       "      <td>0</td>\n",
       "      <td>0</td>\n",
       "      <td>0</td>\n",
       "    </tr>\n",
       "    <tr>\n",
       "      <th>4</th>\n",
       "      <td>850</td>\n",
       "      <td>43</td>\n",
       "      <td>2.0</td>\n",
       "      <td>125510.82</td>\n",
       "      <td>1</td>\n",
       "      <td>1</td>\n",
       "      <td>1</td>\n",
       "      <td>79084.10</td>\n",
       "      <td>0</td>\n",
       "      <td>0</td>\n",
       "      <td>1</td>\n",
       "      <td>0</td>\n",
       "    </tr>\n",
       "    <tr>\n",
       "      <th>...</th>\n",
       "      <td>...</td>\n",
       "      <td>...</td>\n",
       "      <td>...</td>\n",
       "      <td>...</td>\n",
       "      <td>...</td>\n",
       "      <td>...</td>\n",
       "      <td>...</td>\n",
       "      <td>...</td>\n",
       "      <td>...</td>\n",
       "      <td>...</td>\n",
       "      <td>...</td>\n",
       "      <td>...</td>\n",
       "    </tr>\n",
       "    <tr>\n",
       "      <th>9994</th>\n",
       "      <td>800</td>\n",
       "      <td>29</td>\n",
       "      <td>2.0</td>\n",
       "      <td>0.00</td>\n",
       "      <td>2</td>\n",
       "      <td>0</td>\n",
       "      <td>0</td>\n",
       "      <td>167773.55</td>\n",
       "      <td>0</td>\n",
       "      <td>0</td>\n",
       "      <td>0</td>\n",
       "      <td>0</td>\n",
       "    </tr>\n",
       "    <tr>\n",
       "      <th>9995</th>\n",
       "      <td>771</td>\n",
       "      <td>39</td>\n",
       "      <td>5.0</td>\n",
       "      <td>0.00</td>\n",
       "      <td>2</td>\n",
       "      <td>1</td>\n",
       "      <td>0</td>\n",
       "      <td>96270.64</td>\n",
       "      <td>0</td>\n",
       "      <td>0</td>\n",
       "      <td>0</td>\n",
       "      <td>1</td>\n",
       "    </tr>\n",
       "    <tr>\n",
       "      <th>9996</th>\n",
       "      <td>516</td>\n",
       "      <td>35</td>\n",
       "      <td>10.0</td>\n",
       "      <td>57369.61</td>\n",
       "      <td>1</td>\n",
       "      <td>1</td>\n",
       "      <td>1</td>\n",
       "      <td>101699.77</td>\n",
       "      <td>0</td>\n",
       "      <td>0</td>\n",
       "      <td>0</td>\n",
       "      <td>1</td>\n",
       "    </tr>\n",
       "    <tr>\n",
       "      <th>9997</th>\n",
       "      <td>709</td>\n",
       "      <td>36</td>\n",
       "      <td>7.0</td>\n",
       "      <td>0.00</td>\n",
       "      <td>1</td>\n",
       "      <td>0</td>\n",
       "      <td>1</td>\n",
       "      <td>42085.58</td>\n",
       "      <td>1</td>\n",
       "      <td>0</td>\n",
       "      <td>0</td>\n",
       "      <td>0</td>\n",
       "    </tr>\n",
       "    <tr>\n",
       "      <th>9998</th>\n",
       "      <td>772</td>\n",
       "      <td>42</td>\n",
       "      <td>3.0</td>\n",
       "      <td>75075.31</td>\n",
       "      <td>2</td>\n",
       "      <td>1</td>\n",
       "      <td>0</td>\n",
       "      <td>92888.52</td>\n",
       "      <td>1</td>\n",
       "      <td>1</td>\n",
       "      <td>0</td>\n",
       "      <td>1</td>\n",
       "    </tr>\n",
       "  </tbody>\n",
       "</table>\n",
       "<p>9091 rows × 12 columns</p>\n",
       "</div>"
      ],
      "text/plain": [
       "      credit_score  age  tenure    balance  num_of_products  has_cr_card  \\\n",
       "0              619   42     2.0       0.00                1            1   \n",
       "1              608   41     1.0   83807.86                1            0   \n",
       "2              502   42     8.0  159660.80                3            1   \n",
       "3              699   39     1.0       0.00                2            0   \n",
       "4              850   43     2.0  125510.82                1            1   \n",
       "...            ...  ...     ...        ...              ...          ...   \n",
       "9994           800   29     2.0       0.00                2            0   \n",
       "9995           771   39     5.0       0.00                2            1   \n",
       "9996           516   35    10.0   57369.61                1            1   \n",
       "9997           709   36     7.0       0.00                1            0   \n",
       "9998           772   42     3.0   75075.31                2            1   \n",
       "\n",
       "      is_active_member  estimated_salary  exited  geography_Germany  \\\n",
       "0                    1         101348.88       1                  0   \n",
       "1                    1         112542.58       0                  0   \n",
       "2                    0         113931.57       1                  0   \n",
       "3                    0          93826.63       0                  0   \n",
       "4                    1          79084.10       0                  0   \n",
       "...                ...               ...     ...                ...   \n",
       "9994                 0         167773.55       0                  0   \n",
       "9995                 0          96270.64       0                  0   \n",
       "9996                 1         101699.77       0                  0   \n",
       "9997                 1          42085.58       1                  0   \n",
       "9998                 0          92888.52       1                  1   \n",
       "\n",
       "      geography_Spain  gender_Male  \n",
       "0                   0            0  \n",
       "1                   1            0  \n",
       "2                   0            0  \n",
       "3                   0            0  \n",
       "4                   1            0  \n",
       "...               ...          ...  \n",
       "9994                0            0  \n",
       "9995                0            1  \n",
       "9996                0            1  \n",
       "9997                0            0  \n",
       "9998                0            1  \n",
       "\n",
       "[9091 rows x 12 columns]"
      ]
     },
     "execution_count": 148,
     "metadata": {},
     "output_type": "execute_result"
    }
   ],
   "source": [
    "# Данные подготовим методом OHE, что позволит нам использовать разные модели и не попасть в дамми ловушку\n",
    "df = pd.get_dummies(df, drop_first=True)\n",
    "df"
   ]
  },
  {
   "cell_type": "markdown",
   "id": "555b483e",
   "metadata": {},
   "source": [
    "### Вывод:\n",
    "\n",
    "В новом датасете кол-во столбцов стало 12. Столбец Geography содержал 3 класса, Gender 2 класса — в результате мы получили только 2 и 1 столбцов соответственно, что позволяет избежать дами-ловушки."
   ]
  },
  {
   "cell_type": "code",
   "execution_count": 149,
   "id": "6a719e62",
   "metadata": {},
   "outputs": [],
   "source": [
    "# создадим новые столбцы\n",
    "# df.loc[df['gender']=='Male', 'gender_male'] = 1\n",
    "# df.loc[df['gender']=='Female', 'gender_female'] = 1"
   ]
  },
  {
   "cell_type": "code",
   "execution_count": 150,
   "id": "7c4a3bb1",
   "metadata": {},
   "outputs": [],
   "source": [
    "# заполним пропущенные значения в новых столбцах\n",
    "# df['gender_male'] = df['gender_male'].fillna(0)\n",
    "# df['gender_female'] = df['gender_female'].fillna(0)\n"
   ]
  },
  {
   "cell_type": "code",
   "execution_count": 151,
   "id": "6e62023e",
   "metadata": {},
   "outputs": [
    {
     "data": {
      "text/html": [
       "<div>\n",
       "<style scoped>\n",
       "    .dataframe tbody tr th:only-of-type {\n",
       "        vertical-align: middle;\n",
       "    }\n",
       "\n",
       "    .dataframe tbody tr th {\n",
       "        vertical-align: top;\n",
       "    }\n",
       "\n",
       "    .dataframe thead th {\n",
       "        text-align: right;\n",
       "    }\n",
       "</style>\n",
       "<table border=\"1\" class=\"dataframe\">\n",
       "  <thead>\n",
       "    <tr style=\"text-align: right;\">\n",
       "      <th></th>\n",
       "      <th>credit_score</th>\n",
       "      <th>age</th>\n",
       "      <th>tenure</th>\n",
       "      <th>balance</th>\n",
       "      <th>num_of_products</th>\n",
       "      <th>has_cr_card</th>\n",
       "      <th>is_active_member</th>\n",
       "      <th>estimated_salary</th>\n",
       "      <th>exited</th>\n",
       "      <th>geography_Germany</th>\n",
       "      <th>geography_Spain</th>\n",
       "      <th>gender_Male</th>\n",
       "    </tr>\n",
       "  </thead>\n",
       "  <tbody>\n",
       "    <tr>\n",
       "      <th>0</th>\n",
       "      <td>619</td>\n",
       "      <td>42</td>\n",
       "      <td>2.0</td>\n",
       "      <td>0.00</td>\n",
       "      <td>1</td>\n",
       "      <td>1</td>\n",
       "      <td>1</td>\n",
       "      <td>101348.88</td>\n",
       "      <td>1</td>\n",
       "      <td>0</td>\n",
       "      <td>0</td>\n",
       "      <td>0</td>\n",
       "    </tr>\n",
       "    <tr>\n",
       "      <th>1</th>\n",
       "      <td>608</td>\n",
       "      <td>41</td>\n",
       "      <td>1.0</td>\n",
       "      <td>83807.86</td>\n",
       "      <td>1</td>\n",
       "      <td>0</td>\n",
       "      <td>1</td>\n",
       "      <td>112542.58</td>\n",
       "      <td>0</td>\n",
       "      <td>0</td>\n",
       "      <td>1</td>\n",
       "      <td>0</td>\n",
       "    </tr>\n",
       "    <tr>\n",
       "      <th>2</th>\n",
       "      <td>502</td>\n",
       "      <td>42</td>\n",
       "      <td>8.0</td>\n",
       "      <td>159660.80</td>\n",
       "      <td>3</td>\n",
       "      <td>1</td>\n",
       "      <td>0</td>\n",
       "      <td>113931.57</td>\n",
       "      <td>1</td>\n",
       "      <td>0</td>\n",
       "      <td>0</td>\n",
       "      <td>0</td>\n",
       "    </tr>\n",
       "    <tr>\n",
       "      <th>3</th>\n",
       "      <td>699</td>\n",
       "      <td>39</td>\n",
       "      <td>1.0</td>\n",
       "      <td>0.00</td>\n",
       "      <td>2</td>\n",
       "      <td>0</td>\n",
       "      <td>0</td>\n",
       "      <td>93826.63</td>\n",
       "      <td>0</td>\n",
       "      <td>0</td>\n",
       "      <td>0</td>\n",
       "      <td>0</td>\n",
       "    </tr>\n",
       "    <tr>\n",
       "      <th>4</th>\n",
       "      <td>850</td>\n",
       "      <td>43</td>\n",
       "      <td>2.0</td>\n",
       "      <td>125510.82</td>\n",
       "      <td>1</td>\n",
       "      <td>1</td>\n",
       "      <td>1</td>\n",
       "      <td>79084.10</td>\n",
       "      <td>0</td>\n",
       "      <td>0</td>\n",
       "      <td>1</td>\n",
       "      <td>0</td>\n",
       "    </tr>\n",
       "    <tr>\n",
       "      <th>5</th>\n",
       "      <td>645</td>\n",
       "      <td>44</td>\n",
       "      <td>8.0</td>\n",
       "      <td>113755.78</td>\n",
       "      <td>2</td>\n",
       "      <td>1</td>\n",
       "      <td>0</td>\n",
       "      <td>149756.71</td>\n",
       "      <td>1</td>\n",
       "      <td>0</td>\n",
       "      <td>1</td>\n",
       "      <td>1</td>\n",
       "    </tr>\n",
       "    <tr>\n",
       "      <th>6</th>\n",
       "      <td>822</td>\n",
       "      <td>50</td>\n",
       "      <td>7.0</td>\n",
       "      <td>0.00</td>\n",
       "      <td>2</td>\n",
       "      <td>1</td>\n",
       "      <td>1</td>\n",
       "      <td>10062.80</td>\n",
       "      <td>0</td>\n",
       "      <td>0</td>\n",
       "      <td>0</td>\n",
       "      <td>1</td>\n",
       "    </tr>\n",
       "    <tr>\n",
       "      <th>7</th>\n",
       "      <td>376</td>\n",
       "      <td>29</td>\n",
       "      <td>4.0</td>\n",
       "      <td>115046.74</td>\n",
       "      <td>4</td>\n",
       "      <td>1</td>\n",
       "      <td>0</td>\n",
       "      <td>119346.88</td>\n",
       "      <td>1</td>\n",
       "      <td>1</td>\n",
       "      <td>0</td>\n",
       "      <td>0</td>\n",
       "    </tr>\n",
       "    <tr>\n",
       "      <th>8</th>\n",
       "      <td>501</td>\n",
       "      <td>44</td>\n",
       "      <td>4.0</td>\n",
       "      <td>142051.07</td>\n",
       "      <td>2</td>\n",
       "      <td>0</td>\n",
       "      <td>1</td>\n",
       "      <td>74940.50</td>\n",
       "      <td>0</td>\n",
       "      <td>0</td>\n",
       "      <td>0</td>\n",
       "      <td>1</td>\n",
       "    </tr>\n",
       "    <tr>\n",
       "      <th>9</th>\n",
       "      <td>684</td>\n",
       "      <td>27</td>\n",
       "      <td>2.0</td>\n",
       "      <td>134603.88</td>\n",
       "      <td>1</td>\n",
       "      <td>1</td>\n",
       "      <td>1</td>\n",
       "      <td>71725.73</td>\n",
       "      <td>0</td>\n",
       "      <td>0</td>\n",
       "      <td>0</td>\n",
       "      <td>1</td>\n",
       "    </tr>\n",
       "  </tbody>\n",
       "</table>\n",
       "</div>"
      ],
      "text/plain": [
       "   credit_score  age  tenure    balance  num_of_products  has_cr_card  \\\n",
       "0           619   42     2.0       0.00                1            1   \n",
       "1           608   41     1.0   83807.86                1            0   \n",
       "2           502   42     8.0  159660.80                3            1   \n",
       "3           699   39     1.0       0.00                2            0   \n",
       "4           850   43     2.0  125510.82                1            1   \n",
       "5           645   44     8.0  113755.78                2            1   \n",
       "6           822   50     7.0       0.00                2            1   \n",
       "7           376   29     4.0  115046.74                4            1   \n",
       "8           501   44     4.0  142051.07                2            0   \n",
       "9           684   27     2.0  134603.88                1            1   \n",
       "\n",
       "   is_active_member  estimated_salary  exited  geography_Germany  \\\n",
       "0                 1         101348.88       1                  0   \n",
       "1                 1         112542.58       0                  0   \n",
       "2                 0         113931.57       1                  0   \n",
       "3                 0          93826.63       0                  0   \n",
       "4                 1          79084.10       0                  0   \n",
       "5                 0         149756.71       1                  0   \n",
       "6                 1          10062.80       0                  0   \n",
       "7                 0         119346.88       1                  1   \n",
       "8                 1          74940.50       0                  0   \n",
       "9                 1          71725.73       0                  0   \n",
       "\n",
       "   geography_Spain  gender_Male  \n",
       "0                0            0  \n",
       "1                1            0  \n",
       "2                0            0  \n",
       "3                0            0  \n",
       "4                1            0  \n",
       "5                1            1  \n",
       "6                0            1  \n",
       "7                0            0  \n",
       "8                0            1  \n",
       "9                0            1  "
      ]
     },
     "execution_count": 151,
     "metadata": {},
     "output_type": "execute_result"
    }
   ],
   "source": [
    "# проверка \n",
    "df.head(10)\n"
   ]
  },
  {
   "cell_type": "code",
   "execution_count": 152,
   "id": "0bbabc36",
   "metadata": {},
   "outputs": [
    {
     "name": "stdout",
     "output_type": "stream",
     "text": [
      "<class 'pandas.core.frame.DataFrame'>\n",
      "Int64Index: 9091 entries, 0 to 9998\n",
      "Data columns (total 12 columns):\n",
      " #   Column             Non-Null Count  Dtype  \n",
      "---  ------             --------------  -----  \n",
      " 0   credit_score       9091 non-null   int64  \n",
      " 1   age                9091 non-null   int64  \n",
      " 2   tenure             9091 non-null   float64\n",
      " 3   balance            9091 non-null   float64\n",
      " 4   num_of_products    9091 non-null   int64  \n",
      " 5   has_cr_card        9091 non-null   int64  \n",
      " 6   is_active_member   9091 non-null   int64  \n",
      " 7   estimated_salary   9091 non-null   float64\n",
      " 8   exited             9091 non-null   int64  \n",
      " 9   geography_Germany  9091 non-null   uint8  \n",
      " 10  geography_Spain    9091 non-null   uint8  \n",
      " 11  gender_Male        9091 non-null   uint8  \n",
      "dtypes: float64(3), int64(6), uint8(3)\n",
      "memory usage: 736.9 KB\n"
     ]
    }
   ],
   "source": [
    "df.info()"
   ]
  },
  {
   "cell_type": "markdown",
   "id": "a4db42a7",
   "metadata": {},
   "source": [
    "**Итог:**\n",
    "Данные готовы к использованию. Пропусков не наблюдается."
   ]
  },
  {
   "cell_type": "markdown",
   "id": "56162bbb",
   "metadata": {},
   "source": [
    "## Разобьем данные на выборки"
   ]
  },
  {
   "cell_type": "code",
   "execution_count": 153,
   "id": "f4c757d2",
   "metadata": {},
   "outputs": [
    {
     "data": {
      "text/html": [
       "<div>\n",
       "<style scoped>\n",
       "    .dataframe tbody tr th:only-of-type {\n",
       "        vertical-align: middle;\n",
       "    }\n",
       "\n",
       "    .dataframe tbody tr th {\n",
       "        vertical-align: top;\n",
       "    }\n",
       "\n",
       "    .dataframe thead th {\n",
       "        text-align: right;\n",
       "    }\n",
       "</style>\n",
       "<table border=\"1\" class=\"dataframe\">\n",
       "  <thead>\n",
       "    <tr style=\"text-align: right;\">\n",
       "      <th></th>\n",
       "      <th>credit_score</th>\n",
       "      <th>age</th>\n",
       "      <th>tenure</th>\n",
       "      <th>balance</th>\n",
       "      <th>num_of_products</th>\n",
       "      <th>has_cr_card</th>\n",
       "      <th>is_active_member</th>\n",
       "      <th>estimated_salary</th>\n",
       "      <th>exited</th>\n",
       "      <th>geography_Germany</th>\n",
       "      <th>geography_Spain</th>\n",
       "      <th>gender_Male</th>\n",
       "    </tr>\n",
       "  </thead>\n",
       "  <tbody>\n",
       "    <tr>\n",
       "      <th>0</th>\n",
       "      <td>226.0</td>\n",
       "      <td>24.0</td>\n",
       "      <td>2.0</td>\n",
       "      <td>0.0</td>\n",
       "      <td>0.0</td>\n",
       "      <td>1.0</td>\n",
       "      <td>1.0</td>\n",
       "      <td>4609.0</td>\n",
       "      <td>1.0</td>\n",
       "      <td>0.0</td>\n",
       "      <td>0.0</td>\n",
       "      <td>0.0</td>\n",
       "    </tr>\n",
       "    <tr>\n",
       "      <th>1</th>\n",
       "      <td>215.0</td>\n",
       "      <td>23.0</td>\n",
       "      <td>1.0</td>\n",
       "      <td>679.0</td>\n",
       "      <td>0.0</td>\n",
       "      <td>0.0</td>\n",
       "      <td>1.0</td>\n",
       "      <td>5119.0</td>\n",
       "      <td>0.0</td>\n",
       "      <td>0.0</td>\n",
       "      <td>1.0</td>\n",
       "      <td>0.0</td>\n",
       "    </tr>\n",
       "    <tr>\n",
       "      <th>2</th>\n",
       "      <td>109.0</td>\n",
       "      <td>24.0</td>\n",
       "      <td>8.0</td>\n",
       "      <td>5277.0</td>\n",
       "      <td>2.0</td>\n",
       "      <td>1.0</td>\n",
       "      <td>0.0</td>\n",
       "      <td>5182.0</td>\n",
       "      <td>1.0</td>\n",
       "      <td>0.0</td>\n",
       "      <td>0.0</td>\n",
       "      <td>0.0</td>\n",
       "    </tr>\n",
       "    <tr>\n",
       "      <th>3</th>\n",
       "      <td>306.0</td>\n",
       "      <td>21.0</td>\n",
       "      <td>1.0</td>\n",
       "      <td>0.0</td>\n",
       "      <td>1.0</td>\n",
       "      <td>0.0</td>\n",
       "      <td>0.0</td>\n",
       "      <td>4274.0</td>\n",
       "      <td>0.0</td>\n",
       "      <td>0.0</td>\n",
       "      <td>0.0</td>\n",
       "      <td>0.0</td>\n",
       "    </tr>\n",
       "    <tr>\n",
       "      <th>4</th>\n",
       "      <td>457.0</td>\n",
       "      <td>25.0</td>\n",
       "      <td>2.0</td>\n",
       "      <td>3374.0</td>\n",
       "      <td>0.0</td>\n",
       "      <td>1.0</td>\n",
       "      <td>1.0</td>\n",
       "      <td>3559.0</td>\n",
       "      <td>0.0</td>\n",
       "      <td>0.0</td>\n",
       "      <td>1.0</td>\n",
       "      <td>0.0</td>\n",
       "    </tr>\n",
       "    <tr>\n",
       "      <th>...</th>\n",
       "      <td>...</td>\n",
       "      <td>...</td>\n",
       "      <td>...</td>\n",
       "      <td>...</td>\n",
       "      <td>...</td>\n",
       "      <td>...</td>\n",
       "      <td>...</td>\n",
       "      <td>...</td>\n",
       "      <td>...</td>\n",
       "      <td>...</td>\n",
       "      <td>...</td>\n",
       "      <td>...</td>\n",
       "    </tr>\n",
       "    <tr>\n",
       "      <th>9086</th>\n",
       "      <td>407.0</td>\n",
       "      <td>11.0</td>\n",
       "      <td>2.0</td>\n",
       "      <td>0.0</td>\n",
       "      <td>1.0</td>\n",
       "      <td>0.0</td>\n",
       "      <td>0.0</td>\n",
       "      <td>7599.0</td>\n",
       "      <td>0.0</td>\n",
       "      <td>0.0</td>\n",
       "      <td>0.0</td>\n",
       "      <td>0.0</td>\n",
       "    </tr>\n",
       "    <tr>\n",
       "      <th>9087</th>\n",
       "      <td>378.0</td>\n",
       "      <td>21.0</td>\n",
       "      <td>5.0</td>\n",
       "      <td>0.0</td>\n",
       "      <td>1.0</td>\n",
       "      <td>1.0</td>\n",
       "      <td>0.0</td>\n",
       "      <td>4385.0</td>\n",
       "      <td>0.0</td>\n",
       "      <td>0.0</td>\n",
       "      <td>0.0</td>\n",
       "      <td>1.0</td>\n",
       "    </tr>\n",
       "    <tr>\n",
       "      <th>9088</th>\n",
       "      <td>123.0</td>\n",
       "      <td>17.0</td>\n",
       "      <td>10.0</td>\n",
       "      <td>110.0</td>\n",
       "      <td>0.0</td>\n",
       "      <td>1.0</td>\n",
       "      <td>1.0</td>\n",
       "      <td>4627.0</td>\n",
       "      <td>0.0</td>\n",
       "      <td>0.0</td>\n",
       "      <td>0.0</td>\n",
       "      <td>1.0</td>\n",
       "    </tr>\n",
       "    <tr>\n",
       "      <th>9089</th>\n",
       "      <td>316.0</td>\n",
       "      <td>18.0</td>\n",
       "      <td>7.0</td>\n",
       "      <td>0.0</td>\n",
       "      <td>0.0</td>\n",
       "      <td>0.0</td>\n",
       "      <td>1.0</td>\n",
       "      <td>1882.0</td>\n",
       "      <td>1.0</td>\n",
       "      <td>0.0</td>\n",
       "      <td>0.0</td>\n",
       "      <td>0.0</td>\n",
       "    </tr>\n",
       "    <tr>\n",
       "      <th>9090</th>\n",
       "      <td>379.0</td>\n",
       "      <td>24.0</td>\n",
       "      <td>3.0</td>\n",
       "      <td>387.0</td>\n",
       "      <td>1.0</td>\n",
       "      <td>1.0</td>\n",
       "      <td>0.0</td>\n",
       "      <td>4214.0</td>\n",
       "      <td>1.0</td>\n",
       "      <td>1.0</td>\n",
       "      <td>0.0</td>\n",
       "      <td>1.0</td>\n",
       "    </tr>\n",
       "  </tbody>\n",
       "</table>\n",
       "<p>9091 rows × 12 columns</p>\n",
       "</div>"
      ],
      "text/plain": [
       "      credit_score   age  tenure  balance  num_of_products  has_cr_card  \\\n",
       "0            226.0  24.0     2.0      0.0              0.0          1.0   \n",
       "1            215.0  23.0     1.0    679.0              0.0          0.0   \n",
       "2            109.0  24.0     8.0   5277.0              2.0          1.0   \n",
       "3            306.0  21.0     1.0      0.0              1.0          0.0   \n",
       "4            457.0  25.0     2.0   3374.0              0.0          1.0   \n",
       "...            ...   ...     ...      ...              ...          ...   \n",
       "9086         407.0  11.0     2.0      0.0              1.0          0.0   \n",
       "9087         378.0  21.0     5.0      0.0              1.0          1.0   \n",
       "9088         123.0  17.0    10.0    110.0              0.0          1.0   \n",
       "9089         316.0  18.0     7.0      0.0              0.0          0.0   \n",
       "9090         379.0  24.0     3.0    387.0              1.0          1.0   \n",
       "\n",
       "      is_active_member  estimated_salary  exited  geography_Germany  \\\n",
       "0                  1.0            4609.0     1.0                0.0   \n",
       "1                  1.0            5119.0     0.0                0.0   \n",
       "2                  0.0            5182.0     1.0                0.0   \n",
       "3                  0.0            4274.0     0.0                0.0   \n",
       "4                  1.0            3559.0     0.0                0.0   \n",
       "...                ...               ...     ...                ...   \n",
       "9086               0.0            7599.0     0.0                0.0   \n",
       "9087               0.0            4385.0     0.0                0.0   \n",
       "9088               1.0            4627.0     0.0                0.0   \n",
       "9089               1.0            1882.0     1.0                0.0   \n",
       "9090               0.0            4214.0     1.0                1.0   \n",
       "\n",
       "      geography_Spain  gender_Male  \n",
       "0                 0.0          0.0  \n",
       "1                 1.0          0.0  \n",
       "2                 0.0          0.0  \n",
       "3                 0.0          0.0  \n",
       "4                 1.0          0.0  \n",
       "...               ...          ...  \n",
       "9086              0.0          0.0  \n",
       "9087              0.0          1.0  \n",
       "9088              0.0          1.0  \n",
       "9089              0.0          0.0  \n",
       "9090              0.0          1.0  \n",
       "\n",
       "[9091 rows x 12 columns]"
      ]
     },
     "execution_count": 153,
     "metadata": {},
     "output_type": "execute_result"
    }
   ],
   "source": [
    "encoder = OrdinalEncoder()\n",
    "data_ordinal = pd.DataFrame(encoder.fit_transform(df), columns=df.columns) \n",
    "\n",
    "\n",
    "data_ordinal\n",
    "# не вижу в этом коде смысла"
   ]
  },
  {
   "cell_type": "code",
   "execution_count": 154,
   "id": "2a0ad29c",
   "metadata": {},
   "outputs": [],
   "source": [
    "features = df.drop('exited', axis=1) # Отберем НЕ ЦЕЛЕВЫЕ признаки\n",
    "target = df['exited'] # ЦЕЛЕВОЙ ПРИЗНАК\n",
    "\n",
    "\n",
    "#features = df.drop(['surname', 'customer_id', 'geography'], axis=1)  - пример удаления ненужных столбцов\n",
    "# has_cr_card\tis_active_member\t эти признаки имеют ответ да или нет (0 и 1)"
   ]
  },
  {
   "cell_type": "markdown",
   "id": "51db811a",
   "metadata": {},
   "source": [
    "### Проверка адекватности модели\n",
    "\n"
   ]
  },
  {
   "cell_type": "markdown",
   "id": "e8c466b3",
   "metadata": {},
   "source": [
    "\n",
    "Создадим константную модель и присвоим ей значение 0.\n",
    "\n",
    "Для подсчёта классов в целевом признаке примените метод value_counts().\n",
    "\n",
    "Значения сохраним в переменной class_frequency. \n",
    "\n",
    "Методом plot() c аргументом kind='bar' построим диаграмму"
   ]
  },
  {
   "cell_type": "code",
   "execution_count": 155,
   "id": "66503bd5",
   "metadata": {},
   "outputs": [
    {
     "data": {
      "text/plain": [
       "0    0.796062\n",
       "1    0.203938\n",
       "Name: exited, dtype: float64"
      ]
     },
     "metadata": {},
     "output_type": "display_data"
    },
    {
     "data": {
      "image/png": "[encoded data removed]",
      "text/plain": [
       "<Figure size 432x288 with 1 Axes>"
      ]
     },
     "metadata": {
      "needs_background": "light"
     },
     "output_type": "display_data"
    },
    {
     "data": {
      "text/plain": [
       "'Accuracy Score равен:'"
      ]
     },
     "metadata": {},
     "output_type": "display_data"
    },
    {
     "data": {
      "text/plain": [
       "0.7960620393796062"
      ]
     },
     "metadata": {},
     "output_type": "display_data"
    }
   ],
   "source": [
    "class_frequency = target.value_counts(normalize=True)\n",
    "display(class_frequency)\n",
    "class_frequency.plot(kind='bar',ylabel='Соотношение', xlabel='Классы',\\\n",
    "                     title = 'Таблица соотношения классов')\n",
    "\n",
    "target_pred_constant = pd.Series([0] * len(target))\n",
    "plt.show()\n",
    "display('Accuracy Score равен:', accuracy_score(target, target_pred_constant)) "
   ]
  },
  {
   "cell_type": "markdown",
   "id": "0cccc792",
   "metadata": {},
   "source": [
    "**Подитог:** Классы несбалансированны, их соотношение далеко от 1:1.\n",
    "\n",
    "Дисбаланс на лицо: **79%**\n",
    "\n",
    "Баланс классов наблюдается, если их количество примерно равно. Accuracy не подходит. Нужна новая метрика!\n",
    "\n",
    "Воспользуемся метрикой **F1**."
   ]
  },
  {
   "cell_type": "markdown",
   "id": "9d606289",
   "metadata": {},
   "source": [
    "- создадим тренировочную выборку с 60% данных\n",
    "- и 40% пока отводим на тестовую;"
   ]
  },
  {
   "cell_type": "code",
   "execution_count": 156,
   "id": "e7418359",
   "metadata": {},
   "outputs": [
    {
     "name": "stdout",
     "output_type": "stream",
     "text": [
      "(9091, 11)\n",
      "(9091,)\n",
      "(5454, 11)\n",
      "(5454,)\n",
      "(3637, 11)\n",
      "(3637,)\n"
     ]
    }
   ],
   "source": [
    "# разбиваем с сохранением изначального баланса классов 0 и 1 благодаря аргументу stratify = target\n",
    "features_train,features_test, target_train, target_test = train_test_split(\\\n",
    "                        features, target, test_size=0.40, stratify = target , random_state=12345) \n",
    "print(features.shape)\n",
    "print(target.shape)\n",
    "print(features_train.shape)  # 60%\n",
    "print(target_train.shape)    # 60%\n",
    "print(features_test.shape)   # 40%\n",
    "print(target_test.shape)     # 40%"
   ]
  },
  {
   "cell_type": "markdown",
   "id": "384270f4",
   "metadata": {},
   "source": [
    "- Делим тестовую выборку на 2 части , итого из 40% получаем 2 по 20%;"
   ]
  },
  {
   "cell_type": "code",
   "execution_count": 157,
   "id": "94c646c0",
   "metadata": {},
   "outputs": [
    {
     "name": "stdout",
     "output_type": "stream",
     "text": [
      "(9091, 11)\n",
      "(9091,)\n",
      "(5454, 11)\n",
      "(5454,)\n",
      "(1819, 11)\n",
      "(1819,)\n",
      "(1818, 11)\n",
      "(1818,)\n"
     ]
    }
   ],
   "source": [
    "features_valid, features_test, target_valid, target_test  = train_test_split(\\\n",
    "                        features_test, target_test, test_size=0.50, random_state=12345) \n",
    "\n",
    "print(features.shape)\n",
    "print(target.shape)\n",
    "print(features_train.shape)   # 60%\n",
    "print(target_train.shape)     # 60%\n",
    "print(features_test.shape)    # 20%\n",
    "print(target_test.shape)      # 20%\n",
    "print(features_valid.shape)   # 20%\n",
    "print(target_valid.shape)     # 20%"
   ]
  },
  {
   "cell_type": "markdown",
   "id": "59d00975",
   "metadata": {},
   "source": [
    "### Масштабирование — стандартизация данных"
   ]
  },
  {
   "cell_type": "code",
   "execution_count": 158,
   "id": "78dbe35e",
   "metadata": {},
   "outputs": [],
   "source": [
    "# создадим таблицу с численнымми признаками\n",
    "numeric = ['credit_score','balance','num_of_products','age','estimated_salary'] "
   ]
  },
  {
   "cell_type": "code",
   "execution_count": 159,
   "id": "8bcd27b8",
   "metadata": {},
   "outputs": [
    {
     "data": {
      "text/plain": [
       "StandardScaler()"
      ]
     },
     "execution_count": 159,
     "metadata": {},
     "output_type": "execute_result"
    }
   ],
   "source": [
    "scaler = StandardScaler()\n",
    "scaler.fit(features_train[numeric])\n"
   ]
  },
  {
   "cell_type": "code",
   "execution_count": 160,
   "id": "8c0a5616",
   "metadata": {},
   "outputs": [],
   "source": [
    "features_train[numeric] = scaler.transform(features_train[numeric]) # < масштабируем тренировочную выборку >\n",
    "# < преобразуйте валидационную выборку >\n",
    "features_valid[numeric] = scaler.transform(features_valid[numeric]) # < масштабируем валидационную выборку >\n",
    "features_test[numeric] = scaler.transform(features_test[numeric]) # < масштабируем тестовую выборку >"
   ]
  },
  {
   "cell_type": "code",
   "execution_count": 161,
   "id": "cf9adece",
   "metadata": {},
   "outputs": [],
   "source": [
    "# features_train_scaled = scaler.transform(features_train) # записи изменённых признаков\n",
    "# features_valid_scaled = scaler.transform(features_valid) # записи изменённых признаков\n"
   ]
  },
  {
   "cell_type": "code",
   "execution_count": 162,
   "id": "7cae1ede",
   "metadata": {},
   "outputs": [],
   "source": [
    "#sns.scatterplot(data=df, x='credit_score',y='balance', hue=target)\n",
    "#plt.show()"
   ]
  },
  {
   "cell_type": "markdown",
   "id": "b9d27ba6",
   "metadata": {},
   "source": [
    "### Результат масшитабирования"
   ]
  },
  {
   "cell_type": "code",
   "execution_count": 163,
   "id": "a3b3aadf",
   "metadata": {},
   "outputs": [
    {
     "data": {
      "text/html": [
       "<div>\n",
       "<style scoped>\n",
       "    .dataframe tbody tr th:only-of-type {\n",
       "        vertical-align: middle;\n",
       "    }\n",
       "\n",
       "    .dataframe tbody tr th {\n",
       "        vertical-align: top;\n",
       "    }\n",
       "\n",
       "    .dataframe thead th {\n",
       "        text-align: right;\n",
       "    }\n",
       "</style>\n",
       "<table border=\"1\" class=\"dataframe\">\n",
       "  <thead>\n",
       "    <tr style=\"text-align: right;\">\n",
       "      <th></th>\n",
       "      <th>credit_score</th>\n",
       "      <th>age</th>\n",
       "      <th>tenure</th>\n",
       "      <th>balance</th>\n",
       "      <th>num_of_products</th>\n",
       "      <th>has_cr_card</th>\n",
       "      <th>is_active_member</th>\n",
       "      <th>estimated_salary</th>\n",
       "      <th>geography_Germany</th>\n",
       "      <th>geography_Spain</th>\n",
       "      <th>gender_Male</th>\n",
       "    </tr>\n",
       "  </thead>\n",
       "  <tbody>\n",
       "    <tr>\n",
       "      <th>9723</th>\n",
       "      <td>-1.292898</td>\n",
       "      <td>-0.660843</td>\n",
       "      <td>7.0</td>\n",
       "      <td>0.786636</td>\n",
       "      <td>-0.910943</td>\n",
       "      <td>0</td>\n",
       "      <td>0</td>\n",
       "      <td>-0.223548</td>\n",
       "      <td>0</td>\n",
       "      <td>0</td>\n",
       "      <td>1</td>\n",
       "    </tr>\n",
       "    <tr>\n",
       "      <th>1224</th>\n",
       "      <td>-1.563714</td>\n",
       "      <td>0.778434</td>\n",
       "      <td>8.0</td>\n",
       "      <td>0.833795</td>\n",
       "      <td>-0.910943</td>\n",
       "      <td>1</td>\n",
       "      <td>0</td>\n",
       "      <td>1.383021</td>\n",
       "      <td>0</td>\n",
       "      <td>1</td>\n",
       "      <td>0</td>\n",
       "    </tr>\n",
       "    <tr>\n",
       "      <th>8377</th>\n",
       "      <td>1.581914</td>\n",
       "      <td>0.106771</td>\n",
       "      <td>4.0</td>\n",
       "      <td>-1.222967</td>\n",
       "      <td>0.789359</td>\n",
       "      <td>1</td>\n",
       "      <td>1</td>\n",
       "      <td>-0.308331</td>\n",
       "      <td>0</td>\n",
       "      <td>1</td>\n",
       "      <td>1</td>\n",
       "    </tr>\n",
       "    <tr>\n",
       "      <th>8014</th>\n",
       "      <td>0.842379</td>\n",
       "      <td>0.010820</td>\n",
       "      <td>2.0</td>\n",
       "      <td>0.807063</td>\n",
       "      <td>-0.910943</td>\n",
       "      <td>1</td>\n",
       "      <td>1</td>\n",
       "      <td>-0.430980</td>\n",
       "      <td>0</td>\n",
       "      <td>1</td>\n",
       "      <td>0</td>\n",
       "    </tr>\n",
       "    <tr>\n",
       "      <th>2491</th>\n",
       "      <td>-0.397123</td>\n",
       "      <td>-1.236554</td>\n",
       "      <td>4.0</td>\n",
       "      <td>-1.222967</td>\n",
       "      <td>0.789359</td>\n",
       "      <td>1</td>\n",
       "      <td>1</td>\n",
       "      <td>1.392642</td>\n",
       "      <td>0</td>\n",
       "      <td>1</td>\n",
       "      <td>0</td>\n",
       "    </tr>\n",
       "  </tbody>\n",
       "</table>\n",
       "</div>"
      ],
      "text/plain": [
       "      credit_score       age  tenure   balance  num_of_products  has_cr_card  \\\n",
       "9723     -1.292898 -0.660843     7.0  0.786636        -0.910943            0   \n",
       "1224     -1.563714  0.778434     8.0  0.833795        -0.910943            1   \n",
       "8377      1.581914  0.106771     4.0 -1.222967         0.789359            1   \n",
       "8014      0.842379  0.010820     2.0  0.807063        -0.910943            1   \n",
       "2491     -0.397123 -1.236554     4.0 -1.222967         0.789359            1   \n",
       "\n",
       "      is_active_member  estimated_salary  geography_Germany  geography_Spain  \\\n",
       "9723                 0         -0.223548                  0                0   \n",
       "1224                 0          1.383021                  0                1   \n",
       "8377                 1         -0.308331                  0                1   \n",
       "8014                 1         -0.430980                  0                1   \n",
       "2491                 1          1.392642                  0                1   \n",
       "\n",
       "      gender_Male  \n",
       "9723            1  \n",
       "1224            0  \n",
       "8377            1  \n",
       "8014            0  \n",
       "2491            0  "
      ]
     },
     "metadata": {},
     "output_type": "display_data"
    }
   ],
   "source": [
    "# результат масшитабирования\n",
    "display(features_train.head())"
   ]
  },
  {
   "cell_type": "markdown",
   "id": "f910b490",
   "metadata": {},
   "source": [
    "## Исследуем модели машинного обучения не сбалансировав выборку"
   ]
  },
  {
   "cell_type": "code",
   "execution_count": 164,
   "id": "18a1cb66",
   "metadata": {},
   "outputs": [],
   "source": [
    "#Заранее напишем функцию для расчета полноты, точности и F1-меры\n",
    "def RPF(target_valid, prediction):\n",
    "    print(\"Полнота\" , recall_score(target_valid, prediction))\n",
    "    print(\"Точность\", precision_score(target_valid, prediction))\n",
    "    print(\"F1-мера\", f1_score(target_valid, prediction))"
   ]
  },
  {
   "cell_type": "code",
   "execution_count": 165,
   "id": "a7191b4e",
   "metadata": {},
   "outputs": [],
   "source": [
    "#Заранее напишем функцию для создания графика ROC кривой\n",
    "def plot_roc_curve(fper, tper, name):\n",
    "    plt.plot(fper, tper, color='green', label='ROC')\n",
    "    plt.plot([0, 1], [0, 1], color='black', linestyle='--')\n",
    "    plt.xlim([0.0, 1.0]) # обозначаем диапазон осей\n",
    "    plt.ylim([0.0, 1.0]) # обозначаем диапазон осей\n",
    "    plt.xlabel('False Positive Rate') # названия оси\n",
    "    plt.ylabel('True Positive Rate') # названия оси\n",
    "    plt.title('ROC-кривая '+ name)\n",
    "    plt.legend()\n",
    "    plt.show()"
   ]
  },
  {
   "cell_type": "markdown",
   "id": "b60d2b9b",
   "metadata": {},
   "source": [
    "### Дерево решений"
   ]
  },
  {
   "cell_type": "code",
   "execution_count": 166,
   "id": "69ec2c83",
   "metadata": {},
   "outputs": [
    {
     "name": "stdout",
     "output_type": "stream",
     "text": [
      "F1 наилучшей модели на валидационной выборке: 0.603648424543947\n",
      "Глубина наилучшей модели на валидационной выборке: 7\n",
      "CPU times: user 382 ms, sys: 14 µs, total: 382 ms\n",
      "Wall time: 385 ms\n"
     ]
    }
   ],
   "source": [
    "%%time\n",
    "\n",
    "\n",
    "best_model_tree = None\n",
    "best_result_tree = 0\n",
    "best_depth_tree = 0\n",
    "for depth in range(2, 20):\n",
    "    model_tree = DecisionTreeClassifier(random_state=12345, max_depth=depth) \n",
    "    model_tree.fit(features_train, target_train)\n",
    "    predicted_valid_tree = model_tree.predict(features_valid) # получите предсказания модели\n",
    "    f1_tree = f1_score(target_valid, predicted_valid_tree)\n",
    "    if f1_tree > best_result_tree:\n",
    "        best_model_tree = model_tree # сохраните наилучшую модель\n",
    "        best_result_tree = f1_tree #  сохраните наилучшее значение метрики accuracy на валидационных данных\n",
    "        best_depth_tree = depth\n",
    "print(\"F1 наилучшей модели на валидационной выборке:\", best_result_tree)\n",
    "print(\"Глубина наилучшей модели на валидационной выборке:\", best_depth_tree) "
   ]
  },
  {
   "cell_type": "markdown",
   "id": "f3d2d1cf",
   "metadata": {},
   "source": [
    "### Обучим модель на лучшем результате с глубиной решающего дерева = 7"
   ]
  },
  {
   "cell_type": "code",
   "execution_count": 167,
   "id": "35e7b0be",
   "metadata": {},
   "outputs": [],
   "source": [
    "best_of_the_model_tree = DecisionTreeClassifier(random_state=12345, max_depth=7) \n",
    "best_of_the_model_tree.fit(features_train, target_train)\n",
    "predicted_valid_best_of_the_best = best_of_the_model_tree.predict(features_valid) # получите предсказания модели"
   ]
  },
  {
   "cell_type": "code",
   "execution_count": 168,
   "id": "d7e7b738",
   "metadata": {},
   "outputs": [
    {
     "name": "stdout",
     "output_type": "stream",
     "text": [
      "Полнота 0.48533333333333334\n",
      "Точность 0.7982456140350878\n",
      "F1-мера 0.603648424543947\n"
     ]
    }
   ],
   "source": [
    "# рассчитаем RPF\n",
    "RPF(target_valid, predicted_valid_best_of_the_best)"
   ]
  },
  {
   "cell_type": "markdown",
   "id": "cd945dbe",
   "metadata": {},
   "source": [
    "### Немного о ROC_AUC и расчете ее площади"
   ]
  },
  {
   "cell_type": "markdown",
   "id": "822ec6eb",
   "metadata": {},
   "source": [
    "Площадь под кривой (AUC) является мерой способности классификатора различать классы. Чем выше площадь под кривой, тем лучше производительность модели.\n",
    "\n",
    "Когда AUC равен единице, тогда классификатор может правильно различать все положительные и отрицательные точки класса:\n",
    "\n",
    "Когда 0,5 < AUC < 1, высока вероятность, что классификатор сможет различить положительные и отрицательных значения класса. Это так, потому что классификатор может обнаруживать больше истинно положительных и истинно отрицательных результатов, чем ложно отрицательных и ложно положительных результатов:\n",
    "\n",
    "\n",
    "Когда AUC = 0,5, тогда классификатор не может различать положительные и отрицательные баллы класса. Это означает, что либо классификатор предсказывает случайный класс, либо существует один постоянный класс для всех точек данных:\n",
    "\n",
    "\n",
    "Таким образом, чем выше значение AUC для классификатора, тем лучше его способность различать положительные и отрицательные классы."
   ]
  },
  {
   "cell_type": "code",
   "execution_count": 169,
   "id": "88f92107",
   "metadata": {},
   "outputs": [
    {
     "name": "stdout",
     "output_type": "stream",
     "text": [
      "Площадь ROC_AUC =  0.825005313005313\n"
     ]
    },
    {
     "data": {
      "image/png": "[encoded data removed]",
      "text/plain": [
       "<Figure size 432x288 with 1 Axes>"
      ]
     },
     "metadata": {
      "needs_background": "light"
     },
     "output_type": "display_data"
    }
   ],
   "source": [
    "#Расчет площади ROC_AUC для дерева решений\n",
    "probabilities_one_valid_tree = best_of_the_model_tree.predict_proba(features_valid)[:, 1]\n",
    "\n",
    "auc_roc_tree = roc_auc_score(target_valid, probabilities_one_valid_tree)\n",
    "print('Площадь ROC_AUC = ', auc_roc_tree)\n",
    "\n",
    "\n",
    "fper, tper, thresholds = roc_curve(target_valid, probabilities_one_valid_tree)\n",
    "plot_roc_curve(fper, tper, ' для модели \"Дерева решений\"')"
   ]
  },
  {
   "cell_type": "markdown",
   "id": "9a1dbecd",
   "metadata": {},
   "source": [
    "**Вывод:** \n",
    "\n",
    "Дерево решений на не сбалансированной выборке показывает отличный результат:\n",
    "- F-меры = 0.6036;\n",
    "- площади ROC_AUC = 0.8250;\n",
    "- Однако полнота имеет не высокий показатель 0.48.\n",
    "\n",
    "Напомним площаль ROC_AUC выше 0.5 считается хорошим результатам."
   ]
  },
  {
   "cell_type": "markdown",
   "id": "981170f1",
   "metadata": {},
   "source": [
    "### Случайный лес"
   ]
  },
  {
   "cell_type": "code",
   "execution_count": 170,
   "id": "fa9a5bad",
   "metadata": {},
   "outputs": [
    {
     "name": "stdout",
     "output_type": "stream",
     "text": [
      "F1 наилучшей модели на валидационной выборке: 0.6123778501628665\n",
      "Глубина наилучшей модели на валидационной выборке: 13\n",
      "Количество деревье наилучшей модели на валидационной выборке: 70\n",
      "CPU times: user 26.9 s, sys: 147 ms, total: 27.1 s\n",
      "Wall time: 27.1 s\n"
     ]
    }
   ],
   "source": [
    "%%time\n",
    "\n",
    "\n",
    "best_model_forest = None\n",
    "best_result_forest = 0\n",
    "best_est_forest = 0\n",
    "best_depth_forest = 0\n",
    "for est in range(10, 80, 10): # кол-во деревьев с шагом 10\n",
    "    for depth in range (1, 20): # количество вопросов (глубина)\n",
    "        model_forest = RandomForestClassifier(random_state=12345, n_estimators=est, max_depth=depth) # обучите модель с заданным количеством деревьев\n",
    "        model_forest.fit(features_train,target_train ) # обучите модель на тренировочной выборке\n",
    "        predicted_valid_forest = model_forest.predict(features_valid)\n",
    "        f1_forest = f1_score(target_valid, predicted_valid_forest) # посчитайте качество модели на валидационной выборке\n",
    "        if f1_forest > best_result_forest:\n",
    "            best_model_forest = model_forest # сохраните наилучшую модель\n",
    "            best_result_forest = f1_forest #  сохраните наилучшее значение метрики на валидационных данных\n",
    "            best_depth_forest = depth\n",
    "            best_est_forest = est\n",
    "print(\"F1 наилучшей модели на валидационной выборке:\", best_result_forest)\n",
    "print(\"Глубина наилучшей модели на валидационной выборке:\", best_depth_forest)\n",
    "print(\"Количество деревье наилучшей модели на валидационной выборке:\", best_est_forest)\n"
   ]
  },
  {
   "cell_type": "code",
   "execution_count": 171,
   "id": "f2e54474",
   "metadata": {},
   "outputs": [
    {
     "name": "stdout",
     "output_type": "stream",
     "text": [
      "Полнота 0.5013333333333333\n",
      "Точность 0.7866108786610879\n",
      "F1-мера 0.6123778501628665\n",
      "Площадь AUR_ROC =  0.8625317625317624\n"
     ]
    },
    {
     "data": {
      "image/png": "[encoded data removed]",
      "text/plain": [
       "<Figure size 432x288 with 1 Axes>"
      ]
     },
     "metadata": {
      "needs_background": "light"
     },
     "output_type": "display_data"
    }
   ],
   "source": [
    "best_of_the_model_forest = RandomForestClassifier(random_state=12345, n_estimators=70, max_depth = 13) \n",
    "best_of_the_model_forest.fit(features_train, target_train)\n",
    "predicted_valid_best_of_the_forest = best_of_the_model_forest.predict(features_valid) # получите предсказания модели\n",
    "\n",
    "# рассчитаем RPF\n",
    "RPF(target_valid, predicted_valid_best_of_the_forest)\n",
    "\n",
    "#Расчет roc_auc для дерева решений\n",
    "probabilities_one_valid_forest = best_of_the_model_forest.predict_proba(features_valid)[:, 1]\n",
    "\n",
    "auc_roc_tree = roc_auc_score(target_valid, probabilities_one_valid_forest)\n",
    "print('Площадь AUR_ROC = ', auc_roc_tree)\n",
    "\n",
    "\n",
    "fper_1, tper_1, thresholds = roc_curve(target_valid, probabilities_one_valid_forest)\n",
    "plot_roc_curve(fper_1, tper_1,' для модели \"Случайный лес\"')"
   ]
  },
  {
   "cell_type": "markdown",
   "id": "e84a8c43",
   "metadata": {},
   "source": [
    "**Вывод:** \n",
    "\n",
    "Случайный лес на не сбалансированной выборке показывает отличный результат:\n",
    "- F-меры = 0.6123;\n",
    "- площади ROC_AUC = 0.8625, что существенно лучше чем на моделе дерева решений;\n",
    "- Однако полнота имеет по прежнему не высокий показатель - 0.50.\n",
    "\n"
   ]
  },
  {
   "cell_type": "markdown",
   "id": "a83c291a",
   "metadata": {},
   "source": [
    "### Логистическая регрессия"
   ]
  },
  {
   "cell_type": "code",
   "execution_count": 172,
   "id": "e5518f3b",
   "metadata": {},
   "outputs": [
    {
     "name": "stdout",
     "output_type": "stream",
     "text": [
      "Полнота 0.232\n",
      "Точность 0.635036496350365\n",
      "F1-мера 0.33984375000000006\n"
     ]
    }
   ],
   "source": [
    "\n",
    "model_log = LogisticRegression(random_state=12345,  solver='liblinear')\n",
    "model_log.fit(features_train, target_train) # обучаем на новых данных\n",
    "predicted_valid_log = model_log.predict(features_valid) # подставляем в прогноз валидационные нецелевые признаки\n",
    "\n",
    "# рассчитаем RPF\n",
    "RPF(target_valid, predicted_valid_log)"
   ]
  },
  {
   "cell_type": "code",
   "execution_count": 173,
   "id": "ce00b36e",
   "metadata": {},
   "outputs": [
    {
     "name": "stdout",
     "output_type": "stream",
     "text": [
      "Площадь AUR_ROC =  0.7831628551628552\n"
     ]
    },
    {
     "data": {
      "image/png": "[encoded data removed]",
      "text/plain": [
       "<Figure size 432x288 with 1 Axes>"
      ]
     },
     "metadata": {
      "needs_background": "light"
     },
     "output_type": "display_data"
    }
   ],
   "source": [
    "probabilities_valid = model_log.predict_proba(features_valid)\n",
    "probabilities_one_valid = probabilities_valid[:, 1]\n",
    "\n",
    "\n",
    "# Расчет roc_auc площади для логистической регрессии\n",
    "auc_roc_tree = roc_auc_score(target_valid, probabilities_one_valid)\n",
    "print('Площадь AUR_ROC = ', auc_roc_tree)\n",
    "\n",
    "# Построим график\n",
    "fper_2, tper_2, thresholds = roc_curve(target_valid, probabilities_one_valid)\n",
    "plot_roc_curve(fper_2, tper_2,' для модели \"Логистической регрессии\"')\n",
    "\n"
   ]
  },
  {
   "cell_type": "markdown",
   "id": "b10c481b",
   "metadata": {},
   "source": [
    "ROC - кривая  или кривая ошибок стремится вверх, это положительная черта говорящая о хорошем качестве \n",
    "\n",
    "Чем график выше, тем больше значение TPR и лучше качество модели."
   ]
  },
  {
   "cell_type": "markdown",
   "id": "22f67696",
   "metadata": {},
   "source": [
    "**Вывод:** \n",
    "\n",
    "Случайный лес на не сбалансированной выборке показывает плохой результат:\n",
    "- F-меры = 0.3398;\n",
    "- Полнота также имеет крайне низкий показатель - 0.232.\n",
    "- Однако как не парадаксально площадь ROC_AUC = 0.7831;"
   ]
  },
  {
   "cell_type": "markdown",
   "id": "8c4d2d99",
   "metadata": {},
   "source": [
    "## Вывод:\n",
    "В результате 2 модели из трех дали результат, который удовлетворяет решение нашего проекта:\n",
    "\n",
    "1) Наилучший результат у модели случайный лес - RandomForestClassifier. F-мера равна =0.6123;\n",
    "\n",
    "2) Следующий результат у решающего дерева - DecisionTreeClassifier. F-мера у данной модели равна 0.6036;\n",
    "\n",
    "3) 3-й результат дает логистическая регрессия - LogisticRegression. F-мера у данной модели равна 0.3398, что нам никак не подходит.\n"
   ]
  },
  {
   "cell_type": "markdown",
   "id": "ad023138",
   "metadata": {},
   "source": [
    "# Исследуем модели машинного обучения сбалансировав классы"
   ]
  },
  {
   "cell_type": "markdown",
   "id": "af6718fa",
   "metadata": {},
   "source": [
    "Как мы выяснили ранее в нашей выборке отрицательны ответов ≈79% , положитительных ≈ 19%. Нам необходмо увеличить количество положительных ответов в 4 раза для достижения баланса. Либо же уменьшить кол-во отрицтаельных ответов.\n",
    "\n",
    "- Разделим обучающую выборку на отрицательные и положительные объекты;\n",
    "- Скопируем несколько раз положительные объекты; \n",
    "- С учётом полученных данных создадим новую обучающую выборку; \n",
    "- Перемешаем данные: идущие друг за другом одинаковые вопросы не помогут обучению. \n",
    "\n",
    "### Обучим новые модели"
   ]
  },
  {
   "cell_type": "markdown",
   "id": "ec171119",
   "metadata": {},
   "source": [
    "### Используем увеличение выборки благодаря методу upsampling"
   ]
  },
  {
   "cell_type": "code",
   "execution_count": 174,
   "id": "d570ac84",
   "metadata": {},
   "outputs": [
    {
     "name": "stdout",
     "output_type": "stream",
     "text": [
      "(8790, 11)\n",
      "(8790,)\n"
     ]
    }
   ],
   "source": [
    "features_zeros = features_train[target_train == 0]\n",
    "features_ones = features_train[target_train == 1]\n",
    "target_zeros = target_train[target_train == 0]\n",
    "target_ones = target_train[target_train == 1]\n",
    "\n",
    "repeat = 4\n",
    "features_upsampled = pd.concat([features_zeros] + [features_ones] * repeat)\n",
    "target_upsampled = pd.concat([target_zeros]+ [target_ones]* repeat, )\n",
    "print(features_upsampled.shape)\n",
    "print(target_upsampled.shape)\n",
    "\n",
    "\n"
   ]
  },
  {
   "cell_type": "code",
   "execution_count": 175,
   "id": "b9ec4665",
   "metadata": {},
   "outputs": [],
   "source": [
    "def upsample(features, target, repeat):\n",
    "# создаем новые переменные по фильтру, целевому признаку\n",
    "    features_zeros = features[target == 0] \n",
    "    features_ones = features[target == 1]\n",
    "    target_zeros = target[target == 0]\n",
    "    target_ones = target[target == 1]\n",
    "\n",
    "# объединяем и умножаем, расширяем одним словом\n",
    "    features_upsampled = pd.concat([features_zeros] + [features_ones] * repeat)\n",
    "    target_upsampled = pd.concat([target_zeros] + [target_ones] * repeat)\n",
    "# перемешиваем\n",
    "    features_upsampled, target_upsampled = shuffle(features_upsampled, target_upsampled, random_state=12345)\n",
    "    return features_upsampled, target_upsampled \n",
    "\n",
    "# применяем функцию\n",
    "features_upsampled, target_upsampled = upsample(features_train, target_train, 4)"
   ]
  },
  {
   "cell_type": "markdown",
   "id": "fe8a40b6",
   "metadata": {},
   "source": [
    "### Дерево решений с использованием upsampling"
   ]
  },
  {
   "cell_type": "code",
   "execution_count": 176,
   "id": "909a417a",
   "metadata": {},
   "outputs": [
    {
     "name": "stdout",
     "output_type": "stream",
     "text": [
      "F1 наилучшей модели на валидационной выборке: 0.5804347826086956\n",
      "Глубина наилучшей модели на валидационной выборке: 8\n",
      "CPU times: user 551 ms, sys: 0 ns, total: 551 ms\n",
      "Wall time: 562 ms\n"
     ]
    }
   ],
   "source": [
    "%%time\n",
    "\n",
    "\n",
    "best_model_tree_2 = None\n",
    "best_result_tree_2 = 0\n",
    "best_depth_tree_2 = 0\n",
    "for depth in range(2, 20):\n",
    "    model_tree_2 = DecisionTreeClassifier(random_state=12345, max_depth=depth) \n",
    "    model_tree_2.fit(features_upsampled, target_upsampled)\n",
    "    predicted_valid_tree_2 = model_tree_2.predict(features_valid) # получите предсказания модели\n",
    "    f1_tree_2 = f1_score(target_valid, predicted_valid_tree_2)\n",
    "    if f1_tree_2 > best_result_tree_2:\n",
    "        best_model_tree_2 = model_tree_2 # сохраните наилучшую модель\n",
    "        best_result_tree_2 = f1_tree_2 #  сохраните наилучшее значение метрики accuracy на валидационных данных\n",
    "        best_depth_tree_2 = depth\n",
    "print(\"F1 наилучшей модели на валидационной выборке:\", best_result_tree_2)\n",
    "print(\"Глубина наилучшей модели на валидационной выборке:\", best_depth_tree_2) "
   ]
  },
  {
   "cell_type": "code",
   "execution_count": 177,
   "id": "5115074a",
   "metadata": {},
   "outputs": [],
   "source": [
    "best_of_the_model_tree_balance = DecisionTreeClassifier(random_state=12345, max_depth=8) \n",
    "best_of_the_model_tree_balance.fit(features_upsampled, target_upsampled)\n",
    "predicted_valid_best_of_the_best_balance = best_of_the_model_tree_balance.predict(features_valid) # получите предсказания модели"
   ]
  },
  {
   "cell_type": "code",
   "execution_count": 178,
   "id": "ed7c382e",
   "metadata": {},
   "outputs": [
    {
     "name": "stdout",
     "output_type": "stream",
     "text": [
      "Площадь ROC_AUC =  0.8192783552783552\n"
     ]
    }
   ],
   "source": [
    "#Расчет площади ROC_AUC для дерева решений\n",
    "probabilities_one_valid_tree_balance = best_of_the_model_tree_balance.predict_proba(features_valid)[:, 1]\n",
    "\n",
    "auc_roc_tree = roc_auc_score(target_valid, probabilities_one_valid_tree_balance)\n",
    "print('Площадь ROC_AUC = ', auc_roc_tree)"
   ]
  },
  {
   "cell_type": "code",
   "execution_count": 179,
   "id": "b6d3aff9",
   "metadata": {},
   "outputs": [
    {
     "name": "stdout",
     "output_type": "stream",
     "text": [
      "Полнота 0.712\n",
      "Точность 0.48990825688073397\n",
      "F1-мера 0.5804347826086956\n"
     ]
    }
   ],
   "source": [
    "# рассчитаем RPF\n",
    "RPF(target_valid, predicted_valid_best_of_the_best_balance)"
   ]
  },
  {
   "cell_type": "markdown",
   "id": "de1a9422",
   "metadata": {},
   "source": [
    "**Подитог**:\n",
    "\n",
    "В результате произошло:\n",
    "- спад показателя F-меры –  он упал с 0.6036 до 0.58;\n",
    "- упал показатель точности - с 0.79 до 0.49;\n",
    "- но при этом вырос показатель полноты с 0.485 до 0.712.\n",
    "- и незначительно выросла площадь ROC_AUC, с 0.81 до 0.819\n",
    "\n",
    "\n",
    "После балансирования классов за счет увеличения выборки предсказания качества решающего дерева упало в точности и в F-мере."
   ]
  },
  {
   "cell_type": "markdown",
   "id": "37dbbe56",
   "metadata": {},
   "source": [
    "### Случайный лес с использованием upsampling"
   ]
  },
  {
   "cell_type": "code",
   "execution_count": 180,
   "id": "f31c3f1d",
   "metadata": {},
   "outputs": [
    {
     "name": "stdout",
     "output_type": "stream",
     "text": [
      "F1 наилучшей модели на валидационной выборке: 0.6311688311688313\n",
      "Глубина наилучшей модели на валидационной выборке: 12\n",
      "Количество деревье наилучшей модели на валидационной выборке: 40\n",
      "CPU times: user 36.9 s, sys: 179 ms, total: 37.1 s\n",
      "Wall time: 37.1 s\n"
     ]
    }
   ],
   "source": [
    "%%time\n",
    "\n",
    "\n",
    "\n",
    "\n",
    "best_model_forest_2 = None\n",
    "best_result_forest_2 = 0\n",
    "best_est_forest_2 = 0\n",
    "best_depth_forest_2 = 0\n",
    "for est in range(10, 80, 10): # кол-во деревьев с шагом 10\n",
    "    for depth in range (1, 20): # количество вопросов (глубина)\n",
    "        model_forest_2 = RandomForestClassifier(random_state=12345, n_estimators=est, max_depth=depth) # обучите модель с заданным количеством деревьев\n",
    "        model_forest_2.fit(features_upsampled, target_upsampled ) # обучите модель на тренировочной выборке\n",
    "        predicted_valid_forest_2 = model_forest_2.predict(features_valid)\n",
    "        f1_forest_2 = f1_score(target_valid, predicted_valid_forest_2) # посчитайте качество модели на валидационной выборке\n",
    "        if f1_forest_2 > best_result_forest_2:\n",
    "            best_model_forest_2 = model_forest_2 # сохраните наилучшую модель\n",
    "            best_result_forest_2 = f1_forest_2 #  сохраните наилучшее значение метрики на валидационных данных\n",
    "            best_depth_forest_2 = depth\n",
    "            best_est_forest_2 = est\n",
    "print(\"F1 наилучшей модели на валидационной выборке:\", best_result_forest_2)\n",
    "print(\"Глубина наилучшей модели на валидационной выборке:\", best_depth_forest_2)\n",
    "print(\"Количество деревье наилучшей модели на валидационной выборке:\", best_est_forest_2)\n"
   ]
  },
  {
   "cell_type": "code",
   "execution_count": 181,
   "id": "843b2180",
   "metadata": {},
   "outputs": [],
   "source": [
    "best_of_the_model_forest_balance = RandomForestClassifier(random_state=12345, n_estimators=40, max_depth = 12) \n",
    "best_of_the_model_forest_balance.fit(features_upsampled, target_upsampled)\n",
    "predicted_valid_best_of_the_forest_balance = best_of_the_model_forest_balance.predict(features_valid) # получите предсказания модели"
   ]
  },
  {
   "cell_type": "code",
   "execution_count": 182,
   "id": "bb6d3c4a",
   "metadata": {},
   "outputs": [
    {
     "name": "stdout",
     "output_type": "stream",
     "text": [
      "Площадь AUR_ROC =  0.8587424347424347\n"
     ]
    }
   ],
   "source": [
    "#Расчет roc_auc для случайного леса\n",
    "probabilities_one_valid_forest_balance = best_of_the_model_forest_balance.predict_proba(features_valid)[:, 1]\n",
    "\n",
    "auc_roc_tree = roc_auc_score(target_valid, probabilities_one_valid_forest_balance)\n",
    "print('Площадь AUR_ROC = ', auc_roc_tree)\n"
   ]
  },
  {
   "cell_type": "code",
   "execution_count": 183,
   "id": "923d3d56",
   "metadata": {},
   "outputs": [
    {
     "name": "stdout",
     "output_type": "stream",
     "text": [
      "Полнота 0.648\n",
      "Точность 0.6151898734177215\n",
      "F1-мера 0.6311688311688313\n"
     ]
    }
   ],
   "source": [
    "# рассчитаем RPF\n",
    "RPF(target_valid, predicted_valid_best_of_the_forest_balance)"
   ]
  },
  {
   "cell_type": "markdown",
   "id": "162ef1a6",
   "metadata": {},
   "source": [
    "**Подитог**:\n",
    "Случайный лес на сбалансированной выборке показывает следующие результаты:\n",
    "- F-мера показала не большой рост –  выросла с 0.6123 до 0.6311\n",
    "- площадь ROC_AUC стала немного хуже, упав с 0.8625 до 0.8526\n",
    "\n"
   ]
  },
  {
   "cell_type": "markdown",
   "id": "f4510acc",
   "metadata": {},
   "source": [
    "### Логистическая регрессия с использованием upsampling"
   ]
  },
  {
   "cell_type": "code",
   "execution_count": 184,
   "id": "5fddba00",
   "metadata": {},
   "outputs": [
    {
     "name": "stdout",
     "output_type": "stream",
     "text": [
      "Полнота: 0.72\n",
      "Точность: 0.39416058394160586\n",
      "F1: 0.5094339622641509\n"
     ]
    }
   ],
   "source": [
    "\n",
    "model_log_2 = LogisticRegression(random_state=12345,  solver='liblinear')\n",
    "model_log_2.fit(features_upsampled, target_upsampled) # обучаем на новых данных\n",
    "predicted_valid_log_2 = model_log_2.predict(features_valid) # подставляем в прогноз валидационные нецелевые признаки\n",
    "\n",
    "precision_log_2 = precision_score(target_valid, predicted_valid_log_2)\n",
    "recall_log_2 = recall_score(target_valid, predicted_valid_log_2)\n",
    "print(\"Полнота:\", recall_log_2)\n",
    "print(\"Точность:\", precision_log_2)\n",
    "print(\"F1:\", f1_score(target_valid, predicted_valid_log_2))\n"
   ]
  },
  {
   "cell_type": "code",
   "execution_count": 185,
   "id": "21c40898",
   "metadata": {},
   "outputs": [
    {
     "name": "stdout",
     "output_type": "stream",
     "text": [
      "Площадь AUR_ROC =  0.7880397320397321\n"
     ]
    }
   ],
   "source": [
    "model_log_balance = LogisticRegression(random_state=12345,  solver='liblinear')\n",
    "model_log_balance.fit(features_upsampled, target_upsampled)\n",
    "predicted_valid_log_balance = model_log_balance.predict(features_valid) # получите предсказания модели\n",
    "#Расчет roc_auc для  логистической регрессии\n",
    "probabilities_one_valid_log_balance = model_log_balance.predict_proba(features_valid)[:, 1]\n",
    "\n",
    "auc_roc_tree = roc_auc_score(target_valid, probabilities_one_valid_log_balance)\n",
    "print('Площадь AUR_ROC = ', auc_roc_tree)"
   ]
  },
  {
   "cell_type": "markdown",
   "id": "a842068f",
   "metadata": {},
   "source": [
    "**Подитог**:\n",
    "\n",
    "Метрика показала рост – это уже можно назвать успехом, хотя и показатель не достиг уровня нашей цели в 0.59.\n",
    "\n",
    "F-мера стала = 0.509. То есть выросла на 0.16. Напоминим, предудущий показатель был равен: 0.3398\n",
    "\n",
    "Также площадь AUR_ROC незначительно, но выросла с 0.7832 до 0.788"
   ]
  },
  {
   "cell_type": "markdown",
   "id": "20fd59e2",
   "metadata": {},
   "source": [
    "## Вывод:\n",
    "В результате только 1 модель из трех дала нужный результат на сбалансированной выборке с помощью upsampling:\n",
    "\n",
    "1) Наилучший результат у модели случайный лес - RandomForestClassifier. F-мера равна =0.631;\n",
    "\n",
    "2) Следующий результат у решающего дерева - DecisionTreeClassifier. F-мера у данной модели равна 0.58;\n",
    "\n",
    "3) 3-й результат дает логистическая регрессия - LogisticRegression. F-мера у данной модели равна 0.509, что нам никак не подходит.\n"
   ]
  },
  {
   "cell_type": "markdown",
   "id": "261bb78f",
   "metadata": {},
   "source": [
    "### Используем уменьшение выборки благодаря методу downsampling "
   ]
  },
  {
   "cell_type": "markdown",
   "id": "d864318f",
   "metadata": {},
   "source": [
    "Преобразование проходит в несколько этапов:\n",
    "\n",
    "•\tРазделить обучающую выборку на отрицательные и положительные объекты;\n",
    "\n",
    "•\tСлучайным образом отбросить часть из отрицательных объектов;\n",
    "\n",
    "•\tС учётом полученных данных создать новую обучающую выборку;\n",
    "\n",
    "•\tПеремешать данные. Положительные не должны идти следом за отрицательными: алгоритмам будет сложнее обучаться.\n"
   ]
  },
  {
   "cell_type": "code",
   "execution_count": 186,
   "id": "8271e2db",
   "metadata": {},
   "outputs": [
    {
     "name": "stdout",
     "output_type": "stream",
     "text": [
      "(5454, 11)\n",
      "(1364, 11)\n"
     ]
    }
   ],
   "source": [
    "print(features_train.shape)\n",
    "\n",
    "features_sample = features_train.sample(frac=0.25, random_state=12345)\n",
    "print(features_sample.shape)\n",
    "\n"
   ]
  },
  {
   "cell_type": "code",
   "execution_count": 187,
   "id": "1d850f4c",
   "metadata": {},
   "outputs": [
    {
     "name": "stdout",
     "output_type": "stream",
     "text": [
      "(2198, 11)\n",
      "(2198,)\n"
     ]
    }
   ],
   "source": [
    "def downsample(features, target, fraction):\n",
    "    features_zeros = features[target == 0]\n",
    "    features_ones = features[target == 1]\n",
    "    target_zeros = target[target == 0]\n",
    "    target_ones = target[target == 1]\n",
    "    features_downsampled = pd.concat([features_zeros.sample(frac=fraction, random_state=12345)] + [features_ones])\n",
    "    \n",
    "    target_downsampled =pd.concat([target_zeros.sample(frac=fraction, random_state=12345)] + [target_ones]) \n",
    "# объединяем таргеты и берем долю от них тем самым уменьшая выборку\n",
    "    features_downsampled, target_downsampled = shuffle(features_downsampled, target_downsampled, random_state=12345) # перемешиваем\n",
    "\n",
    "    return features_downsampled, target_downsampled\n",
    "\n",
    "features_downsampled, target_downsampled = downsample(features_train, target_train, 0.25)\n",
    "\n",
    "print(features_downsampled.shape)\n",
    "print(target_downsampled.shape)\n"
   ]
  },
  {
   "cell_type": "markdown",
   "id": "ae5cadfc",
   "metadata": {},
   "source": [
    "### Дерево решений с использованием downsampling"
   ]
  },
  {
   "cell_type": "code",
   "execution_count": 188,
   "id": "f6be88c7",
   "metadata": {},
   "outputs": [
    {
     "name": "stdout",
     "output_type": "stream",
     "text": [
      "F1 наилучшей модели на валидационной выборке: 0.5702479338842975\n",
      "Глубина наилучшей модели на валидационной выборке: 8\n",
      "CPU times: user 187 ms, sys: 7.88 ms, total: 194 ms\n",
      "Wall time: 197 ms\n"
     ]
    }
   ],
   "source": [
    "%%time\n",
    "\n",
    "\n",
    "best_model_tree_3 = None\n",
    "best_result_tree_3 = 0\n",
    "best_depth_tree_3 = 0\n",
    "for depth in range(3, 20):\n",
    "    model_tree_3 = DecisionTreeClassifier(random_state=12345, max_depth=depth) \n",
    "    model_tree_3.fit(features_downsampled, target_downsampled)\n",
    "    predicted_valid_tree_3 = model_tree_3.predict(features_valid) # получите предсказания модели\n",
    "    f1_tree_3 = f1_score(target_valid, predicted_valid_tree_3)\n",
    "    if f1_tree_3 > best_result_tree_3:\n",
    "        best_model_tree_3 = model_tree_3 # сохраните наилучшую модель\n",
    "        best_result_tree_3 = f1_tree_3 #  сохраните наилучшее значение метрики accuracy на валидационных данных\n",
    "        best_depth_tree_3 = depth\n",
    "print(\"F1 наилучшей модели на валидационной выборке:\", best_result_tree_3)\n",
    "print(\"Глубина наилучшей модели на валидационной выборке:\", best_depth_tree_3) "
   ]
  },
  {
   "cell_type": "code",
   "execution_count": 199,
   "id": "ced95d6e",
   "metadata": {},
   "outputs": [],
   "source": [
    "best_of_the_model_tree_balance_2 = DecisionTreeClassifier(random_state=12345, max_depth=8) \n",
    "best_of_the_model_tree_balance_2.fit(features_downsampled, target_downsampled)\n",
    "predicted_valid_best_of_the_best_balance_2 = best_of_the_model_tree_balance_2.predict(features_valid) # получите предсказания модели"
   ]
  },
  {
   "cell_type": "code",
   "execution_count": 200,
   "id": "b428da0e",
   "metadata": {},
   "outputs": [
    {
     "name": "stdout",
     "output_type": "stream",
     "text": [
      "Площадь ROC_AUC =  0.8217666897666898\n"
     ]
    }
   ],
   "source": [
    "#Расчет площади ROC_AUC для дерева решений\n",
    "probabilities_one_valid_tree_balance_2 = best_of_the_model_tree_balance_2.predict_proba(features_valid)[:, 1]\n",
    "\n",
    "auc_roc_tree = roc_auc_score(target_valid, probabilities_one_valid_tree_balance_2)\n",
    "print('Площадь ROC_AUC = ', auc_roc_tree)"
   ]
  },
  {
   "cell_type": "code",
   "execution_count": 201,
   "id": "6a0e6c5d",
   "metadata": {},
   "outputs": [
    {
     "name": "stdout",
     "output_type": "stream",
     "text": [
      "Полнота 0.736\n",
      "Точность 0.4654300168634064\n",
      "F1-мера 0.5702479338842975\n"
     ]
    }
   ],
   "source": [
    "# рассчитаем RPF\n",
    "RPF(target_valid, predicted_valid_best_of_the_best_balance_2)"
   ]
  },
  {
   "cell_type": "markdown",
   "id": "261ad815",
   "metadata": {},
   "source": [
    "### Случайный лес с использованием downsampling"
   ]
  },
  {
   "cell_type": "code",
   "execution_count": 192,
   "id": "a4ff4fc3",
   "metadata": {},
   "outputs": [
    {
     "name": "stdout",
     "output_type": "stream",
     "text": [
      "F1 наилучшей модели на валидационной выборке: 0.6058002148227712\n",
      "Глубина наилучшей модели на валидационной выборке: 9\n",
      "Количество деревье наилучшей модели на валидационной выборке: 40\n",
      "CPU times: user 15.7 s, sys: 91.5 ms, total: 15.8 s\n",
      "Wall time: 15.8 s\n"
     ]
    }
   ],
   "source": [
    "%%time\n",
    "\n",
    "\n",
    "\n",
    "\n",
    "best_model_forest_3 = None\n",
    "best_result_forest_3 = 0\n",
    "best_est_forest_3 = 0\n",
    "best_depth_forest_3 = 0\n",
    "for est in range(10, 80, 10): # кол-во деревьев с шагом 10\n",
    "    for depth in range (1, 20): # количество вопросов (глубина)\n",
    "        model_forest_3 = RandomForestClassifier(random_state=12345, n_estimators=est, max_depth=depth) # обучите модель с заданным количеством деревьев\n",
    "        model_forest_3.fit(features_downsampled, target_downsampled ) # обучите модель на тренировочной выборке\n",
    "        predicted_valid_forest_3 = model_forest_3.predict(features_valid)\n",
    "        f1_forest_3 = f1_score(target_valid, predicted_valid_forest_3) # посчитайте качество модели на валидационной выборке\n",
    "        if f1_forest_3 > best_result_forest_3:\n",
    "            best_model_forest_3 = model_forest_3 # сохраните наилучшую модель\n",
    "            best_result_forest_3 = f1_forest_3 #  сохраните наилучшее значение метрики на валидационных данных\n",
    "            best_depth_forest_3 = depth\n",
    "            best_est_forest_3 = est\n",
    "print(\"F1 наилучшей модели на валидационной выборке:\", best_result_forest_3)\n",
    "print(\"Глубина наилучшей модели на валидационной выборке:\", best_depth_forest_3)\n",
    "print(\"Количество деревье наилучшей модели на валидационной выборке:\", best_est_forest_3)\n"
   ]
  },
  {
   "cell_type": "code",
   "execution_count": 193,
   "id": "0d3895fe",
   "metadata": {},
   "outputs": [],
   "source": [
    "model_forest_best = RandomForestClassifier(random_state=12345, n_estimators=40, max_depth=9)\n",
    "model_forest_best.fit(features_downsampled, target_downsampled ) # обучите модель на тренировочной выборке\n",
    "predicted_valid_forest_best = model_forest_best.predict(features_valid)\n",
    "    \n"
   ]
  },
  {
   "cell_type": "code",
   "execution_count": 194,
   "id": "149d0521",
   "metadata": {},
   "outputs": [
    {
     "name": "stdout",
     "output_type": "stream",
     "text": [
      "Площадь AUR_ROC =  0.8641090321090321\n"
     ]
    }
   ],
   "source": [
    "#Расчет roc_auc для случайного леса\n",
    "probabilities_one_valid_forest_balance_2 = model_forest_best.predict_proba(features_valid)[:, 1]\n",
    "\n",
    "auc_roc_tree = roc_auc_score(target_valid, probabilities_one_valid_forest_balance_2)\n",
    "print('Площадь AUR_ROC = ', auc_roc_tree)\n"
   ]
  },
  {
   "cell_type": "code",
   "execution_count": 195,
   "id": "b6379553",
   "metadata": {},
   "outputs": [
    {
     "name": "stdout",
     "output_type": "stream",
     "text": [
      "Полнота 0.752\n",
      "Точность 0.5071942446043165\n",
      "F1-мера 0.6058002148227712\n"
     ]
    }
   ],
   "source": [
    "# рассчитаем RPF\n",
    "RPF(target_valid, predicted_valid_forest_best)"
   ]
  },
  {
   "cell_type": "markdown",
   "id": "b89a3f4d",
   "metadata": {},
   "source": [
    "### Логистическая регрессия с использованием downsampling"
   ]
  },
  {
   "cell_type": "code",
   "execution_count": 196,
   "id": "4d3fafa6",
   "metadata": {},
   "outputs": [
    {
     "name": "stdout",
     "output_type": "stream",
     "text": [
      "Полнота: 0.736\n",
      "Точность: 0.3994211287988423\n",
      "F1: 0.5178236397748592\n"
     ]
    }
   ],
   "source": [
    "model_log_3 = LogisticRegression(random_state=12345,  solver='liblinear')\n",
    "model_log_3.fit(features_downsampled, target_downsampled) # обучаем на новых данных\n",
    "predicted_valid_log_3 = model_log_3.predict(features_valid) # подставляем в прогноз валидационные нецелевые признаки\n",
    "\n",
    "precision_log_3 = precision_score(target_valid, predicted_valid_log_3)\n",
    "recall_log_3 = recall_score(target_valid, predicted_valid_log_3)\n",
    "print(\"Полнота:\", recall_log_3)\n",
    "print(\"Точность:\", precision_log_3)\n",
    "print(\"F1:\", f1_score(target_valid, predicted_valid_log_3))"
   ]
  },
  {
   "cell_type": "code",
   "execution_count": 197,
   "id": "c8da9beb",
   "metadata": {},
   "outputs": [
    {
     "name": "stdout",
     "output_type": "stream",
     "text": [
      "Площадь AUR_ROC =  0.7892834372834374\n"
     ]
    }
   ],
   "source": [
    "model_log_balance_2 = LogisticRegression(random_state=12345,  solver='liblinear')\n",
    "model_log_balance_2.fit(features_downsampled, target_downsampled)\n",
    "predicted_valid_log_balance_2 = model_log_balance_2.predict(features_valid) # получите предсказания модели\n",
    "#Расчет roc_auc для  логистической регрессии\n",
    "probabilities_one_valid_log_balance_2 = model_log_balance_2.predict_proba(features_valid)[:, 1]\n",
    "\n",
    "auc_roc_tree = roc_auc_score(target_valid, probabilities_one_valid_log_balance_2)\n",
    "print('Площадь AUR_ROC = ', auc_roc_tree)"
   ]
  },
  {
   "cell_type": "markdown",
   "id": "55978555",
   "metadata": {},
   "source": [
    "## Вывод: \n",
    "С уменьшением выборки данных через метод downsampling с аргументом frac=0.25, результаты на моделе \"Случайный лес\" и \"Решающее дерево\" показали ухудшение результатов.\n",
    "\n",
    "- По моделе \"Случайный лес\" показатель F-меры также незначительно, но упал с 0.612 до 0.605 \n",
    "- А по моделе \"Дерева Решений\" показатель и вовсе упал за рамки допустимых значений F-меры с 0.60 до 0.57\n",
    "\n",
    "\n",
    "\n",
    "Ввиду этого можем сделать вывод, для данной выборки лучше всего использовать балансирование классов через метод upsampling, увеличением выборки меньшего класса в 4 раза. \n",
    "\n",
    "Благодаря данному методу мы добились улучшения показателей F-меры:\n",
    "-  у Случайного леса показатель вырос с **0.61 до 0.63**;\n",
    "-  у Дерева решений показатель немного стал ниже, был 0.60, стал 0.58 - что также лучше чем использования предыдущего класса;\n",
    "- и наибольший прирост полуился модель Логистической регрессии, ее показател был 0.34 и вырос до 0.51, однако эта модель нам в любом случаи не подходит, так как результат ниже 0.59.\n",
    "\n",
    "При всем при этом показатель площади AUR_ROC находится в высоких значениях на всех моделях, от 0.75 до 0.86\n",
    "\n",
    "Как итог, для тестовой выборки лучше всего подойдет модель **RandomForestClassifier**.\n"
   ]
  },
  {
   "cell_type": "markdown",
   "id": "38ca89fd",
   "metadata": {},
   "source": [
    "# ИТОГ: \n",
    "\n",
    "В результате проекта, для данной выборки лучше всего подходит:\n",
    "\n",
    "1) Модель **RandomForestClassifier**, с параметрами\n",
    "- деревья (n_estimators) = 40\n",
    "- глубиной (max_depth) = 12\n",
    "\n",
    "2) Метод борьбы с дисбалансом -  upsampling, увеличением выборки меньшего класса в 4 раза.\n",
    "\n",
    "\n",
    "Благодаря данным параметрам мы добились лучшего результата F-меры. \n",
    "\n",
    "Проверим гипотезу на тестовой выборке."
   ]
  },
  {
   "cell_type": "markdown",
   "id": "49eb99b7",
   "metadata": {},
   "source": [
    "## Проверим модель на тестовой выборке"
   ]
  },
  {
   "cell_type": "markdown",
   "id": "13b76962",
   "metadata": {},
   "source": [
    "***Из трех моделей лучший результат показала модель - RandomForestClassifier. На ней и проверим тестовую выборку:***"
   ]
  },
  {
   "cell_type": "code",
   "execution_count": 202,
   "id": "70bf6028",
   "metadata": {},
   "outputs": [
    {
     "name": "stdout",
     "output_type": "stream",
     "text": [
      "F-мера наилучшей модели на тестовой выборке: 0.6131191432396251\n"
     ]
    }
   ],
   "source": [
    "# feature_all = pd.concat([features_train, features_valid], ignore_index=True) # объединили и индексы занова пронумировали\n",
    "# target_all = pd.concat([target_train, target_valid], ignore_index=True) # объединили по таргетам\n",
    "model_test = RandomForestClassifier(random_state=12345, n_estimators=40, max_depth = 12)\n",
    "model_test.fit(features_upsampled, target_upsampled)\n",
    "predict1 = model_test.predict(features_test)\n",
    "f_1_result = f1_score(predict1, target_test)\n",
    "\n",
    "\n",
    "\n",
    "print(\"F-мера наилучшей модели на тестовой выборке:\", f_1_result)"
   ]
  },
  {
   "cell_type": "markdown",
   "id": "b2173101",
   "metadata": {},
   "source": [
    "### Итоговый результат предсказания качества модели выше 59%, цель проекта выполнена.   "
   ]
  },
  {
   "cell_type": "markdown",
   "id": "10715c5d",
   "metadata": {},
   "source": [
    "# Выводы\n",
    "В первоначальные данных наблюдался  дисбаланс (79% ответов целевого признака были негативными и только 21% позитивными), из-за чего обученная на этих данных модель не проходила проверку на адекватность. \n",
    "Однако на первоначальных данных с такой диспропорцией классов модель \"Решающее Дерево\" и \"Случайный лес\" уже давали референсные значения F1-меры с показателями 0.60 и 0.61 соответственно. \n",
    "\n",
    "Для улучшения результата устанирили дисбаланс классов в обучающей выборке благодаря увеличению объема данных в 4 раза и перемешке их.\n",
    "\n",
    "\n",
    "На новых данных 2 модели из 3 показали результат выше, чем на несбалансированной выборке. \n",
    "\n",
    "Лучшие показатели были у модели случайного леса (**RandomForestClassifier**\n",
    "):\n",
    "\n",
    "Полнота   0.648\n",
    "\n",
    "Точность  0.615\n",
    "\n",
    "F1-мера   0.631\n",
    "\n",
    "\n",
    "\n"
   ]
  }
 ],
 "metadata": {
  "ExecuteTimeLog": [
   {
    "duration": 1925,
    "start_time": "2023-04-19T11:12:38.820Z"
   },
   {
    "duration": 40,
    "start_time": "2023-04-19T11:12:40.748Z"
   },
   {
    "duration": 33,
    "start_time": "2023-04-19T11:12:40.790Z"
   },
   {
    "duration": 5,
    "start_time": "2023-04-19T11:12:40.825Z"
   },
   {
    "duration": 7,
    "start_time": "2023-04-19T11:12:40.831Z"
   },
   {
    "duration": 40,
    "start_time": "2023-04-19T11:12:40.839Z"
   },
   {
    "duration": 17,
    "start_time": "2023-04-19T11:12:40.881Z"
   },
   {
    "duration": 21,
    "start_time": "2023-04-19T11:12:40.899Z"
   },
   {
    "duration": 36,
    "start_time": "2023-04-19T11:12:40.922Z"
   },
   {
    "duration": 8,
    "start_time": "2023-04-19T11:12:40.960Z"
   },
   {
    "duration": 6,
    "start_time": "2023-04-19T11:12:40.970Z"
   },
   {
    "duration": 7,
    "start_time": "2023-04-19T11:12:40.977Z"
   },
   {
    "duration": 6,
    "start_time": "2023-04-19T11:12:40.985Z"
   },
   {
    "duration": 5,
    "start_time": "2023-04-19T11:12:40.993Z"
   },
   {
    "duration": 34,
    "start_time": "2023-04-19T11:12:41.000Z"
   },
   {
    "duration": 34,
    "start_time": "2023-04-19T11:12:41.035Z"
   },
   {
    "duration": 2,
    "start_time": "2023-04-19T11:12:41.071Z"
   },
   {
    "duration": 8,
    "start_time": "2023-04-19T11:12:41.075Z"
   },
   {
    "duration": 25,
    "start_time": "2023-04-19T11:12:41.085Z"
   },
   {
    "duration": 12,
    "start_time": "2023-04-19T11:12:41.112Z"
   },
   {
    "duration": 39,
    "start_time": "2023-04-19T11:12:41.125Z"
   },
   {
    "duration": 4,
    "start_time": "2023-04-19T11:12:41.166Z"
   },
   {
    "duration": 129,
    "start_time": "2023-04-19T11:12:41.172Z"
   },
   {
    "duration": 10,
    "start_time": "2023-04-19T11:12:41.303Z"
   },
   {
    "duration": 7,
    "start_time": "2023-04-19T11:12:41.314Z"
   },
   {
    "duration": 3,
    "start_time": "2023-04-19T11:12:41.322Z"
   },
   {
    "duration": 31,
    "start_time": "2023-04-19T11:12:41.326Z"
   },
   {
    "duration": 19,
    "start_time": "2023-04-19T11:12:41.360Z"
   },
   {
    "duration": 2,
    "start_time": "2023-04-19T11:12:41.380Z"
   },
   {
    "duration": 5,
    "start_time": "2023-04-19T11:12:41.384Z"
   },
   {
    "duration": 13,
    "start_time": "2023-04-19T11:12:41.390Z"
   },
   {
    "duration": 430,
    "start_time": "2023-04-19T11:12:41.405Z"
   },
   {
    "duration": 31,
    "start_time": "2023-04-19T11:12:41.836Z"
   },
   {
    "duration": 9,
    "start_time": "2023-04-19T11:12:41.869Z"
   },
   {
    "duration": 27633,
    "start_time": "2023-04-19T11:12:41.880Z"
   },
   {
    "duration": 42,
    "start_time": "2023-04-19T11:13:09.515Z"
   },
   {
    "duration": 342,
    "start_time": "2023-04-19T11:13:09.560Z"
   },
   {
    "duration": 1626,
    "start_time": "2023-04-19T14:36:37.149Z"
   },
   {
    "duration": 7,
    "start_time": "2023-04-19T14:38:31.274Z"
   },
   {
    "duration": 210,
    "start_time": "2023-04-19T14:38:31.283Z"
   },
   {
    "duration": 59,
    "start_time": "2023-04-19T14:38:31.496Z"
   },
   {
    "duration": 7,
    "start_time": "2023-04-19T14:38:31.560Z"
   },
   {
    "duration": 72,
    "start_time": "2023-04-19T14:38:31.570Z"
   },
   {
    "duration": 91,
    "start_time": "2023-04-19T14:38:33.139Z"
   },
   {
    "duration": 51,
    "start_time": "2023-04-19T14:38:43.331Z"
   },
   {
    "duration": 7,
    "start_time": "2023-04-19T14:45:21.443Z"
   },
   {
    "duration": 59,
    "start_time": "2023-04-19T14:45:21.453Z"
   },
   {
    "duration": 35,
    "start_time": "2023-04-19T14:45:21.515Z"
   },
   {
    "duration": 6,
    "start_time": "2023-04-19T14:45:21.553Z"
   },
   {
    "duration": 13,
    "start_time": "2023-04-19T14:45:21.561Z"
   },
   {
    "duration": 96,
    "start_time": "2023-04-19T14:45:21.576Z"
   },
   {
    "duration": 27,
    "start_time": "2023-04-19T14:45:21.674Z"
   },
   {
    "duration": 60,
    "start_time": "2023-04-19T14:45:21.703Z"
   },
   {
    "duration": 36,
    "start_time": "2023-04-19T14:45:21.766Z"
   },
   {
    "duration": 16,
    "start_time": "2023-04-19T14:45:21.807Z"
   },
   {
    "duration": 33,
    "start_time": "2023-04-19T14:45:21.826Z"
   },
   {
    "duration": 10,
    "start_time": "2023-04-19T14:45:21.862Z"
   },
   {
    "duration": 11,
    "start_time": "2023-04-19T14:45:21.875Z"
   },
   {
    "duration": 7,
    "start_time": "2023-04-19T14:45:21.888Z"
   },
   {
    "duration": 14,
    "start_time": "2023-04-19T14:45:21.897Z"
   },
   {
    "duration": 83,
    "start_time": "2023-04-19T14:45:21.914Z"
   },
   {
    "duration": 3,
    "start_time": "2023-04-19T14:45:22.000Z"
   },
   {
    "duration": 12,
    "start_time": "2023-04-19T14:45:22.005Z"
   },
   {
    "duration": 19,
    "start_time": "2023-04-19T14:45:22.019Z"
   },
   {
    "duration": 45,
    "start_time": "2023-04-19T14:45:22.040Z"
   },
   {
    "duration": 44,
    "start_time": "2023-04-19T14:45:22.088Z"
   },
   {
    "duration": 6,
    "start_time": "2023-04-19T14:45:22.133Z"
   },
   {
    "duration": 301,
    "start_time": "2023-04-19T14:45:29.493Z"
   },
   {
    "duration": 140,
    "start_time": "2023-04-19T14:45:34.933Z"
   },
   {
    "duration": 161,
    "start_time": "2023-04-19T14:45:52.465Z"
   },
   {
    "duration": 125,
    "start_time": "2023-04-19T14:46:07.099Z"
   },
   {
    "duration": 205,
    "start_time": "2023-04-19T14:46:21.215Z"
   },
   {
    "duration": 126,
    "start_time": "2023-04-19T14:46:58.853Z"
   },
   {
    "duration": 149,
    "start_time": "2023-04-19T14:47:04.239Z"
   },
   {
    "duration": 136,
    "start_time": "2023-04-19T14:47:50.423Z"
   },
   {
    "duration": 129,
    "start_time": "2023-04-19T14:48:16.449Z"
   },
   {
    "duration": 134,
    "start_time": "2023-04-19T14:48:45.241Z"
   },
   {
    "duration": 126,
    "start_time": "2023-04-19T14:48:48.678Z"
   },
   {
    "duration": 124,
    "start_time": "2023-04-19T14:48:52.908Z"
   },
   {
    "duration": 93,
    "start_time": "2023-04-19T14:48:56.373Z"
   },
   {
    "duration": 129,
    "start_time": "2023-04-19T14:48:57.976Z"
   },
   {
    "duration": 75,
    "start_time": "2023-04-19T14:49:08.426Z"
   },
   {
    "duration": 131,
    "start_time": "2023-04-19T14:49:15.041Z"
   },
   {
    "duration": 122,
    "start_time": "2023-04-19T14:49:41.623Z"
   },
   {
    "duration": 164,
    "start_time": "2023-04-19T14:50:25.419Z"
   },
   {
    "duration": 159,
    "start_time": "2023-04-19T14:50:35.852Z"
   },
   {
    "duration": 54,
    "start_time": "2023-04-20T11:15:30.829Z"
   },
   {
    "duration": 1834,
    "start_time": "2023-04-20T11:16:03.171Z"
   },
   {
    "duration": 153,
    "start_time": "2023-04-20T11:16:05.007Z"
   },
   {
    "duration": 47,
    "start_time": "2023-04-20T11:16:05.162Z"
   },
   {
    "duration": 6,
    "start_time": "2023-04-20T11:16:05.210Z"
   },
   {
    "duration": 7,
    "start_time": "2023-04-20T11:16:05.219Z"
   },
   {
    "duration": 76,
    "start_time": "2023-04-20T11:16:05.228Z"
   },
   {
    "duration": 19,
    "start_time": "2023-04-20T11:16:05.306Z"
   },
   {
    "duration": 44,
    "start_time": "2023-04-20T11:16:05.327Z"
   },
   {
    "duration": 27,
    "start_time": "2023-04-20T11:16:05.373Z"
   },
   {
    "duration": 9,
    "start_time": "2023-04-20T11:16:05.402Z"
   },
   {
    "duration": 14,
    "start_time": "2023-04-20T11:16:05.413Z"
   },
   {
    "duration": 30,
    "start_time": "2023-04-20T11:16:05.429Z"
   },
   {
    "duration": 11,
    "start_time": "2023-04-20T11:16:05.462Z"
   },
   {
    "duration": 21,
    "start_time": "2023-04-20T11:16:05.475Z"
   },
   {
    "duration": 20,
    "start_time": "2023-04-20T11:16:05.497Z"
   },
   {
    "duration": 39,
    "start_time": "2023-04-20T11:16:05.519Z"
   },
   {
    "duration": 25,
    "start_time": "2023-04-20T11:16:05.560Z"
   },
   {
    "duration": 21,
    "start_time": "2023-04-20T11:16:05.587Z"
   },
   {
    "duration": 29,
    "start_time": "2023-04-20T11:16:05.610Z"
   },
   {
    "duration": 33,
    "start_time": "2023-04-20T11:16:05.641Z"
   },
   {
    "duration": 34,
    "start_time": "2023-04-20T11:16:05.675Z"
   },
   {
    "duration": 38,
    "start_time": "2023-04-20T11:16:05.711Z"
   },
   {
    "duration": 198,
    "start_time": "2023-04-20T11:16:05.751Z"
   },
   {
    "duration": 13,
    "start_time": "2023-04-20T11:16:05.951Z"
   },
   {
    "duration": 9,
    "start_time": "2023-04-20T11:16:05.966Z"
   },
   {
    "duration": 14,
    "start_time": "2023-04-20T11:16:05.977Z"
   },
   {
    "duration": 25,
    "start_time": "2023-04-20T11:16:05.993Z"
   },
   {
    "duration": 27,
    "start_time": "2023-04-20T11:16:06.019Z"
   },
   {
    "duration": 3,
    "start_time": "2023-04-20T11:16:06.048Z"
   },
   {
    "duration": 8,
    "start_time": "2023-04-20T11:16:06.053Z"
   },
   {
    "duration": 27,
    "start_time": "2023-04-20T11:16:06.063Z"
   },
   {
    "duration": 13,
    "start_time": "2023-04-20T11:16:06.092Z"
   },
   {
    "duration": 10,
    "start_time": "2023-04-20T11:16:06.107Z"
   },
   {
    "duration": 403,
    "start_time": "2023-04-20T11:16:06.119Z"
   },
   {
    "duration": 20,
    "start_time": "2023-04-20T11:16:06.524Z"
   },
   {
    "duration": 18,
    "start_time": "2023-04-20T11:16:06.546Z"
   },
   {
    "duration": 161,
    "start_time": "2023-04-20T11:16:06.565Z"
   },
   {
    "duration": 26670,
    "start_time": "2023-04-20T11:16:06.728Z"
   },
   {
    "duration": 593,
    "start_time": "2023-04-20T11:16:33.400Z"
   },
   {
    "duration": 71,
    "start_time": "2023-04-20T11:16:33.997Z"
   },
   {
    "duration": 416,
    "start_time": "2023-04-20T11:16:34.074Z"
   },
   {
    "duration": 11,
    "start_time": "2023-04-20T11:16:34.492Z"
   },
   {
    "duration": 14,
    "start_time": "2023-04-20T11:16:34.505Z"
   },
   {
    "duration": 487,
    "start_time": "2023-04-20T11:16:34.521Z"
   },
   {
    "duration": 21,
    "start_time": "2023-04-20T11:16:35.010Z"
   },
   {
    "duration": 7,
    "start_time": "2023-04-20T11:16:35.033Z"
   },
   {
    "duration": 9,
    "start_time": "2023-04-20T11:16:35.055Z"
   },
   {
    "duration": 37206,
    "start_time": "2023-04-20T11:16:35.065Z"
   },
   {
    "duration": 710,
    "start_time": "2023-04-20T11:17:12.273Z"
   },
   {
    "duration": 38,
    "start_time": "2023-04-20T11:17:12.985Z"
   },
   {
    "duration": 10,
    "start_time": "2023-04-20T11:17:13.024Z"
   },
   {
    "duration": 60,
    "start_time": "2023-04-20T11:17:13.035Z"
   },
   {
    "duration": 123,
    "start_time": "2023-04-20T11:17:13.157Z"
   },
   {
    "duration": 5,
    "start_time": "2023-04-20T11:17:13.281Z"
   },
   {
    "duration": 81,
    "start_time": "2023-04-20T11:17:13.288Z"
   },
   {
    "duration": 291,
    "start_time": "2023-04-20T11:17:13.371Z"
   },
   {
    "duration": 11,
    "start_time": "2023-04-20T11:17:13.663Z"
   },
   {
    "duration": 28,
    "start_time": "2023-04-20T11:17:13.676Z"
   },
   {
    "duration": 36,
    "start_time": "2023-04-20T11:17:13.706Z"
   },
   {
    "duration": 16541,
    "start_time": "2023-04-20T11:17:13.744Z"
   },
   {
    "duration": 82,
    "start_time": "2023-04-20T11:17:30.289Z"
   },
   {
    "duration": 16,
    "start_time": "2023-04-20T11:17:30.373Z"
   },
   {
    "duration": 24,
    "start_time": "2023-04-20T11:17:30.391Z"
   },
   {
    "duration": 67,
    "start_time": "2023-04-20T11:17:30.417Z"
   },
   {
    "duration": 109,
    "start_time": "2023-04-20T11:17:30.556Z"
   },
   {
    "duration": 249,
    "start_time": "2023-04-20T11:17:30.667Z"
   },
   {
    "duration": 5,
    "start_time": "2023-04-20T11:20:23.588Z"
   },
   {
    "duration": 48,
    "start_time": "2023-04-20T11:20:23.595Z"
   },
   {
    "duration": 48,
    "start_time": "2023-04-20T11:20:23.645Z"
   },
   {
    "duration": 6,
    "start_time": "2023-04-20T11:20:23.695Z"
   },
   {
    "duration": 16,
    "start_time": "2023-04-20T11:20:23.704Z"
   },
   {
    "duration": 74,
    "start_time": "2023-04-20T11:20:23.722Z"
   },
   {
    "duration": 19,
    "start_time": "2023-04-20T11:20:23.799Z"
   },
   {
    "duration": 53,
    "start_time": "2023-04-20T11:20:23.819Z"
   },
   {
    "duration": 30,
    "start_time": "2023-04-20T11:20:23.874Z"
   },
   {
    "duration": 12,
    "start_time": "2023-04-20T11:20:23.906Z"
   },
   {
    "duration": 41,
    "start_time": "2023-04-20T11:20:23.922Z"
   },
   {
    "duration": 10,
    "start_time": "2023-04-20T11:20:23.972Z"
   },
   {
    "duration": 7,
    "start_time": "2023-04-20T11:20:23.985Z"
   },
   {
    "duration": 8,
    "start_time": "2023-04-20T11:20:23.994Z"
   },
   {
    "duration": 14,
    "start_time": "2023-04-20T11:20:24.005Z"
   },
   {
    "duration": 56,
    "start_time": "2023-04-20T11:20:24.022Z"
   },
   {
    "duration": 2,
    "start_time": "2023-04-20T11:20:24.081Z"
   },
   {
    "duration": 4,
    "start_time": "2023-04-20T11:20:24.085Z"
   },
   {
    "duration": 20,
    "start_time": "2023-04-20T11:20:24.091Z"
   },
   {
    "duration": 12,
    "start_time": "2023-04-20T11:20:24.113Z"
   },
   {
    "duration": 67,
    "start_time": "2023-04-20T11:20:24.127Z"
   },
   {
    "duration": 6,
    "start_time": "2023-04-20T11:20:24.196Z"
   },
   {
    "duration": 161,
    "start_time": "2023-04-20T11:20:24.203Z"
   },
   {
    "duration": 12,
    "start_time": "2023-04-20T11:20:24.367Z"
   },
   {
    "duration": 8,
    "start_time": "2023-04-20T11:20:24.381Z"
   },
   {
    "duration": 3,
    "start_time": "2023-04-20T11:20:24.391Z"
   },
   {
    "duration": 12,
    "start_time": "2023-04-20T11:20:24.396Z"
   },
   {
    "duration": 23,
    "start_time": "2023-04-20T11:20:24.410Z"
   },
   {
    "duration": 9,
    "start_time": "2023-04-20T11:20:24.460Z"
   },
   {
    "duration": 3,
    "start_time": "2023-04-20T11:20:24.472Z"
   },
   {
    "duration": 14,
    "start_time": "2023-04-20T11:20:24.477Z"
   },
   {
    "duration": 8,
    "start_time": "2023-04-20T11:20:24.492Z"
   },
   {
    "duration": 6,
    "start_time": "2023-04-20T11:20:24.501Z"
   },
   {
    "duration": 398,
    "start_time": "2023-04-20T11:20:24.508Z"
   },
   {
    "duration": 25,
    "start_time": "2023-04-20T11:20:24.907Z"
   },
   {
    "duration": 9,
    "start_time": "2023-04-20T11:20:24.934Z"
   },
   {
    "duration": 142,
    "start_time": "2023-04-20T11:20:24.960Z"
   },
   {
    "duration": 26448,
    "start_time": "2023-04-20T11:20:25.104Z"
   },
   {
    "duration": 605,
    "start_time": "2023-04-20T11:20:51.553Z"
   },
   {
    "duration": 32,
    "start_time": "2023-04-20T11:20:52.160Z"
   },
   {
    "duration": 381,
    "start_time": "2023-04-20T11:20:52.194Z"
   },
   {
    "duration": 10,
    "start_time": "2023-04-20T11:20:52.577Z"
   },
   {
    "duration": 12,
    "start_time": "2023-04-20T11:20:52.588Z"
   },
   {
    "duration": 464,
    "start_time": "2023-04-20T11:20:52.602Z"
   },
   {
    "duration": 26,
    "start_time": "2023-04-20T11:20:53.071Z"
   },
   {
    "duration": 7,
    "start_time": "2023-04-20T11:20:53.099Z"
   },
   {
    "duration": 8,
    "start_time": "2023-04-20T11:20:53.107Z"
   },
   {
    "duration": 36372,
    "start_time": "2023-04-20T11:20:53.117Z"
   },
   {
    "duration": 319,
    "start_time": "2023-04-20T11:21:29.490Z"
   },
   {
    "duration": 24,
    "start_time": "2023-04-20T11:21:29.810Z"
   },
   {
    "duration": 21,
    "start_time": "2023-04-20T11:21:29.835Z"
   },
   {
    "duration": 50,
    "start_time": "2023-04-20T11:21:29.866Z"
   },
   {
    "duration": 197,
    "start_time": "2023-04-20T11:21:29.959Z"
   },
   {
    "duration": 7,
    "start_time": "2023-04-20T11:21:30.158Z"
   },
   {
    "duration": 103,
    "start_time": "2023-04-20T11:21:30.169Z"
   },
   {
    "duration": 226,
    "start_time": "2023-04-20T11:21:30.274Z"
   },
   {
    "duration": 13,
    "start_time": "2023-04-20T11:21:30.501Z"
   },
   {
    "duration": 45,
    "start_time": "2023-04-20T11:21:30.516Z"
   },
   {
    "duration": 21,
    "start_time": "2023-04-20T11:21:30.562Z"
   },
   {
    "duration": 16312,
    "start_time": "2023-04-20T11:21:30.585Z"
   },
   {
    "duration": 161,
    "start_time": "2023-04-20T11:21:46.899Z"
   },
   {
    "duration": 31,
    "start_time": "2023-04-20T11:21:47.063Z"
   },
   {
    "duration": 21,
    "start_time": "2023-04-20T11:21:47.095Z"
   },
   {
    "duration": 51,
    "start_time": "2023-04-20T11:21:47.118Z"
   },
   {
    "duration": 121,
    "start_time": "2023-04-20T11:21:47.170Z"
   },
   {
    "duration": 6,
    "start_time": "2023-04-20T11:26:17.385Z"
   },
   {
    "duration": 45,
    "start_time": "2023-04-20T11:26:17.392Z"
   },
   {
    "duration": 36,
    "start_time": "2023-04-20T11:26:17.439Z"
   },
   {
    "duration": 6,
    "start_time": "2023-04-20T11:26:17.476Z"
   },
   {
    "duration": 5,
    "start_time": "2023-04-20T11:26:17.488Z"
   },
   {
    "duration": 74,
    "start_time": "2023-04-20T11:26:17.494Z"
   },
   {
    "duration": 21,
    "start_time": "2023-04-20T11:26:17.570Z"
   },
   {
    "duration": 22,
    "start_time": "2023-04-20T11:26:17.592Z"
   },
   {
    "duration": 20,
    "start_time": "2023-04-20T11:26:17.616Z"
   },
   {
    "duration": 31,
    "start_time": "2023-04-20T11:26:17.638Z"
   },
   {
    "duration": 9,
    "start_time": "2023-04-20T11:26:17.671Z"
   },
   {
    "duration": 7,
    "start_time": "2023-04-20T11:26:17.682Z"
   },
   {
    "duration": 7,
    "start_time": "2023-04-20T11:26:17.691Z"
   },
   {
    "duration": 11,
    "start_time": "2023-04-20T11:26:17.701Z"
   },
   {
    "duration": 10,
    "start_time": "2023-04-20T11:26:17.713Z"
   },
   {
    "duration": 51,
    "start_time": "2023-04-20T11:26:17.725Z"
   },
   {
    "duration": 7,
    "start_time": "2023-04-20T11:26:17.778Z"
   },
   {
    "duration": 2,
    "start_time": "2023-04-20T11:26:17.787Z"
   },
   {
    "duration": 20,
    "start_time": "2023-04-20T11:26:17.791Z"
   },
   {
    "duration": 17,
    "start_time": "2023-04-20T11:26:17.813Z"
   },
   {
    "duration": 60,
    "start_time": "2023-04-20T11:26:17.832Z"
   },
   {
    "duration": 6,
    "start_time": "2023-04-20T11:26:17.893Z"
   },
   {
    "duration": 142,
    "start_time": "2023-04-20T11:26:17.901Z"
   },
   {
    "duration": 24,
    "start_time": "2023-04-20T11:26:18.045Z"
   },
   {
    "duration": 14,
    "start_time": "2023-04-20T11:26:18.070Z"
   },
   {
    "duration": 4,
    "start_time": "2023-04-20T11:26:18.086Z"
   },
   {
    "duration": 8,
    "start_time": "2023-04-20T11:26:18.092Z"
   },
   {
    "duration": 19,
    "start_time": "2023-04-20T11:26:18.102Z"
   },
   {
    "duration": 2,
    "start_time": "2023-04-20T11:26:18.123Z"
   },
   {
    "duration": 5,
    "start_time": "2023-04-20T11:26:18.126Z"
   },
   {
    "duration": 38,
    "start_time": "2023-04-20T11:26:18.132Z"
   },
   {
    "duration": 4,
    "start_time": "2023-04-20T11:26:18.172Z"
   },
   {
    "duration": 8,
    "start_time": "2023-04-20T11:26:18.178Z"
   },
   {
    "duration": 397,
    "start_time": "2023-04-20T11:26:18.187Z"
   },
   {
    "duration": 20,
    "start_time": "2023-04-20T11:26:18.586Z"
   },
   {
    "duration": 8,
    "start_time": "2023-04-20T11:26:18.607Z"
   },
   {
    "duration": 164,
    "start_time": "2023-04-20T11:26:18.616Z"
   },
   {
    "duration": 27109,
    "start_time": "2023-04-20T11:26:18.783Z"
   },
   {
    "duration": 636,
    "start_time": "2023-04-20T11:26:45.894Z"
   },
   {
    "duration": 55,
    "start_time": "2023-04-20T11:26:46.533Z"
   },
   {
    "duration": 348,
    "start_time": "2023-04-20T11:26:46.658Z"
   },
   {
    "duration": 13,
    "start_time": "2023-04-20T11:26:47.008Z"
   },
   {
    "duration": 37,
    "start_time": "2023-04-20T11:26:47.024Z"
   },
   {
    "duration": 568,
    "start_time": "2023-04-20T11:26:47.067Z"
   },
   {
    "duration": 42,
    "start_time": "2023-04-20T11:26:47.637Z"
   },
   {
    "duration": 11,
    "start_time": "2023-04-20T11:26:47.680Z"
   },
   {
    "duration": 10,
    "start_time": "2023-04-20T11:26:47.693Z"
   },
   {
    "duration": 37148,
    "start_time": "2023-04-20T11:26:47.705Z"
   },
   {
    "duration": 331,
    "start_time": "2023-04-20T11:27:24.856Z"
   },
   {
    "duration": 23,
    "start_time": "2023-04-20T11:27:25.188Z"
   },
   {
    "duration": 8,
    "start_time": "2023-04-20T11:27:25.213Z"
   },
   {
    "duration": 142,
    "start_time": "2023-04-20T11:27:25.222Z"
   },
   {
    "duration": 125,
    "start_time": "2023-04-20T11:27:25.368Z"
   },
   {
    "duration": 74,
    "start_time": "2023-04-20T11:27:25.494Z"
   },
   {
    "duration": 92,
    "start_time": "2023-04-20T11:27:25.571Z"
   },
   {
    "duration": 212,
    "start_time": "2023-04-20T11:27:25.665Z"
   },
   {
    "duration": 12,
    "start_time": "2023-04-20T11:27:25.882Z"
   },
   {
    "duration": 8,
    "start_time": "2023-04-20T11:27:25.896Z"
   },
   {
    "duration": 8,
    "start_time": "2023-04-20T11:27:25.906Z"
   },
   {
    "duration": 15800,
    "start_time": "2023-04-20T11:27:25.916Z"
   },
   {
    "duration": 129,
    "start_time": "2023-04-20T11:27:41.718Z"
   },
   {
    "duration": 31,
    "start_time": "2023-04-20T11:27:41.848Z"
   },
   {
    "duration": 8,
    "start_time": "2023-04-20T11:27:41.886Z"
   },
   {
    "duration": 70,
    "start_time": "2023-04-20T11:27:41.895Z"
   },
   {
    "duration": 124,
    "start_time": "2023-04-20T11:27:41.967Z"
   },
   {
    "duration": 237,
    "start_time": "2023-04-20T11:27:42.093Z"
   },
   {
    "duration": 14,
    "start_time": "2023-04-20T11:27:43.125Z"
   },
   {
    "duration": 9,
    "start_time": "2023-04-20T11:27:44.287Z"
   },
   {
    "duration": 9,
    "start_time": "2023-04-20T11:27:49.700Z"
   },
   {
    "duration": 332,
    "start_time": "2023-04-20T11:44:05.073Z"
   }
  ],
  "kernelspec": {
   "display_name": "Python 3 (ipykernel)",
   "language": "python",
   "name": "python3"
  },
  "language_info": {
   "codemirror_mode": {
    "name": "ipython",
    "version": 3
   },
   "file_extension": ".py",
   "mimetype": "text/x-python",
   "name": "python",
   "nbconvert_exporter": "python",
   "pygments_lexer": "ipython3",
   "version": "3.9.13"
  },
  "toc": {
   "base_numbering": 1,
   "nav_menu": {},
   "number_sections": true,
   "sideBar": true,
   "skip_h1_title": true,
   "title_cell": "Table of Contents",
   "title_sidebar": "Contents",
   "toc_cell": false,
   "toc_position": {},
   "toc_section_display": true,
   "toc_window_display": false
  }
 },
 "nbformat": 4,
 "nbformat_minor": 5
}
