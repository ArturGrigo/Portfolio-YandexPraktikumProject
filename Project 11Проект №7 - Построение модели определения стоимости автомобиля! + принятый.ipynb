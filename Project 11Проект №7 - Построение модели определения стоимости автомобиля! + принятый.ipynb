{
 "cells": [
  {
   "cell_type": "markdown",
   "id": "2d733dc3",
   "metadata": {
    "toc": true
   },
   "source": [
    "<h1>Table of Contents<span class=\"tocSkip\"></span></h1>\n",
    "<div class=\"toc\"><ul class=\"toc-item\"><li><span><a href=\"#1.1-Предобработка-данных\" data-toc-modified-id=\"1.1-Предобработка-данных-1\"><span class=\"toc-item-num\">1&nbsp;&nbsp;</span>1.1 Предобработка данных</a></span><ul class=\"toc-item\"><li><span><a href=\"#проверим-на-дубликаты:\" data-toc-modified-id=\"проверим-на-дубликаты:-1.1\"><span class=\"toc-item-num\">1.1&nbsp;&nbsp;</span>проверим на дубликаты:</a></span></li><li><span><a href=\"#Обработка-пропущенных-значений\" data-toc-modified-id=\"Обработка-пропущенных-значений-1.2\"><span class=\"toc-item-num\">1.2&nbsp;&nbsp;</span>Обработка пропущенных значений</a></span></li><li><span><a href=\"#power---мощность-(л.-с.)\" data-toc-modified-id=\"power---мощность-(л.-с.)-1.3\"><span class=\"toc-item-num\">1.3&nbsp;&nbsp;</span>power - мощность (л. с.)</a></span></li><li><span><a href=\"#repaired---была-машина-в-ремонте-или-нет\" data-toc-modified-id=\"repaired---была-машина-в-ремонте-или-нет-1.4\"><span class=\"toc-item-num\">1.4&nbsp;&nbsp;</span>repaired - была машина в ремонте или нет</a></span></li><li><span><a href=\"#price-—-цена-в-евро\" data-toc-modified-id=\"price-—-цена-в-евро-1.5\"><span class=\"toc-item-num\">1.5&nbsp;&nbsp;</span>price — цена в евро</a></span></li><li><span><a href=\"#Подитог:\" data-toc-modified-id=\"Подитог:-1.6\"><span class=\"toc-item-num\">1.6&nbsp;&nbsp;</span>Подитог:</a></span></li></ul></li><li><span><a href=\"#Разделим-и-закодируем-выборки\" data-toc-modified-id=\"Разделим-и-закодируем-выборки-2\"><span class=\"toc-item-num\">2&nbsp;&nbsp;</span>Разделим и закодируем выборки</a></span><ul class=\"toc-item\"><li><span><a href=\"#Вернемся-к-значениям-до-стандартизации-и-кодировки-и-применим-только-кодирвоание\" data-toc-modified-id=\"Вернемся-к-значениям-до-стандартизации-и-кодировки-и-применим-только-кодирвоание-2.1\"><span class=\"toc-item-num\">2.1&nbsp;&nbsp;</span>Вернемся к значениям до стандартизации и кодировки и применим только кодирвоание</a></span></li><li><span><a href=\"#Linear-Regression\" data-toc-modified-id=\"Linear-Regression-2.2\"><span class=\"toc-item-num\">2.2&nbsp;&nbsp;</span>Linear Regression</a></span></li><li><span><a href=\"#Гридсерч-и-кет-буст!\" data-toc-modified-id=\"Гридсерч-и-кет-буст!-2.3\"><span class=\"toc-item-num\">2.3&nbsp;&nbsp;</span>Гридсерч и кет буст!</a></span></li></ul></li><li><span><a href=\"#2.4-Регрессия-LGBMRegressor\" data-toc-modified-id=\"2.4-Регрессия-LGBMRegressor-3\"><span class=\"toc-item-num\">3&nbsp;&nbsp;</span>2.4 Регрессия LGBMRegressor</a></span><ul class=\"toc-item\"><li><span><a href=\"#Проведены-измерения:\" data-toc-modified-id=\"Проведены-измерения:-3.1\"><span class=\"toc-item-num\">3.1&nbsp;&nbsp;</span>Проведены измерения:</a></span></li><li><span><a href=\"#ВЫВОД\" data-toc-modified-id=\"ВЫВОД-3.2\"><span class=\"toc-item-num\">3.2&nbsp;&nbsp;</span>ВЫВОД</a></span></li></ul></li></ul></div>"
   ]
  },
  {
   "cell_type": "markdown",
   "id": "e64fc653",
   "metadata": {},
   "source": [
    "# Определение стоимости автомобилей"
   ]
  },
  {
   "cell_type": "markdown",
   "id": "75a1e7aa",
   "metadata": {},
   "source": [
    "Сервис по продаже автомобилей с пробегом «Не бит, не крашен» разрабатывает приложение для привлечения новых клиентов. В нём можно быстро узнать рыночную стоимость своего автомобиля. В вашем распоряжении исторические данные: технические характеристики, комплектации и цены автомобилей. Вам нужно построить модель для определения стоимости.\n",
    "\n",
    "Заказчику важны:\n",
    "\n",
    "- качество предсказания;\n",
    "- скорость предсказания;\n",
    "- время обучения."
   ]
  },
  {
   "cell_type": "markdown",
   "id": "04e67ced",
   "metadata": {},
   "source": [
    "В представленных нам данных такие признаки:"
   ]
  },
  {
   "cell_type": "markdown",
   "id": "0fe5d789",
   "metadata": {},
   "source": [
    "-\tDateCrawled — дата скачивания анкеты из базы\n",
    "-\tVehicleType — тип автомобильного кузова\n",
    "-\tRegistrationYear — год регистрации автомобиля\n",
    "-\tGearbox — тип коробки передач\n",
    "-\tPower — мощность (л. с.)\n",
    "-\tModel — модель автомобиля\n",
    "-\tKilometer — пробег (км)\n",
    "-\tRegistrationMonth — месяц регистрации автомобиля\n",
    "-\tFuelType — тип топлива\n",
    "-\tBrand — марка автомобиля\n",
    "-\tRepaired — была машина в ремонте или нет\n",
    "-\tDateCreated — дата создания анкеты\n",
    "-\tNumberOfPictures — количество фотографий автомобиля\n",
    "-\tPostalCode — почтовый индекс владельца анкеты (пользователя)\n",
    "-\tLastSeen — дата последней активности пользователя\n",
    "\n",
    "Целевой признак\n",
    "- Price — цена (евро)\n"
   ]
  },
  {
   "cell_type": "markdown",
   "id": "02c3a8ee",
   "metadata": {},
   "source": [
    "**Для решения задачи разделим ее на несколько частей:**"
   ]
  },
  {
   "cell_type": "markdown",
   "id": "22282eaf",
   "metadata": {},
   "source": [
    "# 1  Подготовка данных"
   ]
  },
  {
   "cell_type": "code",
   "execution_count": 1,
   "id": "44b976e8",
   "metadata": {},
   "outputs": [
    {
     "name": "stdout",
     "output_type": "stream",
     "text": [
      "Requirement already satisfied: colorama in x:\\users\\artur g\\anaconda3\\lib\\site-packages (0.4.5)\n",
      "Requirement already satisfied: catboost in x:\\users\\artur g\\anaconda3\\lib\\site-packages (1.2)\n",
      "Requirement already satisfied: pandas>=0.24 in x:\\users\\artur g\\anaconda3\\lib\\site-packages (from catboost) (1.4.4)\n",
      "Requirement already satisfied: scipy in x:\\users\\artur g\\anaconda3\\lib\\site-packages (from catboost) (1.9.1)\n",
      "Requirement already satisfied: graphviz in x:\\users\\artur g\\anaconda3\\lib\\site-packages (from catboost) (0.20.1)\n",
      "Requirement already satisfied: numpy>=1.16.0 in x:\\users\\artur g\\anaconda3\\lib\\site-packages (from catboost) (1.21.5)\n",
      "Requirement already satisfied: matplotlib in x:\\users\\artur g\\anaconda3\\lib\\site-packages (from catboost) (3.5.2)\n",
      "Requirement already satisfied: six in x:\\users\\artur g\\anaconda3\\lib\\site-packages (from catboost) (1.16.0)\n",
      "Requirement already satisfied: plotly in x:\\users\\artur g\\anaconda3\\lib\\site-packages (from catboost) (5.9.0)\n",
      "Requirement already satisfied: python-dateutil>=2.8.1 in x:\\users\\artur g\\anaconda3\\lib\\site-packages (from pandas>=0.24->catboost) (2.8.2)\n",
      "Requirement already satisfied: pytz>=2020.1 in x:\\users\\artur g\\anaconda3\\lib\\site-packages (from pandas>=0.24->catboost) (2022.1)\n",
      "Requirement already satisfied: pillow>=6.2.0 in x:\\users\\artur g\\anaconda3\\lib\\site-packages (from matplotlib->catboost) (9.2.0)\n",
      "Requirement already satisfied: kiwisolver>=1.0.1 in x:\\users\\artur g\\anaconda3\\lib\\site-packages (from matplotlib->catboost) (1.4.2)\n",
      "Requirement already satisfied: fonttools>=4.22.0 in x:\\users\\artur g\\anaconda3\\lib\\site-packages (from matplotlib->catboost) (4.25.0)\n",
      "Requirement already satisfied: cycler>=0.10 in x:\\users\\artur g\\anaconda3\\lib\\site-packages (from matplotlib->catboost) (0.11.0)\n",
      "Requirement already satisfied: pyparsing>=2.2.1 in x:\\users\\artur g\\anaconda3\\lib\\site-packages (from matplotlib->catboost) (3.0.9)\n",
      "Requirement already satisfied: packaging>=20.0 in x:\\users\\artur g\\anaconda3\\lib\\site-packages (from matplotlib->catboost) (21.3)\n",
      "Requirement already satisfied: tenacity>=6.2.0 in x:\\users\\artur g\\anaconda3\\lib\\site-packages (from plotly->catboost) (8.0.1)\n",
      "Requirement already satisfied: lightgbm in x:\\users\\artur g\\anaconda3\\lib\\site-packages (3.3.5)\n",
      "Requirement already satisfied: numpy in x:\\users\\artur g\\anaconda3\\lib\\site-packages (from lightgbm) (1.21.5)\n",
      "Requirement already satisfied: scikit-learn!=0.22.0 in x:\\users\\artur g\\anaconda3\\lib\\site-packages (from lightgbm) (1.0.2)\n",
      "Requirement already satisfied: scipy in x:\\users\\artur g\\anaconda3\\lib\\site-packages (from lightgbm) (1.9.1)\n",
      "Requirement already satisfied: wheel in x:\\users\\artur g\\anaconda3\\lib\\site-packages (from lightgbm) (0.37.1)\n",
      "Requirement already satisfied: joblib>=0.11 in x:\\users\\artur g\\anaconda3\\lib\\site-packages (from scikit-learn!=0.22.0->lightgbm) (1.1.0)\n",
      "Requirement already satisfied: threadpoolctl>=2.0.0 in x:\\users\\artur g\\anaconda3\\lib\\site-packages (from scikit-learn!=0.22.0->lightgbm) (2.2.0)\n"
     ]
    }
   ],
   "source": [
    "import pandas as pd\n",
    "import numpy as np \n",
    "import matplotlib.pyplot as plt\n",
    "\n",
    "from scipy import stats\n",
    "from scipy.stats import norm\n",
    "\n",
    "from sklearn.model_selection import train_test_split\n",
    "from sklearn.ensemble import RandomForestRegressor\n",
    "from sklearn.dummy import DummyRegressor\n",
    "from sklearn.ensemble import GradientBoostingRegressor\n",
    "from sklearn.linear_model import LinearRegression\n",
    "from sklearn.metrics import make_scorer, mean_squared_error\n",
    "from sklearn.model_selection import GridSearchCV, train_test_split\n",
    "from sklearn.pipeline import Pipeline\n",
    "from sklearn.preprocessing import FunctionTransformer, OneHotEncoder, StandardScaler\n",
    "from sklearn.model_selection import cross_val_score\n",
    "!pip install colorama\n",
    "!pip install catboost\n",
    "!pip install lightgbm\n",
    "from catboost import CatBoostRegressor, Pool\n",
    "from lightgbm import LGBMRegressor\n",
    "import lightgbm as lgb\n",
    "\n",
    "import warnings\n",
    "warnings.filterwarnings(\"ignore\")"
   ]
  },
  {
   "cell_type": "code",
   "execution_count": 2,
   "id": "6b1b7af6",
   "metadata": {},
   "outputs": [
    {
     "name": "stdout",
     "output_type": "stream",
     "text": [
      "<class 'pandas.core.frame.DataFrame'>\n",
      "RangeIndex: 354369 entries, 0 to 354368\n",
      "Data columns (total 16 columns):\n",
      " #   Column             Non-Null Count   Dtype \n",
      "---  ------             --------------   ----- \n",
      " 0   DateCrawled        354369 non-null  object\n",
      " 1   Price              354369 non-null  int64 \n",
      " 2   VehicleType        316879 non-null  object\n",
      " 3   RegistrationYear   354369 non-null  int64 \n",
      " 4   Gearbox            334536 non-null  object\n",
      " 5   Power              354369 non-null  int64 \n",
      " 6   Model              334664 non-null  object\n",
      " 7   Kilometer          354369 non-null  int64 \n",
      " 8   RegistrationMonth  354369 non-null  int64 \n",
      " 9   FuelType           321474 non-null  object\n",
      " 10  Brand              354369 non-null  object\n",
      " 11  Repaired           283215 non-null  object\n",
      " 12  DateCreated        354369 non-null  object\n",
      " 13  NumberOfPictures   354369 non-null  int64 \n",
      " 14  PostalCode         354369 non-null  int64 \n",
      " 15  LastSeen           354369 non-null  object\n",
      "dtypes: int64(7), object(9)\n",
      "memory usage: 43.3+ MB\n"
     ]
    }
   ],
   "source": [
    "try:\n",
    "    df = pd.read_csv('/datasets/autos.csv')\n",
    "except:\n",
    "    df = pd.read_csv('autos.csv')\n",
    "df.info() "
   ]
  },
  {
   "cell_type": "markdown",
   "id": "8b316ca9",
   "metadata": {},
   "source": [
    "Как можно заметить в столбцах присутствуют пропуски, конкретно обратим внимание на следующие столбцы:\n",
    "- VehicleType (тип автомобильного кузова)\n",
    "- Gearbox (тип коробки передач)\n",
    "- Model (Модель)\n",
    "- FuelType (тип топлива)\n",
    "- Repaired (была машина в ремонте или нет)"
   ]
  },
  {
   "cell_type": "markdown",
   "id": "b873b8b6",
   "metadata": {},
   "source": [
    "## 1.1 Предобработка данных "
   ]
  },
  {
   "cell_type": "code",
   "execution_count": 3,
   "id": "5a761832",
   "metadata": {},
   "outputs": [],
   "source": [
    "#сохраним изначальное количество строк в датафрейме\n",
    "df_shape_start = df.shape[0]"
   ]
  },
  {
   "cell_type": "markdown",
   "id": "48527ddd",
   "metadata": {},
   "source": [
    "### проверим на дубликаты:"
   ]
  },
  {
   "cell_type": "code",
   "execution_count": 4,
   "id": "645674fd",
   "metadata": {},
   "outputs": [
    {
     "data": {
      "text/html": [
       "<div>\n",
       "<style scoped>\n",
       "    .dataframe tbody tr th:only-of-type {\n",
       "        vertical-align: middle;\n",
       "    }\n",
       "\n",
       "    .dataframe tbody tr th {\n",
       "        vertical-align: top;\n",
       "    }\n",
       "\n",
       "    .dataframe thead th {\n",
       "        text-align: right;\n",
       "    }\n",
       "</style>\n",
       "<table border=\"1\" class=\"dataframe\">\n",
       "  <thead>\n",
       "    <tr style=\"text-align: right;\">\n",
       "      <th></th>\n",
       "      <th>DateCrawled</th>\n",
       "      <th>Price</th>\n",
       "      <th>VehicleType</th>\n",
       "      <th>RegistrationYear</th>\n",
       "      <th>Gearbox</th>\n",
       "      <th>Power</th>\n",
       "      <th>Model</th>\n",
       "      <th>Kilometer</th>\n",
       "      <th>RegistrationMonth</th>\n",
       "      <th>FuelType</th>\n",
       "      <th>Brand</th>\n",
       "      <th>Repaired</th>\n",
       "      <th>DateCreated</th>\n",
       "      <th>NumberOfPictures</th>\n",
       "      <th>PostalCode</th>\n",
       "      <th>LastSeen</th>\n",
       "    </tr>\n",
       "  </thead>\n",
       "  <tbody>\n",
       "    <tr>\n",
       "      <th>171088</th>\n",
       "      <td>2016-03-08 18:42:48</td>\n",
       "      <td>1799</td>\n",
       "      <td>coupe</td>\n",
       "      <td>1999</td>\n",
       "      <td>auto</td>\n",
       "      <td>193</td>\n",
       "      <td>clk</td>\n",
       "      <td>20000</td>\n",
       "      <td>7</td>\n",
       "      <td>petrol</td>\n",
       "      <td>mercedes_benz</td>\n",
       "      <td>no</td>\n",
       "      <td>2016-03-08 00:00:00</td>\n",
       "      <td>0</td>\n",
       "      <td>89518</td>\n",
       "      <td>2016-03-09 09:46:57</td>\n",
       "    </tr>\n",
       "    <tr>\n",
       "      <th>231258</th>\n",
       "      <td>2016-03-28 00:56:10</td>\n",
       "      <td>1000</td>\n",
       "      <td>small</td>\n",
       "      <td>2002</td>\n",
       "      <td>manual</td>\n",
       "      <td>83</td>\n",
       "      <td>other</td>\n",
       "      <td>150000</td>\n",
       "      <td>1</td>\n",
       "      <td>petrol</td>\n",
       "      <td>suzuki</td>\n",
       "      <td>no</td>\n",
       "      <td>2016-03-28 00:00:00</td>\n",
       "      <td>0</td>\n",
       "      <td>66589</td>\n",
       "      <td>2016-03-28 08:46:21</td>\n",
       "    </tr>\n",
       "    <tr>\n",
       "      <th>258109</th>\n",
       "      <td>2016-04-03 09:01:15</td>\n",
       "      <td>4699</td>\n",
       "      <td>coupe</td>\n",
       "      <td>2003</td>\n",
       "      <td>auto</td>\n",
       "      <td>218</td>\n",
       "      <td>clk</td>\n",
       "      <td>125000</td>\n",
       "      <td>6</td>\n",
       "      <td>petrol</td>\n",
       "      <td>mercedes_benz</td>\n",
       "      <td>yes</td>\n",
       "      <td>2016-04-03 00:00:00</td>\n",
       "      <td>0</td>\n",
       "      <td>75196</td>\n",
       "      <td>2016-04-07 09:44:54</td>\n",
       "    </tr>\n",
       "    <tr>\n",
       "      <th>325651</th>\n",
       "      <td>2016-03-18 18:46:15</td>\n",
       "      <td>1999</td>\n",
       "      <td>wagon</td>\n",
       "      <td>2001</td>\n",
       "      <td>manual</td>\n",
       "      <td>131</td>\n",
       "      <td>passat</td>\n",
       "      <td>150000</td>\n",
       "      <td>7</td>\n",
       "      <td>gasoline</td>\n",
       "      <td>volkswagen</td>\n",
       "      <td>no</td>\n",
       "      <td>2016-03-18 00:00:00</td>\n",
       "      <td>0</td>\n",
       "      <td>36391</td>\n",
       "      <td>2016-03-18 18:46:15</td>\n",
       "    </tr>\n",
       "  </tbody>\n",
       "</table>\n",
       "</div>"
      ],
      "text/plain": [
       "                DateCrawled  Price VehicleType  RegistrationYear Gearbox  \\\n",
       "171088  2016-03-08 18:42:48   1799       coupe              1999    auto   \n",
       "231258  2016-03-28 00:56:10   1000       small              2002  manual   \n",
       "258109  2016-04-03 09:01:15   4699       coupe              2003    auto   \n",
       "325651  2016-03-18 18:46:15   1999       wagon              2001  manual   \n",
       "\n",
       "        Power   Model  Kilometer  RegistrationMonth  FuelType          Brand  \\\n",
       "171088    193     clk      20000                  7    petrol  mercedes_benz   \n",
       "231258     83   other     150000                  1    petrol         suzuki   \n",
       "258109    218     clk     125000                  6    petrol  mercedes_benz   \n",
       "325651    131  passat     150000                  7  gasoline     volkswagen   \n",
       "\n",
       "       Repaired          DateCreated  NumberOfPictures  PostalCode  \\\n",
       "171088       no  2016-03-08 00:00:00                 0       89518   \n",
       "231258       no  2016-03-28 00:00:00                 0       66589   \n",
       "258109      yes  2016-04-03 00:00:00                 0       75196   \n",
       "325651       no  2016-03-18 00:00:00                 0       36391   \n",
       "\n",
       "                   LastSeen  \n",
       "171088  2016-03-09 09:46:57  \n",
       "231258  2016-03-28 08:46:21  \n",
       "258109  2016-04-07 09:44:54  \n",
       "325651  2016-03-18 18:46:15  "
      ]
     },
     "execution_count": 4,
     "metadata": {},
     "output_type": "execute_result"
    }
   ],
   "source": [
    "df[df.duplicated ()]"
   ]
  },
  {
   "cell_type": "code",
   "execution_count": 5,
   "id": "6948d2b1",
   "metadata": {},
   "outputs": [
    {
     "name": "stdout",
     "output_type": "stream",
     "text": [
      "теперь дубликатов: 0\n"
     ]
    }
   ],
   "source": [
    "df.drop_duplicates(inplace=True)\n",
    "\n",
    "print(f'теперь дубликатов: {df.duplicated().sum()}')"
   ]
  },
  {
   "cell_type": "markdown",
   "id": "93acca0e",
   "metadata": {},
   "source": [
    "Посмотрим на общую картину построив графики:"
   ]
  },
  {
   "cell_type": "code",
   "execution_count": 6,
   "id": "094669b8",
   "metadata": {},
   "outputs": [
    {
     "data": {
      "image/png": "[encoded data removed]",
      "text/plain": [
       "<Figure size 1000x1500 with 9 Axes>"
      ]
     },
     "metadata": {},
     "output_type": "display_data"
    }
   ],
   "source": [
    "df.hist(figsize=(10, 15));"
   ]
  },
  {
   "cell_type": "markdown",
   "id": "9d0cf63e",
   "metadata": {},
   "source": [
    "Предварительно видим такую картинку:\n",
    "\n",
    "1. В датасете 16 признаков и 354369 объектов \n",
    "\n",
    "1.1 Из 16 признаков сразу можно удалять следующие, так как на мой взгляд они не оказывают никакого влияния на стоимость:\n",
    "\n",
    "DateCrawled — дата скачивания анкеты из базы (дата скачивания анкеты из базы также ничего общего с датой размещения анкеты не имеет - удаляем)\n",
    "\n",
    "RegistrationMonth — месяц регистрации автомобиля (никогда месяц не указывается в данных и не является фактором оказывающим влияния на цену, только год - удаляем)\n",
    "\n",
    "\n",
    "2. 7 признаков типа int и 9 типа object \n",
    " важно понять, правильный ли тип данных у признаков, а то может кто-то из типа int окажется типом object или наоборот\n",
    "3. Были явные дубликаты, 4 шт.  - их удалили\n",
    "\n",
    "4. Пропуски определили в следующих столбцах:\n",
    "\n",
    "- VehicleType (тип автомобильного кузова)\n",
    "- Gearbox (тип коробки передач)\n",
    "- Model (Модель)\n",
    "- FuelType (тип топлива)\n",
    "- Repaired (была машина в ремонте или нет)\n",
    "\n"
   ]
  },
  {
   "cell_type": "code",
   "execution_count": 7,
   "id": "f7d8e990",
   "metadata": {},
   "outputs": [
    {
     "data": {
      "image/png": "[encoded data removed]",
      "text/plain": [
       "<Figure size 640x480 with 1 Axes>"
      ]
     },
     "metadata": {},
     "output_type": "display_data"
    },
    {
     "data": {
      "image/png": "[encoded data removed]",
      "text/plain": [
       "<Figure size 640x480 with 1 Axes>"
      ]
     },
     "metadata": {},
     "output_type": "display_data"
    }
   ],
   "source": [
    "df['Price'].hist(range=(0,1))\n",
    "plt.show()\n",
    "df['Price'].hist(range=(1,20001));"
   ]
  },
  {
   "cell_type": "markdown",
   "id": "93d95685",
   "metadata": {},
   "source": [
    "**Подитог по гистограмме признака стоимости, Price:**\n",
    "\n",
    "Как можем заметить - цена указана в тыс. руб, и также есть аномальные значения в виде 0."
   ]
  },
  {
   "cell_type": "markdown",
   "id": "59b2a0a4",
   "metadata": {},
   "source": [
    "Изучим, какие уникальные данные есть в каждом столбце."
   ]
  },
  {
   "cell_type": "code",
   "execution_count": 8,
   "id": "e6e19422",
   "metadata": {},
   "outputs": [],
   "source": [
    "def show_rows(data):\n",
    "    for column in data.columns:\n",
    "        print('Уникальные значения столбца', column)\n",
    "        print(data[column].unique())"
   ]
  },
  {
   "cell_type": "code",
   "execution_count": 9,
   "id": "6183da3d",
   "metadata": {
    "scrolled": true
   },
   "outputs": [
    {
     "name": "stdout",
     "output_type": "stream",
     "text": [
      "Уникальные значения столбца DateCrawled\n",
      "['2016-03-24 11:52:17' '2016-03-24 10:58:45' '2016-03-14 12:52:21' ...\n",
      " '2016-03-21 09:50:58' '2016-03-14 17:48:27' '2016-03-19 18:57:12']\n",
      "Уникальные значения столбца Price\n",
      "[  480 18300  9800 ... 12395 18429 10985]\n",
      "Уникальные значения столбца VehicleType\n",
      "[nan 'coupe' 'suv' 'small' 'sedan' 'convertible' 'bus' 'wagon' 'other']\n",
      "Уникальные значения столбца RegistrationYear\n",
      "[1993 2011 2004 2001 2008 1995 1980 2014 1998 2005 1910 2016 2007 2009\n",
      " 2002 2018 1997 1990 2017 1981 2003 1994 1991 1984 2006 1999 2012 2010\n",
      " 2000 1992 2013 1996 1985 1989 2015 1982 1976 1983 1973 1111 1969 1971\n",
      " 1987 1986 1988 1970 1965 1945 1925 1974 1979 1955 1978 1972 1968 1977\n",
      " 1961 1960 1966 1975 1963 1964 5000 1954 1958 1967 1959 9999 1956 3200\n",
      " 1000 1941 8888 1500 2200 4100 1962 1929 1957 1940 3000 2066 1949 2019\n",
      " 1937 1951 1800 1953 1234 8000 5300 9000 2900 6000 5900 5911 1933 1400\n",
      " 1950 4000 1948 1952 1200 8500 1932 1255 3700 3800 4800 1942 7000 1935\n",
      " 1936 6500 1923 2290 2500 1930 1001 9450 1944 1943 1934 1938 1688 2800\n",
      " 1253 1928 1919 5555 5600 1600 2222 1039 9996 1300 8455 1931 1915 4500\n",
      " 1920 1602 7800 9229 1947 1927 7100 8200 1946 7500 3500]\n",
      "Уникальные значения столбца Gearbox\n",
      "['manual' 'auto' nan]\n",
      "Уникальные значения столбца Power\n",
      "[    0   190   163    75    69   102   109    50   125   101   105   140\n",
      "   115   131    60   136   160   231    90   118   193    99   113   218\n",
      "   122   129    70   306    95    61   177    80   170    55   143    64\n",
      "   286   232   150   156    82   155    54   185    87   180    86    84\n",
      "   224   235   200   178   265    77   110   144   120   116   184   126\n",
      "   204    88   194   305   197   179   250    45   313    41   165    98\n",
      "   130   114   211    56   201   213    58   107    83   174   100   220\n",
      "    85    73   192    68    66   299    74    52   147    65   310    71\n",
      "    97   239   203     5   300   103   258   320    63    81   148    44\n",
      "   145   230   280   260   104   188   333   186   117   141    59   132\n",
      "   234   158    39    92    51   135    53   209    43   146    67   106\n",
      "   166   276   344    72   249   237   245   111   326   279    23   138\n",
      "   175    96   226    26    37   301   334   128   133   124    33   219\n",
      "   241   167    94   182   196   238  1398   228   112    48   272   139\n",
      "  1799    40   240    79   256   360   243   375   252   396   340   108\n",
      "   121   345   187   289   222   198   284   450   233   387   152   347\n",
      "   172    57   137   212   476   314    30     7    47   173   290   207\n",
      "   205   171   750    78    91    89   349   325    76   151   350   953\n",
      "    93   142   500   343   199   119   164    16   264   367   208   210\n",
      "    46   435  1001   225   127   176   161   603   307   354    35   206\n",
      "   771   355   273   223   255   123   154   149  7515  1400   268   620\n",
      "   169   400   275    34     2   242  1779   285   162   328  1753   329\n",
      "   134   420   247   168 10317   215    18   330   283    62    10   214\n",
      "   183   254    15   321   322   315   952   600   181   426   599   379\n",
      "   999    22   157    42   195   553     4   309   507   381   271   440\n",
      "   189   401  1111  2729    21   236  1240  1704   521     1  1900   270\n",
      "    24   159   292   808   515  1200   303    29    38  1993    14   216\n",
      "   610   504    49   267   331   363   261   385  1011   253   696 10520\n",
      "   376   227   311    27   217    20  1999    11  1056    25   394    12\n",
      "   298   296  1659   294   551  6920   246    17  1800  1625   368   390\n",
      "   221  1367   259   606   327  2017  1597   266   374   392     9   405\n",
      "    13   262   601   430   295     8   411   900   541  7512   382 10218\n",
      "  7544  1102   287    19   751   297  1090   457   282   602   388     6\n",
      "  1000  5411   335  1360   202  3750   805  1062  1024 11530   364  1796\n",
      "  5000   269   460  1002   288  1780 12012 17932   316  2005  1399   191\n",
      "   278  1300   380   257   449  1256   153  1653   520   560   281 12510\n",
      "     3  1500   386    32  1202  2016  1436  1405   671   274  1288  1055\n",
      " 10912 15016  6226  1115   277  1105   341  1223  2340  8404  1968   338\n",
      "   445  1920   370   517  4400 10710 10522  9010   431  1164 11509   371\n",
      "  1501   428 11635    36   304   348  1703  1910  1995   579 10000   580\n",
      "   408    31  1005   358  1403   489  5575 19211   585   960   365   353\n",
      "   490   352  1801   346   550  3199   800  7508  1312   357  1937   950\n",
      "  4700  1600  3454 19208   251   850   337   700  8011  2331  2789   487\n",
      "   519  2461  6006  3500  5815  6018  1781  1503   612  1596   229  1506\n",
      "  5809 15020  5867  2172  1598 17410  1363   584  1054   851  1339   318\n",
      "   510   525  1700    28  1151   685  6011   317   703  1771 15001   514\n",
      "   362   332   324  6045   530   425   308  6010   475   903   640  2000\n",
      "   248   651  2799 17011   505  1103  1521   351 16051   398  9000  1998\n",
      " 10311   409  1230 17019 12684  8259  1895   901  1317   871   909  2201\n",
      "  1595   776 17700 11011  1199   459  1162  1120 15033  1896   339   361\n",
      "   574  6512   454   650 13616   604   607 16312  1082   336 20000   416\n",
      "   678  6012  1401  1021  1870 13636  1250  9710   323  1158  2009   902\n",
      "  6062  1275   572   244   399  1016   743  1221  2402 16011  1362   544\n",
      "   645   907   702 12512  1986  1003  1432  9013  9011   442  1017  1394\n",
      " 15017 10910  1992   540  2018 11025  1433  1701  2792  1502  1239  1390\n",
      " 14009  1160  1351 11111  1783  9007   923  1149   754  1988   402  2004\n",
      "  5420  1793  1324   356  7511  1299   293 19312  1079  1689   998  1100\n",
      "  9012  1933   508 16311   682  1252  1922  7529   732  2389  2200  1707\n",
      "  1416  8500  1012   485  3000 10110   421  4507  1631  7518   377  1004\n",
      "  2007  2598  1548  1241]\n",
      "Уникальные значения столбца Model\n",
      "['golf' nan 'grand' 'fabia' '3er' '2_reihe' 'other' 'c_max' '3_reihe'\n",
      " 'passat' 'navara' 'ka' 'polo' 'twingo' 'a_klasse' 'scirocco' '5er'\n",
      " 'meriva' 'arosa' 'c4' 'civic' 'transporter' 'punto' 'e_klasse' 'clio'\n",
      " 'kadett' 'kangoo' 'corsa' 'one' 'fortwo' '1er' 'b_klasse' 'signum'\n",
      " 'astra' 'a8' 'jetta' 'fiesta' 'c_klasse' 'micra' 'vito' 'sprinter' '156'\n",
      " 'escort' 'forester' 'xc_reihe' 'scenic' 'a4' 'a1' 'insignia' 'combo'\n",
      " 'focus' 'tt' 'a6' 'jazz' 'omega' 'slk' '7er' '80' '147' '100' 'z_reihe'\n",
      " 'sportage' 'sorento' 'v40' 'ibiza' 'mustang' 'eos' 'touran' 'getz' 'a3'\n",
      " 'almera' 'megane' 'lupo' 'r19' 'zafira' 'caddy' 'mondeo' 'cordoba' 'colt'\n",
      " 'impreza' 'vectra' 'berlingo' 'tiguan' 'i_reihe' 'espace' 'sharan'\n",
      " '6_reihe' 'panda' 'up' 'seicento' 'ceed' '5_reihe' 'yeti' 'octavia' 'mii'\n",
      " 'rx_reihe' '6er' 'modus' 'fox' 'matiz' 'beetle' 'c1' 'rio' 'touareg'\n",
      " 'logan' 'spider' 'cuore' 's_max' 'a2' 'galaxy' 'c3' 'viano' 's_klasse'\n",
      " '1_reihe' 'avensis' 'roomster' 'sl' 'kaefer' 'santa' 'cooper' 'leon'\n",
      " '4_reihe' 'a5' '500' 'laguna' 'ptcruiser' 'clk' 'primera' 'x_reihe'\n",
      " 'exeo' '159' 'transit' 'juke' 'qashqai' 'carisma' 'accord' 'corolla'\n",
      " 'lanos' 'phaeton' 'verso' 'swift' 'rav' 'picanto' 'boxster' 'kalos'\n",
      " 'superb' 'stilo' 'alhambra' 'mx_reihe' 'roadster' 'ypsilon' 'cayenne'\n",
      " 'galant' 'justy' '90' 'sirion' 'crossfire' 'agila' 'duster' 'cr_reihe'\n",
      " 'v50' 'c_reihe' 'v_klasse' 'm_klasse' 'yaris' 'c5' 'aygo' 'cc' 'carnival'\n",
      " 'fusion' '911' 'bora' 'forfour' 'm_reihe' 'cl' 'tigra' '300c' 'spark'\n",
      " 'v70' 'kuga' 'x_type' 'ducato' 's_type' 'x_trail' 'toledo' 'altea'\n",
      " 'voyager' 'calibra' 'bravo' 'antara' 'tucson' 'citigo' 'jimny' 'wrangler'\n",
      " 'lybra' 'q7' 'lancer' 'captiva' 'c2' 'discovery' 'freelander' 'sandero'\n",
      " 'note' '900' 'cherokee' 'clubman' 'samara' 'defender' '601' 'cx_reihe'\n",
      " 'legacy' 'pajero' 'auris' 'niva' 's60' 'nubira' 'vivaro' 'g_klasse'\n",
      " 'lodgy' '850' 'range_rover' 'q3' 'serie_2' 'glk' 'charade' 'croma'\n",
      " 'outlander' 'doblo' 'musa' 'move' '9000' 'v60' '145' 'aveo' '200' 'b_max'\n",
      " 'range_rover_sport' 'terios' 'rangerover' 'q5' 'range_rover_evoque'\n",
      " 'materia' 'delta' 'gl' 'kalina' 'amarok' 'elefantino' 'i3' 'kappa'\n",
      " 'serie_3' 'serie_1']\n",
      "Уникальные значения столбца Kilometer\n",
      "[150000 125000  90000  40000  30000  70000   5000 100000  60000  20000\n",
      "  80000  50000  10000]\n",
      "Уникальные значения столбца RegistrationMonth\n",
      "[ 0  5  8  6  7 10 12 11  2  3  1  4  9]\n",
      "Уникальные значения столбца FuelType\n",
      "['petrol' 'gasoline' nan 'lpg' 'other' 'hybrid' 'cng' 'electric']\n",
      "Уникальные значения столбца Brand\n",
      "['volkswagen' 'audi' 'jeep' 'skoda' 'bmw' 'peugeot' 'ford' 'mazda'\n",
      " 'nissan' 'renault' 'mercedes_benz' 'opel' 'seat' 'citroen' 'honda' 'fiat'\n",
      " 'mini' 'smart' 'hyundai' 'sonstige_autos' 'alfa_romeo' 'subaru' 'volvo'\n",
      " 'mitsubishi' 'kia' 'suzuki' 'lancia' 'toyota' 'chevrolet' 'dacia'\n",
      " 'daihatsu' 'trabant' 'saab' 'chrysler' 'jaguar' 'daewoo' 'porsche'\n",
      " 'rover' 'land_rover' 'lada']\n",
      "Уникальные значения столбца Repaired\n",
      "[nan 'yes' 'no']\n",
      "Уникальные значения столбца DateCreated\n",
      "['2016-03-24 00:00:00' '2016-03-14 00:00:00' '2016-03-17 00:00:00'\n",
      " '2016-03-31 00:00:00' '2016-04-04 00:00:00' '2016-04-01 00:00:00'\n",
      " '2016-03-21 00:00:00' '2016-03-26 00:00:00' '2016-04-07 00:00:00'\n",
      " '2016-03-15 00:00:00' '2016-03-11 00:00:00' '2016-03-20 00:00:00'\n",
      " '2016-03-23 00:00:00' '2016-03-27 00:00:00' '2016-03-12 00:00:00'\n",
      " '2016-03-13 00:00:00' '2016-03-18 00:00:00' '2016-03-10 00:00:00'\n",
      " '2016-03-07 00:00:00' '2016-03-09 00:00:00' '2016-03-08 00:00:00'\n",
      " '2016-04-03 00:00:00' '2016-03-29 00:00:00' '2016-03-25 00:00:00'\n",
      " '2016-03-28 00:00:00' '2016-03-30 00:00:00' '2016-03-22 00:00:00'\n",
      " '2016-02-09 00:00:00' '2016-03-05 00:00:00' '2016-04-02 00:00:00'\n",
      " '2016-03-16 00:00:00' '2016-03-19 00:00:00' '2016-04-05 00:00:00'\n",
      " '2016-03-06 00:00:00' '2016-02-12 00:00:00' '2016-03-03 00:00:00'\n",
      " '2016-03-01 00:00:00' '2016-03-04 00:00:00' '2016-04-06 00:00:00'\n",
      " '2016-02-15 00:00:00' '2016-02-24 00:00:00' '2016-02-27 00:00:00'\n",
      " '2015-03-20 00:00:00' '2016-02-28 00:00:00' '2016-02-17 00:00:00'\n",
      " '2016-01-27 00:00:00' '2016-02-20 00:00:00' '2016-02-29 00:00:00'\n",
      " '2016-02-10 00:00:00' '2016-02-23 00:00:00' '2016-02-21 00:00:00'\n",
      " '2015-11-02 00:00:00' '2016-02-19 00:00:00' '2016-02-26 00:00:00'\n",
      " '2016-02-11 00:00:00' '2016-01-10 00:00:00' '2016-02-06 00:00:00'\n",
      " '2016-02-18 00:00:00' '2016-01-29 00:00:00' '2016-03-02 00:00:00'\n",
      " '2015-12-06 00:00:00' '2016-01-24 00:00:00' '2016-01-30 00:00:00'\n",
      " '2016-02-02 00:00:00' '2016-02-16 00:00:00' '2016-02-13 00:00:00'\n",
      " '2016-02-05 00:00:00' '2016-02-22 00:00:00' '2015-11-17 00:00:00'\n",
      " '2014-03-10 00:00:00' '2016-02-07 00:00:00' '2016-01-23 00:00:00'\n",
      " '2016-02-25 00:00:00' '2016-02-14 00:00:00' '2016-01-02 00:00:00'\n",
      " '2015-09-04 00:00:00' '2015-11-12 00:00:00' '2015-12-27 00:00:00'\n",
      " '2015-11-24 00:00:00' '2016-01-20 00:00:00' '2016-02-03 00:00:00'\n",
      " '2015-12-05 00:00:00' '2015-08-07 00:00:00' '2016-01-28 00:00:00'\n",
      " '2016-01-31 00:00:00' '2016-02-08 00:00:00' '2016-01-07 00:00:00'\n",
      " '2016-01-22 00:00:00' '2016-01-18 00:00:00' '2016-01-08 00:00:00'\n",
      " '2015-11-23 00:00:00' '2016-01-13 00:00:00' '2016-01-17 00:00:00'\n",
      " '2016-01-15 00:00:00' '2015-11-08 00:00:00' '2016-01-26 00:00:00'\n",
      " '2016-02-04 00:00:00' '2016-01-25 00:00:00' '2016-01-16 00:00:00'\n",
      " '2015-08-10 00:00:00' '2016-01-03 00:00:00' '2016-01-19 00:00:00'\n",
      " '2015-12-30 00:00:00' '2016-02-01 00:00:00' '2015-12-17 00:00:00'\n",
      " '2015-11-10 00:00:00' '2016-01-06 00:00:00' '2015-09-09 00:00:00'\n",
      " '2015-06-18 00:00:00']\n",
      "Уникальные значения столбца NumberOfPictures\n",
      "[0]\n",
      "Уникальные значения столбца PostalCode\n",
      "[70435 66954 90480 ... 38528 38325 31096]\n",
      "Уникальные значения столбца LastSeen\n",
      "['2016-04-07 03:16:57' '2016-04-07 01:46:50' '2016-04-05 12:47:46' ...\n",
      " '2016-03-19 20:44:43' '2016-03-29 10:17:23' '2016-03-21 10:42:49']\n"
     ]
    }
   ],
   "source": [
    "show_rows(df)"
   ]
  },
  {
   "cell_type": "markdown",
   "id": "b5ab5ad2",
   "metadata": {},
   "source": [
    "Изучим те признаки которые кажутся наиболее интересными и актуальными для анализа, посчитаем количество уникальных значений в признаке с помощью команды value_counts:"
   ]
  },
  {
   "cell_type": "code",
   "execution_count": 10,
   "id": "ec6b063a",
   "metadata": {},
   "outputs": [],
   "source": [
    "def show_value(data):\n",
    "    for column in data.columns:\n",
    "        print(data[column].value_counts())\n",
    "        print('Заполненные поля для',column, 'в %:', round(data[column].value_counts().sum()/df.shape[0]*100))\n",
    "        print('---------------------\\\n",
    "        ----------------------')"
   ]
  },
  {
   "cell_type": "code",
   "execution_count": 11,
   "id": "7b647792",
   "metadata": {
    "scrolled": true
   },
   "outputs": [
    {
     "name": "stdout",
     "output_type": "stream",
     "text": [
      "2016-03-24 14:49:47    7\n",
      "2016-03-19 21:49:56    6\n",
      "2016-03-26 22:57:31    6\n",
      "2016-03-11 15:36:59    5\n",
      "2016-03-28 10:36:47    5\n",
      "                      ..\n",
      "2016-03-13 23:39:11    1\n",
      "2016-03-20 16:48:06    1\n",
      "2016-03-22 21:51:04    1\n",
      "2016-03-11 16:25:36    1\n",
      "2016-03-19 18:57:12    1\n",
      "Name: DateCrawled, Length: 271174, dtype: int64\n",
      "Заполненные поля для DateCrawled в %: 100\n",
      "---------------------        ----------------------\n",
      "0        10772\n",
      "500       5670\n",
      "1500      5394\n",
      "1000      4648\n",
      "1200      4594\n",
      "         ...  \n",
      "1368         1\n",
      "233          1\n",
      "11080        1\n",
      "16340        1\n",
      "10985        1\n",
      "Name: Price, Length: 3731, dtype: int64\n",
      "Заполненные поля для Price в %: 100\n",
      "---------------------        ----------------------\n",
      "sedan          91457\n",
      "small          79830\n",
      "wagon          65165\n",
      "bus            28775\n",
      "convertible    20203\n",
      "coupe          16161\n",
      "suv            11996\n",
      "other           3288\n",
      "Name: VehicleType, dtype: int64\n",
      "Заполненные поля для VehicleType в %: 89\n",
      "---------------------        ----------------------\n",
      "2000    24490\n",
      "1999    22727\n",
      "2005    22109\n",
      "2001    20123\n",
      "2006    19900\n",
      "        ...  \n",
      "6500        1\n",
      "2290        1\n",
      "1001        1\n",
      "9450        1\n",
      "3500        1\n",
      "Name: RegistrationYear, Length: 151, dtype: int64\n",
      "Заполненные поля для RegistrationYear в %: 100\n",
      "---------------------        ----------------------\n",
      "manual    268249\n",
      "auto       66283\n",
      "Name: Gearbox, dtype: int64\n",
      "Заполненные поля для Gearbox в %: 94\n",
      "---------------------        ----------------------\n",
      "0       40225\n",
      "75      24023\n",
      "60      15897\n",
      "150     14590\n",
      "101     13298\n",
      "        ...  \n",
      "610         1\n",
      "6006        1\n",
      "5815        1\n",
      "6018        1\n",
      "1241        1\n",
      "Name: Power, Length: 712, dtype: int64\n",
      "Заполненные поля для Power в %: 100\n",
      "---------------------        ----------------------\n",
      "golf                  29232\n",
      "other                 24420\n",
      "3er                   19761\n",
      "polo                  13066\n",
      "corsa                 12570\n",
      "                      ...  \n",
      "i3                        8\n",
      "serie_3                   4\n",
      "rangerover                4\n",
      "range_rover_evoque        2\n",
      "serie_1                   2\n",
      "Name: Model, Length: 250, dtype: int64\n",
      "Заполненные поля для Model в %: 94\n",
      "---------------------        ----------------------\n",
      "150000    238207\n",
      "125000     36453\n",
      "100000     14882\n",
      "90000      11567\n",
      "80000      10047\n",
      "70000       8593\n",
      "60000       7444\n",
      "5000        6397\n",
      "50000       6232\n",
      "40000       4911\n",
      "30000       4436\n",
      "20000       3974\n",
      "10000       1222\n",
      "Name: Kilometer, dtype: int64\n",
      "Заполненные поля для Kilometer в %: 100\n",
      "---------------------        ----------------------\n",
      "0     37352\n",
      "3     34373\n",
      "6     31507\n",
      "4     29270\n",
      "5     29153\n",
      "7     27211\n",
      "10    26099\n",
      "12    24289\n",
      "11    24186\n",
      "9     23813\n",
      "1     23218\n",
      "8     22627\n",
      "2     21267\n",
      "Name: RegistrationMonth, dtype: int64\n",
      "Заполненные поля для RegistrationMonth в %: 100\n",
      "---------------------        ----------------------\n",
      "petrol      216349\n",
      "gasoline     98719\n",
      "lpg           5310\n",
      "cng            565\n",
      "hybrid         233\n",
      "other          204\n",
      "electric        90\n",
      "Name: FuelType, dtype: int64\n",
      "Заполненные поля для FuelType в %: 91\n",
      "---------------------        ----------------------\n",
      "volkswagen        77012\n",
      "opel              39931\n",
      "bmw               36914\n",
      "mercedes_benz     32044\n",
      "audi              29456\n",
      "ford              25179\n",
      "renault           17927\n",
      "peugeot           10998\n",
      "fiat               9643\n",
      "seat               6907\n",
      "mazda              5615\n",
      "skoda              5500\n",
      "smart              5246\n",
      "citroen            5148\n",
      "nissan             4941\n",
      "toyota             4606\n",
      "hyundai            3587\n",
      "sonstige_autos     3374\n",
      "volvo              3210\n",
      "mini               3202\n",
      "mitsubishi         3022\n",
      "honda              2817\n",
      "kia                2465\n",
      "suzuki             2322\n",
      "alfa_romeo         2314\n",
      "chevrolet          1754\n",
      "chrysler           1439\n",
      "dacia               900\n",
      "daihatsu            806\n",
      "subaru              762\n",
      "porsche             758\n",
      "jeep                677\n",
      "trabant             589\n",
      "land_rover          545\n",
      "daewoo              542\n",
      "saab                526\n",
      "jaguar              505\n",
      "rover               486\n",
      "lancia              471\n",
      "lada                225\n",
      "Name: Brand, dtype: int64\n",
      "Заполненные поля для Brand в %: 100\n",
      "---------------------        ----------------------\n",
      "no     247158\n",
      "yes     36053\n",
      "Name: Repaired, dtype: int64\n",
      "Заполненные поля для Repaired в %: 80\n",
      "---------------------        ----------------------\n",
      "2016-04-03 00:00:00    13718\n",
      "2016-04-04 00:00:00    13317\n",
      "2016-03-20 00:00:00    12918\n",
      "2016-03-12 00:00:00    12840\n",
      "2016-03-21 00:00:00    12691\n",
      "                       ...  \n",
      "2015-08-07 00:00:00        1\n",
      "2015-12-27 00:00:00        1\n",
      "2015-11-12 00:00:00        1\n",
      "2015-12-06 00:00:00        1\n",
      "2015-06-18 00:00:00        1\n",
      "Name: DateCreated, Length: 109, dtype: int64\n",
      "Заполненные поля для DateCreated в %: 100\n",
      "---------------------        ----------------------\n",
      "0    354365\n",
      "Name: NumberOfPictures, dtype: int64\n",
      "Заполненные поля для NumberOfPictures в %: 100\n",
      "---------------------        ----------------------\n",
      "10115    819\n",
      "65428    613\n",
      "66333    343\n",
      "32257    317\n",
      "44145    317\n",
      "        ... \n",
      "91801      1\n",
      "31097      1\n",
      "82444      1\n",
      "94359      1\n",
      "31096      1\n",
      "Name: PostalCode, Length: 8143, dtype: int64\n",
      "Заполненные поля для PostalCode в %: 100\n",
      "---------------------        ----------------------\n",
      "2016-04-06 13:45:54    17\n",
      "2016-04-06 09:46:00    16\n",
      "2016-04-07 09:45:10    16\n",
      "2016-04-06 08:46:30    16\n",
      "2016-04-07 00:45:17    16\n",
      "                       ..\n",
      "2016-04-03 04:18:11     1\n",
      "2016-03-16 20:19:54     1\n",
      "2016-03-26 03:46:03     1\n",
      "2016-03-17 02:16:43     1\n",
      "2016-03-21 10:42:49     1\n",
      "Name: LastSeen, Length: 179150, dtype: int64\n",
      "Заполненные поля для LastSeen в %: 100\n",
      "---------------------        ----------------------\n"
     ]
    }
   ],
   "source": [
    "show_value(df)"
   ]
  },
  {
   "cell_type": "markdown",
   "id": "bbab2896",
   "metadata": {},
   "source": [
    "**Подитог:** \n",
    "В столбце Price присутствуют некорректные значения в виде 0.\n",
    "В столбце Power присутвует некорректное значение мощности.\n",
    "В столбце NumberOfPictures - все значения заполнены нулем. \n",
    "\n",
    "Определим признаки, важные для модели.\n",
    "\n",
    "К значимым признакам отнесем следующие столбцы:\n",
    "\n",
    "- VehicleType. Тип кузова определяет ее возможности и напрямую влияет на стоимость (кроссовер, седан, хэтч). \n",
    "- Gearbox. Наличие автоматической коробки передач повышает стоимость машины из-за более комфортной езды, что пользуется спросом.\n",
    "- Power. Мощность в лоашдиных силах (далее л.с.) напрямую влияют на цену.\n",
    "- Kilometer. Пробег имеет обратно пропорциональную зависиммость от цены. Чем больше пробег у а/м, тем больше происходит износ и соответсвенно снижается цена на вторичном рынке.\n",
    "- FuelType. Тип топлива определяет тип двигателя и напрямую влияет на расход.\n",
    "- Brand. Марка автомобиля, это имидж и история которая стоит за автомобилем и показывает его качество.\n",
    "- NotRepaired. Битые или не битые машины могут кардинально отличаться в цене.\n",
    "- RegistrationYear. Год регистрации определяет сколько уже лет машина на ходу. соответвенно, чем больше возраст, тем меньше цена.\n",
    "- Model. \n",
    "\n",
    "Остальные столбцы для модели не требуются, так как не влияют на стоимость."
   ]
  },
  {
   "cell_type": "code",
   "execution_count": 12,
   "id": "6019c2c4",
   "metadata": {},
   "outputs": [],
   "source": [
    "#Удаляем признаки которые никак не влияют на ход исследования\n",
    "df = df.drop(['DateCrawled','RegistrationMonth',\"PostalCode\",'NumberOfPictures','LastSeen'],axis=1)"
   ]
  },
  {
   "cell_type": "markdown",
   "id": "1c3950cd",
   "metadata": {},
   "source": [
    "<div class=\"alert alert-warning\">\n",
    "<b>Комментарий 👉</b>\n",
    "\n",
    "Не все ненужные для моделей машинного наблюдения признаки удалены из данных. В наших данных подобных признаков 6 ... 6 столбцов от использования которых модели никакого \"бонуса\" не получат. Найди всех этих \"потеряшек\" пожалуйста.\n",
    "</div>"
   ]
  },
  {
   "cell_type": "markdown",
   "id": "86a1aafa",
   "metadata": {},
   "source": [
    "date_created - дата создания анкеты\n"
   ]
  },
  {
   "cell_type": "code",
   "execution_count": 13,
   "id": "76f71dd9",
   "metadata": {},
   "outputs": [],
   "source": [
    "def get_date_information(df, col_name):\n",
    "    \"\"\"\n",
    "    функция преобразует столбец датафрейма в формат даты и выводит информацию о нем, \n",
    "    включая минимальное и максимальное значение, количество уникальных значений\n",
    "    \"\"\"\n",
    "    \n",
    "    df[col_name] = pd.to_datetime(df[col_name]).dt.date\n",
    "    print(f'{Style.BRIGHT}Признак {df[col_name].name}{Style.RESET_ALL}\\nминимум: {df[col_name].min()}\\n'\n",
    "          f'максимум: {df[col_name].max()}\\nуникальных значений: {df[col_name].nunique()}\\n')\n",
    "    \n"
   ]
  },
  {
   "cell_type": "code",
   "execution_count": 14,
   "id": "22fcec84",
   "metadata": {},
   "outputs": [
    {
     "name": "stdout",
     "output_type": "stream",
     "text": [
      "\u001b[1mПризнак DateCreated\u001b[0m\n",
      "минимум: 2014-03-10\n",
      "максимум: 2016-04-07\n",
      "уникальных значений: 109\n",
      "\n"
     ]
    }
   ],
   "source": [
    "from colorama import Fore, Style\n",
    "data_columns = ['DateCreated']\n",
    "for i in data_columns:\n",
    "    get_date_information(df, i)"
   ]
  },
  {
   "cell_type": "markdown",
   "id": "217c899b",
   "metadata": {},
   "source": [
    "Отсортируем датафрейм по дате регистрации анкеты:"
   ]
  },
  {
   "cell_type": "code",
   "execution_count": 15,
   "id": "a3b302ba",
   "metadata": {},
   "outputs": [
    {
     "data": {
      "text/html": [
       "<div>\n",
       "<style scoped>\n",
       "    .dataframe tbody tr th:only-of-type {\n",
       "        vertical-align: middle;\n",
       "    }\n",
       "\n",
       "    .dataframe tbody tr th {\n",
       "        vertical-align: top;\n",
       "    }\n",
       "\n",
       "    .dataframe thead th {\n",
       "        text-align: right;\n",
       "    }\n",
       "</style>\n",
       "<table border=\"1\" class=\"dataframe\">\n",
       "  <thead>\n",
       "    <tr style=\"text-align: right;\">\n",
       "      <th></th>\n",
       "      <th>Price</th>\n",
       "      <th>VehicleType</th>\n",
       "      <th>RegistrationYear</th>\n",
       "      <th>Gearbox</th>\n",
       "      <th>Power</th>\n",
       "      <th>Model</th>\n",
       "      <th>Kilometer</th>\n",
       "      <th>FuelType</th>\n",
       "      <th>Brand</th>\n",
       "      <th>Repaired</th>\n",
       "      <th>DateCreated</th>\n",
       "    </tr>\n",
       "  </thead>\n",
       "  <tbody>\n",
       "    <tr>\n",
       "      <th>0</th>\n",
       "      <td>8999</td>\n",
       "      <td>NaN</td>\n",
       "      <td>2005</td>\n",
       "      <td>NaN</td>\n",
       "      <td>0</td>\n",
       "      <td>147</td>\n",
       "      <td>125000</td>\n",
       "      <td>petrol</td>\n",
       "      <td>alfa_romeo</td>\n",
       "      <td>NaN</td>\n",
       "      <td>2014-03-10</td>\n",
       "    </tr>\n",
       "    <tr>\n",
       "      <th>1</th>\n",
       "      <td>6000</td>\n",
       "      <td>bus</td>\n",
       "      <td>1995</td>\n",
       "      <td>auto</td>\n",
       "      <td>200</td>\n",
       "      <td>other</td>\n",
       "      <td>150000</td>\n",
       "      <td>petrol</td>\n",
       "      <td>chevrolet</td>\n",
       "      <td>no</td>\n",
       "      <td>2015-03-20</td>\n",
       "    </tr>\n",
       "    <tr>\n",
       "      <th>2</th>\n",
       "      <td>10400</td>\n",
       "      <td>bus</td>\n",
       "      <td>1993</td>\n",
       "      <td>NaN</td>\n",
       "      <td>0</td>\n",
       "      <td>ducato</td>\n",
       "      <td>30000</td>\n",
       "      <td>gasoline</td>\n",
       "      <td>fiat</td>\n",
       "      <td>NaN</td>\n",
       "      <td>2015-06-18</td>\n",
       "    </tr>\n",
       "    <tr>\n",
       "      <th>3</th>\n",
       "      <td>14250</td>\n",
       "      <td>convertible</td>\n",
       "      <td>2005</td>\n",
       "      <td>manual</td>\n",
       "      <td>163</td>\n",
       "      <td>slk</td>\n",
       "      <td>150000</td>\n",
       "      <td>petrol</td>\n",
       "      <td>mercedes_benz</td>\n",
       "      <td>no</td>\n",
       "      <td>2015-08-07</td>\n",
       "    </tr>\n",
       "    <tr>\n",
       "      <th>4</th>\n",
       "      <td>5200</td>\n",
       "      <td>convertible</td>\n",
       "      <td>2006</td>\n",
       "      <td>manual</td>\n",
       "      <td>109</td>\n",
       "      <td>2_reihe</td>\n",
       "      <td>80000</td>\n",
       "      <td>petrol</td>\n",
       "      <td>peugeot</td>\n",
       "      <td>no</td>\n",
       "      <td>2015-08-10</td>\n",
       "    </tr>\n",
       "    <tr>\n",
       "      <th>5</th>\n",
       "      <td>600</td>\n",
       "      <td>small</td>\n",
       "      <td>2005</td>\n",
       "      <td>manual</td>\n",
       "      <td>54</td>\n",
       "      <td>polo</td>\n",
       "      <td>150000</td>\n",
       "      <td>petrol</td>\n",
       "      <td>volkswagen</td>\n",
       "      <td>yes</td>\n",
       "      <td>2015-09-04</td>\n",
       "    </tr>\n",
       "    <tr>\n",
       "      <th>6</th>\n",
       "      <td>600</td>\n",
       "      <td>small</td>\n",
       "      <td>2005</td>\n",
       "      <td>manual</td>\n",
       "      <td>54</td>\n",
       "      <td>polo</td>\n",
       "      <td>150000</td>\n",
       "      <td>petrol</td>\n",
       "      <td>volkswagen</td>\n",
       "      <td>yes</td>\n",
       "      <td>2015-09-04</td>\n",
       "    </tr>\n",
       "    <tr>\n",
       "      <th>7</th>\n",
       "      <td>9500</td>\n",
       "      <td>small</td>\n",
       "      <td>2013</td>\n",
       "      <td>manual</td>\n",
       "      <td>90</td>\n",
       "      <td>corsa</td>\n",
       "      <td>50000</td>\n",
       "      <td>gasoline</td>\n",
       "      <td>opel</td>\n",
       "      <td>no</td>\n",
       "      <td>2015-09-09</td>\n",
       "    </tr>\n",
       "  </tbody>\n",
       "</table>\n",
       "</div>"
      ],
      "text/plain": [
       "   Price  VehicleType  RegistrationYear Gearbox  Power    Model  Kilometer  \\\n",
       "0   8999          NaN              2005     NaN      0      147     125000   \n",
       "1   6000          bus              1995    auto    200    other     150000   \n",
       "2  10400          bus              1993     NaN      0   ducato      30000   \n",
       "3  14250  convertible              2005  manual    163      slk     150000   \n",
       "4   5200  convertible              2006  manual    109  2_reihe      80000   \n",
       "5    600        small              2005  manual     54     polo     150000   \n",
       "6    600        small              2005  manual     54     polo     150000   \n",
       "7   9500        small              2013  manual     90    corsa      50000   \n",
       "\n",
       "   FuelType          Brand Repaired DateCreated  \n",
       "0    petrol     alfa_romeo      NaN  2014-03-10  \n",
       "1    petrol      chevrolet       no  2015-03-20  \n",
       "2  gasoline           fiat      NaN  2015-06-18  \n",
       "3    petrol  mercedes_benz       no  2015-08-07  \n",
       "4    petrol        peugeot       no  2015-08-10  \n",
       "5    petrol     volkswagen      yes  2015-09-04  \n",
       "6    petrol     volkswagen      yes  2015-09-04  \n",
       "7  gasoline           opel       no  2015-09-09  "
      ]
     },
     "metadata": {},
     "output_type": "display_data"
    },
    {
     "data": {
      "text/html": [
       "<div>\n",
       "<style scoped>\n",
       "    .dataframe tbody tr th:only-of-type {\n",
       "        vertical-align: middle;\n",
       "    }\n",
       "\n",
       "    .dataframe tbody tr th {\n",
       "        vertical-align: top;\n",
       "    }\n",
       "\n",
       "    .dataframe thead th {\n",
       "        text-align: right;\n",
       "    }\n",
       "</style>\n",
       "<table border=\"1\" class=\"dataframe\">\n",
       "  <thead>\n",
       "    <tr style=\"text-align: right;\">\n",
       "      <th></th>\n",
       "      <th>Price</th>\n",
       "      <th>VehicleType</th>\n",
       "      <th>RegistrationYear</th>\n",
       "      <th>Gearbox</th>\n",
       "      <th>Power</th>\n",
       "      <th>Model</th>\n",
       "      <th>Kilometer</th>\n",
       "      <th>FuelType</th>\n",
       "      <th>Brand</th>\n",
       "      <th>Repaired</th>\n",
       "      <th>DateCreated</th>\n",
       "    </tr>\n",
       "  </thead>\n",
       "  <tbody>\n",
       "    <tr>\n",
       "      <th>354362</th>\n",
       "      <td>1890</td>\n",
       "      <td>wagon</td>\n",
       "      <td>2000</td>\n",
       "      <td>manual</td>\n",
       "      <td>150</td>\n",
       "      <td>a4</td>\n",
       "      <td>5000</td>\n",
       "      <td>gasoline</td>\n",
       "      <td>audi</td>\n",
       "      <td>no</td>\n",
       "      <td>2016-04-07</td>\n",
       "    </tr>\n",
       "    <tr>\n",
       "      <th>354363</th>\n",
       "      <td>15490</td>\n",
       "      <td>convertible</td>\n",
       "      <td>2010</td>\n",
       "      <td>manual</td>\n",
       "      <td>150</td>\n",
       "      <td>c_reihe</td>\n",
       "      <td>125000</td>\n",
       "      <td>gasoline</td>\n",
       "      <td>volvo</td>\n",
       "      <td>no</td>\n",
       "      <td>2016-04-07</td>\n",
       "    </tr>\n",
       "    <tr>\n",
       "      <th>354364</th>\n",
       "      <td>850</td>\n",
       "      <td>sedan</td>\n",
       "      <td>1991</td>\n",
       "      <td>manual</td>\n",
       "      <td>100</td>\n",
       "      <td>3er</td>\n",
       "      <td>30000</td>\n",
       "      <td>petrol</td>\n",
       "      <td>bmw</td>\n",
       "      <td>no</td>\n",
       "      <td>2016-04-07</td>\n",
       "    </tr>\n",
       "  </tbody>\n",
       "</table>\n",
       "</div>"
      ],
      "text/plain": [
       "        Price  VehicleType  RegistrationYear Gearbox  Power    Model  \\\n",
       "354362   1890        wagon              2000  manual    150       a4   \n",
       "354363  15490  convertible              2010  manual    150  c_reihe   \n",
       "354364    850        sedan              1991  manual    100      3er   \n",
       "\n",
       "        Kilometer  FuelType  Brand Repaired DateCreated  \n",
       "354362       5000  gasoline   audi       no  2016-04-07  \n",
       "354363     125000  gasoline  volvo       no  2016-04-07  \n",
       "354364      30000    petrol    bmw       no  2016-04-07  "
      ]
     },
     "metadata": {},
     "output_type": "display_data"
    }
   ],
   "source": [
    "df = df.sort_values('DateCreated').reset_index(drop=True)\n",
    "display(df.head(8), df.tail(3))"
   ]
  },
  {
   "cell_type": "markdown",
   "id": "774f88cd",
   "metadata": {},
   "source": [
    "Проверим, с какими годами мы имеем дело:"
   ]
  },
  {
   "cell_type": "code",
   "execution_count": 16,
   "id": "bdcaa503",
   "metadata": {},
   "outputs": [
    {
     "data": {
      "text/plain": [
       "array([1000, 1001, 1039, 1111, 1200, 1234, 1253, 1255, 1300, 1400, 1500,\n",
       "       1600, 1602, 1688, 1800, 1910, 1915, 1919, 1920, 1923, 1925, 1927,\n",
       "       1928, 1929, 1930, 1931, 1932, 1933, 1934, 1935, 1936, 1937, 1938,\n",
       "       1940, 1941, 1942, 1943, 1944, 1945, 1946, 1947, 1948, 1949, 1950,\n",
       "       1951, 1952, 1953, 1954, 1955, 1956, 1957, 1958, 1959, 1960, 1961,\n",
       "       1962, 1963, 1964, 1965, 1966, 1967, 1968, 1969, 1970, 1971, 1972,\n",
       "       1973, 1974, 1975, 1976, 1977, 1978, 1979, 1980, 1981, 1982, 1983,\n",
       "       1984, 1985, 1986, 1987, 1988, 1989, 1990, 1991, 1992, 1993, 1994,\n",
       "       1995, 1996, 1997, 1998, 1999, 2000, 2001, 2002, 2003, 2004, 2005,\n",
       "       2006, 2007, 2008, 2009, 2010, 2011, 2012, 2013, 2014, 2015, 2016,\n",
       "       2017, 2018, 2019, 2066, 2200, 2222, 2290, 2500, 2800, 2900, 3000,\n",
       "       3200, 3500, 3700, 3800, 4000, 4100, 4500, 4800, 5000, 5300, 5555,\n",
       "       5600, 5900, 5911, 6000, 6500, 7000, 7100, 7500, 7800, 8000, 8200,\n",
       "       8455, 8500, 8888, 9000, 9229, 9450, 9996, 9999], dtype=int64)"
      ]
     },
     "execution_count": 16,
     "metadata": {},
     "output_type": "execute_result"
    }
   ],
   "source": [
    "np.sort(df['RegistrationYear'].unique())"
   ]
  },
  {
   "cell_type": "code",
   "execution_count": 17,
   "id": "d4e6cf15",
   "metadata": {},
   "outputs": [],
   "source": [
    "# переведем названия колонок в нижний регистр и разделим слова знаком \"_\"\n",
    "df.columns = df.columns.str.lower()\n",
    "df = df.rename(columns={'vehicletype':'vehicle_type','registrationyear':'registration_year',\\\n",
    "                        'fueltype':'fuel_type','datecreated':'date_created', \\\n",
    "                        'numberofpictures':'number_of_pictures', 'postalcode':'postal_code',\\\n",
    "                        'lastseen':'last_seen'})\n"
   ]
  },
  {
   "cell_type": "markdown",
   "id": "1b456e5a",
   "metadata": {},
   "source": [
    "Как можно заметить в признаке год регистрации есть значения не связанные с реальность. \n",
    "Посмотрим какая все же основная часть значений данного признака."
   ]
  },
  {
   "cell_type": "code",
   "execution_count": 18,
   "id": "fd50e728",
   "metadata": {},
   "outputs": [
    {
     "data": {
      "text/plain": [
       "count    354365.000000\n",
       "mean       2004.234481\n",
       "std          90.228466\n",
       "min        1000.000000\n",
       "25%        1999.000000\n",
       "50%        2003.000000\n",
       "75%        2008.000000\n",
       "max        9999.000000\n",
       "Name: registration_year, dtype: float64"
      ]
     },
     "execution_count": 18,
     "metadata": {},
     "output_type": "execute_result"
    }
   ],
   "source": [
    "df['registration_year'].describe()"
   ]
  },
  {
   "cell_type": "code",
   "execution_count": 19,
   "id": "a26ef0fb",
   "metadata": {},
   "outputs": [
    {
     "data": {
      "text/plain": [
       "130"
      ]
     },
     "execution_count": 19,
     "metadata": {},
     "output_type": "execute_result"
    }
   ],
   "source": [
    "df_count = df.loc[df['registration_year']>2018]\n",
    "df_count['registration_year'].count()"
   ]
  },
  {
   "cell_type": "code",
   "execution_count": 20,
   "id": "a3bf2d7e",
   "metadata": {},
   "outputs": [
    {
     "data": {
      "text/plain": [
       "1338"
      ]
     },
     "execution_count": 20,
     "metadata": {},
     "output_type": "execute_result"
    }
   ],
   "source": [
    "df_count_2 = df.loc[df['registration_year']<1970]\n",
    "df_count_2['registration_year'].count()"
   ]
  },
  {
   "cell_type": "code",
   "execution_count": 21,
   "id": "31eb5bd3",
   "metadata": {},
   "outputs": [],
   "source": [
    "df = df[(df['registration_year']>1970)]\n",
    "df = df[(df['registration_year']<2018)]"
   ]
  },
  {
   "cell_type": "code",
   "execution_count": 22,
   "id": "4ad8fb41",
   "metadata": {},
   "outputs": [
    {
     "data": {
      "text/plain": [
       "(348605, 11)"
      ]
     },
     "execution_count": 22,
     "metadata": {},
     "output_type": "execute_result"
    }
   ],
   "source": [
    "df.shape"
   ]
  },
  {
   "cell_type": "code",
   "execution_count": 23,
   "id": "e7089408",
   "metadata": {},
   "outputs": [
    {
     "data": {
      "image/png": "[encoded data removed]",
      "text/plain": [
       "<Figure size 1000x400 with 1 Axes>"
      ]
     },
     "metadata": {},
     "output_type": "display_data"
    }
   ],
   "source": [
    "df.plot(kind='hist', title='Распределение по годам', y='registration_year', bins=70, grid=True, figsize=(10,4))\n",
    "plt.show()"
   ]
  },
  {
   "cell_type": "markdown",
   "id": "49745227",
   "metadata": {},
   "source": [
    "Из графика видно прирост автомобилей начинаются с 1990-го года.Количество объявлений с этого года начинает расти х2 и т д. Далее с 2000х годов по 2008 объявления держутся на пиковых значениях, в диапазоне 20000 -24000. Далее происходит постепенный спад.\n",
    "\n",
    "Объявлений до 80-х годов довольно мало. Посчитаем их за выбросы и удалим.\n",
    "\n",
    "Также нам известно то, что крайняя дата среза информации - это 2016-04-07, то есть старше 2016 года автомобили быть не могут. Также посчитаем их за аномалии и удалим.\n"
   ]
  },
  {
   "cell_type": "code",
   "execution_count": 24,
   "id": "bf34d74e",
   "metadata": {},
   "outputs": [],
   "source": [
    "df = df[(df['registration_year']>1980)]\n",
    "df = df[(df['registration_year']<2017)]"
   ]
  },
  {
   "cell_type": "code",
   "execution_count": 25,
   "id": "4a1d1d74",
   "metadata": {},
   "outputs": [
    {
     "data": {
      "image/png": "[encoded data removed]",
      "text/plain": [
       "<Figure size 1000x400 with 1 Axes>"
      ]
     },
     "metadata": {},
     "output_type": "display_data"
    }
   ],
   "source": [
    "df.plot(kind='hist', title='Распределение по годам', y='registration_year', bins=70, grid=True, figsize=(10,4))\n",
    "plt.show()"
   ]
  },
  {
   "cell_type": "markdown",
   "id": "d87f071b",
   "metadata": {},
   "source": [
    "### Обработка пропущенных значений"
   ]
  },
  {
   "cell_type": "code",
   "execution_count": 26,
   "id": "8bd35383",
   "metadata": {},
   "outputs": [
    {
     "data": {
      "text/html": [
       "<style type=\"text/css\">\n",
       "#T_83c53_row0_col0, #T_83c53_row2_col0, #T_83c53_row4_col0, #T_83c53_row6_col0, #T_83c53_row8_col0, #T_83c53_row10_col0 {\n",
       "  background-color: #fff7fb;\n",
       "  color: #000000;\n",
       "}\n",
       "#T_83c53_row1_col0 {\n",
       "  background-color: #a8bedc;\n",
       "  color: #000000;\n",
       "}\n",
       "#T_83c53_row3_col0, #T_83c53_row5_col0 {\n",
       "  background-color: #cccfe5;\n",
       "  color: #000000;\n",
       "}\n",
       "#T_83c53_row7_col0 {\n",
       "  background-color: #94b6d7;\n",
       "  color: #000000;\n",
       "}\n",
       "#T_83c53_row9_col0 {\n",
       "  background-color: #023858;\n",
       "  color: #f1f1f1;\n",
       "}\n",
       "</style>\n",
       "<table id=\"T_83c53\">\n",
       "  <thead>\n",
       "    <tr>\n",
       "      <th class=\"blank level0\" >&nbsp;</th>\n",
       "      <th id=\"T_83c53_level0_col0\" class=\"col_heading level0 col0\" >0</th>\n",
       "    </tr>\n",
       "  </thead>\n",
       "  <tbody>\n",
       "    <tr>\n",
       "      <th id=\"T_83c53_level0_row0\" class=\"row_heading level0 row0\" >price</th>\n",
       "      <td id=\"T_83c53_row0_col0\" class=\"data row0 col0\" >0.000000</td>\n",
       "    </tr>\n",
       "    <tr>\n",
       "      <th id=\"T_83c53_level0_row1\" class=\"row_heading level0 row1\" >vehicle_type</th>\n",
       "      <td id=\"T_83c53_row1_col0\" class=\"data row1 col0\" >7.000000</td>\n",
       "    </tr>\n",
       "    <tr>\n",
       "      <th id=\"T_83c53_level0_row2\" class=\"row_heading level0 row2\" >registration_year</th>\n",
       "      <td id=\"T_83c53_row2_col0\" class=\"data row2 col0\" >0.000000</td>\n",
       "    </tr>\n",
       "    <tr>\n",
       "      <th id=\"T_83c53_level0_row3\" class=\"row_heading level0 row3\" >gearbox</th>\n",
       "      <td id=\"T_83c53_row3_col0\" class=\"data row3 col0\" >5.000000</td>\n",
       "    </tr>\n",
       "    <tr>\n",
       "      <th id=\"T_83c53_level0_row4\" class=\"row_heading level0 row4\" >power</th>\n",
       "      <td id=\"T_83c53_row4_col0\" class=\"data row4 col0\" >0.000000</td>\n",
       "    </tr>\n",
       "    <tr>\n",
       "      <th id=\"T_83c53_level0_row5\" class=\"row_heading level0 row5\" >model</th>\n",
       "      <td id=\"T_83c53_row5_col0\" class=\"data row5 col0\" >5.000000</td>\n",
       "    </tr>\n",
       "    <tr>\n",
       "      <th id=\"T_83c53_level0_row6\" class=\"row_heading level0 row6\" >kilometer</th>\n",
       "      <td id=\"T_83c53_row6_col0\" class=\"data row6 col0\" >0.000000</td>\n",
       "    </tr>\n",
       "    <tr>\n",
       "      <th id=\"T_83c53_level0_row7\" class=\"row_heading level0 row7\" >fuel_type</th>\n",
       "      <td id=\"T_83c53_row7_col0\" class=\"data row7 col0\" >8.000000</td>\n",
       "    </tr>\n",
       "    <tr>\n",
       "      <th id=\"T_83c53_level0_row8\" class=\"row_heading level0 row8\" >brand</th>\n",
       "      <td id=\"T_83c53_row8_col0\" class=\"data row8 col0\" >0.000000</td>\n",
       "    </tr>\n",
       "    <tr>\n",
       "      <th id=\"T_83c53_level0_row9\" class=\"row_heading level0 row9\" >repaired</th>\n",
       "      <td id=\"T_83c53_row9_col0\" class=\"data row9 col0\" >19.000000</td>\n",
       "    </tr>\n",
       "    <tr>\n",
       "      <th id=\"T_83c53_level0_row10\" class=\"row_heading level0 row10\" >date_created</th>\n",
       "      <td id=\"T_83c53_row10_col0\" class=\"data row10 col0\" >0.000000</td>\n",
       "    </tr>\n",
       "  </tbody>\n",
       "</table>\n"
      ],
      "text/plain": [
       "<pandas.io.formats.style.Styler at 0x2b0e9572bb0>"
      ]
     },
     "execution_count": 26,
     "metadata": {},
     "output_type": "execute_result"
    }
   ],
   "source": [
    "pd.DataFrame(round(df.isna().mean()*100,)).style.background_gradient(axis=0)"
   ]
  },
  {
   "cell_type": "markdown",
   "id": "e200f04a",
   "metadata": {},
   "source": [
    "Пропуски по прежнему есть, особенно в признаке repaired\t- был автомобиль в ремонте или нет.\n",
    "\n",
    "Столбцы, требующие обработки:\n",
    "\n",
    "- VehicleType. \n",
    "- Gearbox.\n",
    "- Power. Скоректируем на основе реальных значений в машинах. Иметь 1 л.с. или 15000 л.с. для машины  нереально.\n",
    "- FuelType. \n",
    "- Repaired. \n",
    "- Model."
   ]
  },
  {
   "cell_type": "code",
   "execution_count": 27,
   "id": "4dc6a755",
   "metadata": {},
   "outputs": [
    {
     "data": {
      "text/html": [
       "<div>\n",
       "<style scoped>\n",
       "    .dataframe tbody tr th:only-of-type {\n",
       "        vertical-align: middle;\n",
       "    }\n",
       "\n",
       "    .dataframe tbody tr th {\n",
       "        vertical-align: top;\n",
       "    }\n",
       "\n",
       "    .dataframe thead th {\n",
       "        text-align: right;\n",
       "    }\n",
       "</style>\n",
       "<table border=\"1\" class=\"dataframe\">\n",
       "  <thead>\n",
       "    <tr style=\"text-align: right;\">\n",
       "      <th></th>\n",
       "      <th>brand</th>\n",
       "      <th>кол-во значений</th>\n",
       "    </tr>\n",
       "  </thead>\n",
       "  <tbody>\n",
       "    <tr>\n",
       "      <th>33</th>\n",
       "      <td>sonstige_autos</td>\n",
       "      <td>0</td>\n",
       "    </tr>\n",
       "    <tr>\n",
       "      <th>16</th>\n",
       "      <td>lada</td>\n",
       "      <td>180</td>\n",
       "    </tr>\n",
       "    <tr>\n",
       "      <th>37</th>\n",
       "      <td>trabant</td>\n",
       "      <td>356</td>\n",
       "    </tr>\n",
       "  </tbody>\n",
       "</table>\n",
       "</div>"
      ],
      "text/plain": [
       "             brand  кол-во значений\n",
       "33  sonstige_autos                0\n",
       "16            lada              180\n",
       "37         trabant              356"
      ]
     },
     "execution_count": 27,
     "metadata": {},
     "output_type": "execute_result"
    }
   ],
   "source": [
    "(\n",
    "    df.groupby('brand')['model']\n",
    "    .apply(lambda x: x.notnull().sum())\n",
    "    .reset_index(name='кол-во значений')\n",
    "    .sort_values('кол-во значений').head(3)\n",
    ")"
   ]
  },
  {
   "cell_type": "code",
   "execution_count": 28,
   "id": "f407a906",
   "metadata": {},
   "outputs": [],
   "source": [
    "#Удалим их, так как мы не знаем про них ни марку ни модель:\n",
    "\n",
    "df = df[df['brand'] != 'sonstige_autos']"
   ]
  },
  {
   "cell_type": "markdown",
   "id": "accfbb3e",
   "metadata": {},
   "source": [
    "заполним пропуски модой, но для бóльшей точности сгруппируем моду по бренду"
   ]
  },
  {
   "cell_type": "code",
   "execution_count": 29,
   "id": "d3078a26",
   "metadata": {},
   "outputs": [],
   "source": [
    "def fill_mode(group, column_name):\n",
    "    \"\"\"функция заполняет пропуски модой группы\"\"\"\n",
    "    \n",
    "    if group[column_name].notna().any():\n",
    "        mode = stats.mode(group[column_name].dropna())[0][0]\n",
    "        group[column_name].fillna(mode, inplace=True)\n",
    "    return group"
   ]
  },
  {
   "cell_type": "code",
   "execution_count": 30,
   "id": "1bd72f44",
   "metadata": {},
   "outputs": [],
   "source": [
    "grouped = df.groupby(['brand'])\n",
    "df = grouped.apply(fill_mode, column_name='model')"
   ]
  },
  {
   "cell_type": "markdown",
   "id": "076ad965",
   "metadata": {},
   "source": [
    "Посмотрим, много ли таких предложений, для которых отсутствует информация по всем трём признакам:"
   ]
  },
  {
   "cell_type": "code",
   "execution_count": 31,
   "id": "a829ff69",
   "metadata": {},
   "outputs": [
    {
     "data": {
      "text/plain": [
       "4907"
      ]
     },
     "execution_count": 31,
     "metadata": {},
     "output_type": "execute_result"
    }
   ],
   "source": [
    "df[(df['vehicle_type'].isnull()) & (df['gearbox'].isnull()) & (df['fuel_type'].isnull())].shape[0]\n"
   ]
  },
  {
   "cell_type": "markdown",
   "id": "aa4e51f7",
   "metadata": {},
   "source": [
    "Такие автопредложения слишком малоинформативны и, вариантов заполнить достоверным путем мне не предвидится возможным - удаляем."
   ]
  },
  {
   "cell_type": "code",
   "execution_count": 32,
   "id": "0a90331f",
   "metadata": {},
   "outputs": [],
   "source": [
    "df = df[~((df['vehicle_type'].isnull()) & (df['gearbox'].isnull()) & (df['fuel_type'].isnull()))]\n"
   ]
  },
  {
   "cell_type": "markdown",
   "id": "307589e9",
   "metadata": {},
   "source": [
    "Пропуски остались"
   ]
  },
  {
   "cell_type": "code",
   "execution_count": 33,
   "id": "2e55bd3f",
   "metadata": {},
   "outputs": [],
   "source": [
    "#Поступим с пропусками в них так же, как ранее поступали с пропусками моделей авто \n",
    "#- заполним модой по группировке признаков - brand и model\n",
    "\n",
    "\n",
    "for col_name in ['vehicle_type', 'gearbox', 'fuel_type']:\n",
    "    grouped = df.groupby(['brand', 'model'])\n",
    "    df = grouped.apply(fill_mode, column_name=col_name)\n",
    "    # один какой-то признак всё же остаётся, снесём его вручную\n",
    "    if df[df.vehicle_type.isna()].shape[0]:\n",
    "        df = df[~df.vehicle_type.isnull()]"
   ]
  },
  {
   "cell_type": "markdown",
   "id": "2a1fb9d8",
   "metadata": {},
   "source": [
    "### power - мощность (л. с.)\n",
    "Признак имеет слишком сильный разлёт значений. Посмотрим на минимальные и максимальные из них:"
   ]
  },
  {
   "cell_type": "code",
   "execution_count": 34,
   "id": "42349438",
   "metadata": {},
   "outputs": [
    {
     "data": {
      "text/plain": [
       "0        29821\n",
       "1           21\n",
       "2            8\n",
       "3            1\n",
       "4            6\n",
       "         ...  \n",
       "17932        1\n",
       "19208        1\n",
       "19211        1\n",
       "19312        1\n",
       "20000        1\n",
       "Name: power, Length: 690, dtype: int64"
      ]
     },
     "execution_count": 34,
     "metadata": {},
     "output_type": "execute_result"
    }
   ],
   "source": [
    "df['power'].value_counts().sort_index()"
   ]
  },
  {
   "cell_type": "markdown",
   "id": "7e817d06",
   "metadata": {},
   "source": [
    "Удалим аномалии"
   ]
  },
  {
   "cell_type": "code",
   "execution_count": 35,
   "id": "c31031f6",
   "metadata": {},
   "outputs": [
    {
     "data": {
      "text/plain": [
       "count    297838.000000\n",
       "mean        120.183237\n",
       "std          52.115689\n",
       "min          11.000000\n",
       "25%          75.000000\n",
       "50%         110.000000\n",
       "75%         150.000000\n",
       "max         400.000000\n",
       "Name: power, dtype: float64"
      ]
     },
     "execution_count": 35,
     "metadata": {},
     "output_type": "execute_result"
    },
    {
     "data": {
      "image/png": "[encoded data removed]",
      "text/plain": [
       "<Figure size 1200x900 with 1 Axes>"
      ]
     },
     "metadata": {},
     "output_type": "display_data"
    }
   ],
   "source": [
    "df = df.query('10 < power < 401')\n",
    "df['power'].hist(bins=100, figsize=(12,9))\n",
    "df['power'].describe()"
   ]
  },
  {
   "cell_type": "markdown",
   "id": "28be3c7f",
   "metadata": {},
   "source": [
    "<div class=\"alert alert-warning\">\n",
    "<b>Комментарий 👉</b>\n",
    "\n",
    "Это тоже верно. Да, низший и высший пороги мощности обсуждаемы, но для целей нашего учебного проекта достаточно того, что ты видишь проблему выбросов и необходимым способом её обрабатываешь.\n",
    "</div>"
   ]
  },
  {
   "cell_type": "code",
   "execution_count": 36,
   "id": "c36f681f",
   "metadata": {},
   "outputs": [
    {
     "data": {
      "text/plain": [
       "0.8404741949775516"
      ]
     },
     "execution_count": 36,
     "metadata": {},
     "output_type": "execute_result"
    }
   ],
   "source": [
    "df.shape[0]/df_shape_start "
   ]
  },
  {
   "cell_type": "markdown",
   "id": "27b56c80",
   "metadata": {},
   "source": [
    "### repaired - была машина в ремонте или нет\n",
    "Признак с огромным количеством пропусков и всего 2 значениями, посмотрим на него:\n"
   ]
  },
  {
   "cell_type": "code",
   "execution_count": 37,
   "id": "8a446dc8",
   "metadata": {},
   "outputs": [
    {
     "name": "stdout",
     "output_type": "stream",
     "text": [
      "пропусков 43896\n",
      "значения:\n",
      "no     224043\n",
      "yes     29899\n",
      "Name: repaired, dtype: int64\n"
     ]
    }
   ],
   "source": [
    "\n",
    "print(f\"пропусков {df['repaired'].isna().sum()}\\nзначения:\\n{df['repaired'].value_counts()}\")"
   ]
  },
  {
   "cell_type": "markdown",
   "id": "216e060a",
   "metadata": {},
   "source": [
    "признак бинарный. Эти пропуски могли появится по самой простой причине,многие пользователи при заполнении анкет просто не указывают этот параметр, так как он может существенно повлиять на конечную стоимость и скорость продажи автомобиля \n",
    "Посмотрим, сколько в % занимают анкеты в пропуском в repaired:\n"
   ]
  },
  {
   "cell_type": "code",
   "execution_count": 38,
   "id": "2776dca1",
   "metadata": {},
   "outputs": [
    {
     "data": {
      "text/plain": [
       "'14.74%'"
      ]
     },
     "execution_count": 38,
     "metadata": {},
     "output_type": "execute_result"
    }
   ],
   "source": [
    "f\"{(df['repaired'].isna().sum()  / df.shape[0]):.2%}\""
   ]
  },
  {
   "cell_type": "markdown",
   "id": "d5f8b380",
   "metadata": {},
   "source": [
    "14.74% - это много для удаления.\n",
    "Заполнять признак наугад не будем, но заполним его как третье значение - no_info:\n",
    "\n"
   ]
  },
  {
   "cell_type": "code",
   "execution_count": 39,
   "id": "1c68df63",
   "metadata": {},
   "outputs": [],
   "source": [
    "df['repaired'].fillna('no_info', inplace=True)"
   ]
  },
  {
   "cell_type": "code",
   "execution_count": 40,
   "id": "d9a94612",
   "metadata": {},
   "outputs": [
    {
     "data": {
      "text/html": [
       "<style type=\"text/css\">\n",
       "#T_23a52_row0_col0, #T_23a52_row1_col0, #T_23a52_row2_col0, #T_23a52_row3_col0, #T_23a52_row4_col0, #T_23a52_row5_col0, #T_23a52_row6_col0, #T_23a52_row7_col0, #T_23a52_row8_col0, #T_23a52_row9_col0, #T_23a52_row10_col0 {\n",
       "  background-color: #fff7fb;\n",
       "  color: #000000;\n",
       "}\n",
       "</style>\n",
       "<table id=\"T_23a52\">\n",
       "  <thead>\n",
       "    <tr>\n",
       "      <th class=\"blank level0\" >&nbsp;</th>\n",
       "      <th id=\"T_23a52_level0_col0\" class=\"col_heading level0 col0\" >0</th>\n",
       "    </tr>\n",
       "  </thead>\n",
       "  <tbody>\n",
       "    <tr>\n",
       "      <th id=\"T_23a52_level0_row0\" class=\"row_heading level0 row0\" >price</th>\n",
       "      <td id=\"T_23a52_row0_col0\" class=\"data row0 col0\" >0.000000</td>\n",
       "    </tr>\n",
       "    <tr>\n",
       "      <th id=\"T_23a52_level0_row1\" class=\"row_heading level0 row1\" >vehicle_type</th>\n",
       "      <td id=\"T_23a52_row1_col0\" class=\"data row1 col0\" >0.000000</td>\n",
       "    </tr>\n",
       "    <tr>\n",
       "      <th id=\"T_23a52_level0_row2\" class=\"row_heading level0 row2\" >registration_year</th>\n",
       "      <td id=\"T_23a52_row2_col0\" class=\"data row2 col0\" >0.000000</td>\n",
       "    </tr>\n",
       "    <tr>\n",
       "      <th id=\"T_23a52_level0_row3\" class=\"row_heading level0 row3\" >gearbox</th>\n",
       "      <td id=\"T_23a52_row3_col0\" class=\"data row3 col0\" >0.000000</td>\n",
       "    </tr>\n",
       "    <tr>\n",
       "      <th id=\"T_23a52_level0_row4\" class=\"row_heading level0 row4\" >power</th>\n",
       "      <td id=\"T_23a52_row4_col0\" class=\"data row4 col0\" >0.000000</td>\n",
       "    </tr>\n",
       "    <tr>\n",
       "      <th id=\"T_23a52_level0_row5\" class=\"row_heading level0 row5\" >model</th>\n",
       "      <td id=\"T_23a52_row5_col0\" class=\"data row5 col0\" >0.000000</td>\n",
       "    </tr>\n",
       "    <tr>\n",
       "      <th id=\"T_23a52_level0_row6\" class=\"row_heading level0 row6\" >kilometer</th>\n",
       "      <td id=\"T_23a52_row6_col0\" class=\"data row6 col0\" >0.000000</td>\n",
       "    </tr>\n",
       "    <tr>\n",
       "      <th id=\"T_23a52_level0_row7\" class=\"row_heading level0 row7\" >fuel_type</th>\n",
       "      <td id=\"T_23a52_row7_col0\" class=\"data row7 col0\" >0.000000</td>\n",
       "    </tr>\n",
       "    <tr>\n",
       "      <th id=\"T_23a52_level0_row8\" class=\"row_heading level0 row8\" >brand</th>\n",
       "      <td id=\"T_23a52_row8_col0\" class=\"data row8 col0\" >0.000000</td>\n",
       "    </tr>\n",
       "    <tr>\n",
       "      <th id=\"T_23a52_level0_row9\" class=\"row_heading level0 row9\" >repaired</th>\n",
       "      <td id=\"T_23a52_row9_col0\" class=\"data row9 col0\" >0.000000</td>\n",
       "    </tr>\n",
       "    <tr>\n",
       "      <th id=\"T_23a52_level0_row10\" class=\"row_heading level0 row10\" >date_created</th>\n",
       "      <td id=\"T_23a52_row10_col0\" class=\"data row10 col0\" >0.000000</td>\n",
       "    </tr>\n",
       "  </tbody>\n",
       "</table>\n"
      ],
      "text/plain": [
       "<pandas.io.formats.style.Styler at 0x2b0e8721040>"
      ]
     },
     "execution_count": 40,
     "metadata": {},
     "output_type": "execute_result"
    }
   ],
   "source": [
    "pd.DataFrame(round(df.isna().mean()*100,)).style.background_gradient(axis=0)"
   ]
  },
  {
   "cell_type": "markdown",
   "id": "ae17f8c3",
   "metadata": {},
   "source": [
    "### price — цена в евро\n",
    "Это целевая переменная, её будем предсказывать. Пропусков в ней нет, но как помним были нули"
   ]
  },
  {
   "cell_type": "code",
   "execution_count": 41,
   "id": "11c69d5a",
   "metadata": {},
   "outputs": [
    {
     "data": {
      "text/plain": [
       "0     6127\n",
       "1      614\n",
       "2        7\n",
       "3        4\n",
       "5        7\n",
       "9        4\n",
       "10      21\n",
       "11       1\n",
       "12       1\n",
       "13       2\n",
       "15       3\n",
       "16       1\n",
       "20       6\n",
       "24       1\n",
       "25       4\n",
       "26       1\n",
       "29       1\n",
       "30      11\n",
       "35       3\n",
       "38       1\n",
       "Name: price, dtype: int64"
      ]
     },
     "execution_count": 41,
     "metadata": {},
     "output_type": "execute_result"
    }
   ],
   "source": [
    "df['price'].value_counts().sort_index().head(20)"
   ]
  },
  {
   "cell_type": "markdown",
   "id": "59e36933",
   "metadata": {},
   "source": [
    "Очевидно что ни за 0 ни за 1 и ни за 38 евро автомобиль стоить не может."
   ]
  },
  {
   "cell_type": "markdown",
   "id": "fefa91a6",
   "metadata": {},
   "source": [
    "<div class=\"alert alert-success\">\n",
    "<b>ОТЛИЧНО! 👍</b>\n",
    "\n",
    "Молодец. Цена == 0 - это без комментариев.\n",
    "</div>"
   ]
  },
  {
   "cell_type": "markdown",
   "id": "b0cfe07f",
   "metadata": {},
   "source": [
    "Проверим, много ли у нас таких объявлений:"
   ]
  },
  {
   "cell_type": "code",
   "execution_count": 42,
   "id": "29a8b2f3",
   "metadata": {},
   "outputs": [
    {
     "name": "stdout",
     "output_type": "stream",
     "text": [
      "объявлений дешевле 100 евро 7236 шт., это 2.43%\n"
     ]
    }
   ],
   "source": [
    "print(f\"объявлений дешевле 100 евро {df[df['price'] < 100].shape[0]} шт., \"\n",
    "      f\"это {df[df['price'] < 100].shape[0]/df.shape[0]:.2%}\")"
   ]
  },
  {
   "cell_type": "markdown",
   "id": "11956156",
   "metadata": {},
   "source": [
    "Удалим подобные аномалии"
   ]
  },
  {
   "cell_type": "code",
   "execution_count": 43,
   "id": "9f0e0540",
   "metadata": {},
   "outputs": [],
   "source": [
    "df = df[df['price'] >= 100]"
   ]
  },
  {
   "cell_type": "markdown",
   "id": "3ab9ff23",
   "metadata": {},
   "source": [
    "<div class=\"alert alert-warning\">\n",
    "<b>Комментарий 👉</b>\n",
    "\n",
    "(Отвлечение ... что-то менять не надо) Мне это напомнило один известный фильм, где автомобиль за 500 долларов был способен доехать до Сан-Франциско и обратно ))))\n",
    "</div>"
   ]
  },
  {
   "cell_type": "markdown",
   "id": "326ace2f",
   "metadata": {},
   "source": [
    "И также удаляем год постановки на учёт registration_year, он нам помог с генерацией новых признаков и больше не нужен:"
   ]
  },
  {
   "cell_type": "code",
   "execution_count": 44,
   "id": "a3ea5160",
   "metadata": {},
   "outputs": [],
   "source": [
    "\n",
    "df.drop(columns='registration_year', axis=1, inplace=True)"
   ]
  },
  {
   "cell_type": "code",
   "execution_count": 45,
   "id": "41bd221a",
   "metadata": {},
   "outputs": [
    {
     "name": "stdout",
     "output_type": "stream",
     "text": [
      "<class 'pandas.core.frame.DataFrame'>\n",
      "Int64Index: 290602 entries, 1 to 354364\n",
      "Data columns (total 10 columns):\n",
      " #   Column        Non-Null Count   Dtype \n",
      "---  ------        --------------   ----- \n",
      " 0   price         290602 non-null  int64 \n",
      " 1   vehicle_type  290602 non-null  object\n",
      " 2   gearbox       290602 non-null  object\n",
      " 3   power         290602 non-null  int64 \n",
      " 4   model         290602 non-null  object\n",
      " 5   kilometer     290602 non-null  int64 \n",
      " 6   fuel_type     290602 non-null  object\n",
      " 7   brand         290602 non-null  object\n",
      " 8   repaired      290602 non-null  object\n",
      " 9   date_created  290602 non-null  object\n",
      "dtypes: int64(3), object(7)\n",
      "memory usage: 24.4+ MB\n",
      "None\n"
     ]
    },
    {
     "data": {
      "text/plain": [
       "'82.01%'"
      ]
     },
     "execution_count": 45,
     "metadata": {},
     "output_type": "execute_result"
    }
   ],
   "source": [
    "#Признаки разобрали, порверим теперь, сколько значений у нас осталось после удаления аномалий:\n",
    "\n",
    "print(df.info())\n",
    "f'{df.shape[0] / df_shape_start:.2%}'"
   ]
  },
  {
   "cell_type": "markdown",
   "id": "be56379b",
   "metadata": {},
   "source": [
    "### Подитог:\n",
    "От изначального размера датафрейма осталось 82%\n",
    "\n",
    "Данные проанализированы и подготовлены к обучению моделей"
   ]
  },
  {
   "cell_type": "markdown",
   "id": "0363517f",
   "metadata": {},
   "source": [
    "# 2  Обучение моделей"
   ]
  },
  {
   "cell_type": "markdown",
   "id": "2ff05b78",
   "metadata": {},
   "source": [
    "## Разделим и закодируем выборки"
   ]
  },
  {
   "cell_type": "code",
   "execution_count": 46,
   "id": "e633eea7",
   "metadata": {
    "scrolled": true
   },
   "outputs": [],
   "source": [
    "df.drop(columns='date_created', axis=1, inplace=True)"
   ]
  },
  {
   "cell_type": "code",
   "execution_count": 47,
   "id": "943e1b74",
   "metadata": {},
   "outputs": [],
   "source": [
    "df = df.reset_index(drop=True)"
   ]
  },
  {
   "cell_type": "code",
   "execution_count": 48,
   "id": "d09427d6",
   "metadata": {},
   "outputs": [
    {
     "data": {
      "text/plain": [
       "(290602, 9)"
      ]
     },
     "execution_count": 48,
     "metadata": {},
     "output_type": "execute_result"
    }
   ],
   "source": [
    "df.shape"
   ]
  },
  {
   "cell_type": "code",
   "execution_count": 49,
   "id": "af821d90",
   "metadata": {},
   "outputs": [
    {
     "data": {
      "text/plain": [
       "volkswagen       21.767572\n",
       "opel             11.006462\n",
       "bmw              11.006462\n",
       "mercedes_benz     9.234623\n",
       "audi              8.729465\n",
       "ford              7.007178\n",
       "renault           4.753236\n",
       "peugeot           3.216771\n",
       "fiat              2.568805\n",
       "seat              2.003083\n",
       "skoda             1.696134\n",
       "mazda             1.618709\n",
       "smart             1.537498\n",
       "citroen           1.439770\n",
       "nissan            1.382647\n",
       "toyota            1.375421\n",
       "hyundai           1.067095\n",
       "mini              1.014790\n",
       "volvo             0.952850\n",
       "mitsubishi        0.853057\n",
       "honda             0.807290\n",
       "kia               0.716788\n",
       "suzuki            0.669989\n",
       "alfa_romeo        0.660697\n",
       "chevrolet         0.474532\n",
       "chrysler          0.391601\n",
       "dacia             0.275291\n",
       "subaru            0.219200\n",
       "daihatsu          0.209565\n",
       "jeep              0.189262\n",
       "porsche           0.186853\n",
       "saab              0.161045\n",
       "land_rover        0.153475\n",
       "jaguar            0.143495\n",
       "daewoo            0.140054\n",
       "lancia            0.125257\n",
       "rover             0.123881\n",
       "trabant           0.071576\n",
       "lada              0.048520\n",
       "Name: brand, dtype: float64"
      ]
     },
     "execution_count": 49,
     "metadata": {},
     "output_type": "execute_result"
    }
   ],
   "source": [
    "df['brand'].value_counts()/290602*100"
   ]
  },
  {
   "cell_type": "code",
   "execution_count": 50,
   "id": "31c9ef1a",
   "metadata": {},
   "outputs": [
    {
     "data": {
      "text/plain": [
       "39"
      ]
     },
     "execution_count": 50,
     "metadata": {},
     "output_type": "execute_result"
    }
   ],
   "source": [
    "df['brand'].value_counts().count()"
   ]
  },
  {
   "cell_type": "markdown",
   "id": "37a0452c",
   "metadata": {},
   "source": [
    "Все что встречается реже 0,95% поместим в новый столбец и дадим наименование \"other\""
   ]
  },
  {
   "cell_type": "code",
   "execution_count": 51,
   "id": "30ab9b0e",
   "metadata": {},
   "outputs": [],
   "source": [
    "df['new_brand'] = ''\n",
    "for i in range(len(df)):\n",
    "    if df['brand'][i] == 'volkswagen':\n",
    "        df.loc[i, 'new_brand'] = 'volkswagen'\n",
    "    elif df['brand'][i] == 'opel':\n",
    "        df.loc[i, 'new_brand'] = 'opel'\n",
    "    elif df['brand'][i] == 'bmw':\n",
    "        df.loc[i, 'new_brand'] = 'bmw'\n",
    "    elif df['brand'][i] == 'mercedes_benz':\n",
    "        df.loc[i, 'new_brand'] = 'mercedes_benz'\n",
    "    elif df['brand'][i] == 'audi':\n",
    "        df.loc[i, 'new_brand'] = 'audi'\n",
    "    elif df['brand'][i] == 'ford':\n",
    "        df.loc[i, 'new_brand'] = 'ford'\n",
    "    elif df['brand'][i] == 'renault':\n",
    "        df.loc[i, 'new_brand'] = 'renault'\n",
    "    elif df['brand'][i] == 'peugeot':\n",
    "        df.loc[i, 'new_brand'] = 'peugeot'\n",
    "    elif df['brand'][i] == 'fiat':\n",
    "        df.loc[i, 'new_brand'] = 'fiat'\n",
    "    elif df['brand'][i] == 'seat':\n",
    "        df.loc[i, 'new_brand'] = 'seat'\n",
    "    elif df['brand'][i] == 'skoda':\n",
    "        df.loc[i, 'new_brand'] = 'skoda'\n",
    "    elif df['brand'][i] == 'mazda':\n",
    "        df.loc[i, 'new_brand'] = 'mazda'\n",
    "    elif df['brand'][i] == 'smart':\n",
    "        df.loc[i, 'new_brand'] = 'smart'\n",
    "    elif df['brand'][i] == 'citroen':\n",
    "        df.loc[i, 'new_brand'] = 'citroen'\n",
    "    elif df['brand'][i] == 'toyota':\n",
    "        df.loc[i, 'new_brand'] = 'toyota'    \n",
    "    elif df['brand'][i] == 'hyundai':\n",
    "        df.loc[i, 'new_brand'] = 'hyundai'\n",
    "    elif df['brand'][i] == 'mini':\n",
    "        df.loc[i, 'new_brand'] = 'mini'\n",
    "    elif df['brand'][i] == 'volvo':\n",
    "        df.loc[i, 'new_brand'] = 'volvo'\n",
    "    else:\n",
    "        df.loc[i, 'new_brand'] = 'other'"
   ]
  },
  {
   "cell_type": "code",
   "execution_count": 52,
   "id": "0c73cb1e",
   "metadata": {},
   "outputs": [
    {
     "data": {
      "text/plain": [
       "2.0526315789473686"
      ]
     },
     "execution_count": 52,
     "metadata": {},
     "output_type": "execute_result"
    }
   ],
   "source": [
    "df['brand'].value_counts().count()/df['new_brand'].value_counts().count()"
   ]
  },
  {
   "cell_type": "markdown",
   "id": "895ec3d1",
   "metadata": {},
   "source": [
    "**Результат:** Более чем в 2 раза сократили количество марок"
   ]
  },
  {
   "cell_type": "code",
   "execution_count": 53,
   "id": "2f5cb153",
   "metadata": {},
   "outputs": [
    {
     "data": {
      "text/plain": [
       "volkswagen       63257\n",
       "bmw              31985\n",
       "opel             31985\n",
       "mercedes_benz    26836\n",
       "audi             25368\n",
       "other            23260\n",
       "ford             20363\n",
       "renault          13813\n",
       "peugeot           9348\n",
       "fiat              7465\n",
       "seat              5821\n",
       "skoda             4929\n",
       "mazda             4704\n",
       "smart             4468\n",
       "citroen           4184\n",
       "toyota            3997\n",
       "hyundai           3101\n",
       "mini              2949\n",
       "volvo             2769\n",
       "Name: new_brand, dtype: int64"
      ]
     },
     "execution_count": 53,
     "metadata": {},
     "output_type": "execute_result"
    }
   ],
   "source": [
    "df['new_brand'].value_counts()"
   ]
  },
  {
   "cell_type": "markdown",
   "id": "8f5028af",
   "metadata": {},
   "source": [
    "Тоже самое проделаем с столбцом(признаком) model"
   ]
  },
  {
   "cell_type": "code",
   "execution_count": 54,
   "id": "f2aa9ca6",
   "metadata": {},
   "outputs": [],
   "source": [
    "pd.set_option('display.max_rows', None)"
   ]
  },
  {
   "cell_type": "code",
   "execution_count": 55,
   "id": "5b1a07c5",
   "metadata": {},
   "outputs": [
    {
     "data": {
      "text/plain": [
       "serie_2               0.000344\n",
       "rangerover            0.000688\n",
       "range_rover_evoque    0.000688\n",
       "kalina                0.001721\n",
       "samara                0.001721\n",
       "i3                    0.001721\n",
       "elefantino            0.002065\n",
       "gl                    0.004129\n",
       "amarok                0.004129\n",
       "kappa                 0.004473\n",
       "q3                    0.004473\n",
       "200                   0.005506\n",
       "materia               0.005850\n",
       "charade               0.006882\n",
       "musa                  0.007226\n",
       "9000                  0.007915\n",
       "b_max                 0.008603\n",
       "delta                 0.009291\n",
       "lodgy                 0.010323\n",
       "terios                0.011012\n",
       "145                   0.011700\n",
       "move                  0.012044\n",
       "croma                 0.012732\n",
       "lybra                 0.013420\n",
       "v60                   0.013420\n",
       "911                   0.013765\n",
       "nubira                0.017550\n",
       "range_rover_sport     0.017894\n",
       "crossfire             0.019614\n",
       "glk                   0.020303\n",
       "cx_reihe              0.020647\n",
       "defender              0.021335\n",
       "lanos                 0.021679\n",
       "range_rover           0.023400\n",
       "discovery             0.024088\n",
       "g_klasse              0.024776\n",
       "90                    0.026497\n",
       "kalos                 0.026497\n",
       "mii                   0.027873\n",
       "navara                0.028217\n",
       "citigo                0.030626\n",
       "wrangler              0.030626\n",
       "r19                   0.031658\n",
       "antara                0.032003\n",
       "m_reihe               0.032347\n",
       "q5                    0.032347\n",
       "juke                  0.032691\n",
       "kaefer                0.033723\n",
       "exeo                  0.033723\n",
       "900                   0.033723\n",
       "aveo                  0.035100\n",
       "outlander             0.036132\n",
       "mustang               0.036476\n",
       "niva                  0.036476\n",
       "s_type                0.038197\n",
       "note                  0.039229\n",
       "spark                 0.039573\n",
       "forester              0.039573\n",
       "justy                 0.039573\n",
       "6er                   0.040605\n",
       "300c                  0.041294\n",
       "sirion                0.041982\n",
       "cc                    0.042670\n",
       "v_klasse              0.042670\n",
       "rx_reihe              0.043014\n",
       "cherokee              0.045079\n",
       "legacy                0.047832\n",
       "s60                   0.048864\n",
       "x_type                0.049208\n",
       "spider                0.052649\n",
       "captiva               0.053682\n",
       "calibra               0.054370\n",
       "kadett                0.056090\n",
       "roadster              0.057123\n",
       "yeti                  0.058843\n",
       "850                   0.060220\n",
       "phaeton               0.060220\n",
       "lancer                0.060908\n",
       "pajero                0.061596\n",
       "x_trail               0.062629\n",
       "c_reihe               0.062973\n",
       "ypsilon               0.063661\n",
       "q7                    0.063661\n",
       "duster                0.064693\n",
       "jimny                 0.064693\n",
       "freelander            0.065726\n",
       "cayenne               0.065726\n",
       "clubman               0.065726\n",
       "cl                    0.066414\n",
       "601                   0.066758\n",
       "159                   0.067446\n",
       "boxster               0.070543\n",
       "galant                0.071231\n",
       "impreza               0.072264\n",
       "auris                 0.072264\n",
       "carnival              0.073296\n",
       "tucson                0.073640\n",
       "viano                 0.076049\n",
       "sportage              0.077425\n",
       "ceed                  0.080867\n",
       "v50                   0.082931\n",
       "roomster              0.085684\n",
       "bravo                 0.087061\n",
       "voyager               0.087061\n",
       "ptcruiser             0.087405\n",
       "xc_reihe              0.089125\n",
       "fusion                0.091534\n",
       "modus                 0.091878\n",
       "sandero               0.092222\n",
       "vivaro                0.092566\n",
       "toledo                0.092566\n",
       "doblo                 0.093943\n",
       "jazz                  0.094287\n",
       "verso                 0.097384\n",
       "santa                 0.098416\n",
       "jetta                 0.100137\n",
       "cuore                 0.100825\n",
       "logan                 0.101169\n",
       "rio                   0.101858\n",
       "sorento               0.104266\n",
       "sl                    0.104610\n",
       "kuga                  0.104955\n",
       "cr_reihe              0.105299\n",
       "accord                0.105643\n",
       "rav                   0.107707\n",
       "cordoba               0.108052\n",
       "ducato                0.109084\n",
       "alhambra              0.109084\n",
       "a2                    0.109772\n",
       "picanto               0.111149\n",
       "carisma               0.112869\n",
       "altea                 0.113901\n",
       "c2                    0.113901\n",
       "forfour               0.114590\n",
       "combo                 0.115278\n",
       "up                    0.115278\n",
       "agila                 0.116310\n",
       "getz                  0.117343\n",
       "100                   0.118375\n",
       "superb                0.119063\n",
       "c1                    0.119751\n",
       "matiz                 0.126634\n",
       "aygo                  0.128010\n",
       "5_reihe               0.136269\n",
       "c4                    0.137989\n",
       "s_max                 0.143151\n",
       "c5                    0.149001\n",
       "signum                0.150377\n",
       "c3                    0.151754\n",
       "a8                    0.153475\n",
       "espace                0.158292\n",
       "almera                0.162077\n",
       "stilo                 0.166551\n",
       "qashqai               0.169992\n",
       "eos                   0.170336\n",
       "seicento              0.170336\n",
       "primera               0.170680\n",
       "147                   0.171368\n",
       "touareg               0.173433\n",
       "a5                    0.176186\n",
       "avensis               0.180315\n",
       "grand                 0.182724\n",
       "scirocco              0.183756\n",
       "4_reihe               0.190983\n",
       "panda                 0.194768\n",
       "a1                    0.195800\n",
       "v70                   0.196833\n",
       "corolla               0.197521\n",
       "transit               0.203715\n",
       "sprinter              0.203715\n",
       "swift                 0.206468\n",
       "insignia              0.207844\n",
       "156                   0.208877\n",
       "c_max                 0.209909\n",
       "tiguan                0.214383\n",
       "fox                   0.221953\n",
       "s_klasse              0.228147\n",
       "tigra                 0.228835\n",
       "escort                0.230900\n",
       "z_reihe               0.235029\n",
       "berlingo              0.235029\n",
       "v40                   0.240191\n",
       "kangoo                0.242256\n",
       "arosa                 0.242600\n",
       "vito                  0.251203\n",
       "beetle                0.252923\n",
       "bora                  0.266000\n",
       "b_klasse              0.266000\n",
       "500                   0.267032\n",
       "one                   0.284582\n",
       "colt                  0.286990\n",
       "m_klasse              0.294561\n",
       "7er                   0.295593\n",
       "meriva                0.320025\n",
       "mx_reihe              0.321746\n",
       "galaxy                0.325187\n",
       "tt                    0.344457\n",
       "yaris                 0.347210\n",
       "1_reihe               0.374051\n",
       "laguna                0.382310\n",
       "scenic                0.387472\n",
       "slk                   0.388848\n",
       "omega                 0.398827\n",
       "sharan                0.404333\n",
       "leon                  0.410527\n",
       "civic                 0.413280\n",
       "80                    0.433583\n",
       "i_reihe               0.438744\n",
       "6_reihe               0.449068\n",
       "caddy                 0.452509\n",
       "x_reihe               0.490017\n",
       "micra                 0.511008\n",
       "clk                   0.555055\n",
       "cooper                0.641427\n",
       "fabia                 0.647965\n",
       "octavia               0.687882\n",
       "ka                    0.694421\n",
       "lupo                  0.731585\n",
       "megane                0.810043\n",
       "ibiza                 0.843766\n",
       "zafira                0.855810\n",
       "clio                  0.969711\n",
       "punto                 0.983132\n",
       "touran                1.003090\n",
       "3_reihe               1.027178\n",
       "mondeo                1.033716\n",
       "1er                   1.133853\n",
       "a_klasse              1.174459\n",
       "vectra                1.187879\n",
       "fortwo                1.349612\n",
       "transporter           1.390218\n",
       "twingo                1.406047\n",
       "fiesta                1.635226\n",
       "2_reihe               1.672046\n",
       "a6                    1.695446\n",
       "a3                    1.800745\n",
       "focus                 1.926002\n",
       "e_klasse              2.018568\n",
       "5er                   2.430816\n",
       "c_klasse              2.730195\n",
       "passat                3.011335\n",
       "astra                 3.106654\n",
       "a4                    3.261161\n",
       "polo                  3.642095\n",
       "corsa                 3.811398\n",
       "3er                   6.321360\n",
       "other                 6.732920\n",
       "golf                  9.119689\n",
       "Name: model, dtype: float64"
      ]
     },
     "execution_count": 55,
     "metadata": {},
     "output_type": "execute_result"
    }
   ],
   "source": [
    "df['model'].value_counts(ascending=True)/290602*100\n"
   ]
  },
  {
   "cell_type": "markdown",
   "id": "6d7bc372",
   "metadata": {},
   "source": [
    "Все что встречается реже 0,95% поместим в новый столбец и дадим наименование \"other_model\""
   ]
  },
  {
   "cell_type": "code",
   "execution_count": 56,
   "id": "85621576",
   "metadata": {},
   "outputs": [],
   "source": [
    "df['new_model'] = ''\n",
    "for i in range(len(df)):\n",
    "    if df['model'][i] == 'golf':\n",
    "        df.loc[i, 'new_model'] = 'golf'\n",
    "    elif df['model'][i] == 'other':\n",
    "        df.loc[i, 'new_model'] = 'other'\n",
    "    elif df['model'][i] == '3er':\n",
    "        df.loc[i, 'new_model'] = '3er'\n",
    "    elif df['model'][i] == 'corsa':\n",
    "        df.loc[i, 'new_model'] = 'corsa'\n",
    "    elif df['model'][i] == 'polo':\n",
    "        df.loc[i, 'new_model'] = 'polo'\n",
    "    elif df['model'][i] == 'a4':\n",
    "        df.loc[i, 'new_model'] = 'a4'\n",
    "    elif df['model'][i] == 'astra':\n",
    "        df.loc[i, 'new_model'] = 'astra'\n",
    "    elif df['model'][i] == 'passat':\n",
    "        df.loc[i, 'new_model'] = 'passat'\n",
    "    elif df['model'][i] == 'c_klasse':\n",
    "        df.loc[i, 'new_model'] = 'c_klasse'\n",
    "    elif df['model'][i] == '5er':\n",
    "        df.loc[i, 'new_model'] = '5er'\n",
    "    elif df['model'][i] == 'e_klasse':\n",
    "        df.loc[i, 'new_model'] = 'e_klasse'\n",
    "    elif df['model'][i] == 'focus':\n",
    "        df.loc[i, 'new_model'] = 'focus'\n",
    "    elif df['model'][i] == 'a3':\n",
    "        df.loc[i, 'new_model'] = 'a3'\n",
    "    elif df['model'][i] == 'a6':\n",
    "        df.loc[i, 'new_model'] = 'a6'\n",
    "    elif df['model'][i] == '2_reihe':\n",
    "        df.loc[i, 'new_model'] = '2_reihe'   \n",
    "    elif df['model'][i] == 'fiesta':\n",
    "        df.loc[i, 'new_model'] = 'fiesta'\n",
    "    elif df['model'][i] == 'twingo':\n",
    "        df.loc[i, 'new_model'] = 'twingo'\n",
    "    elif df['model'][i] == 'transporter':\n",
    "        df.loc[i, 'new_model'] = 'transporter'\n",
    "    elif df['model'][i] == 'fortwo':\n",
    "        df.loc[i, 'new_model'] = 'fortwo'\n",
    "    elif df['model'][i] == 'a_klasse':\n",
    "        df.loc[i, 'new_model'] = 'a_klasse'\n",
    "    elif df['model'][i] == 'vectra':\n",
    "        df.loc[i, 'new_model'] = 'vectra'\n",
    "    elif df['model'][i] == '1er':\n",
    "        df.loc[i, 'new_model'] = '1er'\n",
    "    elif df['model'][i] == 'mondeo':\n",
    "        df.loc[i, 'new_model'] = 'mondeo'\n",
    "    elif df['model'][i] == '3_reihe':\n",
    "        df.loc[i, 'new_model'] = '3_reihe'\n",
    "    elif df['model'][i] == 'touran':\n",
    "        df.loc[i, 'new_model'] = 'touran'\n",
    "    elif df['model'][i] == 'punto':\n",
    "        df.loc[i, 'new_model'] = 'punto'\n",
    "    elif df['model'][i] == 'clio':\n",
    "        df.loc[i, 'new_model'] = 'clio'\n",
    "    else:\n",
    "        df.loc[i, 'new_model'] = 'other_model'"
   ]
  },
  {
   "cell_type": "code",
   "execution_count": 57,
   "id": "77666b7e",
   "metadata": {},
   "outputs": [
    {
     "data": {
      "text/plain": [
       "8.857142857142858"
      ]
     },
     "execution_count": 57,
     "metadata": {},
     "output_type": "execute_result"
    }
   ],
   "source": [
    "df['model'].value_counts().count()/df['new_model'].value_counts().count()"
   ]
  },
  {
   "cell_type": "markdown",
   "id": "4ec82cd9",
   "metadata": {},
   "source": [
    "**Результат:** В 8,85 раза сократили количество моделей"
   ]
  },
  {
   "cell_type": "code",
   "execution_count": 58,
   "id": "17891809",
   "metadata": {},
   "outputs": [],
   "source": [
    "df.drop(columns='model', axis=1, inplace=True)\n",
    "df.drop(columns='brand', axis=1, inplace=True)"
   ]
  },
  {
   "cell_type": "code",
   "execution_count": 59,
   "id": "22a5df82",
   "metadata": {},
   "outputs": [],
   "source": [
    "features = df.drop('price', axis=1)\n",
    "target = df['price']\n"
   ]
  },
  {
   "cell_type": "code",
   "execution_count": 60,
   "id": "d5069ab0",
   "metadata": {},
   "outputs": [],
   "source": [
    "# Определение списка категориальных признаков\n",
    "cat_columns = [\"vehicle_type\", \"gearbox\",'new_brand','new_model',\"fuel_type\", \"repaired\"]\n",
    "\n",
    "# Определение списка числовых признаков\n",
    "num_columns = [\"power\", \"kilometer\"]"
   ]
  },
  {
   "cell_type": "code",
   "execution_count": 61,
   "id": "d85f3514",
   "metadata": {},
   "outputs": [],
   "source": [
    "X_train, X_test, y_train, y_test = train_test_split(features, target,\\\n",
    "                                           test_size=0.25, random_state=12345)"
   ]
  },
  {
   "cell_type": "code",
   "execution_count": 62,
   "id": "6c8f538d",
   "metadata": {},
   "outputs": [],
   "source": [
    "X_train_standard = X_train.copy()\n",
    "\n",
    "#кодирование Применяем One Hot Encoding\n",
    "encoder_ohe = OneHotEncoder(drop ='first', handle_unknown='ignore', sparse=False)\n",
    "\n",
    "encoder_ohe.fit(X_train_standard[cat_columns])\n",
    "\n",
    "X_train_standard[encoder_ohe.get_feature_names()] = encoder_ohe.transform(X_train_standard[cat_columns])\n",
    "\n",
    "X_train_standard = X_train_standard.drop(cat_columns, axis=1) # удаляем старые столбцы которые мы размножили"
   ]
  },
  {
   "cell_type": "markdown",
   "id": "9eb037af",
   "metadata": {},
   "source": [
    "<div style=\"background: #B0E0E6; padding: 5px; border: 1px solid SteelBlue; border-radius: 5px;\">\n",
    "    <font color='4682B4'><u><b>КОММЕНТАРИЙ СТУДЕНТА</b></u></font>\n",
    "    <br />\n",
    "    <font color='4682B4'>Сократил количество столбцов/признаков с 303 до 63. Явно ускорилась модель LGBMRegressor и CatBoost. </font>\n",
    "</div>"
   ]
  },
  {
   "cell_type": "code",
   "execution_count": 63,
   "id": "fa4f69d0",
   "metadata": {},
   "outputs": [],
   "source": [
    "# теперь стандартизация для числовых признаков:\n",
    "\n",
    "scaler = StandardScaler()\n",
    "X_train_standard[num_columns] = scaler.fit_transform(X_train_standard[num_columns])\n"
   ]
  },
  {
   "cell_type": "code",
   "execution_count": 64,
   "id": "a9b0c80b",
   "metadata": {},
   "outputs": [],
   "source": [
    "# а вот так по обученным на трейне трансформерам трансформируетмя тестовая выборка\n",
    "X_test_standard = X_test.copy() # копия икс теста\n",
    "\n",
    "# преобразовываем категориальные\n",
    "X_test_standard[encoder_ohe.get_feature_names()] = encoder_ohe.transform(X_test_standard[cat_columns]) \n",
    "# удаляем всякое старьё\n",
    "X_test_standard = X_test_standard.drop(cat_columns, axis=1)\n",
    "# преобразовывает числовые\n",
    "X_test_standard[num_columns] = scaler.transform(X_test_standard[num_columns])"
   ]
  },
  {
   "cell_type": "markdown",
   "id": "e6aefb13",
   "metadata": {},
   "source": [
    "### Вернемся к значениям до стандартизации и кодировки и применим только кодирвоание "
   ]
  },
  {
   "cell_type": "code",
   "execution_count": 65,
   "id": "20118bf0",
   "metadata": {},
   "outputs": [],
   "source": [
    "# теперь стандартизация для числовых признаков:\n",
    "\n",
    "features_no_standart = X_train.copy()\n",
    "\n",
    "encoder_ohe2 = OneHotEncoder(drop ='first', handle_unknown='ignore', sparse=False)\n",
    "\n",
    "encoder_ohe2.fit(features_no_standart[cat_columns])\n",
    "\n",
    "features_no_standart[encoder_ohe2.get_feature_names()] = encoder_ohe2.transform(features_no_standart[cat_columns])\n",
    "\n",
    "X_train_no_standart = features_no_standart.drop(cat_columns, axis=1)"
   ]
  },
  {
   "cell_type": "code",
   "execution_count": 66,
   "id": "ac499da1",
   "metadata": {},
   "outputs": [],
   "source": [
    "# и для теста:\n",
    "X_test_no_standart = X_test.copy()\n",
    "\n",
    "X_test_no_standart[encoder_ohe2.get_feature_names()] = encoder_ohe2.transform(\n",
    "    X_test_no_standart[cat_columns]\n",
    ") \n",
    "X_test_no_standart = X_test_no_standart.drop(cat_columns, axis=1)"
   ]
  },
  {
   "cell_type": "code",
   "execution_count": 67,
   "id": "3a543116",
   "metadata": {},
   "outputs": [
    {
     "name": "stdout",
     "output_type": "stream",
     "text": [
      "X_train_standard.shape=(217951, 63)\n",
      "X_train_no_standart.shape=(217951, 63)\n",
      "y_train.shape=(217951,)\n",
      "X_test_standard.shape=(72651, 63)\n",
      "X_test_no_standart.shape=(72651, 63)\n",
      "y_test.shape=(72651,)\n"
     ]
    }
   ],
   "source": [
    "# проверим полученные размера данных\n",
    "print(f'{X_train_standard.shape=}\\n{X_train_no_standart.shape=}\\n{y_train.shape=}\\n'\n",
    "      f'{X_test_standard.shape=}\\n{X_test_no_standart.shape=}\\n{y_test.shape=}')"
   ]
  },
  {
   "cell_type": "markdown",
   "id": "17b0f886",
   "metadata": {},
   "source": [
    "### Linear Regression"
   ]
  },
  {
   "cell_type": "code",
   "execution_count": 68,
   "id": "4bd60e34",
   "metadata": {},
   "outputs": [
    {
     "name": "stdout",
     "output_type": "stream",
     "text": [
      "Wall time: 2.49 s\n"
     ]
    },
    {
     "data": {
      "text/plain": [
       "2888.9308278620133"
      ]
     },
     "execution_count": 68,
     "metadata": {},
     "output_type": "execute_result"
    }
   ],
   "source": [
    "%%time\n",
    "linear_model = LinearRegression()\n",
    "scores = cross_val_score(linear_model,\n",
    "                         X_train_standard,\n",
    "                         y_train,\n",
    "                         scoring='neg_mean_squared_error',\n",
    "                         n_jobs=-1,\n",
    "                         cv=2)\n",
    "rmse_scores = np.sqrt(-scores)\n",
    "RMSE = abs(scores.mean()) ** 0.5 \n",
    "RMSE"
   ]
  },
  {
   "cell_type": "code",
   "execution_count": 69,
   "id": "044190bc",
   "metadata": {},
   "outputs": [
    {
     "name": "stdout",
     "output_type": "stream",
     "text": [
      "Wall time: 400 ms\n"
     ]
    },
    {
     "data": {
      "text/plain": [
       "LinearRegression()"
      ]
     },
     "execution_count": 69,
     "metadata": {},
     "output_type": "execute_result"
    }
   ],
   "source": [
    "%%time\n",
    "linear_model.fit(X_train_standard, y_train)"
   ]
  },
  {
   "cell_type": "code",
   "execution_count": 70,
   "id": "027c1be8",
   "metadata": {},
   "outputs": [
    {
     "name": "stdout",
     "output_type": "stream",
     "text": [
      "Wall time: 49 ms\n"
     ]
    }
   ],
   "source": [
    "%%time\n",
    "preds_linear_model = linear_model.predict(X_test_standard)"
   ]
  },
  {
   "cell_type": "code",
   "execution_count": 71,
   "id": "0594d945",
   "metadata": {},
   "outputs": [
    {
     "name": "stdout",
     "output_type": "stream",
     "text": [
      "RMSE для линейной модели на тестовой выборке: 2902.52\n"
     ]
    }
   ],
   "source": [
    "mse_lmodel = mean_squared_error(y_test, preds_linear_model)\n",
    "print(\"RMSE для линейной модели на тестовой выборке:\", round((mse_lmodel) ** 0.5, 2))"
   ]
  },
  {
   "cell_type": "markdown",
   "id": "c74d0f05",
   "metadata": {},
   "source": [
    "### Гридсерч и кет буст!"
   ]
  },
  {
   "cell_type": "code",
   "execution_count": 72,
   "id": "53707250",
   "metadata": {},
   "outputs": [],
   "source": [
    "model = CatBoostRegressor(cat_features=cat_columns, random_state=12345, verbose=False)\n",
    "\n",
    "\n",
    "param_grid = {\n",
    "#     'learning_rate': [0.01, 0.05, 0.1],\n",
    "#     'depth': [4, 6, 8],\n",
    "#     'l2_leaf_reg': [0.1, 1, 10],\n",
    "#     'bagging_temperature': [0, 1, 5],\n",
    "#     'random_strength': [0, 1, 5]\n",
    "}\n",
    "grid = GridSearchCV(model, param_grid=param_grid, cv=2, scoring='neg_mean_squared_error', n_jobs=-1)\n",
    "\n",
    "search = grid.fit(X_train, y_train) \n",
    "\n",
    "#теперь в search.best_params_ будут лежать лучшие подобранные параметры.\n",
    "#Можно пересоздать модель с ними, распаковав их через две звёздочки:\n",
    "\n",
    "model = CatBoostRegressor(**search.best_params_, cat_features=cat_columns, random_state=12345, verbose=False)"
   ]
  },
  {
   "cell_type": "code",
   "execution_count": 73,
   "id": "33552e24",
   "metadata": {},
   "outputs": [
    {
     "name": "stdout",
     "output_type": "stream",
     "text": [
      "Wall time: 1min 13s\n"
     ]
    },
    {
     "data": {
      "text/plain": [
       "<catboost.core.CatBoostRegressor at 0x2b0e912de80>"
      ]
     },
     "execution_count": 73,
     "metadata": {},
     "output_type": "execute_result"
    }
   ],
   "source": [
    "%%time\n",
    "model.fit(X_train, y_train)"
   ]
  },
  {
   "cell_type": "code",
   "execution_count": 74,
   "id": "0bc19261",
   "metadata": {},
   "outputs": [
    {
     "name": "stdout",
     "output_type": "stream",
     "text": [
      "Wall time: 173 ms\n"
     ]
    },
    {
     "data": {
      "text/plain": [
       "array([ 913.49317   , 3458.51824366, 5685.11260088, ..., 2700.27252098,\n",
       "       9111.29652972, 2346.14882435])"
      ]
     },
     "execution_count": 74,
     "metadata": {},
     "output_type": "execute_result"
    }
   ],
   "source": [
    "%%time\n",
    "catboost_predict = model.predict(X_test)\n",
    "catboost_predict"
   ]
  },
  {
   "cell_type": "code",
   "execution_count": 75,
   "id": "c38eb58f",
   "metadata": {},
   "outputs": [
    {
     "name": "stdout",
     "output_type": "stream",
     "text": [
      "RMSE для CatBoostRegressor модели на тренировочной выборке: 2162.55\n"
     ]
    }
   ],
   "source": [
    "mse_catmodel = mean_squared_error(y_test, catboost_predict)\n",
    "print(\"RMSE для CatBoostRegressor модели на тренировочной выборке:\", round((mse_catmodel) ** 0.5, 2))"
   ]
  },
  {
   "cell_type": "markdown",
   "id": "85874cfd",
   "metadata": {},
   "source": [
    "_____"
   ]
  },
  {
   "cell_type": "markdown",
   "id": "2e581eef",
   "metadata": {},
   "source": [
    "## 2.4 Регрессия LGBMRegressor"
   ]
  },
  {
   "cell_type": "code",
   "execution_count": 76,
   "id": "89508a47",
   "metadata": {},
   "outputs": [
    {
     "name": "stdout",
     "output_type": "stream",
     "text": [
      "[LightGBM] [Warning] Unknown parameter: cat_features\n",
      "Wall time: 974 ms\n"
     ]
    },
    {
     "data": {
      "text/plain": [
       "LGBMRegressor(cat_features=['vehicle_type', 'gearbox', 'new_brand', 'new_model',\n",
       "                            'fuel_type', 'repaired'],\n",
       "              num_leaves=100, random_state=12345)"
      ]
     },
     "execution_count": 76,
     "metadata": {},
     "output_type": "execute_result"
    }
   ],
   "source": [
    "%%time\n",
    "\n",
    "lgbmmodel = LGBMRegressor(learning_rate=0.1, \n",
    "                      num_leaves=100, \n",
    "                      random_state=12345,\n",
    "                      cat_features=cat_columns)\n",
    "lgbmmodel.fit(X_train_no_standart, y_train)"
   ]
  },
  {
   "cell_type": "code",
   "execution_count": 77,
   "id": "0eb07b7b",
   "metadata": {},
   "outputs": [
    {
     "name": "stdout",
     "output_type": "stream",
     "text": [
      "Лучшие параметры: {'learning_rate': 1, 'max_depth': 7, 'n_estimators': 70}\n",
      "Лучшая оценка: -4893718.467914572\n"
     ]
    }
   ],
   "source": [
    "lgbmmodel_i = LGBMRegressor(learning_rate=0.1, \n",
    "                      num_leaves=100, \n",
    "                      random_state=12345\n",
    "                      )\n",
    "\n",
    "\n",
    "param_grid = {\n",
    "    'learning_rate': [0.01, 0.1, 1],\n",
    "    'n_estimators': [10, 30, 70],\n",
    "    'max_depth': [3, 5, 7]\n",
    "}\n",
    "\n",
    "grid_search = GridSearchCV(lgbmmodel_i, param_grid=param_grid, cv=2, scoring='neg_mean_squared_error')\n",
    "\n",
    "search_i = grid_search.fit(X_train_no_standart, y_train) \n",
    "\n",
    "#теперь в search.best_params_ будут лежать лучшие подобранные параметры.\n",
    "#Можно пересоздать модель с ними, распаковав их через две звёздочки:\n",
    "\n",
    "lgbmmodel_i = LGBMRegressor(**search_i.best_params_, random_state=12345, verbose=1)\n",
    "\n",
    "# Вывод результатов\n",
    "print(\"Лучшие параметры:\", search_i.best_params_)\n",
    "print(\"Лучшая оценка:\", search_i.best_score_)"
   ]
  },
  {
   "cell_type": "code",
   "execution_count": 78,
   "id": "1d701a98",
   "metadata": {},
   "outputs": [
    {
     "name": "stdout",
     "output_type": "stream",
     "text": [
      "[LightGBM] [Warning] Accuracy may be bad since you didn't explicitly set num_leaves OR 2^max_depth > num_leaves. (num_leaves=31).\n",
      "[LightGBM] [Warning] Accuracy may be bad since you didn't explicitly set num_leaves OR 2^max_depth > num_leaves. (num_leaves=31).\n",
      "[LightGBM] [Warning] Auto-choosing row-wise multi-threading, the overhead of testing was 0.006397 seconds.\n",
      "You can set `force_row_wise=true` to remove the overhead.\n",
      "And if memory is not enough, you can set `force_col_wise=true`.\n",
      "[LightGBM] [Info] Total Bins 344\n",
      "[LightGBM] [Info] Number of data points in the train set: 217951, number of used features: 63\n",
      "[LightGBM] [Info] Start training from score 4832.677620\n",
      "Wall time: 702 ms\n"
     ]
    }
   ],
   "source": [
    "%%time\n",
    "lgbmmodel_i.fit(X_train_no_standart, y_train)\n",
    "\n",
    "lgbm_predict2 = lgbmmodel_i.predict(X_test_no_standart)"
   ]
  },
  {
   "cell_type": "markdown",
   "id": "a25eab8c",
   "metadata": {},
   "source": [
    "<div class=\"alert alert-success\">\n",
    "<b>ОТЛИЧНО! 👍</b>\n",
    "\n",
    "А здесь 3ю разновидность, только закодированную. А в чем смысл разных выборок (я не про лин. рег - с ней мне всё ясно)?\n",
    "</div>"
   ]
  },
  {
   "cell_type": "code",
   "execution_count": 79,
   "id": "6d6468d2",
   "metadata": {},
   "outputs": [
    {
     "name": "stdout",
     "output_type": "stream",
     "text": [
      "RMSE для LGBMRegressor модели на тестовой выборке: 2170.38\n"
     ]
    }
   ],
   "source": [
    "mse_lgbmmodel2 = mean_squared_error(y_test, lgbm_predict2)\n",
    "print(\"RMSE для LGBMRegressor модели на тестовой выборке:\", round((mse_lgbmmodel2) ** 0.5, 2))"
   ]
  },
  {
   "cell_type": "code",
   "execution_count": 80,
   "id": "39a253c7",
   "metadata": {},
   "outputs": [
    {
     "name": "stdout",
     "output_type": "stream",
     "text": [
      "Wall time: 164 ms\n"
     ]
    }
   ],
   "source": [
    "%%time\n",
    "\n",
    "lgbm_predict = lgbmmodel.predict(X_test_no_standart)"
   ]
  },
  {
   "cell_type": "code",
   "execution_count": 81,
   "id": "d92bbc57",
   "metadata": {},
   "outputs": [
    {
     "name": "stdout",
     "output_type": "stream",
     "text": [
      "RMSE для LGBMRegressor модели на тестовой выборке: 2164.76\n"
     ]
    }
   ],
   "source": [
    "mse_lgbmmodel = mean_squared_error(y_test, lgbm_predict)\n",
    "print(\"RMSE для LGBMRegressor модели на тестовой выборке:\", round((mse_lgbmmodel) ** 0.5, 2))"
   ]
  },
  {
   "cell_type": "markdown",
   "id": "e35e11ff",
   "metadata": {},
   "source": [
    "### Проведены измерения:\n",
    "\n",
    "- времени обучения по всем моделям\n",
    "- времени предсказания по всем моделям\n",
    "- качества предсказания по метрике RMSE для всех моделей\n",
    "\n",
    "Перейдем к анализуи выберем лучшую модель."
   ]
  },
  {
   "cell_type": "markdown",
   "id": "9896fb4a",
   "metadata": {},
   "source": [
    "# 3  Анализ моделей"
   ]
  },
  {
   "cell_type": "code",
   "execution_count": 85,
   "id": "bdb06d90",
   "metadata": {},
   "outputs": [],
   "source": [
    "df = [[\"2.49 s\", \"49 ms\",2902.52],\n",
    "        [\"1.13 min \", \"173 ms\", 2162.55],\n",
    "        [\"857 ms\", \"164 ms\", 2164.76]]\n",
    "model = [\"Linear Regression\", \"CatBoostRegressor\", \"LGBMRegressor\"]"
   ]
  },
  {
   "cell_type": "code",
   "execution_count": 86,
   "id": "800e0679",
   "metadata": {},
   "outputs": [
    {
     "data": {
      "text/html": [
       "<div>\n",
       "<style scoped>\n",
       "    .dataframe tbody tr th:only-of-type {\n",
       "        vertical-align: middle;\n",
       "    }\n",
       "\n",
       "    .dataframe tbody tr th {\n",
       "        vertical-align: top;\n",
       "    }\n",
       "\n",
       "    .dataframe thead th {\n",
       "        text-align: right;\n",
       "    }\n",
       "</style>\n",
       "<table border=\"1\" class=\"dataframe\">\n",
       "  <thead>\n",
       "    <tr style=\"text-align: right;\">\n",
       "      <th></th>\n",
       "      <th>fit_time</th>\n",
       "      <th>predict_time</th>\n",
       "      <th>RMSE</th>\n",
       "    </tr>\n",
       "  </thead>\n",
       "  <tbody>\n",
       "    <tr>\n",
       "      <th>Linear Regression</th>\n",
       "      <td>2.49 s</td>\n",
       "      <td>49 ms</td>\n",
       "      <td>2902.52</td>\n",
       "    </tr>\n",
       "    <tr>\n",
       "      <th>CatBoostRegressor</th>\n",
       "      <td>1.13 min</td>\n",
       "      <td>173 ms</td>\n",
       "      <td>2162.55</td>\n",
       "    </tr>\n",
       "    <tr>\n",
       "      <th>LGBMRegressor</th>\n",
       "      <td>857 ms</td>\n",
       "      <td>164 ms</td>\n",
       "      <td>2164.76</td>\n",
       "    </tr>\n",
       "  </tbody>\n",
       "</table>\n",
       "</div>"
      ],
      "text/plain": [
       "                    fit_time predict_time     RMSE\n",
       "Linear Regression     2.49 s        49 ms  2902.52\n",
       "CatBoostRegressor  1.13 min        173 ms  2162.55\n",
       "LGBMRegressor         857 ms       164 ms  2164.76"
      ]
     },
     "execution_count": 86,
     "metadata": {},
     "output_type": "execute_result"
    }
   ],
   "source": [
    "pd.DataFrame(data=df, index=model, columns=[\"fit_time\", \"predict_time\", \"RMSE\"])"
   ]
  },
  {
   "cell_type": "markdown",
   "id": "ba96617b",
   "metadata": {},
   "source": [
    "### ВЫВОД"
   ]
  },
  {
   "cell_type": "markdown",
   "id": "28c90f40",
   "metadata": {},
   "source": [
    "Определяющими факторами при выборе модели в данной работе являются следующие показатели:\n",
    "\n",
    "- Время обучения\n",
    "\n",
    "- Время предсказания\n",
    "\n",
    "- Качество предсказаний\n",
    "\n",
    "Качество Linear Regression нам не подходит, не смотря на быструю работу - она составила выше 2500.\n",
    "\n",
    "LightGBM обучается в разы быстрее и при этом по качество RMSE уступает всего на 0,1%, что незначительно.\n",
    "\n",
    "Основываясь на этом, лучше всего подойдет модель построенная на LightGBM\n",
    "\n",
    "\t                   fit_time   predict_time\t     RMSE\n",
    "       LGBMRegressor\t857 ms\t     164 ms\t        2164.7"
   ]
  }
 ],
 "metadata": {
  "kernelspec": {
   "display_name": "Python 3 (ipykernel)",
   "language": "python",
   "name": "python3"
  },
  "language_info": {
   "codemirror_mode": {
    "name": "ipython",
    "version": 3
   },
   "file_extension": ".py",
   "mimetype": "text/x-python",
   "name": "python",
   "nbconvert_exporter": "python",
   "pygments_lexer": "ipython3",
   "version": "3.9.13"
  },
  "toc": {
   "base_numbering": 1,
   "nav_menu": {},
   "number_sections": true,
   "sideBar": true,
   "skip_h1_title": true,
   "title_cell": "Table of Contents",
   "title_sidebar": "Contents",
   "toc_cell": true,
   "toc_position": {},
   "toc_section_display": true,
   "toc_window_display": false
  }
 },
 "nbformat": 4,
 "nbformat_minor": 5
}
